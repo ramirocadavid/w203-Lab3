{
 "cells": [
  {
   "attachments": {},
   "cell_type": "markdown",
   "metadata": {},
   "source": [
    "# Policy Recommendation for Reducing Crime Rate in North Carolina\n",
    "\n",
    "Addressed to the North Carolina Governor Campaign"
   ]
  },
  {
   "cell_type": "markdown",
   "metadata": {},
   "source": [
    "## 1.0 Introduction"
   ]
  },
  {
   "cell_type": "markdown",
   "metadata": {},
   "source": [
    "In order to define our policy recommendation for reducing the crime rate in North Carolina, we ask the following research question: Is the likelihood of arrest and conviction without incarceration associated with the crime rate in North Carolina? Although serious felonies like murder, rape, and armed robbery would still require incarcerations, we are interested in addressing possible overincarceration of less serious crimes like first offense drug possessions and minor theft. \n",
    "\n",
    "With this question, we aim to understand potential policies that could result in both a decrease in crime rate and better allocation of resources for criminal justice policy. On average, incarceration costs the state of North Carolina on average \\\\$36,219 per inmate per year, whereas prison alternatives like probation or parole supervision cost less than \\$5,000 per year<sup>1</sup>. \n",
    "\n",
    "Answering our research question provides context for whether you should focus your policies to:\n",
    "* find more criminals by increasing likelihood for arrest and conviction, or\n",
    "* be tougher on criminals by increasing likelihood for prison\n",
    "\n",
    "In this report, we present the analysis to show that the likelihood of arrests and convictions are associated with lower crime rate, while the likelihood of incarcerations is less associated. Our analysis suggests that using the money saved from reduced incarceration of less serious crimes to fund pilot programs to improve criminal justice processing procedures could be beneficial for reducing crime rate in North Carolina.\n"
   ]
  },
  {
   "attachments": {},
   "cell_type": "markdown",
   "metadata": {},
   "source": [
    "## 5.0 Omitted Variable Bias\n",
    "\n",
    "There are many reasons why a person might commit a crime. It could be because that person cannot find a job but still needs to provide for his/her family, has a drug addiction or mental instability, or did not have a good role model growing up. Though it can be difficult to pinpoint the underlying motivation, there are several factors that are not included in the dataset that could influence the inclination of committing a crime and bias our results. \n",
    "\n",
    "We will discuss some of the omitted variables and how it might over or underestimate the relationships between probability of arrest and conviction with crime rate. To do this, we first write the equation for our base model with the omitted variable $omitvar$, as denoted below:\n",
    "\n",
    "$$\n",
    "crmrte = \\beta_0 + \\beta_1 prbarr + \\beta_2 prbconv + \\beta_3 prbpris + \\beta_4 omitvar + u \n",
    "$$\n",
    "\n",
    "We also write the individual regession equations for the omitted variable on each of the regressors of our base model $prbarr$, $prbconv$, and $prbpris$:\n",
    "\n",
    "$$\n",
    "omitvar = \\gamma_{0 \\ prbarr} + \\gamma_{1 \\ prbarr} \\cdot prbarr + w_{prbarr} \\\\\n",
    "omitvar = \\gamma_{0 \\ prbconv} + \\gamma_{1 \\ prbconv} \\cdot prbconv + w_{prbconv} \\\\\n",
    "omitvar = \\gamma_{0 \\ prbpris} + \\gamma_{1 \\ prbpris} \\cdot prbpris + w_{prbpris} \\\\\n",
    "$$\n",
    "\n",
    "For each omitted variable, we identify the signs of $\\beta_1$, $\\beta_2$, $\\beta_3$, $\\beta_4$, and $\\gamma_1$. The direction of bias is determined by multiplying the signs of $\\beta_4$ and $\\gamma_1$. The bias with respect to zero is determined by the signs of the respective slope coefficient $\\beta_1$, $\\beta_2$, or $\\beta_3$ with the direction of bias. A bias towards zero indicates an underestimation of the associated slope coefficient $\\beta_1$, $\\beta_2$, or $\\beta_3$, while a bias away from zero indicates an overestimation."
   ]
  },
  {
   "cell_type": "markdown",
   "metadata": {},
   "source": [
    "**Education**\n",
    "\n",
    "We expect crime rate to be negatively correlated with education. As the population of the county becomes more educated, they are more likely to understand the consequences of their actions. In addition, they will have more opportunities to pursue, reducing their likelihood to commit a crime. As such, we also expect that the probability of arrests, conviction, and prison in these more educated counties to decrease.\n",
    "\n",
    "| Regressor | $\\beta_1$ | $\\beta_2$ | $\\beta_3$ | $\\beta_4$ | $\\gamma_1$ | Direction of bias | Bias wrt zero  |\n",
    "| :-------: | :-------: |:---------:|:---------:|:---------:|:----------:| :----------------:|:--------------:|\n",
    "|  prbarr   | negative  |   -       |    -      | negative  |  negative  |      positive     | towards zero   |\n",
    "|  prbconv  |   -       | negative  |    -      | negative  |  negative  |      positive     | towards zero   |\n",
    "|  prbpris  |   -       |   -       | positive  | negative  |  negative  |      positive     | away from zero |"
   ]
  },
  {
   "cell_type": "markdown",
   "metadata": {},
   "source": [
    "**Unemployment**\n",
    "\n",
    "We expect unemployment to be positively correlated with crime rate. As more people in a given population are unemployed, these people may be unable to support themselves and their families. With no income and more time on their hands, these people may be more likely to commit a crime. Based on this, we would expect the probability of arrest,  conviction, and prison to also increase in areas with increased unemployment. \n",
    "\n",
    "| Regressor | $\\beta_1$ | $\\beta_2$ | $\\beta_3$ | $\\beta_4$ | $\\gamma_1$ | Direction of bias | Bias wrt zero  |\n",
    "| :-------: | :-------: |:---------:|:---------:|:---------:|:----------:| :----------------:|:--------------:|\n",
    "|  prbarr   | negative  |   -       |    -      | positive  |  positive  |      positive     | towards zero   |\n",
    "|  prbconv  |   -       | negative  |    -      | positive  |  positive  |      positive     | towards zero   |\n",
    "|  prbpris  |   -       |   -       | positive  | positive  |  positive  |      positive     | away from zero |"
   ]
  },
  {
   "cell_type": "markdown",
   "metadata": {},
   "source": [
    "**Racial diversity**\n",
    "\n",
    "We expect that higher levels of racial diversity would result in a reduction in crime rate, probability of arrest, and probability of conviction. Racially diverse areas provide different perspectives to members of the community, improving understanding and empathy. With a more cohesive community, crimes committed among the population would decrease. In addition, the probability of arrest, conviction, and prison would also be reduced in these areas. A proxy for racial diversity could be the percent minority measured in 1980 (pctmin80). A higher percent minority could indicate that there is higher racial diversity. \n",
    "\n",
    "| Regressor | $\\beta_1$ | $\\beta_2$ | $\\beta_3$ | $\\beta_4$ | $\\gamma_1$ | Direction of bias | Bias wrt zero  |\n",
    "| :-------: | :-------: |:---------:|:---------:|:---------:|:----------:| :----------------:|:--------------:|\n",
    "|  prbarr   | negative  |   -       |    -      | negative  |  negative  |      positive     | towards zero   |\n",
    "|  prbconv  |   -       | negative  |    -      | negative  |  negative  |      positive     | towards zero   |\n",
    "|  prbpris  |   -       |   -       | positive  | negative  |  negative  |      positive     | away from zero |"
   ]
  },
  {
   "cell_type": "markdown",
   "metadata": {},
   "source": [
    "**Youth programs**\n",
    "\n",
    "We expect youth programs such as Big Brothers Big Sisters and Boys and Girls Club of America to reduce the likelihood of crime rate and the probability of arrests, conviction, and prison. Youths that may grow up in a troubled household or neighborhood may need a good role model which these programs help provide to reduce their inclination to commit crimes when they become adults. \n",
    "\n",
    "| Regressor | $\\beta_1$ | $\\beta_2$ | $\\beta_3$ | $\\beta_4$ | $\\gamma_1$ | Direction of bias | Bias wrt zero  |\n",
    "| :-------: | :-------: |:---------:|:---------:|:---------:|:----------:| :----------------:|:--------------:|\n",
    "|  prbarr   | negative  |   -       |    -      | negative  |  negative  |      positive     | towards zero   |\n",
    "|  prbconv  |   -       | negative  |    -      | negative  |  negative  |      positive     | towards zero   |\n",
    "|  prbpris  |   -       |   -       | positive  | negative  |  negative  |      positive     | away from zero |"
   ]
  },
  {
   "cell_type": "markdown",
   "metadata": {},
   "source": [
    "**Drug use**\n",
    "\n",
    "We expect that areas with increased drug use would have an elevated crime rate. Greater drug use leads to increases in drug-related crimes, including theft. Drug use may influence members of a population to behave irrationally, increasing the likelihood of committing a crime, especially to support a drug addiction. Based on the increase in crime rate, we also expect that areas with increased drug use would have increased probability of arrest, conviction, and prison for that population.\n",
    "\n",
    "| Regressor | $\\beta_1$ | $\\beta_2$ | $\\beta_3$ | $\\beta_4$ | $\\gamma_1$ | Direction of bias | Bias wrt zero  |\n",
    "| :-------: | :-------: |:---------:|:---------:|:---------:|:----------:| :----------------:|:--------------:|\n",
    "|  prbarr   | negative  |   -       |    -      | positive  |  positive  |      positive     | towards zero   |\n",
    "|  prbconv  |   -       | negative  |    -      | positive  |  positive  |      positive     | towards zero   |\n",
    "|  prbpris  |   -       |   -       | positive  | positive  |  positive  |      positive     | away from zero |"
   ]
  },
  {
   "cell_type": "markdown",
   "metadata": {},
   "source": [
    "**Severity of crimes**\n",
    "\n",
    "We expect that areas with higher crime severity would also have a higher crime rate. More serious crimes would require more law enforcement resources, leading to fewer resources to discourage minor crimes. This would result in increased levels of less serious crime. Areas with higher crime severity will also have higher probability of arrest and conviction for people who commit crimes. We expect that these areas are subject to more stringent policing and monitoring. A proxy for severity of crimes could be average sentence (avgsen), as counties with a ratio of more severe crimes would have a higher average sentence. However, avgsen may be limited as a proxy since the mean for the variable is quite low and may not be sufficient to capture severity of crimes.\n",
    "\n",
    "| Regressor | $\\beta_1$ | $\\beta_2$ | $\\beta_3$ | $\\beta_4$ | $\\gamma_1$ | Direction of bias | Bias wrt zero  |\n",
    "| :-------: | :-------: |:---------:|:---------:|:---------:|:----------:| :----------------:|:--------------:|\n",
    "|  prbarr   | negative  |   -       |    -      | positive  |  positive  |      positive     | towards zero   |\n",
    "|  prbconv  |   -       | negative  |    -      | positive  |  positive  |      positive     | towards zero   |\n",
    "|  prbpris  |   -       |   -       | positive  | positive  |  positive  |      positive     | away from zero |"
   ]
  },
  {
   "cell_type": "markdown",
   "metadata": {},
   "source": [
    "All of the omitted variables that we have identified seem to influence potential bias in similar manner. The slope coefficients of the probability of arrest and convicitions on crime rate are underestimated, while the slope coefficient of the probability of prison on crime rate is overestimated. This supports our key findings that there is a real association of probability of arrest and conviction with crime rate, and our estimations for these are conservative. The overestimation of the slope coefficient for probability of prison also does not contradict our findings, as we show that the probability of prison is less associated with crime rate, and that small association that we have estimated may actually be even smaller."
   ]
  },
  {
   "cell_type": "markdown",
   "metadata": {},
   "source": [
    "## 6.0 Conclusion\n",
    "\n",
    "In light of the fact that we cannot define a causal relationship between these variables, we recommend that you establish pilot programs in some counties that attempt to test some of these observations. If retrospective analyses indicate that the programs appear to have reduced crime rates (especially in comparison with similar counties that are not executing a similar pilot), then you can launch these initiatives statewide. Specifically, we recommend that you campaign on pilot policy prescriptions that are designed to \n",
    "\n",
    "(i) increase arrest rates, \n",
    "\n",
    "(ii) increase conviction rates, and \n",
    "\n",
    "(iii) offer alternatives to prison for offenders. \n",
    "\n",
    "For example, you might consider increasing funding to process evidence (e.g., rape kits, DNA tests) to crack cold cases and increase arrests, adding more prosecutorial staff to process more cases, or altering sentencing guidelines to disfavor prison (in some instances such as drug abuse in which rehabilitation may be more effective). "
   ]
  },
  {
   "attachments": {},
   "cell_type": "markdown",
   "metadata": {},
   "source": [
    "## 7.0 References\n",
    "\n",
    "1. https://www.ncdps.gov/adult-corrections/cost-of-corrections"
   ]
  },
  {
   "cell_type": "code",
   "execution_count": null,
   "metadata": {},
   "outputs": [],
   "source": []
  }
 ],
 "metadata": {
  "kernelspec": {
   "display_name": "R",
   "language": "R",
   "name": "ir"
  },
  "language_info": {
   "codemirror_mode": "r",
   "file_extension": ".r",
   "mimetype": "text/x-r-source",
   "name": "R",
   "pygments_lexer": "r",
   "version": "3.5.1"
  }
 },
 "nbformat": 4,
 "nbformat_minor": 2
}
