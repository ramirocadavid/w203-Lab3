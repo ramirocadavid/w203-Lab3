{
 "cells": [
  {
   "cell_type": "markdown",
   "metadata": {},
   "source": [
    "# Lab 3 Draft Report: How Are Increasing Incarceration Rates Associated with Crime Rate?\n",
    "\n",
    "Katie Mo, Errett Hobbs, and Ramiro Cadavid"
   ]
  },
  {
   "cell_type": "markdown",
   "metadata": {},
   "source": [
    "## (1) Introduction"
   ]
  },
  {
   "cell_type": "markdown",
   "metadata": {},
   "source": [
    "It's easy for candidates to support the idea of throwing criminals into prison to appear tough on crime; however, do available data support this position? Is incarceration associated with crime rate in North Carolina? If yes, then how so? To investigate these questions, we constructed a model that predicts crime rate ($crmrte$) as a function of the probability of getting arrested ($prbarr$), the probability of becoming convicted after arrest ($prbconv$), and the probability of becoming incarcerated upon conviction ($prbpris$). \n",
    "\n",
    "Incarceration is very costly; if it is not associated with lower crime rates, then the state of North Carolina should explore less costly alternatives. On average, incarceration costs the state of North Carolina \\\\$36,219 per inmate per year, whereas prison alternatives like probation or parole supervision cost less than \\$5,000 per year<sup>1</sup>. The number of people imprisoned in America has increased from roughly 500,000 to over 2.2 million, more than four fold, between 1980 to 2015<sup>2</sup>.  \n",
    "\n",
    "Our analysis indicates that the likelihood of arrests and convictions are both associated with lower crime rate, while the likelihood of incarcerations does not show any strong association. These findings suggest that using the money saved from reduced incarceration of less serious crimes to fund pilot programs to improve criminal justice processing procedures could be beneficial for reducing crime rate in North Carolina."
   ]
  },
  {
   "cell_type": "markdown",
   "metadata": {},
   "source": [
    "## (2) Exploratory Data Analysis"
   ]
  },
  {
   "cell_type": "markdown",
   "metadata": {},
   "source": [
    "### Data cleaning and univariate analysis"
   ]
  },
  {
   "attachments": {},
   "cell_type": "markdown",
   "metadata": {},
   "source": [
    "We analyzed a dataset of crime statistics in North Carolina where all the variables are from 1987, except percent minority, that is from 1980. From the 97 rows in the dataset, six were empty and two were duplicated. Consequently, our final dataset contained 90 rows (counties) spread across 25 colums (variables)."
   ]
  },
  {
   "cell_type": "code",
   "execution_count": 5,
   "metadata": {},
   "outputs": [
    {
     "data": {
      "text/html": [
       "'Number of unique counties: 91'"
      ],
      "text/latex": [
       "'Number of unique counties: 91'"
      ],
      "text/markdown": [
       "'Number of unique counties: 91'"
      ],
      "text/plain": [
       "[1] \"Number of unique counties: 91\""
      ]
     },
     "metadata": {},
     "output_type": "display_data"
    }
   ],
   "source": [
    "# Import libraries and dataset\n",
    "suppressMessages(library(stargazer))\n",
    "suppressMessages(library(dplyr))\n",
    "suppressMessages(library(corrplot))\n",
    "suppressMessages(library(car))\n",
    "suppressMessages(library(Hmisc))\n",
    "suppressMessages(library(fBasics))\n",
    "crime <- read.csv('crime_v2.csv')\n",
    "\n",
    "paste(\"Number of unique counties:\", length(unique(crime$county)))"
   ]
  },
  {
   "cell_type": "code",
   "execution_count": 5,
   "metadata": {
    "collapsed": true
   },
   "outputs": [
    {
     "data": {
      "text/html": [
       "'Structure of dataset'"
      ],
      "text/latex": [
       "'Structure of dataset'"
      ],
      "text/markdown": [
       "'Structure of dataset'"
      ],
      "text/plain": [
       "[1] \"Structure of dataset\""
      ]
     },
     "metadata": {},
     "output_type": "display_data"
    },
    {
     "name": "stdout",
     "output_type": "stream",
     "text": [
      "'data.frame':\t97 obs. of  25 variables:\n",
      " $ county  : int  1 3 5 7 9 11 13 15 17 19 ...\n",
      " $ year    : int  87 87 87 87 87 87 87 87 87 87 ...\n",
      " $ crmrte  : num  0.0356 0.0153 0.013 0.0268 0.0106 ...\n",
      " $ prbarr  : num  0.298 0.132 0.444 0.365 0.518 ...\n",
      " $ prbconv : Factor w/ 92 levels \"\",\"`\",\"0.068376102\",..: 63 89 13 62 52 3 59 78 42 86 ...\n",
      " $ prbpris : num  0.436 0.45 0.6 0.435 0.443 ...\n",
      " $ avgsen  : num  6.71 6.35 6.76 7.14 8.22 ...\n",
      " $ polpc   : num  0.001828 0.000746 0.001234 0.00153 0.00086 ...\n",
      " $ density : num  2.423 1.046 0.413 0.492 0.547 ...\n",
      " $ taxpc   : num  31 26.9 34.8 42.9 28.1 ...\n",
      " $ west    : int  0 0 1 0 1 1 0 0 0 0 ...\n",
      " $ central : int  1 1 0 1 0 0 0 0 0 0 ...\n",
      " $ urban   : int  0 0 0 0 0 0 0 0 0 0 ...\n",
      " $ pctmin80: num  20.22 7.92 3.16 47.92 1.8 ...\n",
      " $ wcon    : num  281 255 227 375 292 ...\n",
      " $ wtuc    : num  409 376 372 398 377 ...\n",
      " $ wtrd    : num  221 196 229 191 207 ...\n",
      " $ wfir    : num  453 259 306 281 289 ...\n",
      " $ wser    : num  274 192 210 257 215 ...\n",
      " $ wmfg    : num  335 300 238 282 291 ...\n",
      " $ wfed    : num  478 410 359 412 377 ...\n",
      " $ wsta    : num  292 363 332 328 367 ...\n",
      " $ wloc    : num  312 301 281 299 343 ...\n",
      " $ mix     : num  0.0802 0.0302 0.4651 0.2736 0.0601 ...\n",
      " $ pctymle : num  0.0779 0.0826 0.0721 0.0735 0.0707 ...\n"
     ]
    }
   ],
   "source": [
    "paste(\"Structure of dataset\")\n",
    "str(crime)"
   ]
  },
  {
   "cell_type": "code",
   "execution_count": 6,
   "metadata": {
    "collapsed": true
   },
   "outputs": [
    {
     "data": {
      "text/html": [
       "'Summary statistics of variables in dataset'"
      ],
      "text/latex": [
       "'Summary statistics of variables in dataset'"
      ],
      "text/markdown": [
       "'Summary statistics of variables in dataset'"
      ],
      "text/plain": [
       "[1] \"Summary statistics of variables in dataset\""
      ]
     },
     "metadata": {},
     "output_type": "display_data"
    },
    {
     "data": {
      "text/plain": [
       "     county           year        crmrte             prbarr       \n",
       " Min.   :  1.0   Min.   :87   Min.   :0.005533   Min.   :0.09277  \n",
       " 1st Qu.: 52.0   1st Qu.:87   1st Qu.:0.020927   1st Qu.:0.20568  \n",
       " Median :105.0   Median :87   Median :0.029986   Median :0.27095  \n",
       " Mean   :101.6   Mean   :87   Mean   :0.033400   Mean   :0.29492  \n",
       " 3rd Qu.:152.0   3rd Qu.:87   3rd Qu.:0.039642   3rd Qu.:0.34438  \n",
       " Max.   :197.0   Max.   :87   Max.   :0.098966   Max.   :1.09091  \n",
       " NA's   :6       NA's   :6    NA's   :6          NA's   :6        \n",
       "        prbconv      prbpris           avgsen           polpc         \n",
       "            : 5   Min.   :0.1500   Min.   : 5.380   Min.   :0.000746  \n",
       " 0.588859022: 2   1st Qu.:0.3648   1st Qu.: 7.340   1st Qu.:0.001231  \n",
       " `          : 1   Median :0.4234   Median : 9.100   Median :0.001485  \n",
       " 0.068376102: 1   Mean   :0.4108   Mean   : 9.647   Mean   :0.001702  \n",
       " 0.140350997: 1   3rd Qu.:0.4568   3rd Qu.:11.420   3rd Qu.:0.001877  \n",
       " 0.154451996: 1   Max.   :0.6000   Max.   :20.700   Max.   :0.009054  \n",
       " (Other)    :86   NA's   :6        NA's   :6        NA's   :6         \n",
       "    density            taxpc             west           central      \n",
       " Min.   :0.00002   Min.   : 25.69   Min.   :0.0000   Min.   :0.0000  \n",
       " 1st Qu.:0.54741   1st Qu.: 30.66   1st Qu.:0.0000   1st Qu.:0.0000  \n",
       " Median :0.96226   Median : 34.87   Median :0.0000   Median :0.0000  \n",
       " Mean   :1.42884   Mean   : 38.06   Mean   :0.2527   Mean   :0.3736  \n",
       " 3rd Qu.:1.56824   3rd Qu.: 40.95   3rd Qu.:0.5000   3rd Qu.:1.0000  \n",
       " Max.   :8.82765   Max.   :119.76   Max.   :1.0000   Max.   :1.0000  \n",
       " NA's   :6         NA's   :6        NA's   :6        NA's   :6       \n",
       "     urban            pctmin80           wcon            wtuc      \n",
       " Min.   :0.00000   Min.   : 1.284   Min.   :193.6   Min.   :187.6  \n",
       " 1st Qu.:0.00000   1st Qu.: 9.845   1st Qu.:250.8   1st Qu.:374.6  \n",
       " Median :0.00000   Median :24.312   Median :281.4   Median :406.5  \n",
       " Mean   :0.08791   Mean   :25.495   Mean   :285.4   Mean   :411.7  \n",
       " 3rd Qu.:0.00000   3rd Qu.:38.142   3rd Qu.:314.8   3rd Qu.:443.4  \n",
       " Max.   :1.00000   Max.   :64.348   Max.   :436.8   Max.   :613.2  \n",
       " NA's   :6         NA's   :6        NA's   :6       NA's   :6      \n",
       "      wtrd            wfir            wser             wmfg      \n",
       " Min.   :154.2   Min.   :170.9   Min.   : 133.0   Min.   :157.4  \n",
       " 1st Qu.:190.9   1st Qu.:286.5   1st Qu.: 229.7   1st Qu.:288.9  \n",
       " Median :203.0   Median :317.3   Median : 253.2   Median :320.2  \n",
       " Mean   :211.6   Mean   :322.1   Mean   : 275.6   Mean   :335.6  \n",
       " 3rd Qu.:225.1   3rd Qu.:345.4   3rd Qu.: 280.5   3rd Qu.:359.6  \n",
       " Max.   :354.7   Max.   :509.5   Max.   :2177.1   Max.   :646.9  \n",
       " NA's   :6       NA's   :6       NA's   :6        NA's   :6      \n",
       "      wfed            wsta            wloc            mix         \n",
       " Min.   :326.1   Min.   :258.3   Min.   :239.2   Min.   :0.01961  \n",
       " 1st Qu.:400.2   1st Qu.:329.3   1st Qu.:297.3   1st Qu.:0.08074  \n",
       " Median :449.8   Median :357.7   Median :308.1   Median :0.10186  \n",
       " Mean   :442.9   Mean   :357.5   Mean   :312.7   Mean   :0.12884  \n",
       " 3rd Qu.:478.0   3rd Qu.:382.6   3rd Qu.:329.2   3rd Qu.:0.15175  \n",
       " Max.   :598.0   Max.   :499.6   Max.   :388.1   Max.   :0.46512  \n",
       " NA's   :6       NA's   :6       NA's   :6       NA's   :6        \n",
       "    pctymle       \n",
       " Min.   :0.06216  \n",
       " 1st Qu.:0.07443  \n",
       " Median :0.07771  \n",
       " Mean   :0.08396  \n",
       " 3rd Qu.:0.08350  \n",
       " Max.   :0.24871  \n",
       " NA's   :6        "
      ]
     },
     "metadata": {},
     "output_type": "display_data"
    }
   ],
   "source": [
    "paste(\"Summary statistics of variables in dataset\")\n",
    "summary(crime)"
   ]
  },
  {
   "cell_type": "code",
   "execution_count": 8,
   "metadata": {},
   "outputs": [],
   "source": [
    "# Remove empty cases\n",
    "clean <- crime[complete.cases(crime), ]"
   ]
  },
  {
   "cell_type": "markdown",
   "metadata": {},
   "source": [
    "A deeper exploration of the variables available revealed possible errors and particular features in the distribution of these variables that may be useful to better model the relationships of interest to the campaign, that are exposed below."
   ]
  },
  {
   "cell_type": "markdown",
   "metadata": {},
   "source": [
    "#### Variables of interest"
   ]
  },
  {
   "cell_type": "markdown",
   "metadata": {},
   "source": [
    "Throughout the exploratory analysis we looked at both level and transformed forms of our variables of interest (crime rate, probability of arrest, probability of conviction and probability of prison). However, throughout this and the modeling phases, we decided to include the log-transformed forms of our variables of interest for reasons that will be exposed throughout this report -mainly, because an elasticity interpretation of the models' results is both intuitive and helpful to compare counties with different crime rates."
   ]
  },
  {
   "cell_type": "markdown",
   "metadata": {},
   "source": [
    "##### County\n",
    "\n",
    "We found two observations with the same `county` value (county 193). Upon closer inspection, we found that both observations contain the exact same data. Consequently, we removed one of these duplicate observations."
   ]
  },
  {
   "cell_type": "code",
   "execution_count": 9,
   "metadata": {},
   "outputs": [
    {
     "data": {
      "text/html": [
       "'Unique county identifier: FALSE'"
      ],
      "text/latex": [
       "'Unique county identifier: FALSE'"
      ],
      "text/markdown": [
       "'Unique county identifier: FALSE'"
      ],
      "text/plain": [
       "[1] \"Unique county identifier: FALSE\""
      ]
     },
     "metadata": {},
     "output_type": "display_data"
    },
    {
     "data": {
      "text/html": [
       "'Duplicated county id: 193'"
      ],
      "text/latex": [
       "'Duplicated county id: 193'"
      ],
      "text/markdown": [
       "'Duplicated county id: 193'"
      ],
      "text/plain": [
       "[1] \"Duplicated county id: 193\""
      ]
     },
     "metadata": {},
     "output_type": "display_data"
    },
    {
     "data": {
      "text/html": [
       "<table>\n",
       "<thead><tr><th></th><th scope=col>county</th><th scope=col>year</th><th scope=col>crmrte</th><th scope=col>prbarr</th><th scope=col>prbconv</th><th scope=col>prbpris</th><th scope=col>avgsen</th><th scope=col>polpc</th><th scope=col>density</th><th scope=col>taxpc</th><th scope=col>...</th><th scope=col>wtuc</th><th scope=col>wtrd</th><th scope=col>wfir</th><th scope=col>wser</th><th scope=col>wmfg</th><th scope=col>wfed</th><th scope=col>wsta</th><th scope=col>wloc</th><th scope=col>mix</th><th scope=col>pctymle</th></tr></thead>\n",
       "<tbody>\n",
       "\t<tr><th scope=row>88</th><td>193        </td><td>87         </td><td>0.0235277  </td><td>0.266055   </td><td>0.588859022</td><td>0.423423   </td><td>5.86       </td><td>0.00117887 </td><td>0.8138298  </td><td>28.51783   </td><td>...        </td><td>480.1948   </td><td>268.3836   </td><td>365.0196   </td><td>295.9352   </td><td>295.63     </td><td>468.26     </td><td>337.88     </td><td>348.74     </td><td>0.1105016  </td><td>0.07819394 </td></tr>\n",
       "\t<tr><th scope=row>89</th><td>193        </td><td>87         </td><td>0.0235277  </td><td>0.266055   </td><td>0.588859022</td><td>0.423423   </td><td>5.86       </td><td>0.00117887 </td><td>0.8138298  </td><td>28.51783   </td><td>...        </td><td>480.1948   </td><td>268.3836   </td><td>365.0196   </td><td>295.9352   </td><td>295.63     </td><td>468.26     </td><td>337.88     </td><td>348.74     </td><td>0.1105016  </td><td>0.07819394 </td></tr>\n",
       "</tbody>\n",
       "</table>\n"
      ],
      "text/latex": [
       "\\begin{tabular}{r|lllllllllllllllllllllllll}\n",
       "  & county & year & crmrte & prbarr & prbconv & prbpris & avgsen & polpc & density & taxpc & ... & wtuc & wtrd & wfir & wser & wmfg & wfed & wsta & wloc & mix & pctymle\\\\\n",
       "\\hline\n",
       "\t88 & 193         & 87          & 0.0235277   & 0.266055    & 0.588859022 & 0.423423    & 5.86        & 0.00117887  & 0.8138298   & 28.51783    & ...         & 480.1948    & 268.3836    & 365.0196    & 295.9352    & 295.63      & 468.26      & 337.88      & 348.74      & 0.1105016   & 0.07819394 \\\\\n",
       "\t89 & 193         & 87          & 0.0235277   & 0.266055    & 0.588859022 & 0.423423    & 5.86        & 0.00117887  & 0.8138298   & 28.51783    & ...         & 480.1948    & 268.3836    & 365.0196    & 295.9352    & 295.63      & 468.26      & 337.88      & 348.74      & 0.1105016   & 0.07819394 \\\\\n",
       "\\end{tabular}\n"
      ],
      "text/markdown": [
       "\n",
       "| <!--/--> | county | year | crmrte | prbarr | prbconv | prbpris | avgsen | polpc | density | taxpc | ... | wtuc | wtrd | wfir | wser | wmfg | wfed | wsta | wloc | mix | pctymle | \n",
       "|---|---|\n",
       "| 88 | 193         | 87          | 0.0235277   | 0.266055    | 0.588859022 | 0.423423    | 5.86        | 0.00117887  | 0.8138298   | 28.51783    | ...         | 480.1948    | 268.3836    | 365.0196    | 295.9352    | 295.63      | 468.26      | 337.88      | 348.74      | 0.1105016   | 0.07819394  | \n",
       "| 89 | 193         | 87          | 0.0235277   | 0.266055    | 0.588859022 | 0.423423    | 5.86        | 0.00117887  | 0.8138298   | 28.51783    | ...         | 480.1948    | 268.3836    | 365.0196    | 295.9352    | 295.63      | 468.26      | 337.88      | 348.74      | 0.1105016   | 0.07819394  | \n",
       "\n",
       "\n"
      ],
      "text/plain": [
       "   county year crmrte    prbarr   prbconv     prbpris  avgsen polpc     \n",
       "88 193    87   0.0235277 0.266055 0.588859022 0.423423 5.86   0.00117887\n",
       "89 193    87   0.0235277 0.266055 0.588859022 0.423423 5.86   0.00117887\n",
       "   density   taxpc    ... wtuc     wtrd     wfir     wser     wmfg   wfed  \n",
       "88 0.8138298 28.51783 ... 480.1948 268.3836 365.0196 295.9352 295.63 468.26\n",
       "89 0.8138298 28.51783 ... 480.1948 268.3836 365.0196 295.9352 295.63 468.26\n",
       "   wsta   wloc   mix       pctymle   \n",
       "88 337.88 348.74 0.1105016 0.07819394\n",
       "89 337.88 348.74 0.1105016 0.07819394"
      ]
     },
     "metadata": {},
     "output_type": "display_data"
    }
   ],
   "source": [
    "# One duplicated county (remove)\n",
    "paste(\"Unique county identifier:\", nrow(clean) == length(unique(clean$county)))\n",
    "paste(\"Duplicated county id:\", clean$county[duplicated(clean$county) & !is.na(clean$county)])\n",
    "subset(clean, subset = clean$county == 193)\n",
    "clean <- clean[!duplicated(clean$county), ]"
   ]
  },
  {
   "cell_type": "markdown",
   "metadata": {},
   "source": [
    "##### Crime rate\n",
    "\n",
    "`crime rate` values are within a reasonable range and there are no concentrations around specific values that would lead us to suspect measurement errors. Furthermore, the log-transformation doesn't increase the spread significantly, even for values that are close to zero and results in a distribution that is less skewed than its original form; these are additional reasons to include the log-transformed version of this variable in the final model."
   ]
  },
  {
   "cell_type": "code",
   "execution_count": 10,
   "metadata": {},
   "outputs": [
    {
     "data": {
      "text/plain": [
       "    Min.  1st Qu.   Median     Mean  3rd Qu.     Max. \n",
       "0.005533 0.020604 0.030002 0.033510 0.040249 0.098966 "
      ]
     },
     "metadata": {},
     "output_type": "display_data"
    },
    {
     "data": {
      "text/plain": [
       "   Min. 1st Qu.  Median    Mean 3rd Qu.    Max. \n",
       " -5.197  -3.883  -3.506  -3.542  -3.213  -2.313 "
      ]
     },
     "metadata": {},
     "output_type": "display_data"
    }
   ],
   "source": [
    "summary(clean$crmrte)\n",
    "summary(log(clean$crmrte))"
   ]
  },
  {
   "cell_type": "code",
   "execution_count": 14,
   "metadata": {},
   "outputs": [
    {
     "data": {
      "image/png": "[encoded data removed]",
      "text/plain": [
       "Plot with title \"Histogram - log(Crime Rate)\""
      ]
     },
     "metadata": {},
     "output_type": "display_data"
    }
   ],
   "source": [
    "# Grid of histogram, crime rate and log(crime rate)\n",
    "\n",
    "par(mfrow = c(1, 2), cex.main = 0.8, cex.lab = 0.8, cex.axis = 0.8)\n",
    "options(repr.plot.width=7, repr.plot.height=4)\n",
    "hist(clean$crmrte, main = \"Histogram - Crime Rate\", col = rgb(0.4, 0.4, 0.4, 0.6), ylim = c(0, 30), xlab = \"Crimes per person\",\n",
    "     breaks = sqrt(nrow(clean)))\n",
    "hist(log(clean$crmrte), main = \"Histogram - log(Crime Rate)\", col = rgb(0.4, 0.4, 0.4, 0.6), ylim = c(0, 30), \n",
    "     xlab = \"log(Crimes per person)\", breaks = sqrt(nrow(clean)))"
   ]
  },
  {
   "cell_type": "code",
   "execution_count": 39,
   "metadata": {},
   "outputs": [
    {
     "data": {
      "text/html": [
       "'Repeated values: 0'"
      ],
      "text/latex": [
       "'Repeated values: 0'"
      ],
      "text/markdown": [
       "'Repeated values: 0'"
      ],
      "text/plain": [
       "[1] \"Repeated values: 0\""
      ]
     },
     "metadata": {},
     "output_type": "display_data"
    }
   ],
   "source": [
    "# Check for concentration of observations around certain values\n",
    "\n",
    "freqs.crmrte <- data.frame(table(clean$crmrte))\n",
    "paste(\"Repeated values:\", \n",
    "      length(freqs.crmrte$Freq[freqs.crmrte$Freq > 1]))"
   ]
  },
  {
   "cell_type": "markdown",
   "metadata": {},
   "source": [
    "##### Probability of arrest\n",
    "\n",
    "`probability of arrest` has one value larger than 1. This is atypical but we cannot be sure that it is a error since we don't have enough information about how this variable is defined. For example, if `probability of arrest` is defined as $(\\text{arrests_in_period_t} / \\text{crimes_in_period_t})$, values larger than 1 are possible since arrests in period t correspond both to crimes committed in period $t$ but also in $t-i$. The log-transformation is also within a reasonable range and returns a variables that is less skewed."
   ]
  },
  {
   "cell_type": "code",
   "execution_count": 18,
   "metadata": {},
   "outputs": [
    {
     "data": {
      "text/html": [
       "<table>\n",
       "<thead><tr><th></th><th scope=col>county</th><th scope=col>year</th><th scope=col>crmrte</th><th scope=col>prbarr</th><th scope=col>prbconv</th><th scope=col>prbpris</th><th scope=col>avgsen</th><th scope=col>polpc</th><th scope=col>density</th><th scope=col>taxpc</th><th scope=col>...</th><th scope=col>wtuc</th><th scope=col>wtrd</th><th scope=col>wfir</th><th scope=col>wser</th><th scope=col>wmfg</th><th scope=col>wfed</th><th scope=col>wsta</th><th scope=col>wloc</th><th scope=col>mix</th><th scope=col>pctymle</th></tr></thead>\n",
       "<tbody>\n",
       "\t<tr><th scope=row>51</th><td>115       </td><td>87        </td><td>0.0055332 </td><td>1.09091   </td><td>1.5       </td><td>0.5       </td><td>20.7      </td><td>0.00905433</td><td>0.3858093 </td><td>28.1931   </td><td>...       </td><td>503.2351  </td><td>217.4908  </td><td>342.4658  </td><td>245.2061  </td><td>448.42    </td><td>442.2     </td><td>340.39    </td><td>386.12    </td><td>0.1       </td><td>0.07253495</td></tr>\n",
       "</tbody>\n",
       "</table>\n"
      ],
      "text/latex": [
       "\\begin{tabular}{r|lllllllllllllllllllllllll}\n",
       "  & county & year & crmrte & prbarr & prbconv & prbpris & avgsen & polpc & density & taxpc & ... & wtuc & wtrd & wfir & wser & wmfg & wfed & wsta & wloc & mix & pctymle\\\\\n",
       "\\hline\n",
       "\t51 & 115        & 87         & 0.0055332  & 1.09091    & 1.5        & 0.5        & 20.7       & 0.00905433 & 0.3858093  & 28.1931    & ...        & 503.2351   & 217.4908   & 342.4658   & 245.2061   & 448.42     & 442.2      & 340.39     & 386.12     & 0.1        & 0.07253495\\\\\n",
       "\\end{tabular}\n"
      ],
      "text/markdown": [
       "\n",
       "| <!--/--> | county | year | crmrte | prbarr | prbconv | prbpris | avgsen | polpc | density | taxpc | ... | wtuc | wtrd | wfir | wser | wmfg | wfed | wsta | wloc | mix | pctymle | \n",
       "|---|\n",
       "| 51 | 115        | 87         | 0.0055332  | 1.09091    | 1.5        | 0.5        | 20.7       | 0.00905433 | 0.3858093  | 28.1931    | ...        | 503.2351   | 217.4908   | 342.4658   | 245.2061   | 448.42     | 442.2      | 340.39     | 386.12     | 0.1        | 0.07253495 | \n",
       "\n",
       "\n"
      ],
      "text/plain": [
       "   county year crmrte    prbarr  prbconv prbpris avgsen polpc      density  \n",
       "51 115    87   0.0055332 1.09091 1.5     0.5     20.7   0.00905433 0.3858093\n",
       "   taxpc   ... wtuc     wtrd     wfir     wser     wmfg   wfed  wsta   wloc  \n",
       "51 28.1931 ... 503.2351 217.4908 342.4658 245.2061 448.42 442.2 340.39 386.12\n",
       "   mix pctymle   \n",
       "51 0.1 0.07253495"
      ]
     },
     "metadata": {},
     "output_type": "display_data"
    }
   ],
   "source": [
    "# Observations larger than 1\n",
    "clean[clean$prbarr > 1, ]"
   ]
  },
  {
   "cell_type": "code",
   "execution_count": 30,
   "metadata": {},
   "outputs": [
    {
     "data": {
      "image/png": "[encoded data removed]",
      "text/plain": [
       "Plot with title \"log(Probability of Arrest))\""
      ]
     },
     "metadata": {},
     "output_type": "display_data"
    }
   ],
   "source": [
    "par(mfrow = c(1, 2), cex.main = 0.8, cex.lab = 0.8, cex.axis = 0.8)\n",
    "hist(clean$prbarr, main = \"Histogram - Probability of Arrest\", xlab = \"Probality of arrest\", \n",
    "     breaks = 10, ylim = c(0, 40), col = rgb(0.5, 0.5, 0.5, 0.3))\n",
    "hist(log(clean$prbarr), main = \"log(Probability of Arrest))\", xlab = \"log(Probality of arrest)\", \n",
    "     breaks = 10, ylim = c(0, 40), col = rgb(0.5, 0.5, 0.5, 0.3))"
   ]
  },
  {
   "cell_type": "markdown",
   "metadata": {},
   "source": [
    "##### Probability of conviction\n",
    "\n",
    "`probability of conviction` contains a \" \\' \" value which is likely a typing error. This value was removed with the 6 blank observations detected initially and was recasted from a factor to a number. There are 10 observations with values larger than 1 and one of them with a value higher than 2. Despite these values being unusually high they are possible for the same reasons exposed in the case of `prbarr`. Furthermore, in the case of `prbconv`, the lag between the arrest and the end of a trial could be even longer than the lag between crimmes and arrests. Therefore, since we don't have additional information on the definition used to build this variable and no way to validate which specific definition was used using numerical methods, we will keep these 10 values."
   ]
  },
  {
   "cell_type": "code",
   "execution_count": 25,
   "metadata": {},
   "outputs": [
    {
     "data": {
      "text/html": [
       "'Summary statistics - Probability of conviction'"
      ],
      "text/latex": [
       "'Summary statistics - Probability of conviction'"
      ],
      "text/markdown": [
       "'Summary statistics - Probability of conviction'"
      ],
      "text/plain": [
       "[1] \"Summary statistics - Probability of conviction\""
      ]
     },
     "metadata": {},
     "output_type": "display_data"
    },
    {
     "data": {
      "text/plain": [
       "   Min. 1st Qu.  Median    Mean 3rd Qu.    Max. \n",
       "0.06838 0.34422 0.45170 0.55086 0.58513 2.12121 "
      ]
     },
     "metadata": {},
     "output_type": "display_data"
    },
    {
     "data": {
      "text/html": [
       "'Number of observations higher than 1: 10'"
      ],
      "text/latex": [
       "'Number of observations higher than 1: 10'"
      ],
      "text/markdown": [
       "'Number of observations higher than 1: 10'"
      ],
      "text/plain": [
       "[1] \"Number of observations higher than 1: 10\""
      ]
     },
     "metadata": {},
     "output_type": "display_data"
    }
   ],
   "source": [
    "# Remove ` and cast the column to numeric\n",
    "clean$prbconv <- as.numeric(as.character(clean$prbconv))\n",
    "\n",
    "# Values above 1\n",
    "paste(\"Summary statistics - Probability of conviction\")\n",
    "summary(clean$prbconv)\n",
    "paste(\"Number of observations higher than 1:\", length(clean$prbconv[clean$prbconv > 1]))"
   ]
  },
  {
   "cell_type": "code",
   "execution_count": 38,
   "metadata": {},
   "outputs": [
    {
     "data": {
      "image/png": "[encoded data removed]",
      "text/plain": [
       "Plot with title \"log(Probability of Conviction)\""
      ]
     },
     "metadata": {},
     "output_type": "display_data"
    }
   ],
   "source": [
    "par(mfrow = c(1, 2), cex.main = 0.8, cex.lab = 0.8, cex.axis = 0.8)\n",
    "hist(clean$prbconv, main = \"Histogram - Probability of Conviction\", xlab = \"Probality of conviction\",\n",
    "     breaks = 15, ylim = c(0, 25), col = rgb(0.5, 0.5, 0.5, 0.5))\n",
    "hist(log(clean$prbconv), main = \"log(Probability of Conviction)\", xlab = \"log(Probality of conviction)\",\n",
    "     breaks = 15, ylim = c(0, 25), col = rgb(0.5, 0.5, 0.5, 0.5))"
   ]
  },
  {
   "cell_type": "markdown",
   "metadata": {},
   "source": [
    "##### Probability of prison\n",
    "\n",
    "Probability of prison spreads over a reasonable range and does not seem to have unusually high concentrations around certain values that would lead us to suspect measurement errors. Furthermore, the distribution of this variable is symmetric both in its original and log-transformed forms. It is interesting that, unlike probability of arrest and conviction, this variable does not have values larger than -or close to- 1, which further supports our suspicion that the numerator and denominator of the proabilibity variables comprise different periods, given the relatively large lag between the time a crime is commited and an arrest is made, for example, and small lag between the time a conviction is made and the sentence is delivered, where misdemeanor cases are usually sentenced immediately and felony cases in days to weeks."
   ]
  },
  {
   "cell_type": "code",
   "execution_count": 17,
   "metadata": {},
   "outputs": [
    {
     "data": {
      "text/html": [
       "'Summary statistics - Probability of prison'"
      ],
      "text/latex": [
       "'Summary statistics - Probability of prison'"
      ],
      "text/markdown": [
       "'Summary statistics - Probability of prison'"
      ],
      "text/plain": [
       "[1] \"Summary statistics - Probability of prison\""
      ]
     },
     "metadata": {},
     "output_type": "display_data"
    },
    {
     "data": {
      "text/plain": [
       "   Min. 1st Qu.  Median    Mean 3rd Qu.    Max. \n",
       " 0.1500  0.3642  0.4222  0.4106  0.4576  0.6000 "
      ]
     },
     "metadata": {},
     "output_type": "display_data"
    }
   ],
   "source": [
    "paste(\"Summary statistics - Probability of prison\")\n",
    "summary(clean$prbpris)"
   ]
  },
  {
   "cell_type": "markdown",
   "metadata": {},
   "source": [
    "#### Other variables"
   ]
  },
  {
   "cell_type": "code",
   "execution_count": 66,
   "metadata": {},
   "outputs": [
    {
     "data": {
      "text/html": [
       "<table>\n",
       "<thead><tr><th></th><th scope=col>density</th><th scope=col>avgsen</th><th scope=col>west</th><th scope=col>central</th><th scope=col>urban</th><th scope=col>mix</th></tr></thead>\n",
       "<tbody>\n",
       "\t<tr><th scope=row>NAs</th><td>0.000000 </td><td> 0.000000</td><td>0.000000 </td><td>0.000000 </td><td>0.000000 </td><td>0.000000 </td></tr>\n",
       "\t<tr><th scope=row>Minimum</th><td>0.000020 </td><td> 5.380000</td><td>0.000000 </td><td>0.000000 </td><td>0.000000 </td><td>0.019608 </td></tr>\n",
       "\t<tr><th scope=row>Maximum</th><td>8.827652 </td><td>20.700001</td><td>1.000000 </td><td>1.000000 </td><td>1.000000 </td><td>0.465116 </td></tr>\n",
       "\t<tr><th scope=row>1. Quartile</th><td>0.547177 </td><td> 7.375000</td><td>0.000000 </td><td>0.000000 </td><td>0.000000 </td><td>0.080597 </td></tr>\n",
       "\t<tr><th scope=row>3. Quartile</th><td>1.569261 </td><td>11.465000</td><td>0.000000 </td><td>1.000000 </td><td>0.000000 </td><td>0.152061 </td></tr>\n",
       "\t<tr><th scope=row>Mean</th><td>1.435670 </td><td> 9.688889</td><td>0.244444 </td><td>0.377778 </td><td>0.088889 </td><td>0.129045 </td></tr>\n",
       "\t<tr><th scope=row>Median</th><td>0.979245 </td><td> 9.110000</td><td>0.000000 </td><td>0.000000 </td><td>0.000000 </td><td>0.100950 </td></tr>\n",
       "</tbody>\n",
       "</table>\n"
      ],
      "text/latex": [
       "\\begin{tabular}{r|llllll}\n",
       "  & density & avgsen & west & central & urban & mix\\\\\n",
       "\\hline\n",
       "\tNAs & 0.000000  &  0.000000 & 0.000000  & 0.000000  & 0.000000  & 0.000000 \\\\\n",
       "\tMinimum & 0.000020  &  5.380000 & 0.000000  & 0.000000  & 0.000000  & 0.019608 \\\\\n",
       "\tMaximum & 8.827652  & 20.700001 & 1.000000  & 1.000000  & 1.000000  & 0.465116 \\\\\n",
       "\t1. Quartile & 0.547177  &  7.375000 & 0.000000  & 0.000000  & 0.000000  & 0.080597 \\\\\n",
       "\t3. Quartile & 1.569261  & 11.465000 & 0.000000  & 1.000000  & 0.000000  & 0.152061 \\\\\n",
       "\tMean & 1.435670  &  9.688889 & 0.244444  & 0.377778  & 0.088889  & 0.129045 \\\\\n",
       "\tMedian & 0.979245  &  9.110000 & 0.000000  & 0.000000  & 0.000000  & 0.100950 \\\\\n",
       "\\end{tabular}\n"
      ],
      "text/markdown": [
       "\n",
       "| <!--/--> | density | avgsen | west | central | urban | mix | \n",
       "|---|---|---|---|---|---|---|\n",
       "| NAs | 0.000000  |  0.000000 | 0.000000  | 0.000000  | 0.000000  | 0.000000  | \n",
       "| Minimum | 0.000020  |  5.380000 | 0.000000  | 0.000000  | 0.000000  | 0.019608  | \n",
       "| Maximum | 8.827652  | 20.700001 | 1.000000  | 1.000000  | 1.000000  | 0.465116  | \n",
       "| 1. Quartile | 0.547177  |  7.375000 | 0.000000  | 0.000000  | 0.000000  | 0.080597  | \n",
       "| 3. Quartile | 1.569261  | 11.465000 | 0.000000  | 1.000000  | 0.000000  | 0.152061  | \n",
       "| Mean | 1.435670  |  9.688889 | 0.244444  | 0.377778  | 0.088889  | 0.129045  | \n",
       "| Median | 0.979245  |  9.110000 | 0.000000  | 0.000000  | 0.000000  | 0.100950  | \n",
       "\n",
       "\n"
      ],
      "text/plain": [
       "            density  avgsen    west     central  urban    mix     \n",
       "NAs         0.000000  0.000000 0.000000 0.000000 0.000000 0.000000\n",
       "Minimum     0.000020  5.380000 0.000000 0.000000 0.000000 0.019608\n",
       "Maximum     8.827652 20.700001 1.000000 1.000000 1.000000 0.465116\n",
       "1. Quartile 0.547177  7.375000 0.000000 0.000000 0.000000 0.080597\n",
       "3. Quartile 1.569261 11.465000 0.000000 1.000000 0.000000 0.152061\n",
       "Mean        1.435670  9.688889 0.244444 0.377778 0.088889 0.129045\n",
       "Median      0.979245  9.110000 0.000000 0.000000 0.000000 0.100950"
      ]
     },
     "metadata": {},
     "output_type": "display_data"
    }
   ],
   "source": [
    "basicStats(clean[,  c(\"density\", \"avgsen\", \"west\", \"central\", \"urban\", \"mix\")])[c(2:8), ]"
   ]
  },
  {
   "cell_type": "markdown",
   "metadata": {},
   "source": [
    "Further exploration of the remaining variables, yielded the following findings that are important to take into account in the model building process.\n",
    "\n",
    "- The values of `density` are unusually small. Given that the density of North Carolina between 1980 and 1990 ranged from 120.9 to 136.4 [(US Census, 2018)](https://www.census.gov/population/www/censusdata/density.html) and that our sample contains 90% of counties, some of which are categorized as urban, a density of less than 1.6 for 75% of observations and a maximum density of 8.8 seems to be unusually low. It could be the case that this variable was rescaled; however, we cannot validate this using our dataset and this wouldn't in the $R^2$ or significance of the estimated coefficient. Then, we will not remove any observations.\n",
    "\n",
    "\n",
    "- The average sentence ranges between 5.3 and 20.7 days, with a mean of 9.7 days. These are all very small numbers that may indicate that the average is taken over all convictions, including those with no prison sentences This definition is problematic for our purposes because a) `avgsen` will have a high collinearity with `prbpris` and b) the average sentence will be mainly driven by the no prison values and will not provide useful information on the sentences that result in prison. However, these is not necessarily evidence of measurement errors and we will not make any changes to this variable.\n",
    "\n",
    "\n",
    "- We are unclear as to how `west` and `central` are each defined; we also do not know if they are exhaustive of all counties and mutually exclusive, since there are observations with a value of 1 in both and neither of these variables. Given this ambiguities and the regional effects that `density` may already capture, we will not include this variable in our subsequent analysis.\n",
    "\n",
    "\n",
    "- The definition of `urban` according to whether the county is categorized as a standard metropolitan statistical area (SMSA) is ambiguous for our purposes, given that \"such regions are neither legally incorporated as a city or town would be, nor are they legal administrative divisions like counties or separate entities such as states; because of this, the precise definition of any given metropolitan area can vary with the source\". Therefore, incorporating this variable into our model would not provide meaningful information. Furthermore, the effects captured by this variable are likely captured also by `density`, which is a better candidate to include in our model.\n",
    "\n",
    "\n",
    "- `mix`is also ambiguously defined since it is not clear what face-to-face offences mean and it is also not clear how some of the plausible interpretations of this variable could be of interest to solve our research question.\n",
    "\n",
    "Upon inspecting other variables individually, we didn't find evidence of errors or other specially relevant features that needed to be taken into account into the model that we will build to answer our research question. The values in these variables were within reasonable ranges, there were no missing values and there were not unusually high concentrations of observations around certain values. Therefore, all the other variables that were not mentioned above were not transformed."
   ]
  },
  {
   "cell_type": "markdown",
   "metadata": {},
   "source": [
    "### Bivariate analysis"
   ]
  },
  {
   "cell_type": "markdown",
   "metadata": {},
   "source": [
    "Once we have finished exploring the quality of the variables in the dataset, and the main features of the variables that are of interest to the campaign that need to be taken into account for building the model that will help us answering the campaign's research question, we need to start exploring how the variables of interest relate to each other, mainly, how our variables of interest relate to `crime rate` and to other predictors of `crime rate` that may improve the model by reducing bias and increasing the efficiency of their estimated coeffcients."
   ]
  },
  {
   "cell_type": "markdown",
   "metadata": {},
   "source": [
    "#### Variables of interest"
   ]
  },
  {
   "cell_type": "markdown",
   "metadata": {},
   "source": [
    "An initial exploration of the relationship between `crime rate` and `log(crime rate)` and our variables of interest (probability of arrest, probability of conviction, probability of prison and average sentence) indicates a relationship that is similar for both crime rate and its logarithmic form. Specifically, there seems to be a negative relationship with probability of arrest and probability of conviction but not a clear relationship with probability of prison.\n",
    "\n",
    "Following this initial exploration, we will proceed to further investigate the relationships hinted at by the scatterplot matrix, using correlation analysis to quantify their strength. Even though we validated both the original and log-transformed forms of our variables of interest, we focus our presentation on the log transformation of these variables because these are the forms included in the regression model for the reasons exposed throughout this report (mainly, interpretability, symmetry and compliance with the classic linear model assumptions)."
   ]
  },
  {
   "cell_type": "code",
   "execution_count": 86,
   "metadata": {},
   "outputs": [],
   "source": [
    "# Variables of interest\n",
    "vars.interest <- c(\"log.crmrte\", \"log.prbarr\", \"log.prbconv\",\"log.prbpris\")\n",
    "\n",
    "# Log transformations\n",
    "clean$log.crmrte <- log(clean$crmrte)\n",
    "clean$log.prbarr <- log(clean$prbarr)\n",
    "clean$log.prbconv <- log(clean$prbconv)\n",
    "clean$log.prbpris <- log(clean$prbpris)\n",
    "clean$density2 <- clean$density^2\n",
    "clean$log.polpc <- log(clean$polpc)\n",
    "clean$log.taxpc <- log(clean$taxpc)"
   ]
  },
  {
   "cell_type": "code",
   "execution_count": 96,
   "metadata": {},
   "outputs": [
    {
     "data": {
      "text/html": [
       "'Scatterplot matrix of variables of interest and Crime rate'"
      ],
      "text/latex": [
       "'Scatterplot matrix of variables of interest and Crime rate'"
      ],
      "text/markdown": [
       "'Scatterplot matrix of variables of interest and Crime rate'"
      ],
      "text/plain": [
       "[1] \"Scatterplot matrix of variables of interest and Crime rate\""
      ]
     },
     "metadata": {},
     "output_type": "display_data"
    },
    {
     "data": {
      "image/png": "[encoded data removed]",
      "text/plain": [
       "plot without title"
      ]
     },
     "metadata": {},
     "output_type": "display_data"
    }
   ],
   "source": [
    "paste(\"Scatterplot matrix of variables of interest and Crime rate\")\n",
    "options(repr.plot.width=5, repr.plot.height=5)\n",
    "scatterplotMatrix(clean[, vars.interest])"
   ]
  },
  {
   "cell_type": "markdown",
   "metadata": {},
   "source": [
    "Analysis of correlations confirms that probability of arrest and probability of conviction (both in their original and log-transformed forms) are negatively correlated with both crime rate and its logarithmic transformation, and also confirms that there is no correlation between these two variables and probability of prison and average sentence.\n",
    "\n",
    "For all variables of interest (probability of arrest, probability of conviction and probability of arrest) the linear relationship measured by the correlation coefficient is higher when `crime rate` is log-transformed. Therefore, we should test both forms of this variable when building our model taking this into account (but also how the two forms of this variable affect the interpretability of results and how they affect the model assumptions).\n",
    "\n",
    "The log form of our variables of interest does not change the correlation between them and `crime rate` heavily. However, it is still important to consider this transformation when defining our population model because they could improve the model's interpretability and assumptions."
   ]
  },
  {
   "cell_type": "code",
   "execution_count": 97,
   "metadata": {},
   "outputs": [
    {
     "data": {
      "image/png": "[encoded data removed]",
      "text/plain": [
       "Plot with title \"Correlations - Variables of interest\""
      ]
     },
     "metadata": {},
     "output_type": "display_data"
    }
   ],
   "source": [
    "# Compute correlations\n",
    "crime.corrs <- cor(select(clean, vars.interest))\n",
    "\n",
    "# Plot correlations\n",
    "options(repr.plot.width=5, repr.plot.height=5.2)\n",
    "corrplot(crime.corrs, method = 'square',  order = 'original', diag = FALSE, addCoef.col = T, \n",
    "         tl.col = 'black', tl.cex = 0.7, addCoefasPercent = T, number.cex = 0.7)\n",
    "title(\"Correlations - Variables of interest\", cex.main = 0.8)\n",
    "require(grid)\n",
    "grid.text(label= \"Correlation coefficients multiplied by 100\" , x = unit(1,\"npc\") - unit(2, \"mm\"),\n",
    "          y = unit(1.5, \"cm\"), just=c(\"right\", \"bottom\"), gp=gpar(cex= 0.5))"
   ]
  },
  {
   "cell_type": "markdown",
   "metadata": {},
   "source": [
    "#### Control variables"
   ]
  },
  {
   "cell_type": "markdown",
   "metadata": {},
   "source": [
    "After exploring bivariate relationships between our variables of interest, our main objective is to find variables that either confound the effect of our variables of interest on `crime rate` or that can increase the model's fit, reducing the variance of the model's error and of the coefficients of interest. To find which variables can be used as controls in our model, we did an initial exploratory analysis using a scatterplot matrix (not shown in this document due to space constraints) to find which of the candidate variables seemed to be related to `crime rate` or its logarithmic transformation. \n",
    "\n",
    "Upon inspecting the scatterplot matrix, we found that log of police per capita, tax per capita and density seem to have a clear relationship with `crime rate` and its logarithmic transformations. The correlation matrix included below shows that `log.polpc`, `density`, and `density2` are correlated with both `crime rate` and its logarithmic transformation and thus should be included in our estimated model. Furthermore, density is both correlated with `crime rate` and `log.prbarr`, which indicates that it may be a possible confounding variable and should also be included in our estimated model to reduce the bias of the estimator of the coefficient of `log.prbarr`."
   ]
  },
  {
   "cell_type": "code",
   "execution_count": 93,
   "metadata": {},
   "outputs": [
    {
     "data": {
      "image/png": "[encoded data removed]",
      "text/plain": [
       "Plot with title \"Correlations - Control variables\""
      ]
     },
     "metadata": {},
     "output_type": "display_data"
    }
   ],
   "source": [
    "# Possible control variables\n",
    "\n",
    "vars.control <- c('polpc', 'log.polpc', 'density', 'density2', 'taxpc', 'log.taxpc')\n",
    "\n",
    "# Plot correlation coefficients\n",
    "\n",
    "corrs.control <- cor(clean[, c(vars.interest, vars.control)], use = 'complete.obs')[1:4, 5:10]\n",
    "\n",
    "options(repr.plot.width=5, repr.plot.height=3.7)\n",
    "par(oma = c(0,0,0,4))\n",
    "corrplot(corrs.control, method = 'square',  order = 'original', diag = T, addCoef.col = T,\n",
    "         tl.col = 'black', tl.cex = 0.8, addCoefasPercent = T, number.cex = 0.6)\n",
    "title(\"Correlations - Control variables\", cex.main = 0.8)\n",
    "grid.text(label= \"Correlation coefficients multiplied by 100\" , x = unit(10.2,\"cm\"), y= unit(1.3, \"cm\"),\n",
    "          just=c(\"right\", \"bottom\"), gp=gpar(cex= 0.5))"
   ]
  },
  {
   "cell_type": "markdown",
   "metadata": {},
   "source": [
    "In conclusion, the main recommendations provided by the exploratory data analysis, that need to be taken into account when specifying our regression model are the following:\n",
    "\n",
    "- Both `crime rate` and its logarithmic transformation should be tested as possible dependent variables.\n",
    "\n",
    "\n",
    "- `probability of arrest` and `probability of conviction`, two of our variables of interest, are correlated with both our candidate dependent variables and should be included in the regression model. Furthermore, their logarithmic transformation form is also correlated with the dependent variable and should be tested against their original form, using the resulting model's fit and meeting of the CLM asssumptions to decide which should be included in the specification of model 2.\n",
    "\n",
    "\n",
    "- `probability of prison` does not seem to have an important relationship with `crime rate`. However, this is a result that is relevant to the campaign's research question; thus, it should be included in the regression, in order to show this variable's statistical and practical significance and the implications of this result to the political campaign.\n",
    "\n",
    "\n",
    "- `log.polpc`, `density`, `density2` and `log.taxpc` seem to have the strongest relationship with `crime rate` and its logarithmic form and we should consider including them within our model specification as controls. It is especially important to include `density`, since it is likely controlling for confounding effects."
   ]
  }
 ],
 "metadata": {
  "kernelspec": {
   "display_name": "R",
   "language": "R",
   "name": "ir"
  },
  "language_info": {
   "codemirror_mode": "r",
   "file_extension": ".r",
   "mimetype": "text/x-r-source",
   "name": "R",
   "pygments_lexer": "r",
   "version": "3.5.1"
  }
 },
 "nbformat": 4,
 "nbformat_minor": 2
}
