{
 "cells": [
  {
   "cell_type": "code",
   "execution_count": 3,
   "metadata": {},
   "outputs": [
    {
     "name": "stderr",
     "output_type": "stream",
     "text": [
      "Installing package into ‘/home/errett/R/x86_64-pc-linux-gnu-library/3.5’\n",
      "(as ‘lib’ is unspecified)\n",
      "also installing the dependencies ‘prettyunits’, ‘bindr’, ‘bit’, ‘blob’, ‘bindrcpp’, ‘Rcpp’, ‘rlang’, ‘tidyselect’, ‘plogr’, ‘bit64’, ‘DBI’, ‘dbplyr’, ‘dtplyr’, ‘Lahman’, ‘lubridate’, ‘microbenchmark’, ‘nycflights13’, ‘RMySQL’, ‘RPostgreSQL’, ‘RSQLite’\n",
      "\n",
      "Warning message in install.packages(\"dplyr\", repos = \"http://cran.us.r-project.org\", :\n",
      "“installation of package ‘RMySQL’ had non-zero exit status”Warning message in install.packages(\"dplyr\", repos = \"http://cran.us.r-project.org\", :\n",
      "“installation of package ‘RPostgreSQL’ had non-zero exit status”"
     ]
    }
   ],
   "source": [
    "install.packages('dplyr', repos='http://cran.us.r-project.org', dependencies=TRUE)"
   ]
  },
  {
   "cell_type": "code",
   "execution_count": 4,
   "metadata": {},
   "outputs": [
    {
     "name": "stderr",
     "output_type": "stream",
     "text": [
      "Installing package into ‘/home/errett/R/x86_64-pc-linux-gnu-library/3.5’\n",
      "(as ‘lib’ is unspecified)\n"
     ]
    }
   ],
   "source": [
    "install.packages('corrplot', repos='http://cran.us.r-project.org', dependencies=TRUE)"
   ]
  }
 ],
 "metadata": {
  "kernelspec": {
   "display_name": "R",
   "language": "R",
   "name": "ir"
  },
  "language_info": {
   "codemirror_mode": "r",
   "file_extension": ".r",
   "mimetype": "text/x-r-source",
   "name": "R",
   "pygments_lexer": "r",
   "version": "3.5.0"
  }
 },
 "nbformat": 4,
 "nbformat_minor": 2
}
