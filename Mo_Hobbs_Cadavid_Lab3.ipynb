{
 "cells": [
  {
   "cell_type": "markdown",
   "metadata": {},
   "source": [
    "# How are increasing incarceration rates associated with crime rate?\n",
    "\n",
    "Katie Mo, Errett Hobbs, Ramiro Cadavid"
   ]
  },
  {
   "cell_type": "markdown",
   "metadata": {},
   "source": [
    "## 1) Introduction"
   ]
  },
  {
   "cell_type": "markdown",
   "metadata": {},
   "source": [
    "In order to define our policy recommendation for reducing the crime rate in North Carolina, we ask the following research question: How is incarceration associated with the crime rate in North Carolina? \n",
    "\n",
    "Although serious felonies like murder, rape, and armed robbery would still require incarcerations, we are interested in addressing possible overincarceration of less serious crimes like first offense drug possessions and minor theft. The number of people incarcerated in America has increased from roughly 500,000 to over 2.2 million, more than four fold, between 1980 to 2015<sup>1</sup>. On average, incarceration costs the state of North Carolina on average \\\\$36,219 per inmate per year, whereas prison alternatives like probation or parole supervision cost less than \\$5,000 per year<sup>2</sup>. Because it costs so much to incarcerate each criminal, we want to explore whether incarceration uses our resources effectively.\n",
    "\n",
    "With this question, we aim to understand the association of incarceration as well as the preceeding steps before it, namely arrest and conviction, to crime rate. With this understanding, we are better informed to recommend potential policies that aim to decrease crime rate and efficiently allocate resources for criminal justice policy. \n",
    "\n",
    "Answering our research question provides context for whether you should focus your policies to:\n",
    "* find more criminals by increasing likelihood for arrest and conviction, or\n",
    "* be tougher on criminals by increasing likelihood for prison\n",
    "\n",
    "In this report, we present the analysis to show that the likelihood of arrests and convictions are associated with lower crime rate, while the likelihood of incarcerations is less associated. Our analysis suggests that using the money saved from reduced incarceration of less serious crimes to fund pilot programs to improve criminal justice processing procedures could be beneficial for reducing crime rate in North Carolina.\n"
   ]
  },
  {
   "cell_type": "markdown",
   "metadata": {},
   "source": [
    "## 2) Exploratory Data Analysis"
   ]
  },
  {
   "cell_type": "markdown",
   "metadata": {},
   "source": [
    "### Import libraries and dataset"
   ]
  },
  {
   "cell_type": "code",
   "execution_count": 1,
   "metadata": {
    "collapsed": true
   },
   "outputs": [
    {
     "name": "stderr",
     "output_type": "stream",
     "text": [
      "\n",
      "Attaching package: 'dplyr'\n",
      "\n",
      "The following objects are masked from 'package:stats':\n",
      "\n",
      "    filter, lag\n",
      "\n",
      "The following objects are masked from 'package:base':\n",
      "\n",
      "    intersect, setdiff, setequal, union\n",
      "\n",
      "Warning message:\n",
      "\"package 'car' was built under R version 3.4.4\"Loading required package: carData\n",
      "Warning message:\n",
      "\"package 'carData' was built under R version 3.4.4\"\n",
      "Attaching package: 'car'\n",
      "\n",
      "The following object is masked from 'package:dplyr':\n",
      "\n",
      "    recode\n",
      "\n",
      "Warning message:\n",
      "\"package 'stargazer' was built under R version 3.4.4\"\n",
      "Please cite as: \n",
      "\n",
      " Hlavac, Marek (2018). stargazer: Well-Formatted Regression and Summary Statistics Tables.\n",
      " R package version 5.2.2. https://CRAN.R-project.org/package=stargazer \n",
      "\n"
     ]
    }
   ],
   "source": [
    "library(dplyr)\n",
    "library(corrplot)\n",
    "library(car)\n",
    "library(stargazer)\n",
    "crime <- read.csv('crime_v2.csv')"
   ]
  },
  {
   "cell_type": "markdown",
   "metadata": {},
   "source": [
    "### Data cleaning and univariate analysis"
   ]
  },
  {
   "cell_type": "markdown",
   "metadata": {},
   "source": [
    "#### First stage"
   ]
  },
  {
   "cell_type": "markdown",
   "metadata": {},
   "source": [
    "The campaign research questions will be assessed using a dataset of crime statistics that contain 91 out of 100 counties in North Carolina. Even though it contains most of the counties in the State, we do not have information on the sampling regime used to select the counties in this dataset and cannot assume that the sample is random. This implies that we cannot  treat our findings as representative of our population of all the counties but only of those contained in the sample. However, the fact that there is data for 90% of counties make our findings relevant for most of the target counties of the political campaign.\n",
    "\n",
    "A high level assessment of the dataset reveals that all but one (`probability of prison`) of the variables are numerical/integer variables and all of them but have one (again, `probability of prinson`) have 6 blank observations. We need to investigate later if they belong to the same six observations. Other important features to notice are that:\n",
    "\n",
    "- `year` is useful to provide context to results but it is not relevant since it doesn't contain any variation.\n",
    "- `probability of arrest` has at least one value larger than 1 that needs to be further investigated.\n",
    "- `probability of conviction` is a factor when it should be an integer. It has at least one non-numerical value (\\`) which is the likely cause of why it was imported as a class factor.\n",
    "- The values of `density` seem to be unusually low. We need to further investigate the reason for these unusually small values.\n",
    "- `west` and `central`: it is not clear what the definition of each of this is and if they are exhaustive of all counties and mutually exclusive. This needs to be further validated later.\n",
    "- `urban`: the definition of urban according to whether the county is categorized as a Standard metropolitan statistical area (SMSA) is ambiguous for our purposes. According to the US Census, a SMSA is \"a geographic entity defined by the federal Office of Management and Budget for use by federal statistical agencies\". Furthermore, according to the Wikipedia entry of this kind of entity, \"such regions are neither legally incorporated as a city or town would be, nor are they legal administrative divisions like counties or separate entities such as states; because of this, the precise definition of any given metropolitan area can vary with the source\". Therefore, incorporating this variable into our model would not let give us information about either the relationship that is being modeled or the factors that are being controlled for.\n",
    "- `mix`: This definition is also ambiguous since it is not clear what face-to-face offences mean and it is also not clear how some of the plausible interpretations of this variable could be of interest to solve our research question.\n",
    "\n",
    "All the other variables not mentioned above seem to be within reasonable ranges and do not have unusually high concentration of values. In the second stage, we take a closer look at some of these given their importance to answer the campaign's research question."
   ]
  },
  {
   "cell_type": "code",
   "execution_count": 2,
   "metadata": {},
   "outputs": [
    {
     "data": {
      "text/html": [
       "'Number of unique counties: 91'"
      ],
      "text/latex": [
       "'Number of unique counties: 91'"
      ],
      "text/markdown": [
       "'Number of unique counties: 91'"
      ],
      "text/plain": [
       "[1] \"Number of unique counties: 91\""
      ]
     },
     "metadata": {},
     "output_type": "display_data"
    }
   ],
   "source": [
    "paste(\"Number of unique counties:\", length(unique(crime$county)))"
   ]
  },
  {
   "cell_type": "code",
   "execution_count": 3,
   "metadata": {},
   "outputs": [
    {
     "data": {
      "text/html": [
       "'Structure of dataset'"
      ],
      "text/latex": [
       "'Structure of dataset'"
      ],
      "text/markdown": [
       "'Structure of dataset'"
      ],
      "text/plain": [
       "[1] \"Structure of dataset\""
      ]
     },
     "metadata": {},
     "output_type": "display_data"
    },
    {
     "name": "stdout",
     "output_type": "stream",
     "text": [
      "'data.frame':\t97 obs. of  25 variables:\n",
      " $ county  : int  1 3 5 7 9 11 13 15 17 19 ...\n",
      " $ year    : int  87 87 87 87 87 87 87 87 87 87 ...\n",
      " $ crmrte  : num  0.0356 0.0153 0.013 0.0268 0.0106 ...\n",
      " $ prbarr  : num  0.298 0.132 0.444 0.365 0.518 ...\n",
      " $ prbconv : Factor w/ 92 levels \"\",\"`\",\"0.068376102\",..: 63 89 13 62 52 3 59 78 42 86 ...\n",
      " $ prbpris : num  0.436 0.45 0.6 0.435 0.443 ...\n",
      " $ avgsen  : num  6.71 6.35 6.76 7.14 8.22 ...\n",
      " $ polpc   : num  0.001828 0.000746 0.001234 0.00153 0.00086 ...\n",
      " $ density : num  2.423 1.046 0.413 0.492 0.547 ...\n",
      " $ taxpc   : num  31 26.9 34.8 42.9 28.1 ...\n",
      " $ west    : int  0 0 1 0 1 1 0 0 0 0 ...\n",
      " $ central : int  1 1 0 1 0 0 0 0 0 0 ...\n",
      " $ urban   : int  0 0 0 0 0 0 0 0 0 0 ...\n",
      " $ pctmin80: num  20.22 7.92 3.16 47.92 1.8 ...\n",
      " $ wcon    : num  281 255 227 375 292 ...\n",
      " $ wtuc    : num  409 376 372 398 377 ...\n",
      " $ wtrd    : num  221 196 229 191 207 ...\n",
      " $ wfir    : num  453 259 306 281 289 ...\n",
      " $ wser    : num  274 192 210 257 215 ...\n",
      " $ wmfg    : num  335 300 238 282 291 ...\n",
      " $ wfed    : num  478 410 359 412 377 ...\n",
      " $ wsta    : num  292 363 332 328 367 ...\n",
      " $ wloc    : num  312 301 281 299 343 ...\n",
      " $ mix     : num  0.0802 0.0302 0.4651 0.2736 0.0601 ...\n",
      " $ pctymle : num  0.0779 0.0826 0.0721 0.0735 0.0707 ...\n"
     ]
    }
   ],
   "source": [
    "paste(\"Structure of dataset\")\n",
    "str(crime)"
   ]
  },
  {
   "cell_type": "code",
   "execution_count": 7,
   "metadata": {},
   "outputs": [
    {
     "data": {
      "text/html": [
       "'Summary statistics of variables in dataset'"
      ],
      "text/latex": [
       "'Summary statistics of variables in dataset'"
      ],
      "text/markdown": [
       "'Summary statistics of variables in dataset'"
      ],
      "text/plain": [
       "[1] \"Summary statistics of variables in dataset\""
      ]
     },
     "metadata": {},
     "output_type": "display_data"
    },
    {
     "data": {
      "text/plain": [
       "     county           year        crmrte             prbarr       \n",
       " Min.   :  1.0   Min.   :87   Min.   :0.005533   Min.   :0.09277  \n",
       " 1st Qu.: 52.0   1st Qu.:87   1st Qu.:0.020927   1st Qu.:0.20568  \n",
       " Median :105.0   Median :87   Median :0.029986   Median :0.27095  \n",
       " Mean   :101.6   Mean   :87   Mean   :0.033400   Mean   :0.29492  \n",
       " 3rd Qu.:152.0   3rd Qu.:87   3rd Qu.:0.039642   3rd Qu.:0.34438  \n",
       " Max.   :197.0   Max.   :87   Max.   :0.098966   Max.   :1.09091  \n",
       " NA's   :6       NA's   :6    NA's   :6          NA's   :6        \n",
       "        prbconv      prbpris           avgsen           polpc         \n",
       "            : 5   Min.   :0.1500   Min.   : 5.380   Min.   :0.000746  \n",
       " 0.588859022: 2   1st Qu.:0.3648   1st Qu.: 7.340   1st Qu.:0.001231  \n",
       " `          : 1   Median :0.4234   Median : 9.100   Median :0.001485  \n",
       " 0.068376102: 1   Mean   :0.4108   Mean   : 9.647   Mean   :0.001702  \n",
       " 0.140350997: 1   3rd Qu.:0.4568   3rd Qu.:11.420   3rd Qu.:0.001877  \n",
       " 0.154451996: 1   Max.   :0.6000   Max.   :20.700   Max.   :0.009054  \n",
       " (Other)    :86   NA's   :6        NA's   :6        NA's   :6         \n",
       "    density            taxpc             west           central      \n",
       " Min.   :0.00002   Min.   : 25.69   Min.   :0.0000   Min.   :0.0000  \n",
       " 1st Qu.:0.54741   1st Qu.: 30.66   1st Qu.:0.0000   1st Qu.:0.0000  \n",
       " Median :0.96226   Median : 34.87   Median :0.0000   Median :0.0000  \n",
       " Mean   :1.42884   Mean   : 38.06   Mean   :0.2527   Mean   :0.3736  \n",
       " 3rd Qu.:1.56824   3rd Qu.: 40.95   3rd Qu.:0.5000   3rd Qu.:1.0000  \n",
       " Max.   :8.82765   Max.   :119.76   Max.   :1.0000   Max.   :1.0000  \n",
       " NA's   :6         NA's   :6        NA's   :6        NA's   :6       \n",
       "     urban            pctmin80           wcon            wtuc      \n",
       " Min.   :0.00000   Min.   : 1.284   Min.   :193.6   Min.   :187.6  \n",
       " 1st Qu.:0.00000   1st Qu.: 9.845   1st Qu.:250.8   1st Qu.:374.6  \n",
       " Median :0.00000   Median :24.312   Median :281.4   Median :406.5  \n",
       " Mean   :0.08791   Mean   :25.495   Mean   :285.4   Mean   :411.7  \n",
       " 3rd Qu.:0.00000   3rd Qu.:38.142   3rd Qu.:314.8   3rd Qu.:443.4  \n",
       " Max.   :1.00000   Max.   :64.348   Max.   :436.8   Max.   :613.2  \n",
       " NA's   :6         NA's   :6        NA's   :6       NA's   :6      \n",
       "      wtrd            wfir            wser             wmfg      \n",
       " Min.   :154.2   Min.   :170.9   Min.   : 133.0   Min.   :157.4  \n",
       " 1st Qu.:190.9   1st Qu.:286.5   1st Qu.: 229.7   1st Qu.:288.9  \n",
       " Median :203.0   Median :317.3   Median : 253.2   Median :320.2  \n",
       " Mean   :211.6   Mean   :322.1   Mean   : 275.6   Mean   :335.6  \n",
       " 3rd Qu.:225.1   3rd Qu.:345.4   3rd Qu.: 280.5   3rd Qu.:359.6  \n",
       " Max.   :354.7   Max.   :509.5   Max.   :2177.1   Max.   :646.9  \n",
       " NA's   :6       NA's   :6       NA's   :6        NA's   :6      \n",
       "      wfed            wsta            wloc            mix         \n",
       " Min.   :326.1   Min.   :258.3   Min.   :239.2   Min.   :0.01961  \n",
       " 1st Qu.:400.2   1st Qu.:329.3   1st Qu.:297.3   1st Qu.:0.08074  \n",
       " Median :449.8   Median :357.7   Median :308.1   Median :0.10186  \n",
       " Mean   :442.9   Mean   :357.5   Mean   :312.7   Mean   :0.12884  \n",
       " 3rd Qu.:478.0   3rd Qu.:382.6   3rd Qu.:329.2   3rd Qu.:0.15175  \n",
       " Max.   :598.0   Max.   :499.6   Max.   :388.1   Max.   :0.46512  \n",
       " NA's   :6       NA's   :6       NA's   :6       NA's   :6        \n",
       "    pctymle       \n",
       " Min.   :0.06216  \n",
       " 1st Qu.:0.07443  \n",
       " Median :0.07771  \n",
       " Mean   :0.08396  \n",
       " 3rd Qu.:0.08350  \n",
       " Max.   :0.24871  \n",
       " NA's   :6        "
      ]
     },
     "metadata": {},
     "output_type": "display_data"
    }
   ],
   "source": [
    "paste(\"Summary statistics of variables in dataset\")\n",
    "summary(crime)"
   ]
  },
  {
   "cell_type": "markdown",
   "metadata": {},
   "source": [
    "Upon closer inspection of incomplete cases, we found that indeed the six blank values for all the variables but `prbconv` come from the same six observations. Furthermore, the value '\\`' included in `prbconv` comes from one of these observations. In this case, given that these values do not add any information to our dataset and that one of their values is causing `probability of conviction` to be casted with the wrong class, we have decided to remove them from the dataset."
   ]
  },
  {
   "cell_type": "code",
   "execution_count": 4,
   "metadata": {},
   "outputs": [
    {
     "data": {
      "text/html": [
       "'Empty cases:'"
      ],
      "text/latex": [
       "'Empty cases:'"
      ],
      "text/markdown": [
       "'Empty cases:'"
      ],
      "text/plain": [
       "[1] \"Empty cases:\""
      ]
     },
     "metadata": {},
     "output_type": "display_data"
    },
    {
     "data": {
      "text/html": [
       "<table>\n",
       "<thead><tr><th></th><th scope=col>county</th><th scope=col>year</th><th scope=col>crmrte</th><th scope=col>prbarr</th><th scope=col>prbconv</th><th scope=col>prbpris</th><th scope=col>avgsen</th><th scope=col>polpc</th><th scope=col>density</th><th scope=col>taxpc</th><th scope=col>west</th><th scope=col>central</th><th scope=col>urban</th><th scope=col>pctmin80</th><th scope=col>wcon</th><th scope=col>wtuc</th><th scope=col>wtrd</th><th scope=col>wfir</th><th scope=col>wser</th><th scope=col>wmfg</th><th scope=col>wfed</th><th scope=col>wsta</th><th scope=col>wloc</th><th scope=col>mix</th><th scope=col>pctymle</th></tr></thead>\n",
       "<tbody>\n",
       "\t<tr><th scope=row>92</th><td>NA</td><td>NA</td><td>NA</td><td>NA</td><td>  </td><td>NA</td><td>NA</td><td>NA</td><td>NA</td><td>NA</td><td>NA</td><td>NA</td><td>NA</td><td>NA</td><td>NA</td><td>NA</td><td>NA</td><td>NA</td><td>NA</td><td>NA</td><td>NA</td><td>NA</td><td>NA</td><td>NA</td><td>NA</td></tr>\n",
       "\t<tr><th scope=row>93</th><td>NA</td><td>NA</td><td>NA</td><td>NA</td><td>  </td><td>NA</td><td>NA</td><td>NA</td><td>NA</td><td>NA</td><td>NA</td><td>NA</td><td>NA</td><td>NA</td><td>NA</td><td>NA</td><td>NA</td><td>NA</td><td>NA</td><td>NA</td><td>NA</td><td>NA</td><td>NA</td><td>NA</td><td>NA</td></tr>\n",
       "\t<tr><th scope=row>94</th><td>NA</td><td>NA</td><td>NA</td><td>NA</td><td>  </td><td>NA</td><td>NA</td><td>NA</td><td>NA</td><td>NA</td><td>NA</td><td>NA</td><td>NA</td><td>NA</td><td>NA</td><td>NA</td><td>NA</td><td>NA</td><td>NA</td><td>NA</td><td>NA</td><td>NA</td><td>NA</td><td>NA</td><td>NA</td></tr>\n",
       "\t<tr><th scope=row>95</th><td>NA</td><td>NA</td><td>NA</td><td>NA</td><td>  </td><td>NA</td><td>NA</td><td>NA</td><td>NA</td><td>NA</td><td>NA</td><td>NA</td><td>NA</td><td>NA</td><td>NA</td><td>NA</td><td>NA</td><td>NA</td><td>NA</td><td>NA</td><td>NA</td><td>NA</td><td>NA</td><td>NA</td><td>NA</td></tr>\n",
       "\t<tr><th scope=row>96</th><td>NA</td><td>NA</td><td>NA</td><td>NA</td><td>  </td><td>NA</td><td>NA</td><td>NA</td><td>NA</td><td>NA</td><td>NA</td><td>NA</td><td>NA</td><td>NA</td><td>NA</td><td>NA</td><td>NA</td><td>NA</td><td>NA</td><td>NA</td><td>NA</td><td>NA</td><td>NA</td><td>NA</td><td>NA</td></tr>\n",
       "\t<tr><th scope=row>97</th><td>NA</td><td>NA</td><td>NA</td><td>NA</td><td>` </td><td>NA</td><td>NA</td><td>NA</td><td>NA</td><td>NA</td><td>NA</td><td>NA</td><td>NA</td><td>NA</td><td>NA</td><td>NA</td><td>NA</td><td>NA</td><td>NA</td><td>NA</td><td>NA</td><td>NA</td><td>NA</td><td>NA</td><td>NA</td></tr>\n",
       "</tbody>\n",
       "</table>\n"
      ],
      "text/latex": [
       "\\begin{tabular}{r|lllllllllllllllllllllllll}\n",
       "  & county & year & crmrte & prbarr & prbconv & prbpris & avgsen & polpc & density & taxpc & west & central & urban & pctmin80 & wcon & wtuc & wtrd & wfir & wser & wmfg & wfed & wsta & wloc & mix & pctymle\\\\\n",
       "\\hline\n",
       "\t92 & NA & NA & NA & NA &    & NA & NA & NA & NA & NA & NA & NA & NA & NA & NA & NA & NA & NA & NA & NA & NA & NA & NA & NA & NA\\\\\n",
       "\t93 & NA & NA & NA & NA &    & NA & NA & NA & NA & NA & NA & NA & NA & NA & NA & NA & NA & NA & NA & NA & NA & NA & NA & NA & NA\\\\\n",
       "\t94 & NA & NA & NA & NA &    & NA & NA & NA & NA & NA & NA & NA & NA & NA & NA & NA & NA & NA & NA & NA & NA & NA & NA & NA & NA\\\\\n",
       "\t95 & NA & NA & NA & NA &    & NA & NA & NA & NA & NA & NA & NA & NA & NA & NA & NA & NA & NA & NA & NA & NA & NA & NA & NA & NA\\\\\n",
       "\t96 & NA & NA & NA & NA &    & NA & NA & NA & NA & NA & NA & NA & NA & NA & NA & NA & NA & NA & NA & NA & NA & NA & NA & NA & NA\\\\\n",
       "\t97 & NA & NA & NA & NA & `  & NA & NA & NA & NA & NA & NA & NA & NA & NA & NA & NA & NA & NA & NA & NA & NA & NA & NA & NA & NA\\\\\n",
       "\\end{tabular}\n"
      ],
      "text/markdown": [
       "\n",
       "| <!--/--> | county | year | crmrte | prbarr | prbconv | prbpris | avgsen | polpc | density | taxpc | west | central | urban | pctmin80 | wcon | wtuc | wtrd | wfir | wser | wmfg | wfed | wsta | wloc | mix | pctymle | \n",
       "|---|---|---|---|---|---|\n",
       "| 92 | NA | NA | NA | NA |    | NA | NA | NA | NA | NA | NA | NA | NA | NA | NA | NA | NA | NA | NA | NA | NA | NA | NA | NA | NA | \n",
       "| 93 | NA | NA | NA | NA |    | NA | NA | NA | NA | NA | NA | NA | NA | NA | NA | NA | NA | NA | NA | NA | NA | NA | NA | NA | NA | \n",
       "| 94 | NA | NA | NA | NA |    | NA | NA | NA | NA | NA | NA | NA | NA | NA | NA | NA | NA | NA | NA | NA | NA | NA | NA | NA | NA | \n",
       "| 95 | NA | NA | NA | NA |    | NA | NA | NA | NA | NA | NA | NA | NA | NA | NA | NA | NA | NA | NA | NA | NA | NA | NA | NA | NA | \n",
       "| 96 | NA | NA | NA | NA |    | NA | NA | NA | NA | NA | NA | NA | NA | NA | NA | NA | NA | NA | NA | NA | NA | NA | NA | NA | NA | \n",
       "| 97 | NA | NA | NA | NA | `  | NA | NA | NA | NA | NA | NA | NA | NA | NA | NA | NA | NA | NA | NA | NA | NA | NA | NA | NA | NA | \n",
       "\n",
       "\n"
      ],
      "text/plain": [
       "   county year crmrte prbarr prbconv prbpris avgsen polpc density taxpc west\n",
       "92 NA     NA   NA     NA             NA      NA     NA    NA      NA    NA  \n",
       "93 NA     NA   NA     NA             NA      NA     NA    NA      NA    NA  \n",
       "94 NA     NA   NA     NA             NA      NA     NA    NA      NA    NA  \n",
       "95 NA     NA   NA     NA             NA      NA     NA    NA      NA    NA  \n",
       "96 NA     NA   NA     NA             NA      NA     NA    NA      NA    NA  \n",
       "97 NA     NA   NA     NA     `       NA      NA     NA    NA      NA    NA  \n",
       "   central urban pctmin80 wcon wtuc wtrd wfir wser wmfg wfed wsta wloc mix\n",
       "92 NA      NA    NA       NA   NA   NA   NA   NA   NA   NA   NA   NA   NA \n",
       "93 NA      NA    NA       NA   NA   NA   NA   NA   NA   NA   NA   NA   NA \n",
       "94 NA      NA    NA       NA   NA   NA   NA   NA   NA   NA   NA   NA   NA \n",
       "95 NA      NA    NA       NA   NA   NA   NA   NA   NA   NA   NA   NA   NA \n",
       "96 NA      NA    NA       NA   NA   NA   NA   NA   NA   NA   NA   NA   NA \n",
       "97 NA      NA    NA       NA   NA   NA   NA   NA   NA   NA   NA   NA   NA \n",
       "   pctymle\n",
       "92 NA     \n",
       "93 NA     \n",
       "94 NA     \n",
       "95 NA     \n",
       "96 NA     \n",
       "97 NA     "
      ]
     },
     "metadata": {},
     "output_type": "display_data"
    }
   ],
   "source": [
    "paste(\"Empty cases:\")\n",
    "options(repr.matrix.max.rows=10,repr.matrix.max.cols=200)\n",
    "crime[!complete.cases(crime), ]"
   ]
  },
  {
   "cell_type": "code",
   "execution_count": 5,
   "metadata": {},
   "outputs": [],
   "source": [
    "# Remove empty cases\n",
    "clean <- crime[complete.cases(crime), ]"
   ]
  },
  {
   "cell_type": "markdown",
   "metadata": {},
   "source": [
    "#### Second stage"
   ]
  },
  {
   "cell_type": "markdown",
   "metadata": {},
   "source": [
    "Following the superficial analysis of the dataset, we proceed to dig deeper into the possible quality issues found and to explore the main features of our variables of interest and control variables. To do this, our approach is to try to identify sources of errors (exploring atypical values, finding unusual concentrations of observations around certain values), and using dispersion measurements and plots to identify particular features in the distribution of these variables that may be useful to better model the relationships of interest to the campaign. \n",
    "\n",
    "In this stage, we focused only on the variables that are of interest to the campaign and variables that may be useful controls to include in our regression analysis."
   ]
  },
  {
   "cell_type": "markdown",
   "metadata": {},
   "source": [
    "#### Variables of interest"
   ]
  },
  {
   "cell_type": "markdown",
   "metadata": {},
   "source": [
    "##### County\n",
    "\n",
    "We found two observations with the same `county` value (county 193). Upon closer inspection, we found that both observations contain the exact same data, then proceeded to remove one of the observations."
   ]
  },
  {
   "cell_type": "code",
   "execution_count": 6,
   "metadata": {},
   "outputs": [
    {
     "data": {
      "text/html": [
       "'Unique county identifier: FALSE'"
      ],
      "text/latex": [
       "'Unique county identifier: FALSE'"
      ],
      "text/markdown": [
       "'Unique county identifier: FALSE'"
      ],
      "text/plain": [
       "[1] \"Unique county identifier: FALSE\""
      ]
     },
     "metadata": {},
     "output_type": "display_data"
    },
    {
     "data": {
      "text/html": [
       "'Duplicated county id: 193'"
      ],
      "text/latex": [
       "'Duplicated county id: 193'"
      ],
      "text/markdown": [
       "'Duplicated county id: 193'"
      ],
      "text/plain": [
       "[1] \"Duplicated county id: 193\""
      ]
     },
     "metadata": {},
     "output_type": "display_data"
    },
    {
     "data": {
      "text/html": [
       "<table>\n",
       "<thead><tr><th></th><th scope=col>county</th><th scope=col>year</th><th scope=col>crmrte</th><th scope=col>prbarr</th><th scope=col>prbconv</th><th scope=col>prbpris</th><th scope=col>avgsen</th><th scope=col>polpc</th><th scope=col>density</th><th scope=col>taxpc</th><th scope=col>west</th><th scope=col>central</th><th scope=col>urban</th><th scope=col>pctmin80</th><th scope=col>wcon</th><th scope=col>wtuc</th><th scope=col>wtrd</th><th scope=col>wfir</th><th scope=col>wser</th><th scope=col>wmfg</th><th scope=col>wfed</th><th scope=col>wsta</th><th scope=col>wloc</th><th scope=col>mix</th><th scope=col>pctymle</th></tr></thead>\n",
       "<tbody>\n",
       "\t<tr><th scope=row>88</th><td>193        </td><td>87         </td><td>0.0235277  </td><td>0.266055   </td><td>0.588859022</td><td>0.423423   </td><td>5.86       </td><td>0.00117887 </td><td>0.8138298  </td><td>28.51783   </td><td>1          </td><td>0          </td><td>0          </td><td>5.93109    </td><td>285.8289   </td><td>480.1948   </td><td>268.3836   </td><td>365.0196   </td><td>295.9352   </td><td>295.63     </td><td>468.26     </td><td>337.88     </td><td>348.74     </td><td>0.1105016  </td><td>0.07819394 </td></tr>\n",
       "\t<tr><th scope=row>89</th><td>193        </td><td>87         </td><td>0.0235277  </td><td>0.266055   </td><td>0.588859022</td><td>0.423423   </td><td>5.86       </td><td>0.00117887 </td><td>0.8138298  </td><td>28.51783   </td><td>1          </td><td>0          </td><td>0          </td><td>5.93109    </td><td>285.8289   </td><td>480.1948   </td><td>268.3836   </td><td>365.0196   </td><td>295.9352   </td><td>295.63     </td><td>468.26     </td><td>337.88     </td><td>348.74     </td><td>0.1105016  </td><td>0.07819394 </td></tr>\n",
       "</tbody>\n",
       "</table>\n"
      ],
      "text/latex": [
       "\\begin{tabular}{r|lllllllllllllllllllllllll}\n",
       "  & county & year & crmrte & prbarr & prbconv & prbpris & avgsen & polpc & density & taxpc & west & central & urban & pctmin80 & wcon & wtuc & wtrd & wfir & wser & wmfg & wfed & wsta & wloc & mix & pctymle\\\\\n",
       "\\hline\n",
       "\t88 & 193         & 87          & 0.0235277   & 0.266055    & 0.588859022 & 0.423423    & 5.86        & 0.00117887  & 0.8138298   & 28.51783    & 1           & 0           & 0           & 5.93109     & 285.8289    & 480.1948    & 268.3836    & 365.0196    & 295.9352    & 295.63      & 468.26      & 337.88      & 348.74      & 0.1105016   & 0.07819394 \\\\\n",
       "\t89 & 193         & 87          & 0.0235277   & 0.266055    & 0.588859022 & 0.423423    & 5.86        & 0.00117887  & 0.8138298   & 28.51783    & 1           & 0           & 0           & 5.93109     & 285.8289    & 480.1948    & 268.3836    & 365.0196    & 295.9352    & 295.63      & 468.26      & 337.88      & 348.74      & 0.1105016   & 0.07819394 \\\\\n",
       "\\end{tabular}\n"
      ],
      "text/markdown": [
       "\n",
       "| <!--/--> | county | year | crmrte | prbarr | prbconv | prbpris | avgsen | polpc | density | taxpc | west | central | urban | pctmin80 | wcon | wtuc | wtrd | wfir | wser | wmfg | wfed | wsta | wloc | mix | pctymle | \n",
       "|---|---|\n",
       "| 88 | 193         | 87          | 0.0235277   | 0.266055    | 0.588859022 | 0.423423    | 5.86        | 0.00117887  | 0.8138298   | 28.51783    | 1           | 0           | 0           | 5.93109     | 285.8289    | 480.1948    | 268.3836    | 365.0196    | 295.9352    | 295.63      | 468.26      | 337.88      | 348.74      | 0.1105016   | 0.07819394  | \n",
       "| 89 | 193         | 87          | 0.0235277   | 0.266055    | 0.588859022 | 0.423423    | 5.86        | 0.00117887  | 0.8138298   | 28.51783    | 1           | 0           | 0           | 5.93109     | 285.8289    | 480.1948    | 268.3836    | 365.0196    | 295.9352    | 295.63      | 468.26      | 337.88      | 348.74      | 0.1105016   | 0.07819394  | \n",
       "\n",
       "\n"
      ],
      "text/plain": [
       "   county year crmrte    prbarr   prbconv     prbpris  avgsen polpc     \n",
       "88 193    87   0.0235277 0.266055 0.588859022 0.423423 5.86   0.00117887\n",
       "89 193    87   0.0235277 0.266055 0.588859022 0.423423 5.86   0.00117887\n",
       "   density   taxpc    west central urban pctmin80 wcon     wtuc     wtrd    \n",
       "88 0.8138298 28.51783 1    0       0     5.93109  285.8289 480.1948 268.3836\n",
       "89 0.8138298 28.51783 1    0       0     5.93109  285.8289 480.1948 268.3836\n",
       "   wfir     wser     wmfg   wfed   wsta   wloc   mix       pctymle   \n",
       "88 365.0196 295.9352 295.63 468.26 337.88 348.74 0.1105016 0.07819394\n",
       "89 365.0196 295.9352 295.63 468.26 337.88 348.74 0.1105016 0.07819394"
      ]
     },
     "metadata": {},
     "output_type": "display_data"
    }
   ],
   "source": [
    "# One duplicated county (remove)\n",
    "paste(\"Unique county identifier:\", nrow(clean) == length(unique(clean$county)))\n",
    "paste(\"Duplicated county id:\", clean$county[duplicated(clean$county) & !is.na(clean$county)])\n",
    "subset(clean, subset = clean$county == 193)\n",
    "clean <- clean[!duplicated(clean$county), ]"
   ]
  },
  {
   "cell_type": "markdown",
   "metadata": {},
   "source": [
    "##### Crime rate\n",
    "\n",
    "`crime rate` values are within a reasonable range and there are no concentrations around specific values that would lead us to suspect measurement errors. Therefore, it is not necessary to clean this variable up and we will leave it unchanged."
   ]
  },
  {
   "cell_type": "code",
   "execution_count": 7,
   "metadata": {},
   "outputs": [
    {
     "data": {
      "text/plain": [
       "    Min.  1st Qu.   Median     Mean  3rd Qu.     Max. \n",
       "0.005533 0.020604 0.030002 0.033510 0.040249 0.098966 "
      ]
     },
     "metadata": {},
     "output_type": "display_data"
    }
   ],
   "source": [
    "summary(clean$crmrte)"
   ]
  },
  {
   "cell_type": "markdown",
   "metadata": {},
   "source": [
    "The distribution of `crmrte` is positively skewed. Even though its range is not particularly large (about an order of magnitude), its skewness is also not particularly worrying to grant doing additional transformations and the number of observations (90) allows us to rely on the CLT, it is important to notice that the `log(crmrte)` has a distribution that is closer to normal. Therefore, we will explore including this transformation in follow up analyses."
   ]
  },
  {
   "cell_type": "code",
   "execution_count": 8,
   "metadata": {},
   "outputs": [
    {
     "data": {
      "image/png": "[encoded data removed]",
      "text/plain": [
       "Plot with title \"Histogram - log(Crime Rate)\""
      ]
     },
     "metadata": {},
     "output_type": "display_data"
    }
   ],
   "source": [
    "par(mfrow = c(1, 2), cex.main = 0.8, cex.lab = 0.8, cex.axis = 0.8)\n",
    "options(repr.plot.width=7, repr.plot.height=5)\n",
    "hist(clean$crmrte, main = \"Histogram - Crime Rate\", col = rgb(0.4, 0.4, 0.4, 1), ylim = c(0, 30), xlab = \"Crimes per person\",\n",
    "     breaks = sqrt(nrow(clean)))\n",
    "hist(log(clean$crmrte), main = \"Histogram - log(Crime Rate)\", col = rgb(0.4, 0.4, 0.4, 1), ylim = c(0, 30), \n",
    "     xlab = \"log(Crimes per person)\", breaks = sqrt(nrow(clean)))"
   ]
  },
  {
   "cell_type": "code",
   "execution_count": 9,
   "metadata": {},
   "outputs": [
    {
     "data": {
      "text/html": [
       "'Repeated values: 0'"
      ],
      "text/latex": [
       "'Repeated values: 0'"
      ],
      "text/markdown": [
       "'Repeated values: 0'"
      ],
      "text/plain": [
       "[1] \"Repeated values: 0\""
      ]
     },
     "metadata": {},
     "output_type": "display_data"
    }
   ],
   "source": [
    "# Check for concentration of values\n",
    "freqs.crmrte <- data.frame(table(clean$crmrte))\n",
    "paste(\"Repeated values:\", \n",
    "      length(freqs.crmrte$Freq[freqs.crmrte$Freq > 1]))"
   ]
  },
  {
   "cell_type": "markdown",
   "metadata": {},
   "source": [
    "##### Probability of arrest\n",
    "\n",
    "There is one value higher than 1. This is atypical but we cannot be sure that it is a error since we don't have enough information about how this variable is defined. Specifically, there are possible definitions of this variable or county characteristics under which a value higher than 1 is possible. For example, if `probability of arrest` is defined as,\n",
    "\n",
    "$$prbarr = \\frac{\\text{arrests_in_period_t}}{\\text{crimes_in_period_t}}$$.\n",
    "\n",
    "Under this definition, arrests in period t correspond both to crimers committed in period $t$ but also in $t-i$ since there is a lag between the time when a crime is committed and the time when the arrest is made, that could span for more than one period. For example, it is possible that after a period $t-1$ with an unusually high number of crimes followed by a period $t$ with unusually low number of crimes the number of arrests in $t$ is higher than the number of crimes in $t$, since many of the arrests in $t$ may come from the crimes committed in $t-1$."
   ]
  },
  {
   "cell_type": "code",
   "execution_count": 10,
   "metadata": {},
   "outputs": [
    {
     "data": {
      "text/html": [
       "<table>\n",
       "<thead><tr><th></th><th scope=col>county</th><th scope=col>year</th><th scope=col>crmrte</th><th scope=col>prbarr</th><th scope=col>prbconv</th><th scope=col>prbpris</th><th scope=col>avgsen</th><th scope=col>polpc</th><th scope=col>density</th><th scope=col>taxpc</th><th scope=col>west</th><th scope=col>central</th><th scope=col>urban</th><th scope=col>pctmin80</th><th scope=col>wcon</th><th scope=col>wtuc</th><th scope=col>wtrd</th><th scope=col>wfir</th><th scope=col>wser</th><th scope=col>wmfg</th><th scope=col>wfed</th><th scope=col>wsta</th><th scope=col>wloc</th><th scope=col>mix</th><th scope=col>pctymle</th></tr></thead>\n",
       "<tbody>\n",
       "\t<tr><th scope=row>51</th><td>115       </td><td>87        </td><td>0.0055332 </td><td>1.09091   </td><td>1.5       </td><td>0.5       </td><td>20.7      </td><td>0.00905433</td><td>0.3858093 </td><td>28.1931   </td><td>1         </td><td>0         </td><td>0         </td><td>1.28365   </td><td>204.2206  </td><td>503.2351  </td><td>217.4908  </td><td>342.4658  </td><td>245.2061  </td><td>448.42    </td><td>442.2     </td><td>340.39    </td><td>386.12    </td><td>0.1       </td><td>0.07253495</td></tr>\n",
       "</tbody>\n",
       "</table>\n"
      ],
      "text/latex": [
       "\\begin{tabular}{r|lllllllllllllllllllllllll}\n",
       "  & county & year & crmrte & prbarr & prbconv & prbpris & avgsen & polpc & density & taxpc & west & central & urban & pctmin80 & wcon & wtuc & wtrd & wfir & wser & wmfg & wfed & wsta & wloc & mix & pctymle\\\\\n",
       "\\hline\n",
       "\t51 & 115        & 87         & 0.0055332  & 1.09091    & 1.5        & 0.5        & 20.7       & 0.00905433 & 0.3858093  & 28.1931    & 1          & 0          & 0          & 1.28365    & 204.2206   & 503.2351   & 217.4908   & 342.4658   & 245.2061   & 448.42     & 442.2      & 340.39     & 386.12     & 0.1        & 0.07253495\\\\\n",
       "\\end{tabular}\n"
      ],
      "text/markdown": [
       "\n",
       "| <!--/--> | county | year | crmrte | prbarr | prbconv | prbpris | avgsen | polpc | density | taxpc | west | central | urban | pctmin80 | wcon | wtuc | wtrd | wfir | wser | wmfg | wfed | wsta | wloc | mix | pctymle | \n",
       "|---|\n",
       "| 51 | 115        | 87         | 0.0055332  | 1.09091    | 1.5        | 0.5        | 20.7       | 0.00905433 | 0.3858093  | 28.1931    | 1          | 0          | 0          | 1.28365    | 204.2206   | 503.2351   | 217.4908   | 342.4658   | 245.2061   | 448.42     | 442.2      | 340.39     | 386.12     | 0.1        | 0.07253495 | \n",
       "\n",
       "\n"
      ],
      "text/plain": [
       "   county year crmrte    prbarr  prbconv prbpris avgsen polpc      density  \n",
       "51 115    87   0.0055332 1.09091 1.5     0.5     20.7   0.00905433 0.3858093\n",
       "   taxpc   west central urban pctmin80 wcon     wtuc     wtrd     wfir    \n",
       "51 28.1931 1    0       0     1.28365  204.2206 503.2351 217.4908 342.4658\n",
       "   wser     wmfg   wfed  wsta   wloc   mix pctymle   \n",
       "51 245.2061 448.42 442.2 340.39 386.12 0.1 0.07253495"
      ]
     },
     "metadata": {},
     "output_type": "display_data"
    },
    {
     "data": {
      "image/png": "[encoded data removed]",
      "text/plain": [
       "Plot with title \"Histogram - Probability of Arrest\""
      ]
     },
     "metadata": {},
     "output_type": "display_data"
    }
   ],
   "source": [
    "options(repr.plot.width=5, repr.plot.height=5)\n",
    "hist(clean$prbarr, main = \"Histogram - Probability of Arrest\", xlab = \"Probality of arrest\", \n",
    "     labels = TRUE, ylim = c(0, 40), col = rgb(0.5, 0.5, 0.5, 0.3))\n",
    "clean[clean$prbarr > 1, ]"
   ]
  },
  {
   "cell_type": "markdown",
   "metadata": {},
   "source": [
    "##### Prbconv\n",
    "\n",
    "`prbconv` is being imported into R as a factor, when it should be numeric, which is likely caused by the '\\`' value. Since we have removed this value already, we can now recast this variable as as numeric."
   ]
  },
  {
   "cell_type": "code",
   "execution_count": 11,
   "metadata": {},
   "outputs": [],
   "source": [
    "# Remove ` and cast the column to numeric\n",
    "clean$prbconv <- as.numeric(as.character(clean$prbconv))"
   ]
  },
  {
   "cell_type": "markdown",
   "metadata": {},
   "source": [
    "Summarizing this variable, we found that there are 10 observations with values higher than 1 and one of them with a value higher than 2. Despite these values being unusually high they are possible for the same reasons exposed in the case of `prbarr`. Furthermore, in the case of `prbconv` the lag between the arrest and the end of a trial is likely even longer than the lag of `prbarr`. Therefore, since we don't have additional information on the definition used to build this variable and no way to validate which specific definition was used using numerical methods, we will not clean these 10 values."
   ]
  },
  {
   "cell_type": "code",
   "execution_count": 12,
   "metadata": {},
   "outputs": [
    {
     "data": {
      "text/html": [
       "'Summary statistics - Probability of conviction'"
      ],
      "text/latex": [
       "'Summary statistics - Probability of conviction'"
      ],
      "text/markdown": [
       "'Summary statistics - Probability of conviction'"
      ],
      "text/plain": [
       "[1] \"Summary statistics - Probability of conviction\""
      ]
     },
     "metadata": {},
     "output_type": "display_data"
    },
    {
     "data": {
      "text/plain": [
       "   Min. 1st Qu.  Median    Mean 3rd Qu.    Max. \n",
       "0.06838 0.34422 0.45170 0.55086 0.58513 2.12121 "
      ]
     },
     "metadata": {},
     "output_type": "display_data"
    },
    {
     "data": {
      "text/html": [
       "'Number of observations higher than 1: 10'"
      ],
      "text/latex": [
       "'Number of observations higher than 1: 10'"
      ],
      "text/markdown": [
       "'Number of observations higher than 1: 10'"
      ],
      "text/plain": [
       "[1] \"Number of observations higher than 1: 10\""
      ]
     },
     "metadata": {},
     "output_type": "display_data"
    },
    {
     "data": {
      "text/html": [
       "<table>\n",
       "<thead><tr><th></th><th scope=col>county</th><th scope=col>year</th><th scope=col>crmrte</th><th scope=col>prbarr</th><th scope=col>prbconv</th><th scope=col>prbpris</th><th scope=col>avgsen</th><th scope=col>polpc</th><th scope=col>density</th><th scope=col>taxpc</th><th scope=col>west</th><th scope=col>central</th><th scope=col>urban</th><th scope=col>pctmin80</th><th scope=col>wcon</th><th scope=col>wtuc</th><th scope=col>wtrd</th><th scope=col>wfir</th><th scope=col>wser</th><th scope=col>wmfg</th><th scope=col>wfed</th><th scope=col>wsta</th><th scope=col>wloc</th><th scope=col>mix</th><th scope=col>pctymle</th></tr></thead>\n",
       "<tbody>\n",
       "\t<tr><th scope=row>2</th><td>  3       </td><td>87        </td><td>0.0152532 </td><td>0.132029  </td><td>1.48148   </td><td>0.450000  </td><td> 6.35     </td><td>0.00074588</td><td>1.0463320 </td><td>26.89208  </td><td>0         </td><td>1         </td><td>0         </td><td> 7.91632  </td><td>255.1020  </td><td>376.2542  </td><td>196.0101  </td><td>258.5650  </td><td> 192.3077 </td><td>300.38    </td><td>409.83    </td><td>362.96    </td><td>301.47    </td><td>0.03022670</td><td>0.08260694</td></tr>\n",
       "\t<tr><th scope=row>10</th><td> 19       </td><td>87        </td><td>0.0221567 </td><td>0.162860  </td><td>1.22561   </td><td>0.333333  </td><td>10.34     </td><td>0.00202425</td><td>0.5767442 </td><td>61.15251  </td><td>0         </td><td>0         </td><td>0         </td><td>24.31170  </td><td>260.1381  </td><td>613.2261  </td><td>191.2452  </td><td>290.5141  </td><td> 266.0934 </td><td>567.06    </td><td>403.15    </td><td>258.33    </td><td>299.44    </td><td>0.05334728</td><td>0.07713232</td></tr>\n",
       "\t<tr><th scope=row>44</th><td> 99       </td><td>87        </td><td>0.0171865 </td><td>0.153846  </td><td>1.23438   </td><td>0.556962  </td><td>14.75     </td><td>0.00185912</td><td>0.5478615 </td><td>39.57348  </td><td>1         </td><td>0         </td><td>0         </td><td>14.28460  </td><td>259.7841  </td><td>417.2099  </td><td>168.2692  </td><td>301.5734  </td><td> 247.6291 </td><td>258.99    </td><td>442.76    </td><td>387.02    </td><td>291.44    </td><td>0.01960784</td><td>0.12894706</td></tr>\n",
       "\t<tr><th scope=row>51</th><td>115       </td><td>87        </td><td>0.0055332 </td><td>1.090910  </td><td>1.50000   </td><td>0.500000  </td><td>20.70     </td><td>0.00905433</td><td>0.3858093 </td><td>28.19310  </td><td>1         </td><td>0         </td><td>0         </td><td> 1.28365  </td><td>204.2206  </td><td>503.2351  </td><td>217.4908  </td><td>342.4658  </td><td> 245.2061 </td><td>448.42    </td><td>442.20    </td><td>340.39    </td><td>386.12    </td><td>0.10000000</td><td>0.07253495</td></tr>\n",
       "\t<tr><th scope=row>56</th><td>127       </td><td>87        </td><td>0.0291496 </td><td>0.179616  </td><td>1.35814   </td><td>0.335616  </td><td>15.99     </td><td>0.00158289</td><td>1.3388889 </td><td>32.02376  </td><td>0         </td><td>0         </td><td>0         </td><td>34.27990  </td><td>290.9091  </td><td>426.3901  </td><td>257.6008  </td><td>441.1413  </td><td> 305.7612 </td><td>329.87    </td><td>508.61    </td><td>380.30    </td><td>329.71    </td><td>0.06305506</td><td>0.07400288</td></tr>\n",
       "\t<tr><th scope=row>61</th><td>137       </td><td>87        </td><td>0.0126662 </td><td>0.207143  </td><td>1.06897   </td><td>0.322581  </td><td> 6.18     </td><td>0.00081426</td><td>0.3167155 </td><td>44.29367  </td><td>0         </td><td>0         </td><td>0         </td><td>33.04480  </td><td>299.4956  </td><td>356.1254  </td><td>170.8711  </td><td>170.9402  </td><td> 250.8361 </td><td>192.96    </td><td>360.84    </td><td>283.90    </td><td>321.73    </td><td>0.06870229</td><td>0.07098370</td></tr>\n",
       "\t<tr><th scope=row>67</th><td>149       </td><td>87        </td><td>0.0164987 </td><td>0.271967  </td><td>1.01538   </td><td>0.227273  </td><td>14.62     </td><td>0.00151871</td><td>0.6092437 </td><td>29.03402  </td><td>1         </td><td>0         </td><td>0         </td><td>10.00460  </td><td>223.6136  </td><td>437.0629  </td><td>188.7683  </td><td>353.2182  </td><td> 210.4415 </td><td>289.43    </td><td>421.34    </td><td>342.92    </td><td>301.23    </td><td>0.11682243</td><td>0.06215772</td></tr>\n",
       "\t<tr><th scope=row>84</th><td>185       </td><td>87        </td><td>0.0108703 </td><td>0.195266  </td><td>2.12121   </td><td>0.442857  </td><td> 5.38     </td><td>0.00122210</td><td>0.3887588 </td><td>40.82454  </td><td>0         </td><td>1         </td><td>0         </td><td>64.34820  </td><td>226.8245  </td><td>331.5650  </td><td>167.3726  </td><td>264.4231  </td><td>2177.0681 </td><td>247.72    </td><td>381.33    </td><td>367.25    </td><td>300.13    </td><td>0.04968944</td><td>0.07008217</td></tr>\n",
       "\t<tr><th scope=row>90</th><td>195       </td><td>87        </td><td>0.0313973 </td><td>0.201397  </td><td>1.67052   </td><td>0.470588  </td><td>13.02     </td><td>0.00445923</td><td>1.7459893 </td><td>53.66693  </td><td>0         </td><td>0         </td><td>0         </td><td>37.43110  </td><td>315.1641  </td><td>377.9356  </td><td>246.0614  </td><td>411.4330  </td><td> 296.8684 </td><td>392.27    </td><td>480.79    </td><td>303.11    </td><td>337.28    </td><td>0.15612382</td><td>0.07945071</td></tr>\n",
       "\t<tr><th scope=row>91</th><td>197       </td><td>87        </td><td>0.0141928 </td><td>0.207595  </td><td>1.18293   </td><td>0.360825  </td><td>12.23     </td><td>0.00118573</td><td>0.8898810 </td><td>25.95258  </td><td>1         </td><td>0         </td><td>0         </td><td> 5.46081  </td><td>314.1660  </td><td>341.8803  </td><td>182.8020  </td><td>348.1432  </td><td> 212.8205 </td><td>322.92    </td><td>391.72    </td><td>385.65    </td><td>306.85    </td><td>0.06756757</td><td>0.07419893</td></tr>\n",
       "</tbody>\n",
       "</table>\n"
      ],
      "text/latex": [
       "\\begin{tabular}{r|lllllllllllllllllllllllll}\n",
       "  & county & year & crmrte & prbarr & prbconv & prbpris & avgsen & polpc & density & taxpc & west & central & urban & pctmin80 & wcon & wtuc & wtrd & wfir & wser & wmfg & wfed & wsta & wloc & mix & pctymle\\\\\n",
       "\\hline\n",
       "\t2 &   3        & 87         & 0.0152532  & 0.132029   & 1.48148    & 0.450000   &  6.35      & 0.00074588 & 1.0463320  & 26.89208   & 0          & 1          & 0          &  7.91632   & 255.1020   & 376.2542   & 196.0101   & 258.5650   &  192.3077  & 300.38     & 409.83     & 362.96     & 301.47     & 0.03022670 & 0.08260694\\\\\n",
       "\t10 &  19        & 87         & 0.0221567  & 0.162860   & 1.22561    & 0.333333   & 10.34      & 0.00202425 & 0.5767442  & 61.15251   & 0          & 0          & 0          & 24.31170   & 260.1381   & 613.2261   & 191.2452   & 290.5141   &  266.0934  & 567.06     & 403.15     & 258.33     & 299.44     & 0.05334728 & 0.07713232\\\\\n",
       "\t44 &  99        & 87         & 0.0171865  & 0.153846   & 1.23438    & 0.556962   & 14.75      & 0.00185912 & 0.5478615  & 39.57348   & 1          & 0          & 0          & 14.28460   & 259.7841   & 417.2099   & 168.2692   & 301.5734   &  247.6291  & 258.99     & 442.76     & 387.02     & 291.44     & 0.01960784 & 0.12894706\\\\\n",
       "\t51 & 115        & 87         & 0.0055332  & 1.090910   & 1.50000    & 0.500000   & 20.70      & 0.00905433 & 0.3858093  & 28.19310   & 1          & 0          & 0          &  1.28365   & 204.2206   & 503.2351   & 217.4908   & 342.4658   &  245.2061  & 448.42     & 442.20     & 340.39     & 386.12     & 0.10000000 & 0.07253495\\\\\n",
       "\t56 & 127        & 87         & 0.0291496  & 0.179616   & 1.35814    & 0.335616   & 15.99      & 0.00158289 & 1.3388889  & 32.02376   & 0          & 0          & 0          & 34.27990   & 290.9091   & 426.3901   & 257.6008   & 441.1413   &  305.7612  & 329.87     & 508.61     & 380.30     & 329.71     & 0.06305506 & 0.07400288\\\\\n",
       "\t61 & 137        & 87         & 0.0126662  & 0.207143   & 1.06897    & 0.322581   &  6.18      & 0.00081426 & 0.3167155  & 44.29367   & 0          & 0          & 0          & 33.04480   & 299.4956   & 356.1254   & 170.8711   & 170.9402   &  250.8361  & 192.96     & 360.84     & 283.90     & 321.73     & 0.06870229 & 0.07098370\\\\\n",
       "\t67 & 149        & 87         & 0.0164987  & 0.271967   & 1.01538    & 0.227273   & 14.62      & 0.00151871 & 0.6092437  & 29.03402   & 1          & 0          & 0          & 10.00460   & 223.6136   & 437.0629   & 188.7683   & 353.2182   &  210.4415  & 289.43     & 421.34     & 342.92     & 301.23     & 0.11682243 & 0.06215772\\\\\n",
       "\t84 & 185        & 87         & 0.0108703  & 0.195266   & 2.12121    & 0.442857   &  5.38      & 0.00122210 & 0.3887588  & 40.82454   & 0          & 1          & 0          & 64.34820   & 226.8245   & 331.5650   & 167.3726   & 264.4231   & 2177.0681  & 247.72     & 381.33     & 367.25     & 300.13     & 0.04968944 & 0.07008217\\\\\n",
       "\t90 & 195        & 87         & 0.0313973  & 0.201397   & 1.67052    & 0.470588   & 13.02      & 0.00445923 & 1.7459893  & 53.66693   & 0          & 0          & 0          & 37.43110   & 315.1641   & 377.9356   & 246.0614   & 411.4330   &  296.8684  & 392.27     & 480.79     & 303.11     & 337.28     & 0.15612382 & 0.07945071\\\\\n",
       "\t91 & 197        & 87         & 0.0141928  & 0.207595   & 1.18293    & 0.360825   & 12.23      & 0.00118573 & 0.8898810  & 25.95258   & 1          & 0          & 0          &  5.46081   & 314.1660   & 341.8803   & 182.8020   & 348.1432   &  212.8205  & 322.92     & 391.72     & 385.65     & 306.85     & 0.06756757 & 0.07419893\\\\\n",
       "\\end{tabular}\n"
      ],
      "text/markdown": [
       "\n",
       "| <!--/--> | county | year | crmrte | prbarr | prbconv | prbpris | avgsen | polpc | density | taxpc | west | central | urban | pctmin80 | wcon | wtuc | wtrd | wfir | wser | wmfg | wfed | wsta | wloc | mix | pctymle | \n",
       "|---|---|---|---|---|---|---|---|---|---|\n",
       "| 2 |   3        | 87         | 0.0152532  | 0.132029   | 1.48148    | 0.450000   |  6.35      | 0.00074588 | 1.0463320  | 26.89208   | 0          | 1          | 0          |  7.91632   | 255.1020   | 376.2542   | 196.0101   | 258.5650   |  192.3077  | 300.38     | 409.83     | 362.96     | 301.47     | 0.03022670 | 0.08260694 | \n",
       "| 10 |  19        | 87         | 0.0221567  | 0.162860   | 1.22561    | 0.333333   | 10.34      | 0.00202425 | 0.5767442  | 61.15251   | 0          | 0          | 0          | 24.31170   | 260.1381   | 613.2261   | 191.2452   | 290.5141   |  266.0934  | 567.06     | 403.15     | 258.33     | 299.44     | 0.05334728 | 0.07713232 | \n",
       "| 44 |  99        | 87         | 0.0171865  | 0.153846   | 1.23438    | 0.556962   | 14.75      | 0.00185912 | 0.5478615  | 39.57348   | 1          | 0          | 0          | 14.28460   | 259.7841   | 417.2099   | 168.2692   | 301.5734   |  247.6291  | 258.99     | 442.76     | 387.02     | 291.44     | 0.01960784 | 0.12894706 | \n",
       "| 51 | 115        | 87         | 0.0055332  | 1.090910   | 1.50000    | 0.500000   | 20.70      | 0.00905433 | 0.3858093  | 28.19310   | 1          | 0          | 0          |  1.28365   | 204.2206   | 503.2351   | 217.4908   | 342.4658   |  245.2061  | 448.42     | 442.20     | 340.39     | 386.12     | 0.10000000 | 0.07253495 | \n",
       "| 56 | 127        | 87         | 0.0291496  | 0.179616   | 1.35814    | 0.335616   | 15.99      | 0.00158289 | 1.3388889  | 32.02376   | 0          | 0          | 0          | 34.27990   | 290.9091   | 426.3901   | 257.6008   | 441.1413   |  305.7612  | 329.87     | 508.61     | 380.30     | 329.71     | 0.06305506 | 0.07400288 | \n",
       "| 61 | 137        | 87         | 0.0126662  | 0.207143   | 1.06897    | 0.322581   |  6.18      | 0.00081426 | 0.3167155  | 44.29367   | 0          | 0          | 0          | 33.04480   | 299.4956   | 356.1254   | 170.8711   | 170.9402   |  250.8361  | 192.96     | 360.84     | 283.90     | 321.73     | 0.06870229 | 0.07098370 | \n",
       "| 67 | 149        | 87         | 0.0164987  | 0.271967   | 1.01538    | 0.227273   | 14.62      | 0.00151871 | 0.6092437  | 29.03402   | 1          | 0          | 0          | 10.00460   | 223.6136   | 437.0629   | 188.7683   | 353.2182   |  210.4415  | 289.43     | 421.34     | 342.92     | 301.23     | 0.11682243 | 0.06215772 | \n",
       "| 84 | 185        | 87         | 0.0108703  | 0.195266   | 2.12121    | 0.442857   |  5.38      | 0.00122210 | 0.3887588  | 40.82454   | 0          | 1          | 0          | 64.34820   | 226.8245   | 331.5650   | 167.3726   | 264.4231   | 2177.0681  | 247.72     | 381.33     | 367.25     | 300.13     | 0.04968944 | 0.07008217 | \n",
       "| 90 | 195        | 87         | 0.0313973  | 0.201397   | 1.67052    | 0.470588   | 13.02      | 0.00445923 | 1.7459893  | 53.66693   | 0          | 0          | 0          | 37.43110   | 315.1641   | 377.9356   | 246.0614   | 411.4330   |  296.8684  | 392.27     | 480.79     | 303.11     | 337.28     | 0.15612382 | 0.07945071 | \n",
       "| 91 | 197        | 87         | 0.0141928  | 0.207595   | 1.18293    | 0.360825   | 12.23      | 0.00118573 | 0.8898810  | 25.95258   | 1          | 0          | 0          |  5.46081   | 314.1660   | 341.8803   | 182.8020   | 348.1432   |  212.8205  | 322.92     | 391.72     | 385.65     | 306.85     | 0.06756757 | 0.07419893 | \n",
       "\n",
       "\n"
      ],
      "text/plain": [
       "   county year crmrte    prbarr   prbconv prbpris  avgsen polpc      density  \n",
       "2    3    87   0.0152532 0.132029 1.48148 0.450000  6.35  0.00074588 1.0463320\n",
       "10  19    87   0.0221567 0.162860 1.22561 0.333333 10.34  0.00202425 0.5767442\n",
       "44  99    87   0.0171865 0.153846 1.23438 0.556962 14.75  0.00185912 0.5478615\n",
       "51 115    87   0.0055332 1.090910 1.50000 0.500000 20.70  0.00905433 0.3858093\n",
       "56 127    87   0.0291496 0.179616 1.35814 0.335616 15.99  0.00158289 1.3388889\n",
       "61 137    87   0.0126662 0.207143 1.06897 0.322581  6.18  0.00081426 0.3167155\n",
       "67 149    87   0.0164987 0.271967 1.01538 0.227273 14.62  0.00151871 0.6092437\n",
       "84 185    87   0.0108703 0.195266 2.12121 0.442857  5.38  0.00122210 0.3887588\n",
       "90 195    87   0.0313973 0.201397 1.67052 0.470588 13.02  0.00445923 1.7459893\n",
       "91 197    87   0.0141928 0.207595 1.18293 0.360825 12.23  0.00118573 0.8898810\n",
       "   taxpc    west central urban pctmin80 wcon     wtuc     wtrd     wfir    \n",
       "2  26.89208 0    1       0      7.91632 255.1020 376.2542 196.0101 258.5650\n",
       "10 61.15251 0    0       0     24.31170 260.1381 613.2261 191.2452 290.5141\n",
       "44 39.57348 1    0       0     14.28460 259.7841 417.2099 168.2692 301.5734\n",
       "51 28.19310 1    0       0      1.28365 204.2206 503.2351 217.4908 342.4658\n",
       "56 32.02376 0    0       0     34.27990 290.9091 426.3901 257.6008 441.1413\n",
       "61 44.29367 0    0       0     33.04480 299.4956 356.1254 170.8711 170.9402\n",
       "67 29.03402 1    0       0     10.00460 223.6136 437.0629 188.7683 353.2182\n",
       "84 40.82454 0    1       0     64.34820 226.8245 331.5650 167.3726 264.4231\n",
       "90 53.66693 0    0       0     37.43110 315.1641 377.9356 246.0614 411.4330\n",
       "91 25.95258 1    0       0      5.46081 314.1660 341.8803 182.8020 348.1432\n",
       "   wser      wmfg   wfed   wsta   wloc   mix        pctymle   \n",
       "2   192.3077 300.38 409.83 362.96 301.47 0.03022670 0.08260694\n",
       "10  266.0934 567.06 403.15 258.33 299.44 0.05334728 0.07713232\n",
       "44  247.6291 258.99 442.76 387.02 291.44 0.01960784 0.12894706\n",
       "51  245.2061 448.42 442.20 340.39 386.12 0.10000000 0.07253495\n",
       "56  305.7612 329.87 508.61 380.30 329.71 0.06305506 0.07400288\n",
       "61  250.8361 192.96 360.84 283.90 321.73 0.06870229 0.07098370\n",
       "67  210.4415 289.43 421.34 342.92 301.23 0.11682243 0.06215772\n",
       "84 2177.0681 247.72 381.33 367.25 300.13 0.04968944 0.07008217\n",
       "90  296.8684 392.27 480.79 303.11 337.28 0.15612382 0.07945071\n",
       "91  212.8205 322.92 391.72 385.65 306.85 0.06756757 0.07419893"
      ]
     },
     "metadata": {},
     "output_type": "display_data"
    }
   ],
   "source": [
    "paste(\"Summary statistics - Probability of conviction\")\n",
    "summary(clean$prbconv)\n",
    "paste(\"Number of observations higher than 1:\", length(clean$prbconv[clean$prbconv > 1]))\n",
    "clean[clean$prbconv > 1, ]"
   ]
  },
  {
   "cell_type": "code",
   "execution_count": 13,
   "metadata": {},
   "outputs": [
    {
     "data": {
      "image/png": "[encoded data removed]",
      "text/plain": [
       "Plot with title \"Histogram - Probability of Conviction\""
      ]
     },
     "metadata": {},
     "output_type": "display_data"
    }
   ],
   "source": [
    "hist(clean$prbconv, main = \"Histogram - Probability of Conviction\", xlab = \"Probality of conviction\",\n",
    "     labels = TRUE, ylim = c(0, 40), col = rgb(0.5, 0.5, 0.5, 0.5))"
   ]
  },
  {
   "cell_type": "markdown",
   "metadata": {},
   "source": [
    "##### Probability of prison\n",
    "\n",
    "Probability of prison spreads over a reasonable range (between 0.15 fand 0.6) and does not seem to have unusually high concentrations around certain values that would lead us to suspect measurement errors. Furthermore, the distribution of this variable is symmetric with particular features that we need to take into account when building our model.\n",
    "\n",
    "It is interesting to note that, unlike probability of arrest and conviction, this variable does not have unusually large values, which further supports our suspicion that the numerator and denominator of these two variables correspond in part to data from different periods, given the existing lag between the time a crime is commited and an arrest is made, and the lag between an arrest and the end of a trial. In contrast, there is usually a small time lag between the time a conviction is made and the sentence is delivered, where misdemeanor cases are usually sentenced immediately and felony cases in days to weeks."
   ]
  },
  {
   "cell_type": "code",
   "execution_count": 14,
   "metadata": {},
   "outputs": [
    {
     "data": {
      "text/html": [
       "'Summary statistics - Probability of prison'"
      ],
      "text/latex": [
       "'Summary statistics - Probability of prison'"
      ],
      "text/markdown": [
       "'Summary statistics - Probability of prison'"
      ],
      "text/plain": [
       "[1] \"Summary statistics - Probability of prison\""
      ]
     },
     "metadata": {},
     "output_type": "display_data"
    },
    {
     "data": {
      "text/plain": [
       "   Min. 1st Qu.  Median    Mean 3rd Qu.    Max. \n",
       " 0.1500  0.3642  0.4222  0.4106  0.4576  0.6000 "
      ]
     },
     "metadata": {},
     "output_type": "display_data"
    }
   ],
   "source": [
    "paste(\"Summary statistics - Probability of prison\")\n",
    "summary(clean$prbpris)"
   ]
  },
  {
   "cell_type": "markdown",
   "metadata": {},
   "source": [
    "##### Average sentence\n",
    "\n",
    "The average sentence ranges between 5.3 and 20.7 days, with a mean of 9.7 days. These are all very small numbers which may indicate that this variable is defined as\n",
    "\n",
    "$$\\frac{1}{\\text{Number of convictions}}\\sum_{i=1}^n{\\text{Number of days of prison}}$$\n",
    "\n",
    "This means that the average is not taken only over the convictions that led to prison sentences, but over all convictions, including many $0$ values where there should be `NA`s.\n",
    "\n",
    "This definition is problematic for our purposes for two reasons:\n",
    "\n",
    "1. `avgsen` may have a high collinearity with `prbpris` because a higher probability of prison will likely be associated with higher average sentences. This will obfuscate the difference between these two variables, which are both of interest to the campaing, and will decrease the efficiency of the estimators, making it harder to assess their statistical significance.\n",
    "2. One of the questions of interest to the campaign is whether higher sentences will lead to lower crime. Given that the majority of sentences do not result in prison time (the probability of being sentenced is 41% on average), the average sentence will be mainly driven all these 0 values and will not provide useful information on the sentences that result in prison.\n",
    "\n",
    "However, the guiding documentation does not provide a definition of how this variable is calculated, and we don't have other ways to deduce what definition was used. Therefore, we will assume for the moment that the above is the definition that was used and will not transform this variable, since we didn't find evidence of measurement errors, and its distribution doesn't show skewness, atypical values or unusually high concentrations of observations around certain values."
   ]
  },
  {
   "cell_type": "code",
   "execution_count": 15,
   "metadata": {},
   "outputs": [
    {
     "data": {
      "text/html": [
       "'Average probability of prison: 41.1 %'"
      ],
      "text/latex": [
       "'Average probability of prison: 41.1 \\%'"
      ],
      "text/markdown": [
       "'Average probability of prison: 41.1 %'"
      ],
      "text/plain": [
       "[1] \"Average probability of prison: 41.1 %\""
      ]
     },
     "metadata": {},
     "output_type": "display_data"
    }
   ],
   "source": [
    "paste(\"Average probability of prison:\", round(100 * mean(clean$prbpris), 1), \"%\")"
   ]
  },
  {
   "cell_type": "code",
   "execution_count": 16,
   "metadata": {},
   "outputs": [
    {
     "data": {
      "text/html": [
       "'Summary statistics - Average sentence'"
      ],
      "text/latex": [
       "'Summary statistics - Average sentence'"
      ],
      "text/markdown": [
       "'Summary statistics - Average sentence'"
      ],
      "text/plain": [
       "[1] \"Summary statistics - Average sentence\""
      ]
     },
     "metadata": {},
     "output_type": "display_data"
    },
    {
     "data": {
      "text/plain": [
       "   Min. 1st Qu.  Median    Mean 3rd Qu.    Max. \n",
       "  5.380   7.375   9.110   9.689  11.465  20.700 "
      ]
     },
     "metadata": {},
     "output_type": "display_data"
    }
   ],
   "source": [
    "paste(\"Summary statistics - Average sentence\")\n",
    "summary(clean$avgsen)"
   ]
  },
  {
   "cell_type": "markdown",
   "metadata": {},
   "source": [
    "#### Control variables"
   ]
  },
  {
   "cell_type": "markdown",
   "metadata": {},
   "source": [
    "##### Tax per capita\n",
    "\n",
    "`taxpc`'s distribution is particularly atypical because it seems to be truncated at values lower than 25.69, it is positively skewed, its range comprises more than one order of magnitude and it is unusually concentrated at values between 30 and 40.\n",
    "\n",
    "To further explore the reason for this distribution we focused on the range of observations with values between 30 and 40 but we didn't find particularly high concentrations of observations around certain values that indicate measurement errors in the data. Therefore, we moved to test whether some transformations would yield a better behavior in this variable."
   ]
  },
  {
   "cell_type": "code",
   "execution_count": 17,
   "metadata": {},
   "outputs": [
    {
     "data": {
      "image/png": "[encoded data removed]",
      "text/plain": [
       "Plot with title \"Histogram - Tax Per Capita [20, 30]\""
      ]
     },
     "metadata": {},
     "output_type": "display_data"
    }
   ],
   "source": [
    "hist(clean$taxpc[clean$taxpc < 41 & clean$taxpc > 19], main = \"Histogram - Tax Per Capita [20, 30]\",\n",
    "    xlab = \"Tax per capita\", col = 'gray')"
   ]
  },
  {
   "cell_type": "markdown",
   "metadata": {},
   "source": [
    "After trying different transformation, we found that none of their distribution is particularly different than the original variable. However, `log(taxpc)` shows less concentration of observations, a lower range and might be more meaningful when interpreting the results of our model. Therefore, we will include this transformation in our bivariate analysis."
   ]
  },
  {
   "cell_type": "code",
   "execution_count": 18,
   "metadata": {},
   "outputs": [
    {
     "data": {
      "text/plain": [
       "   Min. 1st Qu.  Median    Mean 3rd Qu.    Max. \n",
       "  25.69   30.73   34.92   38.16   41.01  119.76 "
      ]
     },
     "metadata": {},
     "output_type": "display_data"
    },
    {
     "data": {
      "image/png": "[encoded data removed]",
      "text/plain": [
       "Plot with title \"1 / Tax Per Capita\""
      ]
     },
     "metadata": {},
     "output_type": "display_data"
    }
   ],
   "source": [
    "summary(clean$taxpc)\n",
    "par(mfrow = c(1, 3), cex.main = 0.8, cex.lab = 0.8, cex.axis = 0.8)\n",
    "hist(clean$taxpc, breaks = sqrt(nrow(clean)), col=\"grey\", main = \"Tax Per Capita\", xlab = \"Tax per capita\", ylim = c(0, 50))\n",
    "axis(side = 1, at = seq(0, 130, 10))\n",
    "hist(log(clean$taxpc), col=\"grey\", main = \"log(Tax Per Capita)\", breaks = sqrt(nrow(clean)), ylim = c(0, 50))\n",
    "axis(side = 1, at = seq(0, 6, 0.5))\n",
    "hist(1/clean$taxpc, col=\"grey\", main = \"1 / Tax Per Capita\", breaks = sqrt(nrow(clean)), ylim = c(0, 50))"
   ]
  },
  {
   "cell_type": "markdown",
   "metadata": {},
   "source": [
    "##### Regions\n",
    "\n",
    "The first thing to notice in the regions variables (i.e. `west` and `central`) is the apparent abscence of at least one region (`east`) in the dataset. The fact that some observations have a value $0$ in both `west` and `central` also indicates that there is at least one regional variable missing which could be a potential source of bias because it is likely to capture regional variations that we will be capturing only partially using the two variables available. Even though we could assume that there is indeed only three regions (the Wikipedia entry of this topic contains three regions [source](https://en.wikipedia.org/wiki/List_of_regions_of_the_United_States#North_Carolina)), we cannot be sure that this is indeed the definition that was used in the dataset.\n",
    "\n",
    "Furthermore, we found that there is one observation (county 71) with value 1 in both `west` and `central`. It is not clear whether this is evidence of a measurement error or if it means that the definition of these variables overlap with each other. Since we don't have a way to internally validate to which region this county belongs to, or if it can belong to both, we will leave this variable unaltered."
   ]
  },
  {
   "cell_type": "markdown",
   "metadata": {},
   "source": [
    "##### Density\n",
    "\n",
    "As mentioned above, the values of density look unusually low. Given that the density of North Carolina between 1980 and 1990 ranged from 120.9 to 136.4 [(US Census, 2018)](https://www.census.gov/population/www/censusdata/density.html) and that our sample contains 90% of counties, some of which are categorized as urban, a density of less than 1.6 for 75% of observations and a maximum density of 8.8 seems to be unusually low. Even though the guiding documentation does not provide details on the definition of this variable, it could be the case that this variable is scaled; however, we cannot validate this using our dataset and this wouldn't make a difference in our regression model, since the rescaling would not affect the $R^2$ or significance of the estimated coefficient, only it value. Therefore, this variable is still useful given that it may be used as a control and we are not particularly interested in the value of the estimated coefficient."
   ]
  },
  {
   "cell_type": "code",
   "execution_count": 19,
   "metadata": {},
   "outputs": [
    {
     "data": {
      "text/html": [
       "'Summary statistics - density'"
      ],
      "text/latex": [
       "'Summary statistics - density'"
      ],
      "text/markdown": [
       "'Summary statistics - density'"
      ],
      "text/plain": [
       "[1] \"Summary statistics - density\""
      ]
     },
     "metadata": {},
     "output_type": "display_data"
    },
    {
     "data": {
      "text/plain": [
       "   Min. 1st Qu.  Median    Mean 3rd Qu.    Max. \n",
       "0.00002 0.54718 0.97925 1.43567 1.56926 8.82765 "
      ]
     },
     "metadata": {},
     "output_type": "display_data"
    }
   ],
   "source": [
    "paste(\"Summary statistics - density\")\n",
    "summary(clean$density)"
   ]
  },
  {
   "cell_type": "code",
   "execution_count": 20,
   "metadata": {},
   "outputs": [
    {
     "data": {
      "text/html": [
       "'Values with unusual concentration of observations: 0'"
      ],
      "text/latex": [
       "'Values with unusual concentration of observations: 0'"
      ],
      "text/markdown": [
       "'Values with unusual concentration of observations: 0'"
      ],
      "text/plain": [
       "[1] \"Values with unusual concentration of observations: 0\""
      ]
     },
     "metadata": {},
     "output_type": "display_data"
    }
   ],
   "source": [
    "density.freq <- data.frame(table(clean$density))\n",
    "paste(\"Values with unusual concentration of observations:\", nrow(density.freq[density.freq$Freq > 1, ]))"
   ]
  },
  {
   "cell_type": "markdown",
   "metadata": {},
   "source": [
    "##### Other variables\n",
    "\n",
    "Upon inspecting other variables at a high level, we didn't find evidence of errors or other specially relevant features that needed to be taken into account into the model that we will build to answer our research question. The values in these variables were within reasonable ranges, there were no missing values and there were not unusually high concentrations of observations around certain values. Therefore, all the other variables that were not mentioned above were not transformed."
   ]
  },
  {
   "cell_type": "code",
   "execution_count": 21,
   "metadata": {},
   "outputs": [
    {
     "data": {
      "image/png": "[encoded data removed]",
      "text/plain": [
       "Plot with title \"Offense mix\""
      ]
     },
     "metadata": {},
     "output_type": "display_data"
    },
    {
     "data": {
      "image/png": "[encoded data removed]",
      "text/plain": [
       "Plot with title \"Percent young male\""
      ]
     },
     "metadata": {},
     "output_type": "display_data"
    }
   ],
   "source": [
    "options(repr.plot.width=7, repr.plot.height=8)\n",
    "par(mfrow = c(5, 3), mar = c(1,1,1,1)+0.9, cex.main = 0.9)\n",
    "hist(clean$prbpris, main = \"Histogram - Probability of Prison\", xlab = \"Probality of prison\", \n",
    "     labels = F, ylim = c(0, 40), col = rgb(0.5, 0.5, 0.5, 0.7))\n",
    "axis(side = 1, at = seq(0, 1, 0.2))\n",
    "hist(clean$prbpris, main = \"Histogram - Average sentence\", xlab = \"Average sentence, days\", \n",
    "     labels = F, ylim = c(0, 40), col = rgb(0.5, 0.5, 0.5, 0.9))\n",
    "hist(clean$polpc, breaks=\"FD\", col=\"grey\", main = \"Police Per Capita\")\n",
    "hist(clean$density, breaks=\"FD\", col=\"grey\", main = \"Density\")\n",
    "hist(clean$pctmin80, col=\"grey\", main = \"Percent minority\")\n",
    "hist(clean$wcon, col=\"grey\", main = \"Wage construction\")\n",
    "hist(clean$wtuc, col=\"grey\", main = \"Wage trns, util, comm\")\n",
    "hist(clean$wtrd, col=\"grey\", main = \"Wage whlesle, retail trade\")\n",
    "hist(clean$wfir, col=\"grey\", main = \"Wage fin, ins, real est\")\n",
    "hist(clean$wser, col=\"grey\", main = \"Wage services\")\n",
    "hist(clean$wmfg, col=\"grey\", main = \"Wage manufacturing\")\n",
    "hist(clean$wfed, col=\"grey\", main = \"Wage fed employees\")\n",
    "hist(clean$wsta, col=\"grey\", main = \"Wage state employees\")\n",
    "hist(clean$wloc, col=\"grey\", main = \"Wage local gov employees\")\n",
    "hist(clean$mix, col=\"grey\", main = \"Offense mix\")\n",
    "hist(clean$pctymle, col=\"grey\", main = \"Percent young male\")"
   ]
  },
  {
   "cell_type": "markdown",
   "metadata": {},
   "source": [
    "### Bivariate analysis"
   ]
  },
  {
   "cell_type": "markdown",
   "metadata": {},
   "source": [
    "Once we have finished exploring the quality of the variables in the dataset, and the main features of the variables that are of interest to the campaign that need to be taken into account for building the model that will help us answering the campaign's research question, we need to start exploring how the variables of interest relate to each other, mainly, how our variables of interest relate to `Crime rate` and to other predictors of `Crime rate` that may improve the model by reducing bias and increasing the efficiency of their estimated coeffcients."
   ]
  },
  {
   "cell_type": "markdown",
   "metadata": {},
   "source": [
    "#### Variables of interest"
   ]
  },
  {
   "cell_type": "markdown",
   "metadata": {},
   "source": [
    "An initial exploration of the relationship between Crime rate and log(Crime rate) and our variables of interest (probability of arrest, probability of conviction, probability of prison and average sentence) indicates a relationship that is similar for both crime rate and its logarithmic form. Specifically, there seems to be a negative relationship with probbaibility of arrest and probability of conviction but not a clear relationship with probability of conviction or average sentence). Furthermore, there doesn't seem to be a strong indication of multicollinearity between the regressors, except for proability of arrest and average sentence.\n",
    "\n",
    "Following this initial exploration, we will proceed to further investigate the relationships hinted at by the scatteplot matrix, using correlation analysis to quantify their strength."
   ]
  },
  {
   "cell_type": "code",
   "execution_count": 29,
   "metadata": {},
   "outputs": [],
   "source": [
    "vars.interest <- c(\"crmrte\", \"log.crmrte\", \"prbarr\", \"log.prbarr\",\n",
    "                   \"prbconv\", \"log.prbconv\", \"prbpris\", \"log.prbpris\")\n",
    "\n",
    "# Log transformations\n",
    "clean$log.crmrte <- log(clean$crmrte)\n",
    "clean$log.taxpc <- log(clean$taxpc)\n",
    "clean$log.prbarr <- log(clean$prbarr)\n",
    "clean$log.prbconv <- log(clean$prbconv)\n",
    "clean$log.prbpris <- log(clean$prbpris)\n",
    "clean$log.polpc <- log(clean$polpc)"
   ]
  },
  {
   "cell_type": "code",
   "execution_count": 30,
   "metadata": {},
   "outputs": [
    {
     "data": {
      "text/html": [
       "'Scatterplot matrix of variables of interest and Crime rate'"
      ],
      "text/latex": [
       "'Scatterplot matrix of variables of interest and Crime rate'"
      ],
      "text/markdown": [
       "'Scatterplot matrix of variables of interest and Crime rate'"
      ],
      "text/plain": [
       "[1] \"Scatterplot matrix of variables of interest and Crime rate\""
      ]
     },
     "metadata": {},
     "output_type": "display_data"
    },
    {
     "data": {
      "image/png": "[encoded data removed]",
      "text/plain": [
       "plot without title"
      ]
     },
     "metadata": {},
     "output_type": "display_data"
    }
   ],
   "source": [
    "paste(\"Scatterplot matrix of variables of interest and Crime rate\")\n",
    "options(repr.plot.width=8, repr.plot.height=8)\n",
    "scatterplotMatrix(clean[, vars.interest])"
   ]
  },
  {
   "cell_type": "markdown",
   "metadata": {},
   "source": [
    "A correlation analysis shows that indeed probability of arrest and probability of conviction (both in their original and log-transformed forms) are negatively correlated with both crime rate and its logarithmic transformation, and also confirms that there is no correlation between these two variables and probability of prison and average sentence.\n",
    "\n",
    "For all variables of interest (probability of arrest, probability of conviction and probability of arrest) the linear relationship measured by the correlation coefficient is higher when `crime rate` is log-transformed. Therefore, we should test both forms of this variable when building our model taking this into account (but also how the two forms of this variable affect the interpretability of results and how they affect the model assumptions.\n",
    "\n",
    "The log form of our variables of interest does not change the correlation between them and `crime rate` heavily. However, it is still important to consider this transformation when defininig our population model because they could improve the model's interpretabilitya and assumptions."
   ]
  },
  {
   "cell_type": "code",
   "execution_count": 31,
   "metadata": {},
   "outputs": [
    {
     "data": {
      "image/png": "[encoded data removed]",
      "text/plain": [
       "Plot with title \"Correlations - Variables of interest\""
      ]
     },
     "metadata": {},
     "output_type": "display_data"
    }
   ],
   "source": [
    "# Compute correlations\n",
    "crime.corrs <- cor(select(clean, vars.interest))[1:2, 3:8]\n",
    "# crime.corrs <- cor(select(clean, vars.interest))\n",
    "\n",
    "# Plot correlations\n",
    "options(repr.plot.width=5, repr.plot.height=4)\n",
    "corrplot(crime.corrs, method = 'square',  order = 'original', diag = T, addCoef.col = T,\n",
    "         tl.col = 'black', tl.cex = 0.9, addCoefasPercent = T, number.cex = 0.7)\n",
    "title(\"Correlations - Variables of interest\", cex.main = 1)"
   ]
  },
  {
   "cell_type": "markdown",
   "metadata": {},
   "source": [
    "#### Control variables"
   ]
  },
  {
   "cell_type": "markdown",
   "metadata": {},
   "source": [
    "Regarding possible control values, our main interest is to find variables that either confound the effect of our variables of interest on `crime rate` or that can increase the model's fit, reducing the variance of the model's error and of the coefficients of interest. \n",
    "\n",
    "To find which variables can be used as controls in our model, we did an initial exploratory analysis using a scatterplot matrix to find which of the candidate variables seemed to be related with `crime rate` or its logarithmic transformation. Upon inspecting the scatterplot matrix, we found that log of police per capita, tax per capita and density seem to have a relationship with `crime rate` and its logarithmic transformations. We will proceed to validate this using correlation analysis."
   ]
  },
  {
   "cell_type": "code",
   "execution_count": 32,
   "metadata": {},
   "outputs": [
    {
     "name": "stderr",
     "output_type": "stream",
     "text": [
      "Warning message in smoother(x[subs], y[subs], col = smoother.args$col[i], log.x = FALSE, :\n",
      "\"could not fit smooth\"Warning message in smoother(x[subs], y[subs], col = smoother.args$col[i], log.x = FALSE, :\n",
      "\"could not fit smooth\"Warning message in smoother(x[subs], y[subs], col = smoother.args$col[i], log.x = FALSE, :\n",
      "\"could not fit smooth\"Warning message in smoother(x[subs], y[subs], col = smoother.args$col[i], log.x = FALSE, :\n",
      "\"could not fit smooth\""
     ]
    },
    {
     "data": {
      "image/png": "[encoded data removed]",
      "text/plain": [
       "plot without title"
      ]
     },
     "metadata": {},
     "output_type": "display_data"
    }
   ],
   "source": [
    "# Possible control variables\n",
    "vars.control <- c('avgsen', 'polpc', 'log.polpc', 'density', 'west', 'central', 'taxpc', 'log.taxpc')\n",
    "\n",
    "# Scatterplot matrix\n",
    "options(repr.plot.width=8, repr.plot.height=8)\n",
    "scatterplotMatrix(clean[, c('crmrte', 'log.crmrte', vars.control)])"
   ]
  },
  {
   "cell_type": "markdown",
   "metadata": {},
   "source": [
    "The correlation matrix included below shows that `log.polpc`, `density`, `west` and `taxpc` are correlated with both `crime rate` and its logarithmic transformation and thus should be included in our estimated model, in order to immprove it's predictive power and reduce the variance of the estimated coefficients of our variables of interest. Furthermore, density is both correlated with `crime rate` and `log.prbarr`, which indicates that it may be a possible confounding variable and should also be included in our estimated model to reduce the bias of the estimator of the coefficient of `log.prbarr`."
   ]
  },
  {
   "cell_type": "code",
   "execution_count": 42,
   "metadata": {},
   "outputs": [
    {
     "data": {
      "image/png": "[encoded data removed]",
      "text/plain": [
       "Plot with title \"Correlations - Control variables\""
      ]
     },
     "metadata": {},
     "output_type": "display_data"
    }
   ],
   "source": [
    "corrs.control <- cor(clean[, c(vars.interest, vars.control)], use = 'complete.obs')[1:8, 10:16]\n",
    "\n",
    "options(repr.plot.width=5, repr.plot.height=5)\n",
    "par(oma = c(0,0,0,4))\n",
    "corrplot(corrs.control, method = 'square',  order = 'original', diag = T, addCoef.col = T,\n",
    "         tl.col = 'black', tl.cex = 0.8, addCoefasPercent = T, number.cex = 0.6)\n",
    "title(\"Correlations - Control variables\", cex.main = 0.8)"
   ]
  },
  {
   "cell_type": "markdown",
   "metadata": {},
   "source": [
    "In conclusion, the main recommendations provided by the exploratory data analysis, that need to be taken into account when specifying our regression model are the following:\n",
    "\n",
    "- Both `crime rate` and its logarithmic transformation should be tested as possible dependent variables.\n",
    "\n",
    "\n",
    "- `probability of arrest` and `probability of conviction`, our variables of interest, are correlated with both our candidate dependent variables and should be included in the regression model. Furthermore, their logarithmic transformation form is also correlated with the dependent variable and should be tested against their original form, using the resulting model's fit and meeting of the CLM asssumptions to decide which should be included in the specification of model 2.\n",
    "\n",
    "\n",
    "- `log.polpc`, `density`, `west` and `taxpc` seem to have the strongest relationship with `crime rate` and its logarithmic form and should be included in the model specification as controls. It is specially important to include `density` since it is likely controlling for confounding effects.\n",
    "\n",
    "\n",
    "- `probability of prison` does not seem to have an important relationship with `crime rate`. However, this is a result that is relevant to the campaign's research question; thus, it should be included in the regression, in order to show this variable's statistical and practical significance and the implications of this result to the political campaign."
   ]
  },
  {
   "cell_type": "markdown",
   "metadata": {},
   "source": [
    "## 3 and 4) Model Building and Regression Analysis"
   ]
  },
  {
   "cell_type": "markdown",
   "metadata": {},
   "source": [
    "### Model 1: Our Base Model Measures the Elasticity of $crmrte$ with Respect to $prbarr$, $prbconv$, and $prbpris$\n",
    "\n",
    "We wanted to understand if an increasing probability of incarceration for offenders ($prbpris$) is associated with lower crime rates ($crmrte$); consequently, our base model regresses our primary outcome variable $crmrte$ on the independent variable $prbpris$. However, an offender must first be arrested and convicted of a crime before s/he faces the possibility of serving prison time. Importantly, the probability that s/he will be arrested ($prbarr$) and the probability s/he will actually be convicted of a crime ($prbconv$) might also be associated with changes in $crmrte$. For example, we speculate that potential offenders could in principle be loathe to commit crimes in locales that have a higher propensity for arresting suspects. Similarly, convictions that do not result in incarceration but that place offenders on probation or that punish them with fines and/or community service could in principle reduce crime rate. Consequently, we also included $prbarr$ and $prbconv$ as regressors in our base model to control for these (and other) potential effects that could be associated with changes in these variables.\n",
    "\n",
    "To begin, we regressed $crmrte$ on each of these variables ($prbarr$, $prbconv$, and $prbpris$) individually. In so doing, we discovered that the $prbpris$ appears to be uncorrelated with $crmrte$ $(R^2 = 0.00)$; thus, to a first approximation and without accounting for other variables, this model suggests that an increasing probability of incarceration is not associated with lower crime rates nor is a decreasing probability of incarceration associated with higher crime rates. In contrast, increasing $prbarr$ and $prbconv$ appeared to be associated with lower $crmrte$. Specifically, each unit increase in $prbarr$ is associated with a 0.054 unit decrease in $crmrte$ $(R^2 = 0.16)$, while each unit increase in $prbconv$ is associated with a 0.021 unit decrease in $crmrte$ $(R^2 = 0.15)$. \n",
    "\n",
    "We also considered the possibility that the length of a possible prison sentence (i.e., $avgsen$) might confer a better fit than $prbpris$; however, we did not employ $avgsen$ as a regressor in our base model because (i) a simple regression of $crmrte$ on $avgsen$ reveals that $avgsen$ does not explain any variation in $crmrte$ (i.e., R$^2$=0) and (ii) it is also positively correlated with $prbpris$. Consequently, we judged that including $avgsen$ in our base model would only serve to increase the variance of our estimates for other coefficients with little gain. \n",
    "\n",
    "Next, we explored transformations that might improve our model's fit to these data. Although the maximum value of $crmrte$ is only ~18 times greater than its minimum value, (0.0055 vs. 0.099), we discovered that regressions of  $\\log{crmrte}$ on $prbarr$ or $prbconv$ individually had better fits $(prbarr: R^2 = 0.22$ and $prbconv: R^2 = 0.20)$ than regressions of $crmrte$ on $prbarr$ or $prbconv$ $(prbarr: R^2 = 0.15$ and $prbconv: R^2 = 0.16)$. Thus, we chose to employ $\\log_{crmrte}$ in our base model. \n",
    "\n",
    "We also chose to log-transform all of our regressors. Doing so sacrifices a slightly better fit as compared to modeling untransformed regressors $(R^2 = 0.45$ vs. $R^2 = 0.41)$. However, the units of our dependent variable and independent variables are somewhat disparate and obscure, and the log-transformed regressors facilitate more easily understood comparisons between them in terms of % changes. Specifically, each slope coefficient $\\beta_j$ will describe how a 1% change in the corresponding regressor changes $crmrte$ by $\\beta_j * 1\\% = \\beta_j\\%$ Additionally, employing log-transformed regressors flattened the model's residuals vs. fitted values plot, which helped it conform to the zero-conditional mean assumption of the classic linear model (CLM). Employing log-transformed regressors also reduced the influence that all outliers have on our model (all data points have a Cook's distance below 0.5 in our model). Having fully specified our base model, we calculated the least-squares fit below. \n",
    "\n",
    "$$ \\log crmrte = -4.71 - 0.72*\\log prbarr - 0.47*\\log prbconv + 0.15*\\log prbpris $$\n",
    "\n",
    "We set out to determine if the probability with which an offender receives a prison sentence is associated with a lower crime rate; the coefficients in our multivariate model indicate that the probability with which offenders receive prison sentences upon conviction is associated with an increasing crime rate, but that increasing the probabilities of arrest and conviction are associated with decreasing crime rate. Since they have negative slope coefficients, our model suggests that $prbarr$ and $prbconv$ are associated with reduced $crmrte$, but that $prbpris$, which has a positive slope coefficient, is not. Specifically, we expect 1% increases in the probability of arrest or probability of conviction will correspond with 0.72% or 0.47% reductions in crime rate; in contrast, we our model predicts that a 1% increase in the probability of prison sentence is associated with a 0.15% increase in crime rate.\n",
    "\n",
    "We speculate that $\\beta_{\\log{prbarr}}$ and $\\beta_{\\log{prbconv}}$ are practically significant, but that $\\beta_{\\log{prbpris}}$ probably is not. Prison is very expensive relative to alternative sentences. However, our model suggests that compartively larger reductions in crime are associated with simply arresting suspects and convicting offenders; incarceration, which is more costly, is not associated with higher or lower crime rates.\n",
    "\n",
    "Importantly, we cannot claim that any causal effects exist in these relationships. For example, an increased probability of prison might be associated with higher crime rate because locales with higher violent crime rates sentence more people to prison; this in and of itself would not suggest that increasing the rates of incarceration would reduce crime rates. Similarly, areas with lower crime rates might simply have higher rates of arrests and convictions because the lower crime rates facilitate these effects; stated another way, other factors (e.g., poverty rates, education) could play a more direct role in reducing crime. "
   ]
  },
  {
   "cell_type": "markdown",
   "metadata": {},
   "source": [
    "#### Code to Calculate Model 1"
   ]
  },
  {
   "cell_type": "code",
   "execution_count": 44,
   "metadata": {},
   "outputs": [
    {
     "data": {
      "text/html": [
       "'Model: log(crmrte) ~ log(prbarr) + log(prbconv) + log(prbpris)'"
      ],
      "text/latex": [
       "'Model: log(crmrte) \\textasciitilde{} log(prbarr) + log(prbconv) + log(prbpris)'"
      ],
      "text/markdown": [
       "'Model: log(crmrte) ~ log(prbarr) + log(prbconv) + log(prbpris)'"
      ],
      "text/plain": [
       "[1] \"Model: log(crmrte) ~ log(prbarr) + log(prbconv) + log(prbpris)\""
      ]
     },
     "metadata": {},
     "output_type": "display_data"
    },
    {
     "data": {
      "text/html": [
       "'Slope (log(prbarr)): -0.723804208413992'"
      ],
      "text/latex": [
       "'Slope (log(prbarr)): -0.723804208413992'"
      ],
      "text/markdown": [
       "'Slope (log(prbarr)): -0.723804208413992'"
      ],
      "text/plain": [
       "[1] \"Slope (log(prbarr)): -0.723804208413992\""
      ]
     },
     "metadata": {},
     "output_type": "display_data"
    },
    {
     "data": {
      "text/html": [
       "'Slope (log(prbconv)): -0.471991225676325'"
      ],
      "text/latex": [
       "'Slope (log(prbconv)): -0.471991225676325'"
      ],
      "text/markdown": [
       "'Slope (log(prbconv)): -0.471991225676325'"
      ],
      "text/plain": [
       "[1] \"Slope (log(prbconv)): -0.471991225676325\""
      ]
     },
     "metadata": {},
     "output_type": "display_data"
    },
    {
     "data": {
      "text/html": [
       "'Slope (log(prbpris)): 0.147727732051512'"
      ],
      "text/latex": [
       "'Slope (log(prbpris)): 0.147727732051512'"
      ],
      "text/markdown": [
       "'Slope (log(prbpris)): 0.147727732051512'"
      ],
      "text/plain": [
       "[1] \"Slope (log(prbpris)): 0.147727732051512\""
      ]
     },
     "metadata": {},
     "output_type": "display_data"
    },
    {
     "data": {
      "text/html": [
       "'Intercept: -4.70767874893467'"
      ],
      "text/latex": [
       "'Intercept: -4.70767874893467'"
      ],
      "text/markdown": [
       "'Intercept: -4.70767874893467'"
      ],
      "text/plain": [
       "[1] \"Intercept: -4.70767874893467\""
      ]
     },
     "metadata": {},
     "output_type": "display_data"
    },
    {
     "data": {
      "text/html": [
       "'R-squared: 0.41'"
      ],
      "text/latex": [
       "'R-squared: 0.41'"
      ],
      "text/markdown": [
       "'R-squared: 0.41'"
      ],
      "text/plain": [
       "[1] \"R-squared: 0.41\""
      ]
     },
     "metadata": {},
     "output_type": "display_data"
    },
    {
     "data": {
      "text/html": [
       "'Adjusted R-squared: 0.39'"
      ],
      "text/latex": [
       "'Adjusted R-squared: 0.39'"
      ],
      "text/markdown": [
       "'Adjusted R-squared: 0.39'"
      ],
      "text/plain": [
       "[1] \"Adjusted R-squared: 0.39\""
      ]
     },
     "metadata": {},
     "output_type": "display_data"
    },
    {
     "data": {
      "text/html": [
       "'Akaike Information Criterion: 108'"
      ],
      "text/latex": [
       "'Akaike Information Criterion: 108'"
      ],
      "text/markdown": [
       "'Akaike Information Criterion: 108'"
      ],
      "text/plain": [
       "[1] \"Akaike Information Criterion: 108\""
      ]
     },
     "metadata": {},
     "output_type": "display_data"
    },
    {
     "data": {
      "text/html": [
       "'###############################'"
      ],
      "text/latex": [
       "'\\#\\#\\#\\#\\#\\#\\#\\#\\#\\#\\#\\#\\#\\#\\#\\#\\#\\#\\#\\#\\#\\#\\#\\#\\#\\#\\#\\#\\#\\#\\#'"
      ],
      "text/markdown": [
       "'###############################'"
      ],
      "text/plain": [
       "[1] \"###############################\""
      ]
     },
     "metadata": {},
     "output_type": "display_data"
    }
   ],
   "source": [
    "# This code calculates the coefficients for our base model\n",
    "final_model1 <- lm(log(crmrte) ~ log(prbarr) + log(prbconv) + log(prbpris), data=clean)\n",
    "paste(\"Model:\", summary(final_model1)$call[2])\n",
    "paste(\"Slope (log(prbarr)):\", final_model1$coef[2])\n",
    "paste(\"Slope (log(prbconv)):\", final_model1$coef[3])\n",
    "paste(\"Slope (log(prbpris)):\", final_model1$coef[4])\n",
    "paste(\"Intercept:\", final_model1$coef[1])\n",
    "paste(\"R-squared:\", round(summary(final_model1)$r.squared, 2))\n",
    "paste(\"Adjusted R-squared:\", round(summary(final_model1)$adj.r.squared, 2))\n",
    "paste(\"Akaike Information Criterion:\", round(AIC(final_model1), 0))\n",
    "paste(\"###############################\")"
   ]
  },
  {
   "cell_type": "markdown",
   "metadata": {},
   "source": [
    "#### Different Regressions We Employed To Build Our Base Model"
   ]
  },
  {
   "cell_type": "code",
   "execution_count": 45,
   "metadata": {
    "scrolled": true
   },
   "outputs": [
    {
     "data": {
      "text/html": [
       "'Model: crmrte ~ prbarr'"
      ],
      "text/latex": [
       "'Model: crmrte \\textasciitilde{} prbarr'"
      ],
      "text/markdown": [
       "'Model: crmrte ~ prbarr'"
      ],
      "text/plain": [
       "[1] \"Model: crmrte ~ prbarr\""
      ]
     },
     "metadata": {},
     "output_type": "display_data"
    },
    {
     "data": {
      "text/html": [
       "'Slope: -0.0542278121865468'"
      ],
      "text/latex": [
       "'Slope: -0.0542278121865468'"
      ],
      "text/markdown": [
       "'Slope: -0.0542278121865468'"
      ],
      "text/plain": [
       "[1] \"Slope: -0.0542278121865468\""
      ]
     },
     "metadata": {},
     "output_type": "display_data"
    },
    {
     "data": {
      "text/html": [
       "'Intercept: 0.0495200097730725'"
      ],
      "text/latex": [
       "'Intercept: 0.0495200097730725'"
      ],
      "text/markdown": [
       "'Intercept: 0.0495200097730725'"
      ],
      "text/plain": [
       "[1] \"Intercept: 0.0495200097730725\""
      ]
     },
     "metadata": {},
     "output_type": "display_data"
    },
    {
     "data": {
      "text/html": [
       "'R-squared: 0.16'"
      ],
      "text/latex": [
       "'R-squared: 0.16'"
      ],
      "text/markdown": [
       "'R-squared: 0.16'"
      ],
      "text/plain": [
       "[1] \"R-squared: 0.16\""
      ]
     },
     "metadata": {},
     "output_type": "display_data"
    },
    {
     "data": {
      "text/html": [
       "'Adjusted R-squared: 0.15'"
      ],
      "text/latex": [
       "'Adjusted R-squared: 0.15'"
      ],
      "text/markdown": [
       "'Adjusted R-squared: 0.15'"
      ],
      "text/plain": [
       "[1] \"Adjusted R-squared: 0.15\""
      ]
     },
     "metadata": {},
     "output_type": "display_data"
    },
    {
     "data": {
      "text/html": [
       "'Akaike Information Criterion: -469'"
      ],
      "text/latex": [
       "'Akaike Information Criterion: -469'"
      ],
      "text/markdown": [
       "'Akaike Information Criterion: -469'"
      ],
      "text/plain": [
       "[1] \"Akaike Information Criterion: -469\""
      ]
     },
     "metadata": {},
     "output_type": "display_data"
    },
    {
     "data": {
      "text/html": [
       "'###############################'"
      ],
      "text/latex": [
       "'\\#\\#\\#\\#\\#\\#\\#\\#\\#\\#\\#\\#\\#\\#\\#\\#\\#\\#\\#\\#\\#\\#\\#\\#\\#\\#\\#\\#\\#\\#\\#'"
      ],
      "text/markdown": [
       "'###############################'"
      ],
      "text/plain": [
       "[1] \"###############################\""
      ]
     },
     "metadata": {},
     "output_type": "display_data"
    },
    {
     "data": {
      "text/html": [
       "'Model: crmrte ~ prbconv'"
      ],
      "text/latex": [
       "'Model: crmrte \\textasciitilde{} prbconv'"
      ],
      "text/markdown": [
       "'Model: crmrte ~ prbconv'"
      ],
      "text/plain": [
       "[1] \"Model: crmrte ~ prbconv\""
      ]
     },
     "metadata": {},
     "output_type": "display_data"
    },
    {
     "data": {
      "text/html": [
       "'Slope: -0.0205811570195115'"
      ],
      "text/latex": [
       "'Slope: -0.0205811570195115'"
      ],
      "text/markdown": [
       "'Slope: -0.0205811570195115'"
      ],
      "text/plain": [
       "[1] \"Slope: -0.0205811570195115\""
      ]
     },
     "metadata": {},
     "output_type": "display_data"
    },
    {
     "data": {
      "text/html": [
       "'Intercept: 0.044847282664666'"
      ],
      "text/latex": [
       "'Intercept: 0.044847282664666'"
      ],
      "text/markdown": [
       "'Intercept: 0.044847282664666'"
      ],
      "text/plain": [
       "[1] \"Intercept: 0.044847282664666\""
      ]
     },
     "metadata": {},
     "output_type": "display_data"
    },
    {
     "data": {
      "text/html": [
       "'R-squared: 0.15'"
      ],
      "text/latex": [
       "'R-squared: 0.15'"
      ],
      "text/markdown": [
       "'R-squared: 0.15'"
      ],
      "text/plain": [
       "[1] \"R-squared: 0.15\""
      ]
     },
     "metadata": {},
     "output_type": "display_data"
    },
    {
     "data": {
      "text/html": [
       "'Adjusted R-squared: 0.14'"
      ],
      "text/latex": [
       "'Adjusted R-squared: 0.14'"
      ],
      "text/markdown": [
       "'Adjusted R-squared: 0.14'"
      ],
      "text/plain": [
       "[1] \"Adjusted R-squared: 0.14\""
      ]
     },
     "metadata": {},
     "output_type": "display_data"
    },
    {
     "data": {
      "text/html": [
       "'Akaike Information Criterion: -469'"
      ],
      "text/latex": [
       "'Akaike Information Criterion: -469'"
      ],
      "text/markdown": [
       "'Akaike Information Criterion: -469'"
      ],
      "text/plain": [
       "[1] \"Akaike Information Criterion: -469\""
      ]
     },
     "metadata": {},
     "output_type": "display_data"
    },
    {
     "data": {
      "text/html": [
       "'###############################'"
      ],
      "text/latex": [
       "'\\#\\#\\#\\#\\#\\#\\#\\#\\#\\#\\#\\#\\#\\#\\#\\#\\#\\#\\#\\#\\#\\#\\#\\#\\#\\#\\#\\#\\#\\#\\#'"
      ],
      "text/markdown": [
       "'###############################'"
      ],
      "text/plain": [
       "[1] \"###############################\""
      ]
     },
     "metadata": {},
     "output_type": "display_data"
    },
    {
     "data": {
      "text/html": [
       "'Model: crmrte ~ prbpris'"
      ],
      "text/latex": [
       "'Model: crmrte \\textasciitilde{} prbpris'"
      ],
      "text/markdown": [
       "'Model: crmrte ~ prbpris'"
      ],
      "text/plain": [
       "[1] \"Model: crmrte ~ prbpris\""
      ]
     },
     "metadata": {},
     "output_type": "display_data"
    },
    {
     "data": {
      "text/html": [
       "'Slope: 0.0112364581232119'"
      ],
      "text/latex": [
       "'Slope: 0.0112364581232119'"
      ],
      "text/markdown": [
       "'Slope: 0.0112364581232119'"
      ],
      "text/plain": [
       "[1] \"Slope: 0.0112364581232119\""
      ]
     },
     "metadata": {},
     "output_type": "display_data"
    },
    {
     "data": {
      "text/html": [
       "'Intercept: 0.0288959467111836'"
      ],
      "text/latex": [
       "'Intercept: 0.0288959467111836'"
      ],
      "text/markdown": [
       "'Intercept: 0.0288959467111836'"
      ],
      "text/plain": [
       "[1] \"Intercept: 0.0288959467111836\""
      ]
     },
     "metadata": {},
     "output_type": "display_data"
    },
    {
     "data": {
      "text/html": [
       "'R-squared: 0'"
      ],
      "text/latex": [
       "'R-squared: 0'"
      ],
      "text/markdown": [
       "'R-squared: 0'"
      ],
      "text/plain": [
       "[1] \"R-squared: 0\""
      ]
     },
     "metadata": {},
     "output_type": "display_data"
    },
    {
     "data": {
      "text/html": [
       "'Adjusted R-squared: -0.01'"
      ],
      "text/latex": [
       "'Adjusted R-squared: -0.01'"
      ],
      "text/markdown": [
       "'Adjusted R-squared: -0.01'"
      ],
      "text/plain": [
       "[1] \"Adjusted R-squared: -0.01\""
      ]
     },
     "metadata": {},
     "output_type": "display_data"
    },
    {
     "data": {
      "text/html": [
       "'Akaike Information Criterion: -454'"
      ],
      "text/latex": [
       "'Akaike Information Criterion: -454'"
      ],
      "text/markdown": [
       "'Akaike Information Criterion: -454'"
      ],
      "text/plain": [
       "[1] \"Akaike Information Criterion: -454\""
      ]
     },
     "metadata": {},
     "output_type": "display_data"
    },
    {
     "data": {
      "text/html": [
       "'###############################'"
      ],
      "text/latex": [
       "'\\#\\#\\#\\#\\#\\#\\#\\#\\#\\#\\#\\#\\#\\#\\#\\#\\#\\#\\#\\#\\#\\#\\#\\#\\#\\#\\#\\#\\#\\#\\#'"
      ],
      "text/markdown": [
       "'###############################'"
      ],
      "text/plain": [
       "[1] \"###############################\""
      ]
     },
     "metadata": {},
     "output_type": "display_data"
    },
    {
     "data": {
      "text/html": [
       "'Model: crmrte ~ avgsen'"
      ],
      "text/latex": [
       "'Model: crmrte \\textasciitilde{} avgsen'"
      ],
      "text/markdown": [
       "'Model: crmrte ~ avgsen'"
      ],
      "text/plain": [
       "[1] \"Model: crmrte ~ avgsen\""
      ]
     },
     "metadata": {},
     "output_type": "display_data"
    },
    {
     "data": {
      "text/html": [
       "'Slope: 0.000131920111416843'"
      ],
      "text/latex": [
       "'Slope: 0.000131920111416843'"
      ],
      "text/markdown": [
       "'Slope: 0.000131920111416843'"
      ],
      "text/plain": [
       "[1] \"Slope: 0.000131920111416843\""
      ]
     },
     "metadata": {},
     "output_type": "display_data"
    },
    {
     "data": {
      "text/html": [
       "'Intercept: 0.032231764995464'"
      ],
      "text/latex": [
       "'Intercept: 0.032231764995464'"
      ],
      "text/markdown": [
       "'Intercept: 0.032231764995464'"
      ],
      "text/plain": [
       "[1] \"Intercept: 0.032231764995464\""
      ]
     },
     "metadata": {},
     "output_type": "display_data"
    },
    {
     "data": {
      "text/html": [
       "'R-squared: 0'"
      ],
      "text/latex": [
       "'R-squared: 0'"
      ],
      "text/markdown": [
       "'R-squared: 0'"
      ],
      "text/plain": [
       "[1] \"R-squared: 0\""
      ]
     },
     "metadata": {},
     "output_type": "display_data"
    },
    {
     "data": {
      "text/html": [
       "'Adjusted R-squared: -0.01'"
      ],
      "text/latex": [
       "'Adjusted R-squared: -0.01'"
      ],
      "text/markdown": [
       "'Adjusted R-squared: -0.01'"
      ],
      "text/plain": [
       "[1] \"Adjusted R-squared: -0.01\""
      ]
     },
     "metadata": {},
     "output_type": "display_data"
    },
    {
     "data": {
      "text/html": [
       "'Akaike Information Criterion: -454'"
      ],
      "text/latex": [
       "'Akaike Information Criterion: -454'"
      ],
      "text/markdown": [
       "'Akaike Information Criterion: -454'"
      ],
      "text/plain": [
       "[1] \"Akaike Information Criterion: -454\""
      ]
     },
     "metadata": {},
     "output_type": "display_data"
    },
    {
     "data": {
      "text/html": [
       "'###############################'"
      ],
      "text/latex": [
       "'\\#\\#\\#\\#\\#\\#\\#\\#\\#\\#\\#\\#\\#\\#\\#\\#\\#\\#\\#\\#\\#\\#\\#\\#\\#\\#\\#\\#\\#\\#\\#'"
      ],
      "text/markdown": [
       "'###############################'"
      ],
      "text/plain": [
       "[1] \"###############################\""
      ]
     },
     "metadata": {},
     "output_type": "display_data"
    },
    {
     "data": {
      "text/html": [
       "'*******************************'"
      ],
      "text/latex": [
       "'*******************************'"
      ],
      "text/markdown": [
       "'*******************************'"
      ],
      "text/plain": [
       "[1] \"*******************************\""
      ]
     },
     "metadata": {},
     "output_type": "display_data"
    },
    {
     "data": {
      "text/html": [
       "'Model: log(crmrte) ~ prbarr'"
      ],
      "text/latex": [
       "'Model: log(crmrte) \\textasciitilde{} prbarr'"
      ],
      "text/markdown": [
       "'Model: log(crmrte) ~ prbarr'"
      ],
      "text/plain": [
       "[1] \"Model: log(crmrte) ~ prbarr\""
      ]
     },
     "metadata": {},
     "output_type": "display_data"
    },
    {
     "data": {
      "text/html": [
       "'Slope: -1.88437913757391'"
      ],
      "text/latex": [
       "'Slope: -1.88437913757391'"
      ],
      "text/markdown": [
       "'Slope: -1.88437913757391'"
      ],
      "text/plain": [
       "[1] \"Slope: -1.88437913757391\""
      ]
     },
     "metadata": {},
     "output_type": "display_data"
    },
    {
     "data": {
      "text/html": [
       "'Intercept: -2.98538790245543'"
      ],
      "text/latex": [
       "'Intercept: -2.98538790245543'"
      ],
      "text/markdown": [
       "'Intercept: -2.98538790245543'"
      ],
      "text/plain": [
       "[1] \"Intercept: -2.98538790245543\""
      ]
     },
     "metadata": {},
     "output_type": "display_data"
    },
    {
     "data": {
      "text/html": [
       "'R-squared: 0.22'"
      ],
      "text/latex": [
       "'R-squared: 0.22'"
      ],
      "text/markdown": [
       "'R-squared: 0.22'"
      ],
      "text/plain": [
       "[1] \"R-squared: 0.22\""
      ]
     },
     "metadata": {},
     "output_type": "display_data"
    },
    {
     "data": {
      "text/html": [
       "'Adjusted R-squared: 0.21'"
      ],
      "text/latex": [
       "'Adjusted R-squared: 0.21'"
      ],
      "text/markdown": [
       "'Adjusted R-squared: 0.21'"
      ],
      "text/plain": [
       "[1] \"Adjusted R-squared: 0.21\""
      ]
     },
     "metadata": {},
     "output_type": "display_data"
    },
    {
     "data": {
      "text/html": [
       "'Akaike Information Criterion: 130'"
      ],
      "text/latex": [
       "'Akaike Information Criterion: 130'"
      ],
      "text/markdown": [
       "'Akaike Information Criterion: 130'"
      ],
      "text/plain": [
       "[1] \"Akaike Information Criterion: 130\""
      ]
     },
     "metadata": {},
     "output_type": "display_data"
    },
    {
     "data": {
      "text/html": [
       "'###############################'"
      ],
      "text/latex": [
       "'\\#\\#\\#\\#\\#\\#\\#\\#\\#\\#\\#\\#\\#\\#\\#\\#\\#\\#\\#\\#\\#\\#\\#\\#\\#\\#\\#\\#\\#\\#\\#'"
      ],
      "text/markdown": [
       "'###############################'"
      ],
      "text/plain": [
       "[1] \"###############################\""
      ]
     },
     "metadata": {},
     "output_type": "display_data"
    },
    {
     "data": {
      "text/html": [
       "'Model: log(crmrte) ~ prbconv'"
      ],
      "text/latex": [
       "'Model: log(crmrte) \\textasciitilde{} prbconv'"
      ],
      "text/markdown": [
       "'Model: log(crmrte) ~ prbconv'"
      ],
      "text/plain": [
       "[1] \"Model: log(crmrte) ~ prbconv\""
      ]
     },
     "metadata": {},
     "output_type": "display_data"
    },
    {
     "data": {
      "text/html": [
       "'Slope: -0.692237110835607'"
      ],
      "text/latex": [
       "'Slope: -0.692237110835607'"
      ],
      "text/markdown": [
       "'Slope: -0.692237110835607'"
      ],
      "text/plain": [
       "[1] \"Slope: -0.692237110835607\""
      ]
     },
     "metadata": {},
     "output_type": "display_data"
    },
    {
     "data": {
      "text/html": [
       "'Intercept: -3.16040086782289'"
      ],
      "text/latex": [
       "'Intercept: -3.16040086782289'"
      ],
      "text/markdown": [
       "'Intercept: -3.16040086782289'"
      ],
      "text/plain": [
       "[1] \"Intercept: -3.16040086782289\""
      ]
     },
     "metadata": {},
     "output_type": "display_data"
    },
    {
     "data": {
      "text/html": [
       "'R-squared: 0.2'"
      ],
      "text/latex": [
       "'R-squared: 0.2'"
      ],
      "text/markdown": [
       "'R-squared: 0.2'"
      ],
      "text/plain": [
       "[1] \"R-squared: 0.2\""
      ]
     },
     "metadata": {},
     "output_type": "display_data"
    },
    {
     "data": {
      "text/html": [
       "'Adjusted R-squared: 0.19'"
      ],
      "text/latex": [
       "'Adjusted R-squared: 0.19'"
      ],
      "text/markdown": [
       "'Adjusted R-squared: 0.19'"
      ],
      "text/plain": [
       "[1] \"Adjusted R-squared: 0.19\""
      ]
     },
     "metadata": {},
     "output_type": "display_data"
    },
    {
     "data": {
      "text/html": [
       "'Akaike Information Criterion: 132'"
      ],
      "text/latex": [
       "'Akaike Information Criterion: 132'"
      ],
      "text/markdown": [
       "'Akaike Information Criterion: 132'"
      ],
      "text/plain": [
       "[1] \"Akaike Information Criterion: 132\""
      ]
     },
     "metadata": {},
     "output_type": "display_data"
    },
    {
     "data": {
      "text/html": [
       "'###############################'"
      ],
      "text/latex": [
       "'\\#\\#\\#\\#\\#\\#\\#\\#\\#\\#\\#\\#\\#\\#\\#\\#\\#\\#\\#\\#\\#\\#\\#\\#\\#\\#\\#\\#\\#\\#\\#'"
      ],
      "text/markdown": [
       "'###############################'"
      ],
      "text/plain": [
       "[1] \"###############################\""
      ]
     },
     "metadata": {},
     "output_type": "display_data"
    },
    {
     "data": {
      "text/html": [
       "'Model: log(crmrte) ~ prbpris'"
      ],
      "text/latex": [
       "'Model: log(crmrte) \\textasciitilde{} prbpris'"
      ],
      "text/markdown": [
       "'Model: log(crmrte) ~ prbpris'"
      ],
      "text/plain": [
       "[1] \"Model: log(crmrte) ~ prbpris\""
      ]
     },
     "metadata": {},
     "output_type": "display_data"
    },
    {
     "data": {
      "text/html": [
       "'Slope: 0.146040749709391'"
      ],
      "text/latex": [
       "'Slope: 0.146040749709391'"
      ],
      "text/markdown": [
       "'Slope: 0.146040749709391'"
      ],
      "text/plain": [
       "[1] \"Slope: 0.146040749709391\""
      ]
     },
     "metadata": {},
     "output_type": "display_data"
    },
    {
     "data": {
      "text/html": [
       "'Intercept: -3.60169542314763'"
      ],
      "text/latex": [
       "'Intercept: -3.60169542314763'"
      ],
      "text/markdown": [
       "'Intercept: -3.60169542314763'"
      ],
      "text/plain": [
       "[1] \"Intercept: -3.60169542314763\""
      ]
     },
     "metadata": {},
     "output_type": "display_data"
    },
    {
     "data": {
      "text/html": [
       "'R-squared: 0'"
      ],
      "text/latex": [
       "'R-squared: 0'"
      ],
      "text/markdown": [
       "'R-squared: 0'"
      ],
      "text/plain": [
       "[1] \"R-squared: 0\""
      ]
     },
     "metadata": {},
     "output_type": "display_data"
    },
    {
     "data": {
      "text/html": [
       "'Adjusted R-squared: -0.01'"
      ],
      "text/latex": [
       "'Adjusted R-squared: -0.01'"
      ],
      "text/markdown": [
       "'Adjusted R-squared: -0.01'"
      ],
      "text/plain": [
       "[1] \"Adjusted R-squared: -0.01\""
      ]
     },
     "metadata": {},
     "output_type": "display_data"
    },
    {
     "data": {
      "text/html": [
       "'Akaike Information Criterion: 152'"
      ],
      "text/latex": [
       "'Akaike Information Criterion: 152'"
      ],
      "text/markdown": [
       "'Akaike Information Criterion: 152'"
      ],
      "text/plain": [
       "[1] \"Akaike Information Criterion: 152\""
      ]
     },
     "metadata": {},
     "output_type": "display_data"
    },
    {
     "data": {
      "text/html": [
       "'###############################'"
      ],
      "text/latex": [
       "'\\#\\#\\#\\#\\#\\#\\#\\#\\#\\#\\#\\#\\#\\#\\#\\#\\#\\#\\#\\#\\#\\#\\#\\#\\#\\#\\#\\#\\#\\#\\#'"
      ],
      "text/markdown": [
       "'###############################'"
      ],
      "text/plain": [
       "[1] \"###############################\""
      ]
     },
     "metadata": {},
     "output_type": "display_data"
    },
    {
     "data": {
      "text/html": [
       "'*******************************'"
      ],
      "text/latex": [
       "'*******************************'"
      ],
      "text/markdown": [
       "'*******************************'"
      ],
      "text/plain": [
       "[1] \"*******************************\""
      ]
     },
     "metadata": {},
     "output_type": "display_data"
    },
    {
     "data": {
      "text/html": [
       "'Model: crmrte ~ log(prbarr)'"
      ],
      "text/latex": [
       "'Model: crmrte \\textasciitilde{} log(prbarr)'"
      ],
      "text/markdown": [
       "'Model: crmrte ~ log(prbarr)'"
      ],
      "text/plain": [
       "[1] \"Model: crmrte ~ log(prbarr)\""
      ]
     },
     "metadata": {},
     "output_type": "display_data"
    },
    {
     "data": {
      "text/html": [
       "'Slope: -0.0197279467744946'"
      ],
      "text/latex": [
       "'Slope: -0.0197279467744946'"
      ],
      "text/markdown": [
       "'Slope: -0.0197279467744946'"
      ],
      "text/plain": [
       "[1] \"Slope: -0.0197279467744946\""
      ]
     },
     "metadata": {},
     "output_type": "display_data"
    },
    {
     "data": {
      "text/html": [
       "'Intercept: 0.00777726364119923'"
      ],
      "text/latex": [
       "'Intercept: 0.00777726364119923'"
      ],
      "text/markdown": [
       "'Intercept: 0.00777726364119923'"
      ],
      "text/plain": [
       "[1] \"Intercept: 0.00777726364119923\""
      ]
     },
     "metadata": {},
     "output_type": "display_data"
    },
    {
     "data": {
      "text/html": [
       "'R-squared: 0.18'"
      ],
      "text/latex": [
       "'R-squared: 0.18'"
      ],
      "text/markdown": [
       "'R-squared: 0.18'"
      ],
      "text/plain": [
       "[1] \"R-squared: 0.18\""
      ]
     },
     "metadata": {},
     "output_type": "display_data"
    },
    {
     "data": {
      "text/html": [
       "'Adjusted R-squared: 0.17'"
      ],
      "text/latex": [
       "'Adjusted R-squared: 0.17'"
      ],
      "text/markdown": [
       "'Adjusted R-squared: 0.17'"
      ],
      "text/plain": [
       "[1] \"Adjusted R-squared: 0.17\""
      ]
     },
     "metadata": {},
     "output_type": "display_data"
    },
    {
     "data": {
      "text/html": [
       "'Akaike Information Criterion: -472'"
      ],
      "text/latex": [
       "'Akaike Information Criterion: -472'"
      ],
      "text/markdown": [
       "'Akaike Information Criterion: -472'"
      ],
      "text/plain": [
       "[1] \"Akaike Information Criterion: -472\""
      ]
     },
     "metadata": {},
     "output_type": "display_data"
    },
    {
     "data": {
      "text/html": [
       "'###############################'"
      ],
      "text/latex": [
       "'\\#\\#\\#\\#\\#\\#\\#\\#\\#\\#\\#\\#\\#\\#\\#\\#\\#\\#\\#\\#\\#\\#\\#\\#\\#\\#\\#\\#\\#\\#\\#'"
      ],
      "text/markdown": [
       "'###############################'"
      ],
      "text/plain": [
       "[1] \"###############################\""
      ]
     },
     "metadata": {},
     "output_type": "display_data"
    },
    {
     "data": {
      "text/html": [
       "'Model: crmrte ~ log(prbconv)'"
      ],
      "text/latex": [
       "'Model: crmrte \\textasciitilde{} log(prbconv)'"
      ],
      "text/markdown": [
       "'Model: crmrte ~ log(prbconv)'"
      ],
      "text/plain": [
       "[1] \"Model: crmrte ~ log(prbconv)\""
      ]
     },
     "metadata": {},
     "output_type": "display_data"
    },
    {
     "data": {
      "text/html": [
       "'Slope: -0.0122782889774807'"
      ],
      "text/latex": [
       "'Slope: -0.0122782889774807'"
      ],
      "text/markdown": [
       "'Slope: -0.0122782889774807'"
      ],
      "text/plain": [
       "[1] \"Slope: -0.0122782889774807\""
      ]
     },
     "metadata": {},
     "output_type": "display_data"
    },
    {
     "data": {
      "text/html": [
       "'Intercept: 0.0242333830935284'"
      ],
      "text/latex": [
       "'Intercept: 0.0242333830935284'"
      ],
      "text/markdown": [
       "'Intercept: 0.0242333830935284'"
      ],
      "text/plain": [
       "[1] \"Intercept: 0.0242333830935284\""
      ]
     },
     "metadata": {},
     "output_type": "display_data"
    },
    {
     "data": {
      "text/html": [
       "'R-squared: 0.13'"
      ],
      "text/latex": [
       "'R-squared: 0.13'"
      ],
      "text/markdown": [
       "'R-squared: 0.13'"
      ],
      "text/plain": [
       "[1] \"R-squared: 0.13\""
      ]
     },
     "metadata": {},
     "output_type": "display_data"
    },
    {
     "data": {
      "text/html": [
       "'Adjusted R-squared: 0.12'"
      ],
      "text/latex": [
       "'Adjusted R-squared: 0.12'"
      ],
      "text/markdown": [
       "'Adjusted R-squared: 0.12'"
      ],
      "text/plain": [
       "[1] \"Adjusted R-squared: 0.12\""
      ]
     },
     "metadata": {},
     "output_type": "display_data"
    },
    {
     "data": {
      "text/html": [
       "'Akaike Information Criterion: -467'"
      ],
      "text/latex": [
       "'Akaike Information Criterion: -467'"
      ],
      "text/markdown": [
       "'Akaike Information Criterion: -467'"
      ],
      "text/plain": [
       "[1] \"Akaike Information Criterion: -467\""
      ]
     },
     "metadata": {},
     "output_type": "display_data"
    },
    {
     "data": {
      "text/html": [
       "'###############################'"
      ],
      "text/latex": [
       "'\\#\\#\\#\\#\\#\\#\\#\\#\\#\\#\\#\\#\\#\\#\\#\\#\\#\\#\\#\\#\\#\\#\\#\\#\\#\\#\\#\\#\\#\\#\\#'"
      ],
      "text/markdown": [
       "'###############################'"
      ],
      "text/plain": [
       "[1] \"###############################\""
      ]
     },
     "metadata": {},
     "output_type": "display_data"
    },
    {
     "data": {
      "text/html": [
       "'Model: crmrte ~ log(prbpris)'"
      ],
      "text/latex": [
       "'Model: crmrte \\textasciitilde{} log(prbpris)'"
      ],
      "text/markdown": [
       "'Model: crmrte ~ log(prbpris)'"
      ],
      "text/plain": [
       "[1] \"Model: crmrte ~ log(prbpris)\""
      ]
     },
     "metadata": {},
     "output_type": "display_data"
    },
    {
     "data": {
      "text/html": [
       "'Slope: 0.00724414447447469'"
      ],
      "text/latex": [
       "'Slope: 0.00724414447447469'"
      ],
      "text/markdown": [
       "'Slope: 0.00724414447447469'"
      ],
      "text/plain": [
       "[1] \"Slope: 0.00724414447447469\""
      ]
     },
     "metadata": {},
     "output_type": "display_data"
    },
    {
     "data": {
      "text/html": [
       "'Intercept: 0.0401182723402814'"
      ],
      "text/latex": [
       "'Intercept: 0.0401182723402814'"
      ],
      "text/markdown": [
       "'Intercept: 0.0401182723402814'"
      ],
      "text/plain": [
       "[1] \"Intercept: 0.0401182723402814\""
      ]
     },
     "metadata": {},
     "output_type": "display_data"
    },
    {
     "data": {
      "text/html": [
       "'R-squared: 0.01'"
      ],
      "text/latex": [
       "'R-squared: 0.01'"
      ],
      "text/markdown": [
       "'R-squared: 0.01'"
      ],
      "text/plain": [
       "[1] \"R-squared: 0.01\""
      ]
     },
     "metadata": {},
     "output_type": "display_data"
    },
    {
     "data": {
      "text/html": [
       "'Adjusted R-squared: 0'"
      ],
      "text/latex": [
       "'Adjusted R-squared: 0'"
      ],
      "text/markdown": [
       "'Adjusted R-squared: 0'"
      ],
      "text/plain": [
       "[1] \"Adjusted R-squared: 0\""
      ]
     },
     "metadata": {},
     "output_type": "display_data"
    },
    {
     "data": {
      "text/html": [
       "'Akaike Information Criterion: -455'"
      ],
      "text/latex": [
       "'Akaike Information Criterion: -455'"
      ],
      "text/markdown": [
       "'Akaike Information Criterion: -455'"
      ],
      "text/plain": [
       "[1] \"Akaike Information Criterion: -455\""
      ]
     },
     "metadata": {},
     "output_type": "display_data"
    },
    {
     "data": {
      "text/html": [
       "'###############################'"
      ],
      "text/latex": [
       "'\\#\\#\\#\\#\\#\\#\\#\\#\\#\\#\\#\\#\\#\\#\\#\\#\\#\\#\\#\\#\\#\\#\\#\\#\\#\\#\\#\\#\\#\\#\\#'"
      ],
      "text/markdown": [
       "'###############################'"
      ],
      "text/plain": [
       "[1] \"###############################\""
      ]
     },
     "metadata": {},
     "output_type": "display_data"
    },
    {
     "data": {
      "text/html": [
       "'*******************************'"
      ],
      "text/latex": [
       "'*******************************'"
      ],
      "text/markdown": [
       "'*******************************'"
      ],
      "text/plain": [
       "[1] \"*******************************\""
      ]
     },
     "metadata": {},
     "output_type": "display_data"
    }
   ],
   "source": [
    "# Here we test simple, untransformed linear regressions\n",
    "model1 <- lm(crmrte ~ prbarr, data=clean)\n",
    "paste(\"Model:\", summary(model1)$call[2])\n",
    "paste(\"Slope:\", model1$coef[2])\n",
    "paste(\"Intercept:\", model1$coef[1])\n",
    "paste(\"R-squared:\", round(summary(model1)$r.squared, 2))\n",
    "paste(\"Adjusted R-squared:\", round(summary(model1)$adj.r.squared, 2))\n",
    "paste(\"Akaike Information Criterion:\", round(AIC(model1), 0))\n",
    "paste(\"###############################\")\n",
    "\n",
    "model1 <- lm(crmrte ~ prbconv, data=clean)\n",
    "paste(\"Model:\", summary(model1)$call[2])\n",
    "paste(\"Slope:\", model1$coef[2])\n",
    "paste(\"Intercept:\", model1$coef[1])\n",
    "paste(\"R-squared:\", round(summary(model1)$r.squared, 2))\n",
    "paste(\"Adjusted R-squared:\", round(summary(model1)$adj.r.squared, 2))\n",
    "paste(\"Akaike Information Criterion:\", round(AIC(model1), 0))\n",
    "paste(\"###############################\")\n",
    "\n",
    "model1 <- lm(crmrte ~ prbpris, data=clean)\n",
    "paste(\"Model:\", summary(model1)$call[2])\n",
    "paste(\"Slope:\", model1$coef[2])\n",
    "paste(\"Intercept:\", model1$coef[1])\n",
    "paste(\"R-squared:\", round(summary(model1)$r.squared, 2))\n",
    "paste(\"Adjusted R-squared:\", round(summary(model1)$adj.r.squared, 2))\n",
    "paste(\"Akaike Information Criterion:\", round(AIC(model1), 0))\n",
    "paste(\"###############################\")\n",
    "\n",
    "model1 <- lm(crmrte ~ avgsen, data=clean)\n",
    "paste(\"Model:\", summary(model1)$call[2])\n",
    "paste(\"Slope:\", model1$coef[2])\n",
    "paste(\"Intercept:\", model1$coef[1])\n",
    "paste(\"R-squared:\", round(summary(model1)$r.squared, 2))\n",
    "paste(\"Adjusted R-squared:\", round(summary(model1)$adj.r.squared, 2))\n",
    "paste(\"Akaike Information Criterion:\", round(AIC(model1), 0))\n",
    "paste(\"###############################\")\n",
    "paste(\"*******************************\")\n",
    "\n",
    "\n",
    "# Here, we regress log(crmrte) on our key variables of interest: prbarr, prbconv, and prbpris.\n",
    "model1 <- lm(log(crmrte) ~ prbarr, data=clean)\n",
    "paste(\"Model:\", summary(model1)$call[2])\n",
    "paste(\"Slope:\", model1$coef[2])\n",
    "paste(\"Intercept:\", model1$coef[1])\n",
    "paste(\"R-squared:\", round(summary(model1)$r.squared, 2))\n",
    "paste(\"Adjusted R-squared:\", round(summary(model1)$adj.r.squared, 2))\n",
    "paste(\"Akaike Information Criterion:\", round(AIC(model1), 0))\n",
    "paste(\"###############################\")\n",
    "\n",
    "model1 <- lm(log(crmrte) ~ prbconv, data=clean)\n",
    "paste(\"Model:\", summary(model1)$call[2])\n",
    "paste(\"Slope:\", model1$coef[2])\n",
    "paste(\"Intercept:\", model1$coef[1])\n",
    "paste(\"R-squared:\", round(summary(model1)$r.squared, 2))\n",
    "paste(\"Adjusted R-squared:\", round(summary(model1)$adj.r.squared, 2))\n",
    "paste(\"Akaike Information Criterion:\", round(AIC(model1), 0))\n",
    "paste(\"###############################\")\n",
    "\n",
    "model1 <- lm(log(crmrte) ~ prbpris, data=clean)\n",
    "paste(\"Model:\", summary(model1)$call[2])\n",
    "paste(\"Slope:\", model1$coef[2])\n",
    "paste(\"Intercept:\", model1$coef[1])\n",
    "paste(\"R-squared:\", round(summary(model1)$r.squared, 2))\n",
    "paste(\"Adjusted R-squared:\", round(summary(model1)$adj.r.squared, 2))\n",
    "paste(\"Akaike Information Criterion:\", round(AIC(model1), 0))\n",
    "paste(\"###############################\")\n",
    "paste(\"*******************************\")\n",
    "\n",
    "\n",
    "# Here, we regress log(crmrte) on our log transformations of our key variables of interest: prbarr, prbconv, and prbpris.\n",
    "model1 <- lm(crmrte ~ log(prbarr), data=clean)\n",
    "paste(\"Model:\", summary(model1)$call[2])\n",
    "paste(\"Slope:\", model1$coef[2])\n",
    "paste(\"Intercept:\", model1$coef[1])\n",
    "paste(\"R-squared:\", round(summary(model1)$r.squared, 2))\n",
    "paste(\"Adjusted R-squared:\", round(summary(model1)$adj.r.squared, 2))\n",
    "paste(\"Akaike Information Criterion:\", round(AIC(model1), 0))\n",
    "paste(\"###############################\")\n",
    "\n",
    "model1 <- lm(crmrte ~ log(prbconv), data=clean)\n",
    "paste(\"Model:\", summary(model1)$call[2])\n",
    "paste(\"Slope:\", model1$coef[2])\n",
    "paste(\"Intercept:\", model1$coef[1])\n",
    "paste(\"R-squared:\", round(summary(model1)$r.squared, 2))\n",
    "paste(\"Adjusted R-squared:\", round(summary(model1)$adj.r.squared, 2))\n",
    "paste(\"Akaike Information Criterion:\", round(AIC(model1), 0))\n",
    "paste(\"###############################\")\n",
    "\n",
    "model1 <- lm(crmrte ~ log(prbpris), data=clean)\n",
    "paste(\"Model:\", summary(model1)$call[2])\n",
    "paste(\"Slope:\", model1$coef[2])\n",
    "paste(\"Intercept:\", model1$coef[1])\n",
    "paste(\"R-squared:\", round(summary(model1)$r.squared, 2))\n",
    "paste(\"Adjusted R-squared:\", round(summary(model1)$adj.r.squared, 2))\n",
    "paste(\"Akaike Information Criterion:\", round(AIC(model1), 0))\n",
    "paste(\"###############################\")\n",
    "paste(\"*******************************\")"
   ]
  },
  {
   "cell_type": "code",
   "execution_count": 46,
   "metadata": {
    "scrolled": true
   },
   "outputs": [
    {
     "data": {
      "image/png": "[encoded data removed]",
      "text/plain": [
       "plot without title"
      ]
     },
     "metadata": {},
     "output_type": "display_data"
    },
    {
     "data": {
      "image/png": "[encoded data removed]",
      "text/plain": [
       "plot without title"
      ]
     },
     "metadata": {},
     "output_type": "display_data"
    },
    {
     "data": {
      "image/png": "[encoded data removed]",
      "text/plain": [
       "plot without title"
      ]
     },
     "metadata": {},
     "output_type": "display_data"
    },
    {
     "data": {
      "image/png": "[encoded data removed]",
      "text/plain": [
       "plot without title"
      ]
     },
     "metadata": {},
     "output_type": "display_data"
    },
    {
     "data": {
      "image/png": "[encoded data removed]",
      "text/plain": [
       "plot without title"
      ]
     },
     "metadata": {},
     "output_type": "display_data"
    },
    {
     "data": {
      "image/png": "[encoded data removed]",
      "text/plain": [
       "plot without title"
      ]
     },
     "metadata": {},
     "output_type": "display_data"
    }
   ],
   "source": [
    "# Here, we evaluate simple scatter plots of our variables of interest\n",
    "plot(clean$prbarr, clean$crmrte)\n",
    "plot(clean$prbconv, clean$crmrte)\n",
    "plot(clean$prbpris, clean$crmrte)\n",
    "\n",
    "plot(clean$prbarr, log(clean$crmrte))\n",
    "plot(clean$prbconv, log(clean$crmrte))\n",
    "plot(clean$prbpris, log(clean$crmrte))"
   ]
  },
  {
   "cell_type": "markdown",
   "metadata": {},
   "source": [
    "### Model 2: Adding $density$ and $polpc$ as Controls and to Improve Our Base Model's Fit\n",
    "\n",
    "Having established our base model, we sought to introduce covariates that might (i) control for confounding effects and (ii) improve the model's fit to the underlying data without reducing its parsimony. In this vein, we chose to investigate the how incorporating $density$ and $polpc$ would affect our model. Population densities in North Carolina vary across almost six orders of magnitude, and counties with different population densities likely face different challenges with respect to crime, which is reflected in its positive correlation with $\\log{crmrte}$. Moreover, $density$ is negatively correlated with both $\\log{prbarr}$ and $\\log{prbconv}$, but positively correlated with $\\log{prbpris}$; thus, omitting this variable could introduce unaccounted bias in our base model. Given that we observed $\\log{prbarr}$ is correlated with $\\log{crmrte}$, we naturally wondered if having a higher concentration of police officers is also correlated with a lower $crmrte$. Curiously, $polpc$ is not strongly correlated with $\\log{prbarr}$, $\\log{prbpris}$, or $density$, but it is correlated with $log{prbconv}$. Thus, we also added $polpc$ to our model to control for confounding effects on $\\log{prbconv}$.\n",
    "\n",
    "Next, we explored transformations that might improve our model's fit to these data. To start, we plotted $\\log{crmrte}$ (i.e., the dependent variable in our base model) against $density$ individually. We regressed $log{crmrte}$ on $density$ and obtained a relationship that explained the model well ($R^2 = 0.40$). We observed that the plot of $\\log{crmrte}$ against density appears to follow a linear trend when $density < 2$, but that when $density \\geq 2$, the trend has a smaller slope. We added a quadratic term ($density^2$) to account for the diminishing slope; doing so yielded a better fit than regressing $log{crmrte}$ on $density$ alone ($R^2 = 0.4553$). Additionally, the Akaike Information Criterion (AIC) also dropped from 106 to 100 when we added the quadratic term; this indicates that the model with the quadratic term is also more parsimonious. Consequently, we chose to regress on both $density$ and $density^2$ in our second model.\n",
    "\n",
    "We also explored transformations that improved the linearity of regressing $\\log{crmrte}$ against $polpc$ ($R^2=0$). Plotting $\\log{crmrte}$ against $polpc$ gives a linear plot for most points expect for an extreme outlier, county #51. This point is highly leveraged and highly influences a regression of $\\log{crmrte}$ against $polpc$ (Cook's distance > 1). Nevertheless, as we discussed in our EDA above, we could not justify excluding this data point from our analysis. We log-transformed $polpc$ to ameliorate its influence. This appeared to be at least partially successful, as regressing $log{crmrte}$ on $log{polpc}$ produced a model with a better fit ($R^2 = 0.08$) and lower AIC (AIC=145 vs. AIC=152 for the untranformed variable). Consequently, we chose to regress on $log{polpc}$ in our second model.\n",
    "\n",
    "Having fully specified our second model, we calculated the least-squares fit below.\n",
    "\n",
    "$$ \\log crmrte = -4.71 - 0.72*\\log prbarr - 0.47*\\log prbconv + 0.15*\\log prbpris + 0.31*density - 0.024*density^2 + 0.18*\\log(polpc)$$\n",
    "\n",
    "Including $density^2$, $density$, and $\\log{polpc}$ as regressors drove the effects of each of our key variables closer to zero. The absolute values of the coefficients associated with $\\log{prbarr}$ and $\\log{prbconv}$ are reduced by 34% and 32%, respectively, relative to their values in our base model; this suggests that they are somewhat biased in model 1 by the exclusion of at least one of the coregressors we included in model 2. Notably, the coefficient for $\\log{prbpris}$ dropped to almost zero (a 71% reduction from its value in model 1). \n",
    "\n",
    "Our second model also indicates that $\\log{crmrte}$ rises in association with $density$ up until $density \\approx 6.5$. This model fits our data well, given that only point has $density > 6$. Additionally, our results indicate that a 1% increase in $polpc$ is associated with a 0.17% increase in $crmrte$.\n",
    "\n",
    "We still cannot claim any causal effects exist in these relationships. Notwithstanding the effect that the outlier in $polpc$ exhibits on our regression, increasing $polpc$ could be correlated with a higher $crmrte$ because locales with higher crime rates have added to their police forces in an attempt to reduce crime. Conversely, lower values of $polpc$ could be correlated with lower $crmrte$ because other factors (e.g., income education) serve to keep crime rates low. \n",
    "\n",
    "We speculate that these results indicate that $\\beta_{\\log{prbarr}}$ and $\\beta_{\\log{prbconv}}$ are still probably of practical significance, since modest percentage increases in either variable are associated with relatively substantial reductions in crime rate. Conversely, $\\beta_{\\log{prbpris}}$ is of even less practical value than we argued above, since the magnitude of its effect even is smaller in this model. $\\beta_{density}$ and $\\beta_{density^2}$ in total tell us that increasing $density$ is associated with higher $crmrte$, but only to a point. Finally, $\\beta_{polpc}$ is perhaps of less practical significance, since it indicates that holding everything else constant, even a 10% increase in police per capita is associated with only a 1.7% increase in crime rate."
   ]
  },
  {
   "cell_type": "markdown",
   "metadata": {},
   "source": [
    "#### Code to Calculate Model 2"
   ]
  },
  {
   "cell_type": "code",
   "execution_count": 48,
   "metadata": {},
   "outputs": [
    {
     "data": {
      "text/plain": [
       "\n",
       "Call:\n",
       "lm(formula = log(crmrte) ~ log(prbarr) + log(prbconv) + log(prbpris) + \n",
       "    density + I(density^2) + log(polpc), data = clean)\n",
       "\n",
       "Residuals:\n",
       "     Min       1Q   Median       3Q      Max \n",
       "-0.94783 -0.24367 -0.00679  0.25451  0.70666 \n",
       "\n",
       "Coefficients:\n",
       "             Estimate Std. Error t value Pr(>|t|)    \n",
       "(Intercept)  -3.56272    0.75063  -4.746 8.54e-06 ***\n",
       "log(prbarr)  -0.47510    0.10994  -4.322 4.27e-05 ***\n",
       "log(prbconv) -0.32054    0.07440  -4.308 4.49e-05 ***\n",
       "log(prbpris)  0.04345    0.17366   0.250 0.803048    \n",
       "density       0.30523    0.08282   3.685 0.000406 ***\n",
       "I(density^2) -0.02355    0.01069  -2.202 0.030442 *  \n",
       "log(polpc)    0.17605    0.11054   1.593 0.115043    \n",
       "---\n",
       "Signif. codes:  0 '***' 0.001 '**' 0.01 '*' 0.05 '.' 0.1 ' ' 1\n",
       "\n",
       "Residual standard error: 0.3605 on 83 degrees of freedom\n",
       "Multiple R-squared:  0.5974,\tAdjusted R-squared:  0.5683 \n",
       "F-statistic: 20.53 on 6 and 83 DF,  p-value: 1.363e-14\n"
      ]
     },
     "metadata": {},
     "output_type": "display_data"
    },
    {
     "data": {
      "text/html": [
       "'Model: log(crmrte) ~ log(prbarr) + log(prbconv) + log(prbpris) + density + I(density^2) + log(polpc)'"
      ],
      "text/latex": [
       "'Model: log(crmrte) \\textasciitilde{} log(prbarr) + log(prbconv) + log(prbpris) + density + I(density\\textasciicircum{}2) + log(polpc)'"
      ],
      "text/markdown": [
       "'Model: log(crmrte) ~ log(prbarr) + log(prbconv) + log(prbpris) + density + I(density^2) + log(polpc)'"
      ],
      "text/plain": [
       "[1] \"Model: log(crmrte) ~ log(prbarr) + log(prbconv) + log(prbpris) + density + I(density^2) + log(polpc)\""
      ]
     },
     "metadata": {},
     "output_type": "display_data"
    },
    {
     "data": {
      "text/html": [
       "'Slope (log(prbarr)): -0.475104717131527'"
      ],
      "text/latex": [
       "'Slope (log(prbarr)): -0.475104717131527'"
      ],
      "text/markdown": [
       "'Slope (log(prbarr)): -0.475104717131527'"
      ],
      "text/plain": [
       "[1] \"Slope (log(prbarr)): -0.475104717131527\""
      ]
     },
     "metadata": {},
     "output_type": "display_data"
    },
    {
     "data": {
      "text/html": [
       "'Slope (log(prbconv)): -0.320540040432556'"
      ],
      "text/latex": [
       "'Slope (log(prbconv)): -0.320540040432556'"
      ],
      "text/markdown": [
       "'Slope (log(prbconv)): -0.320540040432556'"
      ],
      "text/plain": [
       "[1] \"Slope (log(prbconv)): -0.320540040432556\""
      ]
     },
     "metadata": {},
     "output_type": "display_data"
    },
    {
     "data": {
      "text/html": [
       "'Slope (log(prbpris)): 0.0434491616893309'"
      ],
      "text/latex": [
       "'Slope (log(prbpris)): 0.0434491616893309'"
      ],
      "text/markdown": [
       "'Slope (log(prbpris)): 0.0434491616893309'"
      ],
      "text/plain": [
       "[1] \"Slope (log(prbpris)): 0.0434491616893309\""
      ]
     },
     "metadata": {},
     "output_type": "display_data"
    },
    {
     "data": {
      "text/html": [
       "'Slope (density): 0.30522508833471'"
      ],
      "text/latex": [
       "'Slope (density): 0.30522508833471'"
      ],
      "text/markdown": [
       "'Slope (density): 0.30522508833471'"
      ],
      "text/plain": [
       "[1] \"Slope (density): 0.30522508833471\""
      ]
     },
     "metadata": {},
     "output_type": "display_data"
    },
    {
     "data": {
      "text/html": [
       "'Slope (density)^2: -0.0235465393418515'"
      ],
      "text/latex": [
       "'Slope (density)\\textasciicircum{}2: -0.0235465393418515'"
      ],
      "text/markdown": [
       "'Slope (density)^2: -0.0235465393418515'"
      ],
      "text/plain": [
       "[1] \"Slope (density)^2: -0.0235465393418515\""
      ]
     },
     "metadata": {},
     "output_type": "display_data"
    },
    {
     "data": {
      "text/html": [
       "'Slope (log(polpc)): 0.176050717156577'"
      ],
      "text/latex": [
       "'Slope (log(polpc)): 0.176050717156577'"
      ],
      "text/markdown": [
       "'Slope (log(polpc)): 0.176050717156577'"
      ],
      "text/plain": [
       "[1] \"Slope (log(polpc)): 0.176050717156577\""
      ]
     },
     "metadata": {},
     "output_type": "display_data"
    },
    {
     "data": {
      "text/html": [
       "'Intercept: -3.56272277809021'"
      ],
      "text/latex": [
       "'Intercept: -3.56272277809021'"
      ],
      "text/markdown": [
       "'Intercept: -3.56272277809021'"
      ],
      "text/plain": [
       "[1] \"Intercept: -3.56272277809021\""
      ]
     },
     "metadata": {},
     "output_type": "display_data"
    },
    {
     "data": {
      "text/html": [
       "'R-squared: 0.6'"
      ],
      "text/latex": [
       "'R-squared: 0.6'"
      ],
      "text/markdown": [
       "'R-squared: 0.6'"
      ],
      "text/plain": [
       "[1] \"R-squared: 0.6\""
      ]
     },
     "metadata": {},
     "output_type": "display_data"
    },
    {
     "data": {
      "text/html": [
       "'Adjusted R-squared: 0.57'"
      ],
      "text/latex": [
       "'Adjusted R-squared: 0.57'"
      ],
      "text/markdown": [
       "'Adjusted R-squared: 0.57'"
      ],
      "text/plain": [
       "[1] \"Adjusted R-squared: 0.57\""
      ]
     },
     "metadata": {},
     "output_type": "display_data"
    },
    {
     "data": {
      "text/html": [
       "'Akaike Information Criterion: 80'"
      ],
      "text/latex": [
       "'Akaike Information Criterion: 80'"
      ],
      "text/markdown": [
       "'Akaike Information Criterion: 80'"
      ],
      "text/plain": [
       "[1] \"Akaike Information Criterion: 80\""
      ]
     },
     "metadata": {},
     "output_type": "display_data"
    },
    {
     "data": {
      "text/html": [
       "'###############################'"
      ],
      "text/latex": [
       "'\\#\\#\\#\\#\\#\\#\\#\\#\\#\\#\\#\\#\\#\\#\\#\\#\\#\\#\\#\\#\\#\\#\\#\\#\\#\\#\\#\\#\\#\\#\\#'"
      ],
      "text/markdown": [
       "'###############################'"
      ],
      "text/plain": [
       "[1] \"###############################\""
      ]
     },
     "metadata": {},
     "output_type": "display_data"
    }
   ],
   "source": [
    "final_model2 <- lm(log(crmrte) ~ log(prbarr) + log(prbconv) + log(prbpris)\n",
    "             + density + I(density^2) + log(polpc), data=clean)\n",
    "summary(final_model2)\n",
    "paste(\"Model:\", summary(final_model2)$call[2])\n",
    "paste(\"Slope (log(prbarr)):\", final_model2$coef[2])\n",
    "paste(\"Slope (log(prbconv)):\", final_model2$coef[3])\n",
    "paste(\"Slope (log(prbpris)):\", final_model2$coef[4])\n",
    "paste(\"Slope (density):\", final_model2$coef[5])\n",
    "paste(\"Slope (density)^2:\", final_model2$coef[6])\n",
    "paste(\"Slope (log(polpc)):\", final_model2$coef[7])\n",
    "paste(\"Intercept:\", final_model2$coef[1])\n",
    "paste(\"R-squared:\", round(summary(final_model2)$r.squared, 2))\n",
    "paste(\"Adjusted R-squared:\", round(summary(final_model2)$adj.r.squared, 2))\n",
    "paste(\"Akaike Information Criterion:\", round(AIC(final_model2), 0))\n",
    "paste(\"###############################\")"
   ]
  },
  {
   "cell_type": "markdown",
   "metadata": {},
   "source": [
    "#### Different Regressions We Employed To Build Model 2"
   ]
  },
  {
   "cell_type": "code",
   "execution_count": 49,
   "metadata": {
    "scrolled": false
   },
   "outputs": [
    {
     "data": {
      "text/html": [
       "'Model: log(crmrte) ~ density'"
      ],
      "text/latex": [
       "'Model: log(crmrte) \\textasciitilde{} density'"
      ],
      "text/markdown": [
       "'Model: log(crmrte) ~ density'"
      ],
      "text/plain": [
       "[1] \"Model: log(crmrte) ~ density\""
      ]
     },
     "metadata": {},
     "output_type": "display_data"
    },
    {
     "data": {
      "text/html": [
       "'R-squared: 0.4'"
      ],
      "text/latex": [
       "'R-squared: 0.4'"
      ],
      "text/markdown": [
       "'R-squared: 0.4'"
      ],
      "text/plain": [
       "[1] \"R-squared: 0.4\""
      ]
     },
     "metadata": {},
     "output_type": "display_data"
    },
    {
     "data": {
      "text/html": [
       "'Adjusted R-squared: 0.39'"
      ],
      "text/latex": [
       "'Adjusted R-squared: 0.39'"
      ],
      "text/markdown": [
       "'Adjusted R-squared: 0.39'"
      ],
      "text/plain": [
       "[1] \"Adjusted R-squared: 0.39\""
      ]
     },
     "metadata": {},
     "output_type": "display_data"
    },
    {
     "data": {
      "text/html": [
       "'Akaike Information Criterion: 106'"
      ],
      "text/latex": [
       "'Akaike Information Criterion: 106'"
      ],
      "text/markdown": [
       "'Akaike Information Criterion: 106'"
      ],
      "text/plain": [
       "[1] \"Akaike Information Criterion: 106\""
      ]
     },
     "metadata": {},
     "output_type": "display_data"
    },
    {
     "data": {
      "text/html": [
       "'###############################'"
      ],
      "text/latex": [
       "'\\#\\#\\#\\#\\#\\#\\#\\#\\#\\#\\#\\#\\#\\#\\#\\#\\#\\#\\#\\#\\#\\#\\#\\#\\#\\#\\#\\#\\#\\#\\#'"
      ],
      "text/markdown": [
       "'###############################'"
      ],
      "text/plain": [
       "[1] \"###############################\""
      ]
     },
     "metadata": {},
     "output_type": "display_data"
    },
    {
     "data": {
      "text/html": [
       "'Model: log(crmrte) ~ polpc'"
      ],
      "text/latex": [
       "'Model: log(crmrte) \\textasciitilde{} polpc'"
      ],
      "text/markdown": [
       "'Model: log(crmrte) ~ polpc'"
      ],
      "text/plain": [
       "[1] \"Model: log(crmrte) ~ polpc\""
      ]
     },
     "metadata": {},
     "output_type": "display_data"
    },
    {
     "data": {
      "text/html": [
       "'R-squared: 0'"
      ],
      "text/latex": [
       "'R-squared: 0'"
      ],
      "text/markdown": [
       "'R-squared: 0'"
      ],
      "text/plain": [
       "[1] \"R-squared: 0\""
      ]
     },
     "metadata": {},
     "output_type": "display_data"
    },
    {
     "data": {
      "text/html": [
       "'Adjusted R-squared: -0.01'"
      ],
      "text/latex": [
       "'Adjusted R-squared: -0.01'"
      ],
      "text/markdown": [
       "'Adjusted R-squared: -0.01'"
      ],
      "text/plain": [
       "[1] \"Adjusted R-squared: -0.01\""
      ]
     },
     "metadata": {},
     "output_type": "display_data"
    },
    {
     "data": {
      "text/html": [
       "'Akaike Information Criterion: 152'"
      ],
      "text/latex": [
       "'Akaike Information Criterion: 152'"
      ],
      "text/markdown": [
       "'Akaike Information Criterion: 152'"
      ],
      "text/plain": [
       "[1] \"Akaike Information Criterion: 152\""
      ]
     },
     "metadata": {},
     "output_type": "display_data"
    },
    {
     "data": {
      "text/html": [
       "'###############################'"
      ],
      "text/latex": [
       "'\\#\\#\\#\\#\\#\\#\\#\\#\\#\\#\\#\\#\\#\\#\\#\\#\\#\\#\\#\\#\\#\\#\\#\\#\\#\\#\\#\\#\\#\\#\\#'"
      ],
      "text/markdown": [
       "'###############################'"
      ],
      "text/plain": [
       "[1] \"###############################\""
      ]
     },
     "metadata": {},
     "output_type": "display_data"
    },
    {
     "data": {
      "text/html": [
       "'*******************************'"
      ],
      "text/latex": [
       "'*******************************'"
      ],
      "text/markdown": [
       "'*******************************'"
      ],
      "text/plain": [
       "[1] \"*******************************\""
      ]
     },
     "metadata": {},
     "output_type": "display_data"
    },
    {
     "data": {
      "text/html": [
       "'Model: log(crmrte) ~ log(density)'"
      ],
      "text/latex": [
       "'Model: log(crmrte) \\textasciitilde{} log(density)'"
      ],
      "text/markdown": [
       "'Model: log(crmrte) ~ log(density)'"
      ],
      "text/plain": [
       "[1] \"Model: log(crmrte) ~ log(density)\""
      ]
     },
     "metadata": {},
     "output_type": "display_data"
    },
    {
     "data": {
      "text/html": [
       "'R-squared: 0.24'"
      ],
      "text/latex": [
       "'R-squared: 0.24'"
      ],
      "text/markdown": [
       "'R-squared: 0.24'"
      ],
      "text/plain": [
       "[1] \"R-squared: 0.24\""
      ]
     },
     "metadata": {},
     "output_type": "display_data"
    },
    {
     "data": {
      "text/html": [
       "'Adjusted R-squared: 0.24'"
      ],
      "text/latex": [
       "'Adjusted R-squared: 0.24'"
      ],
      "text/markdown": [
       "'Adjusted R-squared: 0.24'"
      ],
      "text/plain": [
       "[1] \"Adjusted R-squared: 0.24\""
      ]
     },
     "metadata": {},
     "output_type": "display_data"
    },
    {
     "data": {
      "text/html": [
       "'Akaike Information Criterion: 127'"
      ],
      "text/latex": [
       "'Akaike Information Criterion: 127'"
      ],
      "text/markdown": [
       "'Akaike Information Criterion: 127'"
      ],
      "text/plain": [
       "[1] \"Akaike Information Criterion: 127\""
      ]
     },
     "metadata": {},
     "output_type": "display_data"
    },
    {
     "data": {
      "text/html": [
       "'###############################'"
      ],
      "text/latex": [
       "'\\#\\#\\#\\#\\#\\#\\#\\#\\#\\#\\#\\#\\#\\#\\#\\#\\#\\#\\#\\#\\#\\#\\#\\#\\#\\#\\#\\#\\#\\#\\#'"
      ],
      "text/markdown": [
       "'###############################'"
      ],
      "text/plain": [
       "[1] \"###############################\""
      ]
     },
     "metadata": {},
     "output_type": "display_data"
    },
    {
     "data": {
      "text/html": [
       "'Model: log(crmrte) ~ log(polpc)'"
      ],
      "text/latex": [
       "'Model: log(crmrte) \\textasciitilde{} log(polpc)'"
      ],
      "text/markdown": [
       "'Model: log(crmrte) ~ log(polpc)'"
      ],
      "text/plain": [
       "[1] \"Model: log(crmrte) ~ log(polpc)\""
      ]
     },
     "metadata": {},
     "output_type": "display_data"
    },
    {
     "data": {
      "text/html": [
       "'R-squared: 0.08'"
      ],
      "text/latex": [
       "'R-squared: 0.08'"
      ],
      "text/markdown": [
       "'R-squared: 0.08'"
      ],
      "text/plain": [
       "[1] \"R-squared: 0.08\""
      ]
     },
     "metadata": {},
     "output_type": "display_data"
    },
    {
     "data": {
      "text/html": [
       "'Adjusted R-squared: 0.07'"
      ],
      "text/latex": [
       "'Adjusted R-squared: 0.07'"
      ],
      "text/markdown": [
       "'Adjusted R-squared: 0.07'"
      ],
      "text/plain": [
       "[1] \"Adjusted R-squared: 0.07\""
      ]
     },
     "metadata": {},
     "output_type": "display_data"
    },
    {
     "data": {
      "text/html": [
       "'Akaike Information Criterion: 145'"
      ],
      "text/latex": [
       "'Akaike Information Criterion: 145'"
      ],
      "text/markdown": [
       "'Akaike Information Criterion: 145'"
      ],
      "text/plain": [
       "[1] \"Akaike Information Criterion: 145\""
      ]
     },
     "metadata": {},
     "output_type": "display_data"
    },
    {
     "data": {
      "text/html": [
       "'###############################'"
      ],
      "text/latex": [
       "'\\#\\#\\#\\#\\#\\#\\#\\#\\#\\#\\#\\#\\#\\#\\#\\#\\#\\#\\#\\#\\#\\#\\#\\#\\#\\#\\#\\#\\#\\#\\#'"
      ],
      "text/markdown": [
       "'###############################'"
      ],
      "text/plain": [
       "[1] \"###############################\""
      ]
     },
     "metadata": {},
     "output_type": "display_data"
    },
    {
     "data": {
      "text/html": [
       "'*******************************'"
      ],
      "text/latex": [
       "'*******************************'"
      ],
      "text/markdown": [
       "'*******************************'"
      ],
      "text/plain": [
       "[1] \"*******************************\""
      ]
     },
     "metadata": {},
     "output_type": "display_data"
    },
    {
     "data": {
      "text/html": [
       "'Model: log(crmrte) ~ density + I(density^2)'"
      ],
      "text/latex": [
       "'Model: log(crmrte) \\textasciitilde{} density + I(density\\textasciicircum{}2)'"
      ],
      "text/markdown": [
       "'Model: log(crmrte) ~ density + I(density^2)'"
      ],
      "text/plain": [
       "[1] \"Model: log(crmrte) ~ density + I(density^2)\""
      ]
     },
     "metadata": {},
     "output_type": "display_data"
    },
    {
     "data": {
      "text/html": [
       "'R-squared: 0.46'"
      ],
      "text/latex": [
       "'R-squared: 0.46'"
      ],
      "text/markdown": [
       "'R-squared: 0.46'"
      ],
      "text/plain": [
       "[1] \"R-squared: 0.46\""
      ]
     },
     "metadata": {},
     "output_type": "display_data"
    },
    {
     "data": {
      "text/html": [
       "'Adjusted R-squared: 0.44'"
      ],
      "text/latex": [
       "'Adjusted R-squared: 0.44'"
      ],
      "text/markdown": [
       "'Adjusted R-squared: 0.44'"
      ],
      "text/plain": [
       "[1] \"Adjusted R-squared: 0.44\""
      ]
     },
     "metadata": {},
     "output_type": "display_data"
    },
    {
     "data": {
      "text/html": [
       "'Akaike Information Criterion: 100'"
      ],
      "text/latex": [
       "'Akaike Information Criterion: 100'"
      ],
      "text/markdown": [
       "'Akaike Information Criterion: 100'"
      ],
      "text/plain": [
       "[1] \"Akaike Information Criterion: 100\""
      ]
     },
     "metadata": {},
     "output_type": "display_data"
    },
    {
     "data": {
      "text/html": [
       "'###############################'"
      ],
      "text/latex": [
       "'\\#\\#\\#\\#\\#\\#\\#\\#\\#\\#\\#\\#\\#\\#\\#\\#\\#\\#\\#\\#\\#\\#\\#\\#\\#\\#\\#\\#\\#\\#\\#'"
      ],
      "text/markdown": [
       "'###############################'"
      ],
      "text/plain": [
       "[1] \"###############################\""
      ]
     },
     "metadata": {},
     "output_type": "display_data"
    }
   ],
   "source": [
    "# Here, we test regressions of log(crmrte) on density and polpc\n",
    "model2 <- lm(log(crmrte) ~ density, data=clean)\n",
    "paste(\"Model:\", summary(model2)$call[2])\n",
    "paste(\"R-squared:\", round(summary(model2)$r.squared, 2))\n",
    "paste(\"Adjusted R-squared:\", round(summary(model2)$adj.r.squared, 2))\n",
    "paste(\"Akaike Information Criterion:\", round(AIC(model2), 0))\n",
    "paste(\"###############################\")\n",
    "\n",
    "model2 <- lm(log(crmrte) ~ polpc, data=clean)\n",
    "paste(\"Model:\", summary(model2)$call[2])\n",
    "paste(\"R-squared:\", round(summary(model2)$r.squared, 2))\n",
    "paste(\"Adjusted R-squared:\", round(summary(model2)$adj.r.squared, 2))\n",
    "paste(\"Akaike Information Criterion:\", round(AIC(model2), 0))\n",
    "paste(\"###############################\")\n",
    "paste(\"*******************************\")\n",
    "\n",
    "\n",
    "# Here, we test regressions of log(crmrte) on log transformations of density and polpc\n",
    "model2 <- lm(log(crmrte) ~ log(density), data=clean)\n",
    "paste(\"Model:\", summary(model2)$call[2])\n",
    "paste(\"R-squared:\", round(summary(model2)$r.squared, 2))\n",
    "paste(\"Adjusted R-squared:\", round(summary(model2)$adj.r.squared, 2))\n",
    "paste(\"Akaike Information Criterion:\", round(AIC(model2), 0))\n",
    "paste(\"###############################\")\n",
    "\n",
    "model2 <- lm(log(crmrte) ~ log(polpc), data=clean)\n",
    "paste(\"Model:\", summary(model2)$call[2])\n",
    "paste(\"R-squared:\", round(summary(model2)$r.squared, 2))\n",
    "paste(\"Adjusted R-squared:\", round(summary(model2)$adj.r.squared, 2))\n",
    "paste(\"Akaike Information Criterion:\", round(AIC(model2), 0))\n",
    "paste(\"###############################\")\n",
    "paste(\"*******************************\")\n",
    "\n",
    "\n",
    "# Here, we test regressions of log(crmrte) on density + density^2\n",
    "model2 <- lm(log(crmrte) ~ density + I(density^2), data=clean)\n",
    "paste(\"Model:\", summary(model2)$call[2])\n",
    "paste(\"R-squared:\", round(summary(model2)$r.squared, 2))\n",
    "paste(\"Adjusted R-squared:\", round(summary(model2)$adj.r.squared, 2))\n",
    "paste(\"Akaike Information Criterion:\", round(AIC(model2), 0))\n",
    "paste(\"###############################\")"
   ]
  },
  {
   "cell_type": "code",
   "execution_count": 50,
   "metadata": {
    "scrolled": true
   },
   "outputs": [
    {
     "data": {
      "image/png": "[encoded data removed]",
      "text/plain": [
       "plot without title"
      ]
     },
     "metadata": {},
     "output_type": "display_data"
    },
    {
     "data": {
      "text/plain": [
       "\n",
       "Call:\n",
       "lm(formula = log(clean$crmrte) ~ first + second)\n",
       "\n",
       "Residuals:\n",
       "     Min       1Q   Median       3Q      Max \n",
       "-1.31006 -0.29228 -0.02626  0.28185  1.29382 \n",
       "\n",
       "Coefficients:\n",
       "            Estimate Std. Error t value Pr(>|t|)    \n",
       "(Intercept) -4.06266    0.08845 -45.930  < 2e-16 ***\n",
       "first        0.46900    0.08638   5.429 5.05e-07 ***\n",
       "second      -0.03503    0.01187  -2.952  0.00405 ** \n",
       "---\n",
       "Signif. codes:  0 '***' 0.001 '**' 0.01 '*' 0.05 '.' 0.1 ' ' 1\n",
       "\n",
       "Residual standard error: 0.4096 on 87 degrees of freedom\n",
       "Multiple R-squared:  0.4553,\tAdjusted R-squared:  0.4428 \n",
       "F-statistic: 36.36 on 2 and 87 DF,  p-value: 3.336e-12\n"
      ]
     },
     "metadata": {},
     "output_type": "display_data"
    },
    {
     "data": {
      "text/html": [
       "'Akaike Information Criterion: 100'"
      ],
      "text/latex": [
       "'Akaike Information Criterion: 100'"
      ],
      "text/markdown": [
       "'Akaike Information Criterion: 100'"
      ],
      "text/plain": [
       "[1] \"Akaike Information Criterion: 100\""
      ]
     },
     "metadata": {},
     "output_type": "display_data"
    },
    {
     "data": {
      "text/html": [
       "'Adjusted R-squared: 0.44'"
      ],
      "text/latex": [
       "'Adjusted R-squared: 0.44'"
      ],
      "text/markdown": [
       "'Adjusted R-squared: 0.44'"
      ],
      "text/plain": [
       "[1] \"Adjusted R-squared: 0.44\""
      ]
     },
     "metadata": {},
     "output_type": "display_data"
    },
    {
     "data": {
      "image/png": "[encoded data removed]",
      "text/plain": [
       "plot without title"
      ]
     },
     "metadata": {},
     "output_type": "display_data"
    },
    {
     "data": {
      "image/png": "[encoded data removed]",
      "text/plain": [
       "plot without title"
      ]
     },
     "metadata": {},
     "output_type": "display_data"
    }
   ],
   "source": [
    "# Here, we evaluate simple scatter plots of our variables of interest\n",
    "\n",
    "# Outputs scatter plots of log(crmrte) against polpc and log(polpc)\n",
    "plot(clean$polpc, log(clean$crmrte))\n",
    "plot(log(clean$polpc), log(clean$crmrte))\n",
    "\n",
    "# Maps a quadratic function we use to fit density to log(crmrte)\n",
    "first <- clean$density\n",
    "second <- (clean$density)^2\n",
    "\n",
    "model <- lm(log(clean$crmrte) ~ first + second)\n",
    "summary(model)\n",
    "paste(\"Akaike Information Criterion:\", round(AIC(model), 0))\n",
    "paste(\"Adjusted R-squared:\", round(summary(model)$adj.r.squared, 2))\n",
    "\n",
    "densityvalues <- seq(0, 10, 0.1)\n",
    "predictedvalues <- predict(model, list(first=densityvalues, second=densityvalues^2))\n",
    "plot(clean$density, log(clean$crmrte))\n",
    "lines(densityvalues, predictedvalues, col=\"darkgreen\", lwd=3)"
   ]
  },
  {
   "cell_type": "markdown",
   "metadata": {},
   "source": [
    "### Model 3: Adding Almost All Variables in the Dataset to Evaluate the Robustness of Our Key Variable Coefficients to Model Specification\n",
    "\n",
    "Finally, we tested the robustness of our base model coefficients to pertubations in model specification. To do so, we added untransformed regressors that correspond to every variable remaining in the dataset that we did not specifically address in model 2, with the exception of $year$ and $county$. (For the sake of being concise, we do not provide the full specification within the text below, but we refer the reader to the table below that contains coefficients for all three models.) \n",
    "\n",
    "Of the key variables we considered, $\\log{prbpris}$ appears to be sensitive to model specification, whereas $\\log{prbarr}$ and $\\log{prbconv}$ appear to be relatively robust. Relative to the value we calculated in model 1, the value of $\\beta_{\\log{prbpris}}$ goes from being positive to being negative; it is also relatively close to zero. We interpret these results to mean that $\\log{prbpris}$ is not a meaningful predictor of $crmrte$. In contrast, $\\beta_{\\log{prbarr}}$ and $\\beta_{\\log{prbconv}}$ are relatively unaltered from our original model specification; in fact, their absolute values are only reduced by 31% and 41%, respectively. This is roughly the same magnitude change for each coefficient that we observed in model 2; furthermore, we previously judged that at these levels, these coefficients were of practical significance. In total, we interpret these results to mean that $\\beta_{\\log{prbarr}}$ and $\\beta_{\\log{prbconv}}$ are robust to model specification.\n",
    "\n",
    "With respect to our motivating question (i.e., Is crime rate associated with incarceration rate?), these results reinforce the conclusions have already drawn about our three key variables. Namely, that comparatively larger reductions in crime are associated with simply arresting suspects and convicting offenders; incarceration, which is more costly, is not associated with higher or lower crime rates."
   ]
  },
  {
   "cell_type": "markdown",
   "metadata": {},
   "source": [
    "#### Code to Calculate Model 3"
   ]
  },
  {
   "cell_type": "code",
   "execution_count": 51,
   "metadata": {},
   "outputs": [
    {
     "data": {
      "text/plain": [
       "\n",
       "Call:\n",
       "lm(formula = log(crmrte) ~ log(prbarr) + log(prbconv) + log(prbpris) + \n",
       "    density + I(density^2) + log(polpc) + taxpc + west + central + \n",
       "    urban + pctmin80 + wcon + wtuc + wfir + wser + wmfg + wfed + \n",
       "    wsta + wloc + mix + pctymle, data = clean)\n",
       "\n",
       "Residuals:\n",
       "     Min       1Q   Median       3Q      Max \n",
       "-0.68657 -0.10943  0.03564  0.12787  0.47157 \n",
       "\n",
       "Coefficients:\n",
       "               Estimate Std. Error t value Pr(>|t|)    \n",
       "(Intercept)  -4.992e+00  1.094e+00  -4.563 2.17e-05 ***\n",
       "log(prbarr)  -5.002e-01  9.107e-02  -5.493 6.39e-07 ***\n",
       "log(prbconv) -2.757e-01  6.587e-02  -4.185 8.37e-05 ***\n",
       "log(prbpris) -2.419e-02  1.297e-01  -0.187   0.8526    \n",
       "density       3.727e-01  8.285e-02   4.498 2.74e-05 ***\n",
       "I(density^2) -3.090e-02  9.209e-03  -3.355   0.0013 ** \n",
       "log(polpc)    1.283e-01  1.029e-01   1.247   0.2168    \n",
       "taxpc         7.716e-03  3.096e-03   2.492   0.0152 *  \n",
       "west         -3.259e-02  1.173e-01  -0.278   0.7821    \n",
       "central      -7.198e-02  8.294e-02  -0.868   0.3885    \n",
       "urban        -2.643e-01  1.841e-01  -1.436   0.1556    \n",
       "pctmin80      1.283e-02  2.825e-03   4.542 2.34e-05 ***\n",
       "wcon          7.574e-04  8.288e-04   0.914   0.3640    \n",
       "wtuc         -9.973e-05  4.439e-04  -0.225   0.8229    \n",
       "wfir         -1.217e-03  7.509e-04  -1.621   0.1096    \n",
       "wser         -4.424e-04  1.546e-04  -2.862   0.0056 ** \n",
       "wmfg         -2.336e-05  4.243e-04  -0.055   0.9563    \n",
       "wfed          1.958e-03  7.995e-04   2.449   0.0169 *  \n",
       "wsta         -1.051e-03  7.573e-04  -1.389   0.1695    \n",
       "wloc          3.480e-04  1.391e-03   0.250   0.8032    \n",
       "mix           1.037e-01  4.682e-01   0.221   0.8254    \n",
       "pctymle       1.945e+00  1.427e+00   1.363   0.1774    \n",
       "---\n",
       "Signif. codes:  0 '***' 0.001 '**' 0.01 '*' 0.05 '.' 0.1 ' ' 1\n",
       "\n",
       "Residual standard error: 0.2527 on 68 degrees of freedom\n",
       "Multiple R-squared:  0.838,\tAdjusted R-squared:  0.788 \n",
       "F-statistic: 16.75 on 21 and 68 DF,  p-value: < 2.2e-16\n"
      ]
     },
     "metadata": {},
     "output_type": "display_data"
    },
    {
     "data": {
      "text/html": [
       "'Akaike Information Criterion: 29'"
      ],
      "text/latex": [
       "'Akaike Information Criterion: 29'"
      ],
      "text/markdown": [
       "'Akaike Information Criterion: 29'"
      ],
      "text/plain": [
       "[1] \"Akaike Information Criterion: 29\""
      ]
     },
     "metadata": {},
     "output_type": "display_data"
    },
    {
     "data": {
      "text/html": [
       "'###############################'"
      ],
      "text/latex": [
       "'\\#\\#\\#\\#\\#\\#\\#\\#\\#\\#\\#\\#\\#\\#\\#\\#\\#\\#\\#\\#\\#\\#\\#\\#\\#\\#\\#\\#\\#\\#\\#'"
      ],
      "text/markdown": [
       "'###############################'"
      ],
      "text/plain": [
       "[1] \"###############################\""
      ]
     },
     "metadata": {},
     "output_type": "display_data"
    }
   ],
   "source": [
    "final_model3 <- lm(log(crmrte) ~ log(prbarr) + log(prbconv) + log(prbpris)\n",
    "             + density + I(density^2) + log(polpc) + taxpc + west \n",
    "             + central + urban + pctmin80 + wcon + wtuc + wfir + wser\n",
    "             + wmfg + wfed + wsta + wloc + mix + pctymle, data=clean)\n",
    "summary(final_model3)\n",
    "paste(\"Akaike Information Criterion:\", round(AIC(final_model3), 0))\n",
    "paste(\"###############################\")"
   ]
  },
  {
   "cell_type": "markdown",
   "metadata": {},
   "source": [
    "### Summary of Coefficients for Models 1, 2, and 3"
   ]
  },
  {
   "cell_type": "code",
   "execution_count": 53,
   "metadata": {
    "collapsed": true
   },
   "outputs": [
    {
     "name": "stdout",
     "output_type": "stream",
     "text": [
      "\n",
      "<table style=\"text-align:center\"><caption><strong>Linear Models Predicting Crime Rate</strong></caption>\n",
      "<tr><td colspan=\"4\" style=\"border-bottom: 1px solid black\"></td></tr><tr><td style=\"text-align:left\"></td><td colspan=\"3\"><em>Dependent variable:</em></td></tr>\n",
      "<tr><td></td><td colspan=\"3\" style=\"border-bottom: 1px solid black\"></td></tr>\n",
      "<tr><td style=\"text-align:left\"></td><td colspan=\"3\">log(crmrte)</td></tr>\n",
      "<tr><td style=\"text-align:left\"></td><td>(1)</td><td>(2)</td><td>(3)</td></tr>\n",
      "<tr><td colspan=\"4\" style=\"border-bottom: 1px solid black\"></td></tr><tr><td style=\"text-align:left\">log(prbarr)</td><td>-0.724</td><td>-0.475</td><td>-0.500</td></tr>\n",
      "<tr><td style=\"text-align:left\"></td><td></td><td></td><td></td></tr>\n",
      "<tr><td style=\"text-align:left\">log(prbconv)</td><td>-0.472</td><td>-0.321</td><td>-0.276</td></tr>\n",
      "<tr><td style=\"text-align:left\"></td><td></td><td></td><td></td></tr>\n",
      "<tr><td style=\"text-align:left\">log(prbpris)</td><td>0.148</td><td>0.043</td><td>-0.024</td></tr>\n",
      "<tr><td style=\"text-align:left\"></td><td></td><td></td><td></td></tr>\n",
      "<tr><td style=\"text-align:left\">density</td><td></td><td>0.305</td><td>0.373</td></tr>\n",
      "<tr><td style=\"text-align:left\"></td><td></td><td></td><td></td></tr>\n",
      "<tr><td style=\"text-align:left\">I(density2)</td><td></td><td>-0.024</td><td>-0.031</td></tr>\n",
      "<tr><td style=\"text-align:left\"></td><td></td><td></td><td></td></tr>\n",
      "<tr><td style=\"text-align:left\">log(polpc)</td><td></td><td>0.176</td><td>0.128</td></tr>\n",
      "<tr><td style=\"text-align:left\"></td><td></td><td></td><td></td></tr>\n",
      "<tr><td style=\"text-align:left\">taxpc</td><td></td><td></td><td>0.008</td></tr>\n",
      "<tr><td style=\"text-align:left\"></td><td></td><td></td><td></td></tr>\n",
      "<tr><td style=\"text-align:left\">west</td><td></td><td></td><td>-0.033</td></tr>\n",
      "<tr><td style=\"text-align:left\"></td><td></td><td></td><td></td></tr>\n",
      "<tr><td style=\"text-align:left\">central</td><td></td><td></td><td>-0.072</td></tr>\n",
      "<tr><td style=\"text-align:left\"></td><td></td><td></td><td></td></tr>\n",
      "<tr><td style=\"text-align:left\">urban</td><td></td><td></td><td>-0.264</td></tr>\n",
      "<tr><td style=\"text-align:left\"></td><td></td><td></td><td></td></tr>\n",
      "<tr><td style=\"text-align:left\">pctmin80</td><td></td><td></td><td>0.013</td></tr>\n",
      "<tr><td style=\"text-align:left\"></td><td></td><td></td><td></td></tr>\n",
      "<tr><td style=\"text-align:left\">wcon</td><td></td><td></td><td>0.001</td></tr>\n",
      "<tr><td style=\"text-align:left\"></td><td></td><td></td><td></td></tr>\n",
      "<tr><td style=\"text-align:left\">wtuc</td><td></td><td></td><td>-0.0001</td></tr>\n",
      "<tr><td style=\"text-align:left\"></td><td></td><td></td><td></td></tr>\n",
      "<tr><td style=\"text-align:left\">wfir</td><td></td><td></td><td>-0.001</td></tr>\n",
      "<tr><td style=\"text-align:left\"></td><td></td><td></td><td></td></tr>\n",
      "<tr><td style=\"text-align:left\">wser</td><td></td><td></td><td>-0.0004</td></tr>\n",
      "<tr><td style=\"text-align:left\"></td><td></td><td></td><td></td></tr>\n",
      "<tr><td style=\"text-align:left\">wmfg</td><td></td><td></td><td>-0.00002</td></tr>\n",
      "<tr><td style=\"text-align:left\"></td><td></td><td></td><td></td></tr>\n",
      "<tr><td style=\"text-align:left\">wfed</td><td></td><td></td><td>0.002</td></tr>\n",
      "<tr><td style=\"text-align:left\"></td><td></td><td></td><td></td></tr>\n",
      "<tr><td style=\"text-align:left\">wsta</td><td></td><td></td><td>-0.001</td></tr>\n",
      "<tr><td style=\"text-align:left\"></td><td></td><td></td><td></td></tr>\n",
      "<tr><td style=\"text-align:left\">wloc</td><td></td><td></td><td>0.0003</td></tr>\n",
      "<tr><td style=\"text-align:left\"></td><td></td><td></td><td></td></tr>\n",
      "<tr><td style=\"text-align:left\">mix</td><td></td><td></td><td>0.104</td></tr>\n",
      "<tr><td style=\"text-align:left\"></td><td></td><td></td><td></td></tr>\n",
      "<tr><td style=\"text-align:left\">pctymle</td><td></td><td></td><td>1.945</td></tr>\n",
      "<tr><td style=\"text-align:left\"></td><td></td><td></td><td></td></tr>\n",
      "<tr><td style=\"text-align:left\">Constant</td><td>-4.708</td><td>-3.563</td><td>-4.992</td></tr>\n",
      "<tr><td style=\"text-align:left\"></td><td></td><td></td><td></td></tr>\n",
      "<tr><td colspan=\"4\" style=\"border-bottom: 1px solid black\"></td></tr><tr><td style=\"text-align:left\">Observations</td><td>90</td><td>90</td><td>90</td></tr>\n",
      "<tr><td style=\"text-align:left\">R<sup>2</sup></td><td>0.415</td><td>0.597</td><td>0.838</td></tr>\n",
      "<tr><td colspan=\"4\" style=\"border-bottom: 1px solid black\"></td></tr></table>\n"
     ]
    }
   ],
   "source": [
    "stargazer(final_model1, final_model2, final_model3, type=\"html\",\n",
    "         report=\"vc\", title=\"Linear Models Predicting Crime Rate\",\n",
    "         keep.stat=c(\"rsq\", \"n\"),\n",
    "         omit.table.layout=\"n\")"
   ]
  },
  {
   "cell_type": "markdown",
   "metadata": {},
   "source": [
    "<table style=\"text-align:center\"><caption><strong>Linear Models Predicting Crime Rate</strong></caption>\n",
    "<tr><td colspan=\"4\" style=\"border-bottom: 1px solid black\"></td></tr><tr><td style=\"text-align:left\"></td><td colspan=\"3\"><em>Dependent variable:</em></td></tr>\n",
    "<tr><td></td><td colspan=\"3\" style=\"border-bottom: 1px solid black\"></td></tr>\n",
    "<tr><td style=\"text-align:left\"></td><td colspan=\"3\">log(crmrte)</td></tr>\n",
    "<tr><td style=\"text-align:left\"></td><td>(1)</td><td>(2)</td><td>(3)</td></tr>\n",
    "<tr><td colspan=\"4\" style=\"border-bottom: 1px solid black\"></td></tr><tr><td style=\"text-align:left\">log(prbarr)</td><td>-0.724</td><td>-0.475</td><td>-0.500</td></tr>\n",
    "<tr><td style=\"text-align:left\"></td><td></td><td></td><td></td></tr>\n",
    "<tr><td style=\"text-align:left\">log(prbconv)</td><td>-0.472</td><td>-0.321</td><td>-0.276</td></tr>\n",
    "<tr><td style=\"text-align:left\"></td><td></td><td></td><td></td></tr>\n",
    "<tr><td style=\"text-align:left\">log(prbpris)</td><td>0.148</td><td>0.043</td><td>-0.024</td></tr>\n",
    "<tr><td style=\"text-align:left\"></td><td></td><td></td><td></td></tr>\n",
    "<tr><td style=\"text-align:left\">density</td><td></td><td>0.305</td><td>0.373</td></tr>\n",
    "<tr><td style=\"text-align:left\"></td><td></td><td></td><td></td></tr>\n",
    "<tr><td style=\"text-align:left\">I(density2)</td><td></td><td>-0.024</td><td>-0.031</td></tr>\n",
    "<tr><td style=\"text-align:left\"></td><td></td><td></td><td></td></tr>\n",
    "<tr><td style=\"text-align:left\">log(polpc)</td><td></td><td>0.176</td><td>0.128</td></tr>\n",
    "<tr><td style=\"text-align:left\"></td><td></td><td></td><td></td></tr>\n",
    "<tr><td style=\"text-align:left\">taxpc</td><td></td><td></td><td>0.008</td></tr>\n",
    "<tr><td style=\"text-align:left\"></td><td></td><td></td><td></td></tr>\n",
    "<tr><td style=\"text-align:left\">west</td><td></td><td></td><td>-0.033</td></tr>\n",
    "<tr><td style=\"text-align:left\"></td><td></td><td></td><td></td></tr>\n",
    "<tr><td style=\"text-align:left\">central</td><td></td><td></td><td>-0.072</td></tr>\n",
    "<tr><td style=\"text-align:left\"></td><td></td><td></td><td></td></tr>\n",
    "<tr><td style=\"text-align:left\">urban</td><td></td><td></td><td>-0.264</td></tr>\n",
    "<tr><td style=\"text-align:left\"></td><td></td><td></td><td></td></tr>\n",
    "<tr><td style=\"text-align:left\">pctmin80</td><td></td><td></td><td>0.013</td></tr>\n",
    "<tr><td style=\"text-align:left\"></td><td></td><td></td><td></td></tr>\n",
    "<tr><td style=\"text-align:left\">wcon</td><td></td><td></td><td>0.001</td></tr>\n",
    "<tr><td style=\"text-align:left\"></td><td></td><td></td><td></td></tr>\n",
    "<tr><td style=\"text-align:left\">wtuc</td><td></td><td></td><td>-0.0001</td></tr>\n",
    "<tr><td style=\"text-align:left\"></td><td></td><td></td><td></td></tr>\n",
    "<tr><td style=\"text-align:left\">wfir</td><td></td><td></td><td>-0.001</td></tr>\n",
    "<tr><td style=\"text-align:left\"></td><td></td><td></td><td></td></tr>\n",
    "<tr><td style=\"text-align:left\">wser</td><td></td><td></td><td>-0.0004</td></tr>\n",
    "<tr><td style=\"text-align:left\"></td><td></td><td></td><td></td></tr>\n",
    "<tr><td style=\"text-align:left\">wmfg</td><td></td><td></td><td>-0.00002</td></tr>\n",
    "<tr><td style=\"text-align:left\"></td><td></td><td></td><td></td></tr>\n",
    "<tr><td style=\"text-align:left\">wfed</td><td></td><td></td><td>0.002</td></tr>\n",
    "<tr><td style=\"text-align:left\"></td><td></td><td></td><td></td></tr>\n",
    "<tr><td style=\"text-align:left\">wsta</td><td></td><td></td><td>-0.001</td></tr>\n",
    "<tr><td style=\"text-align:left\"></td><td></td><td></td><td></td></tr>\n",
    "<tr><td style=\"text-align:left\">wloc</td><td></td><td></td><td>0.0003</td></tr>\n",
    "<tr><td style=\"text-align:left\"></td><td></td><td></td><td></td></tr>\n",
    "<tr><td style=\"text-align:left\">mix</td><td></td><td></td><td>0.104</td></tr>\n",
    "<tr><td style=\"text-align:left\"></td><td></td><td></td><td></td></tr>\n",
    "<tr><td style=\"text-align:left\">pctymle</td><td></td><td></td><td>1.945</td></tr>\n",
    "<tr><td style=\"text-align:left\"></td><td></td><td></td><td></td></tr>\n",
    "<tr><td style=\"text-align:left\">Constant</td><td>-4.708</td><td>-3.563</td><td>-4.992</td></tr>\n",
    "<tr><td style=\"text-align:left\"></td><td></td><td></td><td></td></tr>\n",
    "<tr><td colspan=\"4\" style=\"border-bottom: 1px solid black\"></td></tr><tr><td style=\"text-align:left\">Observations</td><td>90</td><td>90</td><td>90</td></tr>\n",
    "<tr><td style=\"text-align:left\">R<sup>2</sup></td><td>0.415</td><td>0.597</td><td>0.838</td></tr>\n",
    "<tr><td colspan=\"4\" style=\"border-bottom: 1px solid black\"></td></tr></table>"
   ]
  },
  {
   "cell_type": "markdown",
   "metadata": {},
   "source": [
    "## 5) Omitted Variable Bias\n",
    "\n",
    "There are many reasons why a person might commit a crime. It could be because that person cannot find a job but still needs to provide for his/her family, has a drug addiction or mental instability, or did not have a good role model growing up. Though it can be difficult to pinpoint the underlying motivation, there are several factors that are not included in the dataset that could influence the inclination of committing a crime and bias our results. \n",
    "\n",
    "We will discuss some of the omitted variables and how it might over or underestimate the relationships between probability of arrest and conviction with crime rate. To do this, we first write the equation for our base model with the omitted variable $omitvar$, as denoted below:\n",
    "\n",
    "$$\n",
    "crmrte = \\beta_0 + \\beta_1 prbarr + \\beta_2 prbconv + \\beta_3 prbpris + \\beta_4 omitvar + u \n",
    "$$\n",
    "\n",
    "We also write the individual regession equations for the omitted variable on each of the regressors of our base model $prbarr$, $prbconv$, and $prbpris$:\n",
    "\n",
    "$$\n",
    "omitvar = \\gamma_{0 \\ prbarr} + \\gamma_{1 \\ prbarr} \\cdot prbarr + w_{prbarr} \\\\\n",
    "omitvar = \\gamma_{0 \\ prbconv} + \\gamma_{1 \\ prbconv} \\cdot prbconv + w_{prbconv} \\\\\n",
    "omitvar = \\gamma_{0 \\ prbpris} + \\gamma_{1 \\ prbpris} \\cdot prbpris + w_{prbpris} \\\\\n",
    "$$\n",
    "\n",
    "For each omitted variable, we identify the signs of $\\beta_1$, $\\beta_2$, $\\beta_3$, $\\beta_4$, and $\\gamma_1$. The direction of bias is determined by multiplying the signs of $\\beta_4$ and $\\gamma_1$. The bias with respect to zero is determined by the signs of the respective slope coefficient $\\beta_1$, $\\beta_2$, or $\\beta_3$ with the direction of bias. A bias towards zero indicates an underestimation of the associated slope coefficient $\\beta_1$, $\\beta_2$, or $\\beta_3$, while a bias away from zero indicates an overestimation."
   ]
  },
  {
   "cell_type": "markdown",
   "metadata": {},
   "source": [
    "**Education**\n",
    "\n",
    "We expect crime rate to be negatively correlated with education. As the population of the county becomes more educated, they are more likely to understand the consequences of their actions. In addition, they will have more opportunities to pursue, reducing their likelihood to commit a crime. As such, we also expect that the probability of arrests, conviction, and prison in these more educated counties to decrease.\n",
    "\n",
    "| Regressor | $\\beta_1$ | $\\beta_2$ | $\\beta_3$ | $\\beta_4$ | $\\gamma_1$ | Direction of bias | Bias wrt zero  |\n",
    "| :-------: | :-------: |:---------:|:---------:|:---------:|:----------:| :----------------:|:--------------:|\n",
    "|  prbarr   | negative  |   -       |    -      | negative  |  negative  |      positive     | towards zero   |\n",
    "|  prbconv  |   -       | negative  |    -      | negative  |  negative  |      positive     | towards zero   |\n",
    "|  prbpris  |   -       |   -       | positive  | negative  |  negative  |      positive     | away from zero |"
   ]
  },
  {
   "cell_type": "markdown",
   "metadata": {},
   "source": [
    "**Unemployment**\n",
    "\n",
    "We expect unemployment to be positively correlated with crime rate. As more people in a given population are unemployed, these people may be unable to support themselves and their families. With no income and more time on their hands, these people may be more likely to commit a crime. Based on this, we would expect the probability of arrest,  conviction, and prison to also increase in areas with increased unemployment. \n",
    "\n",
    "| Regressor | $\\beta_1$ | $\\beta_2$ | $\\beta_3$ | $\\beta_4$ | $\\gamma_1$ | Direction of bias | Bias wrt zero  |\n",
    "| :-------: | :-------: |:---------:|:---------:|:---------:|:----------:| :----------------:|:--------------:|\n",
    "|  prbarr   | negative  |   -       |    -      | positive  |  positive  |      positive     | towards zero   |\n",
    "|  prbconv  |   -       | negative  |    -      | positive  |  positive  |      positive     | towards zero   |\n",
    "|  prbpris  |   -       |   -       | positive  | positive  |  positive  |      positive     | away from zero |"
   ]
  },
  {
   "cell_type": "markdown",
   "metadata": {},
   "source": [
    "**Racial diversity**\n",
    "\n",
    "We expect that higher levels of racial diversity would result in a reduction in crime rate, probability of arrest, and probability of conviction. Racially diverse areas provide different perspectives to members of the community, improving understanding and empathy. With a more cohesive community, crimes committed among the population would decrease. In addition, the probability of arrest, conviction, and prison would also be reduced in these areas. A proxy for racial diversity could be the percent minority measured in 1980 (pctmin80). A higher percent minority could indicate that there is higher racial diversity. \n",
    "\n",
    "| Regressor | $\\beta_1$ | $\\beta_2$ | $\\beta_3$ | $\\beta_4$ | $\\gamma_1$ | Direction of bias | Bias wrt zero  |\n",
    "| :-------: | :-------: |:---------:|:---------:|:---------:|:----------:| :----------------:|:--------------:|\n",
    "|  prbarr   | negative  |   -       |    -      | negative  |  negative  |      positive     | towards zero   |\n",
    "|  prbconv  |   -       | negative  |    -      | negative  |  negative  |      positive     | towards zero   |\n",
    "|  prbpris  |   -       |   -       | positive  | negative  |  negative  |      positive     | away from zero |"
   ]
  },
  {
   "cell_type": "markdown",
   "metadata": {},
   "source": [
    "**Youth programs**\n",
    "\n",
    "We expect youth programs such as Big Brothers Big Sisters and Boys and Girls Club of America to reduce the likelihood of crime rate and the probability of arrests, conviction, and prison. Youths that may grow up in a troubled household or neighborhood may need a good role model which these programs help provide to reduce their inclination to commit crimes when they become adults. \n",
    "\n",
    "| Regressor | $\\beta_1$ | $\\beta_2$ | $\\beta_3$ | $\\beta_4$ | $\\gamma_1$ | Direction of bias | Bias wrt zero  |\n",
    "| :-------: | :-------: |:---------:|:---------:|:---------:|:----------:| :----------------:|:--------------:|\n",
    "|  prbarr   | negative  |   -       |    -      | negative  |  negative  |      positive     | towards zero   |\n",
    "|  prbconv  |   -       | negative  |    -      | negative  |  negative  |      positive     | towards zero   |\n",
    "|  prbpris  |   -       |   -       | positive  | negative  |  negative  |      positive     | away from zero |"
   ]
  },
  {
   "cell_type": "markdown",
   "metadata": {},
   "source": [
    "**Drug use**\n",
    "\n",
    "We expect that areas with increased drug use would have an elevated crime rate. Greater drug use leads to increases in drug-related crimes, including theft. Drug use may influence members of a population to behave irrationally, increasing the likelihood of committing a crime, especially to support a drug addiction. Based on the increase in crime rate, we also expect that areas with increased drug use would have increased probability of arrest, conviction, and prison for that population.\n",
    "\n",
    "| Regressor | $\\beta_1$ | $\\beta_2$ | $\\beta_3$ | $\\beta_4$ | $\\gamma_1$ | Direction of bias | Bias wrt zero  |\n",
    "| :-------: | :-------: |:---------:|:---------:|:---------:|:----------:| :----------------:|:--------------:|\n",
    "|  prbarr   | negative  |   -       |    -      | positive  |  positive  |      positive     | towards zero   |\n",
    "|  prbconv  |   -       | negative  |    -      | positive  |  positive  |      positive     | towards zero   |\n",
    "|  prbpris  |   -       |   -       | positive  | positive  |  positive  |      positive     | away from zero |"
   ]
  },
  {
   "cell_type": "markdown",
   "metadata": {},
   "source": [
    "**Severity of crimes**\n",
    "\n",
    "We expect that areas with higher crime severity would also have a higher crime rate. More serious crimes would require more law enforcement resources, leading to fewer resources to discourage minor crimes. This would result in increased levels of less serious crime. Areas with higher crime severity will also have higher probability of arrest and conviction for people who commit crimes. We expect that these areas are subject to more stringent policing and monitoring. A proxy for severity of crimes could be average sentence (avgsen), as counties with a ratio of more severe crimes would have a higher average sentence. However, avgsen may be limited as a proxy since the mean for the variable is quite low and may not be sufficient to capture severity of crimes.\n",
    "\n",
    "| Regressor | $\\beta_1$ | $\\beta_2$ | $\\beta_3$ | $\\beta_4$ | $\\gamma_1$ | Direction of bias | Bias wrt zero  |\n",
    "| :-------: | :-------: |:---------:|:---------:|:---------:|:----------:| :----------------:|:--------------:|\n",
    "|  prbarr   | negative  |   -       |    -      | positive  |  positive  |      positive     | towards zero   |\n",
    "|  prbconv  |   -       | negative  |    -      | positive  |  positive  |      positive     | towards zero   |\n",
    "|  prbpris  |   -       |   -       | positive  | positive  |  positive  |      positive     | away from zero |"
   ]
  },
  {
   "cell_type": "markdown",
   "metadata": {},
   "source": [
    "All of the omitted variables that we have identified seem to influence potential bias in similar manner. The slope coefficients of the probability of arrest and convicitions on crime rate are underestimated, while the slope coefficient of the probability of prison on crime rate is overestimated. This supports our key findings that there is a real association of probability of arrest and conviction with crime rate, and our estimations for these are conservative. The overestimation of the slope coefficient for probability of prison also does not contradict our findings, as we show that the probability of prison is less associated with crime rate, and that small association that we have estimated may actually be even smaller."
   ]
  },
  {
   "cell_type": "markdown",
   "metadata": {},
   "source": [
    "## 6) Conclusions\n",
    "\n",
    "Our analysis sought to address if incarceration is associated in any discernable way with crime rate, employing $prbpris$ as a measurement of incarceration rates. We found that $prbpris$ does not correlate with $crmrte$ in any meaningful way; this suggests that within this dataset, incarceration rates do not correlate with crime rate. Put another way, an increasing probability of incarceration is not associated with higher or lower crime rates. Conversely, we found that increasing rates of arrest and conviction (measured by $prbarr$ and $prbconv$, respectively, are associated with lower crime rates. \n",
    "\n",
    "In total, these observations suggest that your campaign should: (i) explore cheaper alternatives to imprisonment as criminal penalties and (ii) test implementing measures that could increase arrest and conviction rates. In light of the fact that we cannot define a causal relationship between these variables, we recommend that you establish pilot programs in some counties that attempt to test some of these observations. If retrospective analyses indicate that the programs appear to have reduced crime rates (especially in comparison with similar counties that are not executing a similar pilot), then you can launch these initiatives statewide. Specifically, we recommend that you campaign on pilot policy prescriptions that are designed to (i) increase arrest rates, (ii) increase conviction rates, and (iii) offer alternatives to prison for offenders. For example, you might consider increasing funding to process evidence (e.g., rape kits, DNA tests) to crack cold cases and increase arrests, adding more prosecutorial staff to process more cases, or altering sentencing guidelines to disfavor prison (in some instances)."
   ]
  },
  {
   "cell_type": "markdown",
   "metadata": {},
   "source": [
    "## 7) References\n",
    "\n",
    "1. https://www.naacp.org/criminal-justice-fact-sheet/\n",
    "2. https://www.ncdps.gov/adult-corrections/cost-of-corrections"
   ]
  }
 ],
 "metadata": {
  "kernelspec": {
   "display_name": "R",
   "language": "R",
   "name": "ir"
  },
  "language_info": {
   "codemirror_mode": "r",
   "file_extension": ".r",
   "mimetype": "text/x-r-source",
   "name": "R",
   "pygments_lexer": "r",
   "version": "3.4.3"
  }
 },
 "nbformat": 4,
 "nbformat_minor": 2
}
