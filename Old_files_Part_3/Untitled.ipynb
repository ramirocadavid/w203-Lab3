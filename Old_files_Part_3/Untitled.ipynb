{
 "cells": [
  {
   "cell_type": "code",
   "execution_count": 2,
   "metadata": {},
   "outputs": [
    {
     "name": "stderr",
     "output_type": "stream",
     "text": [
      "Installing package into ‘/home/errett/R/x86_64-pc-linux-gnu-library/3.5’\n",
      "(as ‘lib’ is unspecified)\n",
      "also installing the dependencies ‘RMySQL’, ‘RPostgreSQL’\n",
      "\n",
      "Warning message in install.packages(\"dplyr\", repos = \"https://cran.us.r-project.org\", :\n",
      "“installation of package ‘RMySQL’ had non-zero exit status”Warning message in install.packages(\"dplyr\", repos = \"https://cran.us.r-project.org\", :\n",
      "“installation of package ‘RPostgreSQL’ had non-zero exit status”"
     ]
    }
   ],
   "source": [
    "install.packages(\"dplyr\", repos='https://cran.us.r-project.org', dependencies=TRUE)"
   ]
  },
  {
   "cell_type": "code",
   "execution_count": 3,
   "metadata": {},
   "outputs": [
    {
     "name": "stderr",
     "output_type": "stream",
     "text": [
      "Installing package into ‘/home/errett/R/x86_64-pc-linux-gnu-library/3.5’\n",
      "(as ‘lib’ is unspecified)\n"
     ]
    }
   ],
   "source": [
    "install.packages(\"corrplot\", repos='https://cran.us.r-project.org', dependencies=TRUE)"
   ]
  },
  {
   "cell_type": "code",
   "execution_count": 1,
   "metadata": {},
   "outputs": [
    {
     "name": "stderr",
     "output_type": "stream",
     "text": [
      "Installing package into ‘/home/errett/R/x86_64-pc-linux-gnu-library/3.5’\n",
      "(as ‘lib’ is unspecified)\n",
      "also installing the dependencies ‘ucminf’, ‘ordinal’, ‘mvtnorm’, ‘TH.data’, ‘generics’, ‘pan’, ‘jomo’, ‘checkmate’, ‘polspline’, ‘multcomp’, ‘broom’, ‘mitml’, ‘fastmatch’, ‘tidyr’, ‘hexbin’, ‘Formula’, ‘latticeExtra’, ‘cluster’, ‘rpart’, ‘acepack’, ‘htmlTable’, ‘viridis’, ‘chron’, ‘rms’, ‘mice’, ‘tables’, ‘ff’, ‘ffbase’, ‘plotly’\n",
      "\n"
     ]
    }
   ],
   "source": [
    "install.packages(\"Hmisc\", repos='https://cran.us.r-project.org', dependencies=TRUE)"
   ]
  },
  {
   "cell_type": "code",
   "execution_count": 3,
   "metadata": {},
   "outputs": [
    {
     "name": "stderr",
     "output_type": "stream",
     "text": [
      "Installing package into ‘/home/errett/R/x86_64-pc-linux-gnu-library/3.5’\n",
      "(as ‘lib’ is unspecified)\n",
      "Warning message in install.packages(\"fBasics\", repos = \"https://cran.us.r-project.org\", :\n",
      "“installation of package ‘fBasics’ had non-zero exit status”"
     ]
    }
   ],
   "source": [
    "install.packages(\"fBasics\", repos='https://cran.us.r-project.org', dependencies=TRUE)"
   ]
  }
 ],
 "metadata": {
  "kernelspec": {
   "display_name": "R",
   "language": "R",
   "name": "ir"
  },
  "language_info": {
   "codemirror_mode": "r",
   "file_extension": ".r",
   "mimetype": "text/x-r-source",
   "name": "R",
   "pygments_lexer": "r",
   "version": "3.5.0"
  }
 },
 "nbformat": 4,
 "nbformat_minor": 2
}
