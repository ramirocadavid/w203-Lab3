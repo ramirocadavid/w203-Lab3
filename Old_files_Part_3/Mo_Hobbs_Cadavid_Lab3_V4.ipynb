{
 "cells": [
  {
   "cell_type": "markdown",
   "metadata": {},
   "source": [
    "# Lab 3 Draft Report: How Are Increasing Incarceration Rates Associated with Crime Rate?\n",
    "\n",
    "Katie Mo, Errett Hobbs, and Ramiro Cadavid"
   ]
  },
  {
   "cell_type": "markdown",
   "metadata": {},
   "source": [
    "## (1) Introduction"
   ]
  },
  {
   "cell_type": "markdown",
   "metadata": {},
   "source": [
    "It's easy for candidates to support the idea of throwing criminals into prison to appear tough on crime; however, do available data support this position? Is incarceration associated with crime rate in North Carolina? If yes, then how so? To investigate these questions, we modeled crime rate ($crmrte$) as a function of the probability of getting arrested ($prbarr$), the probability of becoming convicted after arrest ($prbconv$), and the probability of becoming incarcerated upon conviction ($prbpris$). \n",
    "\n",
    "Incarceration is very costly; if it is not associated with lower crime rates, then the state of North Carolina should explore less expensive alternatives. On average, incarceration costs the state of North Carolina \\\\$36,219 per inmate per year, whereas prison alternatives like probation or parole supervision cost less than \\$5,000 per year.<sup>1</sup> And the problem of high cost is only getting worse--the number of people imprisoned in America has increased from roughly 500,000 to over 2.2 million, more than four fold, between 1980 to 2015.<sup>2</sup>\n",
    "\n",
    "Our analysis indicates that the likelihood of arrests and convictions are both associated with lower crime rate, while the likelihood of incarceration does not show any strong association. We have not established any causal relationships, but our findings suggest that North Carolina could launch pilot programs to test (i) if increasing arrest or conviction rates reduces crime and (ii) if offering alternatives to incarceration (e.g., probation, drug rehabilitation, fines) saves money without increasing crime rates."
   ]
  },
  {
   "cell_type": "markdown",
   "metadata": {},
   "source": [
    "## (2) Exploratory Data Analysis"
   ]
  },
  {
   "cell_type": "markdown",
   "metadata": {},
   "source": [
    "### Data cleaning and univariate analysis"
   ]
  },
  {
   "cell_type": "markdown",
   "metadata": {},
   "source": [
    "We analyzed a dataset of crime statistics in North Carolina where all the variables are from 1987, except for percent minority, from 1980. From the 97 rows in the dataset, six were empty and two were duplicated. probability of conviction contains a \" \\' \" value which is likely a typing error. We removed duplicated and empty observations; in addition, we recast probability of conviction from a factor to a number. Consequently, **our final dataset contained 90 rows (counties) spread across 25 colums (variables)**."
   ]
  },
  {
   "cell_type": "code",
   "execution_count": 1,
   "metadata": {},
   "outputs": [],
   "source": [
    "# Import libraries and dataset\n",
    "suppressMessages(library(stargazer)); suppressMessages(library(dplyr)); suppressMessages(library(corrplot))\n",
    "suppressMessages(library(car)); suppressMessages(library(Hmisc)); suppressMessages(library(fBasics))\n",
    "suppressMessages(library(lmtest)); suppressMessages(library(sandwich)); crime <- read.csv('crime_v2.csv')"
   ]
  },
  {
   "cell_type": "code",
   "execution_count": 2,
   "metadata": {},
   "outputs": [
    {
     "data": {
      "text/html": [
       "<table>\n",
       "<thead><tr><th></th><th scope=col>county</th><th scope=col>year</th><th scope=col>crmrte</th><th scope=col>prbarr</th><th scope=col>prbconv</th><th scope=col>prbpris</th><th scope=col>avgsen</th><th scope=col>polpc</th><th scope=col>density</th><th scope=col>taxpc</th><th scope=col>...</th><th scope=col>wtuc</th><th scope=col>wtrd</th><th scope=col>wfir</th><th scope=col>wser</th><th scope=col>wmfg</th><th scope=col>wfed</th><th scope=col>wsta</th><th scope=col>wloc</th><th scope=col>mix</th><th scope=col>pctymle</th></tr></thead>\n",
       "<tbody>\n",
       "\t<tr><th scope=row>92</th><td>NA </td><td>NA </td><td>NA </td><td>NA </td><td>   </td><td>NA </td><td>NA </td><td>NA </td><td>NA </td><td>NA </td><td>...</td><td>NA </td><td>NA </td><td>NA </td><td>NA </td><td>NA </td><td>NA </td><td>NA </td><td>NA </td><td>NA </td><td>NA </td></tr>\n",
       "\t<tr><th scope=row>93</th><td>NA </td><td>NA </td><td>NA </td><td>NA </td><td>   </td><td>NA </td><td>NA </td><td>NA </td><td>NA </td><td>NA </td><td>...</td><td>NA </td><td>NA </td><td>NA </td><td>NA </td><td>NA </td><td>NA </td><td>NA </td><td>NA </td><td>NA </td><td>NA </td></tr>\n",
       "\t<tr><th scope=row>94</th><td>NA </td><td>NA </td><td>NA </td><td>NA </td><td>   </td><td>NA </td><td>NA </td><td>NA </td><td>NA </td><td>NA </td><td>...</td><td>NA </td><td>NA </td><td>NA </td><td>NA </td><td>NA </td><td>NA </td><td>NA </td><td>NA </td><td>NA </td><td>NA </td></tr>\n",
       "\t<tr><th scope=row>95</th><td>NA </td><td>NA </td><td>NA </td><td>NA </td><td>   </td><td>NA </td><td>NA </td><td>NA </td><td>NA </td><td>NA </td><td>...</td><td>NA </td><td>NA </td><td>NA </td><td>NA </td><td>NA </td><td>NA </td><td>NA </td><td>NA </td><td>NA </td><td>NA </td></tr>\n",
       "\t<tr><th scope=row>96</th><td>NA </td><td>NA </td><td>NA </td><td>NA </td><td>   </td><td>NA </td><td>NA </td><td>NA </td><td>NA </td><td>NA </td><td>...</td><td>NA </td><td>NA </td><td>NA </td><td>NA </td><td>NA </td><td>NA </td><td>NA </td><td>NA </td><td>NA </td><td>NA </td></tr>\n",
       "\t<tr><th scope=row>97</th><td>NA </td><td>NA </td><td>NA </td><td>NA </td><td>`  </td><td>NA </td><td>NA </td><td>NA </td><td>NA </td><td>NA </td><td>...</td><td>NA </td><td>NA </td><td>NA </td><td>NA </td><td>NA </td><td>NA </td><td>NA </td><td>NA </td><td>NA </td><td>NA </td></tr>\n",
       "</tbody>\n",
       "</table>\n"
      ],
      "text/latex": [
       "\\begin{tabular}{r|lllllllllllllllllllllllll}\n",
       "  & county & year & crmrte & prbarr & prbconv & prbpris & avgsen & polpc & density & taxpc & ... & wtuc & wtrd & wfir & wser & wmfg & wfed & wsta & wloc & mix & pctymle\\\\\n",
       "\\hline\n",
       "\t92 & NA  & NA  & NA  & NA  &     & NA  & NA  & NA  & NA  & NA  & ... & NA  & NA  & NA  & NA  & NA  & NA  & NA  & NA  & NA  & NA \\\\\n",
       "\t93 & NA  & NA  & NA  & NA  &     & NA  & NA  & NA  & NA  & NA  & ... & NA  & NA  & NA  & NA  & NA  & NA  & NA  & NA  & NA  & NA \\\\\n",
       "\t94 & NA  & NA  & NA  & NA  &     & NA  & NA  & NA  & NA  & NA  & ... & NA  & NA  & NA  & NA  & NA  & NA  & NA  & NA  & NA  & NA \\\\\n",
       "\t95 & NA  & NA  & NA  & NA  &     & NA  & NA  & NA  & NA  & NA  & ... & NA  & NA  & NA  & NA  & NA  & NA  & NA  & NA  & NA  & NA \\\\\n",
       "\t96 & NA  & NA  & NA  & NA  &     & NA  & NA  & NA  & NA  & NA  & ... & NA  & NA  & NA  & NA  & NA  & NA  & NA  & NA  & NA  & NA \\\\\n",
       "\t97 & NA  & NA  & NA  & NA  & `   & NA  & NA  & NA  & NA  & NA  & ... & NA  & NA  & NA  & NA  & NA  & NA  & NA  & NA  & NA  & NA \\\\\n",
       "\\end{tabular}\n"
      ],
      "text/markdown": [
       "\n",
       "| <!--/--> | county | year | crmrte | prbarr | prbconv | prbpris | avgsen | polpc | density | taxpc | ... | wtuc | wtrd | wfir | wser | wmfg | wfed | wsta | wloc | mix | pctymle | \n",
       "|---|---|---|---|---|---|\n",
       "| 92 | NA  | NA  | NA  | NA  |     | NA  | NA  | NA  | NA  | NA  | ... | NA  | NA  | NA  | NA  | NA  | NA  | NA  | NA  | NA  | NA  | \n",
       "| 93 | NA  | NA  | NA  | NA  |     | NA  | NA  | NA  | NA  | NA  | ... | NA  | NA  | NA  | NA  | NA  | NA  | NA  | NA  | NA  | NA  | \n",
       "| 94 | NA  | NA  | NA  | NA  |     | NA  | NA  | NA  | NA  | NA  | ... | NA  | NA  | NA  | NA  | NA  | NA  | NA  | NA  | NA  | NA  | \n",
       "| 95 | NA  | NA  | NA  | NA  |     | NA  | NA  | NA  | NA  | NA  | ... | NA  | NA  | NA  | NA  | NA  | NA  | NA  | NA  | NA  | NA  | \n",
       "| 96 | NA  | NA  | NA  | NA  |     | NA  | NA  | NA  | NA  | NA  | ... | NA  | NA  | NA  | NA  | NA  | NA  | NA  | NA  | NA  | NA  | \n",
       "| 97 | NA  | NA  | NA  | NA  | `   | NA  | NA  | NA  | NA  | NA  | ... | NA  | NA  | NA  | NA  | NA  | NA  | NA  | NA  | NA  | NA  | \n",
       "\n",
       "\n"
      ],
      "text/plain": [
       "   county year crmrte prbarr prbconv prbpris avgsen polpc density taxpc ...\n",
       "92 NA     NA   NA     NA             NA      NA     NA    NA      NA    ...\n",
       "93 NA     NA   NA     NA             NA      NA     NA    NA      NA    ...\n",
       "94 NA     NA   NA     NA             NA      NA     NA    NA      NA    ...\n",
       "95 NA     NA   NA     NA             NA      NA     NA    NA      NA    ...\n",
       "96 NA     NA   NA     NA             NA      NA     NA    NA      NA    ...\n",
       "97 NA     NA   NA     NA     `       NA      NA     NA    NA      NA    ...\n",
       "   wtuc wtrd wfir wser wmfg wfed wsta wloc mix pctymle\n",
       "92 NA   NA   NA   NA   NA   NA   NA   NA   NA  NA     \n",
       "93 NA   NA   NA   NA   NA   NA   NA   NA   NA  NA     \n",
       "94 NA   NA   NA   NA   NA   NA   NA   NA   NA  NA     \n",
       "95 NA   NA   NA   NA   NA   NA   NA   NA   NA  NA     \n",
       "96 NA   NA   NA   NA   NA   NA   NA   NA   NA  NA     \n",
       "97 NA   NA   NA   NA   NA   NA   NA   NA   NA  NA     "
      ]
     },
     "metadata": {},
     "output_type": "display_data"
    },
    {
     "data": {
      "text/html": [
       "<table>\n",
       "<thead><tr><th></th><th scope=col>county</th><th scope=col>year</th><th scope=col>crmrte</th><th scope=col>prbarr</th><th scope=col>prbconv</th><th scope=col>prbpris</th><th scope=col>avgsen</th><th scope=col>polpc</th><th scope=col>density</th><th scope=col>taxpc</th><th scope=col>...</th><th scope=col>wtuc</th><th scope=col>wtrd</th><th scope=col>wfir</th><th scope=col>wser</th><th scope=col>wmfg</th><th scope=col>wfed</th><th scope=col>wsta</th><th scope=col>wloc</th><th scope=col>mix</th><th scope=col>pctymle</th></tr></thead>\n",
       "<tbody>\n",
       "\t<tr><th scope=row>88</th><td>193        </td><td>87         </td><td>0.0235277  </td><td>0.266055   </td><td>0.588859022</td><td>0.423423   </td><td>5.86       </td><td>0.00117887 </td><td>0.8138298  </td><td>28.51783   </td><td>...        </td><td>480.1948   </td><td>268.3836   </td><td>365.0196   </td><td>295.9352   </td><td>295.63     </td><td>468.26     </td><td>337.88     </td><td>348.74     </td><td>0.1105016  </td><td>0.07819394 </td></tr>\n",
       "\t<tr><th scope=row>89</th><td>193        </td><td>87         </td><td>0.0235277  </td><td>0.266055   </td><td>0.588859022</td><td>0.423423   </td><td>5.86       </td><td>0.00117887 </td><td>0.8138298  </td><td>28.51783   </td><td>...        </td><td>480.1948   </td><td>268.3836   </td><td>365.0196   </td><td>295.9352   </td><td>295.63     </td><td>468.26     </td><td>337.88     </td><td>348.74     </td><td>0.1105016  </td><td>0.07819394 </td></tr>\n",
       "</tbody>\n",
       "</table>\n"
      ],
      "text/latex": [
       "\\begin{tabular}{r|lllllllllllllllllllllllll}\n",
       "  & county & year & crmrte & prbarr & prbconv & prbpris & avgsen & polpc & density & taxpc & ... & wtuc & wtrd & wfir & wser & wmfg & wfed & wsta & wloc & mix & pctymle\\\\\n",
       "\\hline\n",
       "\t88 & 193         & 87          & 0.0235277   & 0.266055    & 0.588859022 & 0.423423    & 5.86        & 0.00117887  & 0.8138298   & 28.51783    & ...         & 480.1948    & 268.3836    & 365.0196    & 295.9352    & 295.63      & 468.26      & 337.88      & 348.74      & 0.1105016   & 0.07819394 \\\\\n",
       "\t89 & 193         & 87          & 0.0235277   & 0.266055    & 0.588859022 & 0.423423    & 5.86        & 0.00117887  & 0.8138298   & 28.51783    & ...         & 480.1948    & 268.3836    & 365.0196    & 295.9352    & 295.63      & 468.26      & 337.88      & 348.74      & 0.1105016   & 0.07819394 \\\\\n",
       "\\end{tabular}\n"
      ],
      "text/markdown": [
       "\n",
       "| <!--/--> | county | year | crmrte | prbarr | prbconv | prbpris | avgsen | polpc | density | taxpc | ... | wtuc | wtrd | wfir | wser | wmfg | wfed | wsta | wloc | mix | pctymle | \n",
       "|---|---|\n",
       "| 88 | 193         | 87          | 0.0235277   | 0.266055    | 0.588859022 | 0.423423    | 5.86        | 0.00117887  | 0.8138298   | 28.51783    | ...         | 480.1948    | 268.3836    | 365.0196    | 295.9352    | 295.63      | 468.26      | 337.88      | 348.74      | 0.1105016   | 0.07819394  | \n",
       "| 89 | 193         | 87          | 0.0235277   | 0.266055    | 0.588859022 | 0.423423    | 5.86        | 0.00117887  | 0.8138298   | 28.51783    | ...         | 480.1948    | 268.3836    | 365.0196    | 295.9352    | 295.63      | 468.26      | 337.88      | 348.74      | 0.1105016   | 0.07819394  | \n",
       "\n",
       "\n"
      ],
      "text/plain": [
       "   county year crmrte    prbarr   prbconv     prbpris  avgsen polpc     \n",
       "88 193    87   0.0235277 0.266055 0.588859022 0.423423 5.86   0.00117887\n",
       "89 193    87   0.0235277 0.266055 0.588859022 0.423423 5.86   0.00117887\n",
       "   density   taxpc    ... wtuc     wtrd     wfir     wser     wmfg   wfed  \n",
       "88 0.8138298 28.51783 ... 480.1948 268.3836 365.0196 295.9352 295.63 468.26\n",
       "89 0.8138298 28.51783 ... 480.1948 268.3836 365.0196 295.9352 295.63 468.26\n",
       "   wsta   wloc   mix       pctymle   \n",
       "88 337.88 348.74 0.1105016 0.07819394\n",
       "89 337.88 348.74 0.1105016 0.07819394"
      ]
     },
     "metadata": {},
     "output_type": "display_data"
    }
   ],
   "source": [
    "# Show and remove empty cases\n",
    "crime[!complete.cases(crime), ]\n",
    "clean <- crime[complete.cases(crime), ]\n",
    "\n",
    "# Show and remove duplicate counties\n",
    "subset(clean, subset = clean$county == 193)\n",
    "clean <- clean[!duplicated(clean$county), ]\n",
    "\n",
    "# Remove ` and cast the column to numeric\n",
    "clean$prbconv <- as.numeric(as.character(clean$prbconv))"
   ]
  },
  {
   "cell_type": "code",
   "execution_count": 3,
   "metadata": {},
   "outputs": [
    {
     "data": {
      "text/html": [
       "<table>\n",
       "<thead><tr><th></th><th scope=col>county</th><th scope=col>year</th><th scope=col>crmrte</th><th scope=col>prbarr</th><th scope=col>prbconv</th><th scope=col>prbpris</th><th scope=col>avgsen</th><th scope=col>polpc</th><th scope=col>density</th><th scope=col>taxpc</th><th scope=col>west</th><th scope=col>central</th><th scope=col>urban</th></tr></thead>\n",
       "<tbody>\n",
       "\t<tr><th scope=row>Minimum</th><td>  1.0    </td><td>87       </td><td>0.005533 </td><td>0.092770 </td><td>0.068376 </td><td>0.150000 </td><td> 5.380000</td><td>0.000746 </td><td>0.000020 </td><td> 25.69287</td><td>0.000000 </td><td>0.000000 </td><td>0.000000 </td></tr>\n",
       "\t<tr><th scope=row>1. Quartile</th><td> 51.5    </td><td>87       </td><td>0.020604 </td><td>0.204948 </td><td>0.344217 </td><td>0.364216 </td><td> 7.375000</td><td>0.001238 </td><td>0.547177 </td><td> 30.73462</td><td>0.000000 </td><td>0.000000 </td><td>0.000000 </td></tr>\n",
       "\t<tr><th scope=row>Mean</th><td>100.6    </td><td>87       </td><td>0.033510 </td><td>0.295238 </td><td>0.550861 </td><td>0.410626 </td><td> 9.688889</td><td>0.001708 </td><td>1.435670 </td><td> 38.16103</td><td>0.244444 </td><td>0.377778 </td><td>0.088889 </td></tr>\n",
       "\t<tr><th scope=row>Median</th><td>103.0    </td><td>87       </td><td>0.030002 </td><td>0.271458 </td><td>0.451698 </td><td>0.422238 </td><td> 9.110000</td><td>0.001490 </td><td>0.979245 </td><td> 34.91612</td><td>0.000000 </td><td>0.000000 </td><td>0.000000 </td></tr>\n",
       "\t<tr><th scope=row>3. Quartile</th><td>150.5    </td><td>87       </td><td>0.040249 </td><td>0.344873 </td><td>0.585130 </td><td>0.457556 </td><td>11.465000</td><td>0.001886 </td><td>1.569261 </td><td> 41.01009</td><td>0.000000 </td><td>1.000000 </td><td>0.000000 </td></tr>\n",
       "\t<tr><th scope=row>Maximum</th><td>197.0    </td><td>87       </td><td>0.098966 </td><td>1.090910 </td><td>2.121210 </td><td>0.600000 </td><td>20.700001</td><td>0.009054 </td><td>8.827652 </td><td>119.76145</td><td>1.000000 </td><td>1.000000 </td><td>1.000000 </td></tr>\n",
       "\t<tr><th scope=row>NAs</th><td>  0.0    </td><td> 0       </td><td>0.000000 </td><td>0.000000 </td><td>0.000000 </td><td>0.000000 </td><td> 0.000000</td><td>0.000000 </td><td>0.000000 </td><td>  0.00000</td><td>0.000000 </td><td>0.000000 </td><td>0.000000 </td></tr>\n",
       "</tbody>\n",
       "</table>\n"
      ],
      "text/latex": [
       "\\begin{tabular}{r|lllllllllllll}\n",
       "  & county & year & crmrte & prbarr & prbconv & prbpris & avgsen & polpc & density & taxpc & west & central & urban\\\\\n",
       "\\hline\n",
       "\tMinimum &   1.0     & 87        & 0.005533  & 0.092770  & 0.068376  & 0.150000  &  5.380000 & 0.000746  & 0.000020  &  25.69287 & 0.000000  & 0.000000  & 0.000000 \\\\\n",
       "\t1. Quartile &  51.5     & 87        & 0.020604  & 0.204948  & 0.344217  & 0.364216  &  7.375000 & 0.001238  & 0.547177  &  30.73462 & 0.000000  & 0.000000  & 0.000000 \\\\\n",
       "\tMean & 100.6     & 87        & 0.033510  & 0.295238  & 0.550861  & 0.410626  &  9.688889 & 0.001708  & 1.435670  &  38.16103 & 0.244444  & 0.377778  & 0.088889 \\\\\n",
       "\tMedian & 103.0     & 87        & 0.030002  & 0.271458  & 0.451698  & 0.422238  &  9.110000 & 0.001490  & 0.979245  &  34.91612 & 0.000000  & 0.000000  & 0.000000 \\\\\n",
       "\t3. Quartile & 150.5     & 87        & 0.040249  & 0.344873  & 0.585130  & 0.457556  & 11.465000 & 0.001886  & 1.569261  &  41.01009 & 0.000000  & 1.000000  & 0.000000 \\\\\n",
       "\tMaximum & 197.0     & 87        & 0.098966  & 1.090910  & 2.121210  & 0.600000  & 20.700001 & 0.009054  & 8.827652  & 119.76145 & 1.000000  & 1.000000  & 1.000000 \\\\\n",
       "\tNAs &   0.0     &  0        & 0.000000  & 0.000000  & 0.000000  & 0.000000  &  0.000000 & 0.000000  & 0.000000  &   0.00000 & 0.000000  & 0.000000  & 0.000000 \\\\\n",
       "\\end{tabular}\n"
      ],
      "text/markdown": [
       "\n",
       "| <!--/--> | county | year | crmrte | prbarr | prbconv | prbpris | avgsen | polpc | density | taxpc | west | central | urban | \n",
       "|---|---|---|---|---|---|---|\n",
       "| Minimum |   1.0     | 87        | 0.005533  | 0.092770  | 0.068376  | 0.150000  |  5.380000 | 0.000746  | 0.000020  |  25.69287 | 0.000000  | 0.000000  | 0.000000  | \n",
       "| 1. Quartile |  51.5     | 87        | 0.020604  | 0.204948  | 0.344217  | 0.364216  |  7.375000 | 0.001238  | 0.547177  |  30.73462 | 0.000000  | 0.000000  | 0.000000  | \n",
       "| Mean | 100.6     | 87        | 0.033510  | 0.295238  | 0.550861  | 0.410626  |  9.688889 | 0.001708  | 1.435670  |  38.16103 | 0.244444  | 0.377778  | 0.088889  | \n",
       "| Median | 103.0     | 87        | 0.030002  | 0.271458  | 0.451698  | 0.422238  |  9.110000 | 0.001490  | 0.979245  |  34.91612 | 0.000000  | 0.000000  | 0.000000  | \n",
       "| 3. Quartile | 150.5     | 87        | 0.040249  | 0.344873  | 0.585130  | 0.457556  | 11.465000 | 0.001886  | 1.569261  |  41.01009 | 0.000000  | 1.000000  | 0.000000  | \n",
       "| Maximum | 197.0     | 87        | 0.098966  | 1.090910  | 2.121210  | 0.600000  | 20.700001 | 0.009054  | 8.827652  | 119.76145 | 1.000000  | 1.000000  | 1.000000  | \n",
       "| NAs |   0.0     |  0        | 0.000000  | 0.000000  | 0.000000  | 0.000000  |  0.000000 | 0.000000  | 0.000000  |   0.00000 | 0.000000  | 0.000000  | 0.000000  | \n",
       "\n",
       "\n"
      ],
      "text/plain": [
       "            county year crmrte   prbarr   prbconv  prbpris  avgsen    polpc   \n",
       "Minimum       1.0  87   0.005533 0.092770 0.068376 0.150000  5.380000 0.000746\n",
       "1. Quartile  51.5  87   0.020604 0.204948 0.344217 0.364216  7.375000 0.001238\n",
       "Mean        100.6  87   0.033510 0.295238 0.550861 0.410626  9.688889 0.001708\n",
       "Median      103.0  87   0.030002 0.271458 0.451698 0.422238  9.110000 0.001490\n",
       "3. Quartile 150.5  87   0.040249 0.344873 0.585130 0.457556 11.465000 0.001886\n",
       "Maximum     197.0  87   0.098966 1.090910 2.121210 0.600000 20.700001 0.009054\n",
       "NAs           0.0   0   0.000000 0.000000 0.000000 0.000000  0.000000 0.000000\n",
       "            density  taxpc     west     central  urban   \n",
       "Minimum     0.000020  25.69287 0.000000 0.000000 0.000000\n",
       "1. Quartile 0.547177  30.73462 0.000000 0.000000 0.000000\n",
       "Mean        1.435670  38.16103 0.244444 0.377778 0.088889\n",
       "Median      0.979245  34.91612 0.000000 0.000000 0.000000\n",
       "3. Quartile 1.569261  41.01009 0.000000 1.000000 0.000000\n",
       "Maximum     8.827652 119.76145 1.000000 1.000000 1.000000\n",
       "NAs         0.000000   0.00000 0.000000 0.000000 0.000000"
      ]
     },
     "metadata": {},
     "output_type": "display_data"
    },
    {
     "data": {
      "text/html": [
       "<table>\n",
       "<thead><tr><th></th><th scope=col>pctmin80</th><th scope=col>wcon</th><th scope=col>wtuc</th><th scope=col>wtrd</th><th scope=col>wfir</th><th scope=col>wser</th><th scope=col>wmfg</th><th scope=col>wfed</th><th scope=col>wsta</th><th scope=col>wloc</th><th scope=col>mix</th><th scope=col>pctymle</th></tr></thead>\n",
       "<tbody>\n",
       "\t<tr><th scope=row>Minimum</th><td> 1.28365 </td><td>193.6432 </td><td>187.6173 </td><td>154.2090 </td><td>170.9402 </td><td> 133.0431</td><td>157.4100 </td><td>326.1000 </td><td>258.3300 </td><td>239.1700 </td><td>0.019608 </td><td>0.062158 </td></tr>\n",
       "\t<tr><th scope=row>1. Quartile</th><td>10.02440 </td><td>250.7544 </td><td>374.3309 </td><td>190.7096 </td><td>285.5604 </td><td> 229.3385</td><td>288.5975 </td><td>398.7850 </td><td>329.2725 </td><td>297.2275 </td><td>0.080597 </td><td>0.074368 </td></tr>\n",
       "\t<tr><th scope=row>Mean</th><td>25.71285 </td><td>285.3532 </td><td>410.9065 </td><td>210.9214 </td><td>321.6213 </td><td> 275.3379</td><td>336.0327 </td><td>442.6189 </td><td>357.7402 </td><td>312.2801 </td><td>0.129045 </td><td>0.084026 </td></tr>\n",
       "\t<tr><th scope=row>Median</th><td>24.85155 </td><td>281.1624 </td><td>404.7800 </td><td>202.9879 </td><td>317.1257 </td><td> 253.1188</td><td>321.0500 </td><td>448.8550 </td><td>358.4000 </td><td>307.6500 </td><td>0.100950 </td><td>0.077702 </td></tr>\n",
       "\t<tr><th scope=row>3. Quartile</th><td>38.18257 </td><td>314.9793 </td><td>440.6787 </td><td>224.2824 </td><td>342.6279 </td><td> 277.6500</td><td>359.8950 </td><td>478.2550 </td><td>383.1550 </td><td>328.7750 </td><td>0.152061 </td><td>0.083518 </td></tr>\n",
       "\t<tr><th scope=row>Maximum</th><td>64.34820 </td><td>436.7666 </td><td>613.2261 </td><td>354.6761 </td><td>509.4655 </td><td>2177.0681</td><td>646.8500 </td><td>597.9500 </td><td>499.5900 </td><td>388.0900 </td><td>0.465116 </td><td>0.248712 </td></tr>\n",
       "\t<tr><th scope=row>NAs</th><td> 0.00000 </td><td>  0.0000 </td><td>  0.0000 </td><td>  0.0000 </td><td>  0.0000 </td><td>   0.0000</td><td>  0.0000 </td><td>  0.0000 </td><td>  0.0000 </td><td>  0.0000 </td><td>0.000000 </td><td>0.000000 </td></tr>\n",
       "</tbody>\n",
       "</table>\n"
      ],
      "text/latex": [
       "\\begin{tabular}{r|llllllllllll}\n",
       "  & pctmin80 & wcon & wtuc & wtrd & wfir & wser & wmfg & wfed & wsta & wloc & mix & pctymle\\\\\n",
       "\\hline\n",
       "\tMinimum &  1.28365  & 193.6432  & 187.6173  & 154.2090  & 170.9402  &  133.0431 & 157.4100  & 326.1000  & 258.3300  & 239.1700  & 0.019608  & 0.062158 \\\\\n",
       "\t1. Quartile & 10.02440  & 250.7544  & 374.3309  & 190.7096  & 285.5604  &  229.3385 & 288.5975  & 398.7850  & 329.2725  & 297.2275  & 0.080597  & 0.074368 \\\\\n",
       "\tMean & 25.71285  & 285.3532  & 410.9065  & 210.9214  & 321.6213  &  275.3379 & 336.0327  & 442.6189  & 357.7402  & 312.2801  & 0.129045  & 0.084026 \\\\\n",
       "\tMedian & 24.85155  & 281.1624  & 404.7800  & 202.9879  & 317.1257  &  253.1188 & 321.0500  & 448.8550  & 358.4000  & 307.6500  & 0.100950  & 0.077702 \\\\\n",
       "\t3. Quartile & 38.18257  & 314.9793  & 440.6787  & 224.2824  & 342.6279  &  277.6500 & 359.8950  & 478.2550  & 383.1550  & 328.7750  & 0.152061  & 0.083518 \\\\\n",
       "\tMaximum & 64.34820  & 436.7666  & 613.2261  & 354.6761  & 509.4655  & 2177.0681 & 646.8500  & 597.9500  & 499.5900  & 388.0900  & 0.465116  & 0.248712 \\\\\n",
       "\tNAs &  0.00000  &   0.0000  &   0.0000  &   0.0000  &   0.0000  &    0.0000 &   0.0000  &   0.0000  &   0.0000  &   0.0000  & 0.000000  & 0.000000 \\\\\n",
       "\\end{tabular}\n"
      ],
      "text/markdown": [
       "\n",
       "| <!--/--> | pctmin80 | wcon | wtuc | wtrd | wfir | wser | wmfg | wfed | wsta | wloc | mix | pctymle | \n",
       "|---|---|---|---|---|---|---|\n",
       "| Minimum |  1.28365  | 193.6432  | 187.6173  | 154.2090  | 170.9402  |  133.0431 | 157.4100  | 326.1000  | 258.3300  | 239.1700  | 0.019608  | 0.062158  | \n",
       "| 1. Quartile | 10.02440  | 250.7544  | 374.3309  | 190.7096  | 285.5604  |  229.3385 | 288.5975  | 398.7850  | 329.2725  | 297.2275  | 0.080597  | 0.074368  | \n",
       "| Mean | 25.71285  | 285.3532  | 410.9065  | 210.9214  | 321.6213  |  275.3379 | 336.0327  | 442.6189  | 357.7402  | 312.2801  | 0.129045  | 0.084026  | \n",
       "| Median | 24.85155  | 281.1624  | 404.7800  | 202.9879  | 317.1257  |  253.1188 | 321.0500  | 448.8550  | 358.4000  | 307.6500  | 0.100950  | 0.077702  | \n",
       "| 3. Quartile | 38.18257  | 314.9793  | 440.6787  | 224.2824  | 342.6279  |  277.6500 | 359.8950  | 478.2550  | 383.1550  | 328.7750  | 0.152061  | 0.083518  | \n",
       "| Maximum | 64.34820  | 436.7666  | 613.2261  | 354.6761  | 509.4655  | 2177.0681 | 646.8500  | 597.9500  | 499.5900  | 388.0900  | 0.465116  | 0.248712  | \n",
       "| NAs |  0.00000  |   0.0000  |   0.0000  |   0.0000  |   0.0000  |    0.0000 |   0.0000  |   0.0000  |   0.0000  |   0.0000  | 0.000000  | 0.000000  | \n",
       "\n",
       "\n"
      ],
      "text/plain": [
       "            pctmin80 wcon     wtuc     wtrd     wfir     wser      wmfg    \n",
       "Minimum      1.28365 193.6432 187.6173 154.2090 170.9402  133.0431 157.4100\n",
       "1. Quartile 10.02440 250.7544 374.3309 190.7096 285.5604  229.3385 288.5975\n",
       "Mean        25.71285 285.3532 410.9065 210.9214 321.6213  275.3379 336.0327\n",
       "Median      24.85155 281.1624 404.7800 202.9879 317.1257  253.1188 321.0500\n",
       "3. Quartile 38.18257 314.9793 440.6787 224.2824 342.6279  277.6500 359.8950\n",
       "Maximum     64.34820 436.7666 613.2261 354.6761 509.4655 2177.0681 646.8500\n",
       "NAs          0.00000   0.0000   0.0000   0.0000   0.0000    0.0000   0.0000\n",
       "            wfed     wsta     wloc     mix      pctymle \n",
       "Minimum     326.1000 258.3300 239.1700 0.019608 0.062158\n",
       "1. Quartile 398.7850 329.2725 297.2275 0.080597 0.074368\n",
       "Mean        442.6189 357.7402 312.2801 0.129045 0.084026\n",
       "Median      448.8550 358.4000 307.6500 0.100950 0.077702\n",
       "3. Quartile 478.2550 383.1550 328.7750 0.152061 0.083518\n",
       "Maximum     597.9500 499.5900 388.0900 0.465116 0.248712\n",
       "NAs           0.0000   0.0000   0.0000 0.000000 0.000000"
      ]
     },
     "metadata": {},
     "output_type": "display_data"
    }
   ],
   "source": [
    "# Summary statistics of all variables\n",
    "basicStats(clean)[c(3, 5, 7, 8, 6, 4, 2), 1:13]\n",
    "basicStats(clean)[c(3, 5, 7, 8, 6, 4, 2), 14:25]\n"
   ]
  },
  {
   "cell_type": "markdown",
   "metadata": {},
   "source": [
    "A deeper exploration of the variables available revealed possible errors and particular features in the distribution of these variables that should be taken into account in the model's specification to correctly represent the relationships of interest to the campaign."
   ]
  },
  {
   "cell_type": "markdown",
   "metadata": {},
   "source": [
    "#### Variables of interest"
   ]
  },
  {
   "cell_type": "markdown",
   "metadata": {},
   "source": [
    "Throughout the exploratory analysis **we looked at both level and transformed forms of our variables of interest** (crime rate, probability of arrest, probability of conviction and probability of prison). However, throughout the presentations of this and the modeling phases, we will mostly focus on their log-transformed forms because these will be the form entered in the final model, for reasons that will be exposed throughout this report."
   ]
  },
  {
   "cell_type": "markdown",
   "metadata": {},
   "source": [
    "##### Crime rate\n",
    "\n",
    "$crmrte$ values are within a reasonable range and there are no concentrations around specific values that would lead us to suspect measurement errors. Furthermore, the **log-transformation** doesn't increase the spread significantly, even for values that are close to zero, and results in a distribution that is **less skewed** than its original form; these, and the close relationship between the distribution of the errors and of the dependent variable, are some of the reasons to recommend including the log-transformed version of this variable in the final model."
   ]
  },
  {
   "cell_type": "code",
   "execution_count": 68,
   "metadata": {},
   "outputs": [
    {
     "data": {
      "text/html": [
       "<table>\n",
       "<thead><tr><th></th><th scope=col>Min</th><th scope=col>Q1</th><th scope=col>Median</th><th scope=col>Mean</th><th scope=col>Q3</th><th scope=col>Max</th></tr></thead>\n",
       "<tbody>\n",
       "\t<tr><th scope=row>crmrte</th><td> 0.0055332 </td><td> 0.02060425</td><td> 0.030002  </td><td> 0.03350992</td><td> 0.04024925</td><td> 0.0989659 </td></tr>\n",
       "\t<tr><th scope=row>log.crmrte</th><td>-5.1969890 </td><td>-3.88261877</td><td>-3.506491  </td><td>-3.54172735</td><td>-3.21301293</td><td>-2.3129800 </td></tr>\n",
       "</tbody>\n",
       "</table>\n"
      ],
      "text/latex": [
       "\\begin{tabular}{r|llllll}\n",
       "  & Min & Q1 & Median & Mean & Q3 & Max\\\\\n",
       "\\hline\n",
       "\tcrmrte &  0.0055332  &  0.02060425 &  0.030002   &  0.03350992 &  0.04024925 &  0.0989659 \\\\\n",
       "\tlog.crmrte & -5.1969890  & -3.88261877 & -3.506491   & -3.54172735 & -3.21301293 & -2.3129800 \\\\\n",
       "\\end{tabular}\n"
      ],
      "text/markdown": [
       "\n",
       "| <!--/--> | Min | Q1 | Median | Mean | Q3 | Max | \n",
       "|---|---|\n",
       "| crmrte |  0.0055332  |  0.02060425 |  0.030002   |  0.03350992 |  0.04024925 |  0.0989659  | \n",
       "| log.crmrte | -5.1969890  | -3.88261877 | -3.506491   | -3.54172735 | -3.21301293 | -2.3129800  | \n",
       "\n",
       "\n"
      ],
      "text/plain": [
       "           Min        Q1          Median    Mean        Q3          Max       \n",
       "crmrte      0.0055332  0.02060425  0.030002  0.03350992  0.04024925  0.0989659\n",
       "log.crmrte -5.1969890 -3.88261877 -3.506491 -3.54172735 -3.21301293 -2.3129800"
      ]
     },
     "metadata": {},
     "output_type": "display_data"
    },
    {
     "data": {
      "text/html": [
       "'Repeated values: 0'"
      ],
      "text/latex": [
       "'Repeated values: 0'"
      ],
      "text/markdown": [
       "'Repeated values: 0'"
      ],
      "text/plain": [
       "[1] \"Repeated values: 0\""
      ]
     },
     "metadata": {},
     "output_type": "display_data"
    },
    {
     "data": {
      "image/png": "[encoded data removed]",
      "text/plain": [
       "Plot with title \"Histogram - log(Crime Rate)\""
      ]
     },
     "metadata": {},
     "output_type": "display_data"
    }
   ],
   "source": [
    "# Summary statistics of crime rate and log(crime rate)\n",
    "\n",
    "summ.crmrte <- data.frame(t(data.frame(crmrte = matrix(unclass(summary(clean$crmrte))),\n",
    "                             log.crmrte = matrix(unclass(summary(log(clean$crmrte)))))))\n",
    "names(summ.crmrte) <- c(\"Min\", \"Q1\", \"Median\", \"Mean\", \"Q3\", \"Max\"); summ.crmrte\n",
    "\n",
    "# Check for concentration of observations around certain values\n",
    "\n",
    "freqs.crmrte <- data.frame(table(clean$crmrte))\n",
    "paste(\"Repeated values:\", \n",
    "      length(freqs.crmrte$Freq[freqs.crmrte$Freq > 1]))\n",
    "\n",
    "# Histograms of crime rate and log(crime rate)\n",
    "\n",
    "par(mfrow = c(1, 2), cex.main = 0.8, cex.lab = 0.8, cex.axis = 0.8)\n",
    "options(repr.plot.width=7, repr.plot.height=4)\n",
    "hist(clean$crmrte, main = \"Histogram - Crime Rate\", col = rgb(0.4, 0.4, 0.4, 0.6), ylim = c(0, 30), xlab = \"Crimes per person\",\n",
    "     breaks = sqrt(nrow(clean)))\n",
    "hist(log(clean$crmrte), main = \"Histogram - log(Crime Rate)\", col = rgb(0.4, 0.4, 0.4, 0.6), ylim = c(0, 30), \n",
    "     xlab = \"log(Crimes per person)\", breaks = sqrt(nrow(clean)))"
   ]
  },
  {
   "cell_type": "markdown",
   "metadata": {},
   "source": [
    "##### Probability of arrest\n",
    "\n",
    "$prbarr$ has **one value larger than 1. This is atypical but we cannot be sure that it is an error** since we don't have enough information about how this variable is defined. For example, if $prbarr$ is defined as $(\\text{arrests_in_period_t} / \\text{crimes_in_period_t})$, values larger than 1 are possible since arrests in period t correspond both to crimes committed in period $t$ but also in $t-i, \\forall i = 1, 2, ...$. The **log-transformation** is also within a reasonable range and returns a variable that is **less skewed**."
   ]
  },
  {
   "cell_type": "code",
   "execution_count": 5,
   "metadata": {},
   "outputs": [
    {
     "data": {
      "text/html": [
       "<table>\n",
       "<thead><tr><th></th><th scope=col>county</th><th scope=col>year</th><th scope=col>crmrte</th><th scope=col>prbarr</th><th scope=col>prbconv</th><th scope=col>prbpris</th><th scope=col>avgsen</th><th scope=col>polpc</th><th scope=col>density</th><th scope=col>taxpc</th><th scope=col>...</th><th scope=col>wtuc</th><th scope=col>wtrd</th><th scope=col>wfir</th><th scope=col>wser</th><th scope=col>wmfg</th><th scope=col>wfed</th><th scope=col>wsta</th><th scope=col>wloc</th><th scope=col>mix</th><th scope=col>pctymle</th></tr></thead>\n",
       "<tbody>\n",
       "\t<tr><th scope=row>51</th><td>115       </td><td>87        </td><td>0.0055332 </td><td>1.09091   </td><td>1.5       </td><td>0.5       </td><td>20.7      </td><td>0.00905433</td><td>0.3858093 </td><td>28.1931   </td><td>...       </td><td>503.2351  </td><td>217.4908  </td><td>342.4658  </td><td>245.2061  </td><td>448.42    </td><td>442.2     </td><td>340.39    </td><td>386.12    </td><td>0.1       </td><td>0.07253495</td></tr>\n",
       "</tbody>\n",
       "</table>\n"
      ],
      "text/latex": [
       "\\begin{tabular}{r|lllllllllllllllllllllllll}\n",
       "  & county & year & crmrte & prbarr & prbconv & prbpris & avgsen & polpc & density & taxpc & ... & wtuc & wtrd & wfir & wser & wmfg & wfed & wsta & wloc & mix & pctymle\\\\\n",
       "\\hline\n",
       "\t51 & 115        & 87         & 0.0055332  & 1.09091    & 1.5        & 0.5        & 20.7       & 0.00905433 & 0.3858093  & 28.1931    & ...        & 503.2351   & 217.4908   & 342.4658   & 245.2061   & 448.42     & 442.2      & 340.39     & 386.12     & 0.1        & 0.07253495\\\\\n",
       "\\end{tabular}\n"
      ],
      "text/markdown": [
       "\n",
       "| <!--/--> | county | year | crmrte | prbarr | prbconv | prbpris | avgsen | polpc | density | taxpc | ... | wtuc | wtrd | wfir | wser | wmfg | wfed | wsta | wloc | mix | pctymle | \n",
       "|---|\n",
       "| 51 | 115        | 87         | 0.0055332  | 1.09091    | 1.5        | 0.5        | 20.7       | 0.00905433 | 0.3858093  | 28.1931    | ...        | 503.2351   | 217.4908   | 342.4658   | 245.2061   | 448.42     | 442.2      | 340.39     | 386.12     | 0.1        | 0.07253495 | \n",
       "\n",
       "\n"
      ],
      "text/plain": [
       "   county year crmrte    prbarr  prbconv prbpris avgsen polpc      density  \n",
       "51 115    87   0.0055332 1.09091 1.5     0.5     20.7   0.00905433 0.3858093\n",
       "   taxpc   ... wtuc     wtrd     wfir     wser     wmfg   wfed  wsta   wloc  \n",
       "51 28.1931 ... 503.2351 217.4908 342.4658 245.2061 448.42 442.2 340.39 386.12\n",
       "   mix pctymle   \n",
       "51 0.1 0.07253495"
      ]
     },
     "metadata": {},
     "output_type": "display_data"
    }
   ],
   "source": [
    "# Observations larger than 1\n",
    "clean[clean$prbarr > 1, ]"
   ]
  },
  {
   "cell_type": "code",
   "execution_count": 67,
   "metadata": {},
   "outputs": [
    {
     "data": {
      "text/html": [
       "<table>\n",
       "<thead><tr><th></th><th scope=col>Min</th><th scope=col>Q1</th><th scope=col>Median</th><th scope=col>Mean</th><th scope=col>Q3</th><th scope=col>Max</th></tr></thead>\n",
       "<tbody>\n",
       "\t<tr><th scope=row>Prbarr</th><td> 0.092770 </td><td> 0.2049478</td><td> 0.2714585</td><td> 0.2952375</td><td> 0.3448728</td><td>1.09090996</td></tr>\n",
       "\t<tr><th scope=row>log.prbarr</th><td>-2.377632 </td><td>-1.5850192</td><td>-1.3039478</td><td>-1.3043760</td><td>-1.0645829</td><td>0.08701217</td></tr>\n",
       "</tbody>\n",
       "</table>\n"
      ],
      "text/latex": [
       "\\begin{tabular}{r|llllll}\n",
       "  & Min & Q1 & Median & Mean & Q3 & Max\\\\\n",
       "\\hline\n",
       "\tPrbarr &  0.092770  &  0.2049478 &  0.2714585 &  0.2952375 &  0.3448728 & 1.09090996\\\\\n",
       "\tlog.prbarr & -2.377632  & -1.5850192 & -1.3039478 & -1.3043760 & -1.0645829 & 0.08701217\\\\\n",
       "\\end{tabular}\n"
      ],
      "text/markdown": [
       "\n",
       "| <!--/--> | Min | Q1 | Median | Mean | Q3 | Max | \n",
       "|---|---|\n",
       "| Prbarr |  0.092770  |  0.2049478 |  0.2714585 |  0.2952375 |  0.3448728 | 1.09090996 | \n",
       "| log.prbarr | -2.377632  | -1.5850192 | -1.3039478 | -1.3043760 | -1.0645829 | 0.08701217 | \n",
       "\n",
       "\n"
      ],
      "text/plain": [
       "           Min       Q1         Median     Mean       Q3         Max       \n",
       "Prbarr      0.092770  0.2049478  0.2714585  0.2952375  0.3448728 1.09090996\n",
       "log.prbarr -2.377632 -1.5850192 -1.3039478 -1.3043760 -1.0645829 0.08701217"
      ]
     },
     "metadata": {},
     "output_type": "display_data"
    },
    {
     "data": {
      "image/png": "[encoded data removed]",
      "text/plain": [
       "Plot with title \"log(Probability of Arrest))\""
      ]
     },
     "metadata": {},
     "output_type": "display_data"
    }
   ],
   "source": [
    "# Summary statistics of probability of arrest and log(probability of arrest)\n",
    "\n",
    "summ.prbarr <- data.frame(t(data.frame(Prbarr = matrix(unclass(summary(clean$prbarr))),\n",
    "                             log.prbarr = matrix(unclass(summary(log(clean$prbarr)))))))\n",
    "names(summ.prbarr) <- c(\"Min\", \"Q1\", \"Median\", \"Mean\", \"Q3\", \"Max\"); summ.prbarr\n",
    "\n",
    "# Histograms of probability of arrest and log(probability of arrest)\n",
    "\n",
    "par(mfrow = c(1, 2), cex.main = 0.8, cex.lab = 0.8, cex.axis = 0.8)\n",
    "hist(clean$prbarr, main = \"Histogram - Probability of Arrest\", xlab = \"Probality of arrest\", \n",
    "     breaks = 10, ylim = c(0, 40), col = rgb(0.5, 0.5, 0.5, 0.3))\n",
    "hist(log(clean$prbarr), main = \"log(Probability of Arrest))\", xlab = \"log(Probality of arrest)\", \n",
    "     breaks = 10, ylim = c(0, 40), col = rgb(0.5, 0.5, 0.5, 0.3))"
   ]
  },
  {
   "cell_type": "markdown",
   "metadata": {},
   "source": [
    "##### Probability of conviction\n",
    "\n",
    "**There are 10 observations with values larger than 1 and one of them with a value higher than 2**. Despite these values being unusually high they are possible for the same reasons exposed in the case of $prbarr$. Furthermore, in the case of $prbconv$, the lag between the arrest and the end of a trial could be even longer than the lag between crimmes and arrests. Therefore, since we don't have additional information on the definition used to build this variable and no way to validate which specific definition was used using numerical methods, **we will keep these 10 values**.\n",
    "\n",
    "The **log-form** of this variable doesn't result in a noticeably larger spread and it is much momre symmetric than its original form. Then, it is a good **candidate to be included in the regression model**."
   ]
  },
  {
   "cell_type": "code",
   "execution_count": 65,
   "metadata": {},
   "outputs": [
    {
     "data": {
      "text/html": [
       "<table>\n",
       "<thead><tr><th></th><th scope=col>Min</th><th scope=col>Q1</th><th scope=col>Median</th><th scope=col>Mean</th><th scope=col>Q3</th><th scope=col>Max</th></tr></thead>\n",
       "<tbody>\n",
       "\t<tr><th scope=row>Prbconv</th><td> 0.0683761</td><td> 0.3442172</td><td> 0.4516985</td><td> 0.5508611</td><td> 0.5851303</td><td>2.1212101 </td></tr>\n",
       "\t<tr><th scope=row>log.prbconv</th><td>-2.6827319</td><td>-1.0665003</td><td>-0.7947435</td><td>-0.7555239</td><td>-0.5359822</td><td>0.7519867 </td></tr>\n",
       "</tbody>\n",
       "</table>\n"
      ],
      "text/latex": [
       "\\begin{tabular}{r|llllll}\n",
       "  & Min & Q1 & Median & Mean & Q3 & Max\\\\\n",
       "\\hline\n",
       "\tPrbconv &  0.0683761 &  0.3442172 &  0.4516985 &  0.5508611 &  0.5851303 & 2.1212101 \\\\\n",
       "\tlog.prbconv & -2.6827319 & -1.0665003 & -0.7947435 & -0.7555239 & -0.5359822 & 0.7519867 \\\\\n",
       "\\end{tabular}\n"
      ],
      "text/markdown": [
       "\n",
       "| <!--/--> | Min | Q1 | Median | Mean | Q3 | Max | \n",
       "|---|---|\n",
       "| Prbconv |  0.0683761 |  0.3442172 |  0.4516985 |  0.5508611 |  0.5851303 | 2.1212101  | \n",
       "| log.prbconv | -2.6827319 | -1.0665003 | -0.7947435 | -0.7555239 | -0.5359822 | 0.7519867  | \n",
       "\n",
       "\n"
      ],
      "text/plain": [
       "            Min        Q1         Median     Mean       Q3         Max      \n",
       "Prbconv      0.0683761  0.3442172  0.4516985  0.5508611  0.5851303 2.1212101\n",
       "log.prbconv -2.6827319 -1.0665003 -0.7947435 -0.7555239 -0.5359822 0.7519867"
      ]
     },
     "metadata": {},
     "output_type": "display_data"
    },
    {
     "data": {
      "text/html": [
       "<table>\n",
       "<thead><tr><th></th><th scope=col>county</th><th scope=col>year</th><th scope=col>crmrte</th><th scope=col>prbarr</th><th scope=col>prbconv</th><th scope=col>prbpris</th><th scope=col>avgsen</th><th scope=col>polpc</th><th scope=col>density</th><th scope=col>taxpc</th><th scope=col>...</th><th scope=col>mix</th><th scope=col>pctymle</th><th scope=col>log.crmrte</th><th scope=col>log.prbarr</th><th scope=col>log.prbconv</th><th scope=col>log.prbpris</th><th scope=col>density2</th><th scope=col>log.polpc</th><th scope=col>log.taxpc</th><th scope=col>square.density</th></tr></thead>\n",
       "<tbody>\n",
       "\t<tr><th scope=row>84</th><td>185        </td><td>87         </td><td>0.0108703  </td><td>0.195266   </td><td>2.12121    </td><td>0.442857   </td><td> 5.38      </td><td>0.00122210 </td><td>0.3887588  </td><td>40.82454   </td><td>...        </td><td>0.04968944 </td><td>0.07008217 </td><td>-4.521721  </td><td>-1.63339258</td><td>0.75198673 </td><td>-0.8145084 </td><td>0.1511334  </td><td>-6.707185  </td><td>3.709283   </td><td>0.5398922  </td></tr>\n",
       "\t<tr><th scope=row>90</th><td>195        </td><td>87         </td><td>0.0313973  </td><td>0.201397   </td><td>1.67052    </td><td>0.470588   </td><td>13.02      </td><td>0.00445923 </td><td>1.7459893  </td><td>53.66693   </td><td>...        </td><td>0.15612382 </td><td>0.07945071 </td><td>-3.461033  </td><td>-1.60247718</td><td>0.51313492 </td><td>-0.7537723 </td><td>3.0484787  </td><td>-5.412779  </td><td>3.982797   </td><td>4.7944680  </td></tr>\n",
       "\t<tr><th scope=row>51</th><td>115        </td><td>87         </td><td>0.0055332  </td><td>1.090910   </td><td>1.50000    </td><td>0.500000   </td><td>20.70      </td><td>0.00905433 </td><td>0.3858093  </td><td>28.19310   </td><td>...        </td><td>0.10000000 </td><td>0.07253495 </td><td>-5.196989  </td><td> 0.08701217</td><td>0.40546511 </td><td>-0.6931472 </td><td>0.1488488  </td><td>-4.704512  </td><td>3.339077   </td><td>0.5346581  </td></tr>\n",
       "\t<tr><th scope=row>2</th><td>  3        </td><td>87         </td><td>0.0152532  </td><td>0.132029   </td><td>1.48148    </td><td>0.450000   </td><td> 6.35      </td><td>0.00074588 </td><td>1.0463320  </td><td>26.89208   </td><td>...        </td><td>0.03022670 </td><td>0.08260694 </td><td>-4.182966  </td><td>-2.02473371</td><td>0.39304159 </td><td>-0.7985077 </td><td>1.0948107  </td><td>-7.200946  </td><td>3.291832   </td><td>2.1411427  </td></tr>\n",
       "\t<tr><th scope=row>56</th><td>127        </td><td>87         </td><td>0.0291496  </td><td>0.179616   </td><td>1.35814    </td><td>0.335616   </td><td>15.99      </td><td>0.00158289 </td><td>1.3388889  </td><td>32.02376   </td><td>...        </td><td>0.06305506 </td><td>0.07400288 </td><td>-3.535314  </td><td>-1.71693402</td><td>0.30611611 </td><td>-1.0917877 </td><td>1.7926234  </td><td>-6.448503  </td><td>3.466478   </td><td>3.1315123  </td></tr>\n",
       "\t<tr><th scope=row>44</th><td> 99        </td><td>87         </td><td>0.0171865  </td><td>0.153846   </td><td>1.23438    </td><td>0.556962   </td><td>14.75      </td><td>0.00185912 </td><td>0.5478615  </td><td>39.57348   </td><td>...        </td><td>0.01960784 </td><td>0.12894706 </td><td>-4.063631  </td><td>-1.87180320</td><td>0.21056883 </td><td>-0.5852582 </td><td>0.3001522  </td><td>-6.287652  </td><td>3.678159   </td><td>0.8480138  </td></tr>\n",
       "\t<tr><th scope=row>10</th><td> 19        </td><td>87         </td><td>0.0221567  </td><td>0.162860   </td><td>1.22561    </td><td>0.333333   </td><td>10.34      </td><td>0.00202425 </td><td>0.5767442  </td><td>61.15251   </td><td>...        </td><td>0.05334728 </td><td>0.07713232 </td><td>-3.809615  </td><td>-1.81486431</td><td>0.20343869 </td><td>-1.0986133 </td><td>0.3326339  </td><td>-6.202556  </td><td>4.113371   </td><td>0.9093781  </td></tr>\n",
       "\t<tr><th scope=row>91</th><td>197        </td><td>87         </td><td>0.0141928  </td><td>0.207595   </td><td>1.18293    </td><td>0.360825   </td><td>12.23      </td><td>0.00118573 </td><td>0.8898810  </td><td>25.95258   </td><td>...        </td><td>0.06756757 </td><td>0.07419893 </td><td>-4.255020  </td><td>-1.57216618</td><td>0.16799441 </td><td>-1.0193622 </td><td>0.7918881  </td><td>-6.737397  </td><td>3.256271   </td><td>1.6817691  </td></tr>\n",
       "\t<tr><th scope=row>61</th><td>137        </td><td>87         </td><td>0.0126662  </td><td>0.207143   </td><td>1.06897    </td><td>0.322581   </td><td> 6.18      </td><td>0.00081426 </td><td>0.3167155  </td><td>44.29367   </td><td>...        </td><td>0.06870229 </td><td>0.07098370 </td><td>-4.368818  </td><td>-1.57434593</td><td>0.06669554 </td><td>-1.1314010 </td><td>0.1003087  </td><td>-7.113231  </td><td>3.790842   </td><td>0.4170243  </td></tr>\n",
       "\t<tr><th scope=row>67</th><td>149        </td><td>87         </td><td>0.0164987  </td><td>0.271967   </td><td>1.01538    </td><td>0.227273   </td><td>14.62      </td><td>0.00151871 </td><td>0.6092437  </td><td>29.03402   </td><td>...        </td><td>0.11682243 </td><td>0.06215772 </td><td>-4.104474  </td><td>-1.30207457</td><td>0.01526295 </td><td>-1.4816033 </td><td>0.3711779  </td><td>-6.489894  </td><td>3.368468   </td><td>0.9804216  </td></tr>\n",
       "</tbody>\n",
       "</table>\n"
      ],
      "text/latex": [
       "\\begin{tabular}{r|lllllllllllllllllllllllllllllllll}\n",
       "  & county & year & crmrte & prbarr & prbconv & prbpris & avgsen & polpc & density & taxpc & ... & mix & pctymle & log.crmrte & log.prbarr & log.prbconv & log.prbpris & density2 & log.polpc & log.taxpc & square.density\\\\\n",
       "\\hline\n",
       "\t84 & 185         & 87          & 0.0108703   & 0.195266    & 2.12121     & 0.442857    &  5.38       & 0.00122210  & 0.3887588   & 40.82454    & ...         & 0.04968944  & 0.07008217  & -4.521721   & -1.63339258 & 0.75198673  & -0.8145084  & 0.1511334   & -6.707185   & 3.709283    & 0.5398922  \\\\\n",
       "\t90 & 195         & 87          & 0.0313973   & 0.201397    & 1.67052     & 0.470588    & 13.02       & 0.00445923  & 1.7459893   & 53.66693    & ...         & 0.15612382  & 0.07945071  & -3.461033   & -1.60247718 & 0.51313492  & -0.7537723  & 3.0484787   & -5.412779   & 3.982797    & 4.7944680  \\\\\n",
       "\t51 & 115         & 87          & 0.0055332   & 1.090910    & 1.50000     & 0.500000    & 20.70       & 0.00905433  & 0.3858093   & 28.19310    & ...         & 0.10000000  & 0.07253495  & -5.196989   &  0.08701217 & 0.40546511  & -0.6931472  & 0.1488488   & -4.704512   & 3.339077    & 0.5346581  \\\\\n",
       "\t2 &   3         & 87          & 0.0152532   & 0.132029    & 1.48148     & 0.450000    &  6.35       & 0.00074588  & 1.0463320   & 26.89208    & ...         & 0.03022670  & 0.08260694  & -4.182966   & -2.02473371 & 0.39304159  & -0.7985077  & 1.0948107   & -7.200946   & 3.291832    & 2.1411427  \\\\\n",
       "\t56 & 127         & 87          & 0.0291496   & 0.179616    & 1.35814     & 0.335616    & 15.99       & 0.00158289  & 1.3388889   & 32.02376    & ...         & 0.06305506  & 0.07400288  & -3.535314   & -1.71693402 & 0.30611611  & -1.0917877  & 1.7926234   & -6.448503   & 3.466478    & 3.1315123  \\\\\n",
       "\t44 &  99         & 87          & 0.0171865   & 0.153846    & 1.23438     & 0.556962    & 14.75       & 0.00185912  & 0.5478615   & 39.57348    & ...         & 0.01960784  & 0.12894706  & -4.063631   & -1.87180320 & 0.21056883  & -0.5852582  & 0.3001522   & -6.287652   & 3.678159    & 0.8480138  \\\\\n",
       "\t10 &  19         & 87          & 0.0221567   & 0.162860    & 1.22561     & 0.333333    & 10.34       & 0.00202425  & 0.5767442   & 61.15251    & ...         & 0.05334728  & 0.07713232  & -3.809615   & -1.81486431 & 0.20343869  & -1.0986133  & 0.3326339   & -6.202556   & 4.113371    & 0.9093781  \\\\\n",
       "\t91 & 197         & 87          & 0.0141928   & 0.207595    & 1.18293     & 0.360825    & 12.23       & 0.00118573  & 0.8898810   & 25.95258    & ...         & 0.06756757  & 0.07419893  & -4.255020   & -1.57216618 & 0.16799441  & -1.0193622  & 0.7918881   & -6.737397   & 3.256271    & 1.6817691  \\\\\n",
       "\t61 & 137         & 87          & 0.0126662   & 0.207143    & 1.06897     & 0.322581    &  6.18       & 0.00081426  & 0.3167155   & 44.29367    & ...         & 0.06870229  & 0.07098370  & -4.368818   & -1.57434593 & 0.06669554  & -1.1314010  & 0.1003087   & -7.113231   & 3.790842    & 0.4170243  \\\\\n",
       "\t67 & 149         & 87          & 0.0164987   & 0.271967    & 1.01538     & 0.227273    & 14.62       & 0.00151871  & 0.6092437   & 29.03402    & ...         & 0.11682243  & 0.06215772  & -4.104474   & -1.30207457 & 0.01526295  & -1.4816033  & 0.3711779   & -6.489894   & 3.368468    & 0.9804216  \\\\\n",
       "\\end{tabular}\n"
      ],
      "text/markdown": [
       "\n",
       "| <!--/--> | county | year | crmrte | prbarr | prbconv | prbpris | avgsen | polpc | density | taxpc | ... | mix | pctymle | log.crmrte | log.prbarr | log.prbconv | log.prbpris | density2 | log.polpc | log.taxpc | square.density | \n",
       "|---|---|---|---|---|---|---|---|---|---|\n",
       "| 84 | 185         | 87          | 0.0108703   | 0.195266    | 2.12121     | 0.442857    |  5.38       | 0.00122210  | 0.3887588   | 40.82454    | ...         | 0.04968944  | 0.07008217  | -4.521721   | -1.63339258 | 0.75198673  | -0.8145084  | 0.1511334   | -6.707185   | 3.709283    | 0.5398922   | \n",
       "| 90 | 195         | 87          | 0.0313973   | 0.201397    | 1.67052     | 0.470588    | 13.02       | 0.00445923  | 1.7459893   | 53.66693    | ...         | 0.15612382  | 0.07945071  | -3.461033   | -1.60247718 | 0.51313492  | -0.7537723  | 3.0484787   | -5.412779   | 3.982797    | 4.7944680   | \n",
       "| 51 | 115         | 87          | 0.0055332   | 1.090910    | 1.50000     | 0.500000    | 20.70       | 0.00905433  | 0.3858093   | 28.19310    | ...         | 0.10000000  | 0.07253495  | -5.196989   |  0.08701217 | 0.40546511  | -0.6931472  | 0.1488488   | -4.704512   | 3.339077    | 0.5346581   | \n",
       "| 2 |   3         | 87          | 0.0152532   | 0.132029    | 1.48148     | 0.450000    |  6.35       | 0.00074588  | 1.0463320   | 26.89208    | ...         | 0.03022670  | 0.08260694  | -4.182966   | -2.02473371 | 0.39304159  | -0.7985077  | 1.0948107   | -7.200946   | 3.291832    | 2.1411427   | \n",
       "| 56 | 127         | 87          | 0.0291496   | 0.179616    | 1.35814     | 0.335616    | 15.99       | 0.00158289  | 1.3388889   | 32.02376    | ...         | 0.06305506  | 0.07400288  | -3.535314   | -1.71693402 | 0.30611611  | -1.0917877  | 1.7926234   | -6.448503   | 3.466478    | 3.1315123   | \n",
       "| 44 |  99         | 87          | 0.0171865   | 0.153846    | 1.23438     | 0.556962    | 14.75       | 0.00185912  | 0.5478615   | 39.57348    | ...         | 0.01960784  | 0.12894706  | -4.063631   | -1.87180320 | 0.21056883  | -0.5852582  | 0.3001522   | -6.287652   | 3.678159    | 0.8480138   | \n",
       "| 10 |  19         | 87          | 0.0221567   | 0.162860    | 1.22561     | 0.333333    | 10.34       | 0.00202425  | 0.5767442   | 61.15251    | ...         | 0.05334728  | 0.07713232  | -3.809615   | -1.81486431 | 0.20343869  | -1.0986133  | 0.3326339   | -6.202556   | 4.113371    | 0.9093781   | \n",
       "| 91 | 197         | 87          | 0.0141928   | 0.207595    | 1.18293     | 0.360825    | 12.23       | 0.00118573  | 0.8898810   | 25.95258    | ...         | 0.06756757  | 0.07419893  | -4.255020   | -1.57216618 | 0.16799441  | -1.0193622  | 0.7918881   | -6.737397   | 3.256271    | 1.6817691   | \n",
       "| 61 | 137         | 87          | 0.0126662   | 0.207143    | 1.06897     | 0.322581    |  6.18       | 0.00081426  | 0.3167155   | 44.29367    | ...         | 0.06870229  | 0.07098370  | -4.368818   | -1.57434593 | 0.06669554  | -1.1314010  | 0.1003087   | -7.113231   | 3.790842    | 0.4170243   | \n",
       "| 67 | 149         | 87          | 0.0164987   | 0.271967    | 1.01538     | 0.227273    | 14.62       | 0.00151871  | 0.6092437   | 29.03402    | ...         | 0.11682243  | 0.06215772  | -4.104474   | -1.30207457 | 0.01526295  | -1.4816033  | 0.3711779   | -6.489894   | 3.368468    | 0.9804216   | \n",
       "\n",
       "\n"
      ],
      "text/plain": [
       "   county year crmrte    prbarr   prbconv prbpris  avgsen polpc      density  \n",
       "84 185    87   0.0108703 0.195266 2.12121 0.442857  5.38  0.00122210 0.3887588\n",
       "90 195    87   0.0313973 0.201397 1.67052 0.470588 13.02  0.00445923 1.7459893\n",
       "51 115    87   0.0055332 1.090910 1.50000 0.500000 20.70  0.00905433 0.3858093\n",
       "2    3    87   0.0152532 0.132029 1.48148 0.450000  6.35  0.00074588 1.0463320\n",
       "56 127    87   0.0291496 0.179616 1.35814 0.335616 15.99  0.00158289 1.3388889\n",
       "44  99    87   0.0171865 0.153846 1.23438 0.556962 14.75  0.00185912 0.5478615\n",
       "10  19    87   0.0221567 0.162860 1.22561 0.333333 10.34  0.00202425 0.5767442\n",
       "91 197    87   0.0141928 0.207595 1.18293 0.360825 12.23  0.00118573 0.8898810\n",
       "61 137    87   0.0126662 0.207143 1.06897 0.322581  6.18  0.00081426 0.3167155\n",
       "67 149    87   0.0164987 0.271967 1.01538 0.227273 14.62  0.00151871 0.6092437\n",
       "   taxpc    ... mix        pctymle    log.crmrte log.prbarr  log.prbconv\n",
       "84 40.82454 ... 0.04968944 0.07008217 -4.521721  -1.63339258 0.75198673 \n",
       "90 53.66693 ... 0.15612382 0.07945071 -3.461033  -1.60247718 0.51313492 \n",
       "51 28.19310 ... 0.10000000 0.07253495 -5.196989   0.08701217 0.40546511 \n",
       "2  26.89208 ... 0.03022670 0.08260694 -4.182966  -2.02473371 0.39304159 \n",
       "56 32.02376 ... 0.06305506 0.07400288 -3.535314  -1.71693402 0.30611611 \n",
       "44 39.57348 ... 0.01960784 0.12894706 -4.063631  -1.87180320 0.21056883 \n",
       "10 61.15251 ... 0.05334728 0.07713232 -3.809615  -1.81486431 0.20343869 \n",
       "91 25.95258 ... 0.06756757 0.07419893 -4.255020  -1.57216618 0.16799441 \n",
       "61 44.29367 ... 0.06870229 0.07098370 -4.368818  -1.57434593 0.06669554 \n",
       "67 29.03402 ... 0.11682243 0.06215772 -4.104474  -1.30207457 0.01526295 \n",
       "   log.prbpris density2  log.polpc log.taxpc square.density\n",
       "84 -0.8145084  0.1511334 -6.707185 3.709283  0.5398922     \n",
       "90 -0.7537723  3.0484787 -5.412779 3.982797  4.7944680     \n",
       "51 -0.6931472  0.1488488 -4.704512 3.339077  0.5346581     \n",
       "2  -0.7985077  1.0948107 -7.200946 3.291832  2.1411427     \n",
       "56 -1.0917877  1.7926234 -6.448503 3.466478  3.1315123     \n",
       "44 -0.5852582  0.3001522 -6.287652 3.678159  0.8480138     \n",
       "10 -1.0986133  0.3326339 -6.202556 4.113371  0.9093781     \n",
       "91 -1.0193622  0.7918881 -6.737397 3.256271  1.6817691     \n",
       "61 -1.1314010  0.1003087 -7.113231 3.790842  0.4170243     \n",
       "67 -1.4816033  0.3711779 -6.489894 3.368468  0.9804216     "
      ]
     },
     "metadata": {},
     "output_type": "display_data"
    }
   ],
   "source": [
    "# Summary statistics of probability of convictions and log(probability of conviction)\n",
    "\n",
    "summ.prbconv <- data.frame(t(data.frame(Prbconv = matrix(unclass(summary(clean$prbconv))),\n",
    "                             log.prbconv = matrix(unclass(summary(log(clean$prbconv)))))))\n",
    "names(summ.prbconv) <- c(\"Min\", \"Q1\", \"Median\", \"Mean\", \"Q3\", \"Max\"); summ.prbconv\n",
    "\n",
    "# Observations larger than 1\n",
    "\n",
    "clean.ordered <- clean[order(clean$prbconv, decreasing = TRUE), ]\n",
    "clean.ordered[clean.ordered$prbconv > 1, ]"
   ]
  },
  {
   "cell_type": "code",
   "execution_count": 8,
   "metadata": {},
   "outputs": [
    {
     "data": {
      "image/png": "[encoded data removed]",
      "text/plain": [
       "Plot with title \"log(Probability of Conviction)\""
      ]
     },
     "metadata": {},
     "output_type": "display_data"
    }
   ],
   "source": [
    "# Histograms of probability of conviction and log(probability of conviction)\n",
    "par(mfrow = c(1, 2), cex.main = 0.8, cex.lab = 0.8, cex.axis = 0.8)\n",
    "hist(clean$prbconv, main = \"Probability of Conviction\", xlab = \"Probability of conviction\",\n",
    "     breaks = 15, ylim = c(0, 25), col = rgb(0.5, 0.5, 0.5, 0.5))\n",
    "hist(log(clean$prbconv), main = \"log(Probability of Conviction)\", xlab = \"log(Probability of conviction)\",\n",
    "     breaks = 15, ylim = c(0, 25), col = rgb(0.5, 0.5, 0.5, 0.5))"
   ]
  },
  {
   "cell_type": "markdown",
   "metadata": {},
   "source": [
    "##### Probability of prison\n",
    "\n",
    "$prbpris$ **spreads over a reasonable range and does not seem to have unusually high concentrations around certain values** that would lead us to suspect measurement errors. Furthermore, the distribution of this variable is symmetric both in its original and log-transformed forms. It is interesting that, unlike probability of arrest and conviction, this variable does not have values larger than -or close to- 1, which further supports our suspicion that the numerator and denominator of the proabilibity variables comprise different periods, given the relatively larger lag between the time a crime is commited and an arrest is made, for example, and the smaller lag between the time a conviction is made and the sentence is delivered, where misdemeanor cases are usually sentenced immediately and felony cases in days to weeks."
   ]
  },
  {
   "cell_type": "code",
   "execution_count": 64,
   "metadata": {},
   "outputs": [
    {
     "data": {
      "text/html": [
       "<table>\n",
       "<thead><tr><th></th><th scope=col>Min</th><th scope=col>Q1</th><th scope=col>Median</th><th scope=col>Mean</th><th scope=col>Q3</th><th scope=col>Max</th></tr></thead>\n",
       "<tbody>\n",
       "\t<tr><th scope=row>Prbpris</th><td> 0.15000  </td><td> 0.3642162</td><td> 0.4222380</td><td> 0.4106256</td><td> 0.4575557</td><td> 0.6000000</td></tr>\n",
       "\t<tr><th scope=row>log.prbpris</th><td>-1.89712  </td><td>-1.0100113</td><td>-0.8621901</td><td>-0.9122331</td><td>-0.7818609</td><td>-0.5108256</td></tr>\n",
       "</tbody>\n",
       "</table>\n"
      ],
      "text/latex": [
       "\\begin{tabular}{r|llllll}\n",
       "  & Min & Q1 & Median & Mean & Q3 & Max\\\\\n",
       "\\hline\n",
       "\tPrbpris &  0.15000   &  0.3642162 &  0.4222380 &  0.4106256 &  0.4575557 &  0.6000000\\\\\n",
       "\tlog.prbpris & -1.89712   & -1.0100113 & -0.8621901 & -0.9122331 & -0.7818609 & -0.5108256\\\\\n",
       "\\end{tabular}\n"
      ],
      "text/markdown": [
       "\n",
       "| <!--/--> | Min | Q1 | Median | Mean | Q3 | Max | \n",
       "|---|---|\n",
       "| Prbpris |  0.15000   |  0.3642162 |  0.4222380 |  0.4106256 |  0.4575557 |  0.6000000 | \n",
       "| log.prbpris | -1.89712   | -1.0100113 | -0.8621901 | -0.9122331 | -0.7818609 | -0.5108256 | \n",
       "\n",
       "\n"
      ],
      "text/plain": [
       "            Min      Q1         Median     Mean       Q3         Max       \n",
       "Prbpris      0.15000  0.3642162  0.4222380  0.4106256  0.4575557  0.6000000\n",
       "log.prbpris -1.89712 -1.0100113 -0.8621901 -0.9122331 -0.7818609 -0.5108256"
      ]
     },
     "metadata": {},
     "output_type": "display_data"
    },
    {
     "data": {
      "image/png": "[encoded data removed]",
      "text/plain": [
       "Plot with title \"log(Probability of Prison)\""
      ]
     },
     "metadata": {},
     "output_type": "display_data"
    }
   ],
   "source": [
    "# Summary statistics of probability of prison and log(probability of prison)\n",
    "\n",
    "summ.prbpris <- data.frame(t(data.frame(Prbpris = matrix(unclass(summary(clean$prbpris))),\n",
    "                             log.prbpris = matrix(unclass(summary(log(clean$prbpris)))))))\n",
    "names(summ.prbpris) <- c(\"Min\", \"Q1\", \"Median\", \"Mean\", \"Q3\", \"Max\"); summ.prbpris\n",
    "\n",
    "# Histograms of probability of prison and log(probability of prison)\n",
    "\n",
    "par(mfrow = c(1, 2), cex.main = 0.8, cex.lab = 0.8, cex.axis = 0.8)\n",
    "hist(clean$prbpris, main = \"Probability of Prison\", xlab = \"Probability of prison\",\n",
    "     breaks = 15, ylim = c(0, 30), col = rgb(0.5, 0.5, 0.5, 0.5))\n",
    "hist(log(clean$prbpris), main = \"log(Probability of Prison)\", xlab = \"log(Probability of prison)\",\n",
    "     breaks = 15, ylim = c(0, 30), col = rgb(0.5, 0.5, 0.5, 0.5))"
   ]
  },
  {
   "cell_type": "markdown",
   "metadata": {},
   "source": [
    "#### Other variables"
   ]
  },
  {
   "cell_type": "code",
   "execution_count": 10,
   "metadata": {
    "scrolled": true
   },
   "outputs": [
    {
     "data": {
      "text/html": [
       "<table>\n",
       "<thead><tr><th></th><th scope=col>density</th><th scope=col>avgsen</th><th scope=col>west</th><th scope=col>central</th><th scope=col>urban</th><th scope=col>mix</th></tr></thead>\n",
       "<tbody>\n",
       "\t<tr><th scope=row>NAs</th><td>0.000000 </td><td> 0.000000</td><td>0.000000 </td><td>0.000000 </td><td>0.000000 </td><td>0.000000 </td></tr>\n",
       "\t<tr><th scope=row>Minimum</th><td>0.000020 </td><td> 5.380000</td><td>0.000000 </td><td>0.000000 </td><td>0.000000 </td><td>0.019608 </td></tr>\n",
       "\t<tr><th scope=row>1. Quartile</th><td>0.547177 </td><td> 7.375000</td><td>0.000000 </td><td>0.000000 </td><td>0.000000 </td><td>0.080597 </td></tr>\n",
       "\t<tr><th scope=row>Mean</th><td>1.435670 </td><td> 9.688889</td><td>0.244444 </td><td>0.377778 </td><td>0.088889 </td><td>0.129045 </td></tr>\n",
       "\t<tr><th scope=row>Median</th><td>0.979245 </td><td> 9.110000</td><td>0.000000 </td><td>0.000000 </td><td>0.000000 </td><td>0.100950 </td></tr>\n",
       "\t<tr><th scope=row>3. Quartile</th><td>1.569261 </td><td>11.465000</td><td>0.000000 </td><td>1.000000 </td><td>0.000000 </td><td>0.152061 </td></tr>\n",
       "\t<tr><th scope=row>Maximum</th><td>8.827652 </td><td>20.700001</td><td>1.000000 </td><td>1.000000 </td><td>1.000000 </td><td>0.465116 </td></tr>\n",
       "</tbody>\n",
       "</table>\n"
      ],
      "text/latex": [
       "\\begin{tabular}{r|llllll}\n",
       "  & density & avgsen & west & central & urban & mix\\\\\n",
       "\\hline\n",
       "\tNAs & 0.000000  &  0.000000 & 0.000000  & 0.000000  & 0.000000  & 0.000000 \\\\\n",
       "\tMinimum & 0.000020  &  5.380000 & 0.000000  & 0.000000  & 0.000000  & 0.019608 \\\\\n",
       "\t1. Quartile & 0.547177  &  7.375000 & 0.000000  & 0.000000  & 0.000000  & 0.080597 \\\\\n",
       "\tMean & 1.435670  &  9.688889 & 0.244444  & 0.377778  & 0.088889  & 0.129045 \\\\\n",
       "\tMedian & 0.979245  &  9.110000 & 0.000000  & 0.000000  & 0.000000  & 0.100950 \\\\\n",
       "\t3. Quartile & 1.569261  & 11.465000 & 0.000000  & 1.000000  & 0.000000  & 0.152061 \\\\\n",
       "\tMaximum & 8.827652  & 20.700001 & 1.000000  & 1.000000  & 1.000000  & 0.465116 \\\\\n",
       "\\end{tabular}\n"
      ],
      "text/markdown": [
       "\n",
       "| <!--/--> | density | avgsen | west | central | urban | mix | \n",
       "|---|---|---|---|---|---|---|\n",
       "| NAs | 0.000000  |  0.000000 | 0.000000  | 0.000000  | 0.000000  | 0.000000  | \n",
       "| Minimum | 0.000020  |  5.380000 | 0.000000  | 0.000000  | 0.000000  | 0.019608  | \n",
       "| 1. Quartile | 0.547177  |  7.375000 | 0.000000  | 0.000000  | 0.000000  | 0.080597  | \n",
       "| Mean | 1.435670  |  9.688889 | 0.244444  | 0.377778  | 0.088889  | 0.129045  | \n",
       "| Median | 0.979245  |  9.110000 | 0.000000  | 0.000000  | 0.000000  | 0.100950  | \n",
       "| 3. Quartile | 1.569261  | 11.465000 | 0.000000  | 1.000000  | 0.000000  | 0.152061  | \n",
       "| Maximum | 8.827652  | 20.700001 | 1.000000  | 1.000000  | 1.000000  | 0.465116  | \n",
       "\n",
       "\n"
      ],
      "text/plain": [
       "            density  avgsen    west     central  urban    mix     \n",
       "NAs         0.000000  0.000000 0.000000 0.000000 0.000000 0.000000\n",
       "Minimum     0.000020  5.380000 0.000000 0.000000 0.000000 0.019608\n",
       "1. Quartile 0.547177  7.375000 0.000000 0.000000 0.000000 0.080597\n",
       "Mean        1.435670  9.688889 0.244444 0.377778 0.088889 0.129045\n",
       "Median      0.979245  9.110000 0.000000 0.000000 0.000000 0.100950\n",
       "3. Quartile 1.569261 11.465000 0.000000 1.000000 0.000000 0.152061\n",
       "Maximum     8.827652 20.700001 1.000000 1.000000 1.000000 0.465116"
      ]
     },
     "metadata": {},
     "output_type": "display_data"
    }
   ],
   "source": [
    "basicStats(clean[,  c(\"density\", \"avgsen\", \"west\", \"central\", \"urban\", \"mix\")])[c(2, 3, 5, 7, 8, 6, 4),]"
   ]
  },
  {
   "cell_type": "markdown",
   "metadata": {},
   "source": [
    "Further exploration of the remaining variables, yielded the following findings that are important to take into account in the model building process.\n",
    "\n",
    "- The **values of $density$ are unusually small**. Given that the density of North Carolina between 1980 and 1990 ranged from 120.9 to 136.4 [(US Census, 2018)](https://www.census.gov/population/www/censusdata/density.html) and that our sample contains 90% of counties, some of which are categorized as urban, a density of less than 1.6 for 75% of observations and a maximum density of 8.8 seems to be unusually low. It could be the case that this variable was rescaled; however, we cannot validate this using our dataset and this wouldn't have an impact in the $R^2$ or significance of the estimated coefficient. Then, we will not remove any observations.\n",
    "\n",
    "\n",
    "- The **values of average sentence are also very small**, ranging from 5.3 to 20.7 days, with a mean of 9.7 days. This may indicate that the average is taken over all convictions, including those with no prison sentences, which is problematic for our purposes because (a) $avgsen$ will have a high collinearity with $prbpris$ and (b) the average sentence will be mainly driven by the no prison values and will not provide useful information on the sentences that result in prison. However, this is not necessarily evidence of measurement errors and we will not make any changes to this variable.\n",
    "\n",
    "\n",
    "- The **definition of regional variables, $west$ and $central$ is ambiguous**. We are unclear as to how $west$ and $central$ are each defined; we also do not know if they are exhaustive of all counties and mutually exclusive, since there are observations with a value of 1 in both and neither of these variables. Given these ambiguities and the regional effects that $density$ may already capture, we will not include this variable in our subsequent analysis.\n",
    "\n",
    "\n",
    "- **$urban$ is defined according to the standard metropolitan statistical area (SMSA) classification, wich is ambiguous** for our purposes, given that \"such regions are neither legally incorporated as a city or town would be, nor are they legal administrative divisions like counties or separate entities such as states; because of this, the precise definition of any given metropolitan area can vary with the source\" [Wikipedia](https://en.wikipedia.org/wiki/Metropolitan_statistical_area). Therefore, incorporating this variable into our model would not provide meaningful information. Furthermore, the effects captured by this variable are also likely captured by **$density$, which is a better candidate** to include in our model.\n",
    "\n",
    "\n",
    "- **$mix$is also ambiguously defined** since it is not clear what face-to-face offences mean and it is also not clear how some of the plausible interpretations of this variable could be of interest to solve our research question.\n",
    "\n",
    "Upon inspecting **other variables individually, we didn't find evidence of errors or other specially relevant features** that needed to be taken into account into the regression model. The values of these variables were within reasonable ranges, there were no missing values and there were not unusually high concentrations of observations around certain values. Therefore, all the other variables that were not mentioned will be out of the scope of our analysis."
   ]
  },
  {
   "cell_type": "markdown",
   "metadata": {},
   "source": [
    "### Bivariate analysis"
   ]
  },
  {
   "cell_type": "markdown",
   "metadata": {},
   "source": [
    "Once we have finished exploring the variables in the dataset individually, and the main features that need to be taken into account for building the model that will help us answering the campaign's research question, we explored how the variables of interest relate to each other, mainly, how our variables of interest relate to $crmrte$ and to other predictors of $crmrte$ that may improve the model by reducing bias of the estimators and increasing their efficiency."
   ]
  },
  {
   "cell_type": "markdown",
   "metadata": {},
   "source": [
    "#### Variables of interest"
   ]
  },
  {
   "cell_type": "markdown",
   "metadata": {},
   "source": [
    "An initial exploration of the relationship between $crmrte$ and $\\log{crmrte}$ and our variables of interest (probability of arrest, probability of conviction, probability of prison and average sentence) indicates a **relationship that is similar for both crime rate and its logarithmic form**. Specifically, there seems to be a negative relationship with probability of arrest and probability of conviction but not a clear relationship with probability of prison. However, the scatter plot for the log transformed variables seems to show a more linear relationship than the scatterplot of the level variables.\n",
    "\n",
    "To further explore the strength of the relationships hinted at by the scatterplots, we performed correlation analysis. Even though we **validated both the original and log-transformed** forms of our variables of interest, **we focus our presentation on the log transformed** form of these variables because these are the forms included in the regression model for the reasons exposed throughout this report (mainly because of interpretability, symmetry and compliance with the classic linear model assumptions)."
   ]
  },
  {
   "cell_type": "code",
   "execution_count": 11,
   "metadata": {},
   "outputs": [
    {
     "data": {
      "image/png": "[encoded data removed]",
      "text/plain": [
       "plot without title"
      ]
     },
     "metadata": {},
     "output_type": "display_data"
    }
   ],
   "source": [
    "# Variables of interest\n",
    "\n",
    "vars.interest <- c(\"log.crmrte\", \"log.prbarr\", \"log.prbconv\",\"log.prbpris\")\n",
    "\n",
    "# Log transformations\n",
    "\n",
    "clean$log.crmrte <- log(clean$crmrte)\n",
    "clean$log.prbarr <- log(clean$prbarr)\n",
    "clean$log.prbconv <- log(clean$prbconv)\n",
    "clean$log.prbpris <- log(clean$prbpris)\n",
    "clean$density2 <- clean$density^2\n",
    "clean$log.polpc <- log(clean$polpc)\n",
    "clean$log.taxpc <- log(clean$taxpc)\n",
    "\n",
    "# We showed scatter plots for the log transformations in the EDA above; \n",
    "# here we are simply calculating R^2\n",
    "\n",
    "# Generate bivariate regressions on untransformed regressors\n",
    "model10 <- lm(log(crmrte) ~ prbarr, data=clean)\n",
    "model11 <- lm(log(crmrte) ~ prbconv, data=clean)\n",
    "model12 <- lm(log(crmrte) ~ prbpris, data=clean)\n",
    "\n",
    "# Generate bivariate regressions on log-transformed regressors\n",
    "model13 <- lm(log(crmrte) ~ log(prbarr), data=clean)\n",
    "model14 <- lm(log(crmrte) ~ log(prbconv), data=clean)\n",
    "model15 <- lm(log(crmrte) ~ log(prbpris), data=clean)\n",
    "\n",
    "# Scatterplots and simple linear regression of variables of interest in level and log-form, vs log.crmrte\n",
    "\n",
    "options(repr.plot.width=7, repr.plot.height=4.5)\n",
    "par(mfrow = c(2, 3), cex.main = 0.8, cex.lab = 0.8, cex.axis = 0.8)\n",
    "plot(clean$prbarr, clean$log.crmrte, ylab = \"log(crime rate)\", xlab=\"Prob. arrest\"); abline(model10)\n",
    "rsq10 <- summary(model10)$r.squared; text(x = 0.8, y = -3, bquote(R^2 == .(round(rsq10, 2))), col = 'red')\n",
    "\n",
    "plot(clean$prbconv, clean$log.crmrte, ylab = \"log(crime rate)\", xlab=\"Prob. conviction\"); abline(model11)\n",
    "rsq11 <- summary(model11)$r.squared; text(x = 1.5, y = -3, bquote(R^2 == .(round(rsq11, 2))), col = 'red')\n",
    "\n",
    "plot(clean$prbpris, clean$log.crmrte, ylab = \"log(crime rate)\", xlab=\"Prob. prison\"); abline(model12)\n",
    "rsq12 <- summary(model12)$r.squared; text(x = 0.2, y = -3, bquote(R^2 == .(round(rsq12, 2))), col = 'red')\n",
    "\n",
    "plot(clean$log.prbarr, clean$log.crmrte, ylab = \"log(crime rate)\", xlab=\"log(Prob. arrest)\"); abline(model13)\n",
    "rsq13 <- summary(model13)$r.squared; text(x = -0.4, y = -3, bquote(R^2 == .(round(rsq13, 2))), col = 'red')\n",
    "\n",
    "plot(clean$log.prbconv, clean$log.crmrte, ylab = \"log(crime rate)\", xlab=\"log(Prob. conviction)\"); abline(model14)\n",
    "rsq14 <- summary(model14)$r.squared; text(x = 0.3, y = -3, bquote(R^2 == .(round(rsq14, 2))), col = 'red')\n",
    "\n",
    "plot(clean$log.prbpris, clean$log.crmrte, ylab = \"log(crime rate)\", xlab=\"log(Prob. prison)\"); abline(model15)\n",
    "rsq15 <- summary(model15)$r.squared; text(x = -1.7, y = -3, bquote(R^2 == .(round(rsq15, 2))), col = 'red')"
   ]
  },
  {
   "cell_type": "markdown",
   "metadata": {},
   "source": [
    "Analysis of correlations confirms that **probability of arrest and probability of conviction (both in their original and log-transformed forms) are negatively correlated with both crime rate and its logarithmic transformation**, and also confirms that there is no correlation between these two variables and probability of prison and average sentence. For all variables of interest (probability of arrest, probability of conviction and probability of arrest) **the linear relationship measured by the correlation coefficient is higher when $crmrte$ is log-transformed**. Therefore, we should test both forms of this variable when building our model taking this into account (but also how the two forms of this variable affect the interpretability of results and how they affect the model assumptions).\n",
    "\n",
    "The log form of our independent variables of interest has a similar correlation correlation with $crmrte$ than their level form. However, it is still important to consider this transformation when defining our population model because they could improve the model's interpretability and assumptions."
   ]
  },
  {
   "cell_type": "code",
   "execution_count": 12,
   "metadata": {},
   "outputs": [
    {
     "data": {
      "image/png": "[encoded data removed]",
      "text/plain": [
       "Plot with title \"Correlations - Variables of interest\""
      ]
     },
     "metadata": {},
     "output_type": "display_data"
    }
   ],
   "source": [
    "# Compute correlations\n",
    "\n",
    "crime.corrs <- cor(select(clean, vars.interest))\n",
    "\n",
    "# Plot correlations\n",
    "\n",
    "options(repr.plot.width=3.8, repr.plot.height=4)\n",
    "corrplot(crime.corrs, method = 'square',  order = 'original', diag = FALSE, addCoef.col = T, \n",
    "         tl.col = 'black', tl.cex = 0.7, addCoefasPercent = T, number.cex = 0.7)\n",
    "title(\"Correlations - Variables of interest\", cex.main = 0.8, line = 3)\n",
    "suppressMessages(require(grid))\n",
    "grid.text(label= \"Correlation coefficients multiplied by 100\" , x = unit(1,\"npc\") - unit(2, \"mm\"),\n",
    "          y = unit(1.5, \"cm\"), just=c(\"right\", \"bottom\"), gp=gpar(cex= 0.5))"
   ]
  },
  {
   "cell_type": "markdown",
   "metadata": {},
   "source": [
    "#### Control variables"
   ]
  },
  {
   "cell_type": "markdown",
   "metadata": {},
   "source": [
    "After exploring bivariate relationships between our variables of interest, our main objective is to find variables that either confound the effect of our independent variables of interest on $crmrte$ or that can increase the model's fit, reducing the variance of the model's error and of the coefficients of interest. To find which variables can be used as controls in our model, we did an initial exploratory analysis using a scatterplot matrix (not shown in this document due to space constraints) to find which of the candidate variables seemed to be related to $crmrte$ or its logarithmic transformation. \n",
    "\n",
    "Upon inspecting the scatterplot matrix, we found that **log of police per capita, tax per capita and density seem to have a clear relationship with $crmrte$ and its logarithmic transformations**. The correlation matrix included below shows that $\\log{polpc}$, $density$, and $density^2$ are correlated with both $crmrte$ and its logarithmic transformation and thus should be included in our estimated model. Furthermore, density is both correlated with $crmrte$ and $\\log{prbarr}$, which indicates that it may be a possible confounding variable and should also be included in our estimated model to reduce the bias of the estimator of the coefficient of $\\log{prbarr}$."
   ]
  },
  {
   "cell_type": "code",
   "execution_count": 13,
   "metadata": {},
   "outputs": [
    {
     "data": {
      "image/png": "[encoded data removed]",
      "text/plain": [
       "Plot with title \"Correlations - Control variables\""
      ]
     },
     "metadata": {},
     "output_type": "display_data"
    }
   ],
   "source": [
    "# Possible control variables\n",
    "\n",
    "vars.control <- c('polpc', 'log.polpc', 'density', 'density2', 'taxpc', 'log.taxpc')\n",
    "\n",
    "# Plot correlation coefficients\n",
    "\n",
    "corrs.control <- cor(clean[, c(vars.interest, vars.control)], use = 'complete.obs')[1:4, 5:10]\n",
    "options(repr.plot.width=5, repr.plot.height=3.7)\n",
    "par(oma = c(0,0,0,4))\n",
    "corrplot(corrs.control, method = 'square',  order = 'original', diag = T, addCoef.col = T,\n",
    "         tl.col = 'black', tl.cex = 0.8, addCoefasPercent = T, number.cex = 0.6)\n",
    "title(\"Correlations - Control variables\", cex.main = 0.8)\n",
    "grid.text(label= \"Correlation coefficients multiplied by 100\" , x = unit(10.2,\"cm\"), y= unit(1.3, \"cm\"),\n",
    "          just=c(\"right\", \"bottom\"), gp=gpar(cex= 0.5))"
   ]
  },
  {
   "cell_type": "markdown",
   "metadata": {},
   "source": [
    "**In conclusion**, the main recommendations provided by the exploratory data analysis that should be taken into account when specifying the population model are the following:\n",
    "\n",
    "- Both $crmrte$ and its logarithmic transformation should be tested as possible dependent variables.\n",
    "\n",
    "\n",
    "- $prbarr$ and $prbconv$, two of our variables of interest, are correlated with both our candidate dependent variables and should be included in the regression model. Furthermore, their logarithmic transformation form is also correlated with the dependent variable and should be tested against their original form, using the resulting model's fit and meeting of the CLM asssumptions to decide which should be included in the specification of the population model.\n",
    "\n",
    "\n",
    "- $prbpris$ does not seem to have a strong relationship with $crmrte$. However, this is a result that is relevant to the campaign's research question; thus, it should be included in the regression, in order to show this variable's statistical and practical significance and the implications of this result to the political campaign.\n",
    "\n",
    "\n",
    "- From the candidate control variables, $\\log{polpc}$, $density$, $density^2$ and $\\log{taxpc}$ seem to have a relationship with $crmrte$ and its logarithmic form and should be considered in the model specification as controls. It is especially important to include $density$, since it is likely controlling for confounding effects."
   ]
  },
  {
   "cell_type": "markdown",
   "metadata": {},
   "source": [
    "## (3 and 4) Model Building and Regression Analysis"
   ]
  },
  {
   "cell_type": "code",
   "execution_count": 14,
   "metadata": {},
   "outputs": [],
   "source": [
    "# Builds our base model\n",
    "final_model1 <- lm(log(crmrte) ~ log(prbarr) + log(prbconv) + log(prbpris), data=clean)\n",
    "se.final_model1 <- sqrt(diag(vcovHC(final_model1)))\n",
    "\n",
    "\n",
    "# Builds model 2\n",
    "final_model2 <- lm(log(crmrte) ~ log(prbarr) + log(prbconv) + log(prbpris) + density + I(density^2) + log(polpc), data=clean)\n",
    "se.final_model2 <- sqrt(diag(vcovHC(final_model2)))\n",
    "\n",
    "\n",
    "# Builds model 3\n",
    "final_model3 <- lm(log(crmrte) ~ log(prbarr) + log(prbconv) + log(prbpris) + density + I(density^2)\n",
    "                   + log(polpc) + avgsen + taxpc + west + central + urban + pctmin80 + wcon + wtuc\n",
    "                   + wfir + wser + wmfg + wfed + wsta + wloc + mix + pctymle, data=clean)\n",
    "se.final_model3 <- sqrt(diag(vcovHC(final_model3)))"
   ]
  },
  {
   "cell_type": "raw",
   "metadata": {},
   "source": [
    "# Generates a stargazer table for all three models\n",
    "stargazer(final_model1, final_model2, final_model3, type=\"html\", omit.stat=\"f\", \n",
    "          se = list(se.final_model1, se.final_model2, se.final_model3),\n",
    "          title=\"Models \",\n",
    "          star.cutoffs=c(0.05 , 0.01, 0.001))"
   ]
  },
  {
   "cell_type": "markdown",
   "metadata": {},
   "source": [
    "<table style=\"text-align:center\"><caption><strong>Models</strong></caption>\n",
    "<tr><td colspan=\"4\" style=\"border-bottom: 1px solid black\"></td></tr><tr><td style=\"text-align:left\"></td><td colspan=\"3\"><em>Dependent variable:</em></td></tr>\n",
    "<tr><td></td><td colspan=\"3\" style=\"border-bottom: 1px solid black\"></td></tr>\n",
    "<tr><td style=\"text-align:left\"></td><td colspan=\"3\">log(crmrte)</td></tr>\n",
    "<tr><td style=\"text-align:left\"></td><td>(1)</td><td>(2)</td><td>(3)</td></tr>\n",
    "<tr><td colspan=\"4\" style=\"border-bottom: 1px solid black\"></td></tr><tr><td style=\"text-align:left\">log(prbarr)</td><td>-0.724<sup>***</sup></td><td>-0.475<sup>*</sup></td><td>-0.476<sup>***</sup></td></tr>\n",
    "<tr><td style=\"text-align:left\"></td><td>(0.116)</td><td>(0.201)</td><td>(0.105)</td></tr>\n",
    "<tr><td style=\"text-align:left\"></td><td></td><td></td><td></td></tr>\n",
    "<tr><td style=\"text-align:left\">log(prbconv)</td><td>-0.472<sup>***</sup></td><td>-0.321</td><td>-0.258<sup>*</sup></td></tr>\n",
    "<tr><td style=\"text-align:left\"></td><td>(0.138)</td><td>(0.169)</td><td>(0.131)</td></tr>\n",
    "<tr><td style=\"text-align:left\"></td><td></td><td></td><td></td></tr>\n",
    "<tr><td style=\"text-align:left\">log(prbpris)</td><td>0.148</td><td>0.043</td><td>-0.045</td></tr>\n",
    "<tr><td style=\"text-align:left\"></td><td>(0.242)</td><td>(0.232)</td><td>(0.171)</td></tr>\n",
    "<tr><td style=\"text-align:left\"></td><td></td><td></td><td></td></tr>\n",
    "<tr><td style=\"text-align:left\">density</td><td></td><td>0.305<sup>*</sup></td><td>0.362<sup>*</sup></td></tr>\n",
    "<tr><td style=\"text-align:left\"></td><td></td><td>(0.130)</td><td>(0.141)</td></tr>\n",
    "<tr><td style=\"text-align:left\"></td><td></td><td></td><td></td></tr>\n",
    "<tr><td style=\"text-align:left\">I(density2)</td><td></td><td>-0.024</td><td>-0.031</td></tr>\n",
    "<tr><td style=\"text-align:left\"></td><td></td><td>(0.020)</td><td>(0.022)</td></tr>\n",
    "<tr><td style=\"text-align:left\"></td><td></td><td></td><td></td></tr>\n",
    "<tr><td style=\"text-align:left\">log(polpc)</td><td></td><td>0.176</td><td>0.214</td></tr>\n",
    "<tr><td style=\"text-align:left\"></td><td></td><td>(0.270)</td><td>(0.177)</td></tr>\n",
    "<tr><td style=\"text-align:left\"></td><td></td><td></td><td></td></tr>\n",
    "<tr><td style=\"text-align:left\">avgsen</td><td></td><td></td><td>-0.023</td></tr>\n",
    "<tr><td style=\"text-align:left\"></td><td></td><td></td><td>(0.016)</td></tr>\n",
    "<tr><td style=\"text-align:left\"></td><td></td><td></td><td></td></tr>\n",
    "<tr><td style=\"text-align:left\">taxpc</td><td></td><td></td><td>0.007</td></tr>\n",
    "<tr><td style=\"text-align:left\"></td><td></td><td></td><td>(0.008)</td></tr>\n",
    "<tr><td style=\"text-align:left\"></td><td></td><td></td><td></td></tr>\n",
    "<tr><td style=\"text-align:left\">west</td><td></td><td></td><td>-0.078</td></tr>\n",
    "<tr><td style=\"text-align:left\"></td><td></td><td></td><td>(0.131)</td></tr>\n",
    "<tr><td style=\"text-align:left\"></td><td></td><td></td><td></td></tr>\n",
    "<tr><td style=\"text-align:left\">central</td><td></td><td></td><td>-0.101</td></tr>\n",
    "<tr><td style=\"text-align:left\"></td><td></td><td></td><td>(0.086)</td></tr>\n",
    "<tr><td style=\"text-align:left\"></td><td></td><td></td><td></td></tr>\n",
    "<tr><td style=\"text-align:left\">urban</td><td></td><td></td><td>-0.190</td></tr>\n",
    "<tr><td style=\"text-align:left\"></td><td></td><td></td><td>(0.202)</td></tr>\n",
    "<tr><td style=\"text-align:left\"></td><td></td><td></td><td></td></tr>\n",
    "<tr><td style=\"text-align:left\">pctmin80</td><td></td><td></td><td>0.012<sup>***</sup></td></tr>\n",
    "<tr><td style=\"text-align:left\"></td><td></td><td></td><td>(0.003)</td></tr>\n",
    "<tr><td style=\"text-align:left\"></td><td></td><td></td><td></td></tr>\n",
    "<tr><td style=\"text-align:left\">wcon</td><td></td><td></td><td>0.001</td></tr>\n",
    "<tr><td style=\"text-align:left\"></td><td></td><td></td><td>(0.001)</td></tr>\n",
    "<tr><td style=\"text-align:left\"></td><td></td><td></td><td></td></tr>\n",
    "<tr><td style=\"text-align:left\">wtuc</td><td></td><td></td><td>0.0001</td></tr>\n",
    "<tr><td style=\"text-align:left\"></td><td></td><td></td><td>(0.001)</td></tr>\n",
    "<tr><td style=\"text-align:left\"></td><td></td><td></td><td></td></tr>\n",
    "<tr><td style=\"text-align:left\">wfir</td><td></td><td></td><td>-0.001</td></tr>\n",
    "<tr><td style=\"text-align:left\"></td><td></td><td></td><td>(0.001)</td></tr>\n",
    "<tr><td style=\"text-align:left\"></td><td></td><td></td><td></td></tr>\n",
    "<tr><td style=\"text-align:left\">wser</td><td></td><td></td><td>-0.0005</td></tr>\n",
    "<tr><td style=\"text-align:left\"></td><td></td><td></td><td>(0.002)</td></tr>\n",
    "<tr><td style=\"text-align:left\"></td><td></td><td></td><td></td></tr>\n",
    "<tr><td style=\"text-align:left\">wmfg</td><td></td><td></td><td>-0.0002</td></tr>\n",
    "<tr><td style=\"text-align:left\"></td><td></td><td></td><td>(0.001)</td></tr>\n",
    "<tr><td style=\"text-align:left\"></td><td></td><td></td><td></td></tr>\n",
    "<tr><td style=\"text-align:left\">wfed</td><td></td><td></td><td>0.002<sup>*</sup></td></tr>\n",
    "<tr><td style=\"text-align:left\"></td><td></td><td></td><td>(0.001)</td></tr>\n",
    "<tr><td style=\"text-align:left\"></td><td></td><td></td><td></td></tr>\n",
    "<tr><td style=\"text-align:left\">wsta</td><td></td><td></td><td>-0.001</td></tr>\n",
    "<tr><td style=\"text-align:left\"></td><td></td><td></td><td>(0.001)</td></tr>\n",
    "<tr><td style=\"text-align:left\"></td><td></td><td></td><td></td></tr>\n",
    "<tr><td style=\"text-align:left\">wloc</td><td></td><td></td><td>0.0002</td></tr>\n",
    "<tr><td style=\"text-align:left\"></td><td></td><td></td><td>(0.002)</td></tr>\n",
    "<tr><td style=\"text-align:left\"></td><td></td><td></td><td></td></tr>\n",
    "<tr><td style=\"text-align:left\">mix</td><td></td><td></td><td>-0.045</td></tr>\n",
    "<tr><td style=\"text-align:left\"></td><td></td><td></td><td>(0.667)</td></tr>\n",
    "<tr><td style=\"text-align:left\"></td><td></td><td></td><td></td></tr>\n",
    "<tr><td style=\"text-align:left\">pctymle</td><td></td><td></td><td>1.939</td></tr>\n",
    "<tr><td style=\"text-align:left\"></td><td></td><td></td><td>(2.375)</td></tr>\n",
    "<tr><td style=\"text-align:left\"></td><td></td><td></td><td></td></tr>\n",
    "<tr><td style=\"text-align:left\">Constant</td><td>-4.708<sup>***</sup></td><td>-3.563</td><td>-4.159<sup>*</sup></td></tr>\n",
    "<tr><td style=\"text-align:left\"></td><td>(0.289)</td><td>(2.090)</td><td>(1.812)</td></tr>\n",
    "<tr><td style=\"text-align:left\"></td><td></td><td></td><td></td></tr>\n",
    "<tr><td colspan=\"4\" style=\"border-bottom: 1px solid black\"></td></tr><tr><td style=\"text-align:left\">Observations</td><td>90</td><td>90</td><td>90</td></tr>\n",
    "<tr><td style=\"text-align:left\">R<sup>2</sup></td><td>0.415</td><td>0.597</td><td>0.846</td></tr>\n",
    "<tr><td style=\"text-align:left\">Adjusted R<sup>2</sup></td><td>0.394</td><td>0.568</td><td>0.796</td></tr>\n",
    "<tr><td style=\"text-align:left\">Akaike Information Criterion (AIC)</td><td>108</td><td>80</td><td>26</td></tr>\n",
    "<tr><td style=\"text-align:left\">Residual Std. Error</td><td>0.427 (df = 86)</td><td>0.361 (df = 83)</td><td>0.248 (df = 67)</td></tr>\n",
    "<tr><td colspan=\"4\" style=\"border-bottom: 1px solid black\"></td></tr><tr><td style=\"text-align:left\"><em>Note:</em></td><td colspan=\"3\" style=\"text-align:right\"><sup>*</sup>p &lt; 0.05; <sup>**</sup>p &lt; 0.01; <sup>***</sup>p &lt; 0.001</td></tr>\n",
    "</table>"
   ]
  },
  {
   "cell_type": "markdown",
   "metadata": {},
   "source": [
    "### Model 1: Our Base Model Measures the Elasticity of $crmrte$ with Respect to $prbarr$, $prbconv$, and $prbpris$\n",
    "\n",
    "We wanted to understand if an increasing probability of incarceration for offenders ($prbpris$) is associated with lower crime rates ($crmrte$); however, to land in prison, offenders must first be arrested ($prbarr$) and convicted of a crime ($prbconv$). Our base model regresses our log-transformed outcome variable $crmrte$ on log transformations of $prbarr$, $prbconv$, and $prbpris$ to account for this natural sequence of events. The coefficients associated with each regressor capture how each regressor varies individually with $log(crmrte)$ when the other two are held constant.   \n",
    "\n",
    "#### A Log-Log Model Is Easier to Interpret and Better Conforms to the CLM\n",
    "Although the maximum value of $crmrte$ is only ~18 times greater than its minimum value, (0.0055 vs. 0.099), we discovered that regressions of  $\\log{crmrte}$ on $prbarr$ or $prbconv$ individually had better fits $(prbarr: R^2 = 0.22$ and $prbconv: R^2 = 0.20)$ than regressions of $crmrte$ on $prbarr$ or $prbconv$ $(prbarr: R^2 = 0.15$ and $prbconv: R^2 = 0.16)$. Thus, we chose to employ $\\log_{crmrte}$ in our base model. \n",
    "\n",
    "We also chose to log-transform all of our regressors (please see note below on why we did not choose to standardize our variables instead). Doing so sacrifices a slightly better fit as compared to modeling untransformed regressors $(R^2 = 0.45$ vs. $R^2 = 0.41)$, but also improves our model in three ways. \n",
    "\n",
    "**1) It makes our model easier to interpret.** Although they are presented as probabilities, some values of $prbarr$ and $prbconv$ exceed one; moreover, the maximum values of each are different. Additionally, scaling issues hinder comparisons between counties; for example, what does it mean to make a 0.1-unit change in a county with $prbconv=0.1$ as compared to one with $prbconv=0.5$?  Employing a log-log model circumvents these complications and lets us compare the elasticity of $crmrte$ with respect to each of our key variables.  \n",
    "\n",
    "**2) It better fits the zero-mean assumption of the CLM.** The log-level model of $crmrte$ against our regressors has a fitted values vs. residuals plot that noticeably bows upward at either end (data not shown). The log-log model is flat on the left and bows upward much less on the right. \n",
    "\n",
    "**3) It lowers the maximum Cook's distance to below 0.5.** County #51 greatly influences the log-level model (Cook's distance $\\geq$ 1); the log-log model increases the influence of other points, but in no case to a Cook's distance of more than 0.5. \n",
    "\n",
    "Having fully specified our base model, we calculated the least-squares fit below. \n",
    "\n",
    "$$ \\widehat{\\log{crmrte}} = -4.71 - 0.724*\\log prbarr - 0.472*\\log prbconv + 0.148*\\log prbpris $$\n",
    "\n",
    "\n",
    "**Note:** _We also considered creating a log-level model after standardizing each regressor by subtracting its mean and dividing by its standard deviation. However, this model still suffers from the same problems as employing the original, unscaled, untransformed regressors. Furthermore, we felt that our political clients would better understand percent changes as opposed to changes described as standard deviations._  "
   ]
  },
  {
   "cell_type": "markdown",
   "metadata": {},
   "source": [
    "#### Model 1 Violates CLM Assumptions of Zero Conditional Mean, Heteroskedasticity,  Normality, and (Possibly) Random Sampling, but Likely Satisfies Conditions for Exogeneity and Asymptotic Normality\n",
    "\n",
    "In order to infer appropriate conclusions from our model, we evaluated if the model meets the six classical linear model assumptions.\n",
    "\n",
    "*1. Linear in parameters*: Although we have utilized log transformations in the variables, our base population model is employed as\n",
    "\n",
    "$$\\log{y} = \\beta_0 + \\beta_1 \\log{x_1} + \\beta_2 \\log{x_2} + \\beta_3 \\log{x_3} + u$$\n",
    "\n",
    "Because the parameters $\\beta_0$ through $\\beta_3$ are linear with respect to $\\log{y}$, our model meets the linear in parameters assumption."
   ]
  },
  {
   "cell_type": "markdown",
   "metadata": {},
   "source": [
    "*2. Random sampling*: With some research, we found that there are a total of 100 counties in North Carolina, however our data set only includes 90 observations. Because of the limited information on how the data was collected, we cannot conclude whether or not we have met the random sampling assumption. There could be a number of reasons why these counties were missing- it could be because the counties did not have the resources to collect this type of information (which could indicate fewer resources for law enforcement) or simply did not want to share them (possibly due to shame of high crime rate). In these scenarios, the data set would be missing full representation of the entire population of North Carolina counties."
   ]
  },
  {
   "cell_type": "markdown",
   "metadata": {},
   "source": [
    "*3. No perfect collinearity*: Because the model was able to successfully regress, we can confirm that our model does not have perfect collinearity. However, we still want to ensure that we don't have imperfect collinearity in our model. We calculated the variance inflation factor (VIF) for each explanatory variable. The VIF values were all much less than 10, indicating that our model does not have the collinearity that could increase the estimator's variance. "
   ]
  },
  {
   "cell_type": "code",
   "execution_count": 15,
   "metadata": {},
   "outputs": [
    {
     "data": {
      "text/html": [
       "'VIF for explanatory variables:'"
      ],
      "text/latex": [
       "'VIF for explanatory variables:'"
      ],
      "text/markdown": [
       "'VIF for explanatory variables:'"
      ],
      "text/plain": [
       "[1] \"VIF for explanatory variables:\""
      ]
     },
     "metadata": {},
     "output_type": "display_data"
    },
    {
     "data": {
      "text/html": [
       "<dl class=dl-horizontal>\n",
       "\t<dt>log(prbarr)</dt>\n",
       "\t\t<dd>1.04342497568592</dd>\n",
       "\t<dt>log(prbconv)</dt>\n",
       "\t\t<dd>1.04272178313262</dd>\n",
       "\t<dt>log(prbpris)</dt>\n",
       "\t\t<dd>1.00081019055975</dd>\n",
       "</dl>\n"
      ],
      "text/latex": [
       "\\begin{description*}\n",
       "\\item[log(prbarr)] 1.04342497568592\n",
       "\\item[log(prbconv)] 1.04272178313262\n",
       "\\item[log(prbpris)] 1.00081019055975\n",
       "\\end{description*}\n"
      ],
      "text/markdown": [
       "log(prbarr)\n",
       ":   1.04342497568592log(prbconv)\n",
       ":   1.04272178313262log(prbpris)\n",
       ":   1.00081019055975\n",
       "\n"
      ],
      "text/plain": [
       " log(prbarr) log(prbconv) log(prbpris) \n",
       "    1.043425     1.042722     1.000810 "
      ]
     },
     "metadata": {},
     "output_type": "display_data"
    }
   ],
   "source": [
    "paste(\"VIF for explanatory variables:\")\n",
    "vif(final_model1)"
   ]
  },
  {
   "cell_type": "markdown",
   "metadata": {},
   "source": [
    "*4. Zero conditional mean*: To satisfy the zero conditional mean assumption, the error $u$ should have an expected value of zero given any values of the explanatory variables. To evaluate this, we used the residuals as an estimate of the error and looked at the residuals vs fitted values plot. The red spline estimates the mean of the residuals across the fitted values and a flat line at 0 would indicate a zero conditional mean. Using log transformations of the explanatory variables did help flatten the mean line compared with a model without these transformations. However, our plot for model 1 still shows some curvature towards the right side of the plot, as shown in graph (a) below. This indicates that our estimators are biased."
   ]
  },
  {
   "cell_type": "code",
   "execution_count": 16,
   "metadata": {},
   "outputs": [
    {
     "data": {
      "text/html": [
       "'Model 1 diagnostic plots:'"
      ],
      "text/latex": [
       "'Model 1 diagnostic plots:'"
      ],
      "text/markdown": [
       "'Model 1 diagnostic plots:'"
      ],
      "text/plain": [
       "[1] \"Model 1 diagnostic plots:\""
      ]
     },
     "metadata": {},
     "output_type": "display_data"
    },
    {
     "data": {
      "image/png": "[encoded data removed]",
      "text/plain": [
       "Plot with title \"\""
      ]
     },
     "metadata": {},
     "output_type": "display_data"
    }
   ],
   "source": [
    "options(repr.plot.width=9, repr.plot.height=3)\n",
    "paste(\"Model 1 diagnostic plots:\")\n",
    "par(mfrow=c(1,3))\n",
    "plot(final_model1, which = 1); mtext(\"(a)\", side = 3, padj = -2.5)\n",
    "plot(final_model1, which = 3); mtext(\"(b)\", side = 3, padj = -2.5)\n",
    "plot(final_model1, which = 2); mtext(\"(c)\", side = 3, padj = -2.5)"
   ]
  },
  {
   "cell_type": "markdown",
   "metadata": {},
   "source": [
    "However, we are still able to argue that model 1 meets the weaker exogeneity assumption. Because we have a large enough sample size, and our transformed explanatory variables, $\\log \\ prbarr$, $\\log \\ prbconv$, and $\\log \\ probpris$ do not have extreme skew as shown in our univariate analysis, the bias in our estimators may be able to converge in probability to zero or at least close to zero. Furthermore, our discussion of omitted variables later in this report concludes that these biases are in the direction that keeps our estimates conservative."
   ]
  },
  {
   "cell_type": "markdown",
   "metadata": {},
   "source": [
    "*5. Homoskedasticity*: In graph (a), we see that the variances in the data increases with an increasing fitted value, as the band around the red spline grows bigger. This indicates that our model does have some degree of heterskedasticity. Graph (b) shown above supports this conclusion, as the red spline curve estimating the mean of the square root of the absolute value of the residuals is not a straight flat line. Furthermore, because we have a moderately sized data set, we can also use the Breusch-Pagan test. The results show a significant p-value, so we reject the null hypothesis that there is homoskedasticity. Because of this, and also because it is best practice, we will use the heterskedastic robust standard errors when determining statistical significance of the estimators."
   ]
  },
  {
   "cell_type": "code",
   "execution_count": 17,
   "metadata": {},
   "outputs": [
    {
     "data": {
      "text/plain": [
       "\n",
       "\tstudentized Breusch-Pagan test\n",
       "\n",
       "data:  final_model1\n",
       "BP = 10.047, df = 3, p-value = 0.01817\n"
      ]
     },
     "metadata": {},
     "output_type": "display_data"
    }
   ],
   "source": [
    "bptest(final_model1)"
   ]
  },
  {
   "cell_type": "markdown",
   "metadata": {},
   "source": [
    "*6. Normality of errors*: Graph (c) above shows that the residuals is somewhat close to normal distribution, but ultimately deviates from normal distribution with a left skew as indicated by the data points veering away from the dotted line. Again, because we have a moderately sized data set, we can use the Shapiro-Wilk  test. The p-value from the test is significant, so we reject the null hypothesis that there is normality. However, looking at the histogram of the residuals show that there is not extreme skewness, and with a data set with 90 observations, we are able to use the central limit thereom to argue that the estimators satistify asympototic normality."
   ]
  },
  {
   "cell_type": "code",
   "execution_count": 18,
   "metadata": {
    "scrolled": true
   },
   "outputs": [
    {
     "data": {
      "text/plain": [
       "\n",
       "\tShapiro-Wilk normality test\n",
       "\n",
       "data:  final_model1$residuals\n",
       "W = 0.96047, p-value = 0.007851\n"
      ]
     },
     "metadata": {},
     "output_type": "display_data"
    }
   ],
   "source": [
    "shapiro.test(final_model1$residuals)"
   ]
  },
  {
   "cell_type": "markdown",
   "metadata": {},
   "source": [
    "#### $prbpris$ Is Not Associated with Crime Rate in Any Practical Way, but $prbarr$ and $prbconv$ Are Negatively Associated\n",
    "\n",
    "$\\hat{\\beta}_{\\log{prbarr}}$, $\\hat{\\beta}_{\\log{prbconv}}$, and $\\hat{\\beta}_0$ are statistically significant at the 0.1% level, but $\\hat{\\beta}_{\\log{prbarr}}$ is not, even at the 25% level; thus, our model suggests that changes in incarceration rates are not associated with changes in crime rate. Our model further suggests that 10% relative increases (not absolute increases) in $prbarr$ and $prbconv$ are associated with 7.24% and 4.72% relative reductions in $crmrte$ when the other two regressors are held fixed. Although it is statistically significant at the 0.1% level, $\\hat{\\beta}_0$ indicates the $\\log{crmrte}$ intercept when $prbarr=prbconv=prbpris=1$. This only occurs when authorities make arrests for all reported offenses, convict everyone who is arrested, and incarcerate all convicts. Clearly, this is not a realistic situation across an entire county.\n",
    "\n",
    "We speculate that $\\hat{\\beta}_{\\log{prbarr}}$ and $\\hat{\\beta}_{\\log{prbconv}}$ describe practically significant associations with crime rate, since comparatively large reductions in crime rate are associated with modest increases in arrest and conviction rates. In contrast, the probability of being incarcerated upon conviction does not appear to be associated with crime rate at any statistically significant level; thus to a first approximation, the answer to our research question is no. \n",
    "\n",
    "We cannot claim that these relationships indicate causality; however, they suggest that we should introduce additional regressors to isolate the associations of $\\log{crmrte}$ with $\\log{prbarr}$ and $\\log{prbconv}$. Doing so could provide support for launching controlled pilot programs that are aimed at increasing arrest and conviction rates and would be able to test if any causal relationships exist. Additionally, since we observe that $\\log{prbpris}$ is not associated with $\\log{crmrte}$, North Carolina should also explore if less costly alternatives to incarceration do not affect crime rate."
   ]
  },
  {
   "cell_type": "markdown",
   "metadata": {},
   "source": [
    "### Model 2: Adding $density$ and $polpc$ Controls for Confounding Effects and Improves Our Base Model's Fit\n",
    "\n",
    "Having established our base model, we sought to introduce covariates that might (i) control for confounding effects and (ii) parsimoniously improve the model's fit to the underlying data . \n",
    "\n",
    "Given that we observed $\\log{prbarr}$ is negatively associated with $\\log{crmrte}$, we speculated that reduced crime rates might be associated just with having a higher concentration of police officers relative to population size as opposed to the act of arresting people itself. We sought to address this issue by including $\\log{polpc}$ as a regressor to partial out the effect of police presence per capita from $prbarr$ (as well as the other variables in our base model). \n",
    "\n",
    "Counties in North Carolina are spread across a wide (29-fold) range of population densities. [This excludes the extreme outlier county 173 ($density = 0.000020$), which we retained in the dataset, but disregarded in calculating the illustrative range here.] We speculate that counties with relatively high densities could experience different challenges than counties with low densities; for instance, because of disparities in unemployment, educational attainment, or opportunities to commit crime. In fact, we observed that $density$ has a strong correlation with $\\log{crmrte}$ and a strong negative correlation with both $\\log{prbarr}$ and $\\log{prbconv}$. Thus, we included it to reduce bias it might otherwise impart to $\\hat{\\beta}_{\\log{prbarr}}$ and $\\hat{\\beta}_{\\log{prbconv}}$. \n",
    "\n",
    "\n",
    "#### We Added a Quadratic Term to $density$ and Log-Transformed $polpc$ to Improve Our Model's Fit\n",
    "\n",
    "We incorporated $\\log{polpc}$ as well as $density$ and $density^2$ as regressors. We previously identified county #51 as an outlier with respect to $prbarr$ and $prbconv$, it also is an outlier with respect to $polpc$. (Although it represents a single data point, we note that it also has the lowest crime rate in the dataset.) Log-transforming $polpc$ ameliorates the influence that county #51 has on a regression with $\\log{crmrte}$. It also yields a better fitting regression relative to the untransformed variable ($R^2 = 0.08$ vs. $R^2=0$) that has a lower Akaike Information Criterion (AIC) score (145 vs. 152). Both $density$ (and $density^2$) show a great degree of positive skew. A scatter plot indicates that $density$ is positively associated with $\\log{crmrte}$, but at $density \\geq 2$ the strength of this association starts to lessen. We added a quadratic term to account for this, which yielded a better fit than regressing against $density$ by itself ($R^2 = 0.46$ vs. $R^2 = 0.40$) and a better AIC score (100 vs. 106).  \n",
    "\n",
    "Having fully specified our second model, we calculated the least-squares fit below.\n",
    "\n",
    "$$ \\widehat{\\log crmrte} = -3.563 - 0.475*\\log prbarr - 0.321*\\log prbconv + 0.043*\\log prbpris + 0.305*density - 0.024*density^2 + 0.176*\\log polpc$$"
   ]
  },
  {
   "cell_type": "code",
   "execution_count": 70,
   "metadata": {
    "scrolled": false
   },
   "outputs": [
    {
     "data": {
      "image/png": "[encoded data removed]",
      "text/plain": [
       "Plot with title \"log(Police per Capita)\""
      ]
     },
     "metadata": {},
     "output_type": "display_data"
    },
    {
     "data": {
      "image/png": "[encoded data removed]",
      "text/plain": [
       "Plot with title \"Density^2\""
      ]
     },
     "metadata": {},
     "output_type": "display_data"
    },
    {
     "data": {
      "image/png": "[encoded data removed]",
      "text/plain": [
       "Plot with title \"log(polpc)\""
      ]
     },
     "metadata": {},
     "output_type": "display_data"
    },
    {
     "data": {
      "image/png": "[encoded data removed]",
      "text/plain": [
       "Plot with title \"Quadratic Regression on Density\""
      ]
     },
     "metadata": {},
     "output_type": "display_data"
    }
   ],
   "source": [
    "# Values of polpc and log(polpc) are relatively concentrated \n",
    "\n",
    "options(warn=-1)\n",
    "par(mfrow = c(1, 2), cex.main = 0.8, cex.lab = 0.8, cex.axis = 0.8)\n",
    "options(repr.plot.width=7, repr.plot.height=3.5)\n",
    "hist(clean$polpc, main = \"Police per Capita\", col = rgb(0.4, 0.4, 0.4, 1), ylim = c(0, 30), xlab = \"Police per capita\",\n",
    "     breaks = sqrt(nrow(clean)))\n",
    "hist(log(clean$polpc), main = \"log(Police per Capita)\", col = rgb(0.4, 0.4, 0.4, 1), ylim = c(0, 30), \n",
    "     xlab = \"log(Police per capita)\", breaks = sqrt(nrow(clean)))\n",
    "\n",
    "# density and density^2 exhibit a great degree of positive skew \n",
    "\n",
    "options(warn=-1)\n",
    "par(mfrow = c(1, 2), cex.main = 0.8, cex.lab = 0.8, cex.axis = 0.8)\n",
    "# options(repr.plot.width=6, repr.plot.height=4)\n",
    "hist(clean$density, main = \"Density\", col = rgb(0.4, 0.4, 0.4, 1), ylim = c(0, 30), xlab = \"Density\",\n",
    "     breaks = sqrt(nrow(clean)))\n",
    "hist((clean$density)^2, main = \"Density^2\", col = rgb(0.4, 0.4, 0.4, 1), ylim = c(0, 30), \n",
    "     xlab = \"Density^2\", breaks = sqrt(nrow(clean)))\n",
    "\n",
    "# Plots regression lines for polpc models\n",
    "\n",
    "# log(crmrte) ~ polpc\n",
    "model.p1 <- lm(log(crmrte) ~ polpc, data=clean)\n",
    "plot(clean$polpc, log(clean$crmrte), main=\"Untransformed polpc\", \n",
    "     xlab=\"Police per capita\", ylab=\"log(Crime rate)\")\n",
    "abline(model.p1)\n",
    "text(0.0068, -4.5, paste(summary(model.p1)$call[2]), cex = 0.6)\n",
    "rsq.p1 <- summary(model.p1)$r.squared; text(x = 0.007, y = -4.7, bquote(R^2 == .(round(rsq.p1, 2))), cex = 0.6)\n",
    "text(0.007, -4.9, bquote(AIC == .(round(AIC(model.p1), 0))), cex = 0.6)\n",
    "\n",
    "# log(crmrte) ~ log(polpc)\n",
    "model.p2 <- lm(log(crmrte) ~ log(polpc), data=clean)\n",
    "plot(log(clean$polpc), log(clean$crmrte), main=\"log(polpc)\", \n",
    "     xlab=\"log(Police per capita)\", ylab=\"log(Crime rate)\")\n",
    "abline(model.p2)\n",
    "text(-5.5, -4.5, paste(summary(model.p2)$call[2]), cex = 0.6)\n",
    "rsq.p2 <- summary(model.p2)$r.squared; text(x = -5.5, y = -4.7, bquote(R^2 == .(round(rsq.p2, 2))), cex = 0.6)\n",
    "text(-5.5, -4.9, bquote(AIC == .(round(AIC(model.p2), 0))), cex = 0.6)\n",
    "\n",
    "\n",
    "# Plot density regressions against data\n",
    "\n",
    "clean$square.density <- (clean$density + (clean$density)^2)\n",
    "\n",
    "# log(crmrte) ~ density\n",
    "model.d1 <- lm(log(crmrte) ~ density, data=clean)\n",
    "model.d2 <- lm(log(crmrte) ~ density + I(density^2), data=clean)\n",
    "clean$square.density <- (clean$density + (clean$density)^2)\n",
    "newdata <- data.frame(density=seq(min(clean$density), max(clean$density), 0.01))\n",
    "newdata <- data.frame(density=seq(min(clean$density), max(clean$density), 0.01))\n",
    "newdata$pred1 <- predict(model.d2, newdata)\n",
    "plot(clean$log.crmrte ~ clean$density , data=newdata, main=\"Linear Regression on Density\",  \n",
    "     xlab=\"Density\", ylab=\"log(Crime rate)\")\n",
    "abline(a=coef(model.d1)[1], b=coef(model.d1)[2])\n",
    "text(6, -4.5, paste(summary(model.d1)$call[2]), cex = 0.6)\n",
    "rsq.d1 <- summary(model.d1)$r.squared; text(x = 6, y = -4.7, bquote(R^2 == .(round(rsq.d1, 2))), cex = 0.6)\n",
    "text(6, -4.9, bquote(AIC == .(round(AIC(model.d1), 0))), cex = 0.6)\n",
    "\n",
    "# log(crmrte) ~ density + density^2\n",
    "plot(clean$log.crmrte ~ clean$density , data=newdata, main=\"Quadratic Regression on Density\", \n",
    "     xlab=\"Density\", ylab=\"log(Crime rate)\")\n",
    "lines(newdata$density, newdata$pred1, col=\"red\")\n",
    "text(5.8, -4.5, paste(summary(model.d2)$call[2]), cex = 0.6)\n",
    "rsq.d2 <- summary(model.d2)$r.squared; text(x = 6, y = -4.7, bquote(R^2 == .(round(rsq.d2, 2))), cex = 0.6)\n",
    "text(6, -4.9, bquote(AIC == .(round(AIC(model.d2), 0))), cex = 0.6)"
   ]
  },
  {
   "cell_type": "markdown",
   "metadata": {},
   "source": [
    "#### County 115 Is a Promient Outlier and Has High Leverage on Model 2\n",
    "\n",
    "Analyzing the residuals versus leverage plot showed that model 2 has one point with high leverage, exceeding a Cook's distance of 1. The data point corresponds to county 115 (row index 51), which is a prominent outlier as it is the county with $prbarr$ greater than 1, one of the counties with $prbconv$ greater than 1, and has the lowest crime rate. Although we do not have any reason to remove the outlier, as we had discussed in the univariate analysis, further investigation into this county's criminal justice system and how it reported its metrics may be useful in revealing insights on why this county's crime rate is notably low."
   ]
  },
  {
   "cell_type": "markdown",
   "metadata": {},
   "source": [
    "#### Model 2 Violates CLM Assumptions of Heteroskedasticity, Normality, and (Possibly) Random Sampling, but Satisfies Conditions for Asymptotic Normality\n",
    "\n",
    "1. *Linear in parameters:* Our equation for model 2 meets the linearity in parameters assumption as the parameters $\\beta_j$ are linear.\n",
    "* *Random sampling:* We use the same dataset as in model 1, so our rationale that the data may or may not have random sampling is the same.\n",
    "* *No perfect collinearity:* There is no perfect collinearity, however the variance inflation factors for $density$ and $density^2$ were calculated to be high. This does not alarm us as these represent a quadratic transformation and does not indicate collinearity with a different explanatory variable.\n",
    "* *Zero conditional mean:* The red spline curve in graph (d) is fairly flat in the center, while curving downwards on the left side of the graph. This could be because there is less data points on the left, with the left most point causing the downward curvature. Because the line is reasonably flat for the majority of the data points, we believe that model 2 may be able to the zero conditional mean assumption, although imperfectly.\n",
    "* *Homoskedasticity:* The red spline curve in graph (e) shows that there is a fair amount of heterskedasticity, however this pronouced curvature may be due to having less data points on the left side of the graph. The Breusch-Pagan test also indicates that there is heterskedasticity. Nevertheless, we continue to use heterskedastic robust standard errors.\n",
    "* *Normality of errors:* The points on graph (f) do deviate from a normal distribution towards the edges, but because there is no extreme skewness and a large number of observations, we are still able to rely on the central limit theorem."
   ]
  },
  {
   "cell_type": "code",
   "execution_count": null,
   "metadata": {
    "scrolled": true
   },
   "outputs": [],
   "source": [
    "options(repr.plot.width=9, repr.plot.height=3)\n",
    "paste(\"Model 2 diagnostic plots:\")\n",
    "par(mfrow=c(1,3))\n",
    "plot(final_model2, which = 1); mtext(\"(d)\", side = 3, padj = -2.5)\n",
    "plot(final_model2, which = 3); mtext(\"(e)\", side = 3, padj = -2.5)\n",
    "plot(final_model2, which = 2); mtext(\"(f)\", side = 3, padj = -2.5)"
   ]
  },
  {
   "cell_type": "markdown",
   "metadata": {},
   "source": [
    "#### $\\log{prbarr}$ and $\\log{prbconv}$ Still Show Practically Significant Associations with Crime Rate After Accounting for Population Density and Police per Capita\n",
    "\n",
    "Relative to our base model ($R^2=0.415$ and $AIC=108$), model 2 yields a better fit ($R^2=0.597$) and minimizes information loss ($AIC=80$). The coefficients for our key variables are at least somewhat biased in our base model, since model 2 drives their magnitudes closer to zero. Specifically, $|\\hat{\\beta}_{\\log{prbarr}}|$ and $|\\hat{\\beta}_{\\log{prbconv}}|$ are reduced by 34% and 32%, respectively. Furthermore, the statistical significance of each coefficient is reduced; $\\hat{\\beta}_{\\log{prbarr}}$ is only significant at the 5% level, while $\\hat{\\beta}_{\\log{prbconv}}$ is only significant at the 10% level, which could indicate that they are each colinear with some combination of $\\log{polpc}$, $density$, or $density^2$. $|\\hat{\\beta}_{\\log{prbpris}}|$ dropped closer to zero and still is not statistically significant. $\\hat{\\beta}_0$ is no longer statistically significant.\n",
    "\n",
    "We speculate that $\\hat{\\beta}_{\\log{prbarr}}$ and $\\hat{\\beta}_{\\log{prbconv}}$ are still probably of practical significance and indicate more actionable associations with crime rate than $\\hat{\\beta}_{\\log{prbpris}}$. Even after accounting for differences in $density$ and $polpc$, modest percentage increases in either variable are still associated with relatively substantial percentage reductions in crime rate (e.g., a 10% increase in $prbarr$ from its original level is associated with a 4.75% reduction in $crmrte$ from its previous level). Additionally, $\\hat{\\beta}_{\\log{prbconv}}$ just misses the threshold of being statistically significant at the 5% level ($\\text{p-value}=0.59$). Conversely, $\\hat{\\beta}_{\\log{prbpris}}$ still is not statistically significant and the magnitude of its effect even is smaller in this model, which argues that it is still not practically significant. \n",
    "\n",
    "In total, having controlled for the effects of police presence and population density, we find that arrest and conviction rates are still meaningfully associated with crime rate, but no association with incarceration. These results strengthen the notion that there is value in launching pilot programs (i) to test if North Carolina can increase arrests or convictions to reduce crime rates and (ii) to test if it can offer more economical sentences to some offenders in lieu of prison without increasing crime rate. \n",
    "\n",
    "#### $\\hat{\\beta}_{density}$ Is Statistically Significant and Both $density$ Terms Describe Our Data Well\n",
    "\n",
    "$\\hat{\\beta}_{density}$ is statistically significant at the 5% level, while $\\hat{\\beta}_{density^2}$ is not. The two $density$ terms indicate that $\\widehat{\\log{crmrte}}$ rises in association with $density$ up until $density \\approx 6.5$, which fits our data well, given that only three counties have $density > 6$. $\\hat{\\beta}_{\\log{polpc}}$ is not statistically significant; thus, we do not consider its practical significance."
   ]
  },
  {
   "cell_type": "markdown",
   "metadata": {},
   "source": [
    "### Model 3: $\\hat{\\beta}_{\\log{prbarr}}$ and (to a Lesser Extent) $\\hat{\\beta}_{\\log{prbconv}}$ Exhibit Robustness to Model Specification, but $\\hat{\\beta}_{\\log{prbpris}}$ Does Not\n",
    "\n",
    "Finally, we tested the robustness of our base model coefficients to pertubations in model specification. To do so, we added untransformed regressors that correspond to every variable remaining in the dataset that we did not specifically address in model 2, with the exception of $year$ and $county$ (see regression table above)."
   ]
  },
  {
   "cell_type": "markdown",
   "metadata": {},
   "source": [
    "#### County 185 Is a Promient Outlier and Has High Leverage on Model 3\n",
    "\n",
    "Analyzing the residuals versus leverage plot showed that model 3 has one point with high leverage, exceeding a Cook's distance of 1. The data point corresponds to county 185 (row index 84), which is a prominent outlier as it is the county with largest $probconv$, the one that was greater than 2, and has the third lowest crime rate. Although we do not have any reason to remove the outlier, further investigation into this county's criminal justice system may be useful in revealing any insights on why this county's crime rate is also quite low."
   ]
  },
  {
   "cell_type": "markdown",
   "metadata": {},
   "source": [
    "#### Model 3 Violates CLM Assumptions of Normality and (Possibly) Random Sampling, but Satisfies Conditions for Asymptotic Normality\n",
    "\n",
    "1. *Linear in parameters:* Our equation for model 3 meets the linearity in parameters assumption as the parameters $\\beta_j$ are linear.\n",
    "* *Random sampling:* We use the same dataset as in model 1 and 2, so our rationale that the data may or may not have random sampling is the same.\n",
    "* *No perfect collinearity:* There is no perfect collinearity and the variance inflation factor for all explanatory variables is less than 10, besides $density$ and $density^2$ as discussed previously.\n",
    "* *Zero conditional mean:* The red spline curves in graph (g) is quite flat and approximately meets the zero conditional mean assumption. If we have true random sampling, the estimators for model 3 are unbiased.\n",
    "* *Homoskedasticity:* The red spline curve in graph (h) is fairly flat, though does not look perfectly flat. Using the Breusch-Pagan test, we fail to reject the null hypothesis that there is homoskedasticity. Although we may be able to say that the model is homoskedastic, we will again continue to use heterskedastic robust standard errors as it is best practice.\n",
    "* *Normality of errors:* There is a small left skew, as shown in graph (i), however we are still able to use the central limit theorem as there is no extreme skewness."
   ]
  },
  {
   "cell_type": "code",
   "execution_count": null,
   "metadata": {},
   "outputs": [],
   "source": [
    "paste(\"Model 3 diagnostic plots:\")\n",
    "par(mfrow=c(1,3))\n",
    "plot(final_model3, which = 1); mtext(\"(g)\", side = 3, padj = -2.5)\n",
    "plot(final_model3, which = 3); mtext(\"(h)\", side = 3, padj = -2.5)\n",
    "plot(final_model3, which = 2); mtext(\"(i)\", side = 3, padj = -2.5)"
   ]
  },
  {
   "cell_type": "markdown",
   "metadata": {},
   "source": [
    "#### Model 3 Reinforces the Notion that the Probability of Incarceration Is Not Associated with Crime Rate, but Probabilities of Arrest and Conviction Are\n",
    "\n",
    "With respect to our motivating question (i.e., Is incarceration associated with crime rate?), comparatively larger reductions in crime are associated with simply arresting suspects and convicting offenders; incarceration, which is more costly, is not associated with higher or lower crime rates. In model 2, we controlled for bias that police presence ($polpc$) and population density ($density$) could impart to the coefficients for our key variables ($\\hat{\\beta}_{\\log{prbarr}}$, $\\hat{\\beta}_{\\log{prbconv}}$, and $\\hat{\\beta}_{\\log{prbpris}}$). The fact that the values of $\\hat{\\beta}_{\\log{prbarr}}$ and $\\hat{\\beta}_{\\log{prbconv}}$ remain relatively unchanged in model 3 compared to model 2 suggests they are robust to model specification. The magnitude of each changes is greater in comparing model 3 to model 1 (but still no more than 50%)); additionally, model 1 violates the zero conditional mean assumption, so it is unsurprising that they are more biased in this case. In contrast, $\\hat{\\beta}_{\\log{prbpris}}$ changes drastically between all three models and appears to be sensitive to model specification.\n",
    "\n",
    "* $\\log{prbarr}$: We argued above in model 2 that $\\hat{\\beta}_{\\log{prbarr}}$ is of practical significance; this conclusion also holds in model 3, since $\\hat{\\beta}_{\\log{prbarr}}$ is of even greater statistical significance and has the same value. \n",
    "\n",
    "\n",
    "* $\\log{prbconv}$: $\\hat{\\beta}_{\\log{prbconv}}$ is statistically significant in model 3, but its effect is slightly smaller in model 3 (-0.258) than it is in model 2 (-0.321). We argue that this could still represent a practically significant effect, as it implies that a 10% relative increase in convictions is associated with a 2.58% relative reduction in crime rate. \n",
    "\n",
    "\n",
    "* $\\log{prbpris}$: As before, $\\hat{\\beta}_{\\log{prbpris}}$ is not statistically significant, and its value is even closer to zero. These two observations suggest that the probability of incarceration is not associated with crime rate in any meaningful way (i.e., the answer to our research question is no).\n",
    "\n",
    "#### $pctmin80$, $density$, and $wfed$ Are Statistically Significant to at Least the 5% Level\n",
    "\n",
    "* **$pctmin80$:** Holding all other regressors constant, a one unit increase in $pctmin80$ is associated with a 1.2% increase in $crmrte$; given that the median of $pctmin80$ is 24, this represents a substantial increase in $crmrte$. Thus, researchers may need to control for $pctmin80$ if other factors do not absorb its effects, but is of limited use in recommending specific policies. Efforts to alter this quantity (e.g., by evicting minorities) are likely unrealistic to undertake, morally repugnant, and legally dubious.\n",
    "\n",
    "\n",
    "* **$density$:** We previously accounted for $density$ in model 2. Compared to model 2, model 3 captures a slightly steeper rise in $crmrte$ as a function of population density. As with $pctmin80$, researchers may need to control for $density$ if other factors do not absorb its effects, but it is of limited use in the sense that we cannot reasonably recommend policies that test if reducing population density reduces crime in existing areas. However, in the long term, North Carolina might be able to test if changing zoning laws to reduce population density lowers crime rate in new communities.\n",
    "\n",
    "\n",
    "* **$wfed$:** Holding all other regressors constant, every dollar that federal employees earn on a weekly basis is associated with a 0.2% increase in $crmrte$; given that the median of $wfed$ is \\\\$449.8, this represents a substantial increase in $crmrte$. Thus, researchers may need to control for $pctmin80$ if other factors do not absorb its effects; however, we suspect that it is of limited use in recommending specific policies. For example, an increasing federal wage could simply represent greater federal investment in an area (e.g., to decrease poverty or perhaps even crime rate)."
   ]
  },
  {
   "cell_type": "markdown",
   "metadata": {},
   "source": [
    "## (5) Omitted Variable Bias\n",
    "\n",
    "There are many reasons why a person might commit a crime. It could be because that person cannot find a job but still needs to provide for his/her family, has a drug addiction or mental instability, or did not have a good role model growing up. Though it can be difficult to pinpoint the underlying motivation, there are several factors that are not included in the dataset that could influence the inclination of committing a crime and bias our results. \n",
    "\n",
    "We will discuss some of the omitted variables and how it might over or underestimate the relationships between probability of arrest and conviction with crime rate. To do this, we first write the equation for our base model with the omitted variable $omitvar$, as denoted below:\n",
    "\n",
    "$$\n",
    "crmrte = \\beta_0 + \\beta_1 prbarr + \\beta_2 prbconv + \\beta_3 prbpris + \\beta_4 omitvar + u \n",
    "$$\n",
    "\n",
    "We also write the individual regession equations for the omitted variable on each of the regressors of our base model $prbarr$, $prbconv$, and $prbpris$:\n",
    "\n",
    "$$\n",
    "omitvar = \\gamma_{0 \\ prbarr} + \\gamma_{1 \\ prbarr} \\cdot prbarr + w_{prbarr} \\\\\n",
    "omitvar = \\gamma_{0 \\ prbconv} + \\gamma_{1 \\ prbconv} \\cdot prbconv + w_{prbconv} \\\\\n",
    "omitvar = \\gamma_{0 \\ prbpris} + \\gamma_{1 \\ prbpris} \\cdot prbpris + w_{prbpris} \\\\\n",
    "$$\n",
    "\n",
    "For each omitted variable, we identify the signs of $\\beta_1$, $\\beta_2$, $\\beta_3$, $\\beta_4$, and $\\gamma_1$. The direction of bias is determined by multiplying the signs of $\\beta_4$ and $\\gamma_1$. The bias with respect to zero is determined by the signs of the respective slope coefficient $\\beta_1$, $\\beta_2$, or $\\beta_3$ with the direction of bias. A bias towards zero indicates an underestimation of the associated slope coefficient $\\beta_1$, $\\beta_2$, or $\\beta_3$, while a bias away from zero indicates an overestimation."
   ]
  },
  {
   "cell_type": "markdown",
   "metadata": {},
   "source": [
    "All of the omitted variables that we have identified in the section below seem to influence potential bias in similar manner (with the exception of education). The slope coefficients of the probability of arrest and convicitions on crime rate are underestimated, while the slope coefficient of the probability of prison on crime rate is overestimated. This supports our key findings that **there is a real association of probability of arrest and conviction with crime rate, and our estimations for these are conservative**. The **overestimation of the slope coefficient for probability of prison also does not contradict our findings**, as we show that the probability of prison is less associated with crime rate, and that small association that we have estimated may actually be even smaller."
   ]
  },
  {
   "cell_type": "markdown",
   "metadata": {},
   "source": [
    "**Prior convictions**\n",
    "\n",
    "We expect that areas with a high proportion of crimes committed by criminals with prior convictions would also have a higher crime rate. Officers, jurors, and judges may be more inclined to arrest, convict, or give harsher punishment such as a prison sentence when they discover that the crime was comitted by someone with prior convictions.\n",
    "\n",
    "| Regressor | $\\beta_1$ | $\\beta_2$ | $\\beta_3$ | $\\beta_4$ | $\\gamma_1$ | Direction of bias | Bias wrt zero  |\n",
    "| :-------: | :-------: |:---------:|:---------:|:---------:|:----------:| :----------------:|:--------------:|\n",
    "|  prbarr   | negative  |   -       |    -      | positive  |  positive  |      positive     | towards zero   |\n",
    "|  prbconv  |   -       | negative  |    -      | positive  |  positive  |      positive     | towards zero   |\n",
    "|  prbpris  |   -       |   -       | positive  | positive  |  positive  |      positive     | away from zero |"
   ]
  },
  {
   "cell_type": "markdown",
   "metadata": {},
   "source": [
    "**Unemployment**\n",
    "\n",
    "We expect unemployment to be positively correlated with crime rate. As more people in a given population are unemployed, these people may be unable to support themselves and their families. With no income and more time on their hands, these people may be more likely to commit a crime. Similarly, we would expect the probability of arrest, conviction, and prison to also increase in areas with increased unemployment, as officers, jurors, and judges may believe those that are unemployed may have more motive to commit crimes. \n",
    "\n",
    "| Regressor | $\\beta_1$ | $\\beta_2$ | $\\beta_3$ | $\\beta_4$ | $\\gamma_1$ | Direction of bias | Bias wrt zero  |\n",
    "| :-------: | :-------: |:---------:|:---------:|:---------:|:----------:| :----------------:|:--------------:|\n",
    "|  prbarr   | negative  |   -       |    -      | positive  |  positive  |      positive     | towards zero   |\n",
    "|  prbconv  |   -       | negative  |    -      | positive  |  positive  |      positive     | towards zero   |\n",
    "|  prbpris  |   -       |   -       | positive  | positive  |  positive  |      positive     | away from zero |"
   ]
  },
  {
   "cell_type": "markdown",
   "metadata": {},
   "source": [
    "#### Property value\n",
    "\n",
    "We expect the average property value of a county to be negatively correlated with crime rate. The broken windows theory suggests that visible signs of crime or civil disorder encourages further crime and disorder. As the property value decreases, neighborhoods may not prioritize or have the resources to maintain the appearance of their streets, and may foster an increased propensity of crime. We also expect that the probabilities of arrest, conviction, and prison are also negatively correlated with average property value, as criminals may be able to afford or have increased access to better lawyers.\n",
    "\n",
    "| Regressor | $\\beta_1$ | $\\beta_2$ | $\\beta_3$ | $\\beta_4$ | $\\gamma_1$ | Direction of bias | Bias wrt zero  |\n",
    "| :-------: | :-------: |:---------:|:---------:|:---------:|:----------:| :----------------:|:--------------:|\n",
    "|  prbarr   | negative  |   -       |    -      | negative  |  negative  |      positive     | towards zero   |\n",
    "|  prbconv  |   -       | negative  |    -      | negative  |  negative  |      positive     | towards zero   |\n",
    "|  prbpris  |   -       |   -       | positive  | negative  |  negative  |      positive     | away from zero |"
   ]
  },
  {
   "cell_type": "markdown",
   "metadata": {},
   "source": [
    "**Youth programs**\n",
    "\n",
    "We expect youth programs such as Big Brothers Big Sisters and Boys and Girls Club of America to reduce the likelihood of crime rate and the probability of arrests, conviction, and prison. Youths that may grow up in a troubled household or neighborhood may need a good role model which these programs help provide to reduce their inclination to commit crimes when they become adults. \n",
    "\n",
    "| Regressor | $\\beta_1$ | $\\beta_2$ | $\\beta_3$ | $\\beta_4$ | $\\gamma_1$ | Direction of bias | Bias wrt zero  |\n",
    "| :-------: | :-------: |:---------:|:---------:|:---------:|:----------:| :----------------:|:--------------:|\n",
    "|  prbarr   | negative  |   -       |    -      | negative  |  negative  |      positive     | towards zero   |\n",
    "|  prbconv  |   -       | negative  |    -      | negative  |  negative  |      positive     | towards zero   |\n",
    "|  prbpris  |   -       |   -       | positive  | negative  |  negative  |      positive     | away from zero |"
   ]
  },
  {
   "cell_type": "markdown",
   "metadata": {},
   "source": [
    "**Drug use**\n",
    "\n",
    "We expect that areas with increased drug use would have an elevated crime rate. Greater drug use leads to increases in drug-related crimes, including theft. Drug use may influence members of a population to behave irrationally, increasing the likelihood of committing a crime, especially to support a drug addiction. We also expect that areas with increased drug use would have increased probability of arrest, conviction, and prison for that population as using drugs is grounds for arrest, while jurors and judges may have the perception that drug users are more unstable.\n",
    "\n",
    "| Regressor | $\\beta_1$ | $\\beta_2$ | $\\beta_3$ | $\\beta_4$ | $\\gamma_1$ | Direction of bias | Bias wrt zero  |\n",
    "| :-------: | :-------: |:---------:|:---------:|:---------:|:----------:| :----------------:|:--------------:|\n",
    "|  prbarr   | negative  |   -       |    -      | positive  |  positive  |      positive     | towards zero   |\n",
    "|  prbconv  |   -       | negative  |    -      | positive  |  positive  |      positive     | towards zero   |\n",
    "|  prbpris  |   -       |   -       | positive  | positive  |  positive  |      positive     | away from zero |"
   ]
  },
  {
   "cell_type": "markdown",
   "metadata": {},
   "source": [
    "**Education**\n",
    "\n",
    "We expect crime rate to be negatively correlated with education. As the population of the county becomes more educated, they are more likely to understand the consequences of their actions. In addition, they will have more opportunities to pursue, reducing their likelihood to commit a crime. However the direction of association for the probability of arrests, conviction, and prison and education is ambigiuous. On the one hand, we believe that they could be negatively associated. As these counties may have less offenses in general, they would consequently have more time and resources to devote to individual cases, and would be more likely to arrest, convict, or sentence criminal behavior. On the other hand, those that are educated may have a better upbringing or character witnesses, and officers, jurors, and judges may take this into account in their decisions and be less inclined to make an arrest, conviction, or prison sentence. Because we have reasonings with competing directions of associations, and are unsure which effect would be more dominant, we are unable to determine the direction of bias caused by education.\n",
    "\n",
    "| Regressor | $\\beta_1$ | $\\beta_2$ | $\\beta_3$ | $\\beta_4$ | $\\gamma_1$ | Direction of bias | Bias wrt zero  |\n",
    "| :-------: | :-------: |:---------:|:---------:|:---------:|:----------:| :----------------:|:--------------:|\n",
    "|  prbarr   | negative  |   -       |    -      | negative  |  ambiguous |      ambiguous    | ambiguous      |\n",
    "|  prbconv  |   -       | negative  |    -      | negative  |  ambiguous |      ambiguous    | ambiguous      | \n",
    "|  prbpris  |   -       |   -       | positive  | negative  |  ambiguous |      ambiguous    | ambiguous      |    "
   ]
  },
  {
   "cell_type": "markdown",
   "metadata": {},
   "source": [
    "## (6) Conclusions\n",
    "\n",
    "We found that within this dataset, $prbpris$ does not show any meaningful association with $crmrte$ and that the answer to our research question (Are crime rates associated with the probability of being incarcerated?) is no. In contrast, our analysis indicates that increasing probabilities of arrest and conviction (measured by $prbarr$ and $prbconv$, respectively) are associated with lower crime rates, even after controlling for differences in police presence ($polpc$) and population density ($density$) (see model 2). \n",
    "\n",
    "\n",
    "#### We Cannot Claim that Causal Relationships Exist between $crmrte$ and $prbarr$ or $prbconv$ \n",
    "\n",
    "Importantly, we cannot claim that any causal effects exist in these relationships. For example, areas with lower crime rates might simply have higher rates of arrests and convictions because lower crime rates facilitate these effects. Stated another way, other factors (e.g., poverty rates, education) could play a more direct role in reducing crime and may enable higher arrest and conviction rates. \n",
    "\n",
    "\n",
    "#### We Recommend Establishing Pilot Programs to Test the Associations that We Identified (or the Lack Thereof)\n",
    "\n",
    "In light of the fact that we cannot define a causal relationship between any variables in our dataset, we recommend that you establish pilot programs in some counties that attempt to test some of our observations. If retrospective analyses indicate that the programs appear to have reduced crime rates (especially in comparison with similar counties that are not executing a similar pilot), then you can launch these initiatives statewide. We recommend that you campaign on pilot policy prescriptions that are designed to increase arrest rates and/or conviction rates to test if crime rates decrease. Additionally, we recommend implementing programs that test if the probability of prison really is unrelated to crime rate.\n",
    "\n",
    "**Recommendation #1: Process backlogged evidence and invest in new technology to increase arrest rates.** The results of model 2 suggest that larger police forces in and of themselves may be insufficient to reduce crime rates. Consequently, we advocate for creative measures that enable them to act more efficiently. For example, you could advocate increasing funding to process backlogged rape kits to make more arrests. Similarly, you could push to upgrade analytic capabilities to process other types of DNA samples. \n",
    "\n",
    "**Recommendation #2: Invest in professional development to increase conviction rates.** North Carolina could probably add more judges, prosecutors, defense attorneys, and attendant staff to process more cases each year; however, this could be prohibitively expensive. A more viable alternative could revolve around identifying and promulgating best practices (e.g., via mentorship programs) that help judges clear cases from dockets more quickly and prosecutors present cases more effectively. \n",
    "\n",
    "**Recommendation #3: Offer alternatives to prison for offenders.** Our analysis suggested that incarceration rates might not be associated with crime rate; we argue that it is worth exploring if offering cheaper alternatives in lieu of prison (e.g., probation, drug rehabilitation programs, community service, fines) for non-violent offenders has an adverse effect on crime rate. If it does not, then the state could invest the savings to meet other priorities.\n",
    "\n",
    "**Recommendation #4: Fund additional studies to distinguish associations of our regressors with violent crime and non-violent crime rates.** The current dataset lumps all types of crime together. However, different factors might be associated with non-violent (e.g., fraud, burglary, drug use) as compared to violent crimes (e.g., murder, rape, robbery, arson). If we could parse these two categories from one other [and perhaps even by category of offense (e.g., murder, rape, fraud, burglary, specifically)] then we could regress them separately against our dataset to identify novel associations that North Carolina could subsequently test for causal effects as we suggest for crime rates in recommendations 1-3."
   ]
  },
  {
   "cell_type": "markdown",
   "metadata": {},
   "source": [
    "## (7) References\n",
    "\n",
    "1. https://www.ncdps.gov/adult-corrections/cost-of-corrections\n",
    "2. https://www.naacp.org/criminal-justice-fact-sheet/\n",
    "3. https://en.wikipedia.org/wiki/Metropolitan_statistical_area\n",
    "4. https://www.census.gov/population/www/censusdata/density.html"
   ]
  }
 ],
 "metadata": {
  "kernelspec": {
   "display_name": "R",
   "language": "R",
   "name": "ir"
  },
  "language_info": {
   "codemirror_mode": "r",
   "file_extension": ".r",
   "mimetype": "text/x-r-source",
   "name": "R",
   "pygments_lexer": "r",
   "version": "3.5.0"
  }
 },
 "nbformat": 4,
 "nbformat_minor": 2
}
