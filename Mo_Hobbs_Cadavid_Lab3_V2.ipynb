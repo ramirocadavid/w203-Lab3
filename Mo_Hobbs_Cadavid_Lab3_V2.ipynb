{
 "cells": [
  {
   "cell_type": "markdown",
   "metadata": {},
   "source": [
    "# Lab 3 Draft Report: How Are Increasing Incarceration Rates Associated with Crime Rate?\n",
    "\n",
    "Katie Mo, Errett Hobbs, and Ramiro Cadavid"
   ]
  },
  {
   "cell_type": "markdown",
   "metadata": {},
   "source": [
    "## (1) Introduction"
   ]
  },
  {
   "cell_type": "markdown",
   "metadata": {},
   "source": [
    "It's easy for candidates to support the idea of throwing criminals into prison to appear tough on crime; however, do available data support this position? Is incarceration associated with crime rate in North Carolina? If yes, then how so? To investigate these questions, we constructed a model that predicts crime rate ($crmrte$) as a function of the probability of getting arrested ($prbarr$), the probability of becoming convicted after arrest ($prbconv$), and the probability of becoming incarcerated upon conviction ($prbpris$). \n",
    "\n",
    "Incarceration is very costly; if it is not associated with lower crime rates, then the state of North Carolina should explore less costly alternatives. On average, incarceration costs the state of North Carolina \\\\$36,219 per inmate per year, whereas prison alternatives like probation or parole supervision cost less than \\$5,000 per year<sup>1</sup>. The number of people imprisoned in America has increased from roughly 500,000 to over 2.2 million, more than four fold, between 1980 to 2015<sup>2</sup>.  \n",
    "\n",
    "Our analysis indicates that the likelihood of arrests and convictions are both associated with lower crime rate, while the likelihood of incarcerations does not show any strong association. These findings suggest that using the money saved from reduced incarceration of less serious crimes to fund pilot programs to improve criminal justice processing procedures could be beneficial for reducing crime rate in North Carolina."
   ]
  },
  {
   "cell_type": "markdown",
   "metadata": {},
   "source": [
    "## (2) Exploratory Data Analysis"
   ]
  },
  {
   "cell_type": "markdown",
   "metadata": {},
   "source": [
    "### Data cleaning and univariate analysis"
   ]
  },
  {
   "cell_type": "markdown",
   "metadata": {},
   "source": [
    "We analyzed a dataset of crime statistics in North Carolina where all the variables are from 1987, except for percent minority, from 1980. From the 97 rows in the dataset, six were empty and two were duplicated. `probability of conviction` contains a \" \\' \" value which is likely a typing error. We removed duplicated and emmpty observations and recast `probability of conviction` from a factor to a number. Consequently, **our final dataset contained 90 rows (counties) spread across 25 colums (variables)**."
   ]
  },
  {
   "cell_type": "code",
   "execution_count": 1,
   "metadata": {},
   "outputs": [],
   "source": [
    "# Import libraries and dataset\n",
    "suppressMessages(library(stargazer)); suppressMessages(library(dplyr)); suppressMessages(library(corrplot))\n",
    "suppressMessages(library(car)); suppressMessages(library(Hmisc)); suppressMessages(library(fBasics))\n",
    "suppressMessages(library(lmtest)); suppressMessages(library(sandwich)); crime <- read.csv('crime_v2.csv')"
   ]
  },
  {
   "cell_type": "code",
   "execution_count": 22,
   "metadata": {},
   "outputs": [
    {
     "data": {
      "text/html": [
       "'Number of unique counties: 91'"
      ],
      "text/latex": [
       "'Number of unique counties: 91'"
      ],
      "text/markdown": [
       "'Number of unique counties: 91'"
      ],
      "text/plain": [
       "[1] \"Number of unique counties: 91\""
      ]
     },
     "metadata": {},
     "output_type": "display_data"
    },
    {
     "data": {
      "text/html": [
       "<table>\n",
       "<thead><tr><th></th><th scope=col>county</th><th scope=col>year</th><th scope=col>crmrte</th><th scope=col>prbarr</th><th scope=col>prbconv</th><th scope=col>prbpris</th><th scope=col>avgsen</th><th scope=col>polpc</th><th scope=col>density</th><th scope=col>taxpc</th><th scope=col>...</th><th scope=col>wtuc</th><th scope=col>wtrd</th><th scope=col>wfir</th><th scope=col>wser</th><th scope=col>wmfg</th><th scope=col>wfed</th><th scope=col>wsta</th><th scope=col>wloc</th><th scope=col>mix</th><th scope=col>pctymle</th></tr></thead>\n",
       "<tbody>\n",
       "\t<tr><th scope=row>92</th><td>NA </td><td>NA </td><td>NA </td><td>NA </td><td>   </td><td>NA </td><td>NA </td><td>NA </td><td>NA </td><td>NA </td><td>...</td><td>NA </td><td>NA </td><td>NA </td><td>NA </td><td>NA </td><td>NA </td><td>NA </td><td>NA </td><td>NA </td><td>NA </td></tr>\n",
       "\t<tr><th scope=row>93</th><td>NA </td><td>NA </td><td>NA </td><td>NA </td><td>   </td><td>NA </td><td>NA </td><td>NA </td><td>NA </td><td>NA </td><td>...</td><td>NA </td><td>NA </td><td>NA </td><td>NA </td><td>NA </td><td>NA </td><td>NA </td><td>NA </td><td>NA </td><td>NA </td></tr>\n",
       "\t<tr><th scope=row>94</th><td>NA </td><td>NA </td><td>NA </td><td>NA </td><td>   </td><td>NA </td><td>NA </td><td>NA </td><td>NA </td><td>NA </td><td>...</td><td>NA </td><td>NA </td><td>NA </td><td>NA </td><td>NA </td><td>NA </td><td>NA </td><td>NA </td><td>NA </td><td>NA </td></tr>\n",
       "\t<tr><th scope=row>95</th><td>NA </td><td>NA </td><td>NA </td><td>NA </td><td>   </td><td>NA </td><td>NA </td><td>NA </td><td>NA </td><td>NA </td><td>...</td><td>NA </td><td>NA </td><td>NA </td><td>NA </td><td>NA </td><td>NA </td><td>NA </td><td>NA </td><td>NA </td><td>NA </td></tr>\n",
       "\t<tr><th scope=row>96</th><td>NA </td><td>NA </td><td>NA </td><td>NA </td><td>   </td><td>NA </td><td>NA </td><td>NA </td><td>NA </td><td>NA </td><td>...</td><td>NA </td><td>NA </td><td>NA </td><td>NA </td><td>NA </td><td>NA </td><td>NA </td><td>NA </td><td>NA </td><td>NA </td></tr>\n",
       "\t<tr><th scope=row>97</th><td>NA </td><td>NA </td><td>NA </td><td>NA </td><td>`  </td><td>NA </td><td>NA </td><td>NA </td><td>NA </td><td>NA </td><td>...</td><td>NA </td><td>NA </td><td>NA </td><td>NA </td><td>NA </td><td>NA </td><td>NA </td><td>NA </td><td>NA </td><td>NA </td></tr>\n",
       "</tbody>\n",
       "</table>\n"
      ],
      "text/latex": [
       "\\begin{tabular}{r|lllllllllllllllllllllllll}\n",
       "  & county & year & crmrte & prbarr & prbconv & prbpris & avgsen & polpc & density & taxpc & ... & wtuc & wtrd & wfir & wser & wmfg & wfed & wsta & wloc & mix & pctymle\\\\\n",
       "\\hline\n",
       "\t92 & NA  & NA  & NA  & NA  &     & NA  & NA  & NA  & NA  & NA  & ... & NA  & NA  & NA  & NA  & NA  & NA  & NA  & NA  & NA  & NA \\\\\n",
       "\t93 & NA  & NA  & NA  & NA  &     & NA  & NA  & NA  & NA  & NA  & ... & NA  & NA  & NA  & NA  & NA  & NA  & NA  & NA  & NA  & NA \\\\\n",
       "\t94 & NA  & NA  & NA  & NA  &     & NA  & NA  & NA  & NA  & NA  & ... & NA  & NA  & NA  & NA  & NA  & NA  & NA  & NA  & NA  & NA \\\\\n",
       "\t95 & NA  & NA  & NA  & NA  &     & NA  & NA  & NA  & NA  & NA  & ... & NA  & NA  & NA  & NA  & NA  & NA  & NA  & NA  & NA  & NA \\\\\n",
       "\t96 & NA  & NA  & NA  & NA  &     & NA  & NA  & NA  & NA  & NA  & ... & NA  & NA  & NA  & NA  & NA  & NA  & NA  & NA  & NA  & NA \\\\\n",
       "\t97 & NA  & NA  & NA  & NA  & `   & NA  & NA  & NA  & NA  & NA  & ... & NA  & NA  & NA  & NA  & NA  & NA  & NA  & NA  & NA  & NA \\\\\n",
       "\\end{tabular}\n"
      ],
      "text/markdown": [
       "\n",
       "| <!--/--> | county | year | crmrte | prbarr | prbconv | prbpris | avgsen | polpc | density | taxpc | ... | wtuc | wtrd | wfir | wser | wmfg | wfed | wsta | wloc | mix | pctymle | \n",
       "|---|---|---|---|---|---|\n",
       "| 92 | NA  | NA  | NA  | NA  |     | NA  | NA  | NA  | NA  | NA  | ... | NA  | NA  | NA  | NA  | NA  | NA  | NA  | NA  | NA  | NA  | \n",
       "| 93 | NA  | NA  | NA  | NA  |     | NA  | NA  | NA  | NA  | NA  | ... | NA  | NA  | NA  | NA  | NA  | NA  | NA  | NA  | NA  | NA  | \n",
       "| 94 | NA  | NA  | NA  | NA  |     | NA  | NA  | NA  | NA  | NA  | ... | NA  | NA  | NA  | NA  | NA  | NA  | NA  | NA  | NA  | NA  | \n",
       "| 95 | NA  | NA  | NA  | NA  |     | NA  | NA  | NA  | NA  | NA  | ... | NA  | NA  | NA  | NA  | NA  | NA  | NA  | NA  | NA  | NA  | \n",
       "| 96 | NA  | NA  | NA  | NA  |     | NA  | NA  | NA  | NA  | NA  | ... | NA  | NA  | NA  | NA  | NA  | NA  | NA  | NA  | NA  | NA  | \n",
       "| 97 | NA  | NA  | NA  | NA  | `   | NA  | NA  | NA  | NA  | NA  | ... | NA  | NA  | NA  | NA  | NA  | NA  | NA  | NA  | NA  | NA  | \n",
       "\n",
       "\n"
      ],
      "text/plain": [
       "   county year crmrte prbarr prbconv prbpris avgsen polpc density taxpc ...\n",
       "92 NA     NA   NA     NA             NA      NA     NA    NA      NA    ...\n",
       "93 NA     NA   NA     NA             NA      NA     NA    NA      NA    ...\n",
       "94 NA     NA   NA     NA             NA      NA     NA    NA      NA    ...\n",
       "95 NA     NA   NA     NA             NA      NA     NA    NA      NA    ...\n",
       "96 NA     NA   NA     NA             NA      NA     NA    NA      NA    ...\n",
       "97 NA     NA   NA     NA     `       NA      NA     NA    NA      NA    ...\n",
       "   wtuc wtrd wfir wser wmfg wfed wsta wloc mix pctymle\n",
       "92 NA   NA   NA   NA   NA   NA   NA   NA   NA  NA     \n",
       "93 NA   NA   NA   NA   NA   NA   NA   NA   NA  NA     \n",
       "94 NA   NA   NA   NA   NA   NA   NA   NA   NA  NA     \n",
       "95 NA   NA   NA   NA   NA   NA   NA   NA   NA  NA     \n",
       "96 NA   NA   NA   NA   NA   NA   NA   NA   NA  NA     \n",
       "97 NA   NA   NA   NA   NA   NA   NA   NA   NA  NA     "
      ]
     },
     "metadata": {},
     "output_type": "display_data"
    },
    {
     "data": {
      "text/html": [
       "<table>\n",
       "<thead><tr><th></th><th scope=col>county</th><th scope=col>year</th><th scope=col>crmrte</th><th scope=col>prbarr</th><th scope=col>prbconv</th><th scope=col>prbpris</th><th scope=col>avgsen</th><th scope=col>polpc</th><th scope=col>density</th><th scope=col>taxpc</th><th scope=col>...</th><th scope=col>wtuc</th><th scope=col>wtrd</th><th scope=col>wfir</th><th scope=col>wser</th><th scope=col>wmfg</th><th scope=col>wfed</th><th scope=col>wsta</th><th scope=col>wloc</th><th scope=col>mix</th><th scope=col>pctymle</th></tr></thead>\n",
       "<tbody>\n",
       "\t<tr><th scope=row>88</th><td>193        </td><td>87         </td><td>0.0235277  </td><td>0.266055   </td><td>0.588859022</td><td>0.423423   </td><td>5.86       </td><td>0.00117887 </td><td>0.8138298  </td><td>28.51783   </td><td>...        </td><td>480.1948   </td><td>268.3836   </td><td>365.0196   </td><td>295.9352   </td><td>295.63     </td><td>468.26     </td><td>337.88     </td><td>348.74     </td><td>0.1105016  </td><td>0.07819394 </td></tr>\n",
       "\t<tr><th scope=row>89</th><td>193        </td><td>87         </td><td>0.0235277  </td><td>0.266055   </td><td>0.588859022</td><td>0.423423   </td><td>5.86       </td><td>0.00117887 </td><td>0.8138298  </td><td>28.51783   </td><td>...        </td><td>480.1948   </td><td>268.3836   </td><td>365.0196   </td><td>295.9352   </td><td>295.63     </td><td>468.26     </td><td>337.88     </td><td>348.74     </td><td>0.1105016  </td><td>0.07819394 </td></tr>\n",
       "</tbody>\n",
       "</table>\n"
      ],
      "text/latex": [
       "\\begin{tabular}{r|lllllllllllllllllllllllll}\n",
       "  & county & year & crmrte & prbarr & prbconv & prbpris & avgsen & polpc & density & taxpc & ... & wtuc & wtrd & wfir & wser & wmfg & wfed & wsta & wloc & mix & pctymle\\\\\n",
       "\\hline\n",
       "\t88 & 193         & 87          & 0.0235277   & 0.266055    & 0.588859022 & 0.423423    & 5.86        & 0.00117887  & 0.8138298   & 28.51783    & ...         & 480.1948    & 268.3836    & 365.0196    & 295.9352    & 295.63      & 468.26      & 337.88      & 348.74      & 0.1105016   & 0.07819394 \\\\\n",
       "\t89 & 193         & 87          & 0.0235277   & 0.266055    & 0.588859022 & 0.423423    & 5.86        & 0.00117887  & 0.8138298   & 28.51783    & ...         & 480.1948    & 268.3836    & 365.0196    & 295.9352    & 295.63      & 468.26      & 337.88      & 348.74      & 0.1105016   & 0.07819394 \\\\\n",
       "\\end{tabular}\n"
      ],
      "text/markdown": [
       "\n",
       "| <!--/--> | county | year | crmrte | prbarr | prbconv | prbpris | avgsen | polpc | density | taxpc | ... | wtuc | wtrd | wfir | wser | wmfg | wfed | wsta | wloc | mix | pctymle | \n",
       "|---|---|\n",
       "| 88 | 193         | 87          | 0.0235277   | 0.266055    | 0.588859022 | 0.423423    | 5.86        | 0.00117887  | 0.8138298   | 28.51783    | ...         | 480.1948    | 268.3836    | 365.0196    | 295.9352    | 295.63      | 468.26      | 337.88      | 348.74      | 0.1105016   | 0.07819394  | \n",
       "| 89 | 193         | 87          | 0.0235277   | 0.266055    | 0.588859022 | 0.423423    | 5.86        | 0.00117887  | 0.8138298   | 28.51783    | ...         | 480.1948    | 268.3836    | 365.0196    | 295.9352    | 295.63      | 468.26      | 337.88      | 348.74      | 0.1105016   | 0.07819394  | \n",
       "\n",
       "\n"
      ],
      "text/plain": [
       "   county year crmrte    prbarr   prbconv     prbpris  avgsen polpc     \n",
       "88 193    87   0.0235277 0.266055 0.588859022 0.423423 5.86   0.00117887\n",
       "89 193    87   0.0235277 0.266055 0.588859022 0.423423 5.86   0.00117887\n",
       "   density   taxpc    ... wtuc     wtrd     wfir     wser     wmfg   wfed  \n",
       "88 0.8138298 28.51783 ... 480.1948 268.3836 365.0196 295.9352 295.63 468.26\n",
       "89 0.8138298 28.51783 ... 480.1948 268.3836 365.0196 295.9352 295.63 468.26\n",
       "   wsta   wloc   mix       pctymle   \n",
       "88 337.88 348.74 0.1105016 0.07819394\n",
       "89 337.88 348.74 0.1105016 0.07819394"
      ]
     },
     "metadata": {},
     "output_type": "display_data"
    }
   ],
   "source": [
    "# Show number of unique counties\n",
    "paste(\"Number of unique counties:\", length(unique(crime$county)))\n",
    "\n",
    "# Show and remove empty cases\n",
    "crime[!complete.cases(crime), ]\n",
    "clean <- crime[complete.cases(crime), ]\n",
    "\n",
    "# Show and remove duplicate counties\n",
    "subset(clean, subset = clean$county == 193)\n",
    "clean <- clean[!duplicated(clean$county), ]\n",
    "\n",
    "# Remove ` and cast the column to numeric\n",
    "clean$prbconv <- as.numeric(as.character(clean$prbconv))"
   ]
  },
  {
   "cell_type": "code",
   "execution_count": 23,
   "metadata": {},
   "outputs": [
    {
     "data": {
      "text/html": [
       "<table>\n",
       "<thead><tr><th></th><th scope=col>county</th><th scope=col>year</th><th scope=col>crmrte</th><th scope=col>prbarr</th><th scope=col>prbconv</th><th scope=col>prbpris</th><th scope=col>avgsen</th><th scope=col>polpc</th><th scope=col>density</th><th scope=col>taxpc</th><th scope=col>...</th><th scope=col>wtuc</th><th scope=col>wtrd</th><th scope=col>wfir</th><th scope=col>wser</th><th scope=col>wmfg</th><th scope=col>wfed</th><th scope=col>wsta</th><th scope=col>wloc</th><th scope=col>mix</th><th scope=col>pctymle</th></tr></thead>\n",
       "<tbody>\n",
       "\t<tr><th scope=row>NAs</th><td>  0.0    </td><td> 0       </td><td>0.000000 </td><td>0.000000 </td><td>0.000000 </td><td>0.000000 </td><td> 0.000000</td><td>0.000000 </td><td>0.000000 </td><td>  0.00000</td><td>...      </td><td>  0.0000 </td><td>  0.0000 </td><td>  0.0000 </td><td>   0.0000</td><td>  0.0000 </td><td>  0.0000 </td><td>  0.0000 </td><td>  0.0000 </td><td>0.000000 </td><td>0.000000 </td></tr>\n",
       "\t<tr><th scope=row>Minimum</th><td>  1.0    </td><td>87       </td><td>0.005533 </td><td>0.092770 </td><td>0.068376 </td><td>0.150000 </td><td> 5.380000</td><td>0.000746 </td><td>0.000020 </td><td> 25.69287</td><td>...      </td><td>187.6173 </td><td>154.2090 </td><td>170.9402 </td><td> 133.0431</td><td>157.4100 </td><td>326.1000 </td><td>258.3300 </td><td>239.1700 </td><td>0.019608 </td><td>0.062158 </td></tr>\n",
       "\t<tr><th scope=row>1. Quartile</th><td> 51.5    </td><td>87       </td><td>0.020604 </td><td>0.204948 </td><td>0.344217 </td><td>0.364216 </td><td> 7.375000</td><td>0.001238 </td><td>0.547177 </td><td> 30.73462</td><td>...      </td><td>374.3309 </td><td>190.7096 </td><td>285.5604 </td><td> 229.3385</td><td>288.5975 </td><td>398.7850 </td><td>329.2725 </td><td>297.2275 </td><td>0.080597 </td><td>0.074368 </td></tr>\n",
       "\t<tr><th scope=row>Mean</th><td>100.6    </td><td>87       </td><td>0.033510 </td><td>0.295238 </td><td>0.550861 </td><td>0.410626 </td><td> 9.688889</td><td>0.001708 </td><td>1.435670 </td><td> 38.16103</td><td>...      </td><td>410.9065 </td><td>210.9214 </td><td>321.6213 </td><td> 275.3379</td><td>336.0327 </td><td>442.6189 </td><td>357.7402 </td><td>312.2801 </td><td>0.129045 </td><td>0.084026 </td></tr>\n",
       "\t<tr><th scope=row>Median</th><td>103.0    </td><td>87       </td><td>0.030002 </td><td>0.271458 </td><td>0.451698 </td><td>0.422238 </td><td> 9.110000</td><td>0.001490 </td><td>0.979245 </td><td> 34.91612</td><td>...      </td><td>404.7800 </td><td>202.9879 </td><td>317.1257 </td><td> 253.1188</td><td>321.0500 </td><td>448.8550 </td><td>358.4000 </td><td>307.6500 </td><td>0.100950 </td><td>0.077702 </td></tr>\n",
       "\t<tr><th scope=row>3. Quartile</th><td>150.5    </td><td>87       </td><td>0.040249 </td><td>0.344873 </td><td>0.585130 </td><td>0.457556 </td><td>11.465000</td><td>0.001886 </td><td>1.569261 </td><td> 41.01009</td><td>...      </td><td>440.6787 </td><td>224.2824 </td><td>342.6279 </td><td> 277.6500</td><td>359.8950 </td><td>478.2550 </td><td>383.1550 </td><td>328.7750 </td><td>0.152061 </td><td>0.083518 </td></tr>\n",
       "\t<tr><th scope=row>Maximum</th><td>197.0    </td><td>87       </td><td>0.098966 </td><td>1.090910 </td><td>2.121210 </td><td>0.600000 </td><td>20.700001</td><td>0.009054 </td><td>8.827652 </td><td>119.76145</td><td>...      </td><td>613.2261 </td><td>354.6761 </td><td>509.4655 </td><td>2177.0681</td><td>646.8500 </td><td>597.9500 </td><td>499.5900 </td><td>388.0900 </td><td>0.465116 </td><td>0.248712 </td></tr>\n",
       "</tbody>\n",
       "</table>\n"
      ],
      "text/latex": [
       "\\begin{tabular}{r|lllllllllllllllllllllllll}\n",
       "  & county & year & crmrte & prbarr & prbconv & prbpris & avgsen & polpc & density & taxpc & ... & wtuc & wtrd & wfir & wser & wmfg & wfed & wsta & wloc & mix & pctymle\\\\\n",
       "\\hline\n",
       "\tNAs &   0.0     &  0        & 0.000000  & 0.000000  & 0.000000  & 0.000000  &  0.000000 & 0.000000  & 0.000000  &   0.00000 & ...       &   0.0000  &   0.0000  &   0.0000  &    0.0000 &   0.0000  &   0.0000  &   0.0000  &   0.0000  & 0.000000  & 0.000000 \\\\\n",
       "\tMinimum &   1.0     & 87        & 0.005533  & 0.092770  & 0.068376  & 0.150000  &  5.380000 & 0.000746  & 0.000020  &  25.69287 & ...       & 187.6173  & 154.2090  & 170.9402  &  133.0431 & 157.4100  & 326.1000  & 258.3300  & 239.1700  & 0.019608  & 0.062158 \\\\\n",
       "\t1. Quartile &  51.5     & 87        & 0.020604  & 0.204948  & 0.344217  & 0.364216  &  7.375000 & 0.001238  & 0.547177  &  30.73462 & ...       & 374.3309  & 190.7096  & 285.5604  &  229.3385 & 288.5975  & 398.7850  & 329.2725  & 297.2275  & 0.080597  & 0.074368 \\\\\n",
       "\tMean & 100.6     & 87        & 0.033510  & 0.295238  & 0.550861  & 0.410626  &  9.688889 & 0.001708  & 1.435670  &  38.16103 & ...       & 410.9065  & 210.9214  & 321.6213  &  275.3379 & 336.0327  & 442.6189  & 357.7402  & 312.2801  & 0.129045  & 0.084026 \\\\\n",
       "\tMedian & 103.0     & 87        & 0.030002  & 0.271458  & 0.451698  & 0.422238  &  9.110000 & 0.001490  & 0.979245  &  34.91612 & ...       & 404.7800  & 202.9879  & 317.1257  &  253.1188 & 321.0500  & 448.8550  & 358.4000  & 307.6500  & 0.100950  & 0.077702 \\\\\n",
       "\t3. Quartile & 150.5     & 87        & 0.040249  & 0.344873  & 0.585130  & 0.457556  & 11.465000 & 0.001886  & 1.569261  &  41.01009 & ...       & 440.6787  & 224.2824  & 342.6279  &  277.6500 & 359.8950  & 478.2550  & 383.1550  & 328.7750  & 0.152061  & 0.083518 \\\\\n",
       "\tMaximum & 197.0     & 87        & 0.098966  & 1.090910  & 2.121210  & 0.600000  & 20.700001 & 0.009054  & 8.827652  & 119.76145 & ...       & 613.2261  & 354.6761  & 509.4655  & 2177.0681 & 646.8500  & 597.9500  & 499.5900  & 388.0900  & 0.465116  & 0.248712 \\\\\n",
       "\\end{tabular}\n"
      ],
      "text/markdown": [
       "\n",
       "| <!--/--> | county | year | crmrte | prbarr | prbconv | prbpris | avgsen | polpc | density | taxpc | ... | wtuc | wtrd | wfir | wser | wmfg | wfed | wsta | wloc | mix | pctymle | \n",
       "|---|---|---|---|---|---|---|\n",
       "| NAs |   0.0     |  0        | 0.000000  | 0.000000  | 0.000000  | 0.000000  |  0.000000 | 0.000000  | 0.000000  |   0.00000 | ...       |   0.0000  |   0.0000  |   0.0000  |    0.0000 |   0.0000  |   0.0000  |   0.0000  |   0.0000  | 0.000000  | 0.000000  | \n",
       "| Minimum |   1.0     | 87        | 0.005533  | 0.092770  | 0.068376  | 0.150000  |  5.380000 | 0.000746  | 0.000020  |  25.69287 | ...       | 187.6173  | 154.2090  | 170.9402  |  133.0431 | 157.4100  | 326.1000  | 258.3300  | 239.1700  | 0.019608  | 0.062158  | \n",
       "| 1. Quartile |  51.5     | 87        | 0.020604  | 0.204948  | 0.344217  | 0.364216  |  7.375000 | 0.001238  | 0.547177  |  30.73462 | ...       | 374.3309  | 190.7096  | 285.5604  |  229.3385 | 288.5975  | 398.7850  | 329.2725  | 297.2275  | 0.080597  | 0.074368  | \n",
       "| Mean | 100.6     | 87        | 0.033510  | 0.295238  | 0.550861  | 0.410626  |  9.688889 | 0.001708  | 1.435670  |  38.16103 | ...       | 410.9065  | 210.9214  | 321.6213  |  275.3379 | 336.0327  | 442.6189  | 357.7402  | 312.2801  | 0.129045  | 0.084026  | \n",
       "| Median | 103.0     | 87        | 0.030002  | 0.271458  | 0.451698  | 0.422238  |  9.110000 | 0.001490  | 0.979245  |  34.91612 | ...       | 404.7800  | 202.9879  | 317.1257  |  253.1188 | 321.0500  | 448.8550  | 358.4000  | 307.6500  | 0.100950  | 0.077702  | \n",
       "| 3. Quartile | 150.5     | 87        | 0.040249  | 0.344873  | 0.585130  | 0.457556  | 11.465000 | 0.001886  | 1.569261  |  41.01009 | ...       | 440.6787  | 224.2824  | 342.6279  |  277.6500 | 359.8950  | 478.2550  | 383.1550  | 328.7750  | 0.152061  | 0.083518  | \n",
       "| Maximum | 197.0     | 87        | 0.098966  | 1.090910  | 2.121210  | 0.600000  | 20.700001 | 0.009054  | 8.827652  | 119.76145 | ...       | 613.2261  | 354.6761  | 509.4655  | 2177.0681 | 646.8500  | 597.9500  | 499.5900  | 388.0900  | 0.465116  | 0.248712  | \n",
       "\n",
       "\n"
      ],
      "text/plain": [
       "            county year crmrte   prbarr   prbconv  prbpris  avgsen    polpc   \n",
       "NAs           0.0   0   0.000000 0.000000 0.000000 0.000000  0.000000 0.000000\n",
       "Minimum       1.0  87   0.005533 0.092770 0.068376 0.150000  5.380000 0.000746\n",
       "1. Quartile  51.5  87   0.020604 0.204948 0.344217 0.364216  7.375000 0.001238\n",
       "Mean        100.6  87   0.033510 0.295238 0.550861 0.410626  9.688889 0.001708\n",
       "Median      103.0  87   0.030002 0.271458 0.451698 0.422238  9.110000 0.001490\n",
       "3. Quartile 150.5  87   0.040249 0.344873 0.585130 0.457556 11.465000 0.001886\n",
       "Maximum     197.0  87   0.098966 1.090910 2.121210 0.600000 20.700001 0.009054\n",
       "            density  taxpc     ... wtuc     wtrd     wfir     wser     \n",
       "NAs         0.000000   0.00000 ...   0.0000   0.0000   0.0000    0.0000\n",
       "Minimum     0.000020  25.69287 ... 187.6173 154.2090 170.9402  133.0431\n",
       "1. Quartile 0.547177  30.73462 ... 374.3309 190.7096 285.5604  229.3385\n",
       "Mean        1.435670  38.16103 ... 410.9065 210.9214 321.6213  275.3379\n",
       "Median      0.979245  34.91612 ... 404.7800 202.9879 317.1257  253.1188\n",
       "3. Quartile 1.569261  41.01009 ... 440.6787 224.2824 342.6279  277.6500\n",
       "Maximum     8.827652 119.76145 ... 613.2261 354.6761 509.4655 2177.0681\n",
       "            wmfg     wfed     wsta     wloc     mix      pctymle \n",
       "NAs           0.0000   0.0000   0.0000   0.0000 0.000000 0.000000\n",
       "Minimum     157.4100 326.1000 258.3300 239.1700 0.019608 0.062158\n",
       "1. Quartile 288.5975 398.7850 329.2725 297.2275 0.080597 0.074368\n",
       "Mean        336.0327 442.6189 357.7402 312.2801 0.129045 0.084026\n",
       "Median      321.0500 448.8550 358.4000 307.6500 0.100950 0.077702\n",
       "3. Quartile 359.8950 478.2550 383.1550 328.7750 0.152061 0.083518\n",
       "Maximum     646.8500 597.9500 499.5900 388.0900 0.465116 0.248712"
      ]
     },
     "metadata": {},
     "output_type": "display_data"
    }
   ],
   "source": [
    "# Summary statistics of all variables\n",
    "basicStats(clean)[c(2, 3, 5, 7, 8, 6, 4),]"
   ]
  },
  {
   "cell_type": "markdown",
   "metadata": {},
   "source": [
    "A deeper exploration of the variables available revealed possible errors and particular features in the distribution of these variables that should be taken into account in the model's specification to correctly represent the relationships of interest to the campaign."
   ]
  },
  {
   "cell_type": "markdown",
   "metadata": {},
   "source": [
    "#### Variables of interest"
   ]
  },
  {
   "cell_type": "markdown",
   "metadata": {},
   "source": [
    "Throughout the exploratory analysis **we looked at both level and transformed forms of our variables of interest** (crime rate, probability of arrest, probability of conviction and probability of prison). However, throughout the presentations of this and the modeling phases, we will mostly focus on their log-transformed forms because these will be the form entered in the final model, for reasons that will be exposed throughout this report."
   ]
  },
  {
   "cell_type": "markdown",
   "metadata": {},
   "source": [
    "##### Crime rate\n",
    "\n",
    "`crime rate` values are within a reasonable range and there are no concentrations around specific values that would lead us to suspect measurement errors. Furthermore, the **log-transformation** doesn't increase the spread significantly, even for values that are close to zero, and results in a distribution that is **less skewed** than its original form; these, and the close relationship between the distribution of the errors and of the dependent variable, are some of the reasons to recommend including the log-transformed version of this variable in the final model."
   ]
  },
  {
   "cell_type": "code",
   "execution_count": 24,
   "metadata": {},
   "outputs": [
    {
     "data": {
      "text/plain": [
       "    Min.  1st Qu.   Median     Mean  3rd Qu.     Max. \n",
       "0.005533 0.020604 0.030002 0.033510 0.040249 0.098966 "
      ]
     },
     "metadata": {},
     "output_type": "display_data"
    },
    {
     "data": {
      "text/plain": [
       "   Min. 1st Qu.  Median    Mean 3rd Qu.    Max. \n",
       " -5.197  -3.883  -3.506  -3.542  -3.213  -2.313 "
      ]
     },
     "metadata": {},
     "output_type": "display_data"
    },
    {
     "data": {
      "text/html": [
       "'Repeated values: 0'"
      ],
      "text/latex": [
       "'Repeated values: 0'"
      ],
      "text/markdown": [
       "'Repeated values: 0'"
      ],
      "text/plain": [
       "[1] \"Repeated values: 0\""
      ]
     },
     "metadata": {},
     "output_type": "display_data"
    },
    {
     "data": {
      "image/png": "[encoded data removed]",
      "text/plain": [
       "Plot with title \"Histogram - log(Crime Rate)\""
      ]
     },
     "metadata": {},
     "output_type": "display_data"
    }
   ],
   "source": [
    "# Summary statistics of crime rate\n",
    "\n",
    "summary(clean$crmrte)\n",
    "summary(log(clean$crmrte))\n",
    "\n",
    "# Check for concentration of observations around certain values\n",
    "\n",
    "freqs.crmrte <- data.frame(table(clean$crmrte))\n",
    "paste(\"Repeated values:\", \n",
    "      length(freqs.crmrte$Freq[freqs.crmrte$Freq > 1]))\n",
    "\n",
    "# Histograms of crime rate and log(crime rate)\n",
    "\n",
    "par(mfrow = c(1, 2), cex.main = 0.8, cex.lab = 0.8, cex.axis = 0.8)\n",
    "options(repr.plot.width=7, repr.plot.height=4)\n",
    "hist(clean$crmrte, main = \"Histogram - Crime Rate\", col = rgb(0.4, 0.4, 0.4, 0.6), ylim = c(0, 30), xlab = \"Crimes per person\",\n",
    "     breaks = sqrt(nrow(clean)))\n",
    "hist(log(clean$crmrte), main = \"Histogram - log(Crime Rate)\", col = rgb(0.4, 0.4, 0.4, 0.6), ylim = c(0, 30), \n",
    "     xlab = \"log(Crimes per person)\", breaks = sqrt(nrow(clean)))"
   ]
  },
  {
   "cell_type": "markdown",
   "metadata": {},
   "source": [
    "##### Probability of arrest\n",
    "\n",
    "`probability of arrest` has **one value larger than 1. This is atypical but we cannot be sure that it is an error** since we don't have enough information about how this variable is defined. For example, if `probability of arrest` is defined as $(\\text{arrests_in_period_t} / \\text{crimes_in_period_t})$, values larger than 1 are possible since arrests in period t correspond both to crimes committed in period $t$ but also in $t-i, \\forall i = 1, 2, ...$. The **log-transformation** is also within a reasonable range and returns a variable that is **less skewed**."
   ]
  },
  {
   "cell_type": "code",
   "execution_count": 25,
   "metadata": {},
   "outputs": [
    {
     "data": {
      "text/html": [
       "<table>\n",
       "<thead><tr><th></th><th scope=col>county</th><th scope=col>year</th><th scope=col>crmrte</th><th scope=col>prbarr</th><th scope=col>prbconv</th><th scope=col>prbpris</th><th scope=col>avgsen</th><th scope=col>polpc</th><th scope=col>density</th><th scope=col>taxpc</th><th scope=col>...</th><th scope=col>wtuc</th><th scope=col>wtrd</th><th scope=col>wfir</th><th scope=col>wser</th><th scope=col>wmfg</th><th scope=col>wfed</th><th scope=col>wsta</th><th scope=col>wloc</th><th scope=col>mix</th><th scope=col>pctymle</th></tr></thead>\n",
       "<tbody>\n",
       "\t<tr><th scope=row>51</th><td>115       </td><td>87        </td><td>0.0055332 </td><td>1.09091   </td><td>1.5       </td><td>0.5       </td><td>20.7      </td><td>0.00905433</td><td>0.3858093 </td><td>28.1931   </td><td>...       </td><td>503.2351  </td><td>217.4908  </td><td>342.4658  </td><td>245.2061  </td><td>448.42    </td><td>442.2     </td><td>340.39    </td><td>386.12    </td><td>0.1       </td><td>0.07253495</td></tr>\n",
       "</tbody>\n",
       "</table>\n"
      ],
      "text/latex": [
       "\\begin{tabular}{r|lllllllllllllllllllllllll}\n",
       "  & county & year & crmrte & prbarr & prbconv & prbpris & avgsen & polpc & density & taxpc & ... & wtuc & wtrd & wfir & wser & wmfg & wfed & wsta & wloc & mix & pctymle\\\\\n",
       "\\hline\n",
       "\t51 & 115        & 87         & 0.0055332  & 1.09091    & 1.5        & 0.5        & 20.7       & 0.00905433 & 0.3858093  & 28.1931    & ...        & 503.2351   & 217.4908   & 342.4658   & 245.2061   & 448.42     & 442.2      & 340.39     & 386.12     & 0.1        & 0.07253495\\\\\n",
       "\\end{tabular}\n"
      ],
      "text/markdown": [
       "\n",
       "| <!--/--> | county | year | crmrte | prbarr | prbconv | prbpris | avgsen | polpc | density | taxpc | ... | wtuc | wtrd | wfir | wser | wmfg | wfed | wsta | wloc | mix | pctymle | \n",
       "|---|\n",
       "| 51 | 115        | 87         | 0.0055332  | 1.09091    | 1.5        | 0.5        | 20.7       | 0.00905433 | 0.3858093  | 28.1931    | ...        | 503.2351   | 217.4908   | 342.4658   | 245.2061   | 448.42     | 442.2      | 340.39     | 386.12     | 0.1        | 0.07253495 | \n",
       "\n",
       "\n"
      ],
      "text/plain": [
       "   county year crmrte    prbarr  prbconv prbpris avgsen polpc      density  \n",
       "51 115    87   0.0055332 1.09091 1.5     0.5     20.7   0.00905433 0.3858093\n",
       "   taxpc   ... wtuc     wtrd     wfir     wser     wmfg   wfed  wsta   wloc  \n",
       "51 28.1931 ... 503.2351 217.4908 342.4658 245.2061 448.42 442.2 340.39 386.12\n",
       "   mix pctymle   \n",
       "51 0.1 0.07253495"
      ]
     },
     "metadata": {},
     "output_type": "display_data"
    }
   ],
   "source": [
    "# Observations larger than 1\n",
    "clean[clean$prbarr > 1, ]"
   ]
  },
  {
   "cell_type": "code",
   "execution_count": 30,
   "metadata": {},
   "outputs": [
    {
     "data": {
      "text/plain": [
       "   Min. 1st Qu.  Median    Mean 3rd Qu.    Max. \n",
       "0.09277 0.20495 0.27146 0.29524 0.34487 1.09091 "
      ]
     },
     "metadata": {},
     "output_type": "display_data"
    },
    {
     "data": {
      "text/plain": [
       "    Min.  1st Qu.   Median     Mean  3rd Qu.     Max. \n",
       "-2.37763 -1.58502 -1.30395 -1.30438 -1.06458  0.08701 "
      ]
     },
     "metadata": {},
     "output_type": "display_data"
    },
    {
     "data": {
      "image/png": "[encoded data removed]",
      "text/plain": [
       "Plot with title \"log(Probability of Arrest))\""
      ]
     },
     "metadata": {},
     "output_type": "display_data"
    }
   ],
   "source": [
    "# Summary statistics of probability of arrest\n",
    "\n",
    "summary(clean$prbarr)\n",
    "summary(log(clean$prbarr))\n",
    "\n",
    "# Histograms of probability of arrest and log(probability of arrest)\n",
    "\n",
    "par(mfrow = c(1, 2), cex.main = 0.8, cex.lab = 0.8, cex.axis = 0.8)\n",
    "hist(clean$prbarr, main = \"Histogram - Probability of Arrest\", xlab = \"Probality of arrest\", \n",
    "     breaks = 10, ylim = c(0, 40), col = rgb(0.5, 0.5, 0.5, 0.3))\n",
    "hist(log(clean$prbarr), main = \"log(Probability of Arrest))\", xlab = \"log(Probality of arrest)\", \n",
    "     breaks = 10, ylim = c(0, 40), col = rgb(0.5, 0.5, 0.5, 0.3))"
   ]
  },
  {
   "cell_type": "markdown",
   "metadata": {},
   "source": [
    "##### Probability of conviction\n",
    "\n",
    "**There are 10 observations with values larger than 1 and one of them with a value higher than 2**. Despite these values being unusually high they are possible for the same reasons exposed in the case of `prbarr`. Furthermore, in the case of `prbconv`, the lag between the arrest and the end of a trial could be even longer than the lag between crimmes and arrests. Therefore, since we don't have additional information on the definition used to build this variable and no way to validate which specific definition was used using numerical methods, **we will keep these 10 values**.\n",
    "\n",
    "The **log-form** of this variable doesn't result in a noticeably larger spread and it is much momre symmetric than its original form. Then, it is a good **candidate to be included in the regression model**."
   ]
  },
  {
   "cell_type": "code",
   "execution_count": 27,
   "metadata": {},
   "outputs": [
    {
     "data": {
      "text/html": [
       "'Summary statistics - Probability of conviction'"
      ],
      "text/latex": [
       "'Summary statistics - Probability of conviction'"
      ],
      "text/markdown": [
       "'Summary statistics - Probability of conviction'"
      ],
      "text/plain": [
       "[1] \"Summary statistics - Probability of conviction\""
      ]
     },
     "metadata": {},
     "output_type": "display_data"
    },
    {
     "data": {
      "text/plain": [
       "   Min. 1st Qu.  Median    Mean 3rd Qu.    Max. \n",
       "0.06838 0.34422 0.45170 0.55086 0.58513 2.12121 "
      ]
     },
     "metadata": {},
     "output_type": "display_data"
    },
    {
     "data": {
      "text/html": [
       "'Number of observations higher than 1: 10'"
      ],
      "text/latex": [
       "'Number of observations higher than 1: 10'"
      ],
      "text/markdown": [
       "'Number of observations higher than 1: 10'"
      ],
      "text/plain": [
       "[1] \"Number of observations higher than 1: 10\""
      ]
     },
     "metadata": {},
     "output_type": "display_data"
    }
   ],
   "source": [
    "# Values above 1\n",
    "paste(\"Summary statistics - Probability of conviction\")\n",
    "summary(clean$prbconv)\n",
    "paste(\"Number of observations higher than 1:\", length(clean$prbconv[clean$prbconv > 1]))"
   ]
  },
  {
   "cell_type": "code",
   "execution_count": 31,
   "metadata": {},
   "outputs": [
    {
     "data": {
      "image/png": "[encoded data removed]",
      "text/plain": [
       "Plot with title \"log(Probability of Conviction)\""
      ]
     },
     "metadata": {},
     "output_type": "display_data"
    }
   ],
   "source": [
    "# Histograms of probability of conviction and log(probability of conviction)\n",
    "\n",
    "par(mfrow = c(1, 2), cex.main = 0.8, cex.lab = 0.8, cex.axis = 0.8)\n",
    "hist(clean$prbconv, main = \"Histogram - Probability of Conviction\", xlab = \"Probality of conviction\",\n",
    "     breaks = 15, ylim = c(0, 25), col = rgb(0.5, 0.5, 0.5, 0.5))\n",
    "hist(log(clean$prbconv), main = \"log(Probability of Conviction)\", xlab = \"log(Probality of conviction)\",\n",
    "     breaks = 15, ylim = c(0, 25), col = rgb(0.5, 0.5, 0.5, 0.5))"
   ]
  },
  {
   "cell_type": "markdown",
   "metadata": {},
   "source": [
    "##### Probability of prison\n",
    "\n",
    "Probability of prison **spreads over a reasonable range and does not seem to have unusually high concentrations around certain values** that would lead us to suspect measurement errors. Furthermore, the distribution of this variable is symmetric both in its original and log-transformed forms. It is interesting that, unlike probability of arrest and conviction, this variable does not have values larger than -or close to- 1, which further supports our suspicion that the numerator and denominator of the proabilibity variables comprise different periods, given the relatively larger lag between the time a crime is commited and an arrest is made, for example, and the smaller lag between the time a conviction is made and the sentence is delivered, where misdemeanor cases are usually sentenced immediately and felony cases in days to weeks."
   ]
  },
  {
   "cell_type": "code",
   "execution_count": 33,
   "metadata": {},
   "outputs": [
    {
     "data": {
      "text/plain": [
       "   Min. 1st Qu.  Median    Mean 3rd Qu.    Max. \n",
       " 0.1500  0.3642  0.4222  0.4106  0.4576  0.6000 "
      ]
     },
     "metadata": {},
     "output_type": "display_data"
    },
    {
     "data": {
      "text/plain": [
       "   Min. 1st Qu.  Median    Mean 3rd Qu.    Max. \n",
       "-1.8971 -1.0100 -0.8622 -0.9122 -0.7819 -0.5108 "
      ]
     },
     "metadata": {},
     "output_type": "display_data"
    },
    {
     "data": {
      "image/png": "[encoded data removed]",
      "text/plain": [
       "Plot with title \"log(Probability of Prison)\""
      ]
     },
     "metadata": {},
     "output_type": "display_data"
    }
   ],
   "source": [
    "# Summary statistics of probability of prison and log(probability of prison)\n",
    "\n",
    "summary(clean$prbpris)\n",
    "summary(log(clean$prbpris))\n",
    "\n",
    "# Histograms of probability of prison and log(probability of prison)\n",
    "\n",
    "par(mfrow = c(1, 2), cex.main = 0.8, cex.lab = 0.8, cex.axis = 0.8)\n",
    "hist(clean$prbpris, main = \"Histogram - Probability of Prison\", xlab = \"Probality of prison\",\n",
    "     breaks = 15, ylim = c(0, 30), col = rgb(0.5, 0.5, 0.5, 0.5))\n",
    "hist(log(clean$prbpris), main = \"log(Probability of Prison)\", xlab = \"log(Probality of prison)\",\n",
    "     breaks = 15, ylim = c(0, 30), col = rgb(0.5, 0.5, 0.5, 0.5))"
   ]
  },
  {
   "cell_type": "markdown",
   "metadata": {},
   "source": [
    "#### Other variables"
   ]
  },
  {
   "cell_type": "code",
   "execution_count": 34,
   "metadata": {
    "scrolled": true
   },
   "outputs": [
    {
     "data": {
      "text/html": [
       "<table>\n",
       "<thead><tr><th></th><th scope=col>density</th><th scope=col>avgsen</th><th scope=col>west</th><th scope=col>central</th><th scope=col>urban</th><th scope=col>mix</th></tr></thead>\n",
       "<tbody>\n",
       "\t<tr><th scope=row>NAs</th><td>0.000000 </td><td> 0.000000</td><td>0.000000 </td><td>0.000000 </td><td>0.000000 </td><td>0.000000 </td></tr>\n",
       "\t<tr><th scope=row>Minimum</th><td>0.000020 </td><td> 5.380000</td><td>0.000000 </td><td>0.000000 </td><td>0.000000 </td><td>0.019608 </td></tr>\n",
       "\t<tr><th scope=row>1. Quartile</th><td>0.547177 </td><td> 7.375000</td><td>0.000000 </td><td>0.000000 </td><td>0.000000 </td><td>0.080597 </td></tr>\n",
       "\t<tr><th scope=row>Mean</th><td>1.435670 </td><td> 9.688889</td><td>0.244444 </td><td>0.377778 </td><td>0.088889 </td><td>0.129045 </td></tr>\n",
       "\t<tr><th scope=row>Median</th><td>0.979245 </td><td> 9.110000</td><td>0.000000 </td><td>0.000000 </td><td>0.000000 </td><td>0.100950 </td></tr>\n",
       "\t<tr><th scope=row>3. Quartile</th><td>1.569261 </td><td>11.465000</td><td>0.000000 </td><td>1.000000 </td><td>0.000000 </td><td>0.152061 </td></tr>\n",
       "\t<tr><th scope=row>Maximum</th><td>8.827652 </td><td>20.700001</td><td>1.000000 </td><td>1.000000 </td><td>1.000000 </td><td>0.465116 </td></tr>\n",
       "</tbody>\n",
       "</table>\n"
      ],
      "text/latex": [
       "\\begin{tabular}{r|llllll}\n",
       "  & density & avgsen & west & central & urban & mix\\\\\n",
       "\\hline\n",
       "\tNAs & 0.000000  &  0.000000 & 0.000000  & 0.000000  & 0.000000  & 0.000000 \\\\\n",
       "\tMinimum & 0.000020  &  5.380000 & 0.000000  & 0.000000  & 0.000000  & 0.019608 \\\\\n",
       "\t1. Quartile & 0.547177  &  7.375000 & 0.000000  & 0.000000  & 0.000000  & 0.080597 \\\\\n",
       "\tMean & 1.435670  &  9.688889 & 0.244444  & 0.377778  & 0.088889  & 0.129045 \\\\\n",
       "\tMedian & 0.979245  &  9.110000 & 0.000000  & 0.000000  & 0.000000  & 0.100950 \\\\\n",
       "\t3. Quartile & 1.569261  & 11.465000 & 0.000000  & 1.000000  & 0.000000  & 0.152061 \\\\\n",
       "\tMaximum & 8.827652  & 20.700001 & 1.000000  & 1.000000  & 1.000000  & 0.465116 \\\\\n",
       "\\end{tabular}\n"
      ],
      "text/markdown": [
       "\n",
       "| <!--/--> | density | avgsen | west | central | urban | mix | \n",
       "|---|---|---|---|---|---|---|\n",
       "| NAs | 0.000000  |  0.000000 | 0.000000  | 0.000000  | 0.000000  | 0.000000  | \n",
       "| Minimum | 0.000020  |  5.380000 | 0.000000  | 0.000000  | 0.000000  | 0.019608  | \n",
       "| 1. Quartile | 0.547177  |  7.375000 | 0.000000  | 0.000000  | 0.000000  | 0.080597  | \n",
       "| Mean | 1.435670  |  9.688889 | 0.244444  | 0.377778  | 0.088889  | 0.129045  | \n",
       "| Median | 0.979245  |  9.110000 | 0.000000  | 0.000000  | 0.000000  | 0.100950  | \n",
       "| 3. Quartile | 1.569261  | 11.465000 | 0.000000  | 1.000000  | 0.000000  | 0.152061  | \n",
       "| Maximum | 8.827652  | 20.700001 | 1.000000  | 1.000000  | 1.000000  | 0.465116  | \n",
       "\n",
       "\n"
      ],
      "text/plain": [
       "            density  avgsen    west     central  urban    mix     \n",
       "NAs         0.000000  0.000000 0.000000 0.000000 0.000000 0.000000\n",
       "Minimum     0.000020  5.380000 0.000000 0.000000 0.000000 0.019608\n",
       "1. Quartile 0.547177  7.375000 0.000000 0.000000 0.000000 0.080597\n",
       "Mean        1.435670  9.688889 0.244444 0.377778 0.088889 0.129045\n",
       "Median      0.979245  9.110000 0.000000 0.000000 0.000000 0.100950\n",
       "3. Quartile 1.569261 11.465000 0.000000 1.000000 0.000000 0.152061\n",
       "Maximum     8.827652 20.700001 1.000000 1.000000 1.000000 0.465116"
      ]
     },
     "metadata": {},
     "output_type": "display_data"
    }
   ],
   "source": [
    "basicStats(clean[,  c(\"density\", \"avgsen\", \"west\", \"central\", \"urban\", \"mix\")])[c(2, 3, 5, 7, 8, 6, 4),]"
   ]
  },
  {
   "cell_type": "markdown",
   "metadata": {},
   "source": [
    "Further exploration of the remaining variables, yielded the following findings that are important to take into account in the model building process.\n",
    "\n",
    "- The **values of `density` are unusually small**. Given that the density of North Carolina between 1980 and 1990 ranged from 120.9 to 136.4 [(US Census, 2018)](https://www.census.gov/population/www/censusdata/density.html) and that our sample contains 90% of counties, some of which are categorized as urban, a density of less than 1.6 for 75% of observations and a maximum density of 8.8 seems to be unusually low. It could be the case that this variable was rescaled; however, we cannot validate this using our dataset and this wouldn't have an impact in the $R^2$ or significance of the estimated coefficient. Then, we will not remove any observations.\n",
    "\n",
    "\n",
    "- The **values of average sentence are also very small**, ranging from 5.3 to 20.7 days, with a mean of 9.7 days. This may indicate that the average is taken over all convictions, including those with no prison sentences, which is problematic for our purposes because (a) `avgsen` will have a high collinearity with `prbpris` and (b) the average sentence will be mainly driven by the no prison values and will not provide useful information on the sentences that result in prison. However, this is not necessarily evidence of measurement errors and we will not make any changes to this variable.\n",
    "\n",
    "\n",
    "- The **definition of regional variables, `west` and `central` is ambiguous**. We are unclear as to how `west` and `central` are each defined; we also do not know if they are exhaustive of all counties and mutually exclusive, since there are observations with a value of 1 in both and neither of these variables. Given these ambiguities and the regional effects that `density` may already capture, we will not include this variable in our subsequent analysis.\n",
    "\n",
    "\n",
    "- **`urban` is defined according to the standard metropolitan statistical area (SMSA) classification, wich is ambiguous** for our purposes, given that \"such regions are neither legally incorporated as a city or town would be, nor are they legal administrative divisions like counties or separate entities such as states; because of this, the precise definition of any given metropolitan area can vary with the source\" [source](https://en.wikipedia.org/wiki/Metropolitan_statistical_area). Therefore, incorporating this variable into our model would not provide meaningful information. Furthermore, the effects captured by this variable are also likely captured by **`density`, which is a better candidate** to include in our model.\n",
    "\n",
    "\n",
    "- **`mix`is also ambiguously defined** since it is not clear what face-to-face offences mean and it is also not clear how some of the plausible interpretations of this variable could be of interest to solve our research question.\n",
    "\n",
    "Upon inspecting **other variables individually, we didn't find evidence of errors or other specially relevant features** that needed to be taken into account into the regression model. The values of these variables were within reasonable ranges, there were no missing values and there were not unusually high concentrations of observations around certain values. Therefore, all the other variables that were not mentioned will be out of the scope of our analysis."
   ]
  },
  {
   "cell_type": "markdown",
   "metadata": {},
   "source": [
    "### Bivariate analysis"
   ]
  },
  {
   "cell_type": "markdown",
   "metadata": {},
   "source": [
    "Once we have finished exploring the variables in the dataset individually, and the main features that need to be taken into account for building the model that will help us answering the campaign's research question, we explored how the variables of interest relate to each other, mainly, how our variables of interest relate to `crime rate` and to other predictors of `crime rate` that may improve the model by reducing bias of the estimators and increasing their efficiency."
   ]
  },
  {
   "cell_type": "markdown",
   "metadata": {},
   "source": [
    "#### Variables of interest"
   ]
  },
  {
   "cell_type": "markdown",
   "metadata": {},
   "source": [
    "An initial exploration of the relationship between `crime rate` and `log(crime rate)` and our variables of interest (probability of arrest, probability of conviction, probability of prison and average sentence) indicates a **relationship that is similar for both crime rate and its logarithmic form**. Specifically, there seems to be a negative relationship with probability of arrest and probability of conviction but not a clear relationship with probability of prison. However, the scatter plot for the log transformed variables seems to show a more linear relationship than the scatterplot of the level variables.\n",
    "\n",
    "To further explore the strength of the relationships hinted at by the scatterplots, we performed correlation analysis. Even though we **validated both the original and log-transformed** forms of our variables of interest, **we focus our presentation on the log transformed** form of these variables because these are the forms included in the regression model for the reasons exposed throughout this report (mainly because of interpretability, symmetry and compliance with the classic linear model assumptions)."
   ]
  },
  {
   "cell_type": "code",
   "execution_count": 35,
   "metadata": {},
   "outputs": [
    {
     "data": {
      "image/png": "[encoded data removed]",
      "text/plain": [
       "plot without title"
      ]
     },
     "metadata": {},
     "output_type": "display_data"
    }
   ],
   "source": [
    "# Variables of interest\n",
    "\n",
    "vars.interest <- c(\"log.crmrte\", \"log.prbarr\", \"log.prbconv\",\"log.prbpris\")\n",
    "\n",
    "# Log transformations\n",
    "\n",
    "clean$log.crmrte <- log(clean$crmrte)\n",
    "clean$log.prbarr <- log(clean$prbarr)\n",
    "clean$log.prbconv <- log(clean$prbconv)\n",
    "clean$log.prbpris <- log(clean$prbpris)\n",
    "clean$density2 <- clean$density^2\n",
    "clean$log.polpc <- log(clean$polpc)\n",
    "clean$log.taxpc <- log(clean$taxpc)\n",
    "\n",
    "# Scatterplots and simple linear regression of variables of interest in level and log-form, vs log.crmrte\n",
    "\n",
    "options(repr.plot.width=7, repr.plot.height=4.5)\n",
    "par(mfrow = c(2, 3), cex.main = 0.8, cex.lab = 0.8, cex.axis = 0.8)\n",
    "plot(clean$prbarr, clean$log.crmrte, ylab = \"log(crime rate)\", xlab=\"Prob. arrest\"); abline(lm(clean$log.crmrte ~ clean$prbarr))\n",
    "plot(clean$prbconv, clean$log.crmrte, ylab = \"log(crime rate)\", xlab=\"Prob. conviction\"); abline(lm(clean$log.crmrte ~ clean$prbconv))\n",
    "plot(clean$prbpris, clean$log.crmrte, ylab = \"log(crime rate)\", xlab=\"Prob. prison\"); abline(lm(clean$log.crmrte ~ clean$prbpris))\n",
    "plot(clean$log.prbarr, clean$log.crmrte, ylab = \"log(crime rate)\", xlab=\"log(Prob. arrest)\"); abline(lm(clean$log.crmrte ~ clean$log.prbarr))\n",
    "plot(clean$log.prbconv, clean$log.crmrte, ylab = \"log(crime rate)\", xlab=\"log(Prob. conviction)\"); abline(lm(clean$log.crmrte ~ clean$log.prbconv))\n",
    "plot(clean$log.prbpris, clean$log.crmrte, ylab = \"log(crime rate)\", xlab=\"log(Prob. prison)\"); abline(lm(clean$log.crmrte ~ clean$log.prbpris))"
   ]
  },
  {
   "cell_type": "markdown",
   "metadata": {},
   "source": [
    "Analysis of correlations confirms that **probability of arrest and probability of conviction (both in their original and log-transformed forms) are negatively correlated with both crime rate and its logarithmic transformation**, and also confirms that there is no correlation between these two variables and probability of prison and average sentence. For all variables of interest (probability of arrest, probability of conviction and probability of arrest) **the linear relationship measured by the correlation coefficient is higher when `crime rate` is log-transformed**. Therefore, we should test both forms of this variable when building our model taking this into account (but also how the two forms of this variable affect the interpretability of results and how they affect the model assumptions).\n",
    "\n",
    "The log form of our independent variables of interest has a similar correlation correlation with `crime rate` than their level form. However, it is still important to consider this transformation when defining our population model because they could improve the model's interpretability and assumptions."
   ]
  },
  {
   "cell_type": "code",
   "execution_count": 36,
   "metadata": {},
   "outputs": [
    {
     "data": {
      "image/png": "[encoded data removed]",
      "text/plain": [
       "Plot with title \"Correlations - Variables of interest\""
      ]
     },
     "metadata": {},
     "output_type": "display_data"
    }
   ],
   "source": [
    "# Compute correlations\n",
    "\n",
    "crime.corrs <- cor(select(clean, vars.interest))\n",
    "\n",
    "# Plot correlations\n",
    "\n",
    "options(repr.plot.width=3.8, repr.plot.height=4)\n",
    "corrplot(crime.corrs, method = 'square',  order = 'original', diag = FALSE, addCoef.col = T, \n",
    "         tl.col = 'black', tl.cex = 0.7, addCoefasPercent = T, number.cex = 0.7)\n",
    "title(\"Correlations - Variables of interest\", cex.main = 0.8, line = 3)\n",
    "suppressMessages(require(grid))\n",
    "grid.text(label= \"Correlation coefficients multiplied by 100\" , x = unit(1,\"npc\") - unit(2, \"mm\"),\n",
    "          y = unit(1.5, \"cm\"), just=c(\"right\", \"bottom\"), gp=gpar(cex= 0.5))"
   ]
  },
  {
   "cell_type": "markdown",
   "metadata": {},
   "source": [
    "#### Control variables"
   ]
  },
  {
   "cell_type": "markdown",
   "metadata": {},
   "source": [
    "After exploring bivariate relationships between our variables of interest, our main objective is to find variables that either confound the effect of our independent variables of interest on `crime rate` or that can increase the model's fit, reducing the variance of the model's error and of the coefficients of interest. To find which variables can be used as controls in our model, we did an initial exploratory analysis using a scatterplot matrix (not shown in this document due to space constraints) to find which of the candidate variables seemed to be related to `crime rate` or its logarithmic transformation. \n",
    "\n",
    "Upon inspecting the scatterplot matrix, we found that **log of police per capita, tax per capita and density seem to have a clear relationship with `crime rate` and its logarithmic transformations**. The correlation matrix included below shows that `log.polpc`, `density`, and `density2` are correlated with both `crime rate` and its logarithmic transformation and thus should be included in our estimated model. Furthermore, density is both correlated with `crime rate` and `log.prbarr`, which indicates that it may be a possible confounding variable and should also be included in our estimated model to reduce the bias of the estimator of the coefficient of `log.prbarr`."
   ]
  },
  {
   "cell_type": "code",
   "execution_count": 37,
   "metadata": {},
   "outputs": [
    {
     "data": {
      "image/png": "[encoded data removed]",
      "text/plain": [
       "Plot with title \"Correlations - Control variables\""
      ]
     },
     "metadata": {},
     "output_type": "display_data"
    }
   ],
   "source": [
    "# Possible control variables\n",
    "\n",
    "vars.control <- c('polpc', 'log.polpc', 'density', 'density2', 'taxpc', 'log.taxpc')\n",
    "\n",
    "# Plot correlation coefficients\n",
    "\n",
    "corrs.control <- cor(clean[, c(vars.interest, vars.control)], use = 'complete.obs')[1:4, 5:10]\n",
    "options(repr.plot.width=5, repr.plot.height=3.7)\n",
    "par(oma = c(0,0,0,4))\n",
    "corrplot(corrs.control, method = 'square',  order = 'original', diag = T, addCoef.col = T,\n",
    "         tl.col = 'black', tl.cex = 0.8, addCoefasPercent = T, number.cex = 0.6)\n",
    "title(\"Correlations - Control variables\", cex.main = 0.8)\n",
    "grid.text(label= \"Correlation coefficients multiplied by 100\" , x = unit(10.2,\"cm\"), y= unit(1.3, \"cm\"),\n",
    "          just=c(\"right\", \"bottom\"), gp=gpar(cex= 0.5))"
   ]
  },
  {
   "cell_type": "markdown",
   "metadata": {},
   "source": [
    "**In conclusion**, the main recommendations provided by the exploratory data analysis that should be taken into account when specifying the population model are the following:\n",
    "\n",
    "- Both `crime rate` and its logarithmic transformation should be tested as possible dependent variables.\n",
    "\n",
    "\n",
    "- `probability of arrest` and `probability of conviction`, two of our variables of interest, are correlated with both our candidate dependent variables and should be included in the regression model. Furthermore, their logarithmic transformation form is also correlated with the dependent variable and should be tested against their original form, using the resulting model's fit and meeting of the CLM asssumptions to decide which should be included in the specification of the population model.\n",
    "\n",
    "\n",
    "- `probability of prison` does not seem to have a strong relationship with `crime rate`. However, this is a result that is relevant to the campaign's research question; thus, it should be included in the regression, in order to show this variable's statistical and practical significance and the implications of this result to the political campaign.\n",
    "\n",
    "\n",
    "- From the candidate control variables, `log.polpc`, `density`, `density2` and `log.taxpc` seem to have a relationship with `crime rate` and its logarithmic form and should be considered in the model specification as controls. It is especially important to include `density`, since it is likely controlling for confounding effects."
   ]
  },
  {
   "cell_type": "code",
   "execution_count": 38,
   "metadata": {},
   "outputs": [
    {
     "data": {
      "text/html": [
       "'Model 1: 108'"
      ],
      "text/latex": [
       "'Model 1: 108'"
      ],
      "text/markdown": [
       "'Model 1: 108'"
      ],
      "text/plain": [
       "[1] \"Model 1: 108\""
      ]
     },
     "metadata": {},
     "output_type": "display_data"
    },
    {
     "data": {
      "text/html": [
       "'Model 2: 80'"
      ],
      "text/latex": [
       "'Model 2: 80'"
      ],
      "text/markdown": [
       "'Model 2: 80'"
      ],
      "text/plain": [
       "[1] \"Model 2: 80\""
      ]
     },
     "metadata": {},
     "output_type": "display_data"
    },
    {
     "data": {
      "text/html": [
       "'Model 3: 26'"
      ],
      "text/latex": [
       "'Model 3: 26'"
      ],
      "text/markdown": [
       "'Model 3: 26'"
      ],
      "text/plain": [
       "[1] \"Model 3: 26\""
      ]
     },
     "metadata": {},
     "output_type": "display_data"
    }
   ],
   "source": [
    "# Builds our base model\n",
    "final_model1 <- lm(log(crmrte) ~ log(prbarr) + log(prbconv) + log(prbpris), data=clean)\n",
    "se.final_model1 <- sqrt(diag(vcovHC(final_model1)))\n",
    "\n",
    "\n",
    "# Builds model 2\n",
    "final_model2 <- lm(log(crmrte) ~ log(prbarr) + log(prbconv) + log(prbpris) + density + I(density^2) + log(polpc), data=clean)\n",
    "se.final_model2 <- sqrt(diag(vcovHC(final_model2)))\n",
    "\n",
    "\n",
    "# Builds model 3\n",
    "final_model3 <- lm(log(crmrte) ~ log(prbarr) + log(prbconv) + log(prbpris) + density + I(density^2)\n",
    "                   + log(polpc) + avgsen + taxpc + west + central + urban + pctmin80 + wcon + wtuc\n",
    "                   + wfir + wser + wmfg + wfed + wsta + wloc + mix + pctymle, data=clean)\n",
    "se.final_model3 <- sqrt(diag(vcovHC(final_model3)))\n",
    "\n",
    "# Calculates the AIC for each model\n",
    "paste(\"Model 1:\", round(AIC(final_model1), 0))\n",
    "paste(\"Model 2:\", round(AIC(final_model2), 0))\n",
    "paste(\"Model 3:\", round(AIC(final_model3), 0))"
   ]
  },
  {
   "cell_type": "raw",
   "metadata": {},
   "source": [
    "# Generates a stargazer table for all three models\n",
    "stargazer(final_model1, final_model2, final_model3, type=\"html\", omit.stat=\"f\", \n",
    "          se = list(se.final_model1, se.final_model2, se.final_model3),\n",
    "          title=\"Models \",\n",
    "          star.cutoffs=c(0.05 , 0.01, 0.001))"
   ]
  },
  {
   "cell_type": "markdown",
   "metadata": {},
   "source": [
    "<table style=\"text-align:center\"><caption><strong>Models</strong></caption>\n",
    "<tr><td colspan=\"4\" style=\"border-bottom: 1px solid black\"></td></tr><tr><td style=\"text-align:left\"></td><td colspan=\"3\"><em>Dependent variable:</em></td></tr>\n",
    "<tr><td></td><td colspan=\"3\" style=\"border-bottom: 1px solid black\"></td></tr>\n",
    "<tr><td style=\"text-align:left\"></td><td colspan=\"3\">log(crmrte)</td></tr>\n",
    "<tr><td style=\"text-align:left\"></td><td>(1)</td><td>(2)</td><td>(3)</td></tr>\n",
    "<tr><td colspan=\"4\" style=\"border-bottom: 1px solid black\"></td></tr><tr><td style=\"text-align:left\">log(prbarr)</td><td>-0.724<sup>***</sup></td><td>-0.475<sup>*</sup></td><td>-0.476<sup>***</sup></td></tr>\n",
    "<tr><td style=\"text-align:left\"></td><td>(0.116)</td><td>(0.201)</td><td>(0.105)</td></tr>\n",
    "<tr><td style=\"text-align:left\"></td><td></td><td></td><td></td></tr>\n",
    "<tr><td style=\"text-align:left\">log(prbconv)</td><td>-0.472<sup>***</sup></td><td>-0.321</td><td>-0.258<sup>*</sup></td></tr>\n",
    "<tr><td style=\"text-align:left\"></td><td>(0.138)</td><td>(0.169)</td><td>(0.131)</td></tr>\n",
    "<tr><td style=\"text-align:left\"></td><td></td><td></td><td></td></tr>\n",
    "<tr><td style=\"text-align:left\">log(prbpris)</td><td>0.148</td><td>0.043</td><td>-0.045</td></tr>\n",
    "<tr><td style=\"text-align:left\"></td><td>(0.242)</td><td>(0.232)</td><td>(0.171)</td></tr>\n",
    "<tr><td style=\"text-align:left\"></td><td></td><td></td><td></td></tr>\n",
    "<tr><td style=\"text-align:left\">density</td><td></td><td>0.305<sup>*</sup></td><td>0.362<sup>*</sup></td></tr>\n",
    "<tr><td style=\"text-align:left\"></td><td></td><td>(0.130)</td><td>(0.141)</td></tr>\n",
    "<tr><td style=\"text-align:left\"></td><td></td><td></td><td></td></tr>\n",
    "<tr><td style=\"text-align:left\">I(density2)</td><td></td><td>-0.024</td><td>-0.031</td></tr>\n",
    "<tr><td style=\"text-align:left\"></td><td></td><td>(0.020)</td><td>(0.022)</td></tr>\n",
    "<tr><td style=\"text-align:left\"></td><td></td><td></td><td></td></tr>\n",
    "<tr><td style=\"text-align:left\">log(polpc)</td><td></td><td>0.176</td><td>0.214</td></tr>\n",
    "<tr><td style=\"text-align:left\"></td><td></td><td>(0.270)</td><td>(0.177)</td></tr>\n",
    "<tr><td style=\"text-align:left\"></td><td></td><td></td><td></td></tr>\n",
    "<tr><td style=\"text-align:left\">avgsen</td><td></td><td></td><td>-0.023</td></tr>\n",
    "<tr><td style=\"text-align:left\"></td><td></td><td></td><td>(0.016)</td></tr>\n",
    "<tr><td style=\"text-align:left\"></td><td></td><td></td><td></td></tr>\n",
    "<tr><td style=\"text-align:left\">taxpc</td><td></td><td></td><td>0.007</td></tr>\n",
    "<tr><td style=\"text-align:left\"></td><td></td><td></td><td>(0.008)</td></tr>\n",
    "<tr><td style=\"text-align:left\"></td><td></td><td></td><td></td></tr>\n",
    "<tr><td style=\"text-align:left\">west</td><td></td><td></td><td>-0.078</td></tr>\n",
    "<tr><td style=\"text-align:left\"></td><td></td><td></td><td>(0.131)</td></tr>\n",
    "<tr><td style=\"text-align:left\"></td><td></td><td></td><td></td></tr>\n",
    "<tr><td style=\"text-align:left\">central</td><td></td><td></td><td>-0.101</td></tr>\n",
    "<tr><td style=\"text-align:left\"></td><td></td><td></td><td>(0.086)</td></tr>\n",
    "<tr><td style=\"text-align:left\"></td><td></td><td></td><td></td></tr>\n",
    "<tr><td style=\"text-align:left\">urban</td><td></td><td></td><td>-0.190</td></tr>\n",
    "<tr><td style=\"text-align:left\"></td><td></td><td></td><td>(0.202)</td></tr>\n",
    "<tr><td style=\"text-align:left\"></td><td></td><td></td><td></td></tr>\n",
    "<tr><td style=\"text-align:left\">pctmin80</td><td></td><td></td><td>0.012<sup>***</sup></td></tr>\n",
    "<tr><td style=\"text-align:left\"></td><td></td><td></td><td>(0.003)</td></tr>\n",
    "<tr><td style=\"text-align:left\"></td><td></td><td></td><td></td></tr>\n",
    "<tr><td style=\"text-align:left\">wcon</td><td></td><td></td><td>0.001</td></tr>\n",
    "<tr><td style=\"text-align:left\"></td><td></td><td></td><td>(0.001)</td></tr>\n",
    "<tr><td style=\"text-align:left\"></td><td></td><td></td><td></td></tr>\n",
    "<tr><td style=\"text-align:left\">wtuc</td><td></td><td></td><td>0.0001</td></tr>\n",
    "<tr><td style=\"text-align:left\"></td><td></td><td></td><td>(0.001)</td></tr>\n",
    "<tr><td style=\"text-align:left\"></td><td></td><td></td><td></td></tr>\n",
    "<tr><td style=\"text-align:left\">wfir</td><td></td><td></td><td>-0.001</td></tr>\n",
    "<tr><td style=\"text-align:left\"></td><td></td><td></td><td>(0.001)</td></tr>\n",
    "<tr><td style=\"text-align:left\"></td><td></td><td></td><td></td></tr>\n",
    "<tr><td style=\"text-align:left\">wser</td><td></td><td></td><td>-0.0005</td></tr>\n",
    "<tr><td style=\"text-align:left\"></td><td></td><td></td><td>(0.002)</td></tr>\n",
    "<tr><td style=\"text-align:left\"></td><td></td><td></td><td></td></tr>\n",
    "<tr><td style=\"text-align:left\">wmfg</td><td></td><td></td><td>-0.0002</td></tr>\n",
    "<tr><td style=\"text-align:left\"></td><td></td><td></td><td>(0.001)</td></tr>\n",
    "<tr><td style=\"text-align:left\"></td><td></td><td></td><td></td></tr>\n",
    "<tr><td style=\"text-align:left\">wfed</td><td></td><td></td><td>0.002<sup>*</sup></td></tr>\n",
    "<tr><td style=\"text-align:left\"></td><td></td><td></td><td>(0.001)</td></tr>\n",
    "<tr><td style=\"text-align:left\"></td><td></td><td></td><td></td></tr>\n",
    "<tr><td style=\"text-align:left\">wsta</td><td></td><td></td><td>-0.001</td></tr>\n",
    "<tr><td style=\"text-align:left\"></td><td></td><td></td><td>(0.001)</td></tr>\n",
    "<tr><td style=\"text-align:left\"></td><td></td><td></td><td></td></tr>\n",
    "<tr><td style=\"text-align:left\">wloc</td><td></td><td></td><td>0.0002</td></tr>\n",
    "<tr><td style=\"text-align:left\"></td><td></td><td></td><td>(0.002)</td></tr>\n",
    "<tr><td style=\"text-align:left\"></td><td></td><td></td><td></td></tr>\n",
    "<tr><td style=\"text-align:left\">mix</td><td></td><td></td><td>-0.045</td></tr>\n",
    "<tr><td style=\"text-align:left\"></td><td></td><td></td><td>(0.667)</td></tr>\n",
    "<tr><td style=\"text-align:left\"></td><td></td><td></td><td></td></tr>\n",
    "<tr><td style=\"text-align:left\">pctymle</td><td></td><td></td><td>1.939</td></tr>\n",
    "<tr><td style=\"text-align:left\"></td><td></td><td></td><td>(2.375)</td></tr>\n",
    "<tr><td style=\"text-align:left\"></td><td></td><td></td><td></td></tr>\n",
    "<tr><td style=\"text-align:left\">Constant</td><td>-4.708<sup>***</sup></td><td>-3.563</td><td>-4.159<sup>*</sup></td></tr>\n",
    "<tr><td style=\"text-align:left\"></td><td>(0.289)</td><td>(2.090)</td><td>(1.812)</td></tr>\n",
    "<tr><td style=\"text-align:left\"></td><td></td><td></td><td></td></tr>\n",
    "<tr><td colspan=\"4\" style=\"border-bottom: 1px solid black\"></td></tr><tr><td style=\"text-align:left\">Observations</td><td>90</td><td>90</td><td>90</td></tr>\n",
    "<tr><td style=\"text-align:left\">R<sup>2</sup></td><td>0.415</td><td>0.597</td><td>0.846</td></tr>\n",
    "<tr><td style=\"text-align:left\">Adjusted R<sup>2</sup></td><td>0.394</td><td>0.568</td><td>0.796</td></tr>\n",
    "<tr><td style=\"text-align:left\">Residual Std. Error</td><td>0.427 (df = 86)</td><td>0.361 (df = 83)</td><td>0.248 (df = 67)</td></tr>\n",
    "<tr><td colspan=\"4\" style=\"border-bottom: 1px solid black\"></td></tr><tr><td style=\"text-align:left\"><em>Note:</em></td><td colspan=\"3\" style=\"text-align:right\"><sup>*</sup>p &lt; 0.05; <sup>**</sup>p &lt; 0.01; <sup>***</sup>p &lt; 0.001</td></tr>\n",
    "</table>"
   ]
  },
  {
   "cell_type": "markdown",
   "metadata": {},
   "source": [
    "## (3 and 4) Model Building and Regression Analysis\n",
    "\n",
    "### Model 1: Our Base Model Measures the Elasticity of $crmrte$ with Respect to $prbarr$, $prbconv$, and $prbpris$\n",
    "\n",
    "We wanted to understand if an increasing probability of incarceration for offenders ($prbpris$) is associated with lower crime rates ($crmrte$); however, to land in prison, offenders must first be arrested ($prbarr$) and convicted of a crime ($prbconv$). Our base model regresses our log-transformed outcome variable $crmrte$ on log transformations of $prbarr$, $prbconv$, and $prbpris$ to account for this natural sequence of events. The coefficients associated with each regressor capture how each regressor varies individually with $log(crmrte)$ when the other two are held constant.   \n",
    "\n",
    "#### An Elastic Model Is Easier to Interpret and Better Conforms to the CLM\n",
    "Although the maximum value of $crmrte$ is only ~18 times greater than its minimum value, (0.0055 vs. 0.099), we discovered that regressions of  $\\log{crmrte}$ on $prbarr$ or $prbconv$ individually had better fits $(prbarr: R^2 = 0.22$ and $prbconv: R^2 = 0.20)$ than regressions of $crmrte$ on $prbarr$ or $prbconv$ $(prbarr: R^2 = 0.15$ and $prbconv: R^2 = 0.16)$. Thus, we chose to employ $\\log_{crmrte}$ in our base model. \n",
    "\n",
    "We also chose to log-transform all of our regressors. Doing so sacrifices a slightly better fit as compared to modeling untransformed regressors $(R^2 = 0.45$ vs. $R^2 = 0.41)$, but also improves our model in three ways. \n",
    "\n",
    "**1) It makes our model easier to interpret.** Although they are presented as probabilities, some values of $prbarr$ and $prbconv$ exceed one. Additionally, scaling issues hinder comparisons between counties; for example, what does it mean to make a 0.1-unit change in a county with $prbconv=0.1$ as compared to one with $prbconv=0.5$?  Employing a log-log model circumvents these complications and lets us compare the elasticity of $crmrte$ with respect to each of our key variables.  \n",
    "\n",
    "**2) It better fits the zero-mean assumption of the CLM.** The log-level model of $crmrte$ against our regressors has a fitted values vs. residuals curve that noticeably bows upward at either end. The log-log model is flat on the left and bows upward much less on the right (data not shown). \n",
    "\n",
    "**3) It lowers the maximum Cook's distance to below 0.5.** County #51 greatly influences the log-level model (Cook's distance $\\geq$ 1); the log-log model increases the influence of other points, but in no case to a Cook's distance of more than 0.5. \n",
    "\n",
    "Having fully specified our base model, we calculated the least-squares fit below. \n",
    "\n",
    "$$ \\widehat{\\log{crmrte}} = -4.71 - 0.724*\\log prbarr - 0.472*\\log prbconv + 0.148*\\log prbpris $$\n",
    "\n",
    "\n",
    "#### $prbpris$ Is Not Associated with Crime Rate in Any Practical Way, but $prbarr$ and $prbconv$ Are Negatively Associated\n",
    "\n",
    "$\\hat{\\beta}_{\\log{prbarr}}$, $\\hat{\\beta}_{\\log{prbconv}}$, and $\\hat{\\beta}_0$ are statistically significant at the 0.1% level, but $\\hat{\\beta}_{\\log{prbarr}}$ is not, even at the 25% level; thus, our model suggests that changes in incarceration rates are not associated with changes in crime rate. Our model further suggests that 1% relative increases (not absolute increases) in $prbarr$ and $prbconv$ are associated with 0.724% and 0.472% relative reductions in $crmrte$ when the other two regressors are held fixed. Although it is statistically significant at the 0.1% level, $\\hat{\\beta}_0$ indicates the $\\log{crmrte}$ intercept when $prbarr=prbconv=prbpris=1$. This only occurs when authorities make arrests for all reported offenses, convict everyone who is arrested, and incarcerate all convicts. Clearly, this is not a realistic situation across an entire county.\n",
    "\n",
    "We speculate that $\\hat{\\beta}_{\\log{prbarr}}$ and $\\hat{\\beta}_{\\log{prbconv}}$ describe practically significant associations with crime rate, since comparatively large reductions in crime rate are associated with modest increases in arrest and conviction rates. In contrast, the probability of being incarcerated upon conviction does not appear to be associated with crime rate at any statistically significant level; thus to a first approximation, the answer to our research question is no. \n",
    "\n",
    "We cannot claim that these relationships indicate causality; however, they suggest that we should introduce additional regressors to isolate the associations of $\\log{crmrte}$ with $\\log{prbarr}$ and $\\log{prbconv}$. Doing so could provide support for launching controlled pilot programs that are aimed at increasing arrest and conviction rates and would test if any causal relationships exist."
   ]
  },
  {
   "cell_type": "code",
   "execution_count": 39,
   "metadata": {},
   "outputs": [
    {
     "data": {
      "text/html": [
       "<span style=white-space:pre-wrap>'Model: log(crmrte) ~ prbarr  |  R-squared: 0.224'</span>"
      ],
      "text/latex": [
       "'Model: log(crmrte) \\textasciitilde{} prbarr  \\textbar{}  R-squared: 0.224'"
      ],
      "text/markdown": [
       "<span style=white-space:pre-wrap>'Model: log(crmrte) ~ prbarr  |  R-squared: 0.224'</span>"
      ],
      "text/plain": [
       "[1] \"Model: log(crmrte) ~ prbarr  |  R-squared: 0.224\""
      ]
     },
     "metadata": {},
     "output_type": "display_data"
    },
    {
     "data": {
      "text/html": [
       "<span style=white-space:pre-wrap>'Model: log(crmrte) ~ prbconv  |  R-squared: 0.2'</span>"
      ],
      "text/latex": [
       "'Model: log(crmrte) \\textasciitilde{} prbconv  \\textbar{}  R-squared: 0.2'"
      ],
      "text/markdown": [
       "<span style=white-space:pre-wrap>'Model: log(crmrte) ~ prbconv  |  R-squared: 0.2'</span>"
      ],
      "text/plain": [
       "[1] \"Model: log(crmrte) ~ prbconv  |  R-squared: 0.2\""
      ]
     },
     "metadata": {},
     "output_type": "display_data"
    },
    {
     "data": {
      "text/html": [
       "<span style=white-space:pre-wrap>'Model: log(crmrte) ~ prbpris  |  R-squared: 0'</span>"
      ],
      "text/latex": [
       "'Model: log(crmrte) \\textasciitilde{} prbpris  \\textbar{}  R-squared: 0'"
      ],
      "text/markdown": [
       "<span style=white-space:pre-wrap>'Model: log(crmrte) ~ prbpris  |  R-squared: 0'</span>"
      ],
      "text/plain": [
       "[1] \"Model: log(crmrte) ~ prbpris  |  R-squared: 0\""
      ]
     },
     "metadata": {},
     "output_type": "display_data"
    },
    {
     "data": {
      "text/html": [
       "<span style=white-space:pre-wrap>'Model: log(crmrte) ~ log(prbarr)  |  R-squared: 0.19'</span>"
      ],
      "text/latex": [
       "'Model: log(crmrte) \\textasciitilde{} log(prbarr)  \\textbar{}  R-squared: 0.19'"
      ],
      "text/markdown": [
       "<span style=white-space:pre-wrap>'Model: log(crmrte) ~ log(prbarr)  |  R-squared: 0.19'</span>"
      ],
      "text/plain": [
       "[1] \"Model: log(crmrte) ~ log(prbarr)  |  R-squared: 0.19\""
      ]
     },
     "metadata": {},
     "output_type": "display_data"
    },
    {
     "data": {
      "text/html": [
       "<span style=white-space:pre-wrap>'Model: log(crmrte) ~ log(prbconv)  |  R-squared: 0.139'</span>"
      ],
      "text/latex": [
       "'Model: log(crmrte) \\textasciitilde{} log(prbconv)  \\textbar{}  R-squared: 0.139'"
      ],
      "text/markdown": [
       "<span style=white-space:pre-wrap>'Model: log(crmrte) ~ log(prbconv)  |  R-squared: 0.139'</span>"
      ],
      "text/plain": [
       "[1] \"Model: log(crmrte) ~ log(prbconv)  |  R-squared: 0.139\""
      ]
     },
     "metadata": {},
     "output_type": "display_data"
    },
    {
     "data": {
      "text/html": [
       "<span style=white-space:pre-wrap>'Model: log(crmrte) ~ log(prbpris)  |  R-squared: 0.005'</span>"
      ],
      "text/latex": [
       "'Model: log(crmrte) \\textasciitilde{} log(prbpris)  \\textbar{}  R-squared: 0.005'"
      ],
      "text/markdown": [
       "<span style=white-space:pre-wrap>'Model: log(crmrte) ~ log(prbpris)  |  R-squared: 0.005'</span>"
      ],
      "text/plain": [
       "[1] \"Model: log(crmrte) ~ log(prbpris)  |  R-squared: 0.005\""
      ]
     },
     "metadata": {},
     "output_type": "display_data"
    }
   ],
   "source": [
    "# We showed scatter plots for the log transformations in the EDA above; \n",
    "# here we are simply calculating R^2\n",
    "\n",
    "# Generate bivariate regressions on untransformed regressors\n",
    "model10 <- lm(log(crmrte) ~ prbarr, data=clean)\n",
    "model11 <- lm(log(crmrte) ~ prbconv, data=clean)\n",
    "model12 <- lm(log(crmrte) ~ prbpris, data=clean)\n",
    "\n",
    "# Generate bivariate regressions on log-transformed regressors\n",
    "model13 <- lm(log(crmrte) ~ log(prbarr), data=clean)\n",
    "model14 <- lm(log(crmrte) ~ log(prbconv), data=clean)\n",
    "model15 <- lm(log(crmrte) ~ log(prbpris), data=clean)\n",
    "\n",
    "paste(\"Model:\", summary(model10)$call[2], \" | \", \"R-squared:\", round(summary(model10)$r.squared, 3))\n",
    "paste(\"Model:\", summary(model11)$call[2], \" | \", \"R-squared:\", round(summary(model11)$r.squared, 3))\n",
    "paste(\"Model:\", summary(model12)$call[2], \" | \", \"R-squared:\", round(summary(model12)$r.squared, 3))\n",
    "paste(\"Model:\", summary(model13)$call[2], \" | \", \"R-squared:\", round(summary(model13)$r.squared, 3))\n",
    "paste(\"Model:\", summary(model14)$call[2], \" | \", \"R-squared:\", round(summary(model14)$r.squared, 3))\n",
    "paste(\"Model:\", summary(model15)$call[2], \" | \", \"R-squared:\", round(summary(model15)$r.squared, 3))"
   ]
  },
  {
   "cell_type": "markdown",
   "metadata": {},
   "source": [
    "### Model 2: Adding $density$ and $polpc$ Controls for Confounding Effects Improves Our Base Model's Fit\n",
    "\n",
    "Having established our base model, we sought to introduce covariates that might (i) control for confounding effects and (ii) parsimoniously improve the model's fit to the underlying data . \n",
    "\n",
    "Given that we observed $\\log{prbarr}$ is negatively associated with $\\log{crmrte}$, we speculated that reduced crime rates might be associated just with having a higher concentration of police officers relative to population size as opposed to the act of arresting people itself. We sought to address this issue by including $\\log{polpc}$ as a regressor to partial out the effect of police presence per capita from $prbarr$ (as well as the other variables in our base model). \n",
    "\n",
    "Counties in North Carolina are spread across a wide (29-fold) range of population densities. (This excludes county 173, which we retained in the dataset, but disregarded in calculating the range here.) We speculate that counties with relatively high densities could experience different challenges than counties with low densities; for instance, because of disparities in unemployment, educational attainment, or opportunities to commit crime. In fact, we observed that $density$ has a strong correlation with $\\log{crmrte}$ and a strong negative correlation with both $\\log{prbarr}$ and $\\log{prbconv}$. Thus, we included it to reduce bias it might otherwise impart to $\\hat{\\beta}_{\\log{prbarr}}$ and $\\hat{\\beta}_{\\log{prbconv}}$. \n",
    "\n",
    "\n",
    "#### We Added a Quadratic Term to $density$ and Log-Transformed $polpc$ to Improve Our Model's Fit\n",
    "\n",
    "We incorporated $\\log{polpc}$ as well as $density$ and $density^2$ as regressors. We previously identified country #51 as an outlier. Log-transforming $polpc$ ameliorates the influence that county #51 has on a regression with $\\log{crmrte}$. It also yields a better fitting regression relative to the untransformed variable ($R^2 = 0.08$ vs. $R^2=0$) that has a lower Akaike Information Criterion (AIC) score (145 vs. 152). A scatter plot indicates that $density$ is positively associated with $\\log{crmrte}$, but at $density \\geq 2$ the strength of this association starts to lessen. We added a quadratic term to account for this, which yielded a better fit than regressing against $density$ by itself ($R^2 = 0.46$ vs. $R^2 = 0.40$) and a better AIC score (100 vs. 106).  \n",
    "\n",
    "Having fully specified our second model, we calculated the least-squares fit below.\n",
    "\n",
    "$$ \\widehat{\\log crmrte} = -3.563 - 0.475*\\log prbarr - 0.321*\\log prbconv + 0.043*\\log prbpris + 0.305*density - 0.024*density^2 + 0.176*\\log polpc$$\n",
    "\n",
    "#### $\\log{prbarr}$ and $\\log{prbconv}$ Still Show Practically Significant Associations with Crime Rate After Accounting for Population Density and Police per Capita\n",
    "\n",
    "Relative to our base model ($R^2=0.415$ and $AIC=108$), model 2 yields a better fit ($R^2=0.597$) and minimizes information loss ($AIC=80$). The coefficients for our key variables are at least somewhat biased in our base model, since model 2 drives their magnitudes closer to zero. Specifically, $|\\hat{\\beta}_{\\log{prbarr}}|$ and $|\\hat{\\beta}_{\\log{prbconv}}|$ are reduced by 34% and 32%, respectively. Furthermore, the statistical significance of each coefficient is reduced; $\\hat{\\beta}_{\\log{prbarr}}$ is only significant at the 5% level, while $\\hat{\\beta}_{\\log{prbconv}}$ is only significant at the 10% level, which could indicate that they are each colinear with some combination of $\\log{polpc}$, $density$, or $density^2$. $|\\hat{\\beta}_{\\log{prbpris}}|$ dropped closer to zero and still is not statistically significant. $\\hat{\\beta}_0$ is no longer statistically significant.\n",
    "\n",
    "We speculate that $\\hat{\\beta}_{\\log{prbarr}}$ and $\\hat{\\beta}_{\\log{prbconv}}$ are still probably of practical significance and indicate more actionable associations with crime rate than $\\hat{\\beta}_{\\log{prbpris}}$. Even after accounting for differences in $density$ and $polpc$, modest percentage increases in either variable are still associated with relatively substantial percentage reductions in crime rate (e.g., a 10% increase in $prbarr$ from its original level is associated with a 4.75% reduction in $crmrte$ from its previous level). Additionally, $\\hat{\\beta}_{\\log{prbconv}}$ just misses the threshold of being statistically significant at the 5% level ($\\text{p-value}=0.59$). Conversely, $\\hat{\\beta}_{\\log{prbpris}}$ still is not statistically significant and the magnitude of its effect even is smaller in this model, which argues that it is still not practically significant. \n",
    "\n",
    "In total, having controlled for the effects police presence and population density, we find that arrest and conviction rates are still meaningfully associated with crime rate. These results strengthen the notion that there is value in launching pilot programs to test if North Carolina can increase arrests or convictions to reduce crime rates. \n",
    "\n",
    "#### $\\hat{\\beta}_{density}$ Is Statistically Significant and Both $density$ Terms Describe Our Data Well\n",
    "\n",
    "$\\hat{\\beta}_{density}$ is statistically significant at the 5% level, while $\\hat{\\beta}_{density^2}$ is not. The two $density$ terms indicate that $\\widehat{\\log{crmrte}}$ rises in association with $density$ up until $density \\approx 6.5$, which fits our data well, given that only three counties have $density > 6$. $\\hat{\\beta}_{\\log{polpc}}$ is not statistically significant; thus, we do not consider its practical significance."
   ]
  },
  {
   "cell_type": "code",
   "execution_count": 41,
   "metadata": {
    "scrolled": false
   },
   "outputs": [
    {
     "data": {
      "text/html": [
       "'Model: log(crmrte) ~ polpc'"
      ],
      "text/latex": [
       "'Model: log(crmrte) \\textasciitilde{} polpc'"
      ],
      "text/markdown": [
       "'Model: log(crmrte) ~ polpc'"
      ],
      "text/plain": [
       "[1] \"Model: log(crmrte) ~ polpc\""
      ]
     },
     "metadata": {},
     "output_type": "display_data"
    },
    {
     "data": {
      "text/html": [
       "'R-squared: 0'"
      ],
      "text/latex": [
       "'R-squared: 0'"
      ],
      "text/markdown": [
       "'R-squared: 0'"
      ],
      "text/plain": [
       "[1] \"R-squared: 0\""
      ]
     },
     "metadata": {},
     "output_type": "display_data"
    },
    {
     "data": {
      "text/html": [
       "'Akaike Information Criterion: 152'"
      ],
      "text/latex": [
       "'Akaike Information Criterion: 152'"
      ],
      "text/markdown": [
       "'Akaike Information Criterion: 152'"
      ],
      "text/plain": [
       "[1] \"Akaike Information Criterion: 152\""
      ]
     },
     "metadata": {},
     "output_type": "display_data"
    },
    {
     "data": {
      "text/html": [
       "'*******************************'"
      ],
      "text/latex": [
       "'*******************************'"
      ],
      "text/markdown": [
       "'*******************************'"
      ],
      "text/plain": [
       "[1] \"*******************************\""
      ]
     },
     "metadata": {},
     "output_type": "display_data"
    },
    {
     "data": {
      "text/html": [
       "'Model: log(crmrte) ~ log(polpc)'"
      ],
      "text/latex": [
       "'Model: log(crmrte) \\textasciitilde{} log(polpc)'"
      ],
      "text/markdown": [
       "'Model: log(crmrte) ~ log(polpc)'"
      ],
      "text/plain": [
       "[1] \"Model: log(crmrte) ~ log(polpc)\""
      ]
     },
     "metadata": {},
     "output_type": "display_data"
    },
    {
     "data": {
      "text/html": [
       "'R-squared: 0.08'"
      ],
      "text/latex": [
       "'R-squared: 0.08'"
      ],
      "text/markdown": [
       "'R-squared: 0.08'"
      ],
      "text/plain": [
       "[1] \"R-squared: 0.08\""
      ]
     },
     "metadata": {},
     "output_type": "display_data"
    },
    {
     "data": {
      "text/html": [
       "'Akaike Information Criterion: 145'"
      ],
      "text/latex": [
       "'Akaike Information Criterion: 145'"
      ],
      "text/markdown": [
       "'Akaike Information Criterion: 145'"
      ],
      "text/plain": [
       "[1] \"Akaike Information Criterion: 145\""
      ]
     },
     "metadata": {},
     "output_type": "display_data"
    },
    {
     "data": {
      "text/html": [
       "'*******************************'"
      ],
      "text/latex": [
       "'*******************************'"
      ],
      "text/markdown": [
       "'*******************************'"
      ],
      "text/plain": [
       "[1] \"*******************************\""
      ]
     },
     "metadata": {},
     "output_type": "display_data"
    },
    {
     "data": {
      "image/png": "[encoded data removed]",
      "text/plain": [
       "Plot with title \"log(Police per Capita)\""
      ]
     },
     "metadata": {},
     "output_type": "display_data"
    },
    {
     "data": {
      "text/html": [
       "'Model: log(crmrte) ~ density'"
      ],
      "text/latex": [
       "'Model: log(crmrte) \\textasciitilde{} density'"
      ],
      "text/markdown": [
       "'Model: log(crmrte) ~ density'"
      ],
      "text/plain": [
       "[1] \"Model: log(crmrte) ~ density\""
      ]
     },
     "metadata": {},
     "output_type": "display_data"
    },
    {
     "data": {
      "text/html": [
       "'R-squared: 0.4'"
      ],
      "text/latex": [
       "'R-squared: 0.4'"
      ],
      "text/markdown": [
       "'R-squared: 0.4'"
      ],
      "text/plain": [
       "[1] \"R-squared: 0.4\""
      ]
     },
     "metadata": {},
     "output_type": "display_data"
    },
    {
     "data": {
      "text/html": [
       "'Akaike Information Criterion: 106'"
      ],
      "text/latex": [
       "'Akaike Information Criterion: 106'"
      ],
      "text/markdown": [
       "'Akaike Information Criterion: 106'"
      ],
      "text/plain": [
       "[1] \"Akaike Information Criterion: 106\""
      ]
     },
     "metadata": {},
     "output_type": "display_data"
    },
    {
     "data": {
      "text/html": [
       "'*******************************'"
      ],
      "text/latex": [
       "'*******************************'"
      ],
      "text/markdown": [
       "'*******************************'"
      ],
      "text/plain": [
       "[1] \"*******************************\""
      ]
     },
     "metadata": {},
     "output_type": "display_data"
    },
    {
     "data": {
      "text/html": [
       "'Model: log(crmrte) ~ density + I(density^2)'"
      ],
      "text/latex": [
       "'Model: log(crmrte) \\textasciitilde{} density + I(density\\textasciicircum{}2)'"
      ],
      "text/markdown": [
       "'Model: log(crmrte) ~ density + I(density^2)'"
      ],
      "text/plain": [
       "[1] \"Model: log(crmrte) ~ density + I(density^2)\""
      ]
     },
     "metadata": {},
     "output_type": "display_data"
    },
    {
     "data": {
      "text/html": [
       "'R-squared: 0.46'"
      ],
      "text/latex": [
       "'R-squared: 0.46'"
      ],
      "text/markdown": [
       "'R-squared: 0.46'"
      ],
      "text/plain": [
       "[1] \"R-squared: 0.46\""
      ]
     },
     "metadata": {},
     "output_type": "display_data"
    },
    {
     "data": {
      "text/html": [
       "'Akaike Information Criterion: 100'"
      ],
      "text/latex": [
       "'Akaike Information Criterion: 100'"
      ],
      "text/markdown": [
       "'Akaike Information Criterion: 100'"
      ],
      "text/plain": [
       "[1] \"Akaike Information Criterion: 100\""
      ]
     },
     "metadata": {},
     "output_type": "display_data"
    },
    {
     "data": {
      "text/html": [
       "'*******************************'"
      ],
      "text/latex": [
       "'*******************************'"
      ],
      "text/markdown": [
       "'*******************************'"
      ],
      "text/plain": [
       "[1] \"*******************************\""
      ]
     },
     "metadata": {},
     "output_type": "display_data"
    },
    {
     "data": {
      "image/png": "[encoded data removed]",
      "text/plain": [
       "Plot with title \"log(polpc)\""
      ]
     },
     "metadata": {},
     "output_type": "display_data"
    },
    {
     "data": {
      "image/png": "[encoded data removed]",
      "text/plain": [
       "Plot with title \"Quadratic vs. Linear Regressions on Density\""
      ]
     },
     "metadata": {},
     "output_type": "display_data"
    }
   ],
   "source": [
    "# Shows that log(polpc) reduces effect of outlier \n",
    "options(warn=-1)\n",
    "par(mfrow = c(1, 2), cex.main = 0.8, cex.lab = 0.8, cex.axis = 0.8)\n",
    "options(repr.plot.width=6, repr.plot.height=4)\n",
    "hist(clean$polpc, main = \"Police per Capita\", col = rgb(0.4, 0.4, 0.4, 1), ylim = c(0, 30), xlab = \"Police per capita\",\n",
    "     breaks = sqrt(nrow(clean)))\n",
    "hist(log(clean$polpc), main = \"log(Police per Capita)\", col = rgb(0.4, 0.4, 0.4, 1), ylim = c(0, 30), \n",
    "     xlab = \"log(Police per capita)\", breaks = sqrt(nrow(clean)))\n",
    "\n",
    "# Regresses log(crmrte) on polpc and log(polpc)\n",
    "model.p1 <- lm(log(crmrte) ~ polpc, data=clean)\n",
    "paste(\"Model:\", summary(model.p1)$call[2])\n",
    "paste(\"R-squared:\", round(summary(model.p1)$r.squared, 2))\n",
    "paste(\"Akaike Information Criterion:\", round(AIC(model.p1), 0))\n",
    "paste(\"*******************************\")\n",
    "\n",
    "model.p2 <- lm(log(crmrte) ~ log(polpc), data=clean)\n",
    "paste(\"Model:\", summary(model.p2)$call[2])\n",
    "paste(\"R-squared:\", round(summary(model.p2)$r.squared, 2))\n",
    "paste(\"Akaike Information Criterion:\", round(AIC(model.p2), 0))\n",
    "paste(\"*******************************\")\n",
    "\n",
    "# Plots regression lines for polpc models\n",
    "plot(clean$polpc, log(clean$crmrte), main=\"Untransformed polpc\", \n",
    "     xlab=\"Police per capita\", ylab=\"log(Crime rate)\")\n",
    "abline(model.p1)\n",
    "plot(log(clean$polpc), log(clean$crmrte), main=\"log(polpc)\", \n",
    "     xlab=\"log(Police per capita)\", ylab=\"log(Crime rate)\")\n",
    "abline(model.p2)\n",
    "\n",
    "# Regresses log(crmrte) on density \n",
    "model.d1 <- lm(log(crmrte) ~ density, data=clean)\n",
    "paste(\"Model:\", summary(model.d1)$call[2])\n",
    "paste(\"R-squared:\", round(summary(model.d1)$r.squared, 2))\n",
    "paste(\"Akaike Information Criterion:\", round(AIC(model.d1), 0))\n",
    "paste(\"*******************************\")\n",
    "\n",
    "# Regresses log(crmrte) on density and density^2\n",
    "model.d2 <- lm(log(crmrte) ~ density + I(density^2), data=clean)\n",
    "paste(\"Model:\", summary(model.d2)$call[2])\n",
    "paste(\"R-squared:\", round(summary(model.d2)$r.squared, 2))\n",
    "paste(\"Akaike Information Criterion:\", round(AIC(model.d2), 0))\n",
    "paste(\"*******************************\")\n",
    "\n",
    "# Plots density regressions against data\n",
    "clean$square.density <- (clean$density + (clean$density)^2)\n",
    "plot(x=clean$density, y=clean$log.crmrte)\n",
    "\n",
    "newdata <- data.frame(density=seq(min(clean$density), max(clean$density), 0.01))\n",
    "newdata$pred1 <- predict(model.d2, newdata)\n",
    "plot(clean$log.crmrte ~ clean$density , data=newdata, main=\"Quadratic vs. Linear Regressions on Density\", \n",
    "     xlab=\"Density\", ylab=\"log(Crime rate)\")\n",
    "lines(newdata$density, newdata$pred1, col=\"red\")\n",
    "abline(a=coef(model.d1)[1], b=coef(model.d1)[2])"
   ]
  },
  {
   "cell_type": "markdown",
   "metadata": {},
   "source": [
    "### Model 3: $\\hat{\\beta}_{\\log{prbarr}}$ and (to a Lesser Extent) $\\hat{\\beta}_{\\log{prbconv}}$ Exhibit Robustness to Model Specification, but $\\hat{\\beta}_{\\log{prbpris}}$ Does Not\n",
    "\n",
    "Finally, we tested the robustness of our base model coefficients to pertubations in model specification. To do so, we added untransformed regressors that correspond to every variable remaining in the dataset that we did not specifically address in model 2, with the exception of $year$ and $county$ (see table below).  \n",
    "\n",
    "#### Model 3 Reinforces the Notion that the Probability of Incarceration Is Not Associated with Crime Rate, but Probabilities of Arrest and Conviction Are\n",
    "\n",
    "With respect to our motivating question (i.e., Is incarceration associated with crime rate?), comparatively larger reductions in crime are associated with simply arresting suspects and convicting offenders; incarceration, which is more costly, is not associated with higher or lower crime rates. Additionally, the fact that $\\hat{\\beta}_{\\log{prbarr}}$ and $\\hat{\\beta}_{\\log{prbconv}}$ are relatively unchanged in value relative to our base model argues that they are robust to model specification. In contrast, $\\hat{\\beta}_{\\log{prbpris}}$ appears to be sensitive.\n",
    "\n",
    "* $\\log{prbarr}$: We argued above in model 2 that $\\hat{\\beta}_{\\log{prbarr}}$ is of practical significance; this conclusion also holds in model 3, since $\\hat{\\beta}_{\\log{prbarr}}$ is of even greater statistical significance and has the same value. \n",
    "\n",
    "\n",
    "* $\\log{prbconv}$: $\\hat{\\beta}_{\\log{prbconv}}$ is statistically significant in model 3, but its effect is slightly smaller in model 3 (-0.258) than it is in model 2 (-0.321). We argue that this could still represent a practically significant effect, as it implies that a 10% relative increase in convictions is associated with a 2.58% relative reduction in crime rate. \n",
    "\n",
    "\n",
    "* $\\log{prbpris}$: As before, $\\hat{\\beta}_{\\log{prbpris}}$ is not statistically significant, and its value is even closer to zero. These two observations suggest that the probability of incarceration is not associated with crime rate in any meaningful way (i.e., the answer to our research question is no).\n",
    "\n",
    "#### $pctmin80$, $density$, and $wfed$ Are Statistically Significant to at Least the 5% Level\n",
    "\n",
    "* **$pctmin80$:** Holding all other regressors constant, a one unit increase in $pctmin80$ is associated with a 1.2% increase in $crmrte$; given that the median of $pctmin80$ is 24, this represents a substantial increase in $crmrte$. Thus, researchers may need to control for $pctmin80$ if other factors do not absorb its effects, but is of limited use in recommending specific policies. Efforts to alter this quantity (e.g., by evicting minorities) are likely unrealistic to undertake, morally repugnant, and legally dubious.\n",
    "\n",
    "\n",
    "* **$density$:** We previously accounted for $density$ in model 2. Compared to model 2, model 3 captures a slightly steeper rise in $crmrte$ as a function of population density. As with $pctmin80$, researchers may need to control for $density$ if other factors do not absorb its effects, but it is of limited use in the sense that we cannot reasonably recommend policies that test if reducing population density reduces crime in existing areas. However, in the long term, North Carolina might be able to test if changing zoning laws to reduce population density lowers crime rate in new communities.\n",
    "\n",
    "\n",
    "* **$wfed$:** Holding all other regressors constant, every dollar that federal employees earn on a weekly basis is associated with a 0.2% increase in $crmrte$; given that the median of $wfed$ is \\\\$449.8, this represents a substantial increase in $crmrte$. Thus, researchers may need to control for $pctmin80$ if other factors do not absorb its effects; however, we suspect that it is of limited use in recommending specific policies. For example, an increasing federal wage could simply represent greater federal investment in an area (e.g., to decrease poverty or perhaps even crime rate)."
   ]
  },
  {
   "cell_type": "markdown",
   "metadata": {},
   "source": [
    "## (6) Conclusions\n",
    "\n",
    "We found that within this dataset, $prbpris$ does not show any meaningful association with $crmrte$ and that the answer to our research question (Are crime rates associated with the probability of being incarcerated?) is no. In contrast, our analysis indicates that increasing probabilities of arrest and conviction (measured by $prbarr$ and $prbconv$, respectively) are associated with lower crime rates. \n",
    "\n",
    "#### We Cannot Claim that Causal Relationships Exist between $crmrte$ and $prbarr$ or $prbconv$ \n",
    "\n",
    "Importantly, we cannot claim that any causal effects exist in these relationships. For example, areas with lower crime rates might simply have higher rates of arrests and convictions because lower crime rates facilitate these effects. Stated another way, other factors (e.g., poverty rates, education) could play a more direct role in reducing crime and may enable higher arrest and conviction rates. \n",
    "\n",
    "#### $prbpris$ Could Be Associated with Crime Rate in Ways that Are Masked By Our Dataset\n",
    "THIS COULD DEPEND ON KATIE'S SECTION\n",
    "\n",
    "#### We Recommend Establishing Pilot Programs to Test the Associations that We Identified\n",
    "\n",
    "In light of the fact that we cannot define a causal relationship between these variables, we recommend that you establish pilot programs in some counties that attempt to test some of these observations. If retrospective analyses indicate that the programs appear to have reduced crime rates (especially in comparison with similar counties that are not executing a similar pilot), then you can launch these initiatives statewide. We recommend that you campaign on pilot policy prescriptions that are designed to manipulate these variables. Additionally, we recommend implementing programs that test if the probability of prison really is unrelated to crime rate.\n",
    "\n",
    "**Recommendation #1: Process backlogged evidence and invest in new technology to increase arrest rates.** The results of model 2 suggest that larger police forces in and of themselves may be insufficient to reduce crime rates. Consequently, we advocate for creative measures that enable them to act more efficiently. For example, you could advocate increasing funding to process backlogged rape kits to make more arrests. Similarly, you could push to upgrade analytic capabilities to process other types of DNA samples. \n",
    "\n",
    "**Recommendation #2: Invest in professional development to increase conviction rates.** North Carolina could probably add more judges, prosecutors, defense attorneys, and attendant staff to process more cases each year; however, this could be prohibitively expensive. A more viable alternative could revolve around identifying and promulgating best practices (e.g., via mentorship programs) that help judges clear cases from dockets more quickly and prosecutors present cases more effectively. \n",
    "\n",
    "**Recommendation #3: Offer alternatives to prison for offenders.** Our analysis suggested that incarceration rates might not be associated with crime rate; we argue that it is worth exploring if offering cheaper alternatives in lieu of prison (e.g., fines, community service, probation) for non-violent offenders has an adverse effect on crime rate.  \n",
    "\n",
    "**Recommendation #4: Fund additional studies to resolve confounding effects.** DOES NOT DISTINGUISH VIOLENT FROM NON-VIOLENT CRIME. THIS COULD DEPEND ON KATIE'S SECTION.\n"
   ]
  },
  {
   "cell_type": "markdown",
   "metadata": {},
   "source": [
    "#### CLM Assumptions for Model 1\n",
    "\n",
    "In order to infer appropriate conclusions from our model, we need to evaluate if the model meets the six classical linear model assumptions.\n",
    "\n",
    "*1. Linear in parameters*: Although we have utilized log transformations in the variables, our population model is employed as\n",
    "\n",
    "$$log(y) = \\beta_0 + \\beta_1 log(x_1) + \\beta_2 log(x_2) + \\beta_3 log(x_3) + u$$\n",
    "\n",
    "Because the parameters $\\beta_0$ through $\\beta_3$ are linear, our model meets the linear in parameters assumption."
   ]
  },
  {
   "cell_type": "markdown",
   "metadata": {},
   "source": [
    "*2. Random sampling*: With some research, we found that there are a total of 100 counties in North Carolina, however our data set only includes 90 observations. Because of the limited information on how the data was collected, we cannot conclude whether or not we have met the random sampling assumption. There could be a number of reasons why these counties were missing- it could be because the counties did not have the resources to collect this type of information (which may indicate limited resources for law enforcement) or simply did not want to share them (**due to shame of a high crime rate**). In these scenarios, the data set would be missing full representation of the entire population of North Carolina counties."
   ]
  },
  {
   "cell_type": "markdown",
   "metadata": {},
   "source": [
    "*3. No perfect collinearity*: Because the model was able to successfully regress, we can confirm that our model does not have perfect collinearity. However, we still want to ensure that we don't have imperfect collinearity in our model. We calculated the variance inflation factor (VIF) for each explanatory variable. The VIF values were all much less than 10, indicating that our model does not have the collinearity that could increase the estimator's variance. "
   ]
  },
  {
   "cell_type": "code",
   "execution_count": 42,
   "metadata": {
    "scrolled": true
   },
   "outputs": [
    {
     "data": {
      "text/html": [
       "'VIF for explanatory variables:'"
      ],
      "text/latex": [
       "'VIF for explanatory variables:'"
      ],
      "text/markdown": [
       "'VIF for explanatory variables:'"
      ],
      "text/plain": [
       "[1] \"VIF for explanatory variables:\""
      ]
     },
     "metadata": {},
     "output_type": "display_data"
    },
    {
     "data": {
      "text/html": [
       "<dl class=dl-horizontal>\n",
       "\t<dt>log(prbarr)</dt>\n",
       "\t\t<dd>1.04342497568592</dd>\n",
       "\t<dt>log(prbconv)</dt>\n",
       "\t\t<dd>1.04272178313262</dd>\n",
       "\t<dt>log(prbpris)</dt>\n",
       "\t\t<dd>1.00081019055975</dd>\n",
       "</dl>\n"
      ],
      "text/latex": [
       "\\begin{description*}\n",
       "\\item[log(prbarr)] 1.04342497568592\n",
       "\\item[log(prbconv)] 1.04272178313262\n",
       "\\item[log(prbpris)] 1.00081019055975\n",
       "\\end{description*}\n"
      ],
      "text/markdown": [
       "log(prbarr)\n",
       ":   1.04342497568592log(prbconv)\n",
       ":   1.04272178313262log(prbpris)\n",
       ":   1.00081019055975\n",
       "\n"
      ],
      "text/plain": [
       " log(prbarr) log(prbconv) log(prbpris) \n",
       "    1.043425     1.042722     1.000810 "
      ]
     },
     "metadata": {},
     "output_type": "display_data"
    }
   ],
   "source": [
    "paste(\"VIF for explanatory variables:\")\n",
    "vif(final_model1)"
   ]
  },
  {
   "cell_type": "markdown",
   "metadata": {},
   "source": [
    "*4. Zero conditional mean*: To satisfy the zero conditional mean assumption, the error $u$ should have an expected value of zero given any values of the explanatory variables. To evaluate this, we used the residuals as an estimate of the error and looked at the residuals vs fitted values plot. The red spline estimates the mean of the residuals across the fitted values and a flat line at 0 would indicate a zero conditional mean. Using log transformations of the explanatory variables did help flatten the mean line compared with a model without these transformations. However, our plot for model 1 still shows some curvature towards the right side of the plot, as shown in graph (a) below. This indicates that there could be some biasness in our model."
   ]
  },
  {
   "cell_type": "code",
   "execution_count": 43,
   "metadata": {},
   "outputs": [
    {
     "data": {
      "text/html": [
       "'Model 1 diagnostic plots:'"
      ],
      "text/latex": [
       "'Model 1 diagnostic plots:'"
      ],
      "text/markdown": [
       "'Model 1 diagnostic plots:'"
      ],
      "text/plain": [
       "[1] \"Model 1 diagnostic plots:\""
      ]
     },
     "metadata": {},
     "output_type": "display_data"
    },
    {
     "data": {
      "image/png": "[encoded data removed]",
      "text/plain": [
       "Plot with title \"\""
      ]
     },
     "metadata": {},
     "output_type": "display_data"
    }
   ],
   "source": [
    "options(repr.plot.width=8, repr.plot.height=3)\n",
    "paste(\"Model 1 diagnostic plots:\")\n",
    "par(mfrow=c(1,3))\n",
    "plot(final_model1, which = 1)\n",
    "mtext(\"(a)\", side = 3, padj = -2.5)\n",
    "plot(final_model1, which = 3)\n",
    "mtext(\"(b)\", side = 3, padj = -2.5)\n",
    "plot(final_model1, which = 2)\n",
    "mtext(\"(c)\", side = 3, padj = -2.5)"
   ]
  },
  {
   "cell_type": "markdown",
   "metadata": {},
   "source": [
    "Although our model may not be completely unbiased, we can still determine if our model has consistency by satisfying the weaker exogeneity assumption $E(u) = 0$ and $Cov(x_j, u)$. To approximate these, we calculated the expectation of the sample residuals and covariances of the residuals with each explanatory  variable and found that they were all nearly zero, or very close to zero. Thus, we are able to approximately satisfy the exogeneity assumption and conclude that our estimators are consistent considering we have already met the previous 3 CLM assumptions."
   ]
  },
  {
   "cell_type": "code",
   "execution_count": 44,
   "metadata": {},
   "outputs": [
    {
     "data": {
      "text/html": [
       "'$E(u)$ = -4.87378993259248e-18'"
      ],
      "text/latex": [
       "'\\$E(u)\\$ = -4.87378993259248e-18'"
      ],
      "text/markdown": [
       "'$E(u)$ = -4.87378993259248e-18'"
      ],
      "text/plain": [
       "[1] \"$E(u)$ = -4.87378993259248e-18\""
      ]
     },
     "metadata": {},
     "output_type": "display_data"
    },
    {
     "data": {
      "text/html": [
       "<span style=white-space:pre-wrap>'$Cov(prbarr, u)$ =  -0.0017'</span>"
      ],
      "text/latex": [
       "'\\$Cov(prbarr, u)\\$ =  -0.0017'"
      ],
      "text/markdown": [
       "<span style=white-space:pre-wrap>'$Cov(prbarr, u)$ =  -0.0017'</span>"
      ],
      "text/plain": [
       "[1] \"$Cov(prbarr, u)$ =  -0.0017\""
      ]
     },
     "metadata": {},
     "output_type": "display_data"
    },
    {
     "data": {
      "text/html": [
       "<span style=white-space:pre-wrap>'$Cov(prbconv, u)$ =  -0.0205'</span>"
      ],
      "text/latex": [
       "'\\$Cov(prbconv, u)\\$ =  -0.0205'"
      ],
      "text/markdown": [
       "<span style=white-space:pre-wrap>'$Cov(prbconv, u)$ =  -0.0205'</span>"
      ],
      "text/plain": [
       "[1] \"$Cov(prbconv, u)$ =  -0.0205\""
      ]
     },
     "metadata": {},
     "output_type": "display_data"
    },
    {
     "data": {
      "text/html": [
       "<span style=white-space:pre-wrap>'$Cov(prbpris, u)$ =  -0.0015'</span>"
      ],
      "text/latex": [
       "'\\$Cov(prbpris, u)\\$ =  -0.0015'"
      ],
      "text/markdown": [
       "<span style=white-space:pre-wrap>'$Cov(prbpris, u)$ =  -0.0015'</span>"
      ],
      "text/plain": [
       "[1] \"$Cov(prbpris, u)$ =  -0.0015\""
      ]
     },
     "metadata": {},
     "output_type": "display_data"
    }
   ],
   "source": [
    "u_model1 = final_model1$residuals\n",
    "paste(\"$E(u)$ =\", mean(u_model1))\n",
    "paste(\"$Cov(prbarr, u)$ = \", round(cov(clean$prbarr, u_model1), digits = 4))\n",
    "paste(\"$Cov(prbconv, u)$ = \", round(cov(clean$prbconv, u_model1), digits = 4))\n",
    "paste(\"$Cov(prbpris, u)$ = \", round(cov(clean$prbpris, u_model1), digits = 4))"
   ]
  },
  {
   "cell_type": "markdown",
   "metadata": {},
   "source": [
    "*5. Homoskedasticity*: In graph (a), we see that the variances in the data increases with an increasing fitted value, as the band around the red spline grows bigger. This indicates that our model does have some degree of heterskedasticity. Graph (b) shown above supports this conclusion, as the red spline curve estimating the mean of the square root of the absolute value of the residuals is not a straight flat line. Because of this, and also because it is best practice, we will use the heterskedastic robust standard errors when determining statistical significance of the estimators."
   ]
  },
  {
   "cell_type": "markdown",
   "metadata": {},
   "source": [
    "*6. Normality of errors*: Graph (c) shown above shows that there the residuals is somewhat close to normal distribution, but ultimately deviates from normal distribution with a left skew as indicated by the data points veering away from the dotted line. However, looking at the histogram of the residuals show that there is not extreme skewness, and with a data set with 90 observations, we are able to use the central limit thereom to argue that the estimators satistify asympototic normality."
   ]
  },
  {
   "cell_type": "markdown",
   "metadata": {},
   "source": [
    "#### CLM Assumptions for Model 2"
   ]
  },
  {
   "cell_type": "markdown",
   "metadata": {},
   "source": [
    "1. *Linear in parameters:* Our equation for model 2 meets the linearity in parameters assumption as the parameters $\\beta_j$ are linear.\n",
    "* *Random sampling:* We use the same dataset as in model 1, so our rationale that the data may or may not have random sampling is the same.\n",
    "* *No perfect collinearity:* There is no perfect collinearity, however the variance inflation factors for $density$ and $density^2$ were calculated to be high. This does not alarm us as these represent a quadratic transformation and does not indicate collinearity with a different explanatory variable.\n",
    "* *Zero conditional mean:* The red spline curve in the residuals vs fitted graph is fairly flat in the center, while curving downwards near the edges. Although the model may not necessarily meet zero conditional mean, we are still able to argue that it meets exogeneity based on the appoximations of $E(u)$ and $Cov(x_j, u)$. \n",
    "* *Homoskedasticity:* The red spline curve in the scale-location graph shows that there is a fair amount of heterskedasticity, however this pronouced curvature may be due to having less data points on the left side of the graph. Nevertheless, we continue to use heterskedastic robust standard errors.\n",
    "* *Normality of errors:* The points on the normal q-q graph do deviate from a normal distribution towards the edges, but because there is no extreme skewness and a large number of observations, we are still able to rely on the central limit theorem."
   ]
  },
  {
   "cell_type": "markdown",
   "metadata": {},
   "source": [
    "**version2:**"
   ]
  },
  {
   "cell_type": "markdown",
   "metadata": {},
   "source": [
    "1. *Linear in parameters:* Our equation for model 2 meets the linearity in parameters assumption as the parameters $\\beta_j$ are linear.\n",
    "* *Random sampling:* We use the same dataset as in model 1, so our rationale that the data may or may not have random sampling is the same.\n",
    "* *No perfect collinearity:* There is no perfect collinearity, however the variance inflation factors for $density$ and $density^2$ were calculated to be high. This does not alarm us as these represent a quadratic transformation and does not indicate collinearity with a different explanatory variable.\n",
    "* *Zero conditional mean:* The red spline curve in graph (d) is fairly flat in the center, while curving downwards near the edges. Although the model may not necessarily meet zero conditional mean, we are still able to argue that it meets exogeneity based on the appoximations of $E(u)$ and $Cov(x_j, u)$. \n",
    "* *Homoskedasticity:* The red spline curve in graph (e) shows that there is a fair amount of heterskedasticity, however this pronouced curvature may be due to having less data points on the left side of the graph. Nevertheless, we continue to use heterskedastic robust standard errors.\n",
    "* *Normality of errors:* The points on graph (f) do deviate from a normal distribution towards the edges, but because there is no extreme skewness and a large number of observations, we are still able to rely on the central limit theorem."
   ]
  },
  {
   "cell_type": "code",
   "execution_count": 45,
   "metadata": {},
   "outputs": [
    {
     "data": {
      "text/html": [
       "'Model 2 diagnostic plots:'"
      ],
      "text/latex": [
       "'Model 2 diagnostic plots:'"
      ],
      "text/markdown": [
       "'Model 2 diagnostic plots:'"
      ],
      "text/plain": [
       "[1] \"Model 2 diagnostic plots:\""
      ]
     },
     "metadata": {},
     "output_type": "display_data"
    },
    {
     "data": {
      "image/png": "[encoded data removed]",
      "text/plain": [
       "Plot with title \"\""
      ]
     },
     "metadata": {},
     "output_type": "display_data"
    }
   ],
   "source": [
    "paste(\"Model 2 diagnostic plots:\")\n",
    "par(mfrow=c(1,3))\n",
    "plot(final_model2, which = 1); mtext(\"(d)\", side = 3, padj = -2.5)\n",
    "plot(final_model2, which = 3); mtext(\"(e)\", side = 3, padj = -2.5)\n",
    "plot(final_model2, which = 2); mtext(\"(f)\", side = 3, padj = -2.5)"
   ]
  },
  {
   "cell_type": "markdown",
   "metadata": {},
   "source": [
    "#### CLM Assumptions for Model 3"
   ]
  },
  {
   "cell_type": "markdown",
   "metadata": {},
   "source": [
    "1. *Linear in parameters:* Our equation for model 2 meets the linearity in parameters assumption as the parameters $\\beta_j$ are linear.\n",
    "* *Random sampling:* We use the same dataset as in model 1, so our rationale that the data may or may not have random sampling is the same.\n",
    "* *No perfect collinearity:* There is no perfect collinearity and the variance inflation factor for all explanatory variables is less than 10, besides $density$ and $density^2$ as discussed previously.\n",
    "* *Zero conditional mean:* The red spline curves in the residuals vs fitted graph is quite flat and approximately meets the zero conditional mean assumption. Meeting this and the previous assumptions indicate that model 3 is unbiased.\n",
    "* *Homoskedasticity:* The red spline curve in the scale-location graph is fairly flat, however not perfectly homoskedastic. We will again continue to use heterskedastic robust standard errors.\n",
    "* *Normality of errors:* There is a small left skew shown in the normal q-q graph, however we are still able to use the central limit theorem as there is no extreme skewness."
   ]
  },
  {
   "cell_type": "markdown",
   "metadata": {},
   "source": [
    "**version2:**"
   ]
  },
  {
   "cell_type": "markdown",
   "metadata": {},
   "source": [
    "1. *Linear in parameters:* Our equation for model 2 meets the linearity in parameters assumption as the parameters $\\beta_j$ are linear.\n",
    "* *Random sampling:* We use the same dataset as in model 1, so our rationale that the data may or may not have random sampling is the same.\n",
    "* *No perfect collinearity:* There is no perfect collinearity and the variance inflation factor for all explanatory variables is less than 10, besides $density$ and $density^2$ as discussed previously.\n",
    "* *Zero conditional mean:* The red spline curves in graph (g) is quite flat and approximately meets the zero conditional mean assumption.\n",
    "* *Homoskedasticity:* The red spline curve in graph (h) is fairly flat, however not perfectly homoskedastic. We will again continue to use heterskedastic robust standard errors.\n",
    "* *Normality of errors:* There is a small left skew, as shown in graph (i), however we are still able to use the central limit theorem as there is no extreme skewness."
   ]
  },
  {
   "cell_type": "code",
   "execution_count": 46,
   "metadata": {
    "scrolled": true
   },
   "outputs": [
    {
     "data": {
      "text/html": [
       "'Model 3 diagnostic plots:'"
      ],
      "text/latex": [
       "'Model 3 diagnostic plots:'"
      ],
      "text/markdown": [
       "'Model 3 diagnostic plots:'"
      ],
      "text/plain": [
       "[1] \"Model 3 diagnostic plots:\""
      ]
     },
     "metadata": {},
     "output_type": "display_data"
    },
    {
     "data": {
      "image/png": "[encoded data removed]",
      "text/plain": [
       "Plot with title \"\""
      ]
     },
     "metadata": {},
     "output_type": "display_data"
    }
   ],
   "source": [
    "paste(\"Model 3 diagnostic plots:\")\n",
    "par(mfrow=c(1,3))\n",
    "plot(final_model3, which = 1); mtext(\"(g)\", side = 3, padj = -2.5)\n",
    "plot(final_model3, which = 3); mtext(\"(h)\", side = 3, padj = -2.5)\n",
    "plot(final_model3, which = 2); mtext(\"(i)\", side = 3, padj = -2.5)"
   ]
  }
 ],
 "metadata": {
  "kernelspec": {
   "display_name": "R",
   "language": "R",
   "name": "ir"
  },
  "language_info": {
   "codemirror_mode": "r",
   "file_extension": ".r",
   "mimetype": "text/x-r-source",
   "name": "R",
   "pygments_lexer": "r",
   "version": "3.5.1"
  }
 },
 "nbformat": 4,
 "nbformat_minor": 2
}
