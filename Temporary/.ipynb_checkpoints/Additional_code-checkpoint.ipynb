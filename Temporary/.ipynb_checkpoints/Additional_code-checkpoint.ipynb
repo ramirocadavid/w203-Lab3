{
 "cells": [
  {
   "cell_type": "code",
   "execution_count": null,
   "metadata": {},
   "outputs": [],
   "source": [
    "library(lmtest)\n",
    "library(sandwich)\n",
    "\n",
    "# Builds our base model\n",
    "final_model1 <- lm(log(crmrte) ~ log(prbarr) + log(prbconv) + log(prbpris), data=clean)\n",
    "# se.final_model1 <- sqrt(diag(vcovHC(final_model1)))\n",
    "se.final_model1 <- coeftest(final_model1, vcov = vcovHC)[, \"Std. Error\"]\n",
    "\n",
    "\n",
    "# Builds model 2\n",
    "final_model2 <- lm(log(crmrte) ~ log(prbarr) + log(prbconv) + log(prbpris)\n",
    "             + density + I(density^2) + log(polpc), data=clean)\n",
    "# se.final_model2 <- sqrt(diag(vcovHC(final_model2)))\n",
    "se.final_model2 <- coeftest(final_model2, vcov = vcovHC)[, \"Std. Error\"]\n",
    "\n",
    "\n",
    "# Builds model 3\n",
    "final_model3 <- lm(log(crmrte) ~ log(prbarr) + log(prbconv) + log(prbpris)\n",
    "             + density + I(density^2) + log(polpc) + avgsen + taxpc \n",
    "             + west + central + urban + pctmin80 + wcon + wtuc + wfir \n",
    "             + wser + wmfg + wfed + wsta + wloc + mix + pctymle, data=clean)\n",
    "# se.final_model3 <- sqrt(diag(vcovHC(final_model3)))\n",
    "se.final_model3 <- coeftest(final_model3, vcov = vcovHC)[, \"Std. Error\"]\n",
    "\n",
    "coeftest(final_model2, vcov=vcovHC)\n",
    "p.final_model1 <- coeftest(final_model1, vcov=vcovHC)[, 4]\n",
    "(p.final_model2 <- coeftest(final_model2, vcov=vcovHC)[, 4])\n",
    "p.final_model3 <- coeftest(final_model3, vcov=vcovHC)[, 4]\n",
    "\n",
    "# Generates a stargazer table for all three models\n",
    "stargazer(final_model1, final_model2, final_model3, type=\"text\", omit.stat=\"f\", \n",
    "          se = list(se.final_model1, se.final_model2, se.final_model3),\n",
    "          p=list(p.final_model1, p.final_model2, p.final_model3),\n",
    "          title=\"Building Our Base Model\",\n",
    "          star.cutoffs=c(0.05 , 0.01, 0.001))\n",
    "\n",
    "# Generates a stargazer table for all three models\n",
    "stargazer(final_model1, final_model2, final_model3, type=\"text\", omit.stat=\"f\", \n",
    "          se = list(se.final_model1, se.final_model2, se.final_model3),\n",
    "          title=\"Building Our Base Model\",\n",
    "          star.cutoffs=c(0.05 , 0.01, 0.001))\n",
    "\n",
    "# Calculates the AIC for each model\n",
    "paste(\"AIC (base model):\", round(AIC(final_model1)))\n",
    "paste(\"AIC (model 2):\", round(AIC(final_model2)))\n",
    "paste(\"AIC (model 3):\", round(AIC(final_model3)))"
   ]
  }
 ],
 "metadata": {
  "kernelspec": {
   "display_name": "R",
   "language": "R",
   "name": "ir"
  },
  "language_info": {
   "codemirror_mode": "r",
   "file_extension": ".r",
   "mimetype": "text/x-r-source",
   "name": "R",
   "pygments_lexer": "r",
   "version": "3.5.0"
  }
 },
 "nbformat": 4,
 "nbformat_minor": 2
}
