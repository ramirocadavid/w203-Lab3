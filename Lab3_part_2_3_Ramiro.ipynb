{
 "cells": [
  {
   "cell_type": "markdown",
   "metadata": {},
   "source": [
    "## 1. Exploratory data analysis"
   ]
  },
  {
   "cell_type": "markdown",
   "metadata": {},
   "source": [
    "### Other thoughts\n",
    "\n",
    "- We should define our audience: political campaign for governonr of the State? for President? for Senate/House or reps?\n",
    "- Add bibliography\n",
    "- The omision of other location variables besides `west` and `central` may be a source of omitted variable bias (create an `east` variable?)"
   ]
  },
  {
   "cell_type": "markdown",
   "metadata": {},
   "source": [
    "### Import libraries and dataset"
   ]
  },
  {
   "cell_type": "code",
   "execution_count": null,
   "metadata": {},
   "outputs": [],
   "source": [
    "library(dplyr)\n",
    "library(corrplot)\n",
    "library(car)\n",
    "library(stargazer)\n",
    "crime <- read.csv('crime_v2.csv')"
   ]
  },
  {
   "cell_type": "markdown",
   "metadata": {},
   "source": [
    "### High Level Exploratory Analysis"
   ]
  },
  {
   "cell_type": "markdown",
   "metadata": {},
   "source": [
    "Main findings:\n",
    "\n",
    "- Dataset contains 91 out of 100 counties in North Carolina. Even though it contains most of the counties, we do not have information on the sampling regime used to select the counties in this dataset and cannot assume that the sample is random. This implies that we need to treat this data as representative of our population of interest: counties in North Carolina.\n",
    "- All numerical/integer variables have 6 blank observations. We need to investigate later if they belong to the same six observations.\n",
    "- `year`: useful to provide context to results but it is not relevant since it doesn't vary.\n",
    "- `prbarr`: has at least one value larger than 1.\n",
    "- `prbconv` is a factor when it should be an integer. It has at least one non-numerical value (\\`).\n",
    "- `density`: given that the density of North Carolina between 1980 and 1990 ranged from 120.9 to 136.4 [US Census, 2018](https://www.census.gov/population/www/censusdata/density.html), values seem to be very small. We need to further investigate the reason for these unusually small values.\n",
    "- `west` and `central`: are these the only two divisions? check if all counties are categorized in one (and only one) of these two?\n",
    "- `urban`: the definition of urban according to whether the county is categorized as a Standard metropolitan statistical area (SMSA) is ambiguous for our purposes. According to the US Census, a SMSA is \"a geographic entity defined by the federal Office of Management and Budget for use by federal statistical agencies\". Furthermore, according to the Wikipedia entry of this kind of entity, \"such regions are neither legally incorporated as a city or town would be, nor are they legal administrative divisions like counties or separate entities such as states; because of this, the precise definition of any given metropolitan area can vary with the source\". Therefore, incorporating this variable into our model would not let give us information about either the relationship that is being modeled or the factors that are being controlled for.\n",
    "- `mix`: This definition is also ambiguous since it is not clear what face-to-face offences mean and it is also not clear how some of the plausible interpretations of this variable could be of interest to solve our research question.\n",
    "- All other variables not mentioned seem to be within reasonable ranges and do not have unusually high concentration of values."
   ]
  },
  {
   "cell_type": "code",
   "execution_count": 33,
   "metadata": {},
   "outputs": [
    {
     "data": {
      "text/html": [
       "91"
      ],
      "text/latex": [
       "91"
      ],
      "text/markdown": [
       "91"
      ],
      "text/plain": [
       "[1] 91"
      ]
     },
     "metadata": {},
     "output_type": "display_data"
    }
   ],
   "source": [
    "length(unique(crime$county))"
   ]
  },
  {
   "cell_type": "code",
   "execution_count": 31,
   "metadata": {},
   "outputs": [
    {
     "name": "stdout",
     "output_type": "stream",
     "text": [
      "'data.frame':\t97 obs. of  25 variables:\n",
      " $ county  : int  1 3 5 7 9 11 13 15 17 19 ...\n",
      " $ year    : int  87 87 87 87 87 87 87 87 87 87 ...\n",
      " $ crmrte  : num  0.0356 0.0153 0.013 0.0268 0.0106 ...\n",
      " $ prbarr  : num  0.298 0.132 0.444 0.365 0.518 ...\n",
      " $ prbconv : Factor w/ 92 levels \"\",\"`\",\"0.068376102\",..: 63 89 13 62 52 3 59 78 42 86 ...\n",
      " $ prbpris : num  0.436 0.45 0.6 0.435 0.443 ...\n",
      " $ avgsen  : num  6.71 6.35 6.76 7.14 8.22 ...\n",
      " $ polpc   : num  0.001828 0.000746 0.001234 0.00153 0.00086 ...\n",
      " $ density : num  2.423 1.046 0.413 0.492 0.547 ...\n",
      " $ taxpc   : num  31 26.9 34.8 42.9 28.1 ...\n",
      " $ west    : int  0 0 1 0 1 1 0 0 0 0 ...\n",
      " $ central : int  1 1 0 1 0 0 0 0 0 0 ...\n",
      " $ urban   : int  0 0 0 0 0 0 0 0 0 0 ...\n",
      " $ pctmin80: num  20.22 7.92 3.16 47.92 1.8 ...\n",
      " $ wcon    : num  281 255 227 375 292 ...\n",
      " $ wtuc    : num  409 376 372 398 377 ...\n",
      " $ wtrd    : num  221 196 229 191 207 ...\n",
      " $ wfir    : num  453 259 306 281 289 ...\n",
      " $ wser    : num  274 192 210 257 215 ...\n",
      " $ wmfg    : num  335 300 238 282 291 ...\n",
      " $ wfed    : num  478 410 359 412 377 ...\n",
      " $ wsta    : num  292 363 332 328 367 ...\n",
      " $ wloc    : num  312 301 281 299 343 ...\n",
      " $ mix     : num  0.0802 0.0302 0.4651 0.2736 0.0601 ...\n",
      " $ pctymle : num  0.0779 0.0826 0.0721 0.0735 0.0707 ...\n"
     ]
    }
   ],
   "source": [
    "str(crime)"
   ]
  },
  {
   "cell_type": "code",
   "execution_count": 32,
   "metadata": {},
   "outputs": [
    {
     "data": {
      "text/plain": [
       "     county           year        crmrte             prbarr       \n",
       " Min.   :  1.0   Min.   :87   Min.   :0.005533   Min.   :0.09277  \n",
       " 1st Qu.: 52.0   1st Qu.:87   1st Qu.:0.020927   1st Qu.:0.20568  \n",
       " Median :105.0   Median :87   Median :0.029986   Median :0.27095  \n",
       " Mean   :101.6   Mean   :87   Mean   :0.033400   Mean   :0.29492  \n",
       " 3rd Qu.:152.0   3rd Qu.:87   3rd Qu.:0.039642   3rd Qu.:0.34438  \n",
       " Max.   :197.0   Max.   :87   Max.   :0.098966   Max.   :1.09091  \n",
       " NA's   :6       NA's   :6    NA's   :6          NA's   :6        \n",
       "        prbconv      prbpris           avgsen           polpc         \n",
       "            : 5   Min.   :0.1500   Min.   : 5.380   Min.   :0.000746  \n",
       " 0.588859022: 2   1st Qu.:0.3648   1st Qu.: 7.340   1st Qu.:0.001231  \n",
       " `          : 1   Median :0.4234   Median : 9.100   Median :0.001485  \n",
       " 0.068376102: 1   Mean   :0.4108   Mean   : 9.647   Mean   :0.001702  \n",
       " 0.140350997: 1   3rd Qu.:0.4568   3rd Qu.:11.420   3rd Qu.:0.001877  \n",
       " 0.154451996: 1   Max.   :0.6000   Max.   :20.700   Max.   :0.009054  \n",
       " (Other)    :86   NA's   :6        NA's   :6        NA's   :6         \n",
       "    density            taxpc             west           central      \n",
       " Min.   :0.00002   Min.   : 25.69   Min.   :0.0000   Min.   :0.0000  \n",
       " 1st Qu.:0.54741   1st Qu.: 30.66   1st Qu.:0.0000   1st Qu.:0.0000  \n",
       " Median :0.96226   Median : 34.87   Median :0.0000   Median :0.0000  \n",
       " Mean   :1.42884   Mean   : 38.06   Mean   :0.2527   Mean   :0.3736  \n",
       " 3rd Qu.:1.56824   3rd Qu.: 40.95   3rd Qu.:0.5000   3rd Qu.:1.0000  \n",
       " Max.   :8.82765   Max.   :119.76   Max.   :1.0000   Max.   :1.0000  \n",
       " NA's   :6         NA's   :6        NA's   :6        NA's   :6       \n",
       "     urban            pctmin80           wcon            wtuc      \n",
       " Min.   :0.00000   Min.   : 1.284   Min.   :193.6   Min.   :187.6  \n",
       " 1st Qu.:0.00000   1st Qu.: 9.845   1st Qu.:250.8   1st Qu.:374.6  \n",
       " Median :0.00000   Median :24.312   Median :281.4   Median :406.5  \n",
       " Mean   :0.08791   Mean   :25.495   Mean   :285.4   Mean   :411.7  \n",
       " 3rd Qu.:0.00000   3rd Qu.:38.142   3rd Qu.:314.8   3rd Qu.:443.4  \n",
       " Max.   :1.00000   Max.   :64.348   Max.   :436.8   Max.   :613.2  \n",
       " NA's   :6         NA's   :6        NA's   :6       NA's   :6      \n",
       "      wtrd            wfir            wser             wmfg      \n",
       " Min.   :154.2   Min.   :170.9   Min.   : 133.0   Min.   :157.4  \n",
       " 1st Qu.:190.9   1st Qu.:286.5   1st Qu.: 229.7   1st Qu.:288.9  \n",
       " Median :203.0   Median :317.3   Median : 253.2   Median :320.2  \n",
       " Mean   :211.6   Mean   :322.1   Mean   : 275.6   Mean   :335.6  \n",
       " 3rd Qu.:225.1   3rd Qu.:345.4   3rd Qu.: 280.5   3rd Qu.:359.6  \n",
       " Max.   :354.7   Max.   :509.5   Max.   :2177.1   Max.   :646.9  \n",
       " NA's   :6       NA's   :6       NA's   :6        NA's   :6      \n",
       "      wfed            wsta            wloc            mix         \n",
       " Min.   :326.1   Min.   :258.3   Min.   :239.2   Min.   :0.01961  \n",
       " 1st Qu.:400.2   1st Qu.:329.3   1st Qu.:297.3   1st Qu.:0.08074  \n",
       " Median :449.8   Median :357.7   Median :308.1   Median :0.10186  \n",
       " Mean   :442.9   Mean   :357.5   Mean   :312.7   Mean   :0.12884  \n",
       " 3rd Qu.:478.0   3rd Qu.:382.6   3rd Qu.:329.2   3rd Qu.:0.15175  \n",
       " Max.   :598.0   Max.   :499.6   Max.   :388.1   Max.   :0.46512  \n",
       " NA's   :6       NA's   :6       NA's   :6       NA's   :6        \n",
       "    pctymle       \n",
       " Min.   :0.06216  \n",
       " 1st Qu.:0.07443  \n",
       " Median :0.07771  \n",
       " Mean   :0.08396  \n",
       " 3rd Qu.:0.08350  \n",
       " Max.   :0.24871  \n",
       " NA's   :6        "
      ]
     },
     "metadata": {},
     "output_type": "display_data"
    }
   ],
   "source": [
    "summary(crime)"
   ]
  },
  {
   "cell_type": "markdown",
   "metadata": {},
   "source": [
    "Upon closer inspection of incomplete cases, we found that indeed the six blank values for all the variables but `prbconv` come from the same six observations. Furthermore, the value '\\`' included in `prbconv` comes from one of these observations. Then, we deleted these observations"
   ]
  },
  {
   "cell_type": "code",
   "execution_count": 35,
   "metadata": {},
   "outputs": [
    {
     "data": {
      "text/html": [
       "<table>\n",
       "<thead><tr><th></th><th scope=col>county</th><th scope=col>year</th><th scope=col>crmrte</th><th scope=col>prbarr</th><th scope=col>prbconv</th><th scope=col>prbpris</th><th scope=col>avgsen</th><th scope=col>polpc</th><th scope=col>density</th><th scope=col>taxpc</th><th scope=col>west</th><th scope=col>central</th><th scope=col>urban</th><th scope=col>pctmin80</th><th scope=col>wcon</th><th scope=col>wtuc</th><th scope=col>wtrd</th><th scope=col>wfir</th><th scope=col>wser</th><th scope=col>wmfg</th><th scope=col>wfed</th><th scope=col>wsta</th><th scope=col>wloc</th><th scope=col>mix</th><th scope=col>pctymle</th></tr></thead>\n",
       "<tbody>\n",
       "\t<tr><th scope=row>92</th><td>NA</td><td>NA</td><td>NA</td><td>NA</td><td>  </td><td>NA</td><td>NA</td><td>NA</td><td>NA</td><td>NA</td><td>NA</td><td>NA</td><td>NA</td><td>NA</td><td>NA</td><td>NA</td><td>NA</td><td>NA</td><td>NA</td><td>NA</td><td>NA</td><td>NA</td><td>NA</td><td>NA</td><td>NA</td></tr>\n",
       "\t<tr><th scope=row>93</th><td>NA</td><td>NA</td><td>NA</td><td>NA</td><td>  </td><td>NA</td><td>NA</td><td>NA</td><td>NA</td><td>NA</td><td>NA</td><td>NA</td><td>NA</td><td>NA</td><td>NA</td><td>NA</td><td>NA</td><td>NA</td><td>NA</td><td>NA</td><td>NA</td><td>NA</td><td>NA</td><td>NA</td><td>NA</td></tr>\n",
       "\t<tr><th scope=row>94</th><td>NA</td><td>NA</td><td>NA</td><td>NA</td><td>  </td><td>NA</td><td>NA</td><td>NA</td><td>NA</td><td>NA</td><td>NA</td><td>NA</td><td>NA</td><td>NA</td><td>NA</td><td>NA</td><td>NA</td><td>NA</td><td>NA</td><td>NA</td><td>NA</td><td>NA</td><td>NA</td><td>NA</td><td>NA</td></tr>\n",
       "\t<tr><th scope=row>95</th><td>NA</td><td>NA</td><td>NA</td><td>NA</td><td>  </td><td>NA</td><td>NA</td><td>NA</td><td>NA</td><td>NA</td><td>NA</td><td>NA</td><td>NA</td><td>NA</td><td>NA</td><td>NA</td><td>NA</td><td>NA</td><td>NA</td><td>NA</td><td>NA</td><td>NA</td><td>NA</td><td>NA</td><td>NA</td></tr>\n",
       "\t<tr><th scope=row>96</th><td>NA</td><td>NA</td><td>NA</td><td>NA</td><td>  </td><td>NA</td><td>NA</td><td>NA</td><td>NA</td><td>NA</td><td>NA</td><td>NA</td><td>NA</td><td>NA</td><td>NA</td><td>NA</td><td>NA</td><td>NA</td><td>NA</td><td>NA</td><td>NA</td><td>NA</td><td>NA</td><td>NA</td><td>NA</td></tr>\n",
       "\t<tr><th scope=row>97</th><td>NA</td><td>NA</td><td>NA</td><td>NA</td><td>` </td><td>NA</td><td>NA</td><td>NA</td><td>NA</td><td>NA</td><td>NA</td><td>NA</td><td>NA</td><td>NA</td><td>NA</td><td>NA</td><td>NA</td><td>NA</td><td>NA</td><td>NA</td><td>NA</td><td>NA</td><td>NA</td><td>NA</td><td>NA</td></tr>\n",
       "</tbody>\n",
       "</table>\n"
      ],
      "text/latex": [
       "\\begin{tabular}{r|lllllllllllllllllllllllll}\n",
       "  & county & year & crmrte & prbarr & prbconv & prbpris & avgsen & polpc & density & taxpc & west & central & urban & pctmin80 & wcon & wtuc & wtrd & wfir & wser & wmfg & wfed & wsta & wloc & mix & pctymle\\\\\n",
       "\\hline\n",
       "\t92 & NA & NA & NA & NA &    & NA & NA & NA & NA & NA & NA & NA & NA & NA & NA & NA & NA & NA & NA & NA & NA & NA & NA & NA & NA\\\\\n",
       "\t93 & NA & NA & NA & NA &    & NA & NA & NA & NA & NA & NA & NA & NA & NA & NA & NA & NA & NA & NA & NA & NA & NA & NA & NA & NA\\\\\n",
       "\t94 & NA & NA & NA & NA &    & NA & NA & NA & NA & NA & NA & NA & NA & NA & NA & NA & NA & NA & NA & NA & NA & NA & NA & NA & NA\\\\\n",
       "\t95 & NA & NA & NA & NA &    & NA & NA & NA & NA & NA & NA & NA & NA & NA & NA & NA & NA & NA & NA & NA & NA & NA & NA & NA & NA\\\\\n",
       "\t96 & NA & NA & NA & NA &    & NA & NA & NA & NA & NA & NA & NA & NA & NA & NA & NA & NA & NA & NA & NA & NA & NA & NA & NA & NA\\\\\n",
       "\t97 & NA & NA & NA & NA & `  & NA & NA & NA & NA & NA & NA & NA & NA & NA & NA & NA & NA & NA & NA & NA & NA & NA & NA & NA & NA\\\\\n",
       "\\end{tabular}\n"
      ],
      "text/markdown": [
       "\n",
       "| <!--/--> | county | year | crmrte | prbarr | prbconv | prbpris | avgsen | polpc | density | taxpc | west | central | urban | pctmin80 | wcon | wtuc | wtrd | wfir | wser | wmfg | wfed | wsta | wloc | mix | pctymle | \n",
       "|---|---|---|---|---|---|\n",
       "| 92 | NA | NA | NA | NA |    | NA | NA | NA | NA | NA | NA | NA | NA | NA | NA | NA | NA | NA | NA | NA | NA | NA | NA | NA | NA | \n",
       "| 93 | NA | NA | NA | NA |    | NA | NA | NA | NA | NA | NA | NA | NA | NA | NA | NA | NA | NA | NA | NA | NA | NA | NA | NA | NA | \n",
       "| 94 | NA | NA | NA | NA |    | NA | NA | NA | NA | NA | NA | NA | NA | NA | NA | NA | NA | NA | NA | NA | NA | NA | NA | NA | NA | \n",
       "| 95 | NA | NA | NA | NA |    | NA | NA | NA | NA | NA | NA | NA | NA | NA | NA | NA | NA | NA | NA | NA | NA | NA | NA | NA | NA | \n",
       "| 96 | NA | NA | NA | NA |    | NA | NA | NA | NA | NA | NA | NA | NA | NA | NA | NA | NA | NA | NA | NA | NA | NA | NA | NA | NA | \n",
       "| 97 | NA | NA | NA | NA | `  | NA | NA | NA | NA | NA | NA | NA | NA | NA | NA | NA | NA | NA | NA | NA | NA | NA | NA | NA | NA | \n",
       "\n",
       "\n"
      ],
      "text/plain": [
       "   county year crmrte prbarr prbconv prbpris avgsen polpc density taxpc west\n",
       "92 NA     NA   NA     NA             NA      NA     NA    NA      NA    NA  \n",
       "93 NA     NA   NA     NA             NA      NA     NA    NA      NA    NA  \n",
       "94 NA     NA   NA     NA             NA      NA     NA    NA      NA    NA  \n",
       "95 NA     NA   NA     NA             NA      NA     NA    NA      NA    NA  \n",
       "96 NA     NA   NA     NA             NA      NA     NA    NA      NA    NA  \n",
       "97 NA     NA   NA     NA     `       NA      NA     NA    NA      NA    NA  \n",
       "   central urban pctmin80 wcon wtuc wtrd wfir wser wmfg wfed wsta wloc mix\n",
       "92 NA      NA    NA       NA   NA   NA   NA   NA   NA   NA   NA   NA   NA \n",
       "93 NA      NA    NA       NA   NA   NA   NA   NA   NA   NA   NA   NA   NA \n",
       "94 NA      NA    NA       NA   NA   NA   NA   NA   NA   NA   NA   NA   NA \n",
       "95 NA      NA    NA       NA   NA   NA   NA   NA   NA   NA   NA   NA   NA \n",
       "96 NA      NA    NA       NA   NA   NA   NA   NA   NA   NA   NA   NA   NA \n",
       "97 NA      NA    NA       NA   NA   NA   NA   NA   NA   NA   NA   NA   NA \n",
       "   pctymle\n",
       "92 NA     \n",
       "93 NA     \n",
       "94 NA     \n",
       "95 NA     \n",
       "96 NA     \n",
       "97 NA     "
      ]
     },
     "metadata": {},
     "output_type": "display_data"
    }
   ],
   "source": [
    "# 6 observations are empty\n",
    "options(repr.matrix.max.rows=10,repr.matrix.max.cols=200)\n",
    "crime[!complete.cases(crime), ]"
   ]
  },
  {
   "cell_type": "code",
   "execution_count": 36,
   "metadata": {},
   "outputs": [],
   "source": [
    "# Remove empty cases\n",
    "clean <- crime[complete.cases(crime), ]"
   ]
  },
  {
   "cell_type": "markdown",
   "metadata": {},
   "source": [
    "### Follow up univariate analysis"
   ]
  },
  {
   "cell_type": "markdown",
   "metadata": {},
   "source": [
    "Following the superficial analysis of the dataset, we proceed to dig deeper into the possible quality issues found and our variables of interest."
   ]
  },
  {
   "cell_type": "markdown",
   "metadata": {},
   "source": [
    "**County**\n",
    "\n",
    "We found two observations with the same `county` value (county 193). Upon closer inspection, we found that both observations contain the exact same data, then proceeded to remove one of the observations."
   ]
  },
  {
   "cell_type": "code",
   "execution_count": 37,
   "metadata": {},
   "outputs": [
    {
     "data": {
      "text/html": [
       "'Unique county identifier: FALSE'"
      ],
      "text/latex": [
       "'Unique county identifier: FALSE'"
      ],
      "text/markdown": [
       "'Unique county identifier: FALSE'"
      ],
      "text/plain": [
       "[1] \"Unique county identifier: FALSE\""
      ]
     },
     "metadata": {},
     "output_type": "display_data"
    },
    {
     "data": {
      "text/html": [
       "'Duplicated county id: 193'"
      ],
      "text/latex": [
       "'Duplicated county id: 193'"
      ],
      "text/markdown": [
       "'Duplicated county id: 193'"
      ],
      "text/plain": [
       "[1] \"Duplicated county id: 193\""
      ]
     },
     "metadata": {},
     "output_type": "display_data"
    },
    {
     "data": {
      "text/html": [
       "<table>\n",
       "<thead><tr><th></th><th scope=col>county</th><th scope=col>year</th><th scope=col>crmrte</th><th scope=col>prbarr</th><th scope=col>prbconv</th><th scope=col>prbpris</th><th scope=col>avgsen</th><th scope=col>polpc</th><th scope=col>density</th><th scope=col>taxpc</th><th scope=col>west</th><th scope=col>central</th><th scope=col>urban</th><th scope=col>pctmin80</th><th scope=col>wcon</th><th scope=col>wtuc</th><th scope=col>wtrd</th><th scope=col>wfir</th><th scope=col>wser</th><th scope=col>wmfg</th><th scope=col>wfed</th><th scope=col>wsta</th><th scope=col>wloc</th><th scope=col>mix</th><th scope=col>pctymle</th></tr></thead>\n",
       "<tbody>\n",
       "\t<tr><th scope=row>88</th><td>193        </td><td>87         </td><td>0.0235277  </td><td>0.266055   </td><td>0.588859022</td><td>0.423423   </td><td>5.86       </td><td>0.00117887 </td><td>0.8138298  </td><td>28.51783   </td><td>1          </td><td>0          </td><td>0          </td><td>5.93109    </td><td>285.8289   </td><td>480.1948   </td><td>268.3836   </td><td>365.0196   </td><td>295.9352   </td><td>295.63     </td><td>468.26     </td><td>337.88     </td><td>348.74     </td><td>0.1105016  </td><td>0.07819394 </td></tr>\n",
       "\t<tr><th scope=row>89</th><td>193        </td><td>87         </td><td>0.0235277  </td><td>0.266055   </td><td>0.588859022</td><td>0.423423   </td><td>5.86       </td><td>0.00117887 </td><td>0.8138298  </td><td>28.51783   </td><td>1          </td><td>0          </td><td>0          </td><td>5.93109    </td><td>285.8289   </td><td>480.1948   </td><td>268.3836   </td><td>365.0196   </td><td>295.9352   </td><td>295.63     </td><td>468.26     </td><td>337.88     </td><td>348.74     </td><td>0.1105016  </td><td>0.07819394 </td></tr>\n",
       "</tbody>\n",
       "</table>\n"
      ],
      "text/latex": [
       "\\begin{tabular}{r|lllllllllllllllllllllllll}\n",
       "  & county & year & crmrte & prbarr & prbconv & prbpris & avgsen & polpc & density & taxpc & west & central & urban & pctmin80 & wcon & wtuc & wtrd & wfir & wser & wmfg & wfed & wsta & wloc & mix & pctymle\\\\\n",
       "\\hline\n",
       "\t88 & 193         & 87          & 0.0235277   & 0.266055    & 0.588859022 & 0.423423    & 5.86        & 0.00117887  & 0.8138298   & 28.51783    & 1           & 0           & 0           & 5.93109     & 285.8289    & 480.1948    & 268.3836    & 365.0196    & 295.9352    & 295.63      & 468.26      & 337.88      & 348.74      & 0.1105016   & 0.07819394 \\\\\n",
       "\t89 & 193         & 87          & 0.0235277   & 0.266055    & 0.588859022 & 0.423423    & 5.86        & 0.00117887  & 0.8138298   & 28.51783    & 1           & 0           & 0           & 5.93109     & 285.8289    & 480.1948    & 268.3836    & 365.0196    & 295.9352    & 295.63      & 468.26      & 337.88      & 348.74      & 0.1105016   & 0.07819394 \\\\\n",
       "\\end{tabular}\n"
      ],
      "text/markdown": [
       "\n",
       "| <!--/--> | county | year | crmrte | prbarr | prbconv | prbpris | avgsen | polpc | density | taxpc | west | central | urban | pctmin80 | wcon | wtuc | wtrd | wfir | wser | wmfg | wfed | wsta | wloc | mix | pctymle | \n",
       "|---|---|\n",
       "| 88 | 193         | 87          | 0.0235277   | 0.266055    | 0.588859022 | 0.423423    | 5.86        | 0.00117887  | 0.8138298   | 28.51783    | 1           | 0           | 0           | 5.93109     | 285.8289    | 480.1948    | 268.3836    | 365.0196    | 295.9352    | 295.63      | 468.26      | 337.88      | 348.74      | 0.1105016   | 0.07819394  | \n",
       "| 89 | 193         | 87          | 0.0235277   | 0.266055    | 0.588859022 | 0.423423    | 5.86        | 0.00117887  | 0.8138298   | 28.51783    | 1           | 0           | 0           | 5.93109     | 285.8289    | 480.1948    | 268.3836    | 365.0196    | 295.9352    | 295.63      | 468.26      | 337.88      | 348.74      | 0.1105016   | 0.07819394  | \n",
       "\n",
       "\n"
      ],
      "text/plain": [
       "   county year crmrte    prbarr   prbconv     prbpris  avgsen polpc     \n",
       "88 193    87   0.0235277 0.266055 0.588859022 0.423423 5.86   0.00117887\n",
       "89 193    87   0.0235277 0.266055 0.588859022 0.423423 5.86   0.00117887\n",
       "   density   taxpc    west central urban pctmin80 wcon     wtuc     wtrd    \n",
       "88 0.8138298 28.51783 1    0       0     5.93109  285.8289 480.1948 268.3836\n",
       "89 0.8138298 28.51783 1    0       0     5.93109  285.8289 480.1948 268.3836\n",
       "   wfir     wser     wmfg   wfed   wsta   wloc   mix       pctymle   \n",
       "88 365.0196 295.9352 295.63 468.26 337.88 348.74 0.1105016 0.07819394\n",
       "89 365.0196 295.9352 295.63 468.26 337.88 348.74 0.1105016 0.07819394"
      ]
     },
     "metadata": {},
     "output_type": "display_data"
    }
   ],
   "source": [
    "# One duplicated county (remove)\n",
    "paste(\"Unique county identifier:\", nrow(clean) == length(unique(clean$county)))\n",
    "paste(\"Duplicated county id:\", clean$county[duplicated(clean$county) & !is.na(clean$county)])\n",
    "subset(clean, subset = clean$county == 193)\n",
    "clean <- clean[!duplicated(clean$county), ]"
   ]
  },
  {
   "cell_type": "markdown",
   "metadata": {},
   "source": [
    "**Crime rate**"
   ]
  },
  {
   "cell_type": "markdown",
   "metadata": {},
   "source": [
    "`crmrte` values are within a reasonable range and there are no concentrations around specific values that would lead us to suspect measurement errors. Therefore, it is not necessary to clean this variable up and we will leave it unchanged."
   ]
  },
  {
   "cell_type": "code",
   "execution_count": 86,
   "metadata": {},
   "outputs": [
    {
     "data": {
      "text/plain": [
       "    Min.  1st Qu.   Median     Mean  3rd Qu.     Max. \n",
       "0.005533 0.020604 0.030002 0.033510 0.040249 0.098966 "
      ]
     },
     "metadata": {},
     "output_type": "display_data"
    }
   ],
   "source": [
    "summary(clean$crmrte)"
   ]
  },
  {
   "cell_type": "code",
   "execution_count": 94,
   "metadata": {},
   "outputs": [
    {
     "data": {
      "image/png": "[encoded data removed]",
      "text/plain": [
       "Plot with title \"Histogram - Crime Rate\""
      ]
     },
     "metadata": {},
     "output_type": "display_data"
    }
   ],
   "source": [
    "hist(clean$crmrte, main = \"Histogram - Crime Rate\", col = 'gray', ylim = c(0, 25), xlab = \"Crimes per person\")"
   ]
  },
  {
   "cell_type": "code",
   "execution_count": 99,
   "metadata": {},
   "outputs": [
    {
     "data": {
      "text/html": [
       "'Repeated values: 0'"
      ],
      "text/latex": [
       "'Repeated values: 0'"
      ],
      "text/markdown": [
       "'Repeated values: 0'"
      ],
      "text/plain": [
       "[1] \"Repeated values: 0\""
      ]
     },
     "metadata": {},
     "output_type": "display_data"
    }
   ],
   "source": [
    "# Check for concentration of values\n",
    "freqs.crmrte <- data.frame(table(clean$crmrte))\n",
    "paste(\"Repeated values:\", \n",
    "      length(freqs.crmrte$Freq[freqs.crmrte$Freq > 1]))"
   ]
  },
  {
   "cell_type": "markdown",
   "metadata": {},
   "source": [
    "**Prbarr**\n",
    "\n",
    "There is one value higher than 1. This is atypical but we cannot be sure that it is a error since we don't have enough information about how this variable is defined. Specifically, there are possible definitions of this variable or county characteristics under which a value higher than 1 is possible. For example, \n",
    "\n",
    "$$prbarr = \\frac{\\text{arrests_in_period_t}}{\\text{crimes_in_period_t}}$$.\n",
    "\n",
    "Under this definition, arrests in period t correspond both to crimers committed in period $t$ but also in $t-i$ since there is a lag between the time that a crime is committed and the time when the arrest is made, that could span for more than one period. For example, it is possible that after a period $t-1$ with an unusually high number of crimes followed by a period $t$ with unusually low number of crimes the number of arrests in $t$ is higher than the number of crimes in $t$, since many of the arrests in $t$ may come from the number of crimes committed in $t-1$."
   ]
  },
  {
   "cell_type": "code",
   "execution_count": 83,
   "metadata": {},
   "outputs": [
    {
     "data": {
      "text/html": [
       "<table>\n",
       "<thead><tr><th></th><th scope=col>county</th><th scope=col>year</th><th scope=col>crmrte</th><th scope=col>prbarr</th><th scope=col>prbconv</th><th scope=col>prbpris</th><th scope=col>avgsen</th><th scope=col>polpc</th><th scope=col>density</th><th scope=col>taxpc</th><th scope=col>west</th><th scope=col>central</th><th scope=col>urban</th><th scope=col>pctmin80</th><th scope=col>wcon</th><th scope=col>wtuc</th><th scope=col>wtrd</th><th scope=col>wfir</th><th scope=col>wser</th><th scope=col>wmfg</th><th scope=col>wfed</th><th scope=col>wsta</th><th scope=col>wloc</th><th scope=col>mix</th><th scope=col>pctymle</th></tr></thead>\n",
       "<tbody>\n",
       "\t<tr><th scope=row>51</th><td>115       </td><td>87        </td><td>0.0055332 </td><td>1.09091   </td><td>1.5       </td><td>0.5       </td><td>20.7      </td><td>0.00905433</td><td>0.3858093 </td><td>28.1931   </td><td>1         </td><td>0         </td><td>0         </td><td>1.28365   </td><td>204.2206  </td><td>503.2351  </td><td>217.4908  </td><td>342.4658  </td><td>245.2061  </td><td>448.42    </td><td>442.2     </td><td>340.39    </td><td>386.12    </td><td>0.1       </td><td>0.07253495</td></tr>\n",
       "</tbody>\n",
       "</table>\n"
      ],
      "text/latex": [
       "\\begin{tabular}{r|lllllllllllllllllllllllll}\n",
       "  & county & year & crmrte & prbarr & prbconv & prbpris & avgsen & polpc & density & taxpc & west & central & urban & pctmin80 & wcon & wtuc & wtrd & wfir & wser & wmfg & wfed & wsta & wloc & mix & pctymle\\\\\n",
       "\\hline\n",
       "\t51 & 115        & 87         & 0.0055332  & 1.09091    & 1.5        & 0.5        & 20.7       & 0.00905433 & 0.3858093  & 28.1931    & 1          & 0          & 0          & 1.28365    & 204.2206   & 503.2351   & 217.4908   & 342.4658   & 245.2061   & 448.42     & 442.2      & 340.39     & 386.12     & 0.1        & 0.07253495\\\\\n",
       "\\end{tabular}\n"
      ],
      "text/markdown": [
       "\n",
       "| <!--/--> | county | year | crmrte | prbarr | prbconv | prbpris | avgsen | polpc | density | taxpc | west | central | urban | pctmin80 | wcon | wtuc | wtrd | wfir | wser | wmfg | wfed | wsta | wloc | mix | pctymle | \n",
       "|---|\n",
       "| 51 | 115        | 87         | 0.0055332  | 1.09091    | 1.5        | 0.5        | 20.7       | 0.00905433 | 0.3858093  | 28.1931    | 1          | 0          | 0          | 1.28365    | 204.2206   | 503.2351   | 217.4908   | 342.4658   | 245.2061   | 448.42     | 442.2      | 340.39     | 386.12     | 0.1        | 0.07253495 | \n",
       "\n",
       "\n"
      ],
      "text/plain": [
       "   county year crmrte    prbarr  prbconv prbpris avgsen polpc      density  \n",
       "51 115    87   0.0055332 1.09091 1.5     0.5     20.7   0.00905433 0.3858093\n",
       "   taxpc   west central urban pctmin80 wcon     wtuc     wtrd     wfir    \n",
       "51 28.1931 1    0       0     1.28365  204.2206 503.2351 217.4908 342.4658\n",
       "   wser     wmfg   wfed  wsta   wloc   mix pctymle   \n",
       "51 245.2061 448.42 442.2 340.39 386.12 0.1 0.07253495"
      ]
     },
     "metadata": {},
     "output_type": "display_data"
    },
    {
     "data": {
      "image/png": "[encoded data removed]",
      "text/plain": [
       "Plot with title \"Histogram - Probatility of Arrest\""
      ]
     },
     "metadata": {},
     "output_type": "display_data"
    }
   ],
   "source": [
    "options(repr.plot.width=5, repr.plot.height=5)\n",
    "hist(clean$prbarr, main = \"Histogram - Probatility of Arrest\", xlab = \"Probality of arrest\", \n",
    "     labels = TRUE, ylim = c(0, 40), col = rgb(0.7, 0, 0, 0.2))\n",
    "clean[clean$prbarr > 1, ]"
   ]
  },
  {
   "cell_type": "markdown",
   "metadata": {},
   "source": [
    "**Prbconv**\n",
    "\n",
    "`prbconv` is being imported into R as a factor, when it should be numeric, which is likely caused by the '\\`' value. Since we have removed this value already, we can now recast this variable as as numeric."
   ]
  },
  {
   "cell_type": "code",
   "execution_count": 38,
   "metadata": {},
   "outputs": [],
   "source": [
    "# Remove ` and cast the class to numeric\n",
    "clean$prbconv <- as.numeric(as.character(clean$prbconv))"
   ]
  },
  {
   "cell_type": "markdown",
   "metadata": {},
   "source": [
    "Summarizing this variable, we found that there are 10 observations with values higher than 1 and one of them with a value higher than 2. Despite these values being unusually high they are possible for the same reasons exposed in the case of `prbarr`. Furthermore, in the case of `prbconv` the lag between the arrest and the end of a trial is likely even longer than in the lag of `prbarr`. Therefore, since we don't have additional information on the definition used to build this variable and no way to validate which specific definition was used using numerical methods, we will not clean these 10 values."
   ]
  },
  {
   "cell_type": "code",
   "execution_count": 73,
   "metadata": {},
   "outputs": [
    {
     "data": {
      "text/html": [
       "'Summary statistics - Probability of conviction'"
      ],
      "text/latex": [
       "'Summary statistics - Probability of conviction'"
      ],
      "text/markdown": [
       "'Summary statistics - Probability of conviction'"
      ],
      "text/plain": [
       "[1] \"Summary statistics - Probability of conviction\""
      ]
     },
     "metadata": {},
     "output_type": "display_data"
    },
    {
     "data": {
      "text/plain": [
       "   Min. 1st Qu.  Median    Mean 3rd Qu.    Max. \n",
       "0.06838 0.34422 0.45170 0.55086 0.58513 2.12121 "
      ]
     },
     "metadata": {},
     "output_type": "display_data"
    },
    {
     "data": {
      "text/html": [
       "'Number of observations higher than 1: 10'"
      ],
      "text/latex": [
       "'Number of observations higher than 1: 10'"
      ],
      "text/markdown": [
       "'Number of observations higher than 1: 10'"
      ],
      "text/plain": [
       "[1] \"Number of observations higher than 1: 10\""
      ]
     },
     "metadata": {},
     "output_type": "display_data"
    },
    {
     "data": {
      "text/html": [
       "<table>\n",
       "<thead><tr><th></th><th scope=col>county</th><th scope=col>year</th><th scope=col>crmrte</th><th scope=col>prbarr</th><th scope=col>prbconv</th><th scope=col>prbpris</th><th scope=col>avgsen</th><th scope=col>polpc</th><th scope=col>density</th><th scope=col>taxpc</th><th scope=col>west</th><th scope=col>central</th><th scope=col>urban</th><th scope=col>pctmin80</th><th scope=col>wcon</th><th scope=col>wtuc</th><th scope=col>wtrd</th><th scope=col>wfir</th><th scope=col>wser</th><th scope=col>wmfg</th><th scope=col>wfed</th><th scope=col>wsta</th><th scope=col>wloc</th><th scope=col>mix</th><th scope=col>pctymle</th></tr></thead>\n",
       "<tbody>\n",
       "\t<tr><th scope=row>2</th><td>  3       </td><td>87        </td><td>0.0152532 </td><td>0.132029  </td><td>1.48148   </td><td>0.450000  </td><td> 6.35     </td><td>0.00074588</td><td>1.0463320 </td><td>26.89208  </td><td>0         </td><td>1         </td><td>0         </td><td> 7.91632  </td><td>255.1020  </td><td>376.2542  </td><td>196.0101  </td><td>258.5650  </td><td> 192.3077 </td><td>300.38    </td><td>409.83    </td><td>362.96    </td><td>301.47    </td><td>0.03022670</td><td>0.08260694</td></tr>\n",
       "\t<tr><th scope=row>10</th><td> 19       </td><td>87        </td><td>0.0221567 </td><td>0.162860  </td><td>1.22561   </td><td>0.333333  </td><td>10.34     </td><td>0.00202425</td><td>0.5767442 </td><td>61.15251  </td><td>0         </td><td>0         </td><td>0         </td><td>24.31170  </td><td>260.1381  </td><td>613.2261  </td><td>191.2452  </td><td>290.5141  </td><td> 266.0934 </td><td>567.06    </td><td>403.15    </td><td>258.33    </td><td>299.44    </td><td>0.05334728</td><td>0.07713232</td></tr>\n",
       "\t<tr><th scope=row>44</th><td> 99       </td><td>87        </td><td>0.0171865 </td><td>0.153846  </td><td>1.23438   </td><td>0.556962  </td><td>14.75     </td><td>0.00185912</td><td>0.5478615 </td><td>39.57348  </td><td>1         </td><td>0         </td><td>0         </td><td>14.28460  </td><td>259.7841  </td><td>417.2099  </td><td>168.2692  </td><td>301.5734  </td><td> 247.6291 </td><td>258.99    </td><td>442.76    </td><td>387.02    </td><td>291.44    </td><td>0.01960784</td><td>0.12894706</td></tr>\n",
       "\t<tr><th scope=row>51</th><td>115       </td><td>87        </td><td>0.0055332 </td><td>1.090910  </td><td>1.50000   </td><td>0.500000  </td><td>20.70     </td><td>0.00905433</td><td>0.3858093 </td><td>28.19310  </td><td>1         </td><td>0         </td><td>0         </td><td> 1.28365  </td><td>204.2206  </td><td>503.2351  </td><td>217.4908  </td><td>342.4658  </td><td> 245.2061 </td><td>448.42    </td><td>442.20    </td><td>340.39    </td><td>386.12    </td><td>0.10000000</td><td>0.07253495</td></tr>\n",
       "\t<tr><th scope=row>56</th><td>127       </td><td>87        </td><td>0.0291496 </td><td>0.179616  </td><td>1.35814   </td><td>0.335616  </td><td>15.99     </td><td>0.00158289</td><td>1.3388889 </td><td>32.02376  </td><td>0         </td><td>0         </td><td>0         </td><td>34.27990  </td><td>290.9091  </td><td>426.3901  </td><td>257.6008  </td><td>441.1413  </td><td> 305.7612 </td><td>329.87    </td><td>508.61    </td><td>380.30    </td><td>329.71    </td><td>0.06305506</td><td>0.07400288</td></tr>\n",
       "\t<tr><th scope=row>61</th><td>137       </td><td>87        </td><td>0.0126662 </td><td>0.207143  </td><td>1.06897   </td><td>0.322581  </td><td> 6.18     </td><td>0.00081426</td><td>0.3167155 </td><td>44.29367  </td><td>0         </td><td>0         </td><td>0         </td><td>33.04480  </td><td>299.4956  </td><td>356.1254  </td><td>170.8711  </td><td>170.9402  </td><td> 250.8361 </td><td>192.96    </td><td>360.84    </td><td>283.90    </td><td>321.73    </td><td>0.06870229</td><td>0.07098370</td></tr>\n",
       "\t<tr><th scope=row>67</th><td>149       </td><td>87        </td><td>0.0164987 </td><td>0.271967  </td><td>1.01538   </td><td>0.227273  </td><td>14.62     </td><td>0.00151871</td><td>0.6092437 </td><td>29.03402  </td><td>1         </td><td>0         </td><td>0         </td><td>10.00460  </td><td>223.6136  </td><td>437.0629  </td><td>188.7683  </td><td>353.2182  </td><td> 210.4415 </td><td>289.43    </td><td>421.34    </td><td>342.92    </td><td>301.23    </td><td>0.11682243</td><td>0.06215772</td></tr>\n",
       "\t<tr><th scope=row>84</th><td>185       </td><td>87        </td><td>0.0108703 </td><td>0.195266  </td><td>2.12121   </td><td>0.442857  </td><td> 5.38     </td><td>0.00122210</td><td>0.3887588 </td><td>40.82454  </td><td>0         </td><td>1         </td><td>0         </td><td>64.34820  </td><td>226.8245  </td><td>331.5650  </td><td>167.3726  </td><td>264.4231  </td><td>2177.0681 </td><td>247.72    </td><td>381.33    </td><td>367.25    </td><td>300.13    </td><td>0.04968944</td><td>0.07008217</td></tr>\n",
       "\t<tr><th scope=row>90</th><td>195       </td><td>87        </td><td>0.0313973 </td><td>0.201397  </td><td>1.67052   </td><td>0.470588  </td><td>13.02     </td><td>0.00445923</td><td>1.7459893 </td><td>53.66693  </td><td>0         </td><td>0         </td><td>0         </td><td>37.43110  </td><td>315.1641  </td><td>377.9356  </td><td>246.0614  </td><td>411.4330  </td><td> 296.8684 </td><td>392.27    </td><td>480.79    </td><td>303.11    </td><td>337.28    </td><td>0.15612382</td><td>0.07945071</td></tr>\n",
       "\t<tr><th scope=row>91</th><td>197       </td><td>87        </td><td>0.0141928 </td><td>0.207595  </td><td>1.18293   </td><td>0.360825  </td><td>12.23     </td><td>0.00118573</td><td>0.8898810 </td><td>25.95258  </td><td>1         </td><td>0         </td><td>0         </td><td> 5.46081  </td><td>314.1660  </td><td>341.8803  </td><td>182.8020  </td><td>348.1432  </td><td> 212.8205 </td><td>322.92    </td><td>391.72    </td><td>385.65    </td><td>306.85    </td><td>0.06756757</td><td>0.07419893</td></tr>\n",
       "</tbody>\n",
       "</table>\n"
      ],
      "text/latex": [
       "\\begin{tabular}{r|lllllllllllllllllllllllll}\n",
       "  & county & year & crmrte & prbarr & prbconv & prbpris & avgsen & polpc & density & taxpc & west & central & urban & pctmin80 & wcon & wtuc & wtrd & wfir & wser & wmfg & wfed & wsta & wloc & mix & pctymle\\\\\n",
       "\\hline\n",
       "\t2 &   3        & 87         & 0.0152532  & 0.132029   & 1.48148    & 0.450000   &  6.35      & 0.00074588 & 1.0463320  & 26.89208   & 0          & 1          & 0          &  7.91632   & 255.1020   & 376.2542   & 196.0101   & 258.5650   &  192.3077  & 300.38     & 409.83     & 362.96     & 301.47     & 0.03022670 & 0.08260694\\\\\n",
       "\t10 &  19        & 87         & 0.0221567  & 0.162860   & 1.22561    & 0.333333   & 10.34      & 0.00202425 & 0.5767442  & 61.15251   & 0          & 0          & 0          & 24.31170   & 260.1381   & 613.2261   & 191.2452   & 290.5141   &  266.0934  & 567.06     & 403.15     & 258.33     & 299.44     & 0.05334728 & 0.07713232\\\\\n",
       "\t44 &  99        & 87         & 0.0171865  & 0.153846   & 1.23438    & 0.556962   & 14.75      & 0.00185912 & 0.5478615  & 39.57348   & 1          & 0          & 0          & 14.28460   & 259.7841   & 417.2099   & 168.2692   & 301.5734   &  247.6291  & 258.99     & 442.76     & 387.02     & 291.44     & 0.01960784 & 0.12894706\\\\\n",
       "\t51 & 115        & 87         & 0.0055332  & 1.090910   & 1.50000    & 0.500000   & 20.70      & 0.00905433 & 0.3858093  & 28.19310   & 1          & 0          & 0          &  1.28365   & 204.2206   & 503.2351   & 217.4908   & 342.4658   &  245.2061  & 448.42     & 442.20     & 340.39     & 386.12     & 0.10000000 & 0.07253495\\\\\n",
       "\t56 & 127        & 87         & 0.0291496  & 0.179616   & 1.35814    & 0.335616   & 15.99      & 0.00158289 & 1.3388889  & 32.02376   & 0          & 0          & 0          & 34.27990   & 290.9091   & 426.3901   & 257.6008   & 441.1413   &  305.7612  & 329.87     & 508.61     & 380.30     & 329.71     & 0.06305506 & 0.07400288\\\\\n",
       "\t61 & 137        & 87         & 0.0126662  & 0.207143   & 1.06897    & 0.322581   &  6.18      & 0.00081426 & 0.3167155  & 44.29367   & 0          & 0          & 0          & 33.04480   & 299.4956   & 356.1254   & 170.8711   & 170.9402   &  250.8361  & 192.96     & 360.84     & 283.90     & 321.73     & 0.06870229 & 0.07098370\\\\\n",
       "\t67 & 149        & 87         & 0.0164987  & 0.271967   & 1.01538    & 0.227273   & 14.62      & 0.00151871 & 0.6092437  & 29.03402   & 1          & 0          & 0          & 10.00460   & 223.6136   & 437.0629   & 188.7683   & 353.2182   &  210.4415  & 289.43     & 421.34     & 342.92     & 301.23     & 0.11682243 & 0.06215772\\\\\n",
       "\t84 & 185        & 87         & 0.0108703  & 0.195266   & 2.12121    & 0.442857   &  5.38      & 0.00122210 & 0.3887588  & 40.82454   & 0          & 1          & 0          & 64.34820   & 226.8245   & 331.5650   & 167.3726   & 264.4231   & 2177.0681  & 247.72     & 381.33     & 367.25     & 300.13     & 0.04968944 & 0.07008217\\\\\n",
       "\t90 & 195        & 87         & 0.0313973  & 0.201397   & 1.67052    & 0.470588   & 13.02      & 0.00445923 & 1.7459893  & 53.66693   & 0          & 0          & 0          & 37.43110   & 315.1641   & 377.9356   & 246.0614   & 411.4330   &  296.8684  & 392.27     & 480.79     & 303.11     & 337.28     & 0.15612382 & 0.07945071\\\\\n",
       "\t91 & 197        & 87         & 0.0141928  & 0.207595   & 1.18293    & 0.360825   & 12.23      & 0.00118573 & 0.8898810  & 25.95258   & 1          & 0          & 0          &  5.46081   & 314.1660   & 341.8803   & 182.8020   & 348.1432   &  212.8205  & 322.92     & 391.72     & 385.65     & 306.85     & 0.06756757 & 0.07419893\\\\\n",
       "\\end{tabular}\n"
      ],
      "text/markdown": [
       "\n",
       "| <!--/--> | county | year | crmrte | prbarr | prbconv | prbpris | avgsen | polpc | density | taxpc | west | central | urban | pctmin80 | wcon | wtuc | wtrd | wfir | wser | wmfg | wfed | wsta | wloc | mix | pctymle | \n",
       "|---|---|---|---|---|---|---|---|---|---|\n",
       "| 2 |   3        | 87         | 0.0152532  | 0.132029   | 1.48148    | 0.450000   |  6.35      | 0.00074588 | 1.0463320  | 26.89208   | 0          | 1          | 0          |  7.91632   | 255.1020   | 376.2542   | 196.0101   | 258.5650   |  192.3077  | 300.38     | 409.83     | 362.96     | 301.47     | 0.03022670 | 0.08260694 | \n",
       "| 10 |  19        | 87         | 0.0221567  | 0.162860   | 1.22561    | 0.333333   | 10.34      | 0.00202425 | 0.5767442  | 61.15251   | 0          | 0          | 0          | 24.31170   | 260.1381   | 613.2261   | 191.2452   | 290.5141   |  266.0934  | 567.06     | 403.15     | 258.33     | 299.44     | 0.05334728 | 0.07713232 | \n",
       "| 44 |  99        | 87         | 0.0171865  | 0.153846   | 1.23438    | 0.556962   | 14.75      | 0.00185912 | 0.5478615  | 39.57348   | 1          | 0          | 0          | 14.28460   | 259.7841   | 417.2099   | 168.2692   | 301.5734   |  247.6291  | 258.99     | 442.76     | 387.02     | 291.44     | 0.01960784 | 0.12894706 | \n",
       "| 51 | 115        | 87         | 0.0055332  | 1.090910   | 1.50000    | 0.500000   | 20.70      | 0.00905433 | 0.3858093  | 28.19310   | 1          | 0          | 0          |  1.28365   | 204.2206   | 503.2351   | 217.4908   | 342.4658   |  245.2061  | 448.42     | 442.20     | 340.39     | 386.12     | 0.10000000 | 0.07253495 | \n",
       "| 56 | 127        | 87         | 0.0291496  | 0.179616   | 1.35814    | 0.335616   | 15.99      | 0.00158289 | 1.3388889  | 32.02376   | 0          | 0          | 0          | 34.27990   | 290.9091   | 426.3901   | 257.6008   | 441.1413   |  305.7612  | 329.87     | 508.61     | 380.30     | 329.71     | 0.06305506 | 0.07400288 | \n",
       "| 61 | 137        | 87         | 0.0126662  | 0.207143   | 1.06897    | 0.322581   |  6.18      | 0.00081426 | 0.3167155  | 44.29367   | 0          | 0          | 0          | 33.04480   | 299.4956   | 356.1254   | 170.8711   | 170.9402   |  250.8361  | 192.96     | 360.84     | 283.90     | 321.73     | 0.06870229 | 0.07098370 | \n",
       "| 67 | 149        | 87         | 0.0164987  | 0.271967   | 1.01538    | 0.227273   | 14.62      | 0.00151871 | 0.6092437  | 29.03402   | 1          | 0          | 0          | 10.00460   | 223.6136   | 437.0629   | 188.7683   | 353.2182   |  210.4415  | 289.43     | 421.34     | 342.92     | 301.23     | 0.11682243 | 0.06215772 | \n",
       "| 84 | 185        | 87         | 0.0108703  | 0.195266   | 2.12121    | 0.442857   |  5.38      | 0.00122210 | 0.3887588  | 40.82454   | 0          | 1          | 0          | 64.34820   | 226.8245   | 331.5650   | 167.3726   | 264.4231   | 2177.0681  | 247.72     | 381.33     | 367.25     | 300.13     | 0.04968944 | 0.07008217 | \n",
       "| 90 | 195        | 87         | 0.0313973  | 0.201397   | 1.67052    | 0.470588   | 13.02      | 0.00445923 | 1.7459893  | 53.66693   | 0          | 0          | 0          | 37.43110   | 315.1641   | 377.9356   | 246.0614   | 411.4330   |  296.8684  | 392.27     | 480.79     | 303.11     | 337.28     | 0.15612382 | 0.07945071 | \n",
       "| 91 | 197        | 87         | 0.0141928  | 0.207595   | 1.18293    | 0.360825   | 12.23      | 0.00118573 | 0.8898810  | 25.95258   | 1          | 0          | 0          |  5.46081   | 314.1660   | 341.8803   | 182.8020   | 348.1432   |  212.8205  | 322.92     | 391.72     | 385.65     | 306.85     | 0.06756757 | 0.07419893 | \n",
       "\n",
       "\n"
      ],
      "text/plain": [
       "   county year crmrte    prbarr   prbconv prbpris  avgsen polpc      density  \n",
       "2    3    87   0.0152532 0.132029 1.48148 0.450000  6.35  0.00074588 1.0463320\n",
       "10  19    87   0.0221567 0.162860 1.22561 0.333333 10.34  0.00202425 0.5767442\n",
       "44  99    87   0.0171865 0.153846 1.23438 0.556962 14.75  0.00185912 0.5478615\n",
       "51 115    87   0.0055332 1.090910 1.50000 0.500000 20.70  0.00905433 0.3858093\n",
       "56 127    87   0.0291496 0.179616 1.35814 0.335616 15.99  0.00158289 1.3388889\n",
       "61 137    87   0.0126662 0.207143 1.06897 0.322581  6.18  0.00081426 0.3167155\n",
       "67 149    87   0.0164987 0.271967 1.01538 0.227273 14.62  0.00151871 0.6092437\n",
       "84 185    87   0.0108703 0.195266 2.12121 0.442857  5.38  0.00122210 0.3887588\n",
       "90 195    87   0.0313973 0.201397 1.67052 0.470588 13.02  0.00445923 1.7459893\n",
       "91 197    87   0.0141928 0.207595 1.18293 0.360825 12.23  0.00118573 0.8898810\n",
       "   taxpc    west central urban pctmin80 wcon     wtuc     wtrd     wfir    \n",
       "2  26.89208 0    1       0      7.91632 255.1020 376.2542 196.0101 258.5650\n",
       "10 61.15251 0    0       0     24.31170 260.1381 613.2261 191.2452 290.5141\n",
       "44 39.57348 1    0       0     14.28460 259.7841 417.2099 168.2692 301.5734\n",
       "51 28.19310 1    0       0      1.28365 204.2206 503.2351 217.4908 342.4658\n",
       "56 32.02376 0    0       0     34.27990 290.9091 426.3901 257.6008 441.1413\n",
       "61 44.29367 0    0       0     33.04480 299.4956 356.1254 170.8711 170.9402\n",
       "67 29.03402 1    0       0     10.00460 223.6136 437.0629 188.7683 353.2182\n",
       "84 40.82454 0    1       0     64.34820 226.8245 331.5650 167.3726 264.4231\n",
       "90 53.66693 0    0       0     37.43110 315.1641 377.9356 246.0614 411.4330\n",
       "91 25.95258 1    0       0      5.46081 314.1660 341.8803 182.8020 348.1432\n",
       "   wser      wmfg   wfed   wsta   wloc   mix        pctymle   \n",
       "2   192.3077 300.38 409.83 362.96 301.47 0.03022670 0.08260694\n",
       "10  266.0934 567.06 403.15 258.33 299.44 0.05334728 0.07713232\n",
       "44  247.6291 258.99 442.76 387.02 291.44 0.01960784 0.12894706\n",
       "51  245.2061 448.42 442.20 340.39 386.12 0.10000000 0.07253495\n",
       "56  305.7612 329.87 508.61 380.30 329.71 0.06305506 0.07400288\n",
       "61  250.8361 192.96 360.84 283.90 321.73 0.06870229 0.07098370\n",
       "67  210.4415 289.43 421.34 342.92 301.23 0.11682243 0.06215772\n",
       "84 2177.0681 247.72 381.33 367.25 300.13 0.04968944 0.07008217\n",
       "90  296.8684 392.27 480.79 303.11 337.28 0.15612382 0.07945071\n",
       "91  212.8205 322.92 391.72 385.65 306.85 0.06756757 0.07419893"
      ]
     },
     "metadata": {},
     "output_type": "display_data"
    }
   ],
   "source": [
    "paste(\"Summary statistics - Probability of conviction\")\n",
    "summary(clean$prbconv)\n",
    "paste(\"Number of observations higher than 1:\", length(clean$prbconv[clean$prbconv > 1]))\n",
    "clean[clean$prbconv > 1, ]"
   ]
  },
  {
   "cell_type": "code",
   "execution_count": 84,
   "metadata": {},
   "outputs": [
    {
     "data": {
      "image/png": "[encoded data removed]",
      "text/plain": [
       "Plot with title \"Histogram - Probability of Conviction\""
      ]
     },
     "metadata": {},
     "output_type": "display_data"
    }
   ],
   "source": [
    "hist(clean$prbarr, main = \"Histogram - Probability of Conviction\", xlab = \"Probality of conviction\", \n",
    "     labels = TRUE, ylim = c(0, 40), col = rgb(0.7, 0, 0, 0.5))"
   ]
  },
  {
   "cell_type": "markdown",
   "metadata": {},
   "source": [
    "**Probability of prison**"
   ]
  },
  {
   "cell_type": "code",
   "execution_count": 81,
   "metadata": {},
   "outputs": [
    {
     "data": {
      "text/html": [
       "'Summary statistics - Probability of prison'"
      ],
      "text/latex": [
       "'Summary statistics - Probability of prison'"
      ],
      "text/markdown": [
       "'Summary statistics - Probability of prison'"
      ],
      "text/plain": [
       "[1] \"Summary statistics - Probability of prison\""
      ]
     },
     "metadata": {},
     "output_type": "display_data"
    },
    {
     "data": {
      "text/plain": [
       "   Min. 1st Qu.  Median    Mean 3rd Qu.    Max. \n",
       " 0.1500  0.3642  0.4222  0.4106  0.4576  0.6000 "
      ]
     },
     "metadata": {},
     "output_type": "display_data"
    }
   ],
   "source": [
    "paste(\"Summary statistics - Probability of prison\")\n",
    "summary(clean$prbpris)"
   ]
  },
  {
   "cell_type": "code",
   "execution_count": 85,
   "metadata": {},
   "outputs": [
    {
     "data": {
      "image/png": "[encoded data removed]",
      "text/plain": [
       "Plot with title \"Histogram - Probability of Prison\""
      ]
     },
     "metadata": {},
     "output_type": "display_data"
    }
   ],
   "source": [
    "hist(clean$prbpris, main = \"Histogram - Probability of Prison\", xlab = \"Probality of prison\", \n",
    "     labels = TRUE, ylim = c(0, 40), col = rgb(0.7, 0, 0, 0.7))"
   ]
  },
  {
   "cell_type": "markdown",
   "metadata": {},
   "source": [
    "**Regions**"
   ]
  },
  {
   "cell_type": "markdown",
   "metadata": {},
   "source": [
    "The first thing to notice in the regions variables (i.e. `west` and `central`) is the apparent abscence of at least one region (`east`) in the dataset. The fact that some observations have a value $0$ in both `west` and `central` also indicates that there is at least one regional variable missing which could be a potential source of bias because it is likely to capture regional variations that we will be capturing only partially using the two variables available. Even though we could assume that there is indeed only three regions (the Wikipedia entry of this topic contains three regions [source](https://en.wikipedia.org/wiki/List_of_regions_of_the_United_States#North_Carolina)), we cannot be sure that this is indeed the definition that was used in the dataset.\n",
    "\n",
    "Furthermore, we found that there is one observation (county 71) with value 1 in both `west` and `central`, which is likely a mistake. Since we don't have a way to internally validate to which region this county belongs to, we replaced these two values with `NA`."
   ]
  },
  {
   "cell_type": "code",
   "execution_count": 103,
   "metadata": {},
   "outputs": [
    {
     "data": {
      "text/html": [
       "<table>\n",
       "<thead><tr><th></th><th scope=col>county</th><th scope=col>year</th><th scope=col>crmrte</th><th scope=col>prbarr</th><th scope=col>prbconv</th><th scope=col>prbpris</th><th scope=col>avgsen</th><th scope=col>polpc</th><th scope=col>density</th><th scope=col>taxpc</th><th scope=col>west</th><th scope=col>central</th><th scope=col>urban</th><th scope=col>pctmin80</th><th scope=col>wcon</th><th scope=col>wtuc</th><th scope=col>wtrd</th><th scope=col>wfir</th><th scope=col>wser</th><th scope=col>wmfg</th><th scope=col>wfed</th><th scope=col>wsta</th><th scope=col>wloc</th><th scope=col>mix</th><th scope=col>pctymle</th></tr></thead>\n",
       "<tbody>\n",
       "\t<tr><th scope=row>33</th><td>71        </td><td>87        </td><td>0.0544061 </td><td>0.243119  </td><td>0.22959   </td><td>0.379175  </td><td>11.29     </td><td>0.00207028</td><td>4.834734  </td><td>31.53658  </td><td>1         </td><td>1         </td><td>0         </td><td>13.315    </td><td>291.4508  </td><td>595.3719  </td><td>240.3673  </td><td>348.0254  </td><td>295.2301  </td><td>358.95    </td><td>509.43    </td><td>359.11    </td><td>339.58    </td><td>0.1018608 </td><td>0.07939028</td></tr>\n",
       "</tbody>\n",
       "</table>\n"
      ],
      "text/latex": [
       "\\begin{tabular}{r|lllllllllllllllllllllllll}\n",
       "  & county & year & crmrte & prbarr & prbconv & prbpris & avgsen & polpc & density & taxpc & west & central & urban & pctmin80 & wcon & wtuc & wtrd & wfir & wser & wmfg & wfed & wsta & wloc & mix & pctymle\\\\\n",
       "\\hline\n",
       "\t33 & 71         & 87         & 0.0544061  & 0.243119   & 0.22959    & 0.379175   & 11.29      & 0.00207028 & 4.834734   & 31.53658   & 1          & 1          & 0          & 13.315     & 291.4508   & 595.3719   & 240.3673   & 348.0254   & 295.2301   & 358.95     & 509.43     & 359.11     & 339.58     & 0.1018608  & 0.07939028\\\\\n",
       "\\end{tabular}\n"
      ],
      "text/markdown": [
       "\n",
       "| <!--/--> | county | year | crmrte | prbarr | prbconv | prbpris | avgsen | polpc | density | taxpc | west | central | urban | pctmin80 | wcon | wtuc | wtrd | wfir | wser | wmfg | wfed | wsta | wloc | mix | pctymle | \n",
       "|---|\n",
       "| 33 | 71         | 87         | 0.0544061  | 0.243119   | 0.22959    | 0.379175   | 11.29      | 0.00207028 | 4.834734   | 31.53658   | 1          | 1          | 0          | 13.315     | 291.4508   | 595.3719   | 240.3673   | 348.0254   | 295.2301   | 358.95     | 509.43     | 359.11     | 339.58     | 0.1018608  | 0.07939028 | \n",
       "\n",
       "\n"
      ],
      "text/plain": [
       "   county year crmrte    prbarr   prbconv prbpris  avgsen polpc      density \n",
       "33 71     87   0.0544061 0.243119 0.22959 0.379175 11.29  0.00207028 4.834734\n",
       "   taxpc    west central urban pctmin80 wcon     wtuc     wtrd     wfir    \n",
       "33 31.53658 1    1       0     13.315   291.4508 595.3719 240.3673 348.0254\n",
       "   wser     wmfg   wfed   wsta   wloc   mix       pctymle   \n",
       "33 295.2301 358.95 509.43 359.11 339.58 0.1018608 0.07939028"
      ]
     },
     "metadata": {},
     "output_type": "display_data"
    }
   ],
   "source": [
    "clean[clean$west + clean$central > 1, ]"
   ]
  },
  {
   "cell_type": "code",
   "execution_count": 107,
   "metadata": {},
   "outputs": [
    {
     "data": {
      "text/html": [
       "<table>\n",
       "<thead><tr><th></th><th scope=col>county</th><th scope=col>year</th><th scope=col>crmrte</th><th scope=col>prbarr</th><th scope=col>prbconv</th><th scope=col>prbpris</th><th scope=col>avgsen</th><th scope=col>polpc</th><th scope=col>density</th><th scope=col>taxpc</th><th scope=col>west</th><th scope=col>central</th><th scope=col>urban</th><th scope=col>pctmin80</th><th scope=col>wcon</th><th scope=col>wtuc</th><th scope=col>wtrd</th><th scope=col>wfir</th><th scope=col>wser</th><th scope=col>wmfg</th><th scope=col>wfed</th><th scope=col>wsta</th><th scope=col>wloc</th><th scope=col>mix</th><th scope=col>pctymle</th></tr></thead>\n",
       "<tbody>\n",
       "\t<tr><th scope=row>33</th><td>71        </td><td>87        </td><td>0.0544061 </td><td>0.243119  </td><td>0.22959   </td><td>0.379175  </td><td>11.29     </td><td>0.00207028</td><td>4.834734  </td><td>31.53658  </td><td>NA        </td><td>NA        </td><td>0         </td><td>13.315    </td><td>291.4508  </td><td>595.3719  </td><td>240.3673  </td><td>348.0254  </td><td>295.2301  </td><td>358.95    </td><td>509.43    </td><td>359.11    </td><td>339.58    </td><td>0.1018608 </td><td>0.07939028</td></tr>\n",
       "</tbody>\n",
       "</table>\n"
      ],
      "text/latex": [
       "\\begin{tabular}{r|lllllllllllllllllllllllll}\n",
       "  & county & year & crmrte & prbarr & prbconv & prbpris & avgsen & polpc & density & taxpc & west & central & urban & pctmin80 & wcon & wtuc & wtrd & wfir & wser & wmfg & wfed & wsta & wloc & mix & pctymle\\\\\n",
       "\\hline\n",
       "\t33 & 71         & 87         & 0.0544061  & 0.243119   & 0.22959    & 0.379175   & 11.29      & 0.00207028 & 4.834734   & 31.53658   & NA         & NA         & 0          & 13.315     & 291.4508   & 595.3719   & 240.3673   & 348.0254   & 295.2301   & 358.95     & 509.43     & 359.11     & 339.58     & 0.1018608  & 0.07939028\\\\\n",
       "\\end{tabular}\n"
      ],
      "text/markdown": [
       "\n",
       "| <!--/--> | county | year | crmrte | prbarr | prbconv | prbpris | avgsen | polpc | density | taxpc | west | central | urban | pctmin80 | wcon | wtuc | wtrd | wfir | wser | wmfg | wfed | wsta | wloc | mix | pctymle | \n",
       "|---|\n",
       "| 33 | 71         | 87         | 0.0544061  | 0.243119   | 0.22959    | 0.379175   | 11.29      | 0.00207028 | 4.834734   | 31.53658   | NA         | NA         | 0          | 13.315     | 291.4508   | 595.3719   | 240.3673   | 348.0254   | 295.2301   | 358.95     | 509.43     | 359.11     | 339.58     | 0.1018608  | 0.07939028 | \n",
       "\n",
       "\n"
      ],
      "text/plain": [
       "   county year crmrte    prbarr   prbconv prbpris  avgsen polpc      density \n",
       "33 71     87   0.0544061 0.243119 0.22959 0.379175 11.29  0.00207028 4.834734\n",
       "   taxpc    west central urban pctmin80 wcon     wtuc     wtrd     wfir    \n",
       "33 31.53658 NA   NA      0     13.315   291.4508 595.3719 240.3673 348.0254\n",
       "   wser     wmfg   wfed   wsta   wloc   mix       pctymle   \n",
       "33 295.2301 358.95 509.43 359.11 339.58 0.1018608 0.07939028"
      ]
     },
     "metadata": {},
     "output_type": "display_data"
    }
   ],
   "source": [
    "clean$west[clean$county == 71] <- NA\n",
    "clean$central[clean$county == 71] <- NA"
   ]
  },
  {
   "cell_type": "markdown",
   "metadata": {},
   "source": [
    "**Other variables**\n",
    "\n",
    "Upon inspecting other variables at a high level, we didn't find evidence of errors. The values in these variables were within reasonable ranges, there were no missing values and there were not unusually high concentrations of observations around certain values. Therefore, all the other variables that were not mentioned above were not transformed."
   ]
  },
  {
   "cell_type": "markdown",
   "metadata": {},
   "source": [
    "#### Quick import and clean"
   ]
  },
  {
   "cell_type": "code",
   "execution_count": 1,
   "metadata": {},
   "outputs": [],
   "source": [
    "crime <- read.csv('crime_v2.csv')\n",
    "clean <- crime[complete.cases(crime),]\n",
    "clean <- clean[!duplicated(clean),]\n",
    "clean$prbconv <- as.numeric(as.character(clean$prbconv))\n",
    "clean$west[clean$county == 71] <- NA\n",
    "clean$central[clean$county == 71] <- NA"
   ]
  },
  {
   "cell_type": "markdown",
   "metadata": {},
   "source": [
    "### Distribution of variables"
   ]
  },
  {
   "cell_type": "markdown",
   "metadata": {},
   "source": [
    "Variables of interest"
   ]
  },
  {
   "cell_type": "code",
   "execution_count": 147,
   "metadata": {},
   "outputs": [
    {
     "data": {
      "image/png": "[encoded data removed]",
      "text/plain": [
       "Plot with title \"Avg. sentence\""
      ]
     },
     "metadata": {},
     "output_type": "display_data"
    }
   ],
   "source": [
    "options(repr.plot.width=6, repr.plot.height=4)\n",
    "par(mfrow = c(2, 3), mar = c(1,1,1,1)+0.9)\n",
    "hist(clean$crmrte, breaks=\"FD\", col=\"grey\", main = \"Crime Rate\")\n",
    "hist(clean$prbarr, breaks=\"FD\", col=\"grey\", main = \"Prob. Arrest\")\n",
    "hist(clean$prbconv, breaks=\"FD\", col=\"grey\", main = \"Prob. Conviction\")\n",
    "hist(clean$prbpris, breaks=\"FD\", col=\"grey\", main = \"Prob. Prison\")\n",
    "hist(clean$avgsen, breaks=\"FD\", col=\"grey\", main = \"Avg. sentence\")"
   ]
  },
  {
   "cell_type": "markdown",
   "metadata": {},
   "source": [
    "Control variables"
   ]
  },
  {
   "cell_type": "code",
   "execution_count": 176,
   "metadata": {},
   "outputs": [
    {
     "data": {
      "image/png": "[encoded data removed]",
      "text/plain": [
       "Plot with title \"Central Region\""
      ]
     },
     "metadata": {},
     "output_type": "display_data"
    }
   ],
   "source": [
    "options(repr.plot.width=6, repr.plot.height=4)\n",
    "par(mfrow = c(2, 3), mar = c(1,1,1,1)+0.9)\n",
    "hist(clean$polpc, breaks=\"FD\", col=\"grey\", main = \"Police Per Capita\")\n",
    "hist(clean$density, breaks=\"FD\", col=\"grey\", main = \"Density\")\n",
    "hist(clean$taxpc, breaks=\"FD\", col=\"grey\", main = \"Tax Per Capita\")\n",
    "hist(clean$west, col=\"grey\", main = \"West Region\")\n",
    "hist(clean$central, col=\"grey\", main = \"Central Region\")"
   ]
  },
  {
   "cell_type": "markdown",
   "metadata": {},
   "source": [
    "### Multivariate analysis"
   ]
  },
  {
   "cell_type": "markdown",
   "metadata": {},
   "source": [
    "#### Scatterplot matrices"
   ]
  },
  {
   "cell_type": "code",
   "execution_count": null,
   "metadata": {},
   "outputs": [],
   "source": [
    "options(repr.plot.width=8, repr.plot.height=8)\n",
    "scatterplotMatrix(clean[,c(4:7, 3)])\n",
    "scatterplotMatrix(clean[,c(8:11, 3)])"
   ]
  },
  {
   "cell_type": "code",
   "execution_count": null,
   "metadata": {},
   "outputs": [],
   "source": [
    "scatterplotMatrix(clean[,c(12:15, 3)])\n",
    "scatterplotMatrix(clean[,c(16:19, 3)])"
   ]
  },
  {
   "cell_type": "code",
   "execution_count": null,
   "metadata": {},
   "outputs": [],
   "source": [
    "scatterplotMatrix(clean[,c(20:23, 3)])\n",
    "scatterplotMatrix(clean[,c(24:25, 3)])"
   ]
  },
  {
   "cell_type": "markdown",
   "metadata": {},
   "source": [
    "#### Correlations (all)"
   ]
  },
  {
   "cell_type": "markdown",
   "metadata": {},
   "source": [
    "Variables of interest"
   ]
  },
  {
   "cell_type": "code",
   "execution_count": 18,
   "metadata": {
    "collapsed": true
   },
   "outputs": [
    {
     "data": {
      "text/html": [
       "<table>\n",
       "<thead><tr><th></th><th scope=col>crmrte</th><th scope=col>prbarr</th><th scope=col>prbconv</th><th scope=col>prbconv.inv</th><th scope=col>prbpris</th><th scope=col>avgsen</th></tr></thead>\n",
       "<tbody>\n",
       "\t<tr><th scope=row>crmrte</th><td> 1.00000000</td><td>-0.39528302</td><td>-0.38596559</td><td> 0.1784277 </td><td> 0.04799540</td><td> 0.01979653</td></tr>\n",
       "\t<tr><th scope=row>prbarr</th><td>-0.39528302</td><td> 1.00000000</td><td>-0.05579621</td><td> 0.1496800 </td><td> 0.04583324</td><td> 0.17869425</td></tr>\n",
       "\t<tr><th scope=row>prbconv</th><td>-0.38596559</td><td>-0.05579621</td><td> 1.00000000</td><td>-0.6117615 </td><td> 0.01102265</td><td> 0.15585232</td></tr>\n",
       "\t<tr><th scope=row>prbconv.inv</th><td> 0.17842770</td><td> 0.14967996</td><td>-0.61176151</td><td> 1.0000000 </td><td> 0.02157900</td><td> 0.08351870</td></tr>\n",
       "\t<tr><th scope=row>prbpris</th><td> 0.04799540</td><td> 0.04583324</td><td> 0.01102265</td><td> 0.0215790 </td><td> 1.00000000</td><td>-0.09468083</td></tr>\n",
       "\t<tr><th scope=row>avgsen</th><td> 0.01979653</td><td> 0.17869425</td><td> 0.15585232</td><td> 0.0835187 </td><td>-0.09468083</td><td> 1.00000000</td></tr>\n",
       "</tbody>\n",
       "</table>\n"
      ],
      "text/latex": [
       "\\begin{tabular}{r|llllll}\n",
       "  & crmrte & prbarr & prbconv & prbconv.inv & prbpris & avgsen\\\\\n",
       "\\hline\n",
       "\tcrmrte &  1.00000000 & -0.39528302 & -0.38596559 &  0.1784277  &  0.04799540 &  0.01979653\\\\\n",
       "\tprbarr & -0.39528302 &  1.00000000 & -0.05579621 &  0.1496800  &  0.04583324 &  0.17869425\\\\\n",
       "\tprbconv & -0.38596559 & -0.05579621 &  1.00000000 & -0.6117615  &  0.01102265 &  0.15585232\\\\\n",
       "\tprbconv.inv &  0.17842770 &  0.14967996 & -0.61176151 &  1.0000000  &  0.02157900 &  0.08351870\\\\\n",
       "\tprbpris &  0.04799540 &  0.04583324 &  0.01102265 &  0.0215790  &  1.00000000 & -0.09468083\\\\\n",
       "\tavgsen &  0.01979653 &  0.17869425 &  0.15585232 &  0.0835187  & -0.09468083 &  1.00000000\\\\\n",
       "\\end{tabular}\n"
      ],
      "text/markdown": [
       "\n",
       "| <!--/--> | crmrte | prbarr | prbconv | prbconv.inv | prbpris | avgsen | \n",
       "|---|---|---|---|---|---|\n",
       "| crmrte |  1.00000000 | -0.39528302 | -0.38596559 |  0.1784277  |  0.04799540 |  0.01979653 | \n",
       "| prbarr | -0.39528302 |  1.00000000 | -0.05579621 |  0.1496800  |  0.04583324 |  0.17869425 | \n",
       "| prbconv | -0.38596559 | -0.05579621 |  1.00000000 | -0.6117615  |  0.01102265 |  0.15585232 | \n",
       "| prbconv.inv |  0.17842770 |  0.14967996 | -0.61176151 |  1.0000000  |  0.02157900 |  0.08351870 | \n",
       "| prbpris |  0.04799540 |  0.04583324 |  0.01102265 |  0.0215790  |  1.00000000 | -0.09468083 | \n",
       "| avgsen |  0.01979653 |  0.17869425 |  0.15585232 |  0.0835187  | -0.09468083 |  1.00000000 | \n",
       "\n",
       "\n"
      ],
      "text/plain": [
       "            crmrte      prbarr      prbconv     prbconv.inv prbpris    \n",
       "crmrte       1.00000000 -0.39528302 -0.38596559  0.1784277   0.04799540\n",
       "prbarr      -0.39528302  1.00000000 -0.05579621  0.1496800   0.04583324\n",
       "prbconv     -0.38596559 -0.05579621  1.00000000 -0.6117615   0.01102265\n",
       "prbconv.inv  0.17842770  0.14967996 -0.61176151  1.0000000   0.02157900\n",
       "prbpris      0.04799540  0.04583324  0.01102265  0.0215790   1.00000000\n",
       "avgsen       0.01979653  0.17869425  0.15585232  0.0835187  -0.09468083\n",
       "            avgsen     \n",
       "crmrte       0.01979653\n",
       "prbarr       0.17869425\n",
       "prbconv      0.15585232\n",
       "prbconv.inv  0.08351870\n",
       "prbpris     -0.09468083\n",
       "avgsen       1.00000000"
      ]
     },
     "metadata": {},
     "output_type": "display_data"
    }
   ],
   "source": [
    "library(dplyr)\n",
    "library(corrplot)\n",
    "\n",
    "# Add transformed variables\n",
    "clean$prbconv.inv <- 1/clean$prbconv\n",
    "clean$crmrte.log <- log(clean$crmrte)\n",
    "\n",
    "# Select only variables of interest\n",
    "vars.interest <- c(\"crmrte\", \"prbarr\", \"prbconv\", \"prbconv.inv\", \"prbpris\", \"avgsen\")\n",
    "vars.conf <- c(\"\")\n",
    "\n",
    "# Compute correlations\n",
    "crime.corrs <- cor(select(clean, vars.interest))\n",
    "crime.corrs"
   ]
  },
  {
   "cell_type": "code",
   "execution_count": 19,
   "metadata": {},
   "outputs": [
    {
     "data": {
      "image/png": "[encoded data removed]",
      "text/plain": [
       "Plot with title \"Correlations - Variables of interest\""
      ]
     },
     "metadata": {},
     "output_type": "display_data"
    }
   ],
   "source": [
    "options(repr.plot.width=6.2, repr.plot.height=6.5)\n",
    "corrplot(crime.corrs, method = 'color',  order = 'original', diag = F, type = 'upper', addCoef.col = T,\n",
    "         title = \"Correlations - Variables of interest\", tl.col = 'black', tl.cex = 0.9, addCoefasPercent = T)"
   ]
  },
  {
   "cell_type": "markdown",
   "metadata": {},
   "source": [
    "#### Correlations (confounding candidates)"
   ]
  },
  {
   "cell_type": "code",
   "execution_count": null,
   "metadata": {},
   "outputs": [],
   "source": [
    "# UPDATE THIS TO MATCH OUR SUSPECTED CONFOUNDING VARIABLES\n",
    "vars.interest <- c('prbarr', 'prbconv', 'prbconv.inv', 'polpc', 'taxpc', 'wcon', 'wtrd', 'wfed')\n",
    "not.interest.corr.crmrte <- c('county', 'density', 'west', 'urban')\n",
    "corrs.confounding <- cor(clean[, c(vars.interest, not.interest.corr.crmrte)])[1:7, 8:11]\n",
    "\n",
    "options(repr.plot.width=4, repr.plot.height=5)\n",
    "corrplot(corrs.confounding, method = c('number'),  order = 'original', diag = F,\n",
    "         tl.col = 'black', tl.cex = 0.9,)"
   ]
  },
  {
   "cell_type": "markdown",
   "metadata": {},
   "source": [
    "## 2. Regression analysis"
   ]
  },
  {
   "cell_type": "markdown",
   "metadata": {},
   "source": [
    "From the criteria to select the model variables,\n",
    "\n",
    "| Variable | Predicted | Correlated with crime (EDA) | Relevant for public policy | Confounding variable |\n",
    "|----------|-----------|-----------------------------|----------------------------|----------------------|\n",
    "| crmrte   | X         | -                           | -                          | -                    |\n",
    "| prbarr   | -         | X                           | X                          | -                    |\n",
    "| prbconv  | -         | X                           | X                          | -                    |\n",
    "| polpc    | -         | X                           | X                          | -                    |\n",
    "| density  | -         | X                           | -                          | X                    |\n",
    "| taxpc    | -         | X                           | X                          | -                    |\n",
    "| urban    | -         | X                           | -                          | X                    |\n",
    "| wcon     | -         | X                           | X                          | -                    |\n",
    "| wtrd     | -         | X                           | X                          | -                    |\n",
    "| wfed     | -         | X                           | X                          | -                    |"
   ]
  },
  {
   "cell_type": "markdown",
   "metadata": {},
   "source": [
    "### Model 1: explanatory variables of key interest"
   ]
  },
  {
   "cell_type": "code",
   "execution_count": null,
   "metadata": {},
   "outputs": [],
   "source": [
    "model1.1 <- lm(crmrte ~ prbarr + prbconv + polpc + taxpc + wcon + wtrd + wfed, data = clean)\n",
    "model1.1$coefficients\n",
    "paste(\"R-squared:\", round(summary(model1.1)$r.squared, 2))\n",
    "paste(\"Adjusted R-squared:\", round(summary(model1.1)$adj.r.squared, 2))\n",
    "paste(\"Akaike Information Criterion:\", round(AIC(model1.1), 0))"
   ]
  },
  {
   "cell_type": "markdown",
   "metadata": {},
   "source": [
    "Coefficients for wages are very low so may be irrelevant. They are also not correlated with the other predictors so are not confounding variables. I will change the specification to remove these."
   ]
  },
  {
   "cell_type": "code",
   "execution_count": null,
   "metadata": {},
   "outputs": [],
   "source": [
    "model1.2 <- lm(crmrte ~ prbarr + prbconv + polpc + taxpc, data = clean)\n",
    "model1.2$coefficients\n",
    "paste(\"R-squared:\", round(summary(model1.2)$r.squared, 2))\n",
    "paste(\"Adjusted R-squared:\", round(summary(model1.2)$adj.r.squared, 2))\n",
    "paste(\"Akaike Information Criterion:\", round(AIC(model1.2), 0))"
   ]
  },
  {
   "cell_type": "markdown",
   "metadata": {},
   "source": [
    "Change prbcon to prbconv.inv"
   ]
  },
  {
   "cell_type": "code",
   "execution_count": null,
   "metadata": {},
   "outputs": [],
   "source": [
    "model1.3 <- lm(crmrte ~ prbarr + prbconv.inv + polpc, data = clean)\n",
    "model1.3$coefficients\n",
    "paste(\"R-squared:\", round(summary(model1.3)$r.squared, 2))\n",
    "paste(\"Adjusted R-squared:\", round(summary(model1.3)$adj.r.squared, 2))\n",
    "paste(\"Akaike Information Criterion:\", round(AIC(model1.3), 0))"
   ]
  },
  {
   "cell_type": "markdown",
   "metadata": {},
   "source": [
    "**Conclusion**: the model that explains better the variation of `crmrte` and has the lowest value of Akaike Information Criterion is model1.1"
   ]
  },
  {
   "cell_type": "markdown",
   "metadata": {},
   "source": [
    "### Model 2: variables of interest + variables that increase accuracy"
   ]
  },
  {
   "cell_type": "markdown",
   "metadata": {},
   "source": [
    "Started with model 1.1 and added the confounding variables + `west` (increases both R-squared and AIC)"
   ]
  },
  {
   "cell_type": "code",
   "execution_count": null,
   "metadata": {},
   "outputs": [],
   "source": [
    "model2.1 <- lm(crmrte ~ county + prbarr + prbconv + polpc + taxpc + wcon + wtrd + wfed + density + urban + west, data = clean)\n",
    "model2.1$coefficients\n",
    "paste(\"R-squared:\", round(summary(model2.1)$r.squared, 2))\n",
    "paste(\"Adjusted R-squared:\", round(summary(model2.1)$adj.r.squared, 2))\n",
    "paste(\"Akaike Information Criterion:\", round(AIC(model2.1), 0))"
   ]
  },
  {
   "cell_type": "markdown",
   "metadata": {},
   "source": [
    "### Model 3: variables of interest + variables that increase accuracy + All other variables"
   ]
  },
  {
   "cell_type": "code",
   "execution_count": null,
   "metadata": {},
   "outputs": [],
   "source": [
    "model3.1 <- lm(crmrte ~ prbarr + prbconv + polpc + taxpc + wcon + wtrd + wfed + density\n",
    "               + urban + county + prbpris + avgsen + west + central + urban + pctmin80 \n",
    "               + wtuc + wfir + wser + wmfg + wsta + wloc + mix + pctymle, data = clean)\n",
    "model3.1$coefficients\n",
    "paste(\"R-squared:\", round(summary(model3.1)$r.squared, 2))\n",
    "paste(\"Adjusted R-squared:\", round(summary(model3.1)$adj.r.squared, 2))\n",
    "paste(\"Akaike Information Criterion:\", round(AIC(model3.1), 0))"
   ]
  },
  {
   "cell_type": "markdown",
   "metadata": {},
   "source": [
    "### Comparison of models"
   ]
  },
  {
   "cell_type": "code",
   "execution_count": null,
   "metadata": {},
   "outputs": [],
   "source": [
    "library(stargazer)"
   ]
  },
  {
   "cell_type": "code",
   "execution_count": null,
   "metadata": {},
   "outputs": [],
   "source": [
    "stargazer(model1.1, model2.1, model3.1, type = \"html\", \n",
    "          report = \"vc\",\n",
    "          title = \"Linear Models Predicting Crime Rate\",\n",
    "          keep.stat = c(\"rsq\", \"n\"),\n",
    "          omit.table.layout = \"n\")"
   ]
  },
  {
   "cell_type": "markdown",
   "metadata": {},
   "source": [
    "<table style=\"text-align:center\"><caption><strong>Linear Models Predicting Crime Rate</strong></caption>\n",
    "<tr><td colspan=\"4\" style=\"border-bottom: 1px solid black\"></td></tr><tr><td style=\"text-align:left\"></td><td colspan=\"3\"><em>Dependent variable:</em></td></tr>\n",
    "<tr><td></td><td colspan=\"3\" style=\"border-bottom: 1px solid black\"></td></tr>\n",
    "<tr><td style=\"text-align:left\"></td><td colspan=\"3\">crmrte</td></tr>\n",
    "<tr><td style=\"text-align:left\"></td><td>(1)</td><td>(2)</td><td>(3)</td></tr>\n",
    "<tr><td colspan=\"4\" style=\"border-bottom: 1px solid black\"></td></tr><tr><td style=\"text-align:left\">county</td><td></td><td>0.00002</td><td>0.00001</td></tr>\n",
    "<tr><td style=\"text-align:left\"></td><td></td><td></td><td></td></tr>\n",
    "<tr><td style=\"text-align:left\">prbpris</td><td></td><td></td><td>0.004</td></tr>\n",
    "<tr><td style=\"text-align:left\"></td><td></td><td></td><td></td></tr>\n",
    "<tr><td style=\"text-align:left\">avgsen</td><td></td><td></td><td>-0.0004</td></tr>\n",
    "<tr><td style=\"text-align:left\"></td><td></td><td></td><td></td></tr>\n",
    "<tr><td style=\"text-align:left\">prbarr</td><td>-0.065</td><td>-0.049</td><td>-0.051</td></tr>\n",
    "<tr><td style=\"text-align:left\"></td><td></td><td></td><td></td></tr>\n",
    "<tr><td style=\"text-align:left\">prbconv</td><td>-0.022</td><td>-0.019</td><td>-0.019</td></tr>\n",
    "<tr><td style=\"text-align:left\"></td><td></td><td></td><td></td></tr>\n",
    "<tr><td style=\"text-align:left\">polpc</td><td>6.346</td><td>5.855</td><td>6.867</td></tr>\n",
    "<tr><td style=\"text-align:left\"></td><td></td><td></td><td></td></tr>\n",
    "<tr><td style=\"text-align:left\">taxpc</td><td>0.0003</td><td>0.0001</td><td>0.0002</td></tr>\n",
    "<tr><td style=\"text-align:left\"></td><td></td><td></td><td></td></tr>\n",
    "<tr><td style=\"text-align:left\">wcon</td><td>0.00000</td><td>-0.00000</td><td>0.00002</td></tr>\n",
    "<tr><td style=\"text-align:left\"></td><td></td><td></td><td></td></tr>\n",
    "<tr><td style=\"text-align:left\">wtrd</td><td>0.00005</td><td>-0.00002</td><td>0.00003</td></tr>\n",
    "<tr><td style=\"text-align:left\"></td><td></td><td></td><td></td></tr>\n",
    "<tr><td style=\"text-align:left\">wfed</td><td>0.0001</td><td>0.00003</td><td>0.00003</td></tr>\n",
    "<tr><td style=\"text-align:left\"></td><td></td><td></td><td></td></tr>\n",
    "<tr><td style=\"text-align:left\">density</td><td></td><td>0.004</td><td>0.005</td></tr>\n",
    "<tr><td style=\"text-align:left\"></td><td></td><td></td><td></td></tr>\n",
    "<tr><td style=\"text-align:left\">urban</td><td></td><td>0.005</td><td>0.0003</td></tr>\n",
    "<tr><td style=\"text-align:left\"></td><td></td><td></td><td></td></tr>\n",
    "<tr><td style=\"text-align:left\">west</td><td></td><td>-0.010</td><td>-0.003</td></tr>\n",
    "<tr><td style=\"text-align:left\"></td><td></td><td></td><td></td></tr>\n",
    "<tr><td style=\"text-align:left\">central</td><td></td><td></td><td>-0.004</td></tr>\n",
    "<tr><td style=\"text-align:left\"></td><td></td><td></td><td></td></tr>\n",
    "<tr><td style=\"text-align:left\">pctmin80</td><td></td><td></td><td>0.0003</td></tr>\n",
    "<tr><td style=\"text-align:left\"></td><td></td><td></td><td></td></tr>\n",
    "<tr><td style=\"text-align:left\">wtuc</td><td></td><td></td><td>0.00001</td></tr>\n",
    "<tr><td style=\"text-align:left\"></td><td></td><td></td><td></td></tr>\n",
    "<tr><td style=\"text-align:left\">wfir</td><td></td><td></td><td>-0.00003</td></tr>\n",
    "<tr><td style=\"text-align:left\"></td><td></td><td></td><td></td></tr>\n",
    "<tr><td style=\"text-align:left\">wser</td><td></td><td></td><td>-0.00000</td></tr>\n",
    "<tr><td style=\"text-align:left\"></td><td></td><td></td><td></td></tr>\n",
    "<tr><td style=\"text-align:left\">wmfg</td><td></td><td></td><td>-0.00001</td></tr>\n",
    "<tr><td style=\"text-align:left\"></td><td></td><td></td><td></td></tr>\n",
    "<tr><td style=\"text-align:left\">wsta</td><td></td><td></td><td>-0.00002</td></tr>\n",
    "<tr><td style=\"text-align:left\"></td><td></td><td></td><td></td></tr>\n",
    "<tr><td style=\"text-align:left\">wloc</td><td></td><td></td><td>0.00001</td></tr>\n",
    "<tr><td style=\"text-align:left\"></td><td></td><td></td><td></td></tr>\n",
    "<tr><td style=\"text-align:left\">mix</td><td></td><td></td><td>-0.019</td></tr>\n",
    "<tr><td style=\"text-align:left\"></td><td></td><td></td><td></td></tr>\n",
    "<tr><td style=\"text-align:left\">pctymle</td><td></td><td></td><td>0.100</td></tr>\n",
    "<tr><td style=\"text-align:left\"></td><td></td><td></td><td></td></tr>\n",
    "<tr><td style=\"text-align:left\">Constant</td><td>-0.002</td><td>0.029</td><td>0.014</td></tr>\n",
    "<tr><td style=\"text-align:left\"></td><td></td><td></td><td></td></tr>\n",
    "<tr><td colspan=\"4\" style=\"border-bottom: 1px solid black\"></td></tr><tr><td style=\"text-align:left\">Observations</td><td>90</td><td>90</td><td>90</td></tr>\n",
    "<tr><td style=\"text-align:left\">R<sup>2</sup></td><td>0.653</td><td>0.775</td><td>0.855</td></tr>\n",
    "<tr><td colspan=\"4\" style=\"border-bottom: 1px solid black\"></td></tr></table>"
   ]
  },
  {
   "cell_type": "code",
   "execution_count": null,
   "metadata": {},
   "outputs": [],
   "source": [
    "clean[clean$]"
   ]
  }
 ],
 "metadata": {
  "kernelspec": {
   "display_name": "R",
   "language": "R",
   "name": "ir"
  },
  "language_info": {
   "codemirror_mode": "r",
   "file_extension": ".r",
   "mimetype": "text/x-r-source",
   "name": "R",
   "pygments_lexer": "r",
   "version": "3.4.3"
  }
 },
 "nbformat": 4,
 "nbformat_minor": 2
}
