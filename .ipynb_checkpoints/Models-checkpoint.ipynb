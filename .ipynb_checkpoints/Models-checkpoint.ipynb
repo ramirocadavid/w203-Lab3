{
 "cells": [
  {
   "cell_type": "markdown",
   "metadata": {},
   "source": [
    "# Loading and Cleaning Data"
   ]
  },
  {
   "cell_type": "code",
   "execution_count": 15,
   "metadata": {
    "scrolled": true
   },
   "outputs": [],
   "source": [
    "library('car')\n",
    "library('stargazer')"
   ]
  },
  {
   "cell_type": "code",
   "execution_count": 16,
   "metadata": {},
   "outputs": [],
   "source": [
    "# Loads crime_v2.csv\n",
    "crime <- read.csv(\"crime_v2.csv\", header=TRUE)"
   ]
  },
  {
   "cell_type": "code",
   "execution_count": 17,
   "metadata": {},
   "outputs": [],
   "source": [
    "# Eliminates rows with missing values\n",
    "clean <- crime[complete.cases(crime),]"
   ]
  },
  {
   "cell_type": "code",
   "execution_count": 18,
   "metadata": {},
   "outputs": [
    {
     "name": "stderr",
     "output_type": "stream",
     "text": [
      "Warning message in cbind(parts$left, ellip_h, parts$right, deparse.level = 0L):\n",
      "“number of rows of result is not a multiple of vector length (arg 2)”Warning message in cbind(parts$left, ellip_h, parts$right, deparse.level = 0L):\n",
      "“number of rows of result is not a multiple of vector length (arg 2)”Warning message in cbind(parts$left, ellip_h, parts$right, deparse.level = 0L):\n",
      "“number of rows of result is not a multiple of vector length (arg 2)”Warning message in cbind(parts$left, ellip_h, parts$right, deparse.level = 0L):\n",
      "“number of rows of result is not a multiple of vector length (arg 2)”"
     ]
    },
    {
     "data": {
      "text/html": [
       "<table>\n",
       "<thead><tr><th scope=col>county</th><th scope=col>year</th><th scope=col>crmrte</th><th scope=col>prbarr</th><th scope=col>prbconv</th><th scope=col>prbpris</th><th scope=col>avgsen</th><th scope=col>polpc</th><th scope=col>density</th><th scope=col>taxpc</th><th scope=col>⋯</th><th scope=col>wtuc</th><th scope=col>wtrd</th><th scope=col>wfir</th><th scope=col>wser</th><th scope=col>wmfg</th><th scope=col>wfed</th><th scope=col>wsta</th><th scope=col>wloc</th><th scope=col>mix</th><th scope=col>pctymle</th></tr></thead>\n",
       "<tbody>\n",
       "</tbody>\n",
       "</table>\n"
      ],
      "text/latex": [
       "\\begin{tabular}{r|lllllllllllllllllllllllll}\n",
       " county & year & crmrte & prbarr & prbconv & prbpris & avgsen & polpc & density & taxpc & ⋯ & wtuc & wtrd & wfir & wser & wmfg & wfed & wsta & wloc & mix & pctymle\\\\\n",
       "\\hline\n",
       "\\end{tabular}\n"
      ],
      "text/markdown": [
       "\n",
       "county | year | crmrte | prbarr | prbconv | prbpris | avgsen | polpc | density | taxpc | ⋯ | wtuc | wtrd | wfir | wser | wmfg | wfed | wsta | wloc | mix | pctymle | \n",
       "||\n",
       "\n",
       "\n"
      ],
      "text/plain": [
       "     county year crmrte prbarr prbconv prbpris avgsen polpc density taxpc ⋯\n",
       "     wtuc wtrd wfir wser wmfg wfed wsta wloc mix pctymle"
      ]
     },
     "metadata": {},
     "output_type": "display_data"
    },
    {
     "name": "stderr",
     "output_type": "stream",
     "text": [
      "Warning message in cbind(parts$left, ellip_h, parts$right, deparse.level = 0L):\n",
      "“number of rows of result is not a multiple of vector length (arg 2)”Warning message in cbind(parts$left, ellip_h, parts$right, deparse.level = 0L):\n",
      "“number of rows of result is not a multiple of vector length (arg 2)”Warning message in cbind(parts$left, ellip_h, parts$right, deparse.level = 0L):\n",
      "“number of rows of result is not a multiple of vector length (arg 2)”Warning message in cbind(parts$left, ellip_h, parts$right, deparse.level = 0L):\n",
      "“number of rows of result is not a multiple of vector length (arg 2)”"
     ]
    },
    {
     "data": {
      "text/html": [
       "<table>\n",
       "<thead><tr><th scope=col>county</th><th scope=col>year</th><th scope=col>crmrte</th><th scope=col>prbarr</th><th scope=col>prbconv</th><th scope=col>prbpris</th><th scope=col>avgsen</th><th scope=col>polpc</th><th scope=col>density</th><th scope=col>taxpc</th><th scope=col>⋯</th><th scope=col>wtuc</th><th scope=col>wtrd</th><th scope=col>wfir</th><th scope=col>wser</th><th scope=col>wmfg</th><th scope=col>wfed</th><th scope=col>wsta</th><th scope=col>wloc</th><th scope=col>mix</th><th scope=col>pctymle</th></tr></thead>\n",
       "<tbody>\n",
       "</tbody>\n",
       "</table>\n"
      ],
      "text/latex": [
       "\\begin{tabular}{r|lllllllllllllllllllllllll}\n",
       " county & year & crmrte & prbarr & prbconv & prbpris & avgsen & polpc & density & taxpc & ⋯ & wtuc & wtrd & wfir & wser & wmfg & wfed & wsta & wloc & mix & pctymle\\\\\n",
       "\\hline\n",
       "\\end{tabular}\n"
      ],
      "text/markdown": [
       "\n",
       "county | year | crmrte | prbarr | prbconv | prbpris | avgsen | polpc | density | taxpc | ⋯ | wtuc | wtrd | wfir | wser | wmfg | wfed | wsta | wloc | mix | pctymle | \n",
       "||\n",
       "\n",
       "\n"
      ],
      "text/plain": [
       "     county year crmrte prbarr prbconv prbpris avgsen polpc density taxpc ⋯\n",
       "     wtuc wtrd wfir wser wmfg wfed wsta wloc mix pctymle"
      ]
     },
     "metadata": {},
     "output_type": "display_data"
    },
    {
     "data": {
      "text/html": [
       "<table>\n",
       "<thead><tr><th></th><th scope=col>county</th><th scope=col>year</th><th scope=col>crmrte</th><th scope=col>prbarr</th><th scope=col>prbconv</th><th scope=col>prbpris</th><th scope=col>avgsen</th><th scope=col>polpc</th><th scope=col>density</th><th scope=col>taxpc</th><th scope=col>⋯</th><th scope=col>wtuc</th><th scope=col>wtrd</th><th scope=col>wfir</th><th scope=col>wser</th><th scope=col>wmfg</th><th scope=col>wfed</th><th scope=col>wsta</th><th scope=col>wloc</th><th scope=col>mix</th><th scope=col>pctymle</th></tr></thead>\n",
       "<tbody>\n",
       "\t<tr><th scope=row>86</th><td>189        </td><td>87         </td><td>0.0313130  </td><td>0.161381   </td><td>0.300577998</td><td>0.288462   </td><td>12.27      </td><td>0.00227837 </td><td>1.1019108  </td><td>31.33022   </td><td>⋯          </td><td>354.2510   </td><td>180.9359   </td><td>369.4332   </td><td>253.2281   </td><td>304.72     </td><td>427.84     </td><td>451.79     </td><td>297.19     </td><td>0.05719921 </td><td>0.15092644 </td></tr>\n",
       "\t<tr><th scope=row>87</th><td>191        </td><td>87         </td><td>0.0458895  </td><td>0.172257   </td><td>0.449999988</td><td>0.421053   </td><td> 9.59      </td><td>0.00122733 </td><td>1.7725632  </td><td>32.74533   </td><td>⋯          </td><td>400.8570   </td><td>230.9888   </td><td>320.0345   </td><td>238.4958   </td><td>295.26     </td><td>334.55     </td><td>375.45     </td><td>327.62     </td><td>0.08616445 </td><td>0.08828809 </td></tr>\n",
       "\t<tr><th scope=row>88</th><td>193        </td><td>87         </td><td>0.0235277  </td><td>0.266055   </td><td>0.588859022</td><td>0.423423   </td><td> 5.86      </td><td>0.00117887 </td><td>0.8138298  </td><td>28.51783   </td><td>⋯          </td><td>480.1948   </td><td>268.3836   </td><td>365.0196   </td><td>295.9352   </td><td>295.63     </td><td>468.26     </td><td>337.88     </td><td>348.74     </td><td>0.11050157 </td><td>0.07819394 </td></tr>\n",
       "\t<tr><th scope=row>89</th><td>193        </td><td>87         </td><td>0.0235277  </td><td>0.266055   </td><td>0.588859022</td><td>0.423423   </td><td> 5.86      </td><td>0.00117887 </td><td>0.8138298  </td><td>28.51783   </td><td>⋯          </td><td>480.1948   </td><td>268.3836   </td><td>365.0196   </td><td>295.9352   </td><td>295.63     </td><td>468.26     </td><td>337.88     </td><td>348.74     </td><td>0.11050157 </td><td>0.07819394 </td></tr>\n",
       "\t<tr><th scope=row>90</th><td>195        </td><td>87         </td><td>0.0313973  </td><td>0.201397   </td><td>1.670519948</td><td>0.470588   </td><td>13.02      </td><td>0.00445923 </td><td>1.7459893  </td><td>53.66693   </td><td>⋯          </td><td>377.9356   </td><td>246.0614   </td><td>411.4330   </td><td>296.8684   </td><td>392.27     </td><td>480.79     </td><td>303.11     </td><td>337.28     </td><td>0.15612382 </td><td>0.07945071 </td></tr>\n",
       "\t<tr><th scope=row>91</th><td>197        </td><td>87         </td><td>0.0141928  </td><td>0.207595   </td><td>1.182929993</td><td>0.360825   </td><td>12.23      </td><td>0.00118573 </td><td>0.8898810  </td><td>25.95258   </td><td>⋯          </td><td>341.8803   </td><td>182.8020   </td><td>348.1432   </td><td>212.8205   </td><td>322.92     </td><td>391.72     </td><td>385.65     </td><td>306.85     </td><td>0.06756757 </td><td>0.07419893 </td></tr>\n",
       "</tbody>\n",
       "</table>\n"
      ],
      "text/latex": [
       "\\begin{tabular}{r|lllllllllllllllllllllllll}\n",
       "  & county & year & crmrte & prbarr & prbconv & prbpris & avgsen & polpc & density & taxpc & ⋯ & wtuc & wtrd & wfir & wser & wmfg & wfed & wsta & wloc & mix & pctymle\\\\\n",
       "\\hline\n",
       "\t86 & 189         & 87          & 0.0313130   & 0.161381    & 0.300577998 & 0.288462    & 12.27       & 0.00227837  & 1.1019108   & 31.33022    & ⋯           & 354.2510    & 180.9359    & 369.4332    & 253.2281    & 304.72      & 427.84      & 451.79      & 297.19      & 0.05719921  & 0.15092644 \\\\\n",
       "\t87 & 191         & 87          & 0.0458895   & 0.172257    & 0.449999988 & 0.421053    &  9.59       & 0.00122733  & 1.7725632   & 32.74533    & ⋯           & 400.8570    & 230.9888    & 320.0345    & 238.4958    & 295.26      & 334.55      & 375.45      & 327.62      & 0.08616445  & 0.08828809 \\\\\n",
       "\t88 & 193         & 87          & 0.0235277   & 0.266055    & 0.588859022 & 0.423423    &  5.86       & 0.00117887  & 0.8138298   & 28.51783    & ⋯           & 480.1948    & 268.3836    & 365.0196    & 295.9352    & 295.63      & 468.26      & 337.88      & 348.74      & 0.11050157  & 0.07819394 \\\\\n",
       "\t89 & 193         & 87          & 0.0235277   & 0.266055    & 0.588859022 & 0.423423    &  5.86       & 0.00117887  & 0.8138298   & 28.51783    & ⋯           & 480.1948    & 268.3836    & 365.0196    & 295.9352    & 295.63      & 468.26      & 337.88      & 348.74      & 0.11050157  & 0.07819394 \\\\\n",
       "\t90 & 195         & 87          & 0.0313973   & 0.201397    & 1.670519948 & 0.470588    & 13.02       & 0.00445923  & 1.7459893   & 53.66693    & ⋯           & 377.9356    & 246.0614    & 411.4330    & 296.8684    & 392.27      & 480.79      & 303.11      & 337.28      & 0.15612382  & 0.07945071 \\\\\n",
       "\t91 & 197         & 87          & 0.0141928   & 0.207595    & 1.182929993 & 0.360825    & 12.23       & 0.00118573  & 0.8898810   & 25.95258    & ⋯           & 341.8803    & 182.8020    & 348.1432    & 212.8205    & 322.92      & 391.72      & 385.65      & 306.85      & 0.06756757  & 0.07419893 \\\\\n",
       "\\end{tabular}\n"
      ],
      "text/markdown": [
       "\n",
       "| <!--/--> | county | year | crmrte | prbarr | prbconv | prbpris | avgsen | polpc | density | taxpc | ⋯ | wtuc | wtrd | wfir | wser | wmfg | wfed | wsta | wloc | mix | pctymle | \n",
       "|---|---|---|---|---|---|\n",
       "| 86 | 189         | 87          | 0.0313130   | 0.161381    | 0.300577998 | 0.288462    | 12.27       | 0.00227837  | 1.1019108   | 31.33022    | ⋯           | 354.2510    | 180.9359    | 369.4332    | 253.2281    | 304.72      | 427.84      | 451.79      | 297.19      | 0.05719921  | 0.15092644  | \n",
       "| 87 | 191         | 87          | 0.0458895   | 0.172257    | 0.449999988 | 0.421053    |  9.59       | 0.00122733  | 1.7725632   | 32.74533    | ⋯           | 400.8570    | 230.9888    | 320.0345    | 238.4958    | 295.26      | 334.55      | 375.45      | 327.62      | 0.08616445  | 0.08828809  | \n",
       "| 88 | 193         | 87          | 0.0235277   | 0.266055    | 0.588859022 | 0.423423    |  5.86       | 0.00117887  | 0.8138298   | 28.51783    | ⋯           | 480.1948    | 268.3836    | 365.0196    | 295.9352    | 295.63      | 468.26      | 337.88      | 348.74      | 0.11050157  | 0.07819394  | \n",
       "| 89 | 193         | 87          | 0.0235277   | 0.266055    | 0.588859022 | 0.423423    |  5.86       | 0.00117887  | 0.8138298   | 28.51783    | ⋯           | 480.1948    | 268.3836    | 365.0196    | 295.9352    | 295.63      | 468.26      | 337.88      | 348.74      | 0.11050157  | 0.07819394  | \n",
       "| 90 | 195         | 87          | 0.0313973   | 0.201397    | 1.670519948 | 0.470588    | 13.02       | 0.00445923  | 1.7459893   | 53.66693    | ⋯           | 377.9356    | 246.0614    | 411.4330    | 296.8684    | 392.27      | 480.79      | 303.11      | 337.28      | 0.15612382  | 0.07945071  | \n",
       "| 91 | 197         | 87          | 0.0141928   | 0.207595    | 1.182929993 | 0.360825    | 12.23       | 0.00118573  | 0.8898810   | 25.95258    | ⋯           | 341.8803    | 182.8020    | 348.1432    | 212.8205    | 322.92      | 391.72      | 385.65      | 306.85      | 0.06756757  | 0.07419893  | \n",
       "\n",
       "\n"
      ],
      "text/plain": [
       "   county year crmrte    prbarr   prbconv     prbpris  avgsen polpc     \n",
       "86 189    87   0.0313130 0.161381 0.300577998 0.288462 12.27  0.00227837\n",
       "87 191    87   0.0458895 0.172257 0.449999988 0.421053  9.59  0.00122733\n",
       "88 193    87   0.0235277 0.266055 0.588859022 0.423423  5.86  0.00117887\n",
       "89 193    87   0.0235277 0.266055 0.588859022 0.423423  5.86  0.00117887\n",
       "90 195    87   0.0313973 0.201397 1.670519948 0.470588 13.02  0.00445923\n",
       "91 197    87   0.0141928 0.207595 1.182929993 0.360825 12.23  0.00118573\n",
       "   density   taxpc    ⋯ wtuc     wtrd     wfir     wser     wmfg   wfed  \n",
       "86 1.1019108 31.33022 ⋯ 354.2510 180.9359 369.4332 253.2281 304.72 427.84\n",
       "87 1.7725632 32.74533 ⋯ 400.8570 230.9888 320.0345 238.4958 295.26 334.55\n",
       "88 0.8138298 28.51783 ⋯ 480.1948 268.3836 365.0196 295.9352 295.63 468.26\n",
       "89 0.8138298 28.51783 ⋯ 480.1948 268.3836 365.0196 295.9352 295.63 468.26\n",
       "90 1.7459893 53.66693 ⋯ 377.9356 246.0614 411.4330 296.8684 392.27 480.79\n",
       "91 0.8898810 25.95258 ⋯ 341.8803 182.8020 348.1432 212.8205 322.92 391.72\n",
       "   wsta   wloc   mix        pctymle   \n",
       "86 451.79 297.19 0.05719921 0.15092644\n",
       "87 375.45 327.62 0.08616445 0.08828809\n",
       "88 337.88 348.74 0.11050157 0.07819394\n",
       "89 337.88 348.74 0.11050157 0.07819394\n",
       "90 303.11 337.28 0.15612382 0.07945071\n",
       "91 385.65 306.85 0.06756757 0.07419893"
      ]
     },
     "metadata": {},
     "output_type": "display_data"
    }
   ],
   "source": [
    "# Checks that blank rows aren't present\n",
    "clean[clean$prbconv == '' | clean$prbconv=='`',]\n",
    "clean[clean$year == \"NA\",]\n",
    "tail(clean)"
   ]
  },
  {
   "cell_type": "code",
   "execution_count": 19,
   "metadata": {},
   "outputs": [
    {
     "data": {
      "text/html": [
       "<table>\n",
       "<thead><tr><th></th><th scope=col>county</th><th scope=col>year</th><th scope=col>crmrte</th><th scope=col>prbarr</th><th scope=col>prbconv</th><th scope=col>prbpris</th><th scope=col>avgsen</th><th scope=col>polpc</th><th scope=col>density</th><th scope=col>taxpc</th><th scope=col>⋯</th><th scope=col>wtuc</th><th scope=col>wtrd</th><th scope=col>wfir</th><th scope=col>wser</th><th scope=col>wmfg</th><th scope=col>wfed</th><th scope=col>wsta</th><th scope=col>wloc</th><th scope=col>mix</th><th scope=col>pctymle</th></tr></thead>\n",
       "<tbody>\n",
       "\t<tr><th scope=row>89</th><td>193        </td><td>87         </td><td>0.0235277  </td><td>0.266055   </td><td>0.588859022</td><td>0.423423   </td><td>5.86       </td><td>0.00117887 </td><td>0.8138298  </td><td>28.51783   </td><td>⋯          </td><td>480.1948   </td><td>268.3836   </td><td>365.0196   </td><td>295.9352   </td><td>295.63     </td><td>468.26     </td><td>337.88     </td><td>348.74     </td><td>0.1105016  </td><td>0.07819394 </td></tr>\n",
       "</tbody>\n",
       "</table>\n"
      ],
      "text/latex": [
       "\\begin{tabular}{r|lllllllllllllllllllllllll}\n",
       "  & county & year & crmrte & prbarr & prbconv & prbpris & avgsen & polpc & density & taxpc & ⋯ & wtuc & wtrd & wfir & wser & wmfg & wfed & wsta & wloc & mix & pctymle\\\\\n",
       "\\hline\n",
       "\t89 & 193         & 87          & 0.0235277   & 0.266055    & 0.588859022 & 0.423423    & 5.86        & 0.00117887  & 0.8138298   & 28.51783    & ⋯           & 480.1948    & 268.3836    & 365.0196    & 295.9352    & 295.63      & 468.26      & 337.88      & 348.74      & 0.1105016   & 0.07819394 \\\\\n",
       "\\end{tabular}\n"
      ],
      "text/markdown": [
       "\n",
       "| <!--/--> | county | year | crmrte | prbarr | prbconv | prbpris | avgsen | polpc | density | taxpc | ⋯ | wtuc | wtrd | wfir | wser | wmfg | wfed | wsta | wloc | mix | pctymle | \n",
       "|---|\n",
       "| 89 | 193         | 87          | 0.0235277   | 0.266055    | 0.588859022 | 0.423423    | 5.86        | 0.00117887  | 0.8138298   | 28.51783    | ⋯           | 480.1948    | 268.3836    | 365.0196    | 295.9352    | 295.63      | 468.26      | 337.88      | 348.74      | 0.1105016   | 0.07819394  | \n",
       "\n",
       "\n"
      ],
      "text/plain": [
       "   county year crmrte    prbarr   prbconv     prbpris  avgsen polpc     \n",
       "89 193    87   0.0235277 0.266055 0.588859022 0.423423 5.86   0.00117887\n",
       "   density   taxpc    ⋯ wtuc     wtrd     wfir     wser     wmfg   wfed  \n",
       "89 0.8138298 28.51783 ⋯ 480.1948 268.3836 365.0196 295.9352 295.63 468.26\n",
       "   wsta   wloc   mix       pctymle   \n",
       "89 337.88 348.74 0.1105016 0.07819394"
      ]
     },
     "metadata": {},
     "output_type": "display_data"
    }
   ],
   "source": [
    "# Checks for duplicate rows\n",
    "clean[duplicated(clean),]"
   ]
  },
  {
   "cell_type": "code",
   "execution_count": 20,
   "metadata": {},
   "outputs": [
    {
     "data": {
      "text/html": [
       "<table>\n",
       "<thead><tr><th></th><th scope=col>county</th><th scope=col>year</th><th scope=col>crmrte</th><th scope=col>prbarr</th><th scope=col>prbconv</th><th scope=col>prbpris</th><th scope=col>avgsen</th><th scope=col>polpc</th><th scope=col>density</th><th scope=col>taxpc</th><th scope=col>⋯</th><th scope=col>wtuc</th><th scope=col>wtrd</th><th scope=col>wfir</th><th scope=col>wser</th><th scope=col>wmfg</th><th scope=col>wfed</th><th scope=col>wsta</th><th scope=col>wloc</th><th scope=col>mix</th><th scope=col>pctymle</th></tr></thead>\n",
       "<tbody>\n",
       "\t<tr><th scope=row>88</th><td>193        </td><td>87         </td><td>0.0235277  </td><td>0.266055   </td><td>0.588859022</td><td>0.423423   </td><td>5.86       </td><td>0.00117887 </td><td>0.8138298  </td><td>28.51783   </td><td>⋯          </td><td>480.1948   </td><td>268.3836   </td><td>365.0196   </td><td>295.9352   </td><td>295.63     </td><td>468.26     </td><td>337.88     </td><td>348.74     </td><td>0.1105016  </td><td>0.07819394 </td></tr>\n",
       "\t<tr><th scope=row>89</th><td>193        </td><td>87         </td><td>0.0235277  </td><td>0.266055   </td><td>0.588859022</td><td>0.423423   </td><td>5.86       </td><td>0.00117887 </td><td>0.8138298  </td><td>28.51783   </td><td>⋯          </td><td>480.1948   </td><td>268.3836   </td><td>365.0196   </td><td>295.9352   </td><td>295.63     </td><td>468.26     </td><td>337.88     </td><td>348.74     </td><td>0.1105016  </td><td>0.07819394 </td></tr>\n",
       "</tbody>\n",
       "</table>\n"
      ],
      "text/latex": [
       "\\begin{tabular}{r|lllllllllllllllllllllllll}\n",
       "  & county & year & crmrte & prbarr & prbconv & prbpris & avgsen & polpc & density & taxpc & ⋯ & wtuc & wtrd & wfir & wser & wmfg & wfed & wsta & wloc & mix & pctymle\\\\\n",
       "\\hline\n",
       "\t88 & 193         & 87          & 0.0235277   & 0.266055    & 0.588859022 & 0.423423    & 5.86        & 0.00117887  & 0.8138298   & 28.51783    & ⋯           & 480.1948    & 268.3836    & 365.0196    & 295.9352    & 295.63      & 468.26      & 337.88      & 348.74      & 0.1105016   & 0.07819394 \\\\\n",
       "\t89 & 193         & 87          & 0.0235277   & 0.266055    & 0.588859022 & 0.423423    & 5.86        & 0.00117887  & 0.8138298   & 28.51783    & ⋯           & 480.1948    & 268.3836    & 365.0196    & 295.9352    & 295.63      & 468.26      & 337.88      & 348.74      & 0.1105016   & 0.07819394 \\\\\n",
       "\\end{tabular}\n"
      ],
      "text/markdown": [
       "\n",
       "| <!--/--> | county | year | crmrte | prbarr | prbconv | prbpris | avgsen | polpc | density | taxpc | ⋯ | wtuc | wtrd | wfir | wser | wmfg | wfed | wsta | wloc | mix | pctymle | \n",
       "|---|---|\n",
       "| 88 | 193         | 87          | 0.0235277   | 0.266055    | 0.588859022 | 0.423423    | 5.86        | 0.00117887  | 0.8138298   | 28.51783    | ⋯           | 480.1948    | 268.3836    | 365.0196    | 295.9352    | 295.63      | 468.26      | 337.88      | 348.74      | 0.1105016   | 0.07819394  | \n",
       "| 89 | 193         | 87          | 0.0235277   | 0.266055    | 0.588859022 | 0.423423    | 5.86        | 0.00117887  | 0.8138298   | 28.51783    | ⋯           | 480.1948    | 268.3836    | 365.0196    | 295.9352    | 295.63      | 468.26      | 337.88      | 348.74      | 0.1105016   | 0.07819394  | \n",
       "\n",
       "\n"
      ],
      "text/plain": [
       "   county year crmrte    prbarr   prbconv     prbpris  avgsen polpc     \n",
       "88 193    87   0.0235277 0.266055 0.588859022 0.423423 5.86   0.00117887\n",
       "89 193    87   0.0235277 0.266055 0.588859022 0.423423 5.86   0.00117887\n",
       "   density   taxpc    ⋯ wtuc     wtrd     wfir     wser     wmfg   wfed  \n",
       "88 0.8138298 28.51783 ⋯ 480.1948 268.3836 365.0196 295.9352 295.63 468.26\n",
       "89 0.8138298 28.51783 ⋯ 480.1948 268.3836 365.0196 295.9352 295.63 468.26\n",
       "   wsta   wloc   mix       pctymle   \n",
       "88 337.88 348.74 0.1105016 0.07819394\n",
       "89 337.88 348.74 0.1105016 0.07819394"
      ]
     },
     "metadata": {},
     "output_type": "display_data"
    }
   ],
   "source": [
    "# Verifies which row is a duplicate\n",
    "clean[clean$county == 193,]"
   ]
  },
  {
   "cell_type": "code",
   "execution_count": 21,
   "metadata": {},
   "outputs": [],
   "source": [
    "# Eliminates duplicate rows\n",
    "clean <- clean[!duplicated(clean),]"
   ]
  },
  {
   "cell_type": "code",
   "execution_count": 22,
   "metadata": {},
   "outputs": [
    {
     "data": {
      "text/html": [
       "<ol class=list-inline>\n",
       "\t<li>FALSE</li>\n",
       "\t<li>FALSE</li>\n",
       "\t<li>FALSE</li>\n",
       "\t<li>FALSE</li>\n",
       "\t<li>FALSE</li>\n",
       "\t<li>FALSE</li>\n",
       "\t<li>FALSE</li>\n",
       "\t<li>FALSE</li>\n",
       "\t<li>FALSE</li>\n",
       "\t<li>FALSE</li>\n",
       "\t<li>FALSE</li>\n",
       "\t<li>FALSE</li>\n",
       "\t<li>FALSE</li>\n",
       "\t<li>FALSE</li>\n",
       "\t<li>FALSE</li>\n",
       "\t<li>FALSE</li>\n",
       "\t<li>FALSE</li>\n",
       "\t<li>FALSE</li>\n",
       "\t<li>FALSE</li>\n",
       "\t<li>FALSE</li>\n",
       "\t<li>FALSE</li>\n",
       "\t<li>FALSE</li>\n",
       "\t<li>FALSE</li>\n",
       "\t<li>FALSE</li>\n",
       "\t<li>FALSE</li>\n",
       "\t<li>FALSE</li>\n",
       "\t<li>FALSE</li>\n",
       "\t<li>FALSE</li>\n",
       "\t<li>FALSE</li>\n",
       "\t<li>FALSE</li>\n",
       "\t<li>FALSE</li>\n",
       "\t<li>FALSE</li>\n",
       "\t<li>FALSE</li>\n",
       "\t<li>FALSE</li>\n",
       "\t<li>FALSE</li>\n",
       "\t<li>FALSE</li>\n",
       "\t<li>FALSE</li>\n",
       "\t<li>FALSE</li>\n",
       "\t<li>FALSE</li>\n",
       "\t<li>FALSE</li>\n",
       "\t<li>FALSE</li>\n",
       "\t<li>FALSE</li>\n",
       "\t<li>FALSE</li>\n",
       "\t<li>FALSE</li>\n",
       "\t<li>FALSE</li>\n",
       "\t<li>FALSE</li>\n",
       "\t<li>FALSE</li>\n",
       "\t<li>FALSE</li>\n",
       "\t<li>FALSE</li>\n",
       "\t<li>FALSE</li>\n",
       "\t<li>FALSE</li>\n",
       "\t<li>FALSE</li>\n",
       "\t<li>FALSE</li>\n",
       "\t<li>FALSE</li>\n",
       "\t<li>FALSE</li>\n",
       "\t<li>FALSE</li>\n",
       "\t<li>FALSE</li>\n",
       "\t<li>FALSE</li>\n",
       "\t<li>FALSE</li>\n",
       "\t<li>FALSE</li>\n",
       "\t<li>FALSE</li>\n",
       "\t<li>FALSE</li>\n",
       "\t<li>FALSE</li>\n",
       "\t<li>FALSE</li>\n",
       "\t<li>FALSE</li>\n",
       "\t<li>FALSE</li>\n",
       "\t<li>FALSE</li>\n",
       "\t<li>FALSE</li>\n",
       "\t<li>FALSE</li>\n",
       "\t<li>FALSE</li>\n",
       "\t<li>FALSE</li>\n",
       "\t<li>FALSE</li>\n",
       "\t<li>FALSE</li>\n",
       "\t<li>FALSE</li>\n",
       "\t<li>FALSE</li>\n",
       "\t<li>FALSE</li>\n",
       "\t<li>FALSE</li>\n",
       "\t<li>FALSE</li>\n",
       "\t<li>FALSE</li>\n",
       "\t<li>FALSE</li>\n",
       "\t<li>FALSE</li>\n",
       "\t<li>FALSE</li>\n",
       "\t<li>FALSE</li>\n",
       "\t<li>FALSE</li>\n",
       "\t<li>FALSE</li>\n",
       "\t<li>FALSE</li>\n",
       "\t<li>FALSE</li>\n",
       "\t<li>FALSE</li>\n",
       "\t<li>FALSE</li>\n",
       "\t<li>FALSE</li>\n",
       "</ol>\n"
      ],
      "text/latex": [
       "\\begin{enumerate*}\n",
       "\\item FALSE\n",
       "\\item FALSE\n",
       "\\item FALSE\n",
       "\\item FALSE\n",
       "\\item FALSE\n",
       "\\item FALSE\n",
       "\\item FALSE\n",
       "\\item FALSE\n",
       "\\item FALSE\n",
       "\\item FALSE\n",
       "\\item FALSE\n",
       "\\item FALSE\n",
       "\\item FALSE\n",
       "\\item FALSE\n",
       "\\item FALSE\n",
       "\\item FALSE\n",
       "\\item FALSE\n",
       "\\item FALSE\n",
       "\\item FALSE\n",
       "\\item FALSE\n",
       "\\item FALSE\n",
       "\\item FALSE\n",
       "\\item FALSE\n",
       "\\item FALSE\n",
       "\\item FALSE\n",
       "\\item FALSE\n",
       "\\item FALSE\n",
       "\\item FALSE\n",
       "\\item FALSE\n",
       "\\item FALSE\n",
       "\\item FALSE\n",
       "\\item FALSE\n",
       "\\item FALSE\n",
       "\\item FALSE\n",
       "\\item FALSE\n",
       "\\item FALSE\n",
       "\\item FALSE\n",
       "\\item FALSE\n",
       "\\item FALSE\n",
       "\\item FALSE\n",
       "\\item FALSE\n",
       "\\item FALSE\n",
       "\\item FALSE\n",
       "\\item FALSE\n",
       "\\item FALSE\n",
       "\\item FALSE\n",
       "\\item FALSE\n",
       "\\item FALSE\n",
       "\\item FALSE\n",
       "\\item FALSE\n",
       "\\item FALSE\n",
       "\\item FALSE\n",
       "\\item FALSE\n",
       "\\item FALSE\n",
       "\\item FALSE\n",
       "\\item FALSE\n",
       "\\item FALSE\n",
       "\\item FALSE\n",
       "\\item FALSE\n",
       "\\item FALSE\n",
       "\\item FALSE\n",
       "\\item FALSE\n",
       "\\item FALSE\n",
       "\\item FALSE\n",
       "\\item FALSE\n",
       "\\item FALSE\n",
       "\\item FALSE\n",
       "\\item FALSE\n",
       "\\item FALSE\n",
       "\\item FALSE\n",
       "\\item FALSE\n",
       "\\item FALSE\n",
       "\\item FALSE\n",
       "\\item FALSE\n",
       "\\item FALSE\n",
       "\\item FALSE\n",
       "\\item FALSE\n",
       "\\item FALSE\n",
       "\\item FALSE\n",
       "\\item FALSE\n",
       "\\item FALSE\n",
       "\\item FALSE\n",
       "\\item FALSE\n",
       "\\item FALSE\n",
       "\\item FALSE\n",
       "\\item FALSE\n",
       "\\item FALSE\n",
       "\\item FALSE\n",
       "\\item FALSE\n",
       "\\item FALSE\n",
       "\\end{enumerate*}\n"
      ],
      "text/markdown": [
       "1. FALSE\n",
       "2. FALSE\n",
       "3. FALSE\n",
       "4. FALSE\n",
       "5. FALSE\n",
       "6. FALSE\n",
       "7. FALSE\n",
       "8. FALSE\n",
       "9. FALSE\n",
       "10. FALSE\n",
       "11. FALSE\n",
       "12. FALSE\n",
       "13. FALSE\n",
       "14. FALSE\n",
       "15. FALSE\n",
       "16. FALSE\n",
       "17. FALSE\n",
       "18. FALSE\n",
       "19. FALSE\n",
       "20. FALSE\n",
       "21. FALSE\n",
       "22. FALSE\n",
       "23. FALSE\n",
       "24. FALSE\n",
       "25. FALSE\n",
       "26. FALSE\n",
       "27. FALSE\n",
       "28. FALSE\n",
       "29. FALSE\n",
       "30. FALSE\n",
       "31. FALSE\n",
       "32. FALSE\n",
       "33. FALSE\n",
       "34. FALSE\n",
       "35. FALSE\n",
       "36. FALSE\n",
       "37. FALSE\n",
       "38. FALSE\n",
       "39. FALSE\n",
       "40. FALSE\n",
       "41. FALSE\n",
       "42. FALSE\n",
       "43. FALSE\n",
       "44. FALSE\n",
       "45. FALSE\n",
       "46. FALSE\n",
       "47. FALSE\n",
       "48. FALSE\n",
       "49. FALSE\n",
       "50. FALSE\n",
       "51. FALSE\n",
       "52. FALSE\n",
       "53. FALSE\n",
       "54. FALSE\n",
       "55. FALSE\n",
       "56. FALSE\n",
       "57. FALSE\n",
       "58. FALSE\n",
       "59. FALSE\n",
       "60. FALSE\n",
       "61. FALSE\n",
       "62. FALSE\n",
       "63. FALSE\n",
       "64. FALSE\n",
       "65. FALSE\n",
       "66. FALSE\n",
       "67. FALSE\n",
       "68. FALSE\n",
       "69. FALSE\n",
       "70. FALSE\n",
       "71. FALSE\n",
       "72. FALSE\n",
       "73. FALSE\n",
       "74. FALSE\n",
       "75. FALSE\n",
       "76. FALSE\n",
       "77. FALSE\n",
       "78. FALSE\n",
       "79. FALSE\n",
       "80. FALSE\n",
       "81. FALSE\n",
       "82. FALSE\n",
       "83. FALSE\n",
       "84. FALSE\n",
       "85. FALSE\n",
       "86. FALSE\n",
       "87. FALSE\n",
       "88. FALSE\n",
       "89. FALSE\n",
       "90. FALSE\n",
       "\n",
       "\n"
      ],
      "text/plain": [
       " [1] FALSE FALSE FALSE FALSE FALSE FALSE FALSE FALSE FALSE FALSE FALSE FALSE\n",
       "[13] FALSE FALSE FALSE FALSE FALSE FALSE FALSE FALSE FALSE FALSE FALSE FALSE\n",
       "[25] FALSE FALSE FALSE FALSE FALSE FALSE FALSE FALSE FALSE FALSE FALSE FALSE\n",
       "[37] FALSE FALSE FALSE FALSE FALSE FALSE FALSE FALSE FALSE FALSE FALSE FALSE\n",
       "[49] FALSE FALSE FALSE FALSE FALSE FALSE FALSE FALSE FALSE FALSE FALSE FALSE\n",
       "[61] FALSE FALSE FALSE FALSE FALSE FALSE FALSE FALSE FALSE FALSE FALSE FALSE\n",
       "[73] FALSE FALSE FALSE FALSE FALSE FALSE FALSE FALSE FALSE FALSE FALSE FALSE\n",
       "[85] FALSE FALSE FALSE FALSE FALSE FALSE"
      ]
     },
     "metadata": {},
     "output_type": "display_data"
    },
    {
     "data": {
      "text/html": [
       "90"
      ],
      "text/latex": [
       "90"
      ],
      "text/markdown": [
       "90"
      ],
      "text/plain": [
       "[1] 90"
      ]
     },
     "metadata": {},
     "output_type": "display_data"
    },
    {
     "data": {
      "text/html": [
       "<ol class=list-inline>\n",
       "\t<li>90</li>\n",
       "\t<li>25</li>\n",
       "</ol>\n"
      ],
      "text/latex": [
       "\\begin{enumerate*}\n",
       "\\item 90\n",
       "\\item 25\n",
       "\\end{enumerate*}\n"
      ],
      "text/markdown": [
       "1. 90\n",
       "2. 25\n",
       "\n",
       "\n"
      ],
      "text/plain": [
       "[1] 90 25"
      ]
     },
     "metadata": {},
     "output_type": "display_data"
    },
    {
     "name": "stderr",
     "output_type": "stream",
     "text": [
      "Warning message in cbind(parts$left, ellip_h, parts$right, deparse.level = 0L):\n",
      "“number of rows of result is not a multiple of vector length (arg 2)”Warning message in cbind(parts$left, ellip_h, parts$right, deparse.level = 0L):\n",
      "“number of rows of result is not a multiple of vector length (arg 2)”Warning message in cbind(parts$left, ellip_h, parts$right, deparse.level = 0L):\n",
      "“number of rows of result is not a multiple of vector length (arg 2)”Warning message in cbind(parts$left, ellip_h, parts$right, deparse.level = 0L):\n",
      "“number of rows of result is not a multiple of vector length (arg 2)”"
     ]
    },
    {
     "data": {
      "text/html": [
       "<table>\n",
       "<thead><tr><th scope=col>county</th><th scope=col>year</th><th scope=col>crmrte</th><th scope=col>prbarr</th><th scope=col>prbconv</th><th scope=col>prbpris</th><th scope=col>avgsen</th><th scope=col>polpc</th><th scope=col>density</th><th scope=col>taxpc</th><th scope=col>⋯</th><th scope=col>wtuc</th><th scope=col>wtrd</th><th scope=col>wfir</th><th scope=col>wser</th><th scope=col>wmfg</th><th scope=col>wfed</th><th scope=col>wsta</th><th scope=col>wloc</th><th scope=col>mix</th><th scope=col>pctymle</th></tr></thead>\n",
       "<tbody>\n",
       "</tbody>\n",
       "</table>\n"
      ],
      "text/latex": [
       "\\begin{tabular}{r|lllllllllllllllllllllllll}\n",
       " county & year & crmrte & prbarr & prbconv & prbpris & avgsen & polpc & density & taxpc & ⋯ & wtuc & wtrd & wfir & wser & wmfg & wfed & wsta & wloc & mix & pctymle\\\\\n",
       "\\hline\n",
       "\\end{tabular}\n"
      ],
      "text/markdown": [
       "\n",
       "county | year | crmrte | prbarr | prbconv | prbpris | avgsen | polpc | density | taxpc | ⋯ | wtuc | wtrd | wfir | wser | wmfg | wfed | wsta | wloc | mix | pctymle | \n",
       "||\n",
       "\n",
       "\n"
      ],
      "text/plain": [
       "     county year crmrte prbarr prbconv prbpris avgsen polpc density taxpc ⋯\n",
       "     wtuc wtrd wfir wser wmfg wfed wsta wloc mix pctymle"
      ]
     },
     "metadata": {},
     "output_type": "display_data"
    }
   ],
   "source": [
    "# Checks for duplicate rows\n",
    "duplicated(clean)\n",
    "length(duplicated(clean))\n",
    "dim(clean)\n",
    "\n",
    "clean[duplicated(clean),]"
   ]
  },
  {
   "cell_type": "code",
   "execution_count": 23,
   "metadata": {},
   "outputs": [
    {
     "data": {
      "text/html": [
       "<table>\n",
       "<thead><tr><th></th><th scope=col>county</th><th scope=col>year</th><th scope=col>crmrte</th><th scope=col>prbarr</th><th scope=col>prbconv</th><th scope=col>prbpris</th><th scope=col>avgsen</th><th scope=col>polpc</th><th scope=col>density</th><th scope=col>taxpc</th><th scope=col>⋯</th><th scope=col>wtuc</th><th scope=col>wtrd</th><th scope=col>wfir</th><th scope=col>wser</th><th scope=col>wmfg</th><th scope=col>wfed</th><th scope=col>wsta</th><th scope=col>wloc</th><th scope=col>mix</th><th scope=col>pctymle</th></tr></thead>\n",
       "<tbody>\n",
       "\t<tr><th scope=row>88</th><td>193        </td><td>87         </td><td>0.0235277  </td><td>0.266055   </td><td>0.588859022</td><td>0.423423   </td><td>5.86       </td><td>0.00117887 </td><td>0.8138298  </td><td>28.51783   </td><td>⋯          </td><td>480.1948   </td><td>268.3836   </td><td>365.0196   </td><td>295.9352   </td><td>295.63     </td><td>468.26     </td><td>337.88     </td><td>348.74     </td><td>0.1105016  </td><td>0.07819394 </td></tr>\n",
       "</tbody>\n",
       "</table>\n"
      ],
      "text/latex": [
       "\\begin{tabular}{r|lllllllllllllllllllllllll}\n",
       "  & county & year & crmrte & prbarr & prbconv & prbpris & avgsen & polpc & density & taxpc & ⋯ & wtuc & wtrd & wfir & wser & wmfg & wfed & wsta & wloc & mix & pctymle\\\\\n",
       "\\hline\n",
       "\t88 & 193         & 87          & 0.0235277   & 0.266055    & 0.588859022 & 0.423423    & 5.86        & 0.00117887  & 0.8138298   & 28.51783    & ⋯           & 480.1948    & 268.3836    & 365.0196    & 295.9352    & 295.63      & 468.26      & 337.88      & 348.74      & 0.1105016   & 0.07819394 \\\\\n",
       "\\end{tabular}\n"
      ],
      "text/markdown": [
       "\n",
       "| <!--/--> | county | year | crmrte | prbarr | prbconv | prbpris | avgsen | polpc | density | taxpc | ⋯ | wtuc | wtrd | wfir | wser | wmfg | wfed | wsta | wloc | mix | pctymle | \n",
       "|---|\n",
       "| 88 | 193         | 87          | 0.0235277   | 0.266055    | 0.588859022 | 0.423423    | 5.86        | 0.00117887  | 0.8138298   | 28.51783    | ⋯           | 480.1948    | 268.3836    | 365.0196    | 295.9352    | 295.63      | 468.26      | 337.88      | 348.74      | 0.1105016   | 0.07819394  | \n",
       "\n",
       "\n"
      ],
      "text/plain": [
       "   county year crmrte    prbarr   prbconv     prbpris  avgsen polpc     \n",
       "88 193    87   0.0235277 0.266055 0.588859022 0.423423 5.86   0.00117887\n",
       "   density   taxpc    ⋯ wtuc     wtrd     wfir     wser     wmfg   wfed  \n",
       "88 0.8138298 28.51783 ⋯ 480.1948 268.3836 365.0196 295.9352 295.63 468.26\n",
       "   wsta   wloc   mix       pctymle   \n",
       "88 337.88 348.74 0.1105016 0.07819394"
      ]
     },
     "metadata": {},
     "output_type": "display_data"
    }
   ],
   "source": [
    "# Verifies which row is a duplicate\n",
    "clean[clean$county == 193,]"
   ]
  },
  {
   "cell_type": "code",
   "execution_count": 24,
   "metadata": {},
   "outputs": [],
   "source": [
    "# Re-cast 'prbconv' from factors into numbers\n",
    "clean$prbconv <- as.numeric(as.character(clean$prbconv))"
   ]
  },
  {
   "cell_type": "code",
   "execution_count": 25,
   "metadata": {},
   "outputs": [
    {
     "data": {
      "text/plain": [
       "     county           year        crmrte             prbarr       \n",
       " Min.   :  1.0   Min.   :87   Min.   :0.005533   Min.   :0.09277  \n",
       " 1st Qu.: 51.5   1st Qu.:87   1st Qu.:0.020604   1st Qu.:0.20495  \n",
       " Median :103.0   Median :87   Median :0.030002   Median :0.27146  \n",
       " Mean   :100.6   Mean   :87   Mean   :0.033510   Mean   :0.29524  \n",
       " 3rd Qu.:150.5   3rd Qu.:87   3rd Qu.:0.040249   3rd Qu.:0.34487  \n",
       " Max.   :197.0   Max.   :87   Max.   :0.098966   Max.   :1.09091  \n",
       "    prbconv           prbpris           avgsen           polpc          \n",
       " Min.   :0.06838   Min.   :0.1500   Min.   : 5.380   Min.   :0.0007459  \n",
       " 1st Qu.:0.34422   1st Qu.:0.3642   1st Qu.: 7.375   1st Qu.:0.0012378  \n",
       " Median :0.45170   Median :0.4222   Median : 9.110   Median :0.0014897  \n",
       " Mean   :0.55086   Mean   :0.4106   Mean   : 9.689   Mean   :0.0017080  \n",
       " 3rd Qu.:0.58513   3rd Qu.:0.4576   3rd Qu.:11.465   3rd Qu.:0.0018856  \n",
       " Max.   :2.12121   Max.   :0.6000   Max.   :20.700   Max.   :0.0090543  \n",
       "    density            taxpc             west           central      \n",
       " Min.   :0.00002   Min.   : 25.69   Min.   :0.0000   Min.   :0.0000  \n",
       " 1st Qu.:0.54718   1st Qu.: 30.73   1st Qu.:0.0000   1st Qu.:0.0000  \n",
       " Median :0.97925   Median : 34.92   Median :0.0000   Median :0.0000  \n",
       " Mean   :1.43567   Mean   : 38.16   Mean   :0.2444   Mean   :0.3778  \n",
       " 3rd Qu.:1.56926   3rd Qu.: 41.01   3rd Qu.:0.0000   3rd Qu.:1.0000  \n",
       " Max.   :8.82765   Max.   :119.76   Max.   :1.0000   Max.   :1.0000  \n",
       "     urban            pctmin80           wcon            wtuc      \n",
       " Min.   :0.00000   Min.   : 1.284   Min.   :193.6   Min.   :187.6  \n",
       " 1st Qu.:0.00000   1st Qu.:10.024   1st Qu.:250.8   1st Qu.:374.3  \n",
       " Median :0.00000   Median :24.852   Median :281.2   Median :404.8  \n",
       " Mean   :0.08889   Mean   :25.713   Mean   :285.4   Mean   :410.9  \n",
       " 3rd Qu.:0.00000   3rd Qu.:38.183   3rd Qu.:315.0   3rd Qu.:440.7  \n",
       " Max.   :1.00000   Max.   :64.348   Max.   :436.8   Max.   :613.2  \n",
       "      wtrd            wfir            wser             wmfg      \n",
       " Min.   :154.2   Min.   :170.9   Min.   : 133.0   Min.   :157.4  \n",
       " 1st Qu.:190.7   1st Qu.:285.6   1st Qu.: 229.3   1st Qu.:288.6  \n",
       " Median :203.0   Median :317.1   Median : 253.1   Median :321.1  \n",
       " Mean   :210.9   Mean   :321.6   Mean   : 275.3   Mean   :336.0  \n",
       " 3rd Qu.:224.3   3rd Qu.:342.6   3rd Qu.: 277.6   3rd Qu.:359.9  \n",
       " Max.   :354.7   Max.   :509.5   Max.   :2177.1   Max.   :646.9  \n",
       "      wfed            wsta            wloc            mix         \n",
       " Min.   :326.1   Min.   :258.3   Min.   :239.2   Min.   :0.01961  \n",
       " 1st Qu.:398.8   1st Qu.:329.3   1st Qu.:297.2   1st Qu.:0.08060  \n",
       " Median :448.9   Median :358.4   Median :307.6   Median :0.10095  \n",
       " Mean   :442.6   Mean   :357.7   Mean   :312.3   Mean   :0.12905  \n",
       " 3rd Qu.:478.3   3rd Qu.:383.2   3rd Qu.:328.8   3rd Qu.:0.15206  \n",
       " Max.   :598.0   Max.   :499.6   Max.   :388.1   Max.   :0.46512  \n",
       "    pctymle       \n",
       " Min.   :0.06216  \n",
       " 1st Qu.:0.07437  \n",
       " Median :0.07770  \n",
       " Mean   :0.08403  \n",
       " 3rd Qu.:0.08352  \n",
       " Max.   :0.24871  "
      ]
     },
     "metadata": {},
     "output_type": "display_data"
    },
    {
     "name": "stdout",
     "output_type": "stream",
     "text": [
      "'data.frame':\t90 obs. of  25 variables:\n",
      " $ county  : int  1 3 5 7 9 11 13 15 17 19 ...\n",
      " $ year    : int  87 87 87 87 87 87 87 87 87 87 ...\n",
      " $ crmrte  : num  0.0356 0.0153 0.013 0.0268 0.0106 ...\n",
      " $ prbarr  : num  0.298 0.132 0.444 0.365 0.518 ...\n",
      " $ prbconv : num  0.528 1.481 0.268 0.525 0.477 ...\n",
      " $ prbpris : num  0.436 0.45 0.6 0.435 0.443 ...\n",
      " $ avgsen  : num  6.71 6.35 6.76 7.14 8.22 ...\n",
      " $ polpc   : num  0.001828 0.000746 0.001234 0.00153 0.00086 ...\n",
      " $ density : num  2.423 1.046 0.413 0.492 0.547 ...\n",
      " $ taxpc   : num  31 26.9 34.8 42.9 28.1 ...\n",
      " $ west    : int  0 0 1 0 1 1 0 0 0 0 ...\n",
      " $ central : int  1 1 0 1 0 0 0 0 0 0 ...\n",
      " $ urban   : int  0 0 0 0 0 0 0 0 0 0 ...\n",
      " $ pctmin80: num  20.22 7.92 3.16 47.92 1.8 ...\n",
      " $ wcon    : num  281 255 227 375 292 ...\n",
      " $ wtuc    : num  409 376 372 398 377 ...\n",
      " $ wtrd    : num  221 196 229 191 207 ...\n",
      " $ wfir    : num  453 259 306 281 289 ...\n",
      " $ wser    : num  274 192 210 257 215 ...\n",
      " $ wmfg    : num  335 300 238 282 291 ...\n",
      " $ wfed    : num  478 410 359 412 377 ...\n",
      " $ wsta    : num  292 363 332 328 367 ...\n",
      " $ wloc    : num  312 301 281 299 343 ...\n",
      " $ mix     : num  0.0802 0.0302 0.4651 0.2736 0.0601 ...\n",
      " $ pctymle : num  0.0779 0.0826 0.0721 0.0735 0.0707 ...\n"
     ]
    }
   ],
   "source": [
    "summary(clean)\n",
    "str(clean)"
   ]
  },
  {
   "cell_type": "markdown",
   "metadata": {},
   "source": [
    "# Building Regressions"
   ]
  },
  {
   "cell_type": "markdown",
   "metadata": {},
   "source": [
    "## Model 1: Our Base Model \n",
    "\n",
    "We wanted to understand if an increasing probability of incarceration for offenders ($prbpris$) is associated with lower crime rates ($crmrte$); consequently, our base model regresses our primary outcome variable $crmrte$ on the independent variable $prbpris$. However, an offender must first be arrested and convicted of a crime before s/he faces the possibility of serving prison time. Importantly, the probability that s/he will be arrested ($prbarr$) and the probability s/he will actually be convicted of a crime ($prbconv$) might also be associated with changes in $crmrte$. For example, we speculate that potential offenders could in principle be loathe to commit crimes in locales that have a higher propensity for arresting suspects. Similarly, convictions that do not result in incarceration but that place offenders on probation or that punish them with fines and/or community service could in principle reduce crime rate. Consequently, we also included $prbarr$ and $prbconv$ as regressors in our base model to control for these (and other) potential effects that could be associated with changes in these variables.\n",
    "\n",
    "To begin, we regressed $crmrte$ on each of these variables ($prbarr$, $prbconv$, and $prbpris$) individually. In so doing, we discovered that the $prbpris$ appears to be uncorrelated with $crmrte$ $(R^2 = 0.00)$; thus, to a first approximation and without accounting for other variables, this model suggests that an increasing probability of incarceration is not associated with lower crime rates. In contrast, increasing $prbarr$ and $prbconv$ appeared to be associated with lower $crmrte$. Specifically, each unit increase in $prbarr$ is associated with a 0.054 unit decrease in $crmrte$ $(R^2 = 0.16)$, while each unit increase in $prbarr$ is associated with a 0.021 unit decrease in $crmrte$ $(R^2 = 0.15)$.\n",
    "\n",
    "Finally, we explored transformations that might improve our model's fit to these data. Although the maximum value of $crmrte$ is only ~18 times greater than its minimum value, (0.0055 vs. 0.099), we discovered that regressions of  $\\log{crmrte}$ on $prbarr$ or $prbconv$ individually had better fits $(prbarr: R^2 = 0.22$ and $prbconv: R^2 = 0.20)$ than regressions of $crmrte$ on $prbarr$ or $prbconv$ $(prbarr: R^2 = 0.15$ and $prbconv: R^2 = 0.16)$. Thus, we chose to employ $\\log_{crmrte}$ in our base model. \n",
    "\n",
    "We also chose to log-transform all of our regressors. Doing so sacrifices a slightly better fit as compared to modeling untransformed regressors $(R^2 = 0.45$ vs. $R^2 = 0.41)$. However, the units of our dependent variable and independent variables are somewhat disparate and obscure, and the log-transformed regressors facilitate more easily understood comparisons between them in terms of % changes. Specifically, each slope coefficient $\\beta_j$ will describe how a 1% change in the corresponding regressor changes $crmrte$ by $\\beta_j * 1\\% = \\beta_j\\%$ Having fully specified our base model, we calculated the least-squares fit below. \n",
    "\n",
    "$$ \\log crmrte = -4.71 - 0.72*\\log prbarr - 0.47*\\log prbconv + 0.15*\\log prbpris $$\n",
    "\n",
    "Since they have negative slope coefficients, our model suggests that $prbarr$ and $prbconv$ are associated with reduced $crmrte$, but that $prbpris$, which has a positive slope coefficient, is not. Specifically, we expect 1% increases in the probability of arrest or probability will correspond with 0.72% or 0.47% reductions in crime rate; in contrast, we our model predicts that a 1% increase in the probability of prison sentence  is associated with a 0.15% increase in crime rate.\n",
    "\n",
    "We set out to determine if the probability with which an offender receives a prison sentence is associated with a lower crime rate; our results suggest that it is not, but that increasing the probabilities of arrest and conviction are. Importantly, we cannot claim that any causal effects exist in these relationships. For example, an increased probability of prison might be associated with higher crime rate because locales with higher violent crime rates sentence more people to prison; this in and of itself would not suggest that increasing the rates of incarceration would reduce crime rates. Similarly, areas with lower crime rates might simply have higher rates of arrests and convictions because the lower crime rates facilitate these effects; stated another way, other factors (e.g., poverty rates, education) could play a more direct role in reducing crime. \n",
    "\n",
    "In light of the fact that we cannot define a causal relationship between these variables, we recommend that you establish pilot programs in some counties that attempt to test some of these observations. If retrospective analyses indicate that the programs appear to have reduced crime rates (especially in comparison with similar counties that are not executing a similar pilot), then you can launch these initiatives statewide. Specifically, we recommend that you campaign on pilot policy prescriptions that are designed to (_i_) increase arrest rates, (_ii_) increase conviction rates, and (_iii_) offer alternatives to prison for offenders. For example, you might consider increasing funding to process evidence (e.g., rape kits, DNA tests) to crack cold cases and increase arrests, adding more prosecutorial staff to process more cases, or altering sentencing guidelines to disfavor prison (in some instances). \n",
    "\n"
   ]
  },
  {
   "cell_type": "markdown",
   "metadata": {},
   "source": [
    "## Code for Our Proposed Model"
   ]
  },
  {
   "cell_type": "code",
   "execution_count": 33,
   "metadata": {},
   "outputs": [
    {
     "data": {
      "text/html": [
       "'Model: log(crmrte) ~ log(prbarr) + log(prbconv) + log(prbpris)'"
      ],
      "text/latex": [
       "'Model: log(crmrte) \\textasciitilde{} log(prbarr) + log(prbconv) + log(prbpris)'"
      ],
      "text/markdown": [
       "'Model: log(crmrte) ~ log(prbarr) + log(prbconv) + log(prbpris)'"
      ],
      "text/plain": [
       "[1] \"Model: log(crmrte) ~ log(prbarr) + log(prbconv) + log(prbpris)\""
      ]
     },
     "metadata": {},
     "output_type": "display_data"
    },
    {
     "data": {
      "text/html": [
       "'Slope (log(prbarr)): -0.723804208413992'"
      ],
      "text/latex": [
       "'Slope (log(prbarr)): -0.723804208413992'"
      ],
      "text/markdown": [
       "'Slope (log(prbarr)): -0.723804208413992'"
      ],
      "text/plain": [
       "[1] \"Slope (log(prbarr)): -0.723804208413992\""
      ]
     },
     "metadata": {},
     "output_type": "display_data"
    },
    {
     "data": {
      "text/html": [
       "'Slope (log(prbconv)): -0.471991225676325'"
      ],
      "text/latex": [
       "'Slope (log(prbconv)): -0.471991225676325'"
      ],
      "text/markdown": [
       "'Slope (log(prbconv)): -0.471991225676325'"
      ],
      "text/plain": [
       "[1] \"Slope (log(prbconv)): -0.471991225676325\""
      ]
     },
     "metadata": {},
     "output_type": "display_data"
    },
    {
     "data": {
      "text/html": [
       "'Slope (log(prbpris)): 0.147727732051512'"
      ],
      "text/latex": [
       "'Slope (log(prbpris)): 0.147727732051512'"
      ],
      "text/markdown": [
       "'Slope (log(prbpris)): 0.147727732051512'"
      ],
      "text/plain": [
       "[1] \"Slope (log(prbpris)): 0.147727732051512\""
      ]
     },
     "metadata": {},
     "output_type": "display_data"
    },
    {
     "data": {
      "text/html": [
       "'Intercept: -4.70767874893467'"
      ],
      "text/latex": [
       "'Intercept: -4.70767874893467'"
      ],
      "text/markdown": [
       "'Intercept: -4.70767874893467'"
      ],
      "text/plain": [
       "[1] \"Intercept: -4.70767874893467\""
      ]
     },
     "metadata": {},
     "output_type": "display_data"
    },
    {
     "data": {
      "text/html": [
       "'R-squared: 0.41'"
      ],
      "text/latex": [
       "'R-squared: 0.41'"
      ],
      "text/markdown": [
       "'R-squared: 0.41'"
      ],
      "text/plain": [
       "[1] \"R-squared: 0.41\""
      ]
     },
     "metadata": {},
     "output_type": "display_data"
    },
    {
     "data": {
      "text/html": [
       "'Adjusted R-squared: 0.39'"
      ],
      "text/latex": [
       "'Adjusted R-squared: 0.39'"
      ],
      "text/markdown": [
       "'Adjusted R-squared: 0.39'"
      ],
      "text/plain": [
       "[1] \"Adjusted R-squared: 0.39\""
      ]
     },
     "metadata": {},
     "output_type": "display_data"
    },
    {
     "data": {
      "text/html": [
       "'Akaike Information Criterion: 108'"
      ],
      "text/latex": [
       "'Akaike Information Criterion: 108'"
      ],
      "text/markdown": [
       "'Akaike Information Criterion: 108'"
      ],
      "text/plain": [
       "[1] \"Akaike Information Criterion: 108\""
      ]
     },
     "metadata": {},
     "output_type": "display_data"
    },
    {
     "data": {
      "text/html": [
       "'###############################'"
      ],
      "text/latex": [
       "'\\#\\#\\#\\#\\#\\#\\#\\#\\#\\#\\#\\#\\#\\#\\#\\#\\#\\#\\#\\#\\#\\#\\#\\#\\#\\#\\#\\#\\#\\#\\#'"
      ],
      "text/markdown": [
       "'###############################'"
      ],
      "text/plain": [
       "[1] \"###############################\""
      ]
     },
     "metadata": {},
     "output_type": "display_data"
    }
   ],
   "source": [
    "model1 <- lm(log(crmrte) ~ log(prbarr) + log(prbconv) + log(prbpris), data=clean)\n",
    "# summary(model1)\n",
    "paste(\"Model:\", summary(model1)$call[2])\n",
    "paste(\"Slope (log(prbarr)):\", model1$coef[2])\n",
    "paste(\"Slope (log(prbconv)):\", model1$coef[3])\n",
    "paste(\"Slope (log(prbpris)):\", model1$coef[4])\n",
    "paste(\"Intercept:\", model1$coef[1])\n",
    "paste(\"R-squared:\", round(summary(model1)$r.squared, 2))\n",
    "paste(\"Adjusted R-squared:\", round(summary(model1)$adj.r.squared, 2))\n",
    "paste(\"Akaike Information Criterion:\", round(AIC(model1), 0))\n",
    "paste(\"###############################\")"
   ]
  },
  {
   "cell_type": "markdown",
   "metadata": {},
   "source": [
    "## Testing Different Regressions"
   ]
  },
  {
   "cell_type": "code",
   "execution_count": 27,
   "metadata": {
    "scrolled": false
   },
   "outputs": [
    {
     "data": {
      "text/html": [
       "'Model: crmrte ~ prbarr'"
      ],
      "text/latex": [
       "'Model: crmrte \\textasciitilde{} prbarr'"
      ],
      "text/markdown": [
       "'Model: crmrte ~ prbarr'"
      ],
      "text/plain": [
       "[1] \"Model: crmrte ~ prbarr\""
      ]
     },
     "metadata": {},
     "output_type": "display_data"
    },
    {
     "data": {
      "text/html": [
       "'Slope: -0.0542278121865468'"
      ],
      "text/latex": [
       "'Slope: -0.0542278121865468'"
      ],
      "text/markdown": [
       "'Slope: -0.0542278121865468'"
      ],
      "text/plain": [
       "[1] \"Slope: -0.0542278121865468\""
      ]
     },
     "metadata": {},
     "output_type": "display_data"
    },
    {
     "data": {
      "text/html": [
       "'Intercept: 0.0495200097730725'"
      ],
      "text/latex": [
       "'Intercept: 0.0495200097730725'"
      ],
      "text/markdown": [
       "'Intercept: 0.0495200097730725'"
      ],
      "text/plain": [
       "[1] \"Intercept: 0.0495200097730725\""
      ]
     },
     "metadata": {},
     "output_type": "display_data"
    },
    {
     "data": {
      "text/html": [
       "'R-squared: 0.16'"
      ],
      "text/latex": [
       "'R-squared: 0.16'"
      ],
      "text/markdown": [
       "'R-squared: 0.16'"
      ],
      "text/plain": [
       "[1] \"R-squared: 0.16\""
      ]
     },
     "metadata": {},
     "output_type": "display_data"
    },
    {
     "data": {
      "text/html": [
       "'Adjusted R-squared: 0.15'"
      ],
      "text/latex": [
       "'Adjusted R-squared: 0.15'"
      ],
      "text/markdown": [
       "'Adjusted R-squared: 0.15'"
      ],
      "text/plain": [
       "[1] \"Adjusted R-squared: 0.15\""
      ]
     },
     "metadata": {},
     "output_type": "display_data"
    },
    {
     "data": {
      "text/html": [
       "'Akaike Information Criterion: -469'"
      ],
      "text/latex": [
       "'Akaike Information Criterion: -469'"
      ],
      "text/markdown": [
       "'Akaike Information Criterion: -469'"
      ],
      "text/plain": [
       "[1] \"Akaike Information Criterion: -469\""
      ]
     },
     "metadata": {},
     "output_type": "display_data"
    },
    {
     "data": {
      "text/html": [
       "'###############################'"
      ],
      "text/latex": [
       "'\\#\\#\\#\\#\\#\\#\\#\\#\\#\\#\\#\\#\\#\\#\\#\\#\\#\\#\\#\\#\\#\\#\\#\\#\\#\\#\\#\\#\\#\\#\\#'"
      ],
      "text/markdown": [
       "'###############################'"
      ],
      "text/plain": [
       "[1] \"###############################\""
      ]
     },
     "metadata": {},
     "output_type": "display_data"
    },
    {
     "data": {
      "text/html": [
       "'Model: crmrte ~ prbconv'"
      ],
      "text/latex": [
       "'Model: crmrte \\textasciitilde{} prbconv'"
      ],
      "text/markdown": [
       "'Model: crmrte ~ prbconv'"
      ],
      "text/plain": [
       "[1] \"Model: crmrte ~ prbconv\""
      ]
     },
     "metadata": {},
     "output_type": "display_data"
    },
    {
     "data": {
      "text/html": [
       "'Slope: -0.0205811570195115'"
      ],
      "text/latex": [
       "'Slope: -0.0205811570195115'"
      ],
      "text/markdown": [
       "'Slope: -0.0205811570195115'"
      ],
      "text/plain": [
       "[1] \"Slope: -0.0205811570195115\""
      ]
     },
     "metadata": {},
     "output_type": "display_data"
    },
    {
     "data": {
      "text/html": [
       "'Intercept: 0.044847282664666'"
      ],
      "text/latex": [
       "'Intercept: 0.044847282664666'"
      ],
      "text/markdown": [
       "'Intercept: 0.044847282664666'"
      ],
      "text/plain": [
       "[1] \"Intercept: 0.044847282664666\""
      ]
     },
     "metadata": {},
     "output_type": "display_data"
    },
    {
     "data": {
      "text/html": [
       "'R-squared: 0.15'"
      ],
      "text/latex": [
       "'R-squared: 0.15'"
      ],
      "text/markdown": [
       "'R-squared: 0.15'"
      ],
      "text/plain": [
       "[1] \"R-squared: 0.15\""
      ]
     },
     "metadata": {},
     "output_type": "display_data"
    },
    {
     "data": {
      "text/html": [
       "'Adjusted R-squared: 0.14'"
      ],
      "text/latex": [
       "'Adjusted R-squared: 0.14'"
      ],
      "text/markdown": [
       "'Adjusted R-squared: 0.14'"
      ],
      "text/plain": [
       "[1] \"Adjusted R-squared: 0.14\""
      ]
     },
     "metadata": {},
     "output_type": "display_data"
    },
    {
     "data": {
      "text/html": [
       "'Akaike Information Criterion: -469'"
      ],
      "text/latex": [
       "'Akaike Information Criterion: -469'"
      ],
      "text/markdown": [
       "'Akaike Information Criterion: -469'"
      ],
      "text/plain": [
       "[1] \"Akaike Information Criterion: -469\""
      ]
     },
     "metadata": {},
     "output_type": "display_data"
    },
    {
     "data": {
      "text/html": [
       "'###############################'"
      ],
      "text/latex": [
       "'\\#\\#\\#\\#\\#\\#\\#\\#\\#\\#\\#\\#\\#\\#\\#\\#\\#\\#\\#\\#\\#\\#\\#\\#\\#\\#\\#\\#\\#\\#\\#'"
      ],
      "text/markdown": [
       "'###############################'"
      ],
      "text/plain": [
       "[1] \"###############################\""
      ]
     },
     "metadata": {},
     "output_type": "display_data"
    },
    {
     "data": {
      "text/html": [
       "'Model: crmrte ~ prbpris'"
      ],
      "text/latex": [
       "'Model: crmrte \\textasciitilde{} prbpris'"
      ],
      "text/markdown": [
       "'Model: crmrte ~ prbpris'"
      ],
      "text/plain": [
       "[1] \"Model: crmrte ~ prbpris\""
      ]
     },
     "metadata": {},
     "output_type": "display_data"
    },
    {
     "data": {
      "text/html": [
       "'Slope: 0.0112364581232119'"
      ],
      "text/latex": [
       "'Slope: 0.0112364581232119'"
      ],
      "text/markdown": [
       "'Slope: 0.0112364581232119'"
      ],
      "text/plain": [
       "[1] \"Slope: 0.0112364581232119\""
      ]
     },
     "metadata": {},
     "output_type": "display_data"
    },
    {
     "data": {
      "text/html": [
       "'Intercept: 0.0288959467111836'"
      ],
      "text/latex": [
       "'Intercept: 0.0288959467111836'"
      ],
      "text/markdown": [
       "'Intercept: 0.0288959467111836'"
      ],
      "text/plain": [
       "[1] \"Intercept: 0.0288959467111836\""
      ]
     },
     "metadata": {},
     "output_type": "display_data"
    },
    {
     "data": {
      "text/html": [
       "'R-squared: 0'"
      ],
      "text/latex": [
       "'R-squared: 0'"
      ],
      "text/markdown": [
       "'R-squared: 0'"
      ],
      "text/plain": [
       "[1] \"R-squared: 0\""
      ]
     },
     "metadata": {},
     "output_type": "display_data"
    },
    {
     "data": {
      "text/html": [
       "'Adjusted R-squared: -0.01'"
      ],
      "text/latex": [
       "'Adjusted R-squared: -0.01'"
      ],
      "text/markdown": [
       "'Adjusted R-squared: -0.01'"
      ],
      "text/plain": [
       "[1] \"Adjusted R-squared: -0.01\""
      ]
     },
     "metadata": {},
     "output_type": "display_data"
    },
    {
     "data": {
      "text/html": [
       "'Akaike Information Criterion: -454'"
      ],
      "text/latex": [
       "'Akaike Information Criterion: -454'"
      ],
      "text/markdown": [
       "'Akaike Information Criterion: -454'"
      ],
      "text/plain": [
       "[1] \"Akaike Information Criterion: -454\""
      ]
     },
     "metadata": {},
     "output_type": "display_data"
    },
    {
     "data": {
      "text/html": [
       "'###############################'"
      ],
      "text/latex": [
       "'\\#\\#\\#\\#\\#\\#\\#\\#\\#\\#\\#\\#\\#\\#\\#\\#\\#\\#\\#\\#\\#\\#\\#\\#\\#\\#\\#\\#\\#\\#\\#'"
      ],
      "text/markdown": [
       "'###############################'"
      ],
      "text/plain": [
       "[1] \"###############################\""
      ]
     },
     "metadata": {},
     "output_type": "display_data"
    },
    {
     "data": {
      "text/html": [
       "'*******************************'"
      ],
      "text/latex": [
       "'*******************************'"
      ],
      "text/markdown": [
       "'*******************************'"
      ],
      "text/plain": [
       "[1] \"*******************************\""
      ]
     },
     "metadata": {},
     "output_type": "display_data"
    },
    {
     "data": {
      "text/html": [
       "'Model: log(crmrte) ~ prbarr'"
      ],
      "text/latex": [
       "'Model: log(crmrte) \\textasciitilde{} prbarr'"
      ],
      "text/markdown": [
       "'Model: log(crmrte) ~ prbarr'"
      ],
      "text/plain": [
       "[1] \"Model: log(crmrte) ~ prbarr\""
      ]
     },
     "metadata": {},
     "output_type": "display_data"
    },
    {
     "data": {
      "text/html": [
       "'Slope: -1.88437913757391'"
      ],
      "text/latex": [
       "'Slope: -1.88437913757391'"
      ],
      "text/markdown": [
       "'Slope: -1.88437913757391'"
      ],
      "text/plain": [
       "[1] \"Slope: -1.88437913757391\""
      ]
     },
     "metadata": {},
     "output_type": "display_data"
    },
    {
     "data": {
      "text/html": [
       "'Intercept: -2.98538790245543'"
      ],
      "text/latex": [
       "'Intercept: -2.98538790245543'"
      ],
      "text/markdown": [
       "'Intercept: -2.98538790245543'"
      ],
      "text/plain": [
       "[1] \"Intercept: -2.98538790245543\""
      ]
     },
     "metadata": {},
     "output_type": "display_data"
    },
    {
     "data": {
      "text/html": [
       "'R-squared: 0.22'"
      ],
      "text/latex": [
       "'R-squared: 0.22'"
      ],
      "text/markdown": [
       "'R-squared: 0.22'"
      ],
      "text/plain": [
       "[1] \"R-squared: 0.22\""
      ]
     },
     "metadata": {},
     "output_type": "display_data"
    },
    {
     "data": {
      "text/html": [
       "'Adjusted R-squared: 0.21'"
      ],
      "text/latex": [
       "'Adjusted R-squared: 0.21'"
      ],
      "text/markdown": [
       "'Adjusted R-squared: 0.21'"
      ],
      "text/plain": [
       "[1] \"Adjusted R-squared: 0.21\""
      ]
     },
     "metadata": {},
     "output_type": "display_data"
    },
    {
     "data": {
      "text/html": [
       "'Akaike Information Criterion: 130'"
      ],
      "text/latex": [
       "'Akaike Information Criterion: 130'"
      ],
      "text/markdown": [
       "'Akaike Information Criterion: 130'"
      ],
      "text/plain": [
       "[1] \"Akaike Information Criterion: 130\""
      ]
     },
     "metadata": {},
     "output_type": "display_data"
    },
    {
     "data": {
      "text/html": [
       "'###############################'"
      ],
      "text/latex": [
       "'\\#\\#\\#\\#\\#\\#\\#\\#\\#\\#\\#\\#\\#\\#\\#\\#\\#\\#\\#\\#\\#\\#\\#\\#\\#\\#\\#\\#\\#\\#\\#'"
      ],
      "text/markdown": [
       "'###############################'"
      ],
      "text/plain": [
       "[1] \"###############################\""
      ]
     },
     "metadata": {},
     "output_type": "display_data"
    },
    {
     "data": {
      "text/html": [
       "'Model: log(crmrte) ~ prbconv'"
      ],
      "text/latex": [
       "'Model: log(crmrte) \\textasciitilde{} prbconv'"
      ],
      "text/markdown": [
       "'Model: log(crmrte) ~ prbconv'"
      ],
      "text/plain": [
       "[1] \"Model: log(crmrte) ~ prbconv\""
      ]
     },
     "metadata": {},
     "output_type": "display_data"
    },
    {
     "data": {
      "text/html": [
       "'Slope: -0.692237110835607'"
      ],
      "text/latex": [
       "'Slope: -0.692237110835607'"
      ],
      "text/markdown": [
       "'Slope: -0.692237110835607'"
      ],
      "text/plain": [
       "[1] \"Slope: -0.692237110835607\""
      ]
     },
     "metadata": {},
     "output_type": "display_data"
    },
    {
     "data": {
      "text/html": [
       "'Intercept: -3.16040086782289'"
      ],
      "text/latex": [
       "'Intercept: -3.16040086782289'"
      ],
      "text/markdown": [
       "'Intercept: -3.16040086782289'"
      ],
      "text/plain": [
       "[1] \"Intercept: -3.16040086782289\""
      ]
     },
     "metadata": {},
     "output_type": "display_data"
    },
    {
     "data": {
      "text/html": [
       "'R-squared: 0.2'"
      ],
      "text/latex": [
       "'R-squared: 0.2'"
      ],
      "text/markdown": [
       "'R-squared: 0.2'"
      ],
      "text/plain": [
       "[1] \"R-squared: 0.2\""
      ]
     },
     "metadata": {},
     "output_type": "display_data"
    },
    {
     "data": {
      "text/html": [
       "'Adjusted R-squared: 0.19'"
      ],
      "text/latex": [
       "'Adjusted R-squared: 0.19'"
      ],
      "text/markdown": [
       "'Adjusted R-squared: 0.19'"
      ],
      "text/plain": [
       "[1] \"Adjusted R-squared: 0.19\""
      ]
     },
     "metadata": {},
     "output_type": "display_data"
    },
    {
     "data": {
      "text/html": [
       "'Akaike Information Criterion: 132'"
      ],
      "text/latex": [
       "'Akaike Information Criterion: 132'"
      ],
      "text/markdown": [
       "'Akaike Information Criterion: 132'"
      ],
      "text/plain": [
       "[1] \"Akaike Information Criterion: 132\""
      ]
     },
     "metadata": {},
     "output_type": "display_data"
    },
    {
     "data": {
      "text/html": [
       "'###############################'"
      ],
      "text/latex": [
       "'\\#\\#\\#\\#\\#\\#\\#\\#\\#\\#\\#\\#\\#\\#\\#\\#\\#\\#\\#\\#\\#\\#\\#\\#\\#\\#\\#\\#\\#\\#\\#'"
      ],
      "text/markdown": [
       "'###############################'"
      ],
      "text/plain": [
       "[1] \"###############################\""
      ]
     },
     "metadata": {},
     "output_type": "display_data"
    },
    {
     "data": {
      "text/html": [
       "'Model: log(crmrte) ~ prbpris'"
      ],
      "text/latex": [
       "'Model: log(crmrte) \\textasciitilde{} prbpris'"
      ],
      "text/markdown": [
       "'Model: log(crmrte) ~ prbpris'"
      ],
      "text/plain": [
       "[1] \"Model: log(crmrte) ~ prbpris\""
      ]
     },
     "metadata": {},
     "output_type": "display_data"
    },
    {
     "data": {
      "text/html": [
       "'Slope: 0.146040749709391'"
      ],
      "text/latex": [
       "'Slope: 0.146040749709391'"
      ],
      "text/markdown": [
       "'Slope: 0.146040749709391'"
      ],
      "text/plain": [
       "[1] \"Slope: 0.146040749709391\""
      ]
     },
     "metadata": {},
     "output_type": "display_data"
    },
    {
     "data": {
      "text/html": [
       "'Intercept: -3.60169542314763'"
      ],
      "text/latex": [
       "'Intercept: -3.60169542314763'"
      ],
      "text/markdown": [
       "'Intercept: -3.60169542314763'"
      ],
      "text/plain": [
       "[1] \"Intercept: -3.60169542314763\""
      ]
     },
     "metadata": {},
     "output_type": "display_data"
    },
    {
     "data": {
      "text/html": [
       "'R-squared: 0'"
      ],
      "text/latex": [
       "'R-squared: 0'"
      ],
      "text/markdown": [
       "'R-squared: 0'"
      ],
      "text/plain": [
       "[1] \"R-squared: 0\""
      ]
     },
     "metadata": {},
     "output_type": "display_data"
    },
    {
     "data": {
      "text/html": [
       "'Adjusted R-squared: -0.01'"
      ],
      "text/latex": [
       "'Adjusted R-squared: -0.01'"
      ],
      "text/markdown": [
       "'Adjusted R-squared: -0.01'"
      ],
      "text/plain": [
       "[1] \"Adjusted R-squared: -0.01\""
      ]
     },
     "metadata": {},
     "output_type": "display_data"
    },
    {
     "data": {
      "text/html": [
       "'Akaike Information Criterion: 152'"
      ],
      "text/latex": [
       "'Akaike Information Criterion: 152'"
      ],
      "text/markdown": [
       "'Akaike Information Criterion: 152'"
      ],
      "text/plain": [
       "[1] \"Akaike Information Criterion: 152\""
      ]
     },
     "metadata": {},
     "output_type": "display_data"
    },
    {
     "data": {
      "text/html": [
       "'###############################'"
      ],
      "text/latex": [
       "'\\#\\#\\#\\#\\#\\#\\#\\#\\#\\#\\#\\#\\#\\#\\#\\#\\#\\#\\#\\#\\#\\#\\#\\#\\#\\#\\#\\#\\#\\#\\#'"
      ],
      "text/markdown": [
       "'###############################'"
      ],
      "text/plain": [
       "[1] \"###############################\""
      ]
     },
     "metadata": {},
     "output_type": "display_data"
    },
    {
     "data": {
      "text/html": [
       "'*******************************'"
      ],
      "text/latex": [
       "'*******************************'"
      ],
      "text/markdown": [
       "'*******************************'"
      ],
      "text/plain": [
       "[1] \"*******************************\""
      ]
     },
     "metadata": {},
     "output_type": "display_data"
    },
    {
     "data": {
      "text/html": [
       "'Model: crmrte ~ log(prbarr)'"
      ],
      "text/latex": [
       "'Model: crmrte \\textasciitilde{} log(prbarr)'"
      ],
      "text/markdown": [
       "'Model: crmrte ~ log(prbarr)'"
      ],
      "text/plain": [
       "[1] \"Model: crmrte ~ log(prbarr)\""
      ]
     },
     "metadata": {},
     "output_type": "display_data"
    },
    {
     "data": {
      "text/html": [
       "'Slope: -0.0197279467744946'"
      ],
      "text/latex": [
       "'Slope: -0.0197279467744946'"
      ],
      "text/markdown": [
       "'Slope: -0.0197279467744946'"
      ],
      "text/plain": [
       "[1] \"Slope: -0.0197279467744946\""
      ]
     },
     "metadata": {},
     "output_type": "display_data"
    },
    {
     "data": {
      "text/html": [
       "'Intercept: 0.00777726364119923'"
      ],
      "text/latex": [
       "'Intercept: 0.00777726364119923'"
      ],
      "text/markdown": [
       "'Intercept: 0.00777726364119923'"
      ],
      "text/plain": [
       "[1] \"Intercept: 0.00777726364119923\""
      ]
     },
     "metadata": {},
     "output_type": "display_data"
    },
    {
     "data": {
      "text/html": [
       "'R-squared: 0.18'"
      ],
      "text/latex": [
       "'R-squared: 0.18'"
      ],
      "text/markdown": [
       "'R-squared: 0.18'"
      ],
      "text/plain": [
       "[1] \"R-squared: 0.18\""
      ]
     },
     "metadata": {},
     "output_type": "display_data"
    },
    {
     "data": {
      "text/html": [
       "'Adjusted R-squared: 0.17'"
      ],
      "text/latex": [
       "'Adjusted R-squared: 0.17'"
      ],
      "text/markdown": [
       "'Adjusted R-squared: 0.17'"
      ],
      "text/plain": [
       "[1] \"Adjusted R-squared: 0.17\""
      ]
     },
     "metadata": {},
     "output_type": "display_data"
    },
    {
     "data": {
      "text/html": [
       "'Akaike Information Criterion: -472'"
      ],
      "text/latex": [
       "'Akaike Information Criterion: -472'"
      ],
      "text/markdown": [
       "'Akaike Information Criterion: -472'"
      ],
      "text/plain": [
       "[1] \"Akaike Information Criterion: -472\""
      ]
     },
     "metadata": {},
     "output_type": "display_data"
    },
    {
     "data": {
      "text/html": [
       "'###############################'"
      ],
      "text/latex": [
       "'\\#\\#\\#\\#\\#\\#\\#\\#\\#\\#\\#\\#\\#\\#\\#\\#\\#\\#\\#\\#\\#\\#\\#\\#\\#\\#\\#\\#\\#\\#\\#'"
      ],
      "text/markdown": [
       "'###############################'"
      ],
      "text/plain": [
       "[1] \"###############################\""
      ]
     },
     "metadata": {},
     "output_type": "display_data"
    },
    {
     "data": {
      "text/html": [
       "'Model: crmrte ~ log(prbconv)'"
      ],
      "text/latex": [
       "'Model: crmrte \\textasciitilde{} log(prbconv)'"
      ],
      "text/markdown": [
       "'Model: crmrte ~ log(prbconv)'"
      ],
      "text/plain": [
       "[1] \"Model: crmrte ~ log(prbconv)\""
      ]
     },
     "metadata": {},
     "output_type": "display_data"
    },
    {
     "data": {
      "text/html": [
       "'Slope: -0.0122782889774807'"
      ],
      "text/latex": [
       "'Slope: -0.0122782889774807'"
      ],
      "text/markdown": [
       "'Slope: -0.0122782889774807'"
      ],
      "text/plain": [
       "[1] \"Slope: -0.0122782889774807\""
      ]
     },
     "metadata": {},
     "output_type": "display_data"
    },
    {
     "data": {
      "text/html": [
       "'Intercept: 0.0242333830935284'"
      ],
      "text/latex": [
       "'Intercept: 0.0242333830935284'"
      ],
      "text/markdown": [
       "'Intercept: 0.0242333830935284'"
      ],
      "text/plain": [
       "[1] \"Intercept: 0.0242333830935284\""
      ]
     },
     "metadata": {},
     "output_type": "display_data"
    },
    {
     "data": {
      "text/html": [
       "'R-squared: 0.13'"
      ],
      "text/latex": [
       "'R-squared: 0.13'"
      ],
      "text/markdown": [
       "'R-squared: 0.13'"
      ],
      "text/plain": [
       "[1] \"R-squared: 0.13\""
      ]
     },
     "metadata": {},
     "output_type": "display_data"
    },
    {
     "data": {
      "text/html": [
       "'Adjusted R-squared: 0.12'"
      ],
      "text/latex": [
       "'Adjusted R-squared: 0.12'"
      ],
      "text/markdown": [
       "'Adjusted R-squared: 0.12'"
      ],
      "text/plain": [
       "[1] \"Adjusted R-squared: 0.12\""
      ]
     },
     "metadata": {},
     "output_type": "display_data"
    },
    {
     "data": {
      "text/html": [
       "'Akaike Information Criterion: -467'"
      ],
      "text/latex": [
       "'Akaike Information Criterion: -467'"
      ],
      "text/markdown": [
       "'Akaike Information Criterion: -467'"
      ],
      "text/plain": [
       "[1] \"Akaike Information Criterion: -467\""
      ]
     },
     "metadata": {},
     "output_type": "display_data"
    },
    {
     "data": {
      "text/html": [
       "'###############################'"
      ],
      "text/latex": [
       "'\\#\\#\\#\\#\\#\\#\\#\\#\\#\\#\\#\\#\\#\\#\\#\\#\\#\\#\\#\\#\\#\\#\\#\\#\\#\\#\\#\\#\\#\\#\\#'"
      ],
      "text/markdown": [
       "'###############################'"
      ],
      "text/plain": [
       "[1] \"###############################\""
      ]
     },
     "metadata": {},
     "output_type": "display_data"
    },
    {
     "data": {
      "text/html": [
       "'Model: crmrte ~ log(prbpris)'"
      ],
      "text/latex": [
       "'Model: crmrte \\textasciitilde{} log(prbpris)'"
      ],
      "text/markdown": [
       "'Model: crmrte ~ log(prbpris)'"
      ],
      "text/plain": [
       "[1] \"Model: crmrte ~ log(prbpris)\""
      ]
     },
     "metadata": {},
     "output_type": "display_data"
    },
    {
     "data": {
      "text/html": [
       "'Slope: 0.00724414447447469'"
      ],
      "text/latex": [
       "'Slope: 0.00724414447447469'"
      ],
      "text/markdown": [
       "'Slope: 0.00724414447447469'"
      ],
      "text/plain": [
       "[1] \"Slope: 0.00724414447447469\""
      ]
     },
     "metadata": {},
     "output_type": "display_data"
    },
    {
     "data": {
      "text/html": [
       "'Intercept: 0.0401182723402814'"
      ],
      "text/latex": [
       "'Intercept: 0.0401182723402814'"
      ],
      "text/markdown": [
       "'Intercept: 0.0401182723402814'"
      ],
      "text/plain": [
       "[1] \"Intercept: 0.0401182723402814\""
      ]
     },
     "metadata": {},
     "output_type": "display_data"
    },
    {
     "data": {
      "text/html": [
       "'R-squared: 0.01'"
      ],
      "text/latex": [
       "'R-squared: 0.01'"
      ],
      "text/markdown": [
       "'R-squared: 0.01'"
      ],
      "text/plain": [
       "[1] \"R-squared: 0.01\""
      ]
     },
     "metadata": {},
     "output_type": "display_data"
    },
    {
     "data": {
      "text/html": [
       "'Adjusted R-squared: 0'"
      ],
      "text/latex": [
       "'Adjusted R-squared: 0'"
      ],
      "text/markdown": [
       "'Adjusted R-squared: 0'"
      ],
      "text/plain": [
       "[1] \"Adjusted R-squared: 0\""
      ]
     },
     "metadata": {},
     "output_type": "display_data"
    },
    {
     "data": {
      "text/html": [
       "'Akaike Information Criterion: -455'"
      ],
      "text/latex": [
       "'Akaike Information Criterion: -455'"
      ],
      "text/markdown": [
       "'Akaike Information Criterion: -455'"
      ],
      "text/plain": [
       "[1] \"Akaike Information Criterion: -455\""
      ]
     },
     "metadata": {},
     "output_type": "display_data"
    },
    {
     "data": {
      "text/html": [
       "'###############################'"
      ],
      "text/latex": [
       "'\\#\\#\\#\\#\\#\\#\\#\\#\\#\\#\\#\\#\\#\\#\\#\\#\\#\\#\\#\\#\\#\\#\\#\\#\\#\\#\\#\\#\\#\\#\\#'"
      ],
      "text/markdown": [
       "'###############################'"
      ],
      "text/plain": [
       "[1] \"###############################\""
      ]
     },
     "metadata": {},
     "output_type": "display_data"
    },
    {
     "data": {
      "text/html": [
       "'*******************************'"
      ],
      "text/latex": [
       "'*******************************'"
      ],
      "text/markdown": [
       "'*******************************'"
      ],
      "text/plain": [
       "[1] \"*******************************\""
      ]
     },
     "metadata": {},
     "output_type": "display_data"
    },
    {
     "data": {
      "text/html": [
       "'Model: log(crmrte) ~ log(prbarr)'"
      ],
      "text/latex": [
       "'Model: log(crmrte) \\textasciitilde{} log(prbarr)'"
      ],
      "text/markdown": [
       "'Model: log(crmrte) ~ log(prbarr)'"
      ],
      "text/plain": [
       "[1] \"Model: log(crmrte) ~ log(prbarr)\""
      ]
     },
     "metadata": {},
     "output_type": "display_data"
    },
    {
     "data": {
      "text/html": [
       "'Slope: -0.593594251597862'"
      ],
      "text/latex": [
       "'Slope: -0.593594251597862'"
      ],
      "text/markdown": [
       "'Slope: -0.593594251597862'"
      ],
      "text/plain": [
       "[1] \"Slope: -0.593594251597862\""
      ]
     },
     "metadata": {},
     "output_type": "display_data"
    },
    {
     "data": {
      "text/html": [
       "'Intercept: -4.31599745594332'"
      ],
      "text/latex": [
       "'Intercept: -4.31599745594332'"
      ],
      "text/markdown": [
       "'Intercept: -4.31599745594332'"
      ],
      "text/plain": [
       "[1] \"Intercept: -4.31599745594332\""
      ]
     },
     "metadata": {},
     "output_type": "display_data"
    },
    {
     "data": {
      "text/html": [
       "'R-squared: 0.19'"
      ],
      "text/latex": [
       "'R-squared: 0.19'"
      ],
      "text/markdown": [
       "'R-squared: 0.19'"
      ],
      "text/plain": [
       "[1] \"R-squared: 0.19\""
      ]
     },
     "metadata": {},
     "output_type": "display_data"
    },
    {
     "data": {
      "text/html": [
       "'Adjusted R-squared: 0.18'"
      ],
      "text/latex": [
       "'Adjusted R-squared: 0.18'"
      ],
      "text/markdown": [
       "'Adjusted R-squared: 0.18'"
      ],
      "text/plain": [
       "[1] \"Adjusted R-squared: 0.18\""
      ]
     },
     "metadata": {},
     "output_type": "display_data"
    },
    {
     "data": {
      "text/html": [
       "'Akaike Information Criterion: 133'"
      ],
      "text/latex": [
       "'Akaike Information Criterion: 133'"
      ],
      "text/markdown": [
       "'Akaike Information Criterion: 133'"
      ],
      "text/plain": [
       "[1] \"Akaike Information Criterion: 133\""
      ]
     },
     "metadata": {},
     "output_type": "display_data"
    },
    {
     "data": {
      "text/html": [
       "'###############################'"
      ],
      "text/latex": [
       "'\\#\\#\\#\\#\\#\\#\\#\\#\\#\\#\\#\\#\\#\\#\\#\\#\\#\\#\\#\\#\\#\\#\\#\\#\\#\\#\\#\\#\\#\\#\\#'"
      ],
      "text/markdown": [
       "'###############################'"
      ],
      "text/plain": [
       "[1] \"###############################\""
      ]
     },
     "metadata": {},
     "output_type": "display_data"
    },
    {
     "data": {
      "text/html": [
       "'Model: log(crmrte) ~ log(prbconv)'"
      ],
      "text/latex": [
       "'Model: log(crmrte) \\textasciitilde{} log(prbconv)'"
      ],
      "text/markdown": [
       "'Model: log(crmrte) ~ log(prbconv)'"
      ],
      "text/plain": [
       "[1] \"Model: log(crmrte) ~ log(prbconv)\""
      ]
     },
     "metadata": {},
     "output_type": "display_data"
    },
    {
     "data": {
      "text/html": [
       "'Slope: -0.365789095055738'"
      ],
      "text/latex": [
       "'Slope: -0.365789095055738'"
      ],
      "text/markdown": [
       "'Slope: -0.365789095055738'"
      ],
      "text/plain": [
       "[1] \"Slope: -0.365789095055738\""
      ]
     },
     "metadata": {},
     "output_type": "display_data"
    },
    {
     "data": {
      "text/html": [
       "'Intercept: -3.81808976625326'"
      ],
      "text/latex": [
       "'Intercept: -3.81808976625326'"
      ],
      "text/markdown": [
       "'Intercept: -3.81808976625326'"
      ],
      "text/plain": [
       "[1] \"Intercept: -3.81808976625326\""
      ]
     },
     "metadata": {},
     "output_type": "display_data"
    },
    {
     "data": {
      "text/html": [
       "'R-squared: 0.14'"
      ],
      "text/latex": [
       "'R-squared: 0.14'"
      ],
      "text/markdown": [
       "'R-squared: 0.14'"
      ],
      "text/plain": [
       "[1] \"R-squared: 0.14\""
      ]
     },
     "metadata": {},
     "output_type": "display_data"
    },
    {
     "data": {
      "text/html": [
       "'Adjusted R-squared: 0.13'"
      ],
      "text/latex": [
       "'Adjusted R-squared: 0.13'"
      ],
      "text/markdown": [
       "'Adjusted R-squared: 0.13'"
      ],
      "text/plain": [
       "[1] \"Adjusted R-squared: 0.13\""
      ]
     },
     "metadata": {},
     "output_type": "display_data"
    },
    {
     "data": {
      "text/html": [
       "'Akaike Information Criterion: 139'"
      ],
      "text/latex": [
       "'Akaike Information Criterion: 139'"
      ],
      "text/markdown": [
       "'Akaike Information Criterion: 139'"
      ],
      "text/plain": [
       "[1] \"Akaike Information Criterion: 139\""
      ]
     },
     "metadata": {},
     "output_type": "display_data"
    },
    {
     "data": {
      "text/html": [
       "'###############################'"
      ],
      "text/latex": [
       "'\\#\\#\\#\\#\\#\\#\\#\\#\\#\\#\\#\\#\\#\\#\\#\\#\\#\\#\\#\\#\\#\\#\\#\\#\\#\\#\\#\\#\\#\\#\\#'"
      ],
      "text/markdown": [
       "'###############################'"
      ],
      "text/plain": [
       "[1] \"###############################\""
      ]
     },
     "metadata": {},
     "output_type": "display_data"
    },
    {
     "data": {
      "text/html": [
       "'Model: log(crmrte) ~ log(prbpris)'"
      ],
      "text/latex": [
       "'Model: log(crmrte) \\textasciitilde{} log(prbpris)'"
      ],
      "text/markdown": [
       "'Model: log(crmrte) ~ log(prbpris)'"
      ],
      "text/plain": [
       "[1] \"Model: log(crmrte) ~ log(prbpris)\""
      ]
     },
     "metadata": {},
     "output_type": "display_data"
    },
    {
     "data": {
      "text/html": [
       "'Slope: 0.171997088103733'"
      ],
      "text/latex": [
       "'Slope: 0.171997088103733'"
      ],
      "text/markdown": [
       "'Slope: 0.171997088103733'"
      ],
      "text/plain": [
       "[1] \"Slope: 0.171997088103733\""
      ]
     },
     "metadata": {},
     "output_type": "display_data"
    },
    {
     "data": {
      "text/html": [
       "'Intercept: -3.38482592065875'"
      ],
      "text/latex": [
       "'Intercept: -3.38482592065875'"
      ],
      "text/markdown": [
       "'Intercept: -3.38482592065875'"
      ],
      "text/plain": [
       "[1] \"Intercept: -3.38482592065875\""
      ]
     },
     "metadata": {},
     "output_type": "display_data"
    },
    {
     "data": {
      "text/html": [
       "'R-squared: 0'"
      ],
      "text/latex": [
       "'R-squared: 0'"
      ],
      "text/markdown": [
       "'R-squared: 0'"
      ],
      "text/plain": [
       "[1] \"R-squared: 0\""
      ]
     },
     "metadata": {},
     "output_type": "display_data"
    },
    {
     "data": {
      "text/html": [
       "'Adjusted R-squared: -0.01'"
      ],
      "text/latex": [
       "'Adjusted R-squared: -0.01'"
      ],
      "text/markdown": [
       "'Adjusted R-squared: -0.01'"
      ],
      "text/plain": [
       "[1] \"Adjusted R-squared: -0.01\""
      ]
     },
     "metadata": {},
     "output_type": "display_data"
    },
    {
     "data": {
      "text/html": [
       "'Akaike Information Criterion: 152'"
      ],
      "text/latex": [
       "'Akaike Information Criterion: 152'"
      ],
      "text/markdown": [
       "'Akaike Information Criterion: 152'"
      ],
      "text/plain": [
       "[1] \"Akaike Information Criterion: 152\""
      ]
     },
     "metadata": {},
     "output_type": "display_data"
    },
    {
     "data": {
      "text/html": [
       "'###############################'"
      ],
      "text/latex": [
       "'\\#\\#\\#\\#\\#\\#\\#\\#\\#\\#\\#\\#\\#\\#\\#\\#\\#\\#\\#\\#\\#\\#\\#\\#\\#\\#\\#\\#\\#\\#\\#'"
      ],
      "text/markdown": [
       "'###############################'"
      ],
      "text/plain": [
       "[1] \"###############################\""
      ]
     },
     "metadata": {},
     "output_type": "display_data"
    },
    {
     "data": {
      "text/html": [
       "'*******************************'"
      ],
      "text/latex": [
       "'*******************************'"
      ],
      "text/markdown": [
       "'*******************************'"
      ],
      "text/plain": [
       "[1] \"*******************************\""
      ]
     },
     "metadata": {},
     "output_type": "display_data"
    },
    {
     "data": {
      "text/html": [
       "'Model: crmrte ~ prbarr + prbconv + prbpris'"
      ],
      "text/latex": [
       "'Model: crmrte \\textasciitilde{} prbarr + prbconv + prbpris'"
      ],
      "text/markdown": [
       "'Model: crmrte ~ prbarr + prbconv + prbpris'"
      ],
      "text/plain": [
       "[1] \"Model: crmrte ~ prbarr + prbconv + prbpris\""
      ]
     },
     "metadata": {},
     "output_type": "display_data"
    },
    {
     "data": {
      "text/html": [
       "'Slope: -0.0578199439560816'"
      ],
      "text/latex": [
       "'Slope: -0.0578199439560816'"
      ],
      "text/markdown": [
       "'Slope: -0.0578199439560816'"
      ],
      "text/plain": [
       "[1] \"Slope: -0.0578199439560816\""
      ]
     },
     "metadata": {},
     "output_type": "display_data"
    },
    {
     "data": {
      "text/html": [
       "'Intercept: 0.0557261670847096'"
      ],
      "text/latex": [
       "'Intercept: 0.0557261670847096'"
      ],
      "text/markdown": [
       "'Intercept: 0.0557261670847096'"
      ],
      "text/plain": [
       "[1] \"Intercept: 0.0557261670847096\""
      ]
     },
     "metadata": {},
     "output_type": "display_data"
    },
    {
     "data": {
      "text/html": [
       "'R-squared: 0.33'"
      ],
      "text/latex": [
       "'R-squared: 0.33'"
      ],
      "text/markdown": [
       "'R-squared: 0.33'"
      ],
      "text/plain": [
       "[1] \"R-squared: 0.33\""
      ]
     },
     "metadata": {},
     "output_type": "display_data"
    },
    {
     "data": {
      "text/html": [
       "'Adjusted R-squared: 0.3'"
      ],
      "text/latex": [
       "'Adjusted R-squared: 0.3'"
      ],
      "text/markdown": [
       "'Adjusted R-squared: 0.3'"
      ],
      "text/plain": [
       "[1] \"Adjusted R-squared: 0.3\""
      ]
     },
     "metadata": {},
     "output_type": "display_data"
    },
    {
     "data": {
      "text/html": [
       "'Akaike Information Criterion: -486'"
      ],
      "text/latex": [
       "'Akaike Information Criterion: -486'"
      ],
      "text/markdown": [
       "'Akaike Information Criterion: -486'"
      ],
      "text/plain": [
       "[1] \"Akaike Information Criterion: -486\""
      ]
     },
     "metadata": {},
     "output_type": "display_data"
    },
    {
     "data": {
      "text/html": [
       "'###############################'"
      ],
      "text/latex": [
       "'\\#\\#\\#\\#\\#\\#\\#\\#\\#\\#\\#\\#\\#\\#\\#\\#\\#\\#\\#\\#\\#\\#\\#\\#\\#\\#\\#\\#\\#\\#\\#'"
      ],
      "text/markdown": [
       "'###############################'"
      ],
      "text/plain": [
       "[1] \"###############################\""
      ]
     },
     "metadata": {},
     "output_type": "display_data"
    },
    {
     "data": {
      "text/html": [
       "'Model: log(crmrte) ~ prbarr + prbconv + prbpris'"
      ],
      "text/latex": [
       "'Model: log(crmrte) \\textasciitilde{} prbarr + prbconv + prbpris'"
      ],
      "text/markdown": [
       "'Model: log(crmrte) ~ prbarr + prbconv + prbpris'"
      ],
      "text/plain": [
       "[1] \"Model: log(crmrte) ~ prbarr + prbconv + prbpris\""
      ]
     },
     "metadata": {},
     "output_type": "display_data"
    },
    {
     "data": {
      "text/html": [
       "'Slope: -1.99917324525741'"
      ],
      "text/latex": [
       "'Slope: -1.99917324525741'"
      ],
      "text/markdown": [
       "'Slope: -1.99917324525741'"
      ],
      "text/plain": [
       "[1] \"Slope: -1.99917324525741\""
      ]
     },
     "metadata": {},
     "output_type": "display_data"
    },
    {
     "data": {
      "text/html": [
       "'Intercept: -2.68462972417512'"
      ],
      "text/latex": [
       "'Intercept: -2.68462972417512'"
      ],
      "text/markdown": [
       "'Intercept: -2.68462972417512'"
      ],
      "text/plain": [
       "[1] \"Intercept: -2.68462972417512\""
      ]
     },
     "metadata": {},
     "output_type": "display_data"
    },
    {
     "data": {
      "text/html": [
       "'R-squared: 0.45'"
      ],
      "text/latex": [
       "'R-squared: 0.45'"
      ],
      "text/markdown": [
       "'R-squared: 0.45'"
      ],
      "text/plain": [
       "[1] \"R-squared: 0.45\""
      ]
     },
     "metadata": {},
     "output_type": "display_data"
    },
    {
     "data": {
      "text/html": [
       "'Adjusted R-squared: 0.43'"
      ],
      "text/latex": [
       "'Adjusted R-squared: 0.43'"
      ],
      "text/markdown": [
       "'Adjusted R-squared: 0.43'"
      ],
      "text/plain": [
       "[1] \"Adjusted R-squared: 0.43\""
      ]
     },
     "metadata": {},
     "output_type": "display_data"
    },
    {
     "data": {
      "text/html": [
       "'Akaike Information Criterion: 102'"
      ],
      "text/latex": [
       "'Akaike Information Criterion: 102'"
      ],
      "text/markdown": [
       "'Akaike Information Criterion: 102'"
      ],
      "text/plain": [
       "[1] \"Akaike Information Criterion: 102\""
      ]
     },
     "metadata": {},
     "output_type": "display_data"
    },
    {
     "data": {
      "text/html": [
       "'###############################'"
      ],
      "text/latex": [
       "'\\#\\#\\#\\#\\#\\#\\#\\#\\#\\#\\#\\#\\#\\#\\#\\#\\#\\#\\#\\#\\#\\#\\#\\#\\#\\#\\#\\#\\#\\#\\#'"
      ],
      "text/markdown": [
       "'###############################'"
      ],
      "text/plain": [
       "[1] \"###############################\""
      ]
     },
     "metadata": {},
     "output_type": "display_data"
    },
    {
     "data": {
      "text/html": [
       "'Model: log(crmrte) ~ log(prbarr) + log(prbconv) + log(prbpris)'"
      ],
      "text/latex": [
       "'Model: log(crmrte) \\textasciitilde{} log(prbarr) + log(prbconv) + log(prbpris)'"
      ],
      "text/markdown": [
       "'Model: log(crmrte) ~ log(prbarr) + log(prbconv) + log(prbpris)'"
      ],
      "text/plain": [
       "[1] \"Model: log(crmrte) ~ log(prbarr) + log(prbconv) + log(prbpris)\""
      ]
     },
     "metadata": {},
     "output_type": "display_data"
    },
    {
     "data": {
      "text/html": [
       "'Slope: -0.723804208413992'"
      ],
      "text/latex": [
       "'Slope: -0.723804208413992'"
      ],
      "text/markdown": [
       "'Slope: -0.723804208413992'"
      ],
      "text/plain": [
       "[1] \"Slope: -0.723804208413992\""
      ]
     },
     "metadata": {},
     "output_type": "display_data"
    },
    {
     "data": {
      "text/html": [
       "'Intercept: -4.70767874893467'"
      ],
      "text/latex": [
       "'Intercept: -4.70767874893467'"
      ],
      "text/markdown": [
       "'Intercept: -4.70767874893467'"
      ],
      "text/plain": [
       "[1] \"Intercept: -4.70767874893467\""
      ]
     },
     "metadata": {},
     "output_type": "display_data"
    },
    {
     "data": {
      "text/html": [
       "'R-squared: 0.41'"
      ],
      "text/latex": [
       "'R-squared: 0.41'"
      ],
      "text/markdown": [
       "'R-squared: 0.41'"
      ],
      "text/plain": [
       "[1] \"R-squared: 0.41\""
      ]
     },
     "metadata": {},
     "output_type": "display_data"
    },
    {
     "data": {
      "text/html": [
       "'Adjusted R-squared: 0.39'"
      ],
      "text/latex": [
       "'Adjusted R-squared: 0.39'"
      ],
      "text/markdown": [
       "'Adjusted R-squared: 0.39'"
      ],
      "text/plain": [
       "[1] \"Adjusted R-squared: 0.39\""
      ]
     },
     "metadata": {},
     "output_type": "display_data"
    },
    {
     "data": {
      "text/html": [
       "'Akaike Information Criterion: 108'"
      ],
      "text/latex": [
       "'Akaike Information Criterion: 108'"
      ],
      "text/markdown": [
       "'Akaike Information Criterion: 108'"
      ],
      "text/plain": [
       "[1] \"Akaike Information Criterion: 108\""
      ]
     },
     "metadata": {},
     "output_type": "display_data"
    },
    {
     "data": {
      "text/html": [
       "'###############################'"
      ],
      "text/latex": [
       "'\\#\\#\\#\\#\\#\\#\\#\\#\\#\\#\\#\\#\\#\\#\\#\\#\\#\\#\\#\\#\\#\\#\\#\\#\\#\\#\\#\\#\\#\\#\\#'"
      ],
      "text/markdown": [
       "'###############################'"
      ],
      "text/plain": [
       "[1] \"###############################\""
      ]
     },
     "metadata": {},
     "output_type": "display_data"
    }
   ],
   "source": [
    "# Testing different regressions\n",
    "\n",
    "model1 <- lm(crmrte ~ prbarr, data=clean)\n",
    "paste(\"Model:\", summary(model1)$call[2])\n",
    "paste(\"Slope:\", model1$coef[2])\n",
    "paste(\"Intercept:\", model1$coef[1])\n",
    "paste(\"R-squared:\", round(summary(model1)$r.squared, 2))\n",
    "paste(\"Adjusted R-squared:\", round(summary(model1)$adj.r.squared, 2))\n",
    "paste(\"Akaike Information Criterion:\", round(AIC(model1), 0))\n",
    "paste(\"###############################\")\n",
    "\n",
    "model1 <- lm(crmrte ~ prbconv, data=clean)\n",
    "paste(\"Model:\", summary(model1)$call[2])\n",
    "paste(\"Slope:\", model1$coef[2])\n",
    "paste(\"Intercept:\", model1$coef[1])\n",
    "paste(\"R-squared:\", round(summary(model1)$r.squared, 2))\n",
    "paste(\"Adjusted R-squared:\", round(summary(model1)$adj.r.squared, 2))\n",
    "paste(\"Akaike Information Criterion:\", round(AIC(model1), 0))\n",
    "paste(\"###############################\")\n",
    "\n",
    "model1 <- lm(crmrte ~ prbpris, data=clean)\n",
    "paste(\"Model:\", summary(model1)$call[2])\n",
    "paste(\"Slope:\", model1$coef[2])\n",
    "paste(\"Intercept:\", model1$coef[1])\n",
    "paste(\"R-squared:\", round(summary(model1)$r.squared, 2))\n",
    "paste(\"Adjusted R-squared:\", round(summary(model1)$adj.r.squared, 2))\n",
    "paste(\"Akaike Information Criterion:\", round(AIC(model1), 0))\n",
    "paste(\"###############################\")\n",
    "paste(\"*******************************\")\n",
    "\n",
    "model1 <- lm(log(crmrte) ~ prbarr, data=clean)\n",
    "paste(\"Model:\", summary(model1)$call[2])\n",
    "paste(\"Slope:\", model1$coef[2])\n",
    "paste(\"Intercept:\", model1$coef[1])\n",
    "paste(\"R-squared:\", round(summary(model1)$r.squared, 2))\n",
    "paste(\"Adjusted R-squared:\", round(summary(model1)$adj.r.squared, 2))\n",
    "paste(\"Akaike Information Criterion:\", round(AIC(model1), 0))\n",
    "paste(\"###############################\")\n",
    "\n",
    "model1 <- lm(log(crmrte) ~ prbconv, data=clean)\n",
    "paste(\"Model:\", summary(model1)$call[2])\n",
    "paste(\"Slope:\", model1$coef[2])\n",
    "paste(\"Intercept:\", model1$coef[1])\n",
    "paste(\"R-squared:\", round(summary(model1)$r.squared, 2))\n",
    "paste(\"Adjusted R-squared:\", round(summary(model1)$adj.r.squared, 2))\n",
    "paste(\"Akaike Information Criterion:\", round(AIC(model1), 0))\n",
    "paste(\"###############################\")\n",
    "\n",
    "model1 <- lm(log(crmrte) ~ prbpris, data=clean)\n",
    "paste(\"Model:\", summary(model1)$call[2])\n",
    "paste(\"Slope:\", model1$coef[2])\n",
    "paste(\"Intercept:\", model1$coef[1])\n",
    "paste(\"R-squared:\", round(summary(model1)$r.squared, 2))\n",
    "paste(\"Adjusted R-squared:\", round(summary(model1)$adj.r.squared, 2))\n",
    "paste(\"Akaike Information Criterion:\", round(AIC(model1), 0))\n",
    "paste(\"###############################\")\n",
    "paste(\"*******************************\")\n",
    "\n",
    "model1 <- lm(crmrte ~ log(prbarr), data=clean)\n",
    "paste(\"Model:\", summary(model1)$call[2])\n",
    "paste(\"Slope:\", model1$coef[2])\n",
    "paste(\"Intercept:\", model1$coef[1])\n",
    "paste(\"R-squared:\", round(summary(model1)$r.squared, 2))\n",
    "paste(\"Adjusted R-squared:\", round(summary(model1)$adj.r.squared, 2))\n",
    "paste(\"Akaike Information Criterion:\", round(AIC(model1), 0))\n",
    "paste(\"###############################\")\n",
    "\n",
    "model1 <- lm(crmrte ~ log(prbconv), data=clean)\n",
    "paste(\"Model:\", summary(model1)$call[2])\n",
    "paste(\"Slope:\", model1$coef[2])\n",
    "paste(\"Intercept:\", model1$coef[1])\n",
    "paste(\"R-squared:\", round(summary(model1)$r.squared, 2))\n",
    "paste(\"Adjusted R-squared:\", round(summary(model1)$adj.r.squared, 2))\n",
    "paste(\"Akaike Information Criterion:\", round(AIC(model1), 0))\n",
    "paste(\"###############################\")\n",
    "\n",
    "model1 <- lm(crmrte ~ log(prbpris), data=clean)\n",
    "paste(\"Model:\", summary(model1)$call[2])\n",
    "paste(\"Slope:\", model1$coef[2])\n",
    "paste(\"Intercept:\", model1$coef[1])\n",
    "paste(\"R-squared:\", round(summary(model1)$r.squared, 2))\n",
    "paste(\"Adjusted R-squared:\", round(summary(model1)$adj.r.squared, 2))\n",
    "paste(\"Akaike Information Criterion:\", round(AIC(model1), 0))\n",
    "paste(\"###############################\")\n",
    "paste(\"*******************************\")\n",
    "\n",
    "model1 <- lm(log(crmrte) ~ log(prbarr), data=clean)\n",
    "paste(\"Model:\", summary(model1)$call[2])\n",
    "paste(\"Slope:\", model1$coef[2])\n",
    "paste(\"Intercept:\", model1$coef[1])\n",
    "paste(\"R-squared:\", round(summary(model1)$r.squared, 2))\n",
    "paste(\"Adjusted R-squared:\", round(summary(model1)$adj.r.squared, 2))\n",
    "paste(\"Akaike Information Criterion:\", round(AIC(model1), 0))\n",
    "paste(\"###############################\")\n",
    "\n",
    "model1 <- lm(log(crmrte) ~ log(prbconv), data=clean)\n",
    "paste(\"Model:\", summary(model1)$call[2])\n",
    "paste(\"Slope:\", model1$coef[2])\n",
    "paste(\"Intercept:\", model1$coef[1])\n",
    "paste(\"R-squared:\", round(summary(model1)$r.squared, 2))\n",
    "paste(\"Adjusted R-squared:\", round(summary(model1)$adj.r.squared, 2))\n",
    "paste(\"Akaike Information Criterion:\", round(AIC(model1), 0))\n",
    "paste(\"###############################\")\n",
    "\n",
    "model1 <- lm(log(crmrte) ~ log(prbpris), data=clean)\n",
    "paste(\"Model:\", summary(model1)$call[2])\n",
    "paste(\"Slope:\", model1$coef[2])\n",
    "paste(\"Intercept:\", model1$coef[1])\n",
    "paste(\"R-squared:\", round(summary(model1)$r.squared, 2))\n",
    "paste(\"Adjusted R-squared:\", round(summary(model1)$adj.r.squared, 2))\n",
    "paste(\"Akaike Information Criterion:\", round(AIC(model1), 0))\n",
    "paste(\"###############################\")\n",
    "paste(\"*******************************\")\n",
    "\n",
    "model1 <- lm(crmrte ~ prbarr + prbconv + prbpris, data=clean)\n",
    "paste(\"Model:\", summary(model1)$call[2])\n",
    "paste(\"Slope:\", model1$coef[2])\n",
    "paste(\"Intercept:\", model1$coef[1])\n",
    "paste(\"R-squared:\", round(summary(model1)$r.squared, 2))\n",
    "paste(\"Adjusted R-squared:\", round(summary(model1)$adj.r.squared, 2))\n",
    "paste(\"Akaike Information Criterion:\", round(AIC(model1), 0))\n",
    "paste(\"###############################\")\n",
    "\n",
    "model1 <- lm(log(crmrte) ~ prbarr + prbconv + prbpris, data=clean)\n",
    "paste(\"Model:\", summary(model1)$call[2])\n",
    "paste(\"Slope:\", model1$coef[2])\n",
    "paste(\"Intercept:\", model1$coef[1])\n",
    "paste(\"R-squared:\", round(summary(model1)$r.squared, 2))\n",
    "paste(\"Adjusted R-squared:\", round(summary(model1)$adj.r.squared, 2))\n",
    "paste(\"Akaike Information Criterion:\", round(AIC(model1), 0))\n",
    "paste(\"###############################\")\n",
    "\n",
    "model1 <- lm(log(crmrte) ~ log(prbarr) + log(prbconv) + log(prbpris), data=clean)\n",
    "paste(\"Model:\", summary(model1)$call[2])\n",
    "paste(\"Slope:\", model1$coef[2])\n",
    "paste(\"Intercept:\", model1$coef[1])\n",
    "paste(\"R-squared:\", round(summary(model1)$r.squared, 2))\n",
    "paste(\"Adjusted R-squared:\", round(summary(model1)$adj.r.squared, 2))\n",
    "paste(\"Akaike Information Criterion:\", round(AIC(model1), 0))\n",
    "paste(\"###############################\")"
   ]
  },
  {
   "cell_type": "code",
   "execution_count": 28,
   "metadata": {
    "scrolled": false
   },
   "outputs": [
    {
     "data": {
      "image/png": "[encoded data removed]",
      "text/plain": [
       "plot without title"
      ]
     },
     "metadata": {},
     "output_type": "display_data"
    },
    {
     "data": {
      "image/png": "[encoded data removed]",
      "text/plain": [
       "plot without title"
      ]
     },
     "metadata": {},
     "output_type": "display_data"
    },
    {
     "data": {
      "image/png": "[encoded data removed]",
      "text/plain": [
       "plot without title"
      ]
     },
     "metadata": {},
     "output_type": "display_data"
    },
    {
     "data": {
      "image/png": "[encoded data removed]",
      "text/plain": [
       "plot without title"
      ]
     },
     "metadata": {},
     "output_type": "display_data"
    },
    {
     "data": {
      "image/png": "[encoded data removed]",
      "text/plain": [
       "plot without title"
      ]
     },
     "metadata": {},
     "output_type": "display_data"
    },
    {
     "data": {
      "image/png": "[encoded data removed]",
      "text/plain": [
       "plot without title"
      ]
     },
     "metadata": {},
     "output_type": "display_data"
    }
   ],
   "source": [
    "plot(clean$prbarr, log(clean$crmrte))\n",
    "plot(clean$prbconv, log(clean$crmrte))\n",
    "plot(clean$prbpris, log(clean$crmrte))\n",
    "\n",
    "plot(clean$prbarr, clean$crmrte)\n",
    "plot(clean$prbconv, clean$crmrte)\n",
    "plot(clean$prbpris, clean$crmrte)"
   ]
  },
  {
   "cell_type": "code",
   "execution_count": null,
   "metadata": {},
   "outputs": [],
   "source": []
  },
  {
   "cell_type": "code",
   "execution_count": null,
   "metadata": {},
   "outputs": [],
   "source": []
  },
  {
   "cell_type": "code",
   "execution_count": null,
   "metadata": {},
   "outputs": [],
   "source": []
  },
  {
   "cell_type": "code",
   "execution_count": null,
   "metadata": {},
   "outputs": [],
   "source": []
  },
  {
   "cell_type": "code",
   "execution_count": null,
   "metadata": {},
   "outputs": [],
   "source": []
  },
  {
   "cell_type": "code",
   "execution_count": null,
   "metadata": {},
   "outputs": [],
   "source": []
  }
 ],
 "metadata": {
  "kernelspec": {
   "display_name": "R",
   "language": "R",
   "name": "ir"
  },
  "language_info": {
   "codemirror_mode": "r",
   "file_extension": ".r",
   "mimetype": "text/x-r-source",
   "name": "R",
   "pygments_lexer": "r",
   "version": "3.5.0"
  }
 },
 "nbformat": 4,
 "nbformat_minor": 2
}
