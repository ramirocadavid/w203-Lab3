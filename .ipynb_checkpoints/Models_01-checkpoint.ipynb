{
 "cells": [
  {
   "cell_type": "markdown",
   "metadata": {},
   "source": [
    "# Loading and Cleaning Data"
   ]
  },
  {
   "cell_type": "code",
   "execution_count": 1,
   "metadata": {
    "scrolled": true
   },
   "outputs": [
    {
     "name": "stderr",
     "output_type": "stream",
     "text": [
      "Loading required package: carData\n",
      "\n",
      "Please cite as: \n",
      "\n",
      " Hlavac, Marek (2018). stargazer: Well-Formatted Regression and Summary Statistics Tables.\n",
      " R package version 5.2.2. https://CRAN.R-project.org/package=stargazer \n",
      "\n"
     ]
    }
   ],
   "source": [
    "library('car')\n",
    "library('stargazer')"
   ]
  },
  {
   "cell_type": "code",
   "execution_count": 2,
   "metadata": {},
   "outputs": [],
   "source": [
    "# Loads crime_v2.csv\n",
    "crime <- read.csv(\"crime_v2.csv\", header=TRUE)"
   ]
  },
  {
   "cell_type": "code",
   "execution_count": 3,
   "metadata": {},
   "outputs": [],
   "source": [
    "# Eliminates rows with missing values\n",
    "clean <- crime[complete.cases(crime),]"
   ]
  },
  {
   "cell_type": "code",
   "execution_count": 4,
   "metadata": {},
   "outputs": [
    {
     "name": "stderr",
     "output_type": "stream",
     "text": [
      "Warning message in cbind(parts$left, ellip_h, parts$right, deparse.level = 0L):\n",
      "“number of rows of result is not a multiple of vector length (arg 2)”Warning message in cbind(parts$left, ellip_h, parts$right, deparse.level = 0L):\n",
      "“number of rows of result is not a multiple of vector length (arg 2)”Warning message in cbind(parts$left, ellip_h, parts$right, deparse.level = 0L):\n",
      "“number of rows of result is not a multiple of vector length (arg 2)”Warning message in cbind(parts$left, ellip_h, parts$right, deparse.level = 0L):\n",
      "“number of rows of result is not a multiple of vector length (arg 2)”"
     ]
    },
    {
     "data": {
      "text/html": [
       "<table>\n",
       "<thead><tr><th scope=col>county</th><th scope=col>year</th><th scope=col>crmrte</th><th scope=col>prbarr</th><th scope=col>prbconv</th><th scope=col>prbpris</th><th scope=col>avgsen</th><th scope=col>polpc</th><th scope=col>density</th><th scope=col>taxpc</th><th scope=col>⋯</th><th scope=col>wtuc</th><th scope=col>wtrd</th><th scope=col>wfir</th><th scope=col>wser</th><th scope=col>wmfg</th><th scope=col>wfed</th><th scope=col>wsta</th><th scope=col>wloc</th><th scope=col>mix</th><th scope=col>pctymle</th></tr></thead>\n",
       "<tbody>\n",
       "</tbody>\n",
       "</table>\n"
      ],
      "text/latex": [
       "\\begin{tabular}{r|lllllllllllllllllllllllll}\n",
       " county & year & crmrte & prbarr & prbconv & prbpris & avgsen & polpc & density & taxpc & ⋯ & wtuc & wtrd & wfir & wser & wmfg & wfed & wsta & wloc & mix & pctymle\\\\\n",
       "\\hline\n",
       "\\end{tabular}\n"
      ],
      "text/markdown": [
       "\n",
       "county | year | crmrte | prbarr | prbconv | prbpris | avgsen | polpc | density | taxpc | ⋯ | wtuc | wtrd | wfir | wser | wmfg | wfed | wsta | wloc | mix | pctymle | \n",
       "||\n",
       "\n",
       "\n"
      ],
      "text/plain": [
       "     county year crmrte prbarr prbconv prbpris avgsen polpc density taxpc ⋯\n",
       "     wtuc wtrd wfir wser wmfg wfed wsta wloc mix pctymle"
      ]
     },
     "metadata": {},
     "output_type": "display_data"
    },
    {
     "name": "stderr",
     "output_type": "stream",
     "text": [
      "Warning message in cbind(parts$left, ellip_h, parts$right, deparse.level = 0L):\n",
      "“number of rows of result is not a multiple of vector length (arg 2)”Warning message in cbind(parts$left, ellip_h, parts$right, deparse.level = 0L):\n",
      "“number of rows of result is not a multiple of vector length (arg 2)”Warning message in cbind(parts$left, ellip_h, parts$right, deparse.level = 0L):\n",
      "“number of rows of result is not a multiple of vector length (arg 2)”Warning message in cbind(parts$left, ellip_h, parts$right, deparse.level = 0L):\n",
      "“number of rows of result is not a multiple of vector length (arg 2)”"
     ]
    },
    {
     "data": {
      "text/html": [
       "<table>\n",
       "<thead><tr><th scope=col>county</th><th scope=col>year</th><th scope=col>crmrte</th><th scope=col>prbarr</th><th scope=col>prbconv</th><th scope=col>prbpris</th><th scope=col>avgsen</th><th scope=col>polpc</th><th scope=col>density</th><th scope=col>taxpc</th><th scope=col>⋯</th><th scope=col>wtuc</th><th scope=col>wtrd</th><th scope=col>wfir</th><th scope=col>wser</th><th scope=col>wmfg</th><th scope=col>wfed</th><th scope=col>wsta</th><th scope=col>wloc</th><th scope=col>mix</th><th scope=col>pctymle</th></tr></thead>\n",
       "<tbody>\n",
       "</tbody>\n",
       "</table>\n"
      ],
      "text/latex": [
       "\\begin{tabular}{r|lllllllllllllllllllllllll}\n",
       " county & year & crmrte & prbarr & prbconv & prbpris & avgsen & polpc & density & taxpc & ⋯ & wtuc & wtrd & wfir & wser & wmfg & wfed & wsta & wloc & mix & pctymle\\\\\n",
       "\\hline\n",
       "\\end{tabular}\n"
      ],
      "text/markdown": [
       "\n",
       "county | year | crmrte | prbarr | prbconv | prbpris | avgsen | polpc | density | taxpc | ⋯ | wtuc | wtrd | wfir | wser | wmfg | wfed | wsta | wloc | mix | pctymle | \n",
       "||\n",
       "\n",
       "\n"
      ],
      "text/plain": [
       "     county year crmrte prbarr prbconv prbpris avgsen polpc density taxpc ⋯\n",
       "     wtuc wtrd wfir wser wmfg wfed wsta wloc mix pctymle"
      ]
     },
     "metadata": {},
     "output_type": "display_data"
    },
    {
     "data": {
      "text/html": [
       "<table>\n",
       "<thead><tr><th></th><th scope=col>county</th><th scope=col>year</th><th scope=col>crmrte</th><th scope=col>prbarr</th><th scope=col>prbconv</th><th scope=col>prbpris</th><th scope=col>avgsen</th><th scope=col>polpc</th><th scope=col>density</th><th scope=col>taxpc</th><th scope=col>⋯</th><th scope=col>wtuc</th><th scope=col>wtrd</th><th scope=col>wfir</th><th scope=col>wser</th><th scope=col>wmfg</th><th scope=col>wfed</th><th scope=col>wsta</th><th scope=col>wloc</th><th scope=col>mix</th><th scope=col>pctymle</th></tr></thead>\n",
       "<tbody>\n",
       "\t<tr><th scope=row>86</th><td>189        </td><td>87         </td><td>0.0313130  </td><td>0.161381   </td><td>0.300577998</td><td>0.288462   </td><td>12.27      </td><td>0.00227837 </td><td>1.1019108  </td><td>31.33022   </td><td>⋯          </td><td>354.2510   </td><td>180.9359   </td><td>369.4332   </td><td>253.2281   </td><td>304.72     </td><td>427.84     </td><td>451.79     </td><td>297.19     </td><td>0.05719921 </td><td>0.15092644 </td></tr>\n",
       "\t<tr><th scope=row>87</th><td>191        </td><td>87         </td><td>0.0458895  </td><td>0.172257   </td><td>0.449999988</td><td>0.421053   </td><td> 9.59      </td><td>0.00122733 </td><td>1.7725632  </td><td>32.74533   </td><td>⋯          </td><td>400.8570   </td><td>230.9888   </td><td>320.0345   </td><td>238.4958   </td><td>295.26     </td><td>334.55     </td><td>375.45     </td><td>327.62     </td><td>0.08616445 </td><td>0.08828809 </td></tr>\n",
       "\t<tr><th scope=row>88</th><td>193        </td><td>87         </td><td>0.0235277  </td><td>0.266055   </td><td>0.588859022</td><td>0.423423   </td><td> 5.86      </td><td>0.00117887 </td><td>0.8138298  </td><td>28.51783   </td><td>⋯          </td><td>480.1948   </td><td>268.3836   </td><td>365.0196   </td><td>295.9352   </td><td>295.63     </td><td>468.26     </td><td>337.88     </td><td>348.74     </td><td>0.11050157 </td><td>0.07819394 </td></tr>\n",
       "\t<tr><th scope=row>89</th><td>193        </td><td>87         </td><td>0.0235277  </td><td>0.266055   </td><td>0.588859022</td><td>0.423423   </td><td> 5.86      </td><td>0.00117887 </td><td>0.8138298  </td><td>28.51783   </td><td>⋯          </td><td>480.1948   </td><td>268.3836   </td><td>365.0196   </td><td>295.9352   </td><td>295.63     </td><td>468.26     </td><td>337.88     </td><td>348.74     </td><td>0.11050157 </td><td>0.07819394 </td></tr>\n",
       "\t<tr><th scope=row>90</th><td>195        </td><td>87         </td><td>0.0313973  </td><td>0.201397   </td><td>1.670519948</td><td>0.470588   </td><td>13.02      </td><td>0.00445923 </td><td>1.7459893  </td><td>53.66693   </td><td>⋯          </td><td>377.9356   </td><td>246.0614   </td><td>411.4330   </td><td>296.8684   </td><td>392.27     </td><td>480.79     </td><td>303.11     </td><td>337.28     </td><td>0.15612382 </td><td>0.07945071 </td></tr>\n",
       "\t<tr><th scope=row>91</th><td>197        </td><td>87         </td><td>0.0141928  </td><td>0.207595   </td><td>1.182929993</td><td>0.360825   </td><td>12.23      </td><td>0.00118573 </td><td>0.8898810  </td><td>25.95258   </td><td>⋯          </td><td>341.8803   </td><td>182.8020   </td><td>348.1432   </td><td>212.8205   </td><td>322.92     </td><td>391.72     </td><td>385.65     </td><td>306.85     </td><td>0.06756757 </td><td>0.07419893 </td></tr>\n",
       "</tbody>\n",
       "</table>\n"
      ],
      "text/latex": [
       "\\begin{tabular}{r|lllllllllllllllllllllllll}\n",
       "  & county & year & crmrte & prbarr & prbconv & prbpris & avgsen & polpc & density & taxpc & ⋯ & wtuc & wtrd & wfir & wser & wmfg & wfed & wsta & wloc & mix & pctymle\\\\\n",
       "\\hline\n",
       "\t86 & 189         & 87          & 0.0313130   & 0.161381    & 0.300577998 & 0.288462    & 12.27       & 0.00227837  & 1.1019108   & 31.33022    & ⋯           & 354.2510    & 180.9359    & 369.4332    & 253.2281    & 304.72      & 427.84      & 451.79      & 297.19      & 0.05719921  & 0.15092644 \\\\\n",
       "\t87 & 191         & 87          & 0.0458895   & 0.172257    & 0.449999988 & 0.421053    &  9.59       & 0.00122733  & 1.7725632   & 32.74533    & ⋯           & 400.8570    & 230.9888    & 320.0345    & 238.4958    & 295.26      & 334.55      & 375.45      & 327.62      & 0.08616445  & 0.08828809 \\\\\n",
       "\t88 & 193         & 87          & 0.0235277   & 0.266055    & 0.588859022 & 0.423423    &  5.86       & 0.00117887  & 0.8138298   & 28.51783    & ⋯           & 480.1948    & 268.3836    & 365.0196    & 295.9352    & 295.63      & 468.26      & 337.88      & 348.74      & 0.11050157  & 0.07819394 \\\\\n",
       "\t89 & 193         & 87          & 0.0235277   & 0.266055    & 0.588859022 & 0.423423    &  5.86       & 0.00117887  & 0.8138298   & 28.51783    & ⋯           & 480.1948    & 268.3836    & 365.0196    & 295.9352    & 295.63      & 468.26      & 337.88      & 348.74      & 0.11050157  & 0.07819394 \\\\\n",
       "\t90 & 195         & 87          & 0.0313973   & 0.201397    & 1.670519948 & 0.470588    & 13.02       & 0.00445923  & 1.7459893   & 53.66693    & ⋯           & 377.9356    & 246.0614    & 411.4330    & 296.8684    & 392.27      & 480.79      & 303.11      & 337.28      & 0.15612382  & 0.07945071 \\\\\n",
       "\t91 & 197         & 87          & 0.0141928   & 0.207595    & 1.182929993 & 0.360825    & 12.23       & 0.00118573  & 0.8898810   & 25.95258    & ⋯           & 341.8803    & 182.8020    & 348.1432    & 212.8205    & 322.92      & 391.72      & 385.65      & 306.85      & 0.06756757  & 0.07419893 \\\\\n",
       "\\end{tabular}\n"
      ],
      "text/markdown": [
       "\n",
       "| <!--/--> | county | year | crmrte | prbarr | prbconv | prbpris | avgsen | polpc | density | taxpc | ⋯ | wtuc | wtrd | wfir | wser | wmfg | wfed | wsta | wloc | mix | pctymle | \n",
       "|---|---|---|---|---|---|\n",
       "| 86 | 189         | 87          | 0.0313130   | 0.161381    | 0.300577998 | 0.288462    | 12.27       | 0.00227837  | 1.1019108   | 31.33022    | ⋯           | 354.2510    | 180.9359    | 369.4332    | 253.2281    | 304.72      | 427.84      | 451.79      | 297.19      | 0.05719921  | 0.15092644  | \n",
       "| 87 | 191         | 87          | 0.0458895   | 0.172257    | 0.449999988 | 0.421053    |  9.59       | 0.00122733  | 1.7725632   | 32.74533    | ⋯           | 400.8570    | 230.9888    | 320.0345    | 238.4958    | 295.26      | 334.55      | 375.45      | 327.62      | 0.08616445  | 0.08828809  | \n",
       "| 88 | 193         | 87          | 0.0235277   | 0.266055    | 0.588859022 | 0.423423    |  5.86       | 0.00117887  | 0.8138298   | 28.51783    | ⋯           | 480.1948    | 268.3836    | 365.0196    | 295.9352    | 295.63      | 468.26      | 337.88      | 348.74      | 0.11050157  | 0.07819394  | \n",
       "| 89 | 193         | 87          | 0.0235277   | 0.266055    | 0.588859022 | 0.423423    |  5.86       | 0.00117887  | 0.8138298   | 28.51783    | ⋯           | 480.1948    | 268.3836    | 365.0196    | 295.9352    | 295.63      | 468.26      | 337.88      | 348.74      | 0.11050157  | 0.07819394  | \n",
       "| 90 | 195         | 87          | 0.0313973   | 0.201397    | 1.670519948 | 0.470588    | 13.02       | 0.00445923  | 1.7459893   | 53.66693    | ⋯           | 377.9356    | 246.0614    | 411.4330    | 296.8684    | 392.27      | 480.79      | 303.11      | 337.28      | 0.15612382  | 0.07945071  | \n",
       "| 91 | 197         | 87          | 0.0141928   | 0.207595    | 1.182929993 | 0.360825    | 12.23       | 0.00118573  | 0.8898810   | 25.95258    | ⋯           | 341.8803    | 182.8020    | 348.1432    | 212.8205    | 322.92      | 391.72      | 385.65      | 306.85      | 0.06756757  | 0.07419893  | \n",
       "\n",
       "\n"
      ],
      "text/plain": [
       "   county year crmrte    prbarr   prbconv     prbpris  avgsen polpc     \n",
       "86 189    87   0.0313130 0.161381 0.300577998 0.288462 12.27  0.00227837\n",
       "87 191    87   0.0458895 0.172257 0.449999988 0.421053  9.59  0.00122733\n",
       "88 193    87   0.0235277 0.266055 0.588859022 0.423423  5.86  0.00117887\n",
       "89 193    87   0.0235277 0.266055 0.588859022 0.423423  5.86  0.00117887\n",
       "90 195    87   0.0313973 0.201397 1.670519948 0.470588 13.02  0.00445923\n",
       "91 197    87   0.0141928 0.207595 1.182929993 0.360825 12.23  0.00118573\n",
       "   density   taxpc    ⋯ wtuc     wtrd     wfir     wser     wmfg   wfed  \n",
       "86 1.1019108 31.33022 ⋯ 354.2510 180.9359 369.4332 253.2281 304.72 427.84\n",
       "87 1.7725632 32.74533 ⋯ 400.8570 230.9888 320.0345 238.4958 295.26 334.55\n",
       "88 0.8138298 28.51783 ⋯ 480.1948 268.3836 365.0196 295.9352 295.63 468.26\n",
       "89 0.8138298 28.51783 ⋯ 480.1948 268.3836 365.0196 295.9352 295.63 468.26\n",
       "90 1.7459893 53.66693 ⋯ 377.9356 246.0614 411.4330 296.8684 392.27 480.79\n",
       "91 0.8898810 25.95258 ⋯ 341.8803 182.8020 348.1432 212.8205 322.92 391.72\n",
       "   wsta   wloc   mix        pctymle   \n",
       "86 451.79 297.19 0.05719921 0.15092644\n",
       "87 375.45 327.62 0.08616445 0.08828809\n",
       "88 337.88 348.74 0.11050157 0.07819394\n",
       "89 337.88 348.74 0.11050157 0.07819394\n",
       "90 303.11 337.28 0.15612382 0.07945071\n",
       "91 385.65 306.85 0.06756757 0.07419893"
      ]
     },
     "metadata": {},
     "output_type": "display_data"
    }
   ],
   "source": [
    "# Checks that blank rows aren't present\n",
    "clean[clean$prbconv == '' | clean$prbconv=='`',]\n",
    "clean[clean$year == \"NA\",]\n",
    "tail(clean)"
   ]
  },
  {
   "cell_type": "code",
   "execution_count": 5,
   "metadata": {},
   "outputs": [
    {
     "data": {
      "text/html": [
       "<table>\n",
       "<thead><tr><th></th><th scope=col>county</th><th scope=col>year</th><th scope=col>crmrte</th><th scope=col>prbarr</th><th scope=col>prbconv</th><th scope=col>prbpris</th><th scope=col>avgsen</th><th scope=col>polpc</th><th scope=col>density</th><th scope=col>taxpc</th><th scope=col>⋯</th><th scope=col>wtuc</th><th scope=col>wtrd</th><th scope=col>wfir</th><th scope=col>wser</th><th scope=col>wmfg</th><th scope=col>wfed</th><th scope=col>wsta</th><th scope=col>wloc</th><th scope=col>mix</th><th scope=col>pctymle</th></tr></thead>\n",
       "<tbody>\n",
       "\t<tr><th scope=row>89</th><td>193        </td><td>87         </td><td>0.0235277  </td><td>0.266055   </td><td>0.588859022</td><td>0.423423   </td><td>5.86       </td><td>0.00117887 </td><td>0.8138298  </td><td>28.51783   </td><td>⋯          </td><td>480.1948   </td><td>268.3836   </td><td>365.0196   </td><td>295.9352   </td><td>295.63     </td><td>468.26     </td><td>337.88     </td><td>348.74     </td><td>0.1105016  </td><td>0.07819394 </td></tr>\n",
       "</tbody>\n",
       "</table>\n"
      ],
      "text/latex": [
       "\\begin{tabular}{r|lllllllllllllllllllllllll}\n",
       "  & county & year & crmrte & prbarr & prbconv & prbpris & avgsen & polpc & density & taxpc & ⋯ & wtuc & wtrd & wfir & wser & wmfg & wfed & wsta & wloc & mix & pctymle\\\\\n",
       "\\hline\n",
       "\t89 & 193         & 87          & 0.0235277   & 0.266055    & 0.588859022 & 0.423423    & 5.86        & 0.00117887  & 0.8138298   & 28.51783    & ⋯           & 480.1948    & 268.3836    & 365.0196    & 295.9352    & 295.63      & 468.26      & 337.88      & 348.74      & 0.1105016   & 0.07819394 \\\\\n",
       "\\end{tabular}\n"
      ],
      "text/markdown": [
       "\n",
       "| <!--/--> | county | year | crmrte | prbarr | prbconv | prbpris | avgsen | polpc | density | taxpc | ⋯ | wtuc | wtrd | wfir | wser | wmfg | wfed | wsta | wloc | mix | pctymle | \n",
       "|---|\n",
       "| 89 | 193         | 87          | 0.0235277   | 0.266055    | 0.588859022 | 0.423423    | 5.86        | 0.00117887  | 0.8138298   | 28.51783    | ⋯           | 480.1948    | 268.3836    | 365.0196    | 295.9352    | 295.63      | 468.26      | 337.88      | 348.74      | 0.1105016   | 0.07819394  | \n",
       "\n",
       "\n"
      ],
      "text/plain": [
       "   county year crmrte    prbarr   prbconv     prbpris  avgsen polpc     \n",
       "89 193    87   0.0235277 0.266055 0.588859022 0.423423 5.86   0.00117887\n",
       "   density   taxpc    ⋯ wtuc     wtrd     wfir     wser     wmfg   wfed  \n",
       "89 0.8138298 28.51783 ⋯ 480.1948 268.3836 365.0196 295.9352 295.63 468.26\n",
       "   wsta   wloc   mix       pctymle   \n",
       "89 337.88 348.74 0.1105016 0.07819394"
      ]
     },
     "metadata": {},
     "output_type": "display_data"
    }
   ],
   "source": [
    "# Checks for duplicate rows\n",
    "clean[duplicated(clean),]"
   ]
  },
  {
   "cell_type": "code",
   "execution_count": 6,
   "metadata": {},
   "outputs": [
    {
     "data": {
      "text/html": [
       "<table>\n",
       "<thead><tr><th></th><th scope=col>county</th><th scope=col>year</th><th scope=col>crmrte</th><th scope=col>prbarr</th><th scope=col>prbconv</th><th scope=col>prbpris</th><th scope=col>avgsen</th><th scope=col>polpc</th><th scope=col>density</th><th scope=col>taxpc</th><th scope=col>⋯</th><th scope=col>wtuc</th><th scope=col>wtrd</th><th scope=col>wfir</th><th scope=col>wser</th><th scope=col>wmfg</th><th scope=col>wfed</th><th scope=col>wsta</th><th scope=col>wloc</th><th scope=col>mix</th><th scope=col>pctymle</th></tr></thead>\n",
       "<tbody>\n",
       "\t<tr><th scope=row>88</th><td>193        </td><td>87         </td><td>0.0235277  </td><td>0.266055   </td><td>0.588859022</td><td>0.423423   </td><td>5.86       </td><td>0.00117887 </td><td>0.8138298  </td><td>28.51783   </td><td>⋯          </td><td>480.1948   </td><td>268.3836   </td><td>365.0196   </td><td>295.9352   </td><td>295.63     </td><td>468.26     </td><td>337.88     </td><td>348.74     </td><td>0.1105016  </td><td>0.07819394 </td></tr>\n",
       "\t<tr><th scope=row>89</th><td>193        </td><td>87         </td><td>0.0235277  </td><td>0.266055   </td><td>0.588859022</td><td>0.423423   </td><td>5.86       </td><td>0.00117887 </td><td>0.8138298  </td><td>28.51783   </td><td>⋯          </td><td>480.1948   </td><td>268.3836   </td><td>365.0196   </td><td>295.9352   </td><td>295.63     </td><td>468.26     </td><td>337.88     </td><td>348.74     </td><td>0.1105016  </td><td>0.07819394 </td></tr>\n",
       "</tbody>\n",
       "</table>\n"
      ],
      "text/latex": [
       "\\begin{tabular}{r|lllllllllllllllllllllllll}\n",
       "  & county & year & crmrte & prbarr & prbconv & prbpris & avgsen & polpc & density & taxpc & ⋯ & wtuc & wtrd & wfir & wser & wmfg & wfed & wsta & wloc & mix & pctymle\\\\\n",
       "\\hline\n",
       "\t88 & 193         & 87          & 0.0235277   & 0.266055    & 0.588859022 & 0.423423    & 5.86        & 0.00117887  & 0.8138298   & 28.51783    & ⋯           & 480.1948    & 268.3836    & 365.0196    & 295.9352    & 295.63      & 468.26      & 337.88      & 348.74      & 0.1105016   & 0.07819394 \\\\\n",
       "\t89 & 193         & 87          & 0.0235277   & 0.266055    & 0.588859022 & 0.423423    & 5.86        & 0.00117887  & 0.8138298   & 28.51783    & ⋯           & 480.1948    & 268.3836    & 365.0196    & 295.9352    & 295.63      & 468.26      & 337.88      & 348.74      & 0.1105016   & 0.07819394 \\\\\n",
       "\\end{tabular}\n"
      ],
      "text/markdown": [
       "\n",
       "| <!--/--> | county | year | crmrte | prbarr | prbconv | prbpris | avgsen | polpc | density | taxpc | ⋯ | wtuc | wtrd | wfir | wser | wmfg | wfed | wsta | wloc | mix | pctymle | \n",
       "|---|---|\n",
       "| 88 | 193         | 87          | 0.0235277   | 0.266055    | 0.588859022 | 0.423423    | 5.86        | 0.00117887  | 0.8138298   | 28.51783    | ⋯           | 480.1948    | 268.3836    | 365.0196    | 295.9352    | 295.63      | 468.26      | 337.88      | 348.74      | 0.1105016   | 0.07819394  | \n",
       "| 89 | 193         | 87          | 0.0235277   | 0.266055    | 0.588859022 | 0.423423    | 5.86        | 0.00117887  | 0.8138298   | 28.51783    | ⋯           | 480.1948    | 268.3836    | 365.0196    | 295.9352    | 295.63      | 468.26      | 337.88      | 348.74      | 0.1105016   | 0.07819394  | \n",
       "\n",
       "\n"
      ],
      "text/plain": [
       "   county year crmrte    prbarr   prbconv     prbpris  avgsen polpc     \n",
       "88 193    87   0.0235277 0.266055 0.588859022 0.423423 5.86   0.00117887\n",
       "89 193    87   0.0235277 0.266055 0.588859022 0.423423 5.86   0.00117887\n",
       "   density   taxpc    ⋯ wtuc     wtrd     wfir     wser     wmfg   wfed  \n",
       "88 0.8138298 28.51783 ⋯ 480.1948 268.3836 365.0196 295.9352 295.63 468.26\n",
       "89 0.8138298 28.51783 ⋯ 480.1948 268.3836 365.0196 295.9352 295.63 468.26\n",
       "   wsta   wloc   mix       pctymle   \n",
       "88 337.88 348.74 0.1105016 0.07819394\n",
       "89 337.88 348.74 0.1105016 0.07819394"
      ]
     },
     "metadata": {},
     "output_type": "display_data"
    }
   ],
   "source": [
    "# Verifies which row is a duplicate\n",
    "clean[clean$county == 193,]"
   ]
  },
  {
   "cell_type": "code",
   "execution_count": 7,
   "metadata": {},
   "outputs": [],
   "source": [
    "# Eliminates duplicate rows\n",
    "clean <- clean[!duplicated(clean),]"
   ]
  },
  {
   "cell_type": "code",
   "execution_count": 8,
   "metadata": {},
   "outputs": [
    {
     "data": {
      "text/html": [
       "<ol class=list-inline>\n",
       "\t<li>FALSE</li>\n",
       "\t<li>FALSE</li>\n",
       "\t<li>FALSE</li>\n",
       "\t<li>FALSE</li>\n",
       "\t<li>FALSE</li>\n",
       "\t<li>FALSE</li>\n",
       "\t<li>FALSE</li>\n",
       "\t<li>FALSE</li>\n",
       "\t<li>FALSE</li>\n",
       "\t<li>FALSE</li>\n",
       "\t<li>FALSE</li>\n",
       "\t<li>FALSE</li>\n",
       "\t<li>FALSE</li>\n",
       "\t<li>FALSE</li>\n",
       "\t<li>FALSE</li>\n",
       "\t<li>FALSE</li>\n",
       "\t<li>FALSE</li>\n",
       "\t<li>FALSE</li>\n",
       "\t<li>FALSE</li>\n",
       "\t<li>FALSE</li>\n",
       "\t<li>FALSE</li>\n",
       "\t<li>FALSE</li>\n",
       "\t<li>FALSE</li>\n",
       "\t<li>FALSE</li>\n",
       "\t<li>FALSE</li>\n",
       "\t<li>FALSE</li>\n",
       "\t<li>FALSE</li>\n",
       "\t<li>FALSE</li>\n",
       "\t<li>FALSE</li>\n",
       "\t<li>FALSE</li>\n",
       "\t<li>FALSE</li>\n",
       "\t<li>FALSE</li>\n",
       "\t<li>FALSE</li>\n",
       "\t<li>FALSE</li>\n",
       "\t<li>FALSE</li>\n",
       "\t<li>FALSE</li>\n",
       "\t<li>FALSE</li>\n",
       "\t<li>FALSE</li>\n",
       "\t<li>FALSE</li>\n",
       "\t<li>FALSE</li>\n",
       "\t<li>FALSE</li>\n",
       "\t<li>FALSE</li>\n",
       "\t<li>FALSE</li>\n",
       "\t<li>FALSE</li>\n",
       "\t<li>FALSE</li>\n",
       "\t<li>FALSE</li>\n",
       "\t<li>FALSE</li>\n",
       "\t<li>FALSE</li>\n",
       "\t<li>FALSE</li>\n",
       "\t<li>FALSE</li>\n",
       "\t<li>FALSE</li>\n",
       "\t<li>FALSE</li>\n",
       "\t<li>FALSE</li>\n",
       "\t<li>FALSE</li>\n",
       "\t<li>FALSE</li>\n",
       "\t<li>FALSE</li>\n",
       "\t<li>FALSE</li>\n",
       "\t<li>FALSE</li>\n",
       "\t<li>FALSE</li>\n",
       "\t<li>FALSE</li>\n",
       "\t<li>FALSE</li>\n",
       "\t<li>FALSE</li>\n",
       "\t<li>FALSE</li>\n",
       "\t<li>FALSE</li>\n",
       "\t<li>FALSE</li>\n",
       "\t<li>FALSE</li>\n",
       "\t<li>FALSE</li>\n",
       "\t<li>FALSE</li>\n",
       "\t<li>FALSE</li>\n",
       "\t<li>FALSE</li>\n",
       "\t<li>FALSE</li>\n",
       "\t<li>FALSE</li>\n",
       "\t<li>FALSE</li>\n",
       "\t<li>FALSE</li>\n",
       "\t<li>FALSE</li>\n",
       "\t<li>FALSE</li>\n",
       "\t<li>FALSE</li>\n",
       "\t<li>FALSE</li>\n",
       "\t<li>FALSE</li>\n",
       "\t<li>FALSE</li>\n",
       "\t<li>FALSE</li>\n",
       "\t<li>FALSE</li>\n",
       "\t<li>FALSE</li>\n",
       "\t<li>FALSE</li>\n",
       "\t<li>FALSE</li>\n",
       "\t<li>FALSE</li>\n",
       "\t<li>FALSE</li>\n",
       "\t<li>FALSE</li>\n",
       "\t<li>FALSE</li>\n",
       "\t<li>FALSE</li>\n",
       "</ol>\n"
      ],
      "text/latex": [
       "\\begin{enumerate*}\n",
       "\\item FALSE\n",
       "\\item FALSE\n",
       "\\item FALSE\n",
       "\\item FALSE\n",
       "\\item FALSE\n",
       "\\item FALSE\n",
       "\\item FALSE\n",
       "\\item FALSE\n",
       "\\item FALSE\n",
       "\\item FALSE\n",
       "\\item FALSE\n",
       "\\item FALSE\n",
       "\\item FALSE\n",
       "\\item FALSE\n",
       "\\item FALSE\n",
       "\\item FALSE\n",
       "\\item FALSE\n",
       "\\item FALSE\n",
       "\\item FALSE\n",
       "\\item FALSE\n",
       "\\item FALSE\n",
       "\\item FALSE\n",
       "\\item FALSE\n",
       "\\item FALSE\n",
       "\\item FALSE\n",
       "\\item FALSE\n",
       "\\item FALSE\n",
       "\\item FALSE\n",
       "\\item FALSE\n",
       "\\item FALSE\n",
       "\\item FALSE\n",
       "\\item FALSE\n",
       "\\item FALSE\n",
       "\\item FALSE\n",
       "\\item FALSE\n",
       "\\item FALSE\n",
       "\\item FALSE\n",
       "\\item FALSE\n",
       "\\item FALSE\n",
       "\\item FALSE\n",
       "\\item FALSE\n",
       "\\item FALSE\n",
       "\\item FALSE\n",
       "\\item FALSE\n",
       "\\item FALSE\n",
       "\\item FALSE\n",
       "\\item FALSE\n",
       "\\item FALSE\n",
       "\\item FALSE\n",
       "\\item FALSE\n",
       "\\item FALSE\n",
       "\\item FALSE\n",
       "\\item FALSE\n",
       "\\item FALSE\n",
       "\\item FALSE\n",
       "\\item FALSE\n",
       "\\item FALSE\n",
       "\\item FALSE\n",
       "\\item FALSE\n",
       "\\item FALSE\n",
       "\\item FALSE\n",
       "\\item FALSE\n",
       "\\item FALSE\n",
       "\\item FALSE\n",
       "\\item FALSE\n",
       "\\item FALSE\n",
       "\\item FALSE\n",
       "\\item FALSE\n",
       "\\item FALSE\n",
       "\\item FALSE\n",
       "\\item FALSE\n",
       "\\item FALSE\n",
       "\\item FALSE\n",
       "\\item FALSE\n",
       "\\item FALSE\n",
       "\\item FALSE\n",
       "\\item FALSE\n",
       "\\item FALSE\n",
       "\\item FALSE\n",
       "\\item FALSE\n",
       "\\item FALSE\n",
       "\\item FALSE\n",
       "\\item FALSE\n",
       "\\item FALSE\n",
       "\\item FALSE\n",
       "\\item FALSE\n",
       "\\item FALSE\n",
       "\\item FALSE\n",
       "\\item FALSE\n",
       "\\item FALSE\n",
       "\\end{enumerate*}\n"
      ],
      "text/markdown": [
       "1. FALSE\n",
       "2. FALSE\n",
       "3. FALSE\n",
       "4. FALSE\n",
       "5. FALSE\n",
       "6. FALSE\n",
       "7. FALSE\n",
       "8. FALSE\n",
       "9. FALSE\n",
       "10. FALSE\n",
       "11. FALSE\n",
       "12. FALSE\n",
       "13. FALSE\n",
       "14. FALSE\n",
       "15. FALSE\n",
       "16. FALSE\n",
       "17. FALSE\n",
       "18. FALSE\n",
       "19. FALSE\n",
       "20. FALSE\n",
       "21. FALSE\n",
       "22. FALSE\n",
       "23. FALSE\n",
       "24. FALSE\n",
       "25. FALSE\n",
       "26. FALSE\n",
       "27. FALSE\n",
       "28. FALSE\n",
       "29. FALSE\n",
       "30. FALSE\n",
       "31. FALSE\n",
       "32. FALSE\n",
       "33. FALSE\n",
       "34. FALSE\n",
       "35. FALSE\n",
       "36. FALSE\n",
       "37. FALSE\n",
       "38. FALSE\n",
       "39. FALSE\n",
       "40. FALSE\n",
       "41. FALSE\n",
       "42. FALSE\n",
       "43. FALSE\n",
       "44. FALSE\n",
       "45. FALSE\n",
       "46. FALSE\n",
       "47. FALSE\n",
       "48. FALSE\n",
       "49. FALSE\n",
       "50. FALSE\n",
       "51. FALSE\n",
       "52. FALSE\n",
       "53. FALSE\n",
       "54. FALSE\n",
       "55. FALSE\n",
       "56. FALSE\n",
       "57. FALSE\n",
       "58. FALSE\n",
       "59. FALSE\n",
       "60. FALSE\n",
       "61. FALSE\n",
       "62. FALSE\n",
       "63. FALSE\n",
       "64. FALSE\n",
       "65. FALSE\n",
       "66. FALSE\n",
       "67. FALSE\n",
       "68. FALSE\n",
       "69. FALSE\n",
       "70. FALSE\n",
       "71. FALSE\n",
       "72. FALSE\n",
       "73. FALSE\n",
       "74. FALSE\n",
       "75. FALSE\n",
       "76. FALSE\n",
       "77. FALSE\n",
       "78. FALSE\n",
       "79. FALSE\n",
       "80. FALSE\n",
       "81. FALSE\n",
       "82. FALSE\n",
       "83. FALSE\n",
       "84. FALSE\n",
       "85. FALSE\n",
       "86. FALSE\n",
       "87. FALSE\n",
       "88. FALSE\n",
       "89. FALSE\n",
       "90. FALSE\n",
       "\n",
       "\n"
      ],
      "text/plain": [
       " [1] FALSE FALSE FALSE FALSE FALSE FALSE FALSE FALSE FALSE FALSE FALSE FALSE\n",
       "[13] FALSE FALSE FALSE FALSE FALSE FALSE FALSE FALSE FALSE FALSE FALSE FALSE\n",
       "[25] FALSE FALSE FALSE FALSE FALSE FALSE FALSE FALSE FALSE FALSE FALSE FALSE\n",
       "[37] FALSE FALSE FALSE FALSE FALSE FALSE FALSE FALSE FALSE FALSE FALSE FALSE\n",
       "[49] FALSE FALSE FALSE FALSE FALSE FALSE FALSE FALSE FALSE FALSE FALSE FALSE\n",
       "[61] FALSE FALSE FALSE FALSE FALSE FALSE FALSE FALSE FALSE FALSE FALSE FALSE\n",
       "[73] FALSE FALSE FALSE FALSE FALSE FALSE FALSE FALSE FALSE FALSE FALSE FALSE\n",
       "[85] FALSE FALSE FALSE FALSE FALSE FALSE"
      ]
     },
     "metadata": {},
     "output_type": "display_data"
    },
    {
     "data": {
      "text/html": [
       "90"
      ],
      "text/latex": [
       "90"
      ],
      "text/markdown": [
       "90"
      ],
      "text/plain": [
       "[1] 90"
      ]
     },
     "metadata": {},
     "output_type": "display_data"
    },
    {
     "data": {
      "text/html": [
       "<ol class=list-inline>\n",
       "\t<li>90</li>\n",
       "\t<li>25</li>\n",
       "</ol>\n"
      ],
      "text/latex": [
       "\\begin{enumerate*}\n",
       "\\item 90\n",
       "\\item 25\n",
       "\\end{enumerate*}\n"
      ],
      "text/markdown": [
       "1. 90\n",
       "2. 25\n",
       "\n",
       "\n"
      ],
      "text/plain": [
       "[1] 90 25"
      ]
     },
     "metadata": {},
     "output_type": "display_data"
    },
    {
     "name": "stderr",
     "output_type": "stream",
     "text": [
      "Warning message in cbind(parts$left, ellip_h, parts$right, deparse.level = 0L):\n",
      "“number of rows of result is not a multiple of vector length (arg 2)”Warning message in cbind(parts$left, ellip_h, parts$right, deparse.level = 0L):\n",
      "“number of rows of result is not a multiple of vector length (arg 2)”Warning message in cbind(parts$left, ellip_h, parts$right, deparse.level = 0L):\n",
      "“number of rows of result is not a multiple of vector length (arg 2)”Warning message in cbind(parts$left, ellip_h, parts$right, deparse.level = 0L):\n",
      "“number of rows of result is not a multiple of vector length (arg 2)”"
     ]
    },
    {
     "data": {
      "text/html": [
       "<table>\n",
       "<thead><tr><th scope=col>county</th><th scope=col>year</th><th scope=col>crmrte</th><th scope=col>prbarr</th><th scope=col>prbconv</th><th scope=col>prbpris</th><th scope=col>avgsen</th><th scope=col>polpc</th><th scope=col>density</th><th scope=col>taxpc</th><th scope=col>⋯</th><th scope=col>wtuc</th><th scope=col>wtrd</th><th scope=col>wfir</th><th scope=col>wser</th><th scope=col>wmfg</th><th scope=col>wfed</th><th scope=col>wsta</th><th scope=col>wloc</th><th scope=col>mix</th><th scope=col>pctymle</th></tr></thead>\n",
       "<tbody>\n",
       "</tbody>\n",
       "</table>\n"
      ],
      "text/latex": [
       "\\begin{tabular}{r|lllllllllllllllllllllllll}\n",
       " county & year & crmrte & prbarr & prbconv & prbpris & avgsen & polpc & density & taxpc & ⋯ & wtuc & wtrd & wfir & wser & wmfg & wfed & wsta & wloc & mix & pctymle\\\\\n",
       "\\hline\n",
       "\\end{tabular}\n"
      ],
      "text/markdown": [
       "\n",
       "county | year | crmrte | prbarr | prbconv | prbpris | avgsen | polpc | density | taxpc | ⋯ | wtuc | wtrd | wfir | wser | wmfg | wfed | wsta | wloc | mix | pctymle | \n",
       "||\n",
       "\n",
       "\n"
      ],
      "text/plain": [
       "     county year crmrte prbarr prbconv prbpris avgsen polpc density taxpc ⋯\n",
       "     wtuc wtrd wfir wser wmfg wfed wsta wloc mix pctymle"
      ]
     },
     "metadata": {},
     "output_type": "display_data"
    }
   ],
   "source": [
    "# Checks for duplicate rows\n",
    "duplicated(clean)\n",
    "length(duplicated(clean))\n",
    "dim(clean)\n",
    "\n",
    "clean[duplicated(clean),]"
   ]
  },
  {
   "cell_type": "code",
   "execution_count": 9,
   "metadata": {},
   "outputs": [
    {
     "data": {
      "text/html": [
       "<table>\n",
       "<thead><tr><th></th><th scope=col>county</th><th scope=col>year</th><th scope=col>crmrte</th><th scope=col>prbarr</th><th scope=col>prbconv</th><th scope=col>prbpris</th><th scope=col>avgsen</th><th scope=col>polpc</th><th scope=col>density</th><th scope=col>taxpc</th><th scope=col>⋯</th><th scope=col>wtuc</th><th scope=col>wtrd</th><th scope=col>wfir</th><th scope=col>wser</th><th scope=col>wmfg</th><th scope=col>wfed</th><th scope=col>wsta</th><th scope=col>wloc</th><th scope=col>mix</th><th scope=col>pctymle</th></tr></thead>\n",
       "<tbody>\n",
       "\t<tr><th scope=row>88</th><td>193        </td><td>87         </td><td>0.0235277  </td><td>0.266055   </td><td>0.588859022</td><td>0.423423   </td><td>5.86       </td><td>0.00117887 </td><td>0.8138298  </td><td>28.51783   </td><td>⋯          </td><td>480.1948   </td><td>268.3836   </td><td>365.0196   </td><td>295.9352   </td><td>295.63     </td><td>468.26     </td><td>337.88     </td><td>348.74     </td><td>0.1105016  </td><td>0.07819394 </td></tr>\n",
       "</tbody>\n",
       "</table>\n"
      ],
      "text/latex": [
       "\\begin{tabular}{r|lllllllllllllllllllllllll}\n",
       "  & county & year & crmrte & prbarr & prbconv & prbpris & avgsen & polpc & density & taxpc & ⋯ & wtuc & wtrd & wfir & wser & wmfg & wfed & wsta & wloc & mix & pctymle\\\\\n",
       "\\hline\n",
       "\t88 & 193         & 87          & 0.0235277   & 0.266055    & 0.588859022 & 0.423423    & 5.86        & 0.00117887  & 0.8138298   & 28.51783    & ⋯           & 480.1948    & 268.3836    & 365.0196    & 295.9352    & 295.63      & 468.26      & 337.88      & 348.74      & 0.1105016   & 0.07819394 \\\\\n",
       "\\end{tabular}\n"
      ],
      "text/markdown": [
       "\n",
       "| <!--/--> | county | year | crmrte | prbarr | prbconv | prbpris | avgsen | polpc | density | taxpc | ⋯ | wtuc | wtrd | wfir | wser | wmfg | wfed | wsta | wloc | mix | pctymle | \n",
       "|---|\n",
       "| 88 | 193         | 87          | 0.0235277   | 0.266055    | 0.588859022 | 0.423423    | 5.86        | 0.00117887  | 0.8138298   | 28.51783    | ⋯           | 480.1948    | 268.3836    | 365.0196    | 295.9352    | 295.63      | 468.26      | 337.88      | 348.74      | 0.1105016   | 0.07819394  | \n",
       "\n",
       "\n"
      ],
      "text/plain": [
       "   county year crmrte    prbarr   prbconv     prbpris  avgsen polpc     \n",
       "88 193    87   0.0235277 0.266055 0.588859022 0.423423 5.86   0.00117887\n",
       "   density   taxpc    ⋯ wtuc     wtrd     wfir     wser     wmfg   wfed  \n",
       "88 0.8138298 28.51783 ⋯ 480.1948 268.3836 365.0196 295.9352 295.63 468.26\n",
       "   wsta   wloc   mix       pctymle   \n",
       "88 337.88 348.74 0.1105016 0.07819394"
      ]
     },
     "metadata": {},
     "output_type": "display_data"
    }
   ],
   "source": [
    "# Verifies which row is a duplicate\n",
    "clean[clean$county == 193,]"
   ]
  },
  {
   "cell_type": "code",
   "execution_count": 10,
   "metadata": {},
   "outputs": [],
   "source": [
    "# Re-cast 'prbconv' from factors into numbers\n",
    "clean$prbconv <- as.numeric(as.character(clean$prbconv))"
   ]
  },
  {
   "cell_type": "code",
   "execution_count": 11,
   "metadata": {
    "scrolled": false
   },
   "outputs": [
    {
     "data": {
      "text/plain": [
       "     county           year        crmrte             prbarr       \n",
       " Min.   :  1.0   Min.   :87   Min.   :0.005533   Min.   :0.09277  \n",
       " 1st Qu.: 51.5   1st Qu.:87   1st Qu.:0.020604   1st Qu.:0.20495  \n",
       " Median :103.0   Median :87   Median :0.030002   Median :0.27146  \n",
       " Mean   :100.6   Mean   :87   Mean   :0.033510   Mean   :0.29524  \n",
       " 3rd Qu.:150.5   3rd Qu.:87   3rd Qu.:0.040249   3rd Qu.:0.34487  \n",
       " Max.   :197.0   Max.   :87   Max.   :0.098966   Max.   :1.09091  \n",
       "    prbconv           prbpris           avgsen           polpc          \n",
       " Min.   :0.06838   Min.   :0.1500   Min.   : 5.380   Min.   :0.0007459  \n",
       " 1st Qu.:0.34422   1st Qu.:0.3642   1st Qu.: 7.375   1st Qu.:0.0012378  \n",
       " Median :0.45170   Median :0.4222   Median : 9.110   Median :0.0014897  \n",
       " Mean   :0.55086   Mean   :0.4106   Mean   : 9.689   Mean   :0.0017080  \n",
       " 3rd Qu.:0.58513   3rd Qu.:0.4576   3rd Qu.:11.465   3rd Qu.:0.0018856  \n",
       " Max.   :2.12121   Max.   :0.6000   Max.   :20.700   Max.   :0.0090543  \n",
       "    density            taxpc             west           central      \n",
       " Min.   :0.00002   Min.   : 25.69   Min.   :0.0000   Min.   :0.0000  \n",
       " 1st Qu.:0.54718   1st Qu.: 30.73   1st Qu.:0.0000   1st Qu.:0.0000  \n",
       " Median :0.97925   Median : 34.92   Median :0.0000   Median :0.0000  \n",
       " Mean   :1.43567   Mean   : 38.16   Mean   :0.2444   Mean   :0.3778  \n",
       " 3rd Qu.:1.56926   3rd Qu.: 41.01   3rd Qu.:0.0000   3rd Qu.:1.0000  \n",
       " Max.   :8.82765   Max.   :119.76   Max.   :1.0000   Max.   :1.0000  \n",
       "     urban            pctmin80           wcon            wtuc      \n",
       " Min.   :0.00000   Min.   : 1.284   Min.   :193.6   Min.   :187.6  \n",
       " 1st Qu.:0.00000   1st Qu.:10.024   1st Qu.:250.8   1st Qu.:374.3  \n",
       " Median :0.00000   Median :24.852   Median :281.2   Median :404.8  \n",
       " Mean   :0.08889   Mean   :25.713   Mean   :285.4   Mean   :410.9  \n",
       " 3rd Qu.:0.00000   3rd Qu.:38.183   3rd Qu.:315.0   3rd Qu.:440.7  \n",
       " Max.   :1.00000   Max.   :64.348   Max.   :436.8   Max.   :613.2  \n",
       "      wtrd            wfir            wser             wmfg      \n",
       " Min.   :154.2   Min.   :170.9   Min.   : 133.0   Min.   :157.4  \n",
       " 1st Qu.:190.7   1st Qu.:285.6   1st Qu.: 229.3   1st Qu.:288.6  \n",
       " Median :203.0   Median :317.1   Median : 253.1   Median :321.1  \n",
       " Mean   :210.9   Mean   :321.6   Mean   : 275.3   Mean   :336.0  \n",
       " 3rd Qu.:224.3   3rd Qu.:342.6   3rd Qu.: 277.6   3rd Qu.:359.9  \n",
       " Max.   :354.7   Max.   :509.5   Max.   :2177.1   Max.   :646.9  \n",
       "      wfed            wsta            wloc            mix         \n",
       " Min.   :326.1   Min.   :258.3   Min.   :239.2   Min.   :0.01961  \n",
       " 1st Qu.:398.8   1st Qu.:329.3   1st Qu.:297.2   1st Qu.:0.08060  \n",
       " Median :448.9   Median :358.4   Median :307.6   Median :0.10095  \n",
       " Mean   :442.6   Mean   :357.7   Mean   :312.3   Mean   :0.12905  \n",
       " 3rd Qu.:478.3   3rd Qu.:383.2   3rd Qu.:328.8   3rd Qu.:0.15206  \n",
       " Max.   :598.0   Max.   :499.6   Max.   :388.1   Max.   :0.46512  \n",
       "    pctymle       \n",
       " Min.   :0.06216  \n",
       " 1st Qu.:0.07437  \n",
       " Median :0.07770  \n",
       " Mean   :0.08403  \n",
       " 3rd Qu.:0.08352  \n",
       " Max.   :0.24871  "
      ]
     },
     "metadata": {},
     "output_type": "display_data"
    },
    {
     "name": "stdout",
     "output_type": "stream",
     "text": [
      "'data.frame':\t90 obs. of  25 variables:\n",
      " $ county  : int  1 3 5 7 9 11 13 15 17 19 ...\n",
      " $ year    : int  87 87 87 87 87 87 87 87 87 87 ...\n",
      " $ crmrte  : num  0.0356 0.0153 0.013 0.0268 0.0106 ...\n",
      " $ prbarr  : num  0.298 0.132 0.444 0.365 0.518 ...\n",
      " $ prbconv : num  0.528 1.481 0.268 0.525 0.477 ...\n",
      " $ prbpris : num  0.436 0.45 0.6 0.435 0.443 ...\n",
      " $ avgsen  : num  6.71 6.35 6.76 7.14 8.22 ...\n",
      " $ polpc   : num  0.001828 0.000746 0.001234 0.00153 0.00086 ...\n",
      " $ density : num  2.423 1.046 0.413 0.492 0.547 ...\n",
      " $ taxpc   : num  31 26.9 34.8 42.9 28.1 ...\n",
      " $ west    : int  0 0 1 0 1 1 0 0 0 0 ...\n",
      " $ central : int  1 1 0 1 0 0 0 0 0 0 ...\n",
      " $ urban   : int  0 0 0 0 0 0 0 0 0 0 ...\n",
      " $ pctmin80: num  20.22 7.92 3.16 47.92 1.8 ...\n",
      " $ wcon    : num  281 255 227 375 292 ...\n",
      " $ wtuc    : num  409 376 372 398 377 ...\n",
      " $ wtrd    : num  221 196 229 191 207 ...\n",
      " $ wfir    : num  453 259 306 281 289 ...\n",
      " $ wser    : num  274 192 210 257 215 ...\n",
      " $ wmfg    : num  335 300 238 282 291 ...\n",
      " $ wfed    : num  478 410 359 412 377 ...\n",
      " $ wsta    : num  292 363 332 328 367 ...\n",
      " $ wloc    : num  312 301 281 299 343 ...\n",
      " $ mix     : num  0.0802 0.0302 0.4651 0.2736 0.0601 ...\n",
      " $ pctymle : num  0.0779 0.0826 0.0721 0.0735 0.0707 ...\n"
     ]
    },
    {
     "data": {
      "image/png": "[encoded data removed]",
      "text/plain": [
       "Plot with title “Histogram of clean$prbarr”"
      ]
     },
     "metadata": {},
     "output_type": "display_data"
    },
    {
     "data": {
      "image/png": "[encoded data removed]",
      "text/plain": [
       "Plot with title “Histogram of clean$prbconv”"
      ]
     },
     "metadata": {},
     "output_type": "display_data"
    },
    {
     "data": {
      "image/png": "[encoded data removed]",
      "text/plain": [
       "Plot with title “Histogram of clean$prbpris”"
      ]
     },
     "metadata": {},
     "output_type": "display_data"
    }
   ],
   "source": [
    "summary(clean)\n",
    "str(clean)\n",
    "hist(clean$prbarr)\n",
    "hist(clean$prbconv)\n",
    "hist(clean$prbpris)"
   ]
  },
  {
   "cell_type": "markdown",
   "metadata": {},
   "source": [
    "# Building Regressions"
   ]
  },
  {
   "cell_type": "markdown",
   "metadata": {},
   "source": [
    "## Model 1: Our Base Model \n",
    "\n",
    "We wanted to understand if an increasing probability of incarceration for offenders ($prbpris$) is associated with lower crime rates ($crmrte$); consequently, our base model regresses our primary outcome variable $crmrte$ on the independent variable $prbpris$. However, an offender must first be arrested and convicted of a crime before s/he faces the possibility of serving prison time. Importantly, the probability that s/he will be arrested ($prbarr$) and the probability s/he will actually be convicted of a crime ($prbconv$) might also be associated with changes in $crmrte$. For example, we speculate that potential offenders could in principle be loathe to commit crimes in locales that have a higher propensity for arresting suspects. Similarly, convictions that do not result in incarceration but that place offenders on probation or that punish them with fines and/or community service could in principle reduce crime rate. Consequently, we also included $prbarr$ and $prbconv$ as regressors in our base model to control for these (and other) potential effects that could be associated with changes in these variables.\n",
    "\n",
    "To begin, we regressed $crmrte$ on each of these variables ($prbarr$, $prbconv$, and $prbpris$) individually. In so doing, we discovered that the $prbpris$ appears to be uncorrelated with $crmrte$ $(R^2 = 0.00)$; thus, to a first approximation and without accounting for other variables, this model suggests that an increasing probability of incarceration is not associated with lower crime rates nor is a decreasing probability of incarceration associated with higher crime rates. In contrast, increasing $prbarr$ and $prbconv$ appeared to be associated with lower $crmrte$. Specifically, each unit increase in $prbarr$ is associated with a 0.054 unit decrease in $crmrte$ $(R^2 = 0.16)$, while each unit increase in $prbconv$ is associated with a 0.021 unit decrease in $crmrte$ $(R^2 = 0.15)$. \n",
    "\n",
    "We also considered the possibility that the length of a possible prison sentence (i.e., $avgsen$) might confer a better fit than $prbpris$; however, we did not employ $avgsen$ as a regressor in our base model because (i) a simple regression of $crmrte$ on $avgsen$ reveals that $avgsen$ does not explain any variation in $crmrte$ (i.e., R$^2$=0) and (ii) it is also positively correlated with $prbpris$. Consequently, we judged that including $avgsen$ in our base model would only serve to increase the variance of our estimates for other coefficients with little gain. \n",
    "\n",
    "Next, we explored transformations that might improve our model's fit to these data. Although the maximum value of $crmrte$ is only ~18 times greater than its minimum value, (0.0055 vs. 0.099), we discovered that regressions of  $\\log{crmrte}$ on $prbarr$ or $prbconv$ individually had better fits $(prbarr: R^2 = 0.22$ and $prbconv: R^2 = 0.20)$ than regressions of $crmrte$ on $prbarr$ or $prbconv$ $(prbarr: R^2 = 0.15$ and $prbconv: R^2 = 0.16)$. Thus, we chose to employ $\\log_{crmrte}$ in our base model. \n",
    "\n",
    "We also chose to log-transform all of our regressors. Doing so sacrifices a slightly better fit as compared to modeling untransformed regressors $(R^2 = 0.45$ vs. $R^2 = 0.41)$. However, the units of our dependent variable and independent variables are somewhat disparate and obscure, and the log-transformed regressors facilitate more easily understood comparisons between them in terms of % changes. Specifically, each slope coefficient $\\beta_j$ will describe how a 1% change in the corresponding regressor changes $crmrte$ by $\\beta_j * 1\\% = \\beta_j\\%$ Additionally, employing log-transformed regressors flattened the model's residuals vs. fitted values plot, which helped it conform to the zero-conditional mean assumption of the classic linear model (CLM). Employing log-transformed regressors also reduced the influence that all outliers have on our model (all data points have a Cook's distance below 0.5 in our model). Having fully specified our base model, we calculated the least-squares fit below. \n",
    "\n",
    "$$ \\log crmrte = -4.71 - 0.72*\\log prbarr - 0.47*\\log prbconv + 0.15*\\log prbpris $$\n",
    "\n",
    "We set out to determine if the probability with which an offender receives a prison sentence is associated with a lower crime rate; the coefficients in our multivariate model indicate that the probability with which offenders receive prison sentences upon conviction is associated with an increasing crime rate, but that increasing the probabilities of arrest and conviction are associated with decreasing crime rate. Since they have negative slope coefficients, our model suggests that $prbarr$ and $prbconv$ are associated with reduced $crmrte$, but that $prbpris$, which has a positive slope coefficient, is not. Specifically, we expect 1% increases in the probability of arrest or probability of conviction will correspond with 0.72% or 0.47% reductions in crime rate; in contrast, we our model predicts that a 1% increase in the probability of prison sentence is associated with a 0.15% increase in crime rate.\n",
    "\n",
    "We speculate that $\\beta_{\\log{prbarr}}$ and $\\beta_{\\log{prbconv}}$ are practically significant, but that $\\beta_{\\log{prbpris}}$ probably is not. Prison is very expensive relative to alternative sentences. However, our model suggests that compartively larger reductions in crime are associated with simply arresting suspects and convicting offenders; incarcerating, which is more costly, is not associated with higher or lower crime rates.\n",
    "\n",
    "Importantly, we cannot claim that any causal effects exist in these relationships. For example, an increased probability of prison might be associated with higher crime rate because locales with higher violent crime rates sentence more people to prison; this in and of itself would not suggest that increasing the rates of incarceration would reduce crime rates. Similarly, areas with lower crime rates might simply have higher rates of arrests and convictions because the lower crime rates facilitate these effects; stated another way, other factors (e.g., poverty rates, education) could play a more direct role in reducing crime. "
   ]
  },
  {
   "cell_type": "markdown",
   "metadata": {},
   "source": [
    "## Code for Our Proposed Model"
   ]
  },
  {
   "cell_type": "code",
   "execution_count": 29,
   "metadata": {},
   "outputs": [
    {
     "data": {
      "text/html": [
       "'Model: log(crmrte) ~ log(prbarr) + log(prbconv) + log(prbpris)'"
      ],
      "text/latex": [
       "'Model: log(crmrte) \\textasciitilde{} log(prbarr) + log(prbconv) + log(prbpris)'"
      ],
      "text/markdown": [
       "'Model: log(crmrte) ~ log(prbarr) + log(prbconv) + log(prbpris)'"
      ],
      "text/plain": [
       "[1] \"Model: log(crmrte) ~ log(prbarr) + log(prbconv) + log(prbpris)\""
      ]
     },
     "metadata": {},
     "output_type": "display_data"
    },
    {
     "data": {
      "text/html": [
       "'Slope (log(prbarr)): -0.723804208413992'"
      ],
      "text/latex": [
       "'Slope (log(prbarr)): -0.723804208413992'"
      ],
      "text/markdown": [
       "'Slope (log(prbarr)): -0.723804208413992'"
      ],
      "text/plain": [
       "[1] \"Slope (log(prbarr)): -0.723804208413992\""
      ]
     },
     "metadata": {},
     "output_type": "display_data"
    },
    {
     "data": {
      "text/html": [
       "'Slope (log(prbconv)): -0.471991225676325'"
      ],
      "text/latex": [
       "'Slope (log(prbconv)): -0.471991225676325'"
      ],
      "text/markdown": [
       "'Slope (log(prbconv)): -0.471991225676325'"
      ],
      "text/plain": [
       "[1] \"Slope (log(prbconv)): -0.471991225676325\""
      ]
     },
     "metadata": {},
     "output_type": "display_data"
    },
    {
     "data": {
      "text/html": [
       "'Slope (log(prbpris)): 0.147727732051512'"
      ],
      "text/latex": [
       "'Slope (log(prbpris)): 0.147727732051512'"
      ],
      "text/markdown": [
       "'Slope (log(prbpris)): 0.147727732051512'"
      ],
      "text/plain": [
       "[1] \"Slope (log(prbpris)): 0.147727732051512\""
      ]
     },
     "metadata": {},
     "output_type": "display_data"
    },
    {
     "data": {
      "text/html": [
       "'Intercept: -4.70767874893467'"
      ],
      "text/latex": [
       "'Intercept: -4.70767874893467'"
      ],
      "text/markdown": [
       "'Intercept: -4.70767874893467'"
      ],
      "text/plain": [
       "[1] \"Intercept: -4.70767874893467\""
      ]
     },
     "metadata": {},
     "output_type": "display_data"
    },
    {
     "data": {
      "text/html": [
       "'R-squared: 0.41'"
      ],
      "text/latex": [
       "'R-squared: 0.41'"
      ],
      "text/markdown": [
       "'R-squared: 0.41'"
      ],
      "text/plain": [
       "[1] \"R-squared: 0.41\""
      ]
     },
     "metadata": {},
     "output_type": "display_data"
    },
    {
     "data": {
      "text/html": [
       "'Adjusted R-squared: 0.39'"
      ],
      "text/latex": [
       "'Adjusted R-squared: 0.39'"
      ],
      "text/markdown": [
       "'Adjusted R-squared: 0.39'"
      ],
      "text/plain": [
       "[1] \"Adjusted R-squared: 0.39\""
      ]
     },
     "metadata": {},
     "output_type": "display_data"
    },
    {
     "data": {
      "text/html": [
       "'Akaike Information Criterion: 108'"
      ],
      "text/latex": [
       "'Akaike Information Criterion: 108'"
      ],
      "text/markdown": [
       "'Akaike Information Criterion: 108'"
      ],
      "text/plain": [
       "[1] \"Akaike Information Criterion: 108\""
      ]
     },
     "metadata": {},
     "output_type": "display_data"
    },
    {
     "data": {
      "text/html": [
       "'###############################'"
      ],
      "text/latex": [
       "'\\#\\#\\#\\#\\#\\#\\#\\#\\#\\#\\#\\#\\#\\#\\#\\#\\#\\#\\#\\#\\#\\#\\#\\#\\#\\#\\#\\#\\#\\#\\#'"
      ],
      "text/markdown": [
       "'###############################'"
      ],
      "text/plain": [
       "[1] \"###############################\""
      ]
     },
     "metadata": {},
     "output_type": "display_data"
    }
   ],
   "source": [
    "model1 <- lm(log(crmrte) ~ log(prbarr) + log(prbconv) + log(prbpris), data=clean)\n",
    "# summary(model1)\n",
    "paste(\"Model:\", summary(model1)$call[2])\n",
    "paste(\"Slope (log(prbarr)):\", model1$coef[2])\n",
    "paste(\"Slope (log(prbconv)):\", model1$coef[3])\n",
    "paste(\"Slope (log(prbpris)):\", model1$coef[4])\n",
    "paste(\"Intercept:\", model1$coef[1])\n",
    "paste(\"R-squared:\", round(summary(model1)$r.squared, 2))\n",
    "paste(\"Adjusted R-squared:\", round(summary(model1)$adj.r.squared, 2))\n",
    "paste(\"Akaike Information Criterion:\", round(AIC(model1), 0))\n",
    "paste(\"###############################\")"
   ]
  },
  {
   "cell_type": "markdown",
   "metadata": {},
   "source": [
    "## Testing Different Regressions"
   ]
  },
  {
   "cell_type": "code",
   "execution_count": 13,
   "metadata": {
    "scrolled": true
   },
   "outputs": [
    {
     "data": {
      "text/html": [
       "'Model: crmrte ~ avgsen'"
      ],
      "text/latex": [
       "'Model: crmrte \\textasciitilde{} avgsen'"
      ],
      "text/markdown": [
       "'Model: crmrte ~ avgsen'"
      ],
      "text/plain": [
       "[1] \"Model: crmrte ~ avgsen\""
      ]
     },
     "metadata": {},
     "output_type": "display_data"
    },
    {
     "data": {
      "text/html": [
       "'Slope: 0.000131920111416843'"
      ],
      "text/latex": [
       "'Slope: 0.000131920111416843'"
      ],
      "text/markdown": [
       "'Slope: 0.000131920111416843'"
      ],
      "text/plain": [
       "[1] \"Slope: 0.000131920111416843\""
      ]
     },
     "metadata": {},
     "output_type": "display_data"
    },
    {
     "data": {
      "text/html": [
       "'Intercept: 0.032231764995464'"
      ],
      "text/latex": [
       "'Intercept: 0.032231764995464'"
      ],
      "text/markdown": [
       "'Intercept: 0.032231764995464'"
      ],
      "text/plain": [
       "[1] \"Intercept: 0.032231764995464\""
      ]
     },
     "metadata": {},
     "output_type": "display_data"
    },
    {
     "data": {
      "text/html": [
       "'R-squared: 0'"
      ],
      "text/latex": [
       "'R-squared: 0'"
      ],
      "text/markdown": [
       "'R-squared: 0'"
      ],
      "text/plain": [
       "[1] \"R-squared: 0\""
      ]
     },
     "metadata": {},
     "output_type": "display_data"
    },
    {
     "data": {
      "text/html": [
       "'Adjusted R-squared: -0.01'"
      ],
      "text/latex": [
       "'Adjusted R-squared: -0.01'"
      ],
      "text/markdown": [
       "'Adjusted R-squared: -0.01'"
      ],
      "text/plain": [
       "[1] \"Adjusted R-squared: -0.01\""
      ]
     },
     "metadata": {},
     "output_type": "display_data"
    },
    {
     "data": {
      "text/html": [
       "'Akaike Information Criterion: -454'"
      ],
      "text/latex": [
       "'Akaike Information Criterion: -454'"
      ],
      "text/markdown": [
       "'Akaike Information Criterion: -454'"
      ],
      "text/plain": [
       "[1] \"Akaike Information Criterion: -454\""
      ]
     },
     "metadata": {},
     "output_type": "display_data"
    },
    {
     "data": {
      "text/html": [
       "'###############################'"
      ],
      "text/latex": [
       "'\\#\\#\\#\\#\\#\\#\\#\\#\\#\\#\\#\\#\\#\\#\\#\\#\\#\\#\\#\\#\\#\\#\\#\\#\\#\\#\\#\\#\\#\\#\\#'"
      ],
      "text/markdown": [
       "'###############################'"
      ],
      "text/plain": [
       "[1] \"###############################\""
      ]
     },
     "metadata": {},
     "output_type": "display_data"
    },
    {
     "data": {
      "text/html": [
       "'Model: crmrte ~ prbarr'"
      ],
      "text/latex": [
       "'Model: crmrte \\textasciitilde{} prbarr'"
      ],
      "text/markdown": [
       "'Model: crmrte ~ prbarr'"
      ],
      "text/plain": [
       "[1] \"Model: crmrte ~ prbarr\""
      ]
     },
     "metadata": {},
     "output_type": "display_data"
    },
    {
     "data": {
      "text/html": [
       "'Slope: -0.0542278121865468'"
      ],
      "text/latex": [
       "'Slope: -0.0542278121865468'"
      ],
      "text/markdown": [
       "'Slope: -0.0542278121865468'"
      ],
      "text/plain": [
       "[1] \"Slope: -0.0542278121865468\""
      ]
     },
     "metadata": {},
     "output_type": "display_data"
    },
    {
     "data": {
      "text/html": [
       "'Intercept: 0.0495200097730725'"
      ],
      "text/latex": [
       "'Intercept: 0.0495200097730725'"
      ],
      "text/markdown": [
       "'Intercept: 0.0495200097730725'"
      ],
      "text/plain": [
       "[1] \"Intercept: 0.0495200097730725\""
      ]
     },
     "metadata": {},
     "output_type": "display_data"
    },
    {
     "data": {
      "text/html": [
       "'R-squared: 0.16'"
      ],
      "text/latex": [
       "'R-squared: 0.16'"
      ],
      "text/markdown": [
       "'R-squared: 0.16'"
      ],
      "text/plain": [
       "[1] \"R-squared: 0.16\""
      ]
     },
     "metadata": {},
     "output_type": "display_data"
    },
    {
     "data": {
      "text/html": [
       "'Adjusted R-squared: 0.15'"
      ],
      "text/latex": [
       "'Adjusted R-squared: 0.15'"
      ],
      "text/markdown": [
       "'Adjusted R-squared: 0.15'"
      ],
      "text/plain": [
       "[1] \"Adjusted R-squared: 0.15\""
      ]
     },
     "metadata": {},
     "output_type": "display_data"
    },
    {
     "data": {
      "text/html": [
       "'Akaike Information Criterion: -469'"
      ],
      "text/latex": [
       "'Akaike Information Criterion: -469'"
      ],
      "text/markdown": [
       "'Akaike Information Criterion: -469'"
      ],
      "text/plain": [
       "[1] \"Akaike Information Criterion: -469\""
      ]
     },
     "metadata": {},
     "output_type": "display_data"
    },
    {
     "data": {
      "text/html": [
       "'###############################'"
      ],
      "text/latex": [
       "'\\#\\#\\#\\#\\#\\#\\#\\#\\#\\#\\#\\#\\#\\#\\#\\#\\#\\#\\#\\#\\#\\#\\#\\#\\#\\#\\#\\#\\#\\#\\#'"
      ],
      "text/markdown": [
       "'###############################'"
      ],
      "text/plain": [
       "[1] \"###############################\""
      ]
     },
     "metadata": {},
     "output_type": "display_data"
    },
    {
     "data": {
      "text/html": [
       "'Model: crmrte ~ prbconv'"
      ],
      "text/latex": [
       "'Model: crmrte \\textasciitilde{} prbconv'"
      ],
      "text/markdown": [
       "'Model: crmrte ~ prbconv'"
      ],
      "text/plain": [
       "[1] \"Model: crmrte ~ prbconv\""
      ]
     },
     "metadata": {},
     "output_type": "display_data"
    },
    {
     "data": {
      "text/html": [
       "'Slope: -0.0205811570195115'"
      ],
      "text/latex": [
       "'Slope: -0.0205811570195115'"
      ],
      "text/markdown": [
       "'Slope: -0.0205811570195115'"
      ],
      "text/plain": [
       "[1] \"Slope: -0.0205811570195115\""
      ]
     },
     "metadata": {},
     "output_type": "display_data"
    },
    {
     "data": {
      "text/html": [
       "'Intercept: 0.044847282664666'"
      ],
      "text/latex": [
       "'Intercept: 0.044847282664666'"
      ],
      "text/markdown": [
       "'Intercept: 0.044847282664666'"
      ],
      "text/plain": [
       "[1] \"Intercept: 0.044847282664666\""
      ]
     },
     "metadata": {},
     "output_type": "display_data"
    },
    {
     "data": {
      "text/html": [
       "'R-squared: 0.15'"
      ],
      "text/latex": [
       "'R-squared: 0.15'"
      ],
      "text/markdown": [
       "'R-squared: 0.15'"
      ],
      "text/plain": [
       "[1] \"R-squared: 0.15\""
      ]
     },
     "metadata": {},
     "output_type": "display_data"
    },
    {
     "data": {
      "text/html": [
       "'Adjusted R-squared: 0.14'"
      ],
      "text/latex": [
       "'Adjusted R-squared: 0.14'"
      ],
      "text/markdown": [
       "'Adjusted R-squared: 0.14'"
      ],
      "text/plain": [
       "[1] \"Adjusted R-squared: 0.14\""
      ]
     },
     "metadata": {},
     "output_type": "display_data"
    },
    {
     "data": {
      "text/html": [
       "'Akaike Information Criterion: -469'"
      ],
      "text/latex": [
       "'Akaike Information Criterion: -469'"
      ],
      "text/markdown": [
       "'Akaike Information Criterion: -469'"
      ],
      "text/plain": [
       "[1] \"Akaike Information Criterion: -469\""
      ]
     },
     "metadata": {},
     "output_type": "display_data"
    },
    {
     "data": {
      "text/html": [
       "'###############################'"
      ],
      "text/latex": [
       "'\\#\\#\\#\\#\\#\\#\\#\\#\\#\\#\\#\\#\\#\\#\\#\\#\\#\\#\\#\\#\\#\\#\\#\\#\\#\\#\\#\\#\\#\\#\\#'"
      ],
      "text/markdown": [
       "'###############################'"
      ],
      "text/plain": [
       "[1] \"###############################\""
      ]
     },
     "metadata": {},
     "output_type": "display_data"
    },
    {
     "data": {
      "text/html": [
       "'Model: crmrte ~ prbpris'"
      ],
      "text/latex": [
       "'Model: crmrte \\textasciitilde{} prbpris'"
      ],
      "text/markdown": [
       "'Model: crmrte ~ prbpris'"
      ],
      "text/plain": [
       "[1] \"Model: crmrte ~ prbpris\""
      ]
     },
     "metadata": {},
     "output_type": "display_data"
    },
    {
     "data": {
      "text/html": [
       "'Slope: 0.0112364581232119'"
      ],
      "text/latex": [
       "'Slope: 0.0112364581232119'"
      ],
      "text/markdown": [
       "'Slope: 0.0112364581232119'"
      ],
      "text/plain": [
       "[1] \"Slope: 0.0112364581232119\""
      ]
     },
     "metadata": {},
     "output_type": "display_data"
    },
    {
     "data": {
      "text/html": [
       "'Intercept: 0.0288959467111836'"
      ],
      "text/latex": [
       "'Intercept: 0.0288959467111836'"
      ],
      "text/markdown": [
       "'Intercept: 0.0288959467111836'"
      ],
      "text/plain": [
       "[1] \"Intercept: 0.0288959467111836\""
      ]
     },
     "metadata": {},
     "output_type": "display_data"
    },
    {
     "data": {
      "text/html": [
       "'R-squared: 0'"
      ],
      "text/latex": [
       "'R-squared: 0'"
      ],
      "text/markdown": [
       "'R-squared: 0'"
      ],
      "text/plain": [
       "[1] \"R-squared: 0\""
      ]
     },
     "metadata": {},
     "output_type": "display_data"
    },
    {
     "data": {
      "text/html": [
       "'Adjusted R-squared: -0.01'"
      ],
      "text/latex": [
       "'Adjusted R-squared: -0.01'"
      ],
      "text/markdown": [
       "'Adjusted R-squared: -0.01'"
      ],
      "text/plain": [
       "[1] \"Adjusted R-squared: -0.01\""
      ]
     },
     "metadata": {},
     "output_type": "display_data"
    },
    {
     "data": {
      "text/html": [
       "'Akaike Information Criterion: -454'"
      ],
      "text/latex": [
       "'Akaike Information Criterion: -454'"
      ],
      "text/markdown": [
       "'Akaike Information Criterion: -454'"
      ],
      "text/plain": [
       "[1] \"Akaike Information Criterion: -454\""
      ]
     },
     "metadata": {},
     "output_type": "display_data"
    },
    {
     "data": {
      "text/html": [
       "'###############################'"
      ],
      "text/latex": [
       "'\\#\\#\\#\\#\\#\\#\\#\\#\\#\\#\\#\\#\\#\\#\\#\\#\\#\\#\\#\\#\\#\\#\\#\\#\\#\\#\\#\\#\\#\\#\\#'"
      ],
      "text/markdown": [
       "'###############################'"
      ],
      "text/plain": [
       "[1] \"###############################\""
      ]
     },
     "metadata": {},
     "output_type": "display_data"
    },
    {
     "data": {
      "text/html": [
       "'*******************************'"
      ],
      "text/latex": [
       "'*******************************'"
      ],
      "text/markdown": [
       "'*******************************'"
      ],
      "text/plain": [
       "[1] \"*******************************\""
      ]
     },
     "metadata": {},
     "output_type": "display_data"
    },
    {
     "data": {
      "text/html": [
       "'Model: log(crmrte) ~ prbarr'"
      ],
      "text/latex": [
       "'Model: log(crmrte) \\textasciitilde{} prbarr'"
      ],
      "text/markdown": [
       "'Model: log(crmrte) ~ prbarr'"
      ],
      "text/plain": [
       "[1] \"Model: log(crmrte) ~ prbarr\""
      ]
     },
     "metadata": {},
     "output_type": "display_data"
    },
    {
     "data": {
      "text/html": [
       "'Slope: -1.88437913757391'"
      ],
      "text/latex": [
       "'Slope: -1.88437913757391'"
      ],
      "text/markdown": [
       "'Slope: -1.88437913757391'"
      ],
      "text/plain": [
       "[1] \"Slope: -1.88437913757391\""
      ]
     },
     "metadata": {},
     "output_type": "display_data"
    },
    {
     "data": {
      "text/html": [
       "'Intercept: -2.98538790245543'"
      ],
      "text/latex": [
       "'Intercept: -2.98538790245543'"
      ],
      "text/markdown": [
       "'Intercept: -2.98538790245543'"
      ],
      "text/plain": [
       "[1] \"Intercept: -2.98538790245543\""
      ]
     },
     "metadata": {},
     "output_type": "display_data"
    },
    {
     "data": {
      "text/html": [
       "'R-squared: 0.22'"
      ],
      "text/latex": [
       "'R-squared: 0.22'"
      ],
      "text/markdown": [
       "'R-squared: 0.22'"
      ],
      "text/plain": [
       "[1] \"R-squared: 0.22\""
      ]
     },
     "metadata": {},
     "output_type": "display_data"
    },
    {
     "data": {
      "text/html": [
       "'Adjusted R-squared: 0.21'"
      ],
      "text/latex": [
       "'Adjusted R-squared: 0.21'"
      ],
      "text/markdown": [
       "'Adjusted R-squared: 0.21'"
      ],
      "text/plain": [
       "[1] \"Adjusted R-squared: 0.21\""
      ]
     },
     "metadata": {},
     "output_type": "display_data"
    },
    {
     "data": {
      "text/html": [
       "'Akaike Information Criterion: 130'"
      ],
      "text/latex": [
       "'Akaike Information Criterion: 130'"
      ],
      "text/markdown": [
       "'Akaike Information Criterion: 130'"
      ],
      "text/plain": [
       "[1] \"Akaike Information Criterion: 130\""
      ]
     },
     "metadata": {},
     "output_type": "display_data"
    },
    {
     "data": {
      "text/html": [
       "'###############################'"
      ],
      "text/latex": [
       "'\\#\\#\\#\\#\\#\\#\\#\\#\\#\\#\\#\\#\\#\\#\\#\\#\\#\\#\\#\\#\\#\\#\\#\\#\\#\\#\\#\\#\\#\\#\\#'"
      ],
      "text/markdown": [
       "'###############################'"
      ],
      "text/plain": [
       "[1] \"###############################\""
      ]
     },
     "metadata": {},
     "output_type": "display_data"
    },
    {
     "data": {
      "text/html": [
       "'Model: log(crmrte) ~ prbconv'"
      ],
      "text/latex": [
       "'Model: log(crmrte) \\textasciitilde{} prbconv'"
      ],
      "text/markdown": [
       "'Model: log(crmrte) ~ prbconv'"
      ],
      "text/plain": [
       "[1] \"Model: log(crmrte) ~ prbconv\""
      ]
     },
     "metadata": {},
     "output_type": "display_data"
    },
    {
     "data": {
      "text/html": [
       "'Slope: -0.692237110835607'"
      ],
      "text/latex": [
       "'Slope: -0.692237110835607'"
      ],
      "text/markdown": [
       "'Slope: -0.692237110835607'"
      ],
      "text/plain": [
       "[1] \"Slope: -0.692237110835607\""
      ]
     },
     "metadata": {},
     "output_type": "display_data"
    },
    {
     "data": {
      "text/html": [
       "'Intercept: -3.16040086782289'"
      ],
      "text/latex": [
       "'Intercept: -3.16040086782289'"
      ],
      "text/markdown": [
       "'Intercept: -3.16040086782289'"
      ],
      "text/plain": [
       "[1] \"Intercept: -3.16040086782289\""
      ]
     },
     "metadata": {},
     "output_type": "display_data"
    },
    {
     "data": {
      "text/html": [
       "'R-squared: 0.2'"
      ],
      "text/latex": [
       "'R-squared: 0.2'"
      ],
      "text/markdown": [
       "'R-squared: 0.2'"
      ],
      "text/plain": [
       "[1] \"R-squared: 0.2\""
      ]
     },
     "metadata": {},
     "output_type": "display_data"
    },
    {
     "data": {
      "text/html": [
       "'Adjusted R-squared: 0.19'"
      ],
      "text/latex": [
       "'Adjusted R-squared: 0.19'"
      ],
      "text/markdown": [
       "'Adjusted R-squared: 0.19'"
      ],
      "text/plain": [
       "[1] \"Adjusted R-squared: 0.19\""
      ]
     },
     "metadata": {},
     "output_type": "display_data"
    },
    {
     "data": {
      "text/html": [
       "'Akaike Information Criterion: 132'"
      ],
      "text/latex": [
       "'Akaike Information Criterion: 132'"
      ],
      "text/markdown": [
       "'Akaike Information Criterion: 132'"
      ],
      "text/plain": [
       "[1] \"Akaike Information Criterion: 132\""
      ]
     },
     "metadata": {},
     "output_type": "display_data"
    },
    {
     "data": {
      "text/html": [
       "'###############################'"
      ],
      "text/latex": [
       "'\\#\\#\\#\\#\\#\\#\\#\\#\\#\\#\\#\\#\\#\\#\\#\\#\\#\\#\\#\\#\\#\\#\\#\\#\\#\\#\\#\\#\\#\\#\\#'"
      ],
      "text/markdown": [
       "'###############################'"
      ],
      "text/plain": [
       "[1] \"###############################\""
      ]
     },
     "metadata": {},
     "output_type": "display_data"
    },
    {
     "data": {
      "text/html": [
       "'Model: log(crmrte) ~ prbpris'"
      ],
      "text/latex": [
       "'Model: log(crmrte) \\textasciitilde{} prbpris'"
      ],
      "text/markdown": [
       "'Model: log(crmrte) ~ prbpris'"
      ],
      "text/plain": [
       "[1] \"Model: log(crmrte) ~ prbpris\""
      ]
     },
     "metadata": {},
     "output_type": "display_data"
    },
    {
     "data": {
      "text/html": [
       "'Slope: 0.146040749709391'"
      ],
      "text/latex": [
       "'Slope: 0.146040749709391'"
      ],
      "text/markdown": [
       "'Slope: 0.146040749709391'"
      ],
      "text/plain": [
       "[1] \"Slope: 0.146040749709391\""
      ]
     },
     "metadata": {},
     "output_type": "display_data"
    },
    {
     "data": {
      "text/html": [
       "'Intercept: -3.60169542314763'"
      ],
      "text/latex": [
       "'Intercept: -3.60169542314763'"
      ],
      "text/markdown": [
       "'Intercept: -3.60169542314763'"
      ],
      "text/plain": [
       "[1] \"Intercept: -3.60169542314763\""
      ]
     },
     "metadata": {},
     "output_type": "display_data"
    },
    {
     "data": {
      "text/html": [
       "'R-squared: 0'"
      ],
      "text/latex": [
       "'R-squared: 0'"
      ],
      "text/markdown": [
       "'R-squared: 0'"
      ],
      "text/plain": [
       "[1] \"R-squared: 0\""
      ]
     },
     "metadata": {},
     "output_type": "display_data"
    },
    {
     "data": {
      "text/html": [
       "'Adjusted R-squared: -0.01'"
      ],
      "text/latex": [
       "'Adjusted R-squared: -0.01'"
      ],
      "text/markdown": [
       "'Adjusted R-squared: -0.01'"
      ],
      "text/plain": [
       "[1] \"Adjusted R-squared: -0.01\""
      ]
     },
     "metadata": {},
     "output_type": "display_data"
    },
    {
     "data": {
      "text/html": [
       "'Akaike Information Criterion: 152'"
      ],
      "text/latex": [
       "'Akaike Information Criterion: 152'"
      ],
      "text/markdown": [
       "'Akaike Information Criterion: 152'"
      ],
      "text/plain": [
       "[1] \"Akaike Information Criterion: 152\""
      ]
     },
     "metadata": {},
     "output_type": "display_data"
    },
    {
     "data": {
      "text/html": [
       "'###############################'"
      ],
      "text/latex": [
       "'\\#\\#\\#\\#\\#\\#\\#\\#\\#\\#\\#\\#\\#\\#\\#\\#\\#\\#\\#\\#\\#\\#\\#\\#\\#\\#\\#\\#\\#\\#\\#'"
      ],
      "text/markdown": [
       "'###############################'"
      ],
      "text/plain": [
       "[1] \"###############################\""
      ]
     },
     "metadata": {},
     "output_type": "display_data"
    },
    {
     "data": {
      "text/html": [
       "'*******************************'"
      ],
      "text/latex": [
       "'*******************************'"
      ],
      "text/markdown": [
       "'*******************************'"
      ],
      "text/plain": [
       "[1] \"*******************************\""
      ]
     },
     "metadata": {},
     "output_type": "display_data"
    },
    {
     "data": {
      "text/html": [
       "'Model: crmrte ~ log(prbarr)'"
      ],
      "text/latex": [
       "'Model: crmrte \\textasciitilde{} log(prbarr)'"
      ],
      "text/markdown": [
       "'Model: crmrte ~ log(prbarr)'"
      ],
      "text/plain": [
       "[1] \"Model: crmrte ~ log(prbarr)\""
      ]
     },
     "metadata": {},
     "output_type": "display_data"
    },
    {
     "data": {
      "text/html": [
       "'Slope: -0.0197279467744946'"
      ],
      "text/latex": [
       "'Slope: -0.0197279467744946'"
      ],
      "text/markdown": [
       "'Slope: -0.0197279467744946'"
      ],
      "text/plain": [
       "[1] \"Slope: -0.0197279467744946\""
      ]
     },
     "metadata": {},
     "output_type": "display_data"
    },
    {
     "data": {
      "text/html": [
       "'Intercept: 0.00777726364119923'"
      ],
      "text/latex": [
       "'Intercept: 0.00777726364119923'"
      ],
      "text/markdown": [
       "'Intercept: 0.00777726364119923'"
      ],
      "text/plain": [
       "[1] \"Intercept: 0.00777726364119923\""
      ]
     },
     "metadata": {},
     "output_type": "display_data"
    },
    {
     "data": {
      "text/html": [
       "'R-squared: 0.18'"
      ],
      "text/latex": [
       "'R-squared: 0.18'"
      ],
      "text/markdown": [
       "'R-squared: 0.18'"
      ],
      "text/plain": [
       "[1] \"R-squared: 0.18\""
      ]
     },
     "metadata": {},
     "output_type": "display_data"
    },
    {
     "data": {
      "text/html": [
       "'Adjusted R-squared: 0.17'"
      ],
      "text/latex": [
       "'Adjusted R-squared: 0.17'"
      ],
      "text/markdown": [
       "'Adjusted R-squared: 0.17'"
      ],
      "text/plain": [
       "[1] \"Adjusted R-squared: 0.17\""
      ]
     },
     "metadata": {},
     "output_type": "display_data"
    },
    {
     "data": {
      "text/html": [
       "'Akaike Information Criterion: -472'"
      ],
      "text/latex": [
       "'Akaike Information Criterion: -472'"
      ],
      "text/markdown": [
       "'Akaike Information Criterion: -472'"
      ],
      "text/plain": [
       "[1] \"Akaike Information Criterion: -472\""
      ]
     },
     "metadata": {},
     "output_type": "display_data"
    },
    {
     "data": {
      "text/html": [
       "'###############################'"
      ],
      "text/latex": [
       "'\\#\\#\\#\\#\\#\\#\\#\\#\\#\\#\\#\\#\\#\\#\\#\\#\\#\\#\\#\\#\\#\\#\\#\\#\\#\\#\\#\\#\\#\\#\\#'"
      ],
      "text/markdown": [
       "'###############################'"
      ],
      "text/plain": [
       "[1] \"###############################\""
      ]
     },
     "metadata": {},
     "output_type": "display_data"
    },
    {
     "data": {
      "text/html": [
       "'Model: crmrte ~ log(prbconv)'"
      ],
      "text/latex": [
       "'Model: crmrte \\textasciitilde{} log(prbconv)'"
      ],
      "text/markdown": [
       "'Model: crmrte ~ log(prbconv)'"
      ],
      "text/plain": [
       "[1] \"Model: crmrte ~ log(prbconv)\""
      ]
     },
     "metadata": {},
     "output_type": "display_data"
    },
    {
     "data": {
      "text/html": [
       "'Slope: -0.0122782889774807'"
      ],
      "text/latex": [
       "'Slope: -0.0122782889774807'"
      ],
      "text/markdown": [
       "'Slope: -0.0122782889774807'"
      ],
      "text/plain": [
       "[1] \"Slope: -0.0122782889774807\""
      ]
     },
     "metadata": {},
     "output_type": "display_data"
    },
    {
     "data": {
      "text/html": [
       "'Intercept: 0.0242333830935284'"
      ],
      "text/latex": [
       "'Intercept: 0.0242333830935284'"
      ],
      "text/markdown": [
       "'Intercept: 0.0242333830935284'"
      ],
      "text/plain": [
       "[1] \"Intercept: 0.0242333830935284\""
      ]
     },
     "metadata": {},
     "output_type": "display_data"
    },
    {
     "data": {
      "text/html": [
       "'R-squared: 0.13'"
      ],
      "text/latex": [
       "'R-squared: 0.13'"
      ],
      "text/markdown": [
       "'R-squared: 0.13'"
      ],
      "text/plain": [
       "[1] \"R-squared: 0.13\""
      ]
     },
     "metadata": {},
     "output_type": "display_data"
    },
    {
     "data": {
      "text/html": [
       "'Adjusted R-squared: 0.12'"
      ],
      "text/latex": [
       "'Adjusted R-squared: 0.12'"
      ],
      "text/markdown": [
       "'Adjusted R-squared: 0.12'"
      ],
      "text/plain": [
       "[1] \"Adjusted R-squared: 0.12\""
      ]
     },
     "metadata": {},
     "output_type": "display_data"
    },
    {
     "data": {
      "text/html": [
       "'Akaike Information Criterion: -467'"
      ],
      "text/latex": [
       "'Akaike Information Criterion: -467'"
      ],
      "text/markdown": [
       "'Akaike Information Criterion: -467'"
      ],
      "text/plain": [
       "[1] \"Akaike Information Criterion: -467\""
      ]
     },
     "metadata": {},
     "output_type": "display_data"
    },
    {
     "data": {
      "text/html": [
       "'###############################'"
      ],
      "text/latex": [
       "'\\#\\#\\#\\#\\#\\#\\#\\#\\#\\#\\#\\#\\#\\#\\#\\#\\#\\#\\#\\#\\#\\#\\#\\#\\#\\#\\#\\#\\#\\#\\#'"
      ],
      "text/markdown": [
       "'###############################'"
      ],
      "text/plain": [
       "[1] \"###############################\""
      ]
     },
     "metadata": {},
     "output_type": "display_data"
    },
    {
     "data": {
      "text/html": [
       "'Model: crmrte ~ log(prbpris)'"
      ],
      "text/latex": [
       "'Model: crmrte \\textasciitilde{} log(prbpris)'"
      ],
      "text/markdown": [
       "'Model: crmrte ~ log(prbpris)'"
      ],
      "text/plain": [
       "[1] \"Model: crmrte ~ log(prbpris)\""
      ]
     },
     "metadata": {},
     "output_type": "display_data"
    },
    {
     "data": {
      "text/html": [
       "'Slope: 0.00724414447447469'"
      ],
      "text/latex": [
       "'Slope: 0.00724414447447469'"
      ],
      "text/markdown": [
       "'Slope: 0.00724414447447469'"
      ],
      "text/plain": [
       "[1] \"Slope: 0.00724414447447469\""
      ]
     },
     "metadata": {},
     "output_type": "display_data"
    },
    {
     "data": {
      "text/html": [
       "'Intercept: 0.0401182723402814'"
      ],
      "text/latex": [
       "'Intercept: 0.0401182723402814'"
      ],
      "text/markdown": [
       "'Intercept: 0.0401182723402814'"
      ],
      "text/plain": [
       "[1] \"Intercept: 0.0401182723402814\""
      ]
     },
     "metadata": {},
     "output_type": "display_data"
    },
    {
     "data": {
      "text/html": [
       "'R-squared: 0.01'"
      ],
      "text/latex": [
       "'R-squared: 0.01'"
      ],
      "text/markdown": [
       "'R-squared: 0.01'"
      ],
      "text/plain": [
       "[1] \"R-squared: 0.01\""
      ]
     },
     "metadata": {},
     "output_type": "display_data"
    },
    {
     "data": {
      "text/html": [
       "'Adjusted R-squared: 0'"
      ],
      "text/latex": [
       "'Adjusted R-squared: 0'"
      ],
      "text/markdown": [
       "'Adjusted R-squared: 0'"
      ],
      "text/plain": [
       "[1] \"Adjusted R-squared: 0\""
      ]
     },
     "metadata": {},
     "output_type": "display_data"
    },
    {
     "data": {
      "text/html": [
       "'Akaike Information Criterion: -455'"
      ],
      "text/latex": [
       "'Akaike Information Criterion: -455'"
      ],
      "text/markdown": [
       "'Akaike Information Criterion: -455'"
      ],
      "text/plain": [
       "[1] \"Akaike Information Criterion: -455\""
      ]
     },
     "metadata": {},
     "output_type": "display_data"
    },
    {
     "data": {
      "text/html": [
       "'###############################'"
      ],
      "text/latex": [
       "'\\#\\#\\#\\#\\#\\#\\#\\#\\#\\#\\#\\#\\#\\#\\#\\#\\#\\#\\#\\#\\#\\#\\#\\#\\#\\#\\#\\#\\#\\#\\#'"
      ],
      "text/markdown": [
       "'###############################'"
      ],
      "text/plain": [
       "[1] \"###############################\""
      ]
     },
     "metadata": {},
     "output_type": "display_data"
    },
    {
     "data": {
      "text/html": [
       "'*******************************'"
      ],
      "text/latex": [
       "'*******************************'"
      ],
      "text/markdown": [
       "'*******************************'"
      ],
      "text/plain": [
       "[1] \"*******************************\""
      ]
     },
     "metadata": {},
     "output_type": "display_data"
    },
    {
     "data": {
      "text/html": [
       "'Model: log(crmrte) ~ log(prbarr)'"
      ],
      "text/latex": [
       "'Model: log(crmrte) \\textasciitilde{} log(prbarr)'"
      ],
      "text/markdown": [
       "'Model: log(crmrte) ~ log(prbarr)'"
      ],
      "text/plain": [
       "[1] \"Model: log(crmrte) ~ log(prbarr)\""
      ]
     },
     "metadata": {},
     "output_type": "display_data"
    },
    {
     "data": {
      "text/html": [
       "'Slope: -0.593594251597862'"
      ],
      "text/latex": [
       "'Slope: -0.593594251597862'"
      ],
      "text/markdown": [
       "'Slope: -0.593594251597862'"
      ],
      "text/plain": [
       "[1] \"Slope: -0.593594251597862\""
      ]
     },
     "metadata": {},
     "output_type": "display_data"
    },
    {
     "data": {
      "text/html": [
       "'Intercept: -4.31599745594332'"
      ],
      "text/latex": [
       "'Intercept: -4.31599745594332'"
      ],
      "text/markdown": [
       "'Intercept: -4.31599745594332'"
      ],
      "text/plain": [
       "[1] \"Intercept: -4.31599745594332\""
      ]
     },
     "metadata": {},
     "output_type": "display_data"
    },
    {
     "data": {
      "text/html": [
       "'R-squared: 0.19'"
      ],
      "text/latex": [
       "'R-squared: 0.19'"
      ],
      "text/markdown": [
       "'R-squared: 0.19'"
      ],
      "text/plain": [
       "[1] \"R-squared: 0.19\""
      ]
     },
     "metadata": {},
     "output_type": "display_data"
    },
    {
     "data": {
      "text/html": [
       "'Adjusted R-squared: 0.18'"
      ],
      "text/latex": [
       "'Adjusted R-squared: 0.18'"
      ],
      "text/markdown": [
       "'Adjusted R-squared: 0.18'"
      ],
      "text/plain": [
       "[1] \"Adjusted R-squared: 0.18\""
      ]
     },
     "metadata": {},
     "output_type": "display_data"
    },
    {
     "data": {
      "text/html": [
       "'Akaike Information Criterion: 133'"
      ],
      "text/latex": [
       "'Akaike Information Criterion: 133'"
      ],
      "text/markdown": [
       "'Akaike Information Criterion: 133'"
      ],
      "text/plain": [
       "[1] \"Akaike Information Criterion: 133\""
      ]
     },
     "metadata": {},
     "output_type": "display_data"
    },
    {
     "data": {
      "text/html": [
       "'###############################'"
      ],
      "text/latex": [
       "'\\#\\#\\#\\#\\#\\#\\#\\#\\#\\#\\#\\#\\#\\#\\#\\#\\#\\#\\#\\#\\#\\#\\#\\#\\#\\#\\#\\#\\#\\#\\#'"
      ],
      "text/markdown": [
       "'###############################'"
      ],
      "text/plain": [
       "[1] \"###############################\""
      ]
     },
     "metadata": {},
     "output_type": "display_data"
    },
    {
     "data": {
      "text/html": [
       "'Model: log(crmrte) ~ log(prbconv)'"
      ],
      "text/latex": [
       "'Model: log(crmrte) \\textasciitilde{} log(prbconv)'"
      ],
      "text/markdown": [
       "'Model: log(crmrte) ~ log(prbconv)'"
      ],
      "text/plain": [
       "[1] \"Model: log(crmrte) ~ log(prbconv)\""
      ]
     },
     "metadata": {},
     "output_type": "display_data"
    },
    {
     "data": {
      "text/html": [
       "'Slope: -0.365789095055738'"
      ],
      "text/latex": [
       "'Slope: -0.365789095055738'"
      ],
      "text/markdown": [
       "'Slope: -0.365789095055738'"
      ],
      "text/plain": [
       "[1] \"Slope: -0.365789095055738\""
      ]
     },
     "metadata": {},
     "output_type": "display_data"
    },
    {
     "data": {
      "text/html": [
       "'Intercept: -3.81808976625326'"
      ],
      "text/latex": [
       "'Intercept: -3.81808976625326'"
      ],
      "text/markdown": [
       "'Intercept: -3.81808976625326'"
      ],
      "text/plain": [
       "[1] \"Intercept: -3.81808976625326\""
      ]
     },
     "metadata": {},
     "output_type": "display_data"
    },
    {
     "data": {
      "text/html": [
       "'R-squared: 0.14'"
      ],
      "text/latex": [
       "'R-squared: 0.14'"
      ],
      "text/markdown": [
       "'R-squared: 0.14'"
      ],
      "text/plain": [
       "[1] \"R-squared: 0.14\""
      ]
     },
     "metadata": {},
     "output_type": "display_data"
    },
    {
     "data": {
      "text/html": [
       "'Adjusted R-squared: 0.13'"
      ],
      "text/latex": [
       "'Adjusted R-squared: 0.13'"
      ],
      "text/markdown": [
       "'Adjusted R-squared: 0.13'"
      ],
      "text/plain": [
       "[1] \"Adjusted R-squared: 0.13\""
      ]
     },
     "metadata": {},
     "output_type": "display_data"
    },
    {
     "data": {
      "text/html": [
       "'Akaike Information Criterion: 139'"
      ],
      "text/latex": [
       "'Akaike Information Criterion: 139'"
      ],
      "text/markdown": [
       "'Akaike Information Criterion: 139'"
      ],
      "text/plain": [
       "[1] \"Akaike Information Criterion: 139\""
      ]
     },
     "metadata": {},
     "output_type": "display_data"
    },
    {
     "data": {
      "text/html": [
       "'###############################'"
      ],
      "text/latex": [
       "'\\#\\#\\#\\#\\#\\#\\#\\#\\#\\#\\#\\#\\#\\#\\#\\#\\#\\#\\#\\#\\#\\#\\#\\#\\#\\#\\#\\#\\#\\#\\#'"
      ],
      "text/markdown": [
       "'###############################'"
      ],
      "text/plain": [
       "[1] \"###############################\""
      ]
     },
     "metadata": {},
     "output_type": "display_data"
    },
    {
     "data": {
      "text/html": [
       "'Model: log(crmrte) ~ log(prbpris)'"
      ],
      "text/latex": [
       "'Model: log(crmrte) \\textasciitilde{} log(prbpris)'"
      ],
      "text/markdown": [
       "'Model: log(crmrte) ~ log(prbpris)'"
      ],
      "text/plain": [
       "[1] \"Model: log(crmrte) ~ log(prbpris)\""
      ]
     },
     "metadata": {},
     "output_type": "display_data"
    },
    {
     "data": {
      "text/html": [
       "'Slope: 0.171997088103733'"
      ],
      "text/latex": [
       "'Slope: 0.171997088103733'"
      ],
      "text/markdown": [
       "'Slope: 0.171997088103733'"
      ],
      "text/plain": [
       "[1] \"Slope: 0.171997088103733\""
      ]
     },
     "metadata": {},
     "output_type": "display_data"
    },
    {
     "data": {
      "text/html": [
       "'Intercept: -3.38482592065875'"
      ],
      "text/latex": [
       "'Intercept: -3.38482592065875'"
      ],
      "text/markdown": [
       "'Intercept: -3.38482592065875'"
      ],
      "text/plain": [
       "[1] \"Intercept: -3.38482592065875\""
      ]
     },
     "metadata": {},
     "output_type": "display_data"
    },
    {
     "data": {
      "text/html": [
       "'R-squared: 0'"
      ],
      "text/latex": [
       "'R-squared: 0'"
      ],
      "text/markdown": [
       "'R-squared: 0'"
      ],
      "text/plain": [
       "[1] \"R-squared: 0\""
      ]
     },
     "metadata": {},
     "output_type": "display_data"
    },
    {
     "data": {
      "text/html": [
       "'Adjusted R-squared: -0.01'"
      ],
      "text/latex": [
       "'Adjusted R-squared: -0.01'"
      ],
      "text/markdown": [
       "'Adjusted R-squared: -0.01'"
      ],
      "text/plain": [
       "[1] \"Adjusted R-squared: -0.01\""
      ]
     },
     "metadata": {},
     "output_type": "display_data"
    },
    {
     "data": {
      "text/html": [
       "'Akaike Information Criterion: 152'"
      ],
      "text/latex": [
       "'Akaike Information Criterion: 152'"
      ],
      "text/markdown": [
       "'Akaike Information Criterion: 152'"
      ],
      "text/plain": [
       "[1] \"Akaike Information Criterion: 152\""
      ]
     },
     "metadata": {},
     "output_type": "display_data"
    },
    {
     "data": {
      "text/html": [
       "'###############################'"
      ],
      "text/latex": [
       "'\\#\\#\\#\\#\\#\\#\\#\\#\\#\\#\\#\\#\\#\\#\\#\\#\\#\\#\\#\\#\\#\\#\\#\\#\\#\\#\\#\\#\\#\\#\\#'"
      ],
      "text/markdown": [
       "'###############################'"
      ],
      "text/plain": [
       "[1] \"###############################\""
      ]
     },
     "metadata": {},
     "output_type": "display_data"
    },
    {
     "data": {
      "text/html": [
       "'*******************************'"
      ],
      "text/latex": [
       "'*******************************'"
      ],
      "text/markdown": [
       "'*******************************'"
      ],
      "text/plain": [
       "[1] \"*******************************\""
      ]
     },
     "metadata": {},
     "output_type": "display_data"
    },
    {
     "data": {
      "text/html": [
       "'Model: crmrte ~ prbarr + prbconv + prbpris'"
      ],
      "text/latex": [
       "'Model: crmrte \\textasciitilde{} prbarr + prbconv + prbpris'"
      ],
      "text/markdown": [
       "'Model: crmrte ~ prbarr + prbconv + prbpris'"
      ],
      "text/plain": [
       "[1] \"Model: crmrte ~ prbarr + prbconv + prbpris\""
      ]
     },
     "metadata": {},
     "output_type": "display_data"
    },
    {
     "data": {
      "text/html": [
       "'Slope: -0.0578199439560816'"
      ],
      "text/latex": [
       "'Slope: -0.0578199439560816'"
      ],
      "text/markdown": [
       "'Slope: -0.0578199439560816'"
      ],
      "text/plain": [
       "[1] \"Slope: -0.0578199439560816\""
      ]
     },
     "metadata": {},
     "output_type": "display_data"
    },
    {
     "data": {
      "text/html": [
       "'Intercept: 0.0557261670847096'"
      ],
      "text/latex": [
       "'Intercept: 0.0557261670847096'"
      ],
      "text/markdown": [
       "'Intercept: 0.0557261670847096'"
      ],
      "text/plain": [
       "[1] \"Intercept: 0.0557261670847096\""
      ]
     },
     "metadata": {},
     "output_type": "display_data"
    },
    {
     "data": {
      "text/html": [
       "'R-squared: 0.33'"
      ],
      "text/latex": [
       "'R-squared: 0.33'"
      ],
      "text/markdown": [
       "'R-squared: 0.33'"
      ],
      "text/plain": [
       "[1] \"R-squared: 0.33\""
      ]
     },
     "metadata": {},
     "output_type": "display_data"
    },
    {
     "data": {
      "text/html": [
       "'Adjusted R-squared: 0.3'"
      ],
      "text/latex": [
       "'Adjusted R-squared: 0.3'"
      ],
      "text/markdown": [
       "'Adjusted R-squared: 0.3'"
      ],
      "text/plain": [
       "[1] \"Adjusted R-squared: 0.3\""
      ]
     },
     "metadata": {},
     "output_type": "display_data"
    },
    {
     "data": {
      "text/html": [
       "'Akaike Information Criterion: -486'"
      ],
      "text/latex": [
       "'Akaike Information Criterion: -486'"
      ],
      "text/markdown": [
       "'Akaike Information Criterion: -486'"
      ],
      "text/plain": [
       "[1] \"Akaike Information Criterion: -486\""
      ]
     },
     "metadata": {},
     "output_type": "display_data"
    },
    {
     "data": {
      "text/html": [
       "'###############################'"
      ],
      "text/latex": [
       "'\\#\\#\\#\\#\\#\\#\\#\\#\\#\\#\\#\\#\\#\\#\\#\\#\\#\\#\\#\\#\\#\\#\\#\\#\\#\\#\\#\\#\\#\\#\\#'"
      ],
      "text/markdown": [
       "'###############################'"
      ],
      "text/plain": [
       "[1] \"###############################\""
      ]
     },
     "metadata": {},
     "output_type": "display_data"
    },
    {
     "data": {
      "text/html": [
       "'Model: log(crmrte) ~ prbarr + prbconv + prbpris'"
      ],
      "text/latex": [
       "'Model: log(crmrte) \\textasciitilde{} prbarr + prbconv + prbpris'"
      ],
      "text/markdown": [
       "'Model: log(crmrte) ~ prbarr + prbconv + prbpris'"
      ],
      "text/plain": [
       "[1] \"Model: log(crmrte) ~ prbarr + prbconv + prbpris\""
      ]
     },
     "metadata": {},
     "output_type": "display_data"
    },
    {
     "data": {
      "text/html": [
       "'Slope: -1.99917324525741'"
      ],
      "text/latex": [
       "'Slope: -1.99917324525741'"
      ],
      "text/markdown": [
       "'Slope: -1.99917324525741'"
      ],
      "text/plain": [
       "[1] \"Slope: -1.99917324525741\""
      ]
     },
     "metadata": {},
     "output_type": "display_data"
    },
    {
     "data": {
      "text/html": [
       "'Intercept: -2.68462972417512'"
      ],
      "text/latex": [
       "'Intercept: -2.68462972417512'"
      ],
      "text/markdown": [
       "'Intercept: -2.68462972417512'"
      ],
      "text/plain": [
       "[1] \"Intercept: -2.68462972417512\""
      ]
     },
     "metadata": {},
     "output_type": "display_data"
    },
    {
     "data": {
      "text/html": [
       "'R-squared: 0.45'"
      ],
      "text/latex": [
       "'R-squared: 0.45'"
      ],
      "text/markdown": [
       "'R-squared: 0.45'"
      ],
      "text/plain": [
       "[1] \"R-squared: 0.45\""
      ]
     },
     "metadata": {},
     "output_type": "display_data"
    },
    {
     "data": {
      "text/html": [
       "'Adjusted R-squared: 0.43'"
      ],
      "text/latex": [
       "'Adjusted R-squared: 0.43'"
      ],
      "text/markdown": [
       "'Adjusted R-squared: 0.43'"
      ],
      "text/plain": [
       "[1] \"Adjusted R-squared: 0.43\""
      ]
     },
     "metadata": {},
     "output_type": "display_data"
    },
    {
     "data": {
      "text/html": [
       "'Akaike Information Criterion: 102'"
      ],
      "text/latex": [
       "'Akaike Information Criterion: 102'"
      ],
      "text/markdown": [
       "'Akaike Information Criterion: 102'"
      ],
      "text/plain": [
       "[1] \"Akaike Information Criterion: 102\""
      ]
     },
     "metadata": {},
     "output_type": "display_data"
    },
    {
     "data": {
      "text/html": [
       "'###############################'"
      ],
      "text/latex": [
       "'\\#\\#\\#\\#\\#\\#\\#\\#\\#\\#\\#\\#\\#\\#\\#\\#\\#\\#\\#\\#\\#\\#\\#\\#\\#\\#\\#\\#\\#\\#\\#'"
      ],
      "text/markdown": [
       "'###############################'"
      ],
      "text/plain": [
       "[1] \"###############################\""
      ]
     },
     "metadata": {},
     "output_type": "display_data"
    },
    {
     "data": {
      "text/html": [
       "'Model: log(crmrte) ~ log(prbarr) + log(prbconv) + log(prbpris)'"
      ],
      "text/latex": [
       "'Model: log(crmrte) \\textasciitilde{} log(prbarr) + log(prbconv) + log(prbpris)'"
      ],
      "text/markdown": [
       "'Model: log(crmrte) ~ log(prbarr) + log(prbconv) + log(prbpris)'"
      ],
      "text/plain": [
       "[1] \"Model: log(crmrte) ~ log(prbarr) + log(prbconv) + log(prbpris)\""
      ]
     },
     "metadata": {},
     "output_type": "display_data"
    },
    {
     "data": {
      "text/html": [
       "'Slope: -0.723804208413992'"
      ],
      "text/latex": [
       "'Slope: -0.723804208413992'"
      ],
      "text/markdown": [
       "'Slope: -0.723804208413992'"
      ],
      "text/plain": [
       "[1] \"Slope: -0.723804208413992\""
      ]
     },
     "metadata": {},
     "output_type": "display_data"
    },
    {
     "data": {
      "text/html": [
       "'Intercept: -4.70767874893467'"
      ],
      "text/latex": [
       "'Intercept: -4.70767874893467'"
      ],
      "text/markdown": [
       "'Intercept: -4.70767874893467'"
      ],
      "text/plain": [
       "[1] \"Intercept: -4.70767874893467\""
      ]
     },
     "metadata": {},
     "output_type": "display_data"
    },
    {
     "data": {
      "text/html": [
       "'R-squared: 0.41'"
      ],
      "text/latex": [
       "'R-squared: 0.41'"
      ],
      "text/markdown": [
       "'R-squared: 0.41'"
      ],
      "text/plain": [
       "[1] \"R-squared: 0.41\""
      ]
     },
     "metadata": {},
     "output_type": "display_data"
    },
    {
     "data": {
      "text/html": [
       "'Adjusted R-squared: 0.39'"
      ],
      "text/latex": [
       "'Adjusted R-squared: 0.39'"
      ],
      "text/markdown": [
       "'Adjusted R-squared: 0.39'"
      ],
      "text/plain": [
       "[1] \"Adjusted R-squared: 0.39\""
      ]
     },
     "metadata": {},
     "output_type": "display_data"
    },
    {
     "data": {
      "text/html": [
       "'Akaike Information Criterion: 108'"
      ],
      "text/latex": [
       "'Akaike Information Criterion: 108'"
      ],
      "text/markdown": [
       "'Akaike Information Criterion: 108'"
      ],
      "text/plain": [
       "[1] \"Akaike Information Criterion: 108\""
      ]
     },
     "metadata": {},
     "output_type": "display_data"
    },
    {
     "data": {
      "text/html": [
       "'###############################'"
      ],
      "text/latex": [
       "'\\#\\#\\#\\#\\#\\#\\#\\#\\#\\#\\#\\#\\#\\#\\#\\#\\#\\#\\#\\#\\#\\#\\#\\#\\#\\#\\#\\#\\#\\#\\#'"
      ],
      "text/markdown": [
       "'###############################'"
      ],
      "text/plain": [
       "[1] \"###############################\""
      ]
     },
     "metadata": {},
     "output_type": "display_data"
    }
   ],
   "source": [
    "# Testing different regressions\n",
    "\n",
    "model1 <- lm(crmrte ~ avgsen, data=clean)\n",
    "paste(\"Model:\", summary(model1)$call[2])\n",
    "paste(\"Slope:\", model1$coef[2])\n",
    "paste(\"Intercept:\", model1$coef[1])\n",
    "paste(\"R-squared:\", round(summary(model1)$r.squared, 2))\n",
    "paste(\"Adjusted R-squared:\", round(summary(model1)$adj.r.squared, 2))\n",
    "paste(\"Akaike Information Criterion:\", round(AIC(model1), 0))\n",
    "paste(\"###############################\")\n",
    "\n",
    "model1 <- lm(crmrte ~ prbarr, data=clean)\n",
    "paste(\"Model:\", summary(model1)$call[2])\n",
    "paste(\"Slope:\", model1$coef[2])\n",
    "paste(\"Intercept:\", model1$coef[1])\n",
    "paste(\"R-squared:\", round(summary(model1)$r.squared, 2))\n",
    "paste(\"Adjusted R-squared:\", round(summary(model1)$adj.r.squared, 2))\n",
    "paste(\"Akaike Information Criterion:\", round(AIC(model1), 0))\n",
    "paste(\"###############################\")\n",
    "\n",
    "model1 <- lm(crmrte ~ prbconv, data=clean)\n",
    "paste(\"Model:\", summary(model1)$call[2])\n",
    "paste(\"Slope:\", model1$coef[2])\n",
    "paste(\"Intercept:\", model1$coef[1])\n",
    "paste(\"R-squared:\", round(summary(model1)$r.squared, 2))\n",
    "paste(\"Adjusted R-squared:\", round(summary(model1)$adj.r.squared, 2))\n",
    "paste(\"Akaike Information Criterion:\", round(AIC(model1), 0))\n",
    "paste(\"###############################\")\n",
    "\n",
    "model1 <- lm(crmrte ~ prbpris, data=clean)\n",
    "paste(\"Model:\", summary(model1)$call[2])\n",
    "paste(\"Slope:\", model1$coef[2])\n",
    "paste(\"Intercept:\", model1$coef[1])\n",
    "paste(\"R-squared:\", round(summary(model1)$r.squared, 2))\n",
    "paste(\"Adjusted R-squared:\", round(summary(model1)$adj.r.squared, 2))\n",
    "paste(\"Akaike Information Criterion:\", round(AIC(model1), 0))\n",
    "paste(\"###############################\")\n",
    "paste(\"*******************************\")\n",
    "\n",
    "model1 <- lm(log(crmrte) ~ prbarr, data=clean)\n",
    "paste(\"Model:\", summary(model1)$call[2])\n",
    "paste(\"Slope:\", model1$coef[2])\n",
    "paste(\"Intercept:\", model1$coef[1])\n",
    "paste(\"R-squared:\", round(summary(model1)$r.squared, 2))\n",
    "paste(\"Adjusted R-squared:\", round(summary(model1)$adj.r.squared, 2))\n",
    "paste(\"Akaike Information Criterion:\", round(AIC(model1), 0))\n",
    "paste(\"###############################\")\n",
    "\n",
    "model1 <- lm(log(crmrte) ~ prbconv, data=clean)\n",
    "paste(\"Model:\", summary(model1)$call[2])\n",
    "paste(\"Slope:\", model1$coef[2])\n",
    "paste(\"Intercept:\", model1$coef[1])\n",
    "paste(\"R-squared:\", round(summary(model1)$r.squared, 2))\n",
    "paste(\"Adjusted R-squared:\", round(summary(model1)$adj.r.squared, 2))\n",
    "paste(\"Akaike Information Criterion:\", round(AIC(model1), 0))\n",
    "paste(\"###############################\")\n",
    "\n",
    "model1 <- lm(log(crmrte) ~ prbpris, data=clean)\n",
    "paste(\"Model:\", summary(model1)$call[2])\n",
    "paste(\"Slope:\", model1$coef[2])\n",
    "paste(\"Intercept:\", model1$coef[1])\n",
    "paste(\"R-squared:\", round(summary(model1)$r.squared, 2))\n",
    "paste(\"Adjusted R-squared:\", round(summary(model1)$adj.r.squared, 2))\n",
    "paste(\"Akaike Information Criterion:\", round(AIC(model1), 0))\n",
    "paste(\"###############################\")\n",
    "paste(\"*******************************\")\n",
    "\n",
    "model1 <- lm(crmrte ~ log(prbarr), data=clean)\n",
    "paste(\"Model:\", summary(model1)$call[2])\n",
    "paste(\"Slope:\", model1$coef[2])\n",
    "paste(\"Intercept:\", model1$coef[1])\n",
    "paste(\"R-squared:\", round(summary(model1)$r.squared, 2))\n",
    "paste(\"Adjusted R-squared:\", round(summary(model1)$adj.r.squared, 2))\n",
    "paste(\"Akaike Information Criterion:\", round(AIC(model1), 0))\n",
    "paste(\"###############################\")\n",
    "\n",
    "model1 <- lm(crmrte ~ log(prbconv), data=clean)\n",
    "paste(\"Model:\", summary(model1)$call[2])\n",
    "paste(\"Slope:\", model1$coef[2])\n",
    "paste(\"Intercept:\", model1$coef[1])\n",
    "paste(\"R-squared:\", round(summary(model1)$r.squared, 2))\n",
    "paste(\"Adjusted R-squared:\", round(summary(model1)$adj.r.squared, 2))\n",
    "paste(\"Akaike Information Criterion:\", round(AIC(model1), 0))\n",
    "paste(\"###############################\")\n",
    "\n",
    "model1 <- lm(crmrte ~ log(prbpris), data=clean)\n",
    "paste(\"Model:\", summary(model1)$call[2])\n",
    "paste(\"Slope:\", model1$coef[2])\n",
    "paste(\"Intercept:\", model1$coef[1])\n",
    "paste(\"R-squared:\", round(summary(model1)$r.squared, 2))\n",
    "paste(\"Adjusted R-squared:\", round(summary(model1)$adj.r.squared, 2))\n",
    "paste(\"Akaike Information Criterion:\", round(AIC(model1), 0))\n",
    "paste(\"###############################\")\n",
    "paste(\"*******************************\")\n",
    "\n",
    "model1 <- lm(log(crmrte) ~ log(prbarr), data=clean)\n",
    "paste(\"Model:\", summary(model1)$call[2])\n",
    "paste(\"Slope:\", model1$coef[2])\n",
    "paste(\"Intercept:\", model1$coef[1])\n",
    "paste(\"R-squared:\", round(summary(model1)$r.squared, 2))\n",
    "paste(\"Adjusted R-squared:\", round(summary(model1)$adj.r.squared, 2))\n",
    "paste(\"Akaike Information Criterion:\", round(AIC(model1), 0))\n",
    "paste(\"###############################\")\n",
    "\n",
    "model1 <- lm(log(crmrte) ~ log(prbconv), data=clean)\n",
    "paste(\"Model:\", summary(model1)$call[2])\n",
    "paste(\"Slope:\", model1$coef[2])\n",
    "paste(\"Intercept:\", model1$coef[1])\n",
    "paste(\"R-squared:\", round(summary(model1)$r.squared, 2))\n",
    "paste(\"Adjusted R-squared:\", round(summary(model1)$adj.r.squared, 2))\n",
    "paste(\"Akaike Information Criterion:\", round(AIC(model1), 0))\n",
    "paste(\"###############################\")\n",
    "\n",
    "model1 <- lm(log(crmrte) ~ log(prbpris), data=clean)\n",
    "paste(\"Model:\", summary(model1)$call[2])\n",
    "paste(\"Slope:\", model1$coef[2])\n",
    "paste(\"Intercept:\", model1$coef[1])\n",
    "paste(\"R-squared:\", round(summary(model1)$r.squared, 2))\n",
    "paste(\"Adjusted R-squared:\", round(summary(model1)$adj.r.squared, 2))\n",
    "paste(\"Akaike Information Criterion:\", round(AIC(model1), 0))\n",
    "paste(\"###############################\")\n",
    "paste(\"*******************************\")\n",
    "\n",
    "model1 <- lm(crmrte ~ prbarr + prbconv + prbpris, data=clean)\n",
    "paste(\"Model:\", summary(model1)$call[2])\n",
    "paste(\"Slope:\", model1$coef[2])\n",
    "paste(\"Intercept:\", model1$coef[1])\n",
    "paste(\"R-squared:\", round(summary(model1)$r.squared, 2))\n",
    "paste(\"Adjusted R-squared:\", round(summary(model1)$adj.r.squared, 2))\n",
    "paste(\"Akaike Information Criterion:\", round(AIC(model1), 0))\n",
    "paste(\"###############################\")\n",
    "\n",
    "model1 <- lm(log(crmrte) ~ prbarr + prbconv + prbpris, data=clean)\n",
    "paste(\"Model:\", summary(model1)$call[2])\n",
    "paste(\"Slope:\", model1$coef[2])\n",
    "paste(\"Intercept:\", model1$coef[1])\n",
    "paste(\"R-squared:\", round(summary(model1)$r.squared, 2))\n",
    "paste(\"Adjusted R-squared:\", round(summary(model1)$adj.r.squared, 2))\n",
    "paste(\"Akaike Information Criterion:\", round(AIC(model1), 0))\n",
    "paste(\"###############################\")\n",
    "\n",
    "model1 <- lm(log(crmrte) ~ log(prbarr) + log(prbconv) + log(prbpris), data=clean)\n",
    "paste(\"Model:\", summary(model1)$call[2])\n",
    "paste(\"Slope:\", model1$coef[2])\n",
    "paste(\"Intercept:\", model1$coef[1])\n",
    "paste(\"R-squared:\", round(summary(model1)$r.squared, 2))\n",
    "paste(\"Adjusted R-squared:\", round(summary(model1)$adj.r.squared, 2))\n",
    "paste(\"Akaike Information Criterion:\", round(AIC(model1), 0))\n",
    "paste(\"###############################\")"
   ]
  },
  {
   "cell_type": "code",
   "execution_count": 14,
   "metadata": {
    "scrolled": true
   },
   "outputs": [
    {
     "data": {
      "image/png": "[encoded data removed]",
      "text/plain": [
       "plot without title"
      ]
     },
     "metadata": {},
     "output_type": "display_data"
    },
    {
     "data": {
      "image/png": "[encoded data removed]",
      "text/plain": [
       "plot without title"
      ]
     },
     "metadata": {},
     "output_type": "display_data"
    },
    {
     "data": {
      "image/png": "[encoded data removed]",
      "text/plain": [
       "plot without title"
      ]
     },
     "metadata": {},
     "output_type": "display_data"
    },
    {
     "data": {
      "image/png": "[encoded data removed]",
      "text/plain": [
       "plot without title"
      ]
     },
     "metadata": {},
     "output_type": "display_data"
    },
    {
     "data": {
      "image/png": "[encoded data removed]",
      "text/plain": [
       "plot without title"
      ]
     },
     "metadata": {},
     "output_type": "display_data"
    },
    {
     "data": {
      "image/png": "[encoded data removed]",
      "text/plain": [
       "plot without title"
      ]
     },
     "metadata": {},
     "output_type": "display_data"
    }
   ],
   "source": [
    "plot(clean$prbarr, log(clean$crmrte))\n",
    "plot(clean$prbconv, log(clean$crmrte))\n",
    "plot(clean$prbpris, log(clean$crmrte))\n",
    "\n",
    "plot(clean$prbarr, clean$crmrte)\n",
    "plot(clean$prbconv, clean$crmrte)\n",
    "plot(clean$prbpris, clean$crmrte)"
   ]
  },
  {
   "cell_type": "markdown",
   "metadata": {},
   "source": [
    "## Model 2: Density and Police per Capita\n",
    "\n",
    "Having established our base model, we sought to introduce covariates that might (i) control for confounding effects and (ii) improve the model's fit to the underlying data without reducing its parsimony. In this vein, we chose to investigate the how incorporating $density$ and $polpc$ would affect our model. Population densities in North Carolina vary across almost six orders of magnitude, and counties with different population densities likely face different challenges with respect to crime, which is reflected in its positive correlation with $\\log{crmrte}$. Moreover, $density$ is negatively correlated with both $\\log{prbarr}$ and $\\log{prbconv}$, but positively correlated with $\\log{prbpris}$; thus, omitting this variable could introduce unaccounted bias in our base model. Given that we observed $\\log{prbarr}$ is correlated with $\\log{crmrte}$, we naturally wondered if having a higher concentration of police officers is also correlated with a lower $crmrte$. Curiously, $polpc$ is not strongly correlated with $\\log{prbarr}$, $\\log{prbpris}$, or $density$, but it is correlated with $log{prbconv}$. Thus, we also added $polpc$ to our model to control for confounding effects on $\\log{prbconv}$.\n",
    "\n",
    "Next, we explored transformations that might improve our model's fit to these data. To start, we plotted $\\log{crmrte}$ (i.e., the dependent variable in our base model) against $density$ individually. We regressed $log{crmrte}$ on $density$ and obtained a relationship that explained the model well ($R^2 = 0.40$). We observed that the plot of $\\log{crmrte}$ against density appears to follow a linear trend when $density < 2$, but that when $density \\geq 2$, the trend has a smaller slope. We added a quadratic term ($density^2$) to account for the diminishing slope; doing so yielded a better fit than regressing $log{crmrte}$ on $density$ alone ($R^2 = 0.4553$). Additionally, the Akaike Information Criterion (AIC) also dropped from 106 to 100 when we added the quadratic term; this indicates that the model with the quadratic term is also more parsimonious. Consequently, we chose to regress on both $density$ and $density^2$ in our second model.\n",
    "\n",
    "We also explored transformations that improved the linearity of regressing $\\log{crmrte}$ against $polpc$ ($R^2=0$). Plotting $\\log{crmrte}$ against $polpc$ gives a linear plot for most points expect for an extreme outlier, county #51. This point is highly leveraged and highly influences a regression of $\\log{crmrte}$ against $polpc$ (Cook's distance > 1). Nevertheless, as we discussed in our EDA above, we could not justify excluding this data point from our analysis. We log-transformed $polpc$ to ameliorate its influence. This appeared to be at least partially successful, as regressing $log{crmrte}$ on $log{polpc}$ produced a model with a better fit ($R^2 = 0.08$) and lower AIC (AIC=145 vs. AIC=152 for the untranformed variable). Consequently, we chose to regress on $log{polpc}$ in our second model.\n",
    "\n",
    "Having fully specified our second model, we calculated the least-squares fit below.\n",
    "\n",
    "$$ \\log crmrte = -4.71 - 0.72*\\log prbarr - 0.47*\\log prbconv + 0.15*\\log prbpris + 0.31*density - 0.024*density^2 + 0.18*\\log(polpc)$$\n",
    "\n",
    "Including $density^2$, $density$, and $\\log{polpc}$ as regressors drove the effects of each of our key variables closer to zero. The absolute values of the coefficients associated with $\\log{prbarr}$ and $\\log{prbconv}$ are reduced by 34% and 32%, respectively, relative to their values in our base model; this suggests that they are somewhat biased in model 1 by the exclusion of at least one of the coregressors we included in model 2. Notably, the coefficient for $\\log{prbpris}$ dropped to almost zero (a 71% reduction from its value in model 1). \n",
    "\n",
    "Our second model also indicates that $\\log{crmrte}$ rises in association with $density$ up until $density \\approx 6.5$. This model fits our data well, given that only point has $density > 6$. Additionally, our results indicate that a 1% increase in $polpc$ is associated with a 0.17% increase in $crmrte$.\n",
    "\n",
    "We still cannot claim any causal effects exist in these relationships. Notwithstanding the effect that the outlier in $polpc$ exhibits on our regression, increasing $polpc$ could be correlated with a higher $crmrte$ because locales with higher crime rates have added to their police forces in an attempt to reduce crime. Conversely, lower values of $polpc$ could be correlated with lower $crmrte$ because other factors (e.g., income education) serve to keep crime rates low. \n",
    "\n",
    "We speculate that these results indicate that $\\beta_{\\log{prbarr}}$ and $\\beta_{\\log{prbconv}}$ are still probably of practical significance, since modest percentage increases in either variable are associated with relatively substantial reductions in crime rate. Conversely, $\\beta_{\\log{prbpris}}$ is of even less practical value than we argued above, since the magnitude of its effect even is smaller in this model. $\\beta_density$ and $\\beta_density^2$ in total tell us that increasing $density$ is associated with higher $crmrte$, but only to a point. Finally, $\\beta_polpc$ is perhaps of less practical significance, since it indicates that holding everything else constant, even a 10% increase in police per capita is associated with only a 1.7% increase in crime rate."
   ]
  },
  {
   "cell_type": "code",
   "execution_count": 31,
   "metadata": {},
   "outputs": [
    {
     "data": {
      "text/plain": [
       "\n",
       "Call:\n",
       "lm(formula = log(crmrte) ~ log(prbarr) + log(prbconv) + log(prbpris) + \n",
       "    density + I(density^2) + log(polpc), data = clean)\n",
       "\n",
       "Residuals:\n",
       "     Min       1Q   Median       3Q      Max \n",
       "-0.94783 -0.24367 -0.00679  0.25451  0.70666 \n",
       "\n",
       "Coefficients:\n",
       "             Estimate Std. Error t value Pr(>|t|)    \n",
       "(Intercept)  -3.56272    0.75063  -4.746 8.54e-06 ***\n",
       "log(prbarr)  -0.47510    0.10994  -4.322 4.27e-05 ***\n",
       "log(prbconv) -0.32054    0.07440  -4.308 4.49e-05 ***\n",
       "log(prbpris)  0.04345    0.17366   0.250 0.803048    \n",
       "density       0.30523    0.08282   3.685 0.000406 ***\n",
       "I(density^2) -0.02355    0.01069  -2.202 0.030442 *  \n",
       "log(polpc)    0.17605    0.11054   1.593 0.115043    \n",
       "---\n",
       "Signif. codes:  0 ‘***’ 0.001 ‘**’ 0.01 ‘*’ 0.05 ‘.’ 0.1 ‘ ’ 1\n",
       "\n",
       "Residual standard error: 0.3605 on 83 degrees of freedom\n",
       "Multiple R-squared:  0.5974,\tAdjusted R-squared:  0.5683 \n",
       "F-statistic: 20.53 on 6 and 83 DF,  p-value: 1.363e-14\n"
      ]
     },
     "metadata": {},
     "output_type": "display_data"
    },
    {
     "data": {
      "text/html": [
       "'Model: log(crmrte) ~ log(prbarr) + log(prbconv) + log(prbpris) + density + I(density^2) + log(polpc)'"
      ],
      "text/latex": [
       "'Model: log(crmrte) \\textasciitilde{} log(prbarr) + log(prbconv) + log(prbpris) + density + I(density\\textasciicircum{}2) + log(polpc)'"
      ],
      "text/markdown": [
       "'Model: log(crmrte) ~ log(prbarr) + log(prbconv) + log(prbpris) + density + I(density^2) + log(polpc)'"
      ],
      "text/plain": [
       "[1] \"Model: log(crmrte) ~ log(prbarr) + log(prbconv) + log(prbpris) + density + I(density^2) + log(polpc)\""
      ]
     },
     "metadata": {},
     "output_type": "display_data"
    },
    {
     "data": {
      "text/html": [
       "'Slope (log(prbarr)): -0.475104717131527'"
      ],
      "text/latex": [
       "'Slope (log(prbarr)): -0.475104717131527'"
      ],
      "text/markdown": [
       "'Slope (log(prbarr)): -0.475104717131527'"
      ],
      "text/plain": [
       "[1] \"Slope (log(prbarr)): -0.475104717131527\""
      ]
     },
     "metadata": {},
     "output_type": "display_data"
    },
    {
     "data": {
      "text/html": [
       "'Slope (log(prbconv)): -0.320540040432556'"
      ],
      "text/latex": [
       "'Slope (log(prbconv)): -0.320540040432556'"
      ],
      "text/markdown": [
       "'Slope (log(prbconv)): -0.320540040432556'"
      ],
      "text/plain": [
       "[1] \"Slope (log(prbconv)): -0.320540040432556\""
      ]
     },
     "metadata": {},
     "output_type": "display_data"
    },
    {
     "data": {
      "text/html": [
       "'Slope (log(prbpris)): 0.0434491616893309'"
      ],
      "text/latex": [
       "'Slope (log(prbpris)): 0.0434491616893309'"
      ],
      "text/markdown": [
       "'Slope (log(prbpris)): 0.0434491616893309'"
      ],
      "text/plain": [
       "[1] \"Slope (log(prbpris)): 0.0434491616893309\""
      ]
     },
     "metadata": {},
     "output_type": "display_data"
    },
    {
     "data": {
      "text/html": [
       "'Slope (density): 0.30522508833471'"
      ],
      "text/latex": [
       "'Slope (density): 0.30522508833471'"
      ],
      "text/markdown": [
       "'Slope (density): 0.30522508833471'"
      ],
      "text/plain": [
       "[1] \"Slope (density): 0.30522508833471\""
      ]
     },
     "metadata": {},
     "output_type": "display_data"
    },
    {
     "data": {
      "text/html": [
       "'Slope (density)^2: -0.0235465393418515'"
      ],
      "text/latex": [
       "'Slope (density)\\textasciicircum{}2: -0.0235465393418515'"
      ],
      "text/markdown": [
       "'Slope (density)^2: -0.0235465393418515'"
      ],
      "text/plain": [
       "[1] \"Slope (density)^2: -0.0235465393418515\""
      ]
     },
     "metadata": {},
     "output_type": "display_data"
    },
    {
     "data": {
      "text/html": [
       "'Slope (log(polpc)): 0.176050717156577'"
      ],
      "text/latex": [
       "'Slope (log(polpc)): 0.176050717156577'"
      ],
      "text/markdown": [
       "'Slope (log(polpc)): 0.176050717156577'"
      ],
      "text/plain": [
       "[1] \"Slope (log(polpc)): 0.176050717156577\""
      ]
     },
     "metadata": {},
     "output_type": "display_data"
    },
    {
     "data": {
      "text/html": [
       "'Intercept: -3.56272277809021'"
      ],
      "text/latex": [
       "'Intercept: -3.56272277809021'"
      ],
      "text/markdown": [
       "'Intercept: -3.56272277809021'"
      ],
      "text/plain": [
       "[1] \"Intercept: -3.56272277809021\""
      ]
     },
     "metadata": {},
     "output_type": "display_data"
    },
    {
     "data": {
      "text/html": [
       "'R-squared: 0.6'"
      ],
      "text/latex": [
       "'R-squared: 0.6'"
      ],
      "text/markdown": [
       "'R-squared: 0.6'"
      ],
      "text/plain": [
       "[1] \"R-squared: 0.6\""
      ]
     },
     "metadata": {},
     "output_type": "display_data"
    },
    {
     "data": {
      "text/html": [
       "'Adjusted R-squared: 0.57'"
      ],
      "text/latex": [
       "'Adjusted R-squared: 0.57'"
      ],
      "text/markdown": [
       "'Adjusted R-squared: 0.57'"
      ],
      "text/plain": [
       "[1] \"Adjusted R-squared: 0.57\""
      ]
     },
     "metadata": {},
     "output_type": "display_data"
    },
    {
     "data": {
      "text/html": [
       "'Akaike Information Criterion: 80'"
      ],
      "text/latex": [
       "'Akaike Information Criterion: 80'"
      ],
      "text/markdown": [
       "'Akaike Information Criterion: 80'"
      ],
      "text/plain": [
       "[1] \"Akaike Information Criterion: 80\""
      ]
     },
     "metadata": {},
     "output_type": "display_data"
    },
    {
     "data": {
      "text/html": [
       "'###############################'"
      ],
      "text/latex": [
       "'\\#\\#\\#\\#\\#\\#\\#\\#\\#\\#\\#\\#\\#\\#\\#\\#\\#\\#\\#\\#\\#\\#\\#\\#\\#\\#\\#\\#\\#\\#\\#'"
      ],
      "text/markdown": [
       "'###############################'"
      ],
      "text/plain": [
       "[1] \"###############################\""
      ]
     },
     "metadata": {},
     "output_type": "display_data"
    }
   ],
   "source": [
    "model2 <- lm(log(crmrte) ~ log(prbarr) + log(prbconv) + log(prbpris)\n",
    "             + density + I(density^2) + log(polpc), data=clean)\n",
    "summary(model2)\n",
    "paste(\"Model:\", summary(model2)$call[2])\n",
    "paste(\"Slope (log(prbarr)):\", model2$coef[2])\n",
    "paste(\"Slope (log(prbconv)):\", model2$coef[3])\n",
    "paste(\"Slope (log(prbpris)):\", model2$coef[4])\n",
    "paste(\"Slope (density):\", model2$coef[5])\n",
    "paste(\"Slope (density)^2:\", model2$coef[6])\n",
    "paste(\"Slope (log(polpc)):\", model2$coef[7])\n",
    "paste(\"Intercept:\", model2$coef[1])\n",
    "paste(\"R-squared:\", round(summary(model2)$r.squared, 2))\n",
    "paste(\"Adjusted R-squared:\", round(summary(model2)$adj.r.squared, 2))\n",
    "paste(\"Akaike Information Criterion:\", round(AIC(model2), 0))\n",
    "paste(\"###############################\")"
   ]
  },
  {
   "cell_type": "code",
   "execution_count": 21,
   "metadata": {
    "scrolled": false
   },
   "outputs": [
    {
     "data": {
      "text/plain": [
       "\n",
       "Call:\n",
       "lm(formula = log(crmrte) ~ density, data = clean)\n",
       "\n",
       "Residuals:\n",
       "    Min      1Q  Median      3Q     Max \n",
       "-1.4156 -0.2694 -0.0014  0.2470  1.2146 \n",
       "\n",
       "Coefficients:\n",
       "            Estimate Std. Error t value Pr(>|t|)    \n",
       "(Intercept) -3.86949    0.06208 -62.334  < 2e-16 ***\n",
       "density      0.22830    0.02976   7.671 2.17e-11 ***\n",
       "---\n",
       "Signif. codes:  0 ‘***’ 0.001 ‘**’ 0.01 ‘*’ 0.05 ‘.’ 0.1 ‘ ’ 1\n",
       "\n",
       "Residual standard error: 0.4272 on 88 degrees of freedom\n",
       "Multiple R-squared:  0.4007,\tAdjusted R-squared:  0.3939 \n",
       "F-statistic: 58.84 on 1 and 88 DF,  p-value: 2.167e-11\n"
      ]
     },
     "metadata": {},
     "output_type": "display_data"
    },
    {
     "data": {
      "text/html": [
       "'Model: log(crmrte) ~ density'"
      ],
      "text/latex": [
       "'Model: log(crmrte) \\textasciitilde{} density'"
      ],
      "text/markdown": [
       "'Model: log(crmrte) ~ density'"
      ],
      "text/plain": [
       "[1] \"Model: log(crmrte) ~ density\""
      ]
     },
     "metadata": {},
     "output_type": "display_data"
    },
    {
     "data": {
      "text/html": [
       "'Slope: 0.228298061464111'"
      ],
      "text/latex": [
       "'Slope: 0.228298061464111'"
      ],
      "text/markdown": [
       "'Slope: 0.228298061464111'"
      ],
      "text/plain": [
       "[1] \"Slope: 0.228298061464111\""
      ]
     },
     "metadata": {},
     "output_type": "display_data"
    },
    {
     "data": {
      "text/html": [
       "'Intercept: -3.86948808100506'"
      ],
      "text/latex": [
       "'Intercept: -3.86948808100506'"
      ],
      "text/markdown": [
       "'Intercept: -3.86948808100506'"
      ],
      "text/plain": [
       "[1] \"Intercept: -3.86948808100506\""
      ]
     },
     "metadata": {},
     "output_type": "display_data"
    },
    {
     "data": {
      "text/html": [
       "'R-squared: 0.4'"
      ],
      "text/latex": [
       "'R-squared: 0.4'"
      ],
      "text/markdown": [
       "'R-squared: 0.4'"
      ],
      "text/plain": [
       "[1] \"R-squared: 0.4\""
      ]
     },
     "metadata": {},
     "output_type": "display_data"
    },
    {
     "data": {
      "text/html": [
       "'Adjusted R-squared: 0.39'"
      ],
      "text/latex": [
       "'Adjusted R-squared: 0.39'"
      ],
      "text/markdown": [
       "'Adjusted R-squared: 0.39'"
      ],
      "text/plain": [
       "[1] \"Adjusted R-squared: 0.39\""
      ]
     },
     "metadata": {},
     "output_type": "display_data"
    },
    {
     "data": {
      "text/html": [
       "'Akaike Information Criterion: 106'"
      ],
      "text/latex": [
       "'Akaike Information Criterion: 106'"
      ],
      "text/markdown": [
       "'Akaike Information Criterion: 106'"
      ],
      "text/plain": [
       "[1] \"Akaike Information Criterion: 106\""
      ]
     },
     "metadata": {},
     "output_type": "display_data"
    },
    {
     "data": {
      "text/html": [
       "'###############################'"
      ],
      "text/latex": [
       "'\\#\\#\\#\\#\\#\\#\\#\\#\\#\\#\\#\\#\\#\\#\\#\\#\\#\\#\\#\\#\\#\\#\\#\\#\\#\\#\\#\\#\\#\\#\\#'"
      ],
      "text/markdown": [
       "'###############################'"
      ],
      "text/plain": [
       "[1] \"###############################\""
      ]
     },
     "metadata": {},
     "output_type": "display_data"
    },
    {
     "data": {
      "text/plain": [
       "\n",
       "Call:\n",
       "lm(formula = log(crmrte) ~ polpc, data = clean)\n",
       "\n",
       "Residuals:\n",
       "     Min       1Q   Median       3Q      Max \n",
       "-1.69759 -0.33749  0.03606  0.32803  1.22573 \n",
       "\n",
       "Coefficients:\n",
       "            Estimate Std. Error t value Pr(>|t|)    \n",
       "(Intercept)  -3.5516     0.1164 -30.513   <2e-16 ***\n",
       "polpc         5.7624    59.0291   0.098    0.922    \n",
       "---\n",
       "Signif. codes:  0 ‘***’ 0.001 ‘**’ 0.01 ‘*’ 0.05 ‘.’ 0.1 ‘ ’ 1\n",
       "\n",
       "Residual standard error: 0.5518 on 88 degrees of freedom\n",
       "Multiple R-squared:  0.0001083,\tAdjusted R-squared:  -0.01125 \n",
       "F-statistic: 0.00953 on 1 and 88 DF,  p-value: 0.9225\n"
      ]
     },
     "metadata": {},
     "output_type": "display_data"
    },
    {
     "data": {
      "text/html": [
       "'Model: log(crmrte) ~ polpc'"
      ],
      "text/latex": [
       "'Model: log(crmrte) \\textasciitilde{} polpc'"
      ],
      "text/markdown": [
       "'Model: log(crmrte) ~ polpc'"
      ],
      "text/plain": [
       "[1] \"Model: log(crmrte) ~ polpc\""
      ]
     },
     "metadata": {},
     "output_type": "display_data"
    },
    {
     "data": {
      "text/html": [
       "'Slope: 5.76243862475338'"
      ],
      "text/latex": [
       "'Slope: 5.76243862475338'"
      ],
      "text/markdown": [
       "'Slope: 5.76243862475338'"
      ],
      "text/plain": [
       "[1] \"Slope: 5.76243862475338\""
      ]
     },
     "metadata": {},
     "output_type": "display_data"
    },
    {
     "data": {
      "text/html": [
       "'Intercept: -3.55156944182949'"
      ],
      "text/latex": [
       "'Intercept: -3.55156944182949'"
      ],
      "text/markdown": [
       "'Intercept: -3.55156944182949'"
      ],
      "text/plain": [
       "[1] \"Intercept: -3.55156944182949\""
      ]
     },
     "metadata": {},
     "output_type": "display_data"
    },
    {
     "data": {
      "text/html": [
       "'R-squared: 0'"
      ],
      "text/latex": [
       "'R-squared: 0'"
      ],
      "text/markdown": [
       "'R-squared: 0'"
      ],
      "text/plain": [
       "[1] \"R-squared: 0\""
      ]
     },
     "metadata": {},
     "output_type": "display_data"
    },
    {
     "data": {
      "text/html": [
       "'Adjusted R-squared: -0.01'"
      ],
      "text/latex": [
       "'Adjusted R-squared: -0.01'"
      ],
      "text/markdown": [
       "'Adjusted R-squared: -0.01'"
      ],
      "text/plain": [
       "[1] \"Adjusted R-squared: -0.01\""
      ]
     },
     "metadata": {},
     "output_type": "display_data"
    },
    {
     "data": {
      "text/html": [
       "'Akaike Information Criterion: 152'"
      ],
      "text/latex": [
       "'Akaike Information Criterion: 152'"
      ],
      "text/markdown": [
       "'Akaike Information Criterion: 152'"
      ],
      "text/plain": [
       "[1] \"Akaike Information Criterion: 152\""
      ]
     },
     "metadata": {},
     "output_type": "display_data"
    },
    {
     "data": {
      "text/html": [
       "'###############################'"
      ],
      "text/latex": [
       "'\\#\\#\\#\\#\\#\\#\\#\\#\\#\\#\\#\\#\\#\\#\\#\\#\\#\\#\\#\\#\\#\\#\\#\\#\\#\\#\\#\\#\\#\\#\\#'"
      ],
      "text/markdown": [
       "'###############################'"
      ],
      "text/plain": [
       "[1] \"###############################\""
      ]
     },
     "metadata": {},
     "output_type": "display_data"
    },
    {
     "data": {
      "text/html": [
       "'*******************************'"
      ],
      "text/latex": [
       "'*******************************'"
      ],
      "text/markdown": [
       "'*******************************'"
      ],
      "text/plain": [
       "[1] \"*******************************\""
      ]
     },
     "metadata": {},
     "output_type": "display_data"
    },
    {
     "data": {
      "text/plain": [
       "\n",
       "Call:\n",
       "lm(formula = log(crmrte) ~ log(density), data = clean)\n",
       "\n",
       "Residuals:\n",
       "     Min       1Q   Median       3Q      Max \n",
       "-1.48435 -0.25684  0.02248  0.31547  1.38622 \n",
       "\n",
       "Coefficients:\n",
       "             Estimate Std. Error t value Pr(>|t|)    \n",
       "(Intercept)  -3.52480    0.05069 -69.539  < 2e-16 ***\n",
       "log(density)  0.19722    0.03704   5.325 7.66e-07 ***\n",
       "---\n",
       "Signif. codes:  0 ‘***’ 0.001 ‘**’ 0.01 ‘*’ 0.05 ‘.’ 0.1 ‘ ’ 1\n",
       "\n",
       "Residual standard error: 0.4799 on 88 degrees of freedom\n",
       "Multiple R-squared:  0.2437,\tAdjusted R-squared:  0.2351 \n",
       "F-statistic: 28.35 on 1 and 88 DF,  p-value: 7.658e-07\n"
      ]
     },
     "metadata": {},
     "output_type": "display_data"
    },
    {
     "data": {
      "text/html": [
       "'Model: log(crmrte) ~ log(density)'"
      ],
      "text/latex": [
       "'Model: log(crmrte) \\textasciitilde{} log(density)'"
      ],
      "text/markdown": [
       "'Model: log(crmrte) ~ log(density)'"
      ],
      "text/plain": [
       "[1] \"Model: log(crmrte) ~ log(density)\""
      ]
     },
     "metadata": {},
     "output_type": "display_data"
    },
    {
     "data": {
      "text/html": [
       "'Slope: 0.197222782828707'"
      ],
      "text/latex": [
       "'Slope: 0.197222782828707'"
      ],
      "text/markdown": [
       "'Slope: 0.197222782828707'"
      ],
      "text/plain": [
       "[1] \"Slope: 0.197222782828707\""
      ]
     },
     "metadata": {},
     "output_type": "display_data"
    },
    {
     "data": {
      "text/html": [
       "'Intercept: -3.52480450822417'"
      ],
      "text/latex": [
       "'Intercept: -3.52480450822417'"
      ],
      "text/markdown": [
       "'Intercept: -3.52480450822417'"
      ],
      "text/plain": [
       "[1] \"Intercept: -3.52480450822417\""
      ]
     },
     "metadata": {},
     "output_type": "display_data"
    },
    {
     "data": {
      "text/html": [
       "'R-squared: 0.24'"
      ],
      "text/latex": [
       "'R-squared: 0.24'"
      ],
      "text/markdown": [
       "'R-squared: 0.24'"
      ],
      "text/plain": [
       "[1] \"R-squared: 0.24\""
      ]
     },
     "metadata": {},
     "output_type": "display_data"
    },
    {
     "data": {
      "text/html": [
       "'Adjusted R-squared: 0.24'"
      ],
      "text/latex": [
       "'Adjusted R-squared: 0.24'"
      ],
      "text/markdown": [
       "'Adjusted R-squared: 0.24'"
      ],
      "text/plain": [
       "[1] \"Adjusted R-squared: 0.24\""
      ]
     },
     "metadata": {},
     "output_type": "display_data"
    },
    {
     "data": {
      "text/html": [
       "'Akaike Information Criterion: 127'"
      ],
      "text/latex": [
       "'Akaike Information Criterion: 127'"
      ],
      "text/markdown": [
       "'Akaike Information Criterion: 127'"
      ],
      "text/plain": [
       "[1] \"Akaike Information Criterion: 127\""
      ]
     },
     "metadata": {},
     "output_type": "display_data"
    },
    {
     "data": {
      "text/html": [
       "'###############################'"
      ],
      "text/latex": [
       "'\\#\\#\\#\\#\\#\\#\\#\\#\\#\\#\\#\\#\\#\\#\\#\\#\\#\\#\\#\\#\\#\\#\\#\\#\\#\\#\\#\\#\\#\\#\\#'"
      ],
      "text/markdown": [
       "'###############################'"
      ],
      "text/plain": [
       "[1] \"###############################\""
      ]
     },
     "metadata": {},
     "output_type": "display_data"
    },
    {
     "data": {
      "text/plain": [
       "\n",
       "Call:\n",
       "lm(formula = log(crmrte) ~ log(polpc), data = clean)\n",
       "\n",
       "Residuals:\n",
       "     Min       1Q   Median       3Q      Max \n",
       "-2.38705 -0.28951  0.01975  0.30731  1.08133 \n",
       "\n",
       "Coefficients:\n",
       "            Estimate Std. Error t value Pr(>|t|)   \n",
       "(Intercept)  -0.8472     0.9694  -0.874  0.38454   \n",
       "log(polpc)    0.4172     0.1498   2.784  0.00657 **\n",
       "---\n",
       "Signif. codes:  0 ‘***’ 0.001 ‘**’ 0.01 ‘*’ 0.05 ‘.’ 0.1 ‘ ’ 1\n",
       "\n",
       "Residual standard error: 0.529 on 88 degrees of freedom\n",
       "Multiple R-squared:  0.08096,\tAdjusted R-squared:  0.07052 \n",
       "F-statistic: 7.752 on 1 and 88 DF,  p-value: 0.006566\n"
      ]
     },
     "metadata": {},
     "output_type": "display_data"
    },
    {
     "data": {
      "text/html": [
       "'Model: log(crmrte) ~ log(polpc)'"
      ],
      "text/latex": [
       "'Model: log(crmrte) \\textasciitilde{} log(polpc)'"
      ],
      "text/markdown": [
       "'Model: log(crmrte) ~ log(polpc)'"
      ],
      "text/plain": [
       "[1] \"Model: log(crmrte) ~ log(polpc)\""
      ]
     },
     "metadata": {},
     "output_type": "display_data"
    },
    {
     "data": {
      "text/html": [
       "'Slope: 0.417214374552627'"
      ],
      "text/latex": [
       "'Slope: 0.417214374552627'"
      ],
      "text/markdown": [
       "'Slope: 0.417214374552627'"
      ],
      "text/plain": [
       "[1] \"Slope: 0.417214374552627\""
      ]
     },
     "metadata": {},
     "output_type": "display_data"
    },
    {
     "data": {
      "text/html": [
       "'Intercept: -0.847152512192017'"
      ],
      "text/latex": [
       "'Intercept: -0.847152512192017'"
      ],
      "text/markdown": [
       "'Intercept: -0.847152512192017'"
      ],
      "text/plain": [
       "[1] \"Intercept: -0.847152512192017\""
      ]
     },
     "metadata": {},
     "output_type": "display_data"
    },
    {
     "data": {
      "text/html": [
       "'R-squared: 0.08'"
      ],
      "text/latex": [
       "'R-squared: 0.08'"
      ],
      "text/markdown": [
       "'R-squared: 0.08'"
      ],
      "text/plain": [
       "[1] \"R-squared: 0.08\""
      ]
     },
     "metadata": {},
     "output_type": "display_data"
    },
    {
     "data": {
      "text/html": [
       "'Adjusted R-squared: 0.07'"
      ],
      "text/latex": [
       "'Adjusted R-squared: 0.07'"
      ],
      "text/markdown": [
       "'Adjusted R-squared: 0.07'"
      ],
      "text/plain": [
       "[1] \"Adjusted R-squared: 0.07\""
      ]
     },
     "metadata": {},
     "output_type": "display_data"
    },
    {
     "data": {
      "text/html": [
       "'Akaike Information Criterion: 145'"
      ],
      "text/latex": [
       "'Akaike Information Criterion: 145'"
      ],
      "text/markdown": [
       "'Akaike Information Criterion: 145'"
      ],
      "text/plain": [
       "[1] \"Akaike Information Criterion: 145\""
      ]
     },
     "metadata": {},
     "output_type": "display_data"
    },
    {
     "data": {
      "text/html": [
       "'###############################'"
      ],
      "text/latex": [
       "'\\#\\#\\#\\#\\#\\#\\#\\#\\#\\#\\#\\#\\#\\#\\#\\#\\#\\#\\#\\#\\#\\#\\#\\#\\#\\#\\#\\#\\#\\#\\#'"
      ],
      "text/markdown": [
       "'###############################'"
      ],
      "text/plain": [
       "[1] \"###############################\""
      ]
     },
     "metadata": {},
     "output_type": "display_data"
    },
    {
     "data": {
      "text/plain": [
       "\n",
       "Call:\n",
       "lm(formula = log(crmrte) ~ log(avgsen), data = clean)\n",
       "\n",
       "Residuals:\n",
       "     Min       1Q   Median       3Q      Max \n",
       "-1.69187 -0.34763  0.03478  0.32673  1.24099 \n",
       "\n",
       "Coefficients:\n",
       "            Estimate Std. Error t value Pr(>|t|)    \n",
       "(Intercept) -3.64400    0.46907  -7.769 1.37e-11 ***\n",
       "log(avgsen)  0.04583    0.20859   0.220    0.827    \n",
       "---\n",
       "Signif. codes:  0 ‘***’ 0.001 ‘**’ 0.01 ‘*’ 0.05 ‘.’ 0.1 ‘ ’ 1\n",
       "\n",
       "Residual standard error: 0.5517 on 88 degrees of freedom\n",
       "Multiple R-squared:  0.0005484,\tAdjusted R-squared:  -0.01081 \n",
       "F-statistic: 0.04828 on 1 and 88 DF,  p-value: 0.8266\n"
      ]
     },
     "metadata": {},
     "output_type": "display_data"
    },
    {
     "data": {
      "text/html": [
       "'Model: log(crmrte) ~ log(avgsen)'"
      ],
      "text/latex": [
       "'Model: log(crmrte) \\textasciitilde{} log(avgsen)'"
      ],
      "text/markdown": [
       "'Model: log(crmrte) ~ log(avgsen)'"
      ],
      "text/plain": [
       "[1] \"Model: log(crmrte) ~ log(avgsen)\""
      ]
     },
     "metadata": {},
     "output_type": "display_data"
    },
    {
     "data": {
      "text/html": [
       "'Slope: 0.0458334754613948'"
      ],
      "text/latex": [
       "'Slope: 0.0458334754613948'"
      ],
      "text/markdown": [
       "'Slope: 0.0458334754613948'"
      ],
      "text/plain": [
       "[1] \"Slope: 0.0458334754613948\""
      ]
     },
     "metadata": {},
     "output_type": "display_data"
    },
    {
     "data": {
      "text/html": [
       "'Intercept: -3.64400147389396'"
      ],
      "text/latex": [
       "'Intercept: -3.64400147389396'"
      ],
      "text/markdown": [
       "'Intercept: -3.64400147389396'"
      ],
      "text/plain": [
       "[1] \"Intercept: -3.64400147389396\""
      ]
     },
     "metadata": {},
     "output_type": "display_data"
    },
    {
     "data": {
      "text/html": [
       "'R-squared: 0'"
      ],
      "text/latex": [
       "'R-squared: 0'"
      ],
      "text/markdown": [
       "'R-squared: 0'"
      ],
      "text/plain": [
       "[1] \"R-squared: 0\""
      ]
     },
     "metadata": {},
     "output_type": "display_data"
    },
    {
     "data": {
      "text/html": [
       "'Adjusted R-squared: -0.01'"
      ],
      "text/latex": [
       "'Adjusted R-squared: -0.01'"
      ],
      "text/markdown": [
       "'Adjusted R-squared: -0.01'"
      ],
      "text/plain": [
       "[1] \"Adjusted R-squared: -0.01\""
      ]
     },
     "metadata": {},
     "output_type": "display_data"
    },
    {
     "data": {
      "text/html": [
       "'Akaike Information Criterion: 152'"
      ],
      "text/latex": [
       "'Akaike Information Criterion: 152'"
      ],
      "text/markdown": [
       "'Akaike Information Criterion: 152'"
      ],
      "text/plain": [
       "[1] \"Akaike Information Criterion: 152\""
      ]
     },
     "metadata": {},
     "output_type": "display_data"
    },
    {
     "data": {
      "text/html": [
       "'###############################'"
      ],
      "text/latex": [
       "'\\#\\#\\#\\#\\#\\#\\#\\#\\#\\#\\#\\#\\#\\#\\#\\#\\#\\#\\#\\#\\#\\#\\#\\#\\#\\#\\#\\#\\#\\#\\#'"
      ],
      "text/markdown": [
       "'###############################'"
      ],
      "text/plain": [
       "[1] \"###############################\""
      ]
     },
     "metadata": {},
     "output_type": "display_data"
    },
    {
     "data": {
      "text/html": [
       "'*******************************'"
      ],
      "text/latex": [
       "'*******************************'"
      ],
      "text/markdown": [
       "'*******************************'"
      ],
      "text/plain": [
       "[1] \"*******************************\""
      ]
     },
     "metadata": {},
     "output_type": "display_data"
    },
    {
     "data": {
      "text/plain": [
       "\n",
       "Call:\n",
       "lm(formula = crmrte ~ log(polpc), data = clean)\n",
       "\n",
       "Residuals:\n",
       "      Min        1Q    Median        3Q       Max \n",
       "-0.062393 -0.009423 -0.002237  0.006638  0.058523 \n",
       "\n",
       "Coefficients:\n",
       "            Estimate Std. Error t value Pr(>|t|)    \n",
       "(Intercept) 0.160239   0.032065   4.997 2.93e-06 ***\n",
       "log(polpc)  0.019622   0.004957   3.959 0.000152 ***\n",
       "---\n",
       "Signif. codes:  0 ‘***’ 0.001 ‘**’ 0.01 ‘*’ 0.05 ‘.’ 0.1 ‘ ’ 1\n",
       "\n",
       "Residual standard error: 0.0175 on 88 degrees of freedom\n",
       "Multiple R-squared:  0.1512,\tAdjusted R-squared:  0.1415 \n",
       "F-statistic: 15.67 on 1 and 88 DF,  p-value: 0.0001524\n"
      ]
     },
     "metadata": {},
     "output_type": "display_data"
    },
    {
     "data": {
      "text/html": [
       "'Model: crmrte ~ log(polpc)'"
      ],
      "text/latex": [
       "'Model: crmrte \\textasciitilde{} log(polpc)'"
      ],
      "text/markdown": [
       "'Model: crmrte ~ log(polpc)'"
      ],
      "text/plain": [
       "[1] \"Model: crmrte ~ log(polpc)\""
      ]
     },
     "metadata": {},
     "output_type": "display_data"
    },
    {
     "data": {
      "text/html": [
       "'Slope: 0.0196221228602599'"
      ],
      "text/latex": [
       "'Slope: 0.0196221228602599'"
      ],
      "text/markdown": [
       "'Slope: 0.0196221228602599'"
      ],
      "text/plain": [
       "[1] \"Slope: 0.0196221228602599\""
      ]
     },
     "metadata": {},
     "output_type": "display_data"
    },
    {
     "data": {
      "text/html": [
       "'Intercept: 0.160239207235449'"
      ],
      "text/latex": [
       "'Intercept: 0.160239207235449'"
      ],
      "text/markdown": [
       "'Intercept: 0.160239207235449'"
      ],
      "text/plain": [
       "[1] \"Intercept: 0.160239207235449\""
      ]
     },
     "metadata": {},
     "output_type": "display_data"
    },
    {
     "data": {
      "text/html": [
       "'R-squared: 0.15'"
      ],
      "text/latex": [
       "'R-squared: 0.15'"
      ],
      "text/markdown": [
       "'R-squared: 0.15'"
      ],
      "text/plain": [
       "[1] \"R-squared: 0.15\""
      ]
     },
     "metadata": {},
     "output_type": "display_data"
    },
    {
     "data": {
      "text/html": [
       "'Adjusted R-squared: 0.14'"
      ],
      "text/latex": [
       "'Adjusted R-squared: 0.14'"
      ],
      "text/markdown": [
       "'Adjusted R-squared: 0.14'"
      ],
      "text/plain": [
       "[1] \"Adjusted R-squared: 0.14\""
      ]
     },
     "metadata": {},
     "output_type": "display_data"
    },
    {
     "data": {
      "text/html": [
       "'Akaike Information Criterion: -469'"
      ],
      "text/latex": [
       "'Akaike Information Criterion: -469'"
      ],
      "text/markdown": [
       "'Akaike Information Criterion: -469'"
      ],
      "text/plain": [
       "[1] \"Akaike Information Criterion: -469\""
      ]
     },
     "metadata": {},
     "output_type": "display_data"
    },
    {
     "data": {
      "text/html": [
       "'###############################'"
      ],
      "text/latex": [
       "'\\#\\#\\#\\#\\#\\#\\#\\#\\#\\#\\#\\#\\#\\#\\#\\#\\#\\#\\#\\#\\#\\#\\#\\#\\#\\#\\#\\#\\#\\#\\#'"
      ],
      "text/markdown": [
       "'###############################'"
      ],
      "text/plain": [
       "[1] \"###############################\""
      ]
     },
     "metadata": {},
     "output_type": "display_data"
    }
   ],
   "source": [
    "model2 <- lm(log(crmrte) ~ density, data=clean)\n",
    "summary(model2)\n",
    "paste(\"Model:\", summary(model2)$call[2])\n",
    "paste(\"Slope:\", model2$coef[2])\n",
    "paste(\"Intercept:\", model2$coef[1])\n",
    "paste(\"R-squared:\", round(summary(model2)$r.squared, 2))\n",
    "paste(\"Adjusted R-squared:\", round(summary(model2)$adj.r.squared, 2))\n",
    "paste(\"Akaike Information Criterion:\", round(AIC(model2), 0))\n",
    "paste(\"###############################\")\n",
    "\n",
    "model2 <- lm(log(crmrte) ~ polpc, data=clean)\n",
    "summary(model2)\n",
    "paste(\"Model:\", summary(model2)$call[2])\n",
    "paste(\"Slope:\", model2$coef[2])\n",
    "paste(\"Intercept:\", model2$coef[1])\n",
    "paste(\"R-squared:\", round(summary(model2)$r.squared, 2))\n",
    "paste(\"Adjusted R-squared:\", round(summary(model2)$adj.r.squared, 2))\n",
    "paste(\"Akaike Information Criterion:\", round(AIC(model2), 0))\n",
    "paste(\"###############################\")\n",
    "paste(\"*******************************\")\n",
    "\n",
    "model2 <- lm(log(crmrte) ~ log(density), data=clean)\n",
    "summary(model2)\n",
    "paste(\"Model:\", summary(model2)$call[2])\n",
    "paste(\"Slope:\", model2$coef[2])\n",
    "paste(\"Intercept:\", model2$coef[1])\n",
    "paste(\"R-squared:\", round(summary(model2)$r.squared, 2))\n",
    "paste(\"Adjusted R-squared:\", round(summary(model2)$adj.r.squared, 2))\n",
    "paste(\"Akaike Information Criterion:\", round(AIC(model2), 0))\n",
    "paste(\"###############################\")\n",
    "\n",
    "model2 <- lm(log(crmrte) ~ log(polpc), data=clean)\n",
    "summary(model2)\n",
    "paste(\"Model:\", summary(model2)$call[2])\n",
    "paste(\"Slope:\", model2$coef[2])\n",
    "paste(\"Intercept:\", model2$coef[1])\n",
    "paste(\"R-squared:\", round(summary(model2)$r.squared, 2))\n",
    "paste(\"Adjusted R-squared:\", round(summary(model2)$adj.r.squared, 2))\n",
    "paste(\"Akaike Information Criterion:\", round(AIC(model2), 0))\n",
    "paste(\"###############################\")\n",
    "\n",
    "model2 <- lm(log(crmrte) ~ log(avgsen), data=clean)\n",
    "summary(model2)\n",
    "paste(\"Model:\", summary(model2)$call[2])\n",
    "paste(\"Slope:\", model2$coef[2])\n",
    "paste(\"Intercept:\", model2$coef[1])\n",
    "paste(\"R-squared:\", round(summary(model2)$r.squared, 2))\n",
    "paste(\"Adjusted R-squared:\", round(summary(model2)$adj.r.squared, 2))\n",
    "paste(\"Akaike Information Criterion:\", round(AIC(model2), 0))\n",
    "paste(\"###############################\")\n",
    "paste(\"*******************************\")\n",
    "\n",
    "model2 <- lm(crmrte ~ log(polpc), data=clean)\n",
    "summary(model2)\n",
    "paste(\"Model:\", summary(model2)$call[2])\n",
    "paste(\"Slope:\", model2$coef[2])\n",
    "paste(\"Intercept:\", model2$coef[1])\n",
    "paste(\"R-squared:\", round(summary(model2)$r.squared, 2))\n",
    "paste(\"Adjusted R-squared:\", round(summary(model2)$adj.r.squared, 2))\n",
    "paste(\"Akaike Information Criterion:\", round(AIC(model2), 0))\n",
    "paste(\"###############################\")\n"
   ]
  },
  {
   "cell_type": "code",
   "execution_count": 16,
   "metadata": {
    "scrolled": true
   },
   "outputs": [
    {
     "data": {
      "image/png": "[encoded data removed]",
      "text/plain": [
       "plot without title"
      ]
     },
     "metadata": {},
     "output_type": "display_data"
    },
    {
     "data": {
      "image/png": "[encoded data removed]",
      "text/plain": [
       "plot without title"
      ]
     },
     "metadata": {},
     "output_type": "display_data"
    }
   ],
   "source": [
    "plot(clean$polpc, log(clean$crmrte))\n",
    "plot(log(clean$polpc), log(clean$crmrte))"
   ]
  },
  {
   "cell_type": "code",
   "execution_count": 17,
   "metadata": {
    "scrolled": true
   },
   "outputs": [
    {
     "data": {
      "text/plain": [
       "\n",
       "Call:\n",
       "lm(formula = log(clean$crmrte) ~ first + second)\n",
       "\n",
       "Residuals:\n",
       "     Min       1Q   Median       3Q      Max \n",
       "-1.31006 -0.29228 -0.02626  0.28185  1.29382 \n",
       "\n",
       "Coefficients:\n",
       "            Estimate Std. Error t value Pr(>|t|)    \n",
       "(Intercept) -4.06266    0.08845 -45.930  < 2e-16 ***\n",
       "first        0.46900    0.08638   5.429 5.05e-07 ***\n",
       "second      -0.03503    0.01187  -2.952  0.00405 ** \n",
       "---\n",
       "Signif. codes:  0 ‘***’ 0.001 ‘**’ 0.01 ‘*’ 0.05 ‘.’ 0.1 ‘ ’ 1\n",
       "\n",
       "Residual standard error: 0.4096 on 87 degrees of freedom\n",
       "Multiple R-squared:  0.4553,\tAdjusted R-squared:  0.4428 \n",
       "F-statistic: 36.36 on 2 and 87 DF,  p-value: 3.336e-12\n"
      ]
     },
     "metadata": {},
     "output_type": "display_data"
    },
    {
     "data": {
      "text/html": [
       "'Akaike Information Criterion: 100'"
      ],
      "text/latex": [
       "'Akaike Information Criterion: 100'"
      ],
      "text/markdown": [
       "'Akaike Information Criterion: 100'"
      ],
      "text/plain": [
       "[1] \"Akaike Information Criterion: 100\""
      ]
     },
     "metadata": {},
     "output_type": "display_data"
    },
    {
     "data": {
      "text/html": [
       "'Adjusted R-squared: 0.44'"
      ],
      "text/latex": [
       "'Adjusted R-squared: 0.44'"
      ],
      "text/markdown": [
       "'Adjusted R-squared: 0.44'"
      ],
      "text/plain": [
       "[1] \"Adjusted R-squared: 0.44\""
      ]
     },
     "metadata": {},
     "output_type": "display_data"
    },
    {
     "data": {
      "image/png": "[encoded data removed]",
      "text/plain": [
       "plot without title"
      ]
     },
     "metadata": {},
     "output_type": "display_data"
    }
   ],
   "source": [
    "# plot(clean$density, clean$crmrte)\n",
    "# plot(clean$density, log(clean$crmrte))\n",
    "# plot(clean$density, log(clean$crmrte)+(log(clean$crmrte)^2))\n",
    "# plot(log(clean$density), log(clean$crmrte))\n",
    "\n",
    "first <- clean$density\n",
    "second <- (clean$density)^2\n",
    "\n",
    "# model <- lm(log(clean$crmrte) ~ log(clean$density))\n",
    "# summary(model)\n",
    "# plot(log(clean$density), log(clean$crmrte))\n",
    "# abline(model)\n",
    "\n",
    "# model <- lm(log(clean$crmrte) ~ clean$density)\n",
    "# summary(model)\n",
    "# plot(clean$density, log(clean$crmrte))\n",
    "# abline(model)\n",
    "\n",
    "# model <- lm(clean$crmrte ~ clean$density + (clean$density)^2)\n",
    "# summary(model)\n",
    "# plot(clean$density + (clean$density)^2, clean$crmrte)\n",
    "# abline(model)\n",
    "\n",
    "\n",
    "\n",
    "model <- lm(log(clean$crmrte) ~ first + second)\n",
    "summary(model)\n",
    "paste(\"Akaike Information Criterion:\", round(AIC(model), 0))\n",
    "paste(\"Adjusted R-squared:\", round(summary(model)$adj.r.squared, 2))\n",
    "\n",
    "\n",
    "densityvalues <- seq(0, 10, 0.1)\n",
    "predictedvalues <- predict(model, list(first=densityvalues, second=densityvalues^2))\n",
    "plot(clean$density, log(clean$crmrte))\n",
    "lines(densityvalues, predictedvalues, col=\"darkgreen\", lwd=3)"
   ]
  },
  {
   "cell_type": "code",
   "execution_count": 22,
   "metadata": {
    "collapsed": true
   },
   "outputs": [
    {
     "data": {
      "text/plain": [
       "\n",
       "Call:\n",
       "lm(formula = log(crmrte) ~ log(prbarr) + log(prbconv) + log(prbpris), \n",
       "    data = clean)\n",
       "\n",
       "Residuals:\n",
       "     Min       1Q   Median       3Q      Max \n",
       "-1.38771 -0.19140  0.07721  0.28329  0.87102 \n",
       "\n",
       "Coefficients:\n",
       "             Estimate Std. Error t value Pr(>|t|)    \n",
       "(Intercept)  -4.70768    0.26096 -18.040  < 2e-16 ***\n",
       "log(prbarr)  -0.72380    0.11479  -6.305 1.19e-08 ***\n",
       "log(prbconv) -0.47199    0.08272  -5.706 1.61e-07 ***\n",
       "log(prbpris)  0.14773    0.20392   0.724    0.471    \n",
       "---\n",
       "Signif. codes:  0 ‘***’ 0.001 ‘**’ 0.01 ‘*’ 0.05 ‘.’ 0.1 ‘ ’ 1\n",
       "\n",
       "Residual standard error: 0.4271 on 86 degrees of freedom\n",
       "Multiple R-squared:  0.4147,\tAdjusted R-squared:  0.3943 \n",
       "F-statistic: 20.31 on 3 and 86 DF,  p-value: 4.84e-10\n"
      ]
     },
     "metadata": {},
     "output_type": "display_data"
    },
    {
     "data": {
      "text/html": [
       "'Akaike Information Criterion: 108'"
      ],
      "text/latex": [
       "'Akaike Information Criterion: 108'"
      ],
      "text/markdown": [
       "'Akaike Information Criterion: 108'"
      ],
      "text/plain": [
       "[1] \"Akaike Information Criterion: 108\""
      ]
     },
     "metadata": {},
     "output_type": "display_data"
    },
    {
     "data": {
      "text/html": [
       "'###############################'"
      ],
      "text/latex": [
       "'\\#\\#\\#\\#\\#\\#\\#\\#\\#\\#\\#\\#\\#\\#\\#\\#\\#\\#\\#\\#\\#\\#\\#\\#\\#\\#\\#\\#\\#\\#\\#'"
      ],
      "text/markdown": [
       "'###############################'"
      ],
      "text/plain": [
       "[1] \"###############################\""
      ]
     },
     "metadata": {},
     "output_type": "display_data"
    },
    {
     "data": {
      "text/plain": [
       "\n",
       "Call:\n",
       "lm(formula = log(crmrte) ~ log(prbarr) + log(prbconv) + log(prbpris) + \n",
       "    log(density), data = clean)\n",
       "\n",
       "Residuals:\n",
       "     Min       1Q   Median       3Q      Max \n",
       "-1.19094 -0.22421  0.05617  0.25474  0.80643 \n",
       "\n",
       "Coefficients:\n",
       "             Estimate Std. Error t value Pr(>|t|)    \n",
       "(Intercept)  -4.74502    0.24223 -19.589  < 2e-16 ***\n",
       "log(prbarr)  -0.54170    0.11641  -4.654 1.19e-05 ***\n",
       "log(prbconv) -0.41846    0.07796  -5.368 6.81e-07 ***\n",
       "log(prbpris) -0.21135    0.21068  -1.003 0.318619    \n",
       "log(density)  0.14271    0.03688   3.869 0.000213 ***\n",
       "---\n",
       "Signif. codes:  0 ‘***’ 0.001 ‘**’ 0.01 ‘*’ 0.05 ‘.’ 0.1 ‘ ’ 1\n",
       "\n",
       "Residual standard error: 0.3961 on 85 degrees of freedom\n",
       "Multiple R-squared:  0.5024,\tAdjusted R-squared:  0.479 \n",
       "F-statistic: 21.45 on 4 and 85 DF,  p-value: 2.933e-12\n"
      ]
     },
     "metadata": {},
     "output_type": "display_data"
    },
    {
     "data": {
      "text/html": [
       "'Akaike Information Criterion: 96'"
      ],
      "text/latex": [
       "'Akaike Information Criterion: 96'"
      ],
      "text/markdown": [
       "'Akaike Information Criterion: 96'"
      ],
      "text/plain": [
       "[1] \"Akaike Information Criterion: 96\""
      ]
     },
     "metadata": {},
     "output_type": "display_data"
    },
    {
     "data": {
      "text/html": [
       "'###############################'"
      ],
      "text/latex": [
       "'\\#\\#\\#\\#\\#\\#\\#\\#\\#\\#\\#\\#\\#\\#\\#\\#\\#\\#\\#\\#\\#\\#\\#\\#\\#\\#\\#\\#\\#\\#\\#'"
      ],
      "text/markdown": [
       "'###############################'"
      ],
      "text/plain": [
       "[1] \"###############################\""
      ]
     },
     "metadata": {},
     "output_type": "display_data"
    },
    {
     "data": {
      "text/plain": [
       "\n",
       "Call:\n",
       "lm(formula = log(crmrte) ~ log(prbarr) + log(prbconv) + log(prbpris) + \n",
       "    density + I(density^2), data = clean)\n",
       "\n",
       "Residuals:\n",
       "     Min       1Q   Median       3Q      Max \n",
       "-0.91580 -0.20483 -0.01127  0.24672  0.87197 \n",
       "\n",
       "Coefficients:\n",
       "             Estimate Std. Error t value Pr(>|t|)    \n",
       "(Intercept)  -4.70403    0.22542 -20.868  < 2e-16 ***\n",
       "log(prbarr)  -0.44202    0.10894  -4.058 0.000111 ***\n",
       "log(prbconv) -0.32055    0.07507  -4.270 5.12e-05 ***\n",
       "log(prbpris)  0.02835    0.17497   0.162 0.871664    \n",
       "density       0.33352    0.08163   4.086 1.00e-04 ***\n",
       "I(density^2) -0.02515    0.01074  -2.341 0.021622 *  \n",
       "---\n",
       "Signif. codes:  0 ‘***’ 0.001 ‘**’ 0.01 ‘*’ 0.05 ‘.’ 0.1 ‘ ’ 1\n",
       "\n",
       "Residual standard error: 0.3638 on 84 degrees of freedom\n",
       "Multiple R-squared:  0.5851,\tAdjusted R-squared:  0.5604 \n",
       "F-statistic: 23.69 on 5 and 84 DF,  p-value: 8.828e-15\n"
      ]
     },
     "metadata": {},
     "output_type": "display_data"
    },
    {
     "data": {
      "text/html": [
       "'Akaike Information Criterion: 81'"
      ],
      "text/latex": [
       "'Akaike Information Criterion: 81'"
      ],
      "text/markdown": [
       "'Akaike Information Criterion: 81'"
      ],
      "text/plain": [
       "[1] \"Akaike Information Criterion: 81\""
      ]
     },
     "metadata": {},
     "output_type": "display_data"
    },
    {
     "data": {
      "text/html": [
       "'###############################'"
      ],
      "text/latex": [
       "'\\#\\#\\#\\#\\#\\#\\#\\#\\#\\#\\#\\#\\#\\#\\#\\#\\#\\#\\#\\#\\#\\#\\#\\#\\#\\#\\#\\#\\#\\#\\#'"
      ],
      "text/markdown": [
       "'###############################'"
      ],
      "text/plain": [
       "[1] \"###############################\""
      ]
     },
     "metadata": {},
     "output_type": "display_data"
    },
    {
     "data": {
      "text/html": [
       "<strong>(Intercept):</strong> -4.7040328045519"
      ],
      "text/latex": [
       "\\textbf{(Intercept):} -4.7040328045519"
      ],
      "text/markdown": [
       "**(Intercept):** -4.7040328045519"
      ],
      "text/plain": [
       "(Intercept) \n",
       "  -4.704033 "
      ]
     },
     "metadata": {},
     "output_type": "display_data"
    },
    {
     "data": {
      "text/html": [
       "<strong>density:</strong> 0.333515449137549"
      ],
      "text/latex": [
       "\\textbf{density:} 0.333515449137549"
      ],
      "text/markdown": [
       "**density:** 0.333515449137549"
      ],
      "text/plain": [
       "  density \n",
       "0.3335154 "
      ]
     },
     "metadata": {},
     "output_type": "display_data"
    },
    {
     "data": {
      "text/plain": [
       "\n",
       "Call:\n",
       "lm(formula = log(crmrte) ~ log(prbarr) + log(prbconv) + log(prbpris) + \n",
       "    density + I(density^2) + log(polpc), data = clean)\n",
       "\n",
       "Residuals:\n",
       "     Min       1Q   Median       3Q      Max \n",
       "-0.94783 -0.24367 -0.00679  0.25451  0.70666 \n",
       "\n",
       "Coefficients:\n",
       "             Estimate Std. Error t value Pr(>|t|)    \n",
       "(Intercept)  -3.56272    0.75063  -4.746 8.54e-06 ***\n",
       "log(prbarr)  -0.47510    0.10994  -4.322 4.27e-05 ***\n",
       "log(prbconv) -0.32054    0.07440  -4.308 4.49e-05 ***\n",
       "log(prbpris)  0.04345    0.17366   0.250 0.803048    \n",
       "density       0.30523    0.08282   3.685 0.000406 ***\n",
       "I(density^2) -0.02355    0.01069  -2.202 0.030442 *  \n",
       "log(polpc)    0.17605    0.11054   1.593 0.115043    \n",
       "---\n",
       "Signif. codes:  0 ‘***’ 0.001 ‘**’ 0.01 ‘*’ 0.05 ‘.’ 0.1 ‘ ’ 1\n",
       "\n",
       "Residual standard error: 0.3605 on 83 degrees of freedom\n",
       "Multiple R-squared:  0.5974,\tAdjusted R-squared:  0.5683 \n",
       "F-statistic: 20.53 on 6 and 83 DF,  p-value: 1.363e-14\n"
      ]
     },
     "metadata": {},
     "output_type": "display_data"
    },
    {
     "data": {
      "text/html": [
       "'Akaike Information Criterion: 80'"
      ],
      "text/latex": [
       "'Akaike Information Criterion: 80'"
      ],
      "text/markdown": [
       "'Akaike Information Criterion: 80'"
      ],
      "text/plain": [
       "[1] \"Akaike Information Criterion: 80\""
      ]
     },
     "metadata": {},
     "output_type": "display_data"
    },
    {
     "data": {
      "text/html": [
       "'###############################'"
      ],
      "text/latex": [
       "'\\#\\#\\#\\#\\#\\#\\#\\#\\#\\#\\#\\#\\#\\#\\#\\#\\#\\#\\#\\#\\#\\#\\#\\#\\#\\#\\#\\#\\#\\#\\#'"
      ],
      "text/markdown": [
       "'###############################'"
      ],
      "text/plain": [
       "[1] \"###############################\""
      ]
     },
     "metadata": {},
     "output_type": "display_data"
    },
    {
     "data": {
      "image/png": "[encoded data removed]",
      "text/plain": [
       "Plot with title “”"
      ]
     },
     "metadata": {},
     "output_type": "display_data"
    },
    {
     "data": {
      "image/png": "[encoded data removed]",
      "text/plain": [
       "Plot with title “”"
      ]
     },
     "metadata": {},
     "output_type": "display_data"
    },
    {
     "data": {
      "image/png": "[encoded data removed]",
      "text/plain": [
       "Plot with title “”"
      ]
     },
     "metadata": {},
     "output_type": "display_data"
    },
    {
     "data": {
      "image/png": "[encoded data removed]",
      "text/plain": [
       "Plot with title “”"
      ]
     },
     "metadata": {},
     "output_type": "display_data"
    }
   ],
   "source": [
    "first <- clean$density\n",
    "second <- (clean$density)^2\n",
    "\n",
    "model1 <- lm(log(crmrte) ~ log(prbarr) + log(prbconv) + log(prbpris), \n",
    "             data=clean)\n",
    "summary(model1)\n",
    "# paste(\"Model:\", summary(model1)$call[2])\n",
    "# paste(\"Slope (log(prbarr)):\", model1$coef[2])\n",
    "# paste(\"Slope (log(prbconv)):\", model1$coef[3])\n",
    "# paste(\"Slope (log(prbpris)):\", model1$coef[4])\n",
    "# paste(\"Intercept:\", model1$coef[1])\n",
    "# paste(\"R-squared:\", round(summary(model1)$r.squared, 2))\n",
    "# paste(\"Adjusted R-squared:\", round(summary(model1)$adj.r.squared, 2))\n",
    "paste(\"Akaike Information Criterion:\", round(AIC(model1), 0))\n",
    "paste(\"###############################\")\n",
    "\n",
    "model21 <- lm(log(crmrte) ~ log(prbarr) + log(prbconv) + log(prbpris)\n",
    "             + log(density), data=clean)\n",
    "summary(model21)\n",
    "# paste(\"Model:\", summary(model21)$call[2])\n",
    "# paste(\"Slope (log(prbarr)):\", model21$coef[2])\n",
    "# paste(\"Slope (log(prbconv)):\", model21$coef[3])\n",
    "# paste(\"Slope (log(prbpris)):\", model21$coef[4])\n",
    "# paste(\"Intercept:\", model21$coef[1])\n",
    "# paste(\"R-squared:\", round(summary(model21)$r.squared, 2))\n",
    "# paste(\"Adjusted R-squared:\", round(summary(model21)$adj.r.squared, 2))\n",
    "paste(\"Akaike Information Criterion:\", round(AIC(model21), 0))\n",
    "paste(\"###############################\")\n",
    "\n",
    "model22 <- lm(log(crmrte) ~ log(prbarr) + log(prbconv) + log(prbpris)\n",
    "             + density + I(density^2), data=clean)\n",
    "summary(model22)\n",
    "# paste(\"Model:\", summary(model22$call[2])\n",
    "# paste(\"Slope (log(prbarr)):\", model22$coef[2])\n",
    "# paste(\"Slope (log(prbconv)):\", model22$coef[3])\n",
    "# paste(\"Slope (log(prbpris)):\", model22$coef[4])\n",
    "# paste(\"Intercept:\", model22$coef[1])\n",
    "# paste(\"R-squared:\", round(summary(model22)$r.squared, 2))\n",
    "# paste(\"Adjusted R-squared:\", round(summary(model22)$adj.r.squared, 2))\n",
    "paste(\"Akaike Information Criterion:\", round(AIC(model22), 0))\n",
    "paste(\"###############################\")\n",
    "model22$coef[1]\n",
    "model22$coef[5]\n",
    "\n",
    "model23 <- lm(log(crmrte) ~ log(prbarr) + log(prbconv) + log(prbpris)\n",
    "             + density + I(density^2) + log(polpc), data=clean)\n",
    "summary(model23)\n",
    "# paste(\"Model:\", summary(model22$call[2])\n",
    "# paste(\"Slope (log(prbarr)):\", model22$coef[2])\n",
    "# paste(\"Slope (log(prbconv)):\", model22$coef[3])\n",
    "# paste(\"Slope (log(prbpris)):\", model22$coef[4])\n",
    "# paste(\"Intercept:\", model22$coef[1])\n",
    "# paste(\"R-squared:\", round(summary(model22)$r.squared, 2))\n",
    "# paste(\"Adjusted R-squared:\", round(summary(model22)$adj.r.squared, 2))\n",
    "paste(\"Akaike Information Criterion:\", round(AIC(model23), 0))\n",
    "paste(\"###############################\")\n",
    "\n",
    "plot(model23)"
   ]
  },
  {
   "cell_type": "markdown",
   "metadata": {},
   "source": [
    "## Model 3: Everything Else\n",
    "\n",
    "Finally, we tested the robustness of our base model coefficients to pertubations in model specification. To do so, we added untransformed regressors that correspond to every variable remaining in the dataset that we did not specifically address in model 2, with the exception of $year$ and $county$. (For the sake of being concise, we do not provide the full specification within the text below, but we refer the reader to the table above that contains coefficients for all three models.) \n",
    "\n",
    "Of the key variables we considered, $log{prbpris}$ appears to be sensitive to model specification, whereas $log{prbarr}$ and $log{prbconv}$ appear to be relatively robust. Relative to the value we calculated in model 1, the value of $\\beta_\\log{prbpris}$ goes from being positive to being negative; it is also relatively close to zero. We interpret these results to mean that $log{prbpris}$ is not a meaningful predictor of $crmrte$. In contrast, $\\beta_\\log{prbarr}$ and $\\beta_\\log{prbconv}$ are relatively unaltered from our original model specification; in fact, their absolute values are only reduced by 31% and 41%, respectively. This is roughly the same magnitude change for each coefficient that we observed in model 2; furthermore, we previously judged that at these levels, these coefficients were of practical significance. In total, we interpret these results to mean that $\\beta_\\log{prbarr}$ and $\\beta_\\log{prbconv}$ are robust to model specification.\n",
    "\n",
    "With respect to the question at hand, these results reinforce the conclusions have already drawn about our three key variables. Namely, that "
   ]
  },
  {
   "cell_type": "code",
   "execution_count": 34,
   "metadata": {
    "collapsed": true
   },
   "outputs": [
    {
     "data": {
      "text/plain": [
       "\n",
       "Call:\n",
       "lm(formula = log(crmrte) ~ log(prbarr) + log(prbconv) + log(prbpris) + \n",
       "    density + I(density^2) + log(polpc) + taxpc + west + central + \n",
       "    urban + pctmin80 + wcon + wtuc + wfir + wser + wmfg + wfed + \n",
       "    wsta + wloc + mix + pctymle, data = clean)\n",
       "\n",
       "Residuals:\n",
       "     Min       1Q   Median       3Q      Max \n",
       "-0.68657 -0.10943  0.03564  0.12787  0.47157 \n",
       "\n",
       "Coefficients:\n",
       "               Estimate Std. Error t value Pr(>|t|)    \n",
       "(Intercept)  -4.992e+00  1.094e+00  -4.563 2.17e-05 ***\n",
       "log(prbarr)  -5.002e-01  9.107e-02  -5.493 6.39e-07 ***\n",
       "log(prbconv) -2.757e-01  6.587e-02  -4.185 8.37e-05 ***\n",
       "log(prbpris) -2.419e-02  1.297e-01  -0.187   0.8526    \n",
       "density       3.727e-01  8.285e-02   4.498 2.74e-05 ***\n",
       "I(density^2) -3.090e-02  9.209e-03  -3.355   0.0013 ** \n",
       "log(polpc)    1.283e-01  1.029e-01   1.247   0.2168    \n",
       "taxpc         7.716e-03  3.096e-03   2.492   0.0152 *  \n",
       "west         -3.259e-02  1.173e-01  -0.278   0.7821    \n",
       "central      -7.198e-02  8.294e-02  -0.868   0.3885    \n",
       "urban        -2.643e-01  1.841e-01  -1.436   0.1556    \n",
       "pctmin80      1.283e-02  2.825e-03   4.542 2.34e-05 ***\n",
       "wcon          7.574e-04  8.288e-04   0.914   0.3640    \n",
       "wtuc         -9.973e-05  4.439e-04  -0.225   0.8229    \n",
       "wfir         -1.217e-03  7.509e-04  -1.621   0.1096    \n",
       "wser         -4.424e-04  1.546e-04  -2.862   0.0056 ** \n",
       "wmfg         -2.336e-05  4.243e-04  -0.055   0.9563    \n",
       "wfed          1.958e-03  7.995e-04   2.449   0.0169 *  \n",
       "wsta         -1.051e-03  7.573e-04  -1.389   0.1695    \n",
       "wloc          3.480e-04  1.391e-03   0.250   0.8032    \n",
       "mix           1.037e-01  4.682e-01   0.221   0.8254    \n",
       "pctymle       1.945e+00  1.427e+00   1.363   0.1774    \n",
       "---\n",
       "Signif. codes:  0 ‘***’ 0.001 ‘**’ 0.01 ‘*’ 0.05 ‘.’ 0.1 ‘ ’ 1\n",
       "\n",
       "Residual standard error: 0.2527 on 68 degrees of freedom\n",
       "Multiple R-squared:  0.838,\tAdjusted R-squared:  0.788 \n",
       "F-statistic: 16.75 on 21 and 68 DF,  p-value: < 2.2e-16\n"
      ]
     },
     "metadata": {},
     "output_type": "display_data"
    },
    {
     "data": {
      "text/html": [
       "'Akaike Information Criterion: 29'"
      ],
      "text/latex": [
       "'Akaike Information Criterion: 29'"
      ],
      "text/markdown": [
       "'Akaike Information Criterion: 29'"
      ],
      "text/plain": [
       "[1] \"Akaike Information Criterion: 29\""
      ]
     },
     "metadata": {},
     "output_type": "display_data"
    },
    {
     "data": {
      "text/html": [
       "'###############################'"
      ],
      "text/latex": [
       "'\\#\\#\\#\\#\\#\\#\\#\\#\\#\\#\\#\\#\\#\\#\\#\\#\\#\\#\\#\\#\\#\\#\\#\\#\\#\\#\\#\\#\\#\\#\\#'"
      ],
      "text/markdown": [
       "'###############################'"
      ],
      "text/plain": [
       "[1] \"###############################\""
      ]
     },
     "metadata": {},
     "output_type": "display_data"
    }
   ],
   "source": [
    "model3 <- lm(log(crmrte) ~ log(prbarr) + log(prbconv) + log(prbpris)\n",
    "             + density + I(density^2) + log(polpc) + taxpc + west \n",
    "             + central + urban + pctmin80 + wcon + wtuc + wfir + wser\n",
    "             + wmfg + wfed + wsta + wloc + mix + pctymle, data=clean)\n",
    "summary(model3)\n",
    "# paste(\"Model:\", summary(model2)$call[2])\n",
    "# paste(\"Slope (log(prbarr)):\", model2$coef[2])\n",
    "# paste(\"Slope (log(prbconv)):\", model2$coef[3])\n",
    "# paste(\"Slope (log(prbpris)):\", model2$coef[4])\n",
    "# paste(\"Slope (density):\", model2$coef[5])\n",
    "# paste(\"Slope (density)^2:\", model2$coef[6])\n",
    "# paste(\"Slope (log(polpc)):\", model2$coef[7])\n",
    "# paste(\"Intercept:\", model2$coef[1])\n",
    "# paste(\"R-squared:\", round(summary(model2)$r.squared, 2))\n",
    "# paste(\"Adjusted R-squared:\", round(summary(model2)$adj.r.squared, 2))\n",
    "paste(\"Akaike Information Criterion:\", round(AIC(model3), 0))\n",
    "paste(\"###############################\")"
   ]
  },
  {
   "cell_type": "code",
   "execution_count": 33,
   "metadata": {},
   "outputs": [
    {
     "name": "stdout",
     "output_type": "stream",
     "text": [
      "\n",
      "Linear Models Predicting Crime Rate\n",
      "===================================\n",
      "              Dependent variable:  \n",
      "             ----------------------\n",
      "                  log(crmrte)      \n",
      "              (1)    (2)     (3)   \n",
      "-----------------------------------\n",
      "log(prbarr)  -0.724 -0.475  -0.500 \n",
      "                                   \n",
      "log(prbconv) -0.472 -0.321  -0.276 \n",
      "                                   \n",
      "log(prbpris) 0.148  0.043   -0.024 \n",
      "                                   \n",
      "density             0.305   0.373  \n",
      "                                   \n",
      "I(density2)         -0.024  -0.031 \n",
      "                                   \n",
      "log(polpc)          0.176   0.128  \n",
      "                                   \n",
      "taxpc                       0.008  \n",
      "                                   \n",
      "west                        -0.033 \n",
      "                                   \n",
      "central                     -0.072 \n",
      "                                   \n",
      "urban                       -0.264 \n",
      "                                   \n",
      "pctmin80                    0.013  \n",
      "                                   \n",
      "wcon                        0.001  \n",
      "                                   \n",
      "wtuc                       -0.0001 \n",
      "                                   \n",
      "wfir                        -0.001 \n",
      "                                   \n",
      "wser                       -0.0004 \n",
      "                                   \n",
      "wmfg                       -0.00002\n",
      "                                   \n",
      "wfed                        0.002  \n",
      "                                   \n",
      "wsta                        -0.001 \n",
      "                                   \n",
      "wloc                        0.0003 \n",
      "                                   \n",
      "mix                         0.104  \n",
      "                                   \n",
      "pctymle                     1.945  \n",
      "                                   \n",
      "Constant     -4.708 -3.563  -4.992 \n",
      "                                   \n",
      "-----------------------------------\n",
      "Observations   90     90      90   \n",
      "R2           0.415  0.597   0.838  \n",
      "===================================\n"
     ]
    }
   ],
   "source": [
    "stargazer(model1, model2, model3, type=\"text\",\n",
    "         report=\"vc\", title=\"Linear Models Predicting Crime Rate\",\n",
    "         keep.stat=c(\"rsq\", \"n\"),\n",
    "         omit.table.layout=\"n\")"
   ]
  },
  {
   "cell_type": "markdown",
   "metadata": {},
   "source": [
    "# Conclusions\n",
    "\n",
    "Our analysis sought to address if incarceration is associated in any discernable way with crime rate, employing $prbpris$ as a measurement of incarceration rates. We found that $prbpris$ does not correlate with $crmrte$ in any meaningful way; this suggests that within this dataset, incarceration rates do not correlate with crime rate. Put another way, an increasing probability of incarceration is not associated with higher or lower crime rates. Conversely, we found that increasing rates of arrest and conviction (measured by $prbarr$ and $prbconv$, respectively, are associated with lower crime rates. \n",
    "\n",
    "In total, these observations suggest that your campaign should: (i) explore cheaper alternatives to imprisonment as criminal penalties and (ii) test implementing measures that could increase arrest and conviction rates. In light of the fact that we cannot define a causal relationship between these variables, we recommend that you establish pilot programs in some counties that attempt to test some of these observations. If retrospective analyses indicate that the programs appear to have reduced crime rates (especially in comparison with similar counties that are not executing a similar pilot), then you can launch these initiatives statewide. Specifically, we recommend that you campaign on pilot policy prescriptions that are designed to (i) increase arrest rates, (ii) increase conviction rates, and (iii) offer alternatives to prison for offenders. For example, you might consider increasing funding to process evidence (e.g., rape kits, DNA tests) to crack cold cases and increase arrests, adding more prosecutorial staff to process more cases, or altering sentencing guidelines to disfavor prison (in some instances)."
   ]
  }
 ],
 "metadata": {
  "kernelspec": {
   "display_name": "R",
   "language": "R",
   "name": "ir"
  },
  "language_info": {
   "codemirror_mode": "r",
   "file_extension": ".r",
   "mimetype": "text/x-r-source",
   "name": "R",
   "pygments_lexer": "r",
   "version": "3.5.0"
  }
 },
 "nbformat": 4,
 "nbformat_minor": 2
}
